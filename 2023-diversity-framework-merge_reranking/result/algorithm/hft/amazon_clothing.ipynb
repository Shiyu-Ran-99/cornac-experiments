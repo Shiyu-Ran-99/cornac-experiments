{
 "cells": [
  {
   "cell_type": "code",
   "execution_count": 2,
   "metadata": {
    "collapsed": true
   },
   "outputs": [
    {
     "name": "stdout",
     "output_type": "stream",
     "text": [
      "FM model is only supported on Linux.\n",
      "Windows executable can be found at http://www.libfm.org.\n"
     ]
    }
   ],
   "source": [
    "import numpy as np\n",
    "import pandas as pd\n",
    "from scipy.stats import entropy\n",
    "import matplotlib.pyplot as plt\n",
    "import random\n",
    "\n",
    "import cornac\n",
    "from cornac.eval_methods import RatioSplit\n",
    "from cornac.data import TextModality\n",
    "from cornac.data.text import BaseTokenizer\n",
    "from cornac.models import CTR\n",
    "from cornac.data import Reader\n",
    "from cornac.metrics import MAE,RMSE,MSE,FMeasure,Precision,Recall,NDCG,NCRR,MRR,AUC,MAP"
   ]
  },
  {
   "cell_type": "code",
   "execution_count": 3,
   "outputs": [
    {
     "ename": "FileNotFoundError",
     "evalue": "File /Users/pigr/Desktop/cornac/cornac/dataset/amazon_clothing_category.json does not exist",
     "output_type": "error",
     "traceback": [
      "\u001B[0;31m---------------------------------------------------------------------------\u001B[0m",
      "\u001B[0;31mFileNotFoundError\u001B[0m                         Traceback (most recent call last)",
      "Cell \u001B[0;32mIn[3], line 1\u001B[0m\n\u001B[0;32m----> 1\u001B[0m amazon_clothing_category \u001B[38;5;241m=\u001B[39m \u001B[43mpd\u001B[49m\u001B[38;5;241;43m.\u001B[39;49m\u001B[43mread_json\u001B[49m\u001B[43m(\u001B[49m\u001B[38;5;124;43m'\u001B[39;49m\u001B[38;5;124;43m/Users/pigr/Desktop/cornac/cornac/dataset/amazon_clothing_category.json\u001B[39;49m\u001B[38;5;124;43m'\u001B[39;49m\u001B[43m,\u001B[49m\u001B[43m \u001B[49m\u001B[43mtyp\u001B[49m\u001B[38;5;241;43m=\u001B[39;49m\u001B[38;5;124;43m'\u001B[39;49m\u001B[38;5;124;43mseries\u001B[39;49m\u001B[38;5;124;43m'\u001B[39;49m\u001B[43m)\u001B[49m\n\u001B[1;32m      2\u001B[0m amazon_clothing_category \u001B[38;5;241m=\u001B[39m amazon_clothing_category\u001B[38;5;241m.\u001B[39mto_frame()\u001B[38;5;241m.\u001B[39mreset_index()\n\u001B[1;32m      3\u001B[0m amazon_clothing_category\u001B[38;5;241m.\u001B[39mcolumns \u001B[38;5;241m=\u001B[39m [\u001B[38;5;124m'\u001B[39m\u001B[38;5;124mitemId\u001B[39m\u001B[38;5;124m'\u001B[39m, \u001B[38;5;124m'\u001B[39m\u001B[38;5;124mcategory\u001B[39m\u001B[38;5;124m'\u001B[39m]\n",
      "File \u001B[0;32m~/cornac/lib/python3.10/site-packages/pandas/io/json/_json.py:760\u001B[0m, in \u001B[0;36mread_json\u001B[0;34m(path_or_buf, orient, typ, dtype, convert_axes, convert_dates, keep_default_dates, precise_float, date_unit, encoding, encoding_errors, lines, chunksize, compression, nrows, storage_options, dtype_backend, engine)\u001B[0m\n\u001B[1;32m    757\u001B[0m \u001B[38;5;28;01mif\u001B[39;00m convert_axes \u001B[38;5;129;01mis\u001B[39;00m \u001B[38;5;28;01mNone\u001B[39;00m \u001B[38;5;129;01mand\u001B[39;00m orient \u001B[38;5;241m!=\u001B[39m \u001B[38;5;124m\"\u001B[39m\u001B[38;5;124mtable\u001B[39m\u001B[38;5;124m\"\u001B[39m:\n\u001B[1;32m    758\u001B[0m     convert_axes \u001B[38;5;241m=\u001B[39m \u001B[38;5;28;01mTrue\u001B[39;00m\n\u001B[0;32m--> 760\u001B[0m json_reader \u001B[38;5;241m=\u001B[39m \u001B[43mJsonReader\u001B[49m\u001B[43m(\u001B[49m\n\u001B[1;32m    761\u001B[0m \u001B[43m    \u001B[49m\u001B[43mpath_or_buf\u001B[49m\u001B[43m,\u001B[49m\n\u001B[1;32m    762\u001B[0m \u001B[43m    \u001B[49m\u001B[43morient\u001B[49m\u001B[38;5;241;43m=\u001B[39;49m\u001B[43morient\u001B[49m\u001B[43m,\u001B[49m\n\u001B[1;32m    763\u001B[0m \u001B[43m    \u001B[49m\u001B[43mtyp\u001B[49m\u001B[38;5;241;43m=\u001B[39;49m\u001B[43mtyp\u001B[49m\u001B[43m,\u001B[49m\n\u001B[1;32m    764\u001B[0m \u001B[43m    \u001B[49m\u001B[43mdtype\u001B[49m\u001B[38;5;241;43m=\u001B[39;49m\u001B[43mdtype\u001B[49m\u001B[43m,\u001B[49m\n\u001B[1;32m    765\u001B[0m \u001B[43m    \u001B[49m\u001B[43mconvert_axes\u001B[49m\u001B[38;5;241;43m=\u001B[39;49m\u001B[43mconvert_axes\u001B[49m\u001B[43m,\u001B[49m\n\u001B[1;32m    766\u001B[0m \u001B[43m    \u001B[49m\u001B[43mconvert_dates\u001B[49m\u001B[38;5;241;43m=\u001B[39;49m\u001B[43mconvert_dates\u001B[49m\u001B[43m,\u001B[49m\n\u001B[1;32m    767\u001B[0m \u001B[43m    \u001B[49m\u001B[43mkeep_default_dates\u001B[49m\u001B[38;5;241;43m=\u001B[39;49m\u001B[43mkeep_default_dates\u001B[49m\u001B[43m,\u001B[49m\n\u001B[1;32m    768\u001B[0m \u001B[43m    \u001B[49m\u001B[43mprecise_float\u001B[49m\u001B[38;5;241;43m=\u001B[39;49m\u001B[43mprecise_float\u001B[49m\u001B[43m,\u001B[49m\n\u001B[1;32m    769\u001B[0m \u001B[43m    \u001B[49m\u001B[43mdate_unit\u001B[49m\u001B[38;5;241;43m=\u001B[39;49m\u001B[43mdate_unit\u001B[49m\u001B[43m,\u001B[49m\n\u001B[1;32m    770\u001B[0m \u001B[43m    \u001B[49m\u001B[43mencoding\u001B[49m\u001B[38;5;241;43m=\u001B[39;49m\u001B[43mencoding\u001B[49m\u001B[43m,\u001B[49m\n\u001B[1;32m    771\u001B[0m \u001B[43m    \u001B[49m\u001B[43mlines\u001B[49m\u001B[38;5;241;43m=\u001B[39;49m\u001B[43mlines\u001B[49m\u001B[43m,\u001B[49m\n\u001B[1;32m    772\u001B[0m \u001B[43m    \u001B[49m\u001B[43mchunksize\u001B[49m\u001B[38;5;241;43m=\u001B[39;49m\u001B[43mchunksize\u001B[49m\u001B[43m,\u001B[49m\n\u001B[1;32m    773\u001B[0m \u001B[43m    \u001B[49m\u001B[43mcompression\u001B[49m\u001B[38;5;241;43m=\u001B[39;49m\u001B[43mcompression\u001B[49m\u001B[43m,\u001B[49m\n\u001B[1;32m    774\u001B[0m \u001B[43m    \u001B[49m\u001B[43mnrows\u001B[49m\u001B[38;5;241;43m=\u001B[39;49m\u001B[43mnrows\u001B[49m\u001B[43m,\u001B[49m\n\u001B[1;32m    775\u001B[0m \u001B[43m    \u001B[49m\u001B[43mstorage_options\u001B[49m\u001B[38;5;241;43m=\u001B[39;49m\u001B[43mstorage_options\u001B[49m\u001B[43m,\u001B[49m\n\u001B[1;32m    776\u001B[0m \u001B[43m    \u001B[49m\u001B[43mencoding_errors\u001B[49m\u001B[38;5;241;43m=\u001B[39;49m\u001B[43mencoding_errors\u001B[49m\u001B[43m,\u001B[49m\n\u001B[1;32m    777\u001B[0m \u001B[43m    \u001B[49m\u001B[43mdtype_backend\u001B[49m\u001B[38;5;241;43m=\u001B[39;49m\u001B[43mdtype_backend\u001B[49m\u001B[43m,\u001B[49m\n\u001B[1;32m    778\u001B[0m \u001B[43m    \u001B[49m\u001B[43mengine\u001B[49m\u001B[38;5;241;43m=\u001B[39;49m\u001B[43mengine\u001B[49m\u001B[43m,\u001B[49m\n\u001B[1;32m    779\u001B[0m \u001B[43m\u001B[49m\u001B[43m)\u001B[49m\n\u001B[1;32m    781\u001B[0m \u001B[38;5;28;01mif\u001B[39;00m chunksize:\n\u001B[1;32m    782\u001B[0m     \u001B[38;5;28;01mreturn\u001B[39;00m json_reader\n",
      "File \u001B[0;32m~/cornac/lib/python3.10/site-packages/pandas/io/json/_json.py:861\u001B[0m, in \u001B[0;36mJsonReader.__init__\u001B[0;34m(self, filepath_or_buffer, orient, typ, dtype, convert_axes, convert_dates, keep_default_dates, precise_float, date_unit, encoding, lines, chunksize, compression, nrows, storage_options, encoding_errors, dtype_backend, engine)\u001B[0m\n\u001B[1;32m    859\u001B[0m     \u001B[38;5;28mself\u001B[39m\u001B[38;5;241m.\u001B[39mdata \u001B[38;5;241m=\u001B[39m filepath_or_buffer\n\u001B[1;32m    860\u001B[0m \u001B[38;5;28;01melif\u001B[39;00m \u001B[38;5;28mself\u001B[39m\u001B[38;5;241m.\u001B[39mengine \u001B[38;5;241m==\u001B[39m \u001B[38;5;124m\"\u001B[39m\u001B[38;5;124mujson\u001B[39m\u001B[38;5;124m\"\u001B[39m:\n\u001B[0;32m--> 861\u001B[0m     data \u001B[38;5;241m=\u001B[39m \u001B[38;5;28;43mself\u001B[39;49m\u001B[38;5;241;43m.\u001B[39;49m\u001B[43m_get_data_from_filepath\u001B[49m\u001B[43m(\u001B[49m\u001B[43mfilepath_or_buffer\u001B[49m\u001B[43m)\u001B[49m\n\u001B[1;32m    862\u001B[0m     \u001B[38;5;28mself\u001B[39m\u001B[38;5;241m.\u001B[39mdata \u001B[38;5;241m=\u001B[39m \u001B[38;5;28mself\u001B[39m\u001B[38;5;241m.\u001B[39m_preprocess_data(data)\n",
      "File \u001B[0;32m~/cornac/lib/python3.10/site-packages/pandas/io/json/_json.py:917\u001B[0m, in \u001B[0;36mJsonReader._get_data_from_filepath\u001B[0;34m(self, filepath_or_buffer)\u001B[0m\n\u001B[1;32m    909\u001B[0m     filepath_or_buffer \u001B[38;5;241m=\u001B[39m \u001B[38;5;28mself\u001B[39m\u001B[38;5;241m.\u001B[39mhandles\u001B[38;5;241m.\u001B[39mhandle\n\u001B[1;32m    910\u001B[0m \u001B[38;5;28;01melif\u001B[39;00m (\n\u001B[1;32m    911\u001B[0m     \u001B[38;5;28misinstance\u001B[39m(filepath_or_buffer, \u001B[38;5;28mstr\u001B[39m)\n\u001B[1;32m    912\u001B[0m     \u001B[38;5;129;01mand\u001B[39;00m filepath_or_buffer\u001B[38;5;241m.\u001B[39mlower()\u001B[38;5;241m.\u001B[39mendswith(\n\u001B[0;32m   (...)\u001B[0m\n\u001B[1;32m    915\u001B[0m     \u001B[38;5;129;01mand\u001B[39;00m \u001B[38;5;129;01mnot\u001B[39;00m file_exists(filepath_or_buffer)\n\u001B[1;32m    916\u001B[0m ):\n\u001B[0;32m--> 917\u001B[0m     \u001B[38;5;28;01mraise\u001B[39;00m \u001B[38;5;167;01mFileNotFoundError\u001B[39;00m(\u001B[38;5;124mf\u001B[39m\u001B[38;5;124m\"\u001B[39m\u001B[38;5;124mFile \u001B[39m\u001B[38;5;132;01m{\u001B[39;00mfilepath_or_buffer\u001B[38;5;132;01m}\u001B[39;00m\u001B[38;5;124m does not exist\u001B[39m\u001B[38;5;124m\"\u001B[39m)\n\u001B[1;32m    919\u001B[0m \u001B[38;5;28;01mreturn\u001B[39;00m filepath_or_buffer\n",
      "\u001B[0;31mFileNotFoundError\u001B[0m: File /Users/pigr/Desktop/cornac/cornac/dataset/amazon_clothing_category.json does not exist"
     ]
    }
   ],
   "source": [
    "amazon_clothing_category = pd.read_json('/Users/pigr/Desktop/cornac/cornac/dataset/amazon_clothing_category.json', typ='series')\n",
    "amazon_clothing_category = amazon_clothing_category.to_frame().reset_index()\n",
    "amazon_clothing_category.columns = ['itemId', 'category']\n",
    "amazon_clothing_category.head()"
   ],
   "metadata": {
    "collapsed": false
   }
  },
  {
   "cell_type": "code",
   "execution_count": 68,
   "outputs": [
    {
     "name": "stdout",
     "output_type": "stream",
     "text": [
      "itemId                                             B00001TOXD\n",
      "category    [Clothing, Shoes & Jewelry, Costumes & Accesso...\n",
      "Name: 0, dtype: object\n"
     ]
    }
   ],
   "source": [
    "print(amazon_clothing_category.loc[0])"
   ],
   "metadata": {
    "collapsed": false
   }
  },
  {
   "cell_type": "code",
   "execution_count": 4,
   "outputs": [
    {
     "name": "stdout",
     "output_type": "stream",
     "text": [
      "rating_threshold = 1.0\n",
      "exclude_unknowns = True\n",
      "---\n",
      "Training data:\n",
      "Number of users = 5081\n",
      "Number of items = 3326\n",
      "Number of ratings = 10951\n",
      "Max rating = 5.0\n",
      "Min rating = 1.0\n",
      "Global mean = 4.3\n",
      "---\n",
      "Test data:\n",
      "Number of users = 1868\n",
      "Number of items = 1453\n",
      "Number of ratings = 2200\n",
      "Number of unknown users = 0\n",
      "Number of unknown items = 0\n",
      "---\n",
      "Total users = 5081\n",
      "Total items = 3326\n"
     ]
    }
   ],
   "source": [
    "# amazon_clothing dataset\n",
    "docs_clothing, item_ids_clothing = cornac.datasets.amazon_clothing.load_text()\n",
    "feedback_clothing = cornac.datasets.amazon_clothing.load_feedback(reader=Reader(item_set=item_ids_clothing))\n",
    "clothing_item_text_modality = TextModality(\n",
    "    corpus=docs_clothing,\n",
    "    ids=item_ids_clothing,\n",
    "    tokenizer=BaseTokenizer(sep=\" \", stop_words=\"english\"),\n",
    "    max_vocab=8000,\n",
    "    max_doc_freq=0.5,\n",
    ")\n",
    "# Define an evaluation method to split feedback into train and test sets\n",
    "clothing_ratio_split = RatioSplit(\n",
    "    data=feedback_clothing,\n",
    "    test_size=0.2,\n",
    "    exclude_unknowns=True,\n",
    "    item_text=clothing_item_text_modality,\n",
    "    verbose=True,\n",
    "    seed=123,\n",
    "    rating_threshold=1,\n",
    ")"
   ],
   "metadata": {
    "collapsed": false
   }
  },
  {
   "cell_type": "markdown",
   "source": [
    "### k=10"
   ],
   "metadata": {
    "collapsed": false
   }
  },
  {
   "cell_type": "code",
   "execution_count": 6,
   "outputs": [
    {
     "name": "stdout",
     "output_type": "stream",
     "text": [
      "\n",
      "[HFT] Training started!\n"
     ]
    },
    {
     "data": {
      "text/plain": "  0%|          | 0/10 [00:00<?, ?it/s]",
      "application/vnd.jupyter.widget-view+json": {
       "version_major": 2,
       "version_minor": 0,
       "model_id": "500c0c67eb2248e785572a1d3e990207"
      }
     },
     "metadata": {},
     "output_type": "display_data"
    },
    {
     "name": "stdout",
     "output_type": "stream",
     "text": [
      "Learning completed!\n",
      "\n",
      "[HFT] Evaluation started!\n"
     ]
    },
    {
     "data": {
      "text/plain": "Rating:   0%|          | 0/2200 [00:00<?, ?it/s]",
      "application/vnd.jupyter.widget-view+json": {
       "version_major": 2,
       "version_minor": 0,
       "model_id": "ff05ac55a0674f058b0aed7feb9ce077"
      }
     },
     "metadata": {},
     "output_type": "display_data"
    },
    {
     "data": {
      "text/plain": "Ranking:   0%|          | 0/1868 [00:00<?, ?it/s]",
      "application/vnd.jupyter.widget-view+json": {
       "version_major": 2,
       "version_minor": 0,
       "model_id": "900143acaa64420f83eaaee9bffadbad"
      }
     },
     "metadata": {},
     "output_type": "display_data"
    },
    {
     "name": "stdout",
     "output_type": "stream",
     "text": [
      "\n",
      "TEST:\n",
      "...\n",
      "    |    MAE |    MSE |   RMSE |    AUC |  F1@50 |    MAP |    MRR | NCRR@50 | NDCG@50 | Precision@50 | Recall@50 | Train (s) | Test (s)\n",
      "--- + ------ + ------ + ------ + ------ + ------ + ------ + ------ + ------- + ------- + ------------ + --------- + --------- + --------\n",
      "HFT | 0.7492 | 1.2143 | 1.1020 | 0.5053 | 0.0003 | 0.0020 | 0.0024 |  0.0009 |  0.0021 |       0.0002 |    0.0075 |   18.5778 |   3.3744\n",
      "\n"
     ]
    }
   ],
   "source": [
    "# Instantiate HFT model\n",
    "hft_k10 = cornac.models.HFT(\n",
    "    k=10,\n",
    "    max_iter=10,\n",
    "    grad_iter=5,\n",
    "    l2_reg=0.001,\n",
    "    lambda_text=0.01,\n",
    "    vocab_size=8000,\n",
    "    seed=123,\n",
    ")\n",
    "\n",
    "# Instantiate MSE for evaluation\n",
    "metrics = [MAE(), RMSE(), MSE(),FMeasure(k=50),Precision(k=50),\n",
    "           Recall(k=50), NDCG(k=50), NCRR(k=50),\n",
    "           MRR(),AUC(), MAP()]\n",
    "\n",
    "# Put everything together into an experiment and run it\n",
    "cornac.Experiment(\n",
    "    eval_method=clothing_ratio_split, models=[hft_k10], metrics=metrics, user_based=False\n",
    ").run()"
   ],
   "metadata": {
    "collapsed": false
   }
  },
  {
   "cell_type": "code",
   "execution_count": 16,
   "outputs": [],
   "source": [
    "data1 = {\"model\":\"HFT\",\n",
    "        \"data\":\"amazon clothing\",\n",
    "        \"k\":10,\n",
    "        \"max_iter\":10,\n",
    "        \"grad_iter\":5,\n",
    "        \"lambda_text\":0.01,\n",
    "        \"l2_reg\":0.001,\n",
    "        \"MAE\":0.7492,\"MSE\":1.2143,\"RMSE\":1.1020,\"AUC\":0.5053,\"F1\":0.0003,\"MAP\":0.0020,\"MRR\":0.0024,\"NCRR\":0.0009,\"NDCG\":0.0021,\"Precision\":0.0002,\"Recall\":0.0075,\n",
    "        \"category diversity\":0}"
   ],
   "metadata": {
    "collapsed": false
   }
  },
  {
   "cell_type": "markdown",
   "source": [
    "### k=50"
   ],
   "metadata": {
    "collapsed": false
   }
  },
  {
   "cell_type": "code",
   "execution_count": 26,
   "outputs": [
    {
     "name": "stdout",
     "output_type": "stream",
     "text": [
      "\n",
      "[HFT] Training started!\n"
     ]
    },
    {
     "data": {
      "text/plain": "  0%|          | 0/10 [00:00<?, ?it/s]",
      "application/vnd.jupyter.widget-view+json": {
       "version_major": 2,
       "version_minor": 0,
       "model_id": "4050ad48e92546df90609685954f03a5"
      }
     },
     "metadata": {},
     "output_type": "display_data"
    },
    {
     "name": "stdout",
     "output_type": "stream",
     "text": [
      "Learning completed!\n",
      "\n",
      "[HFT] Evaluation started!\n"
     ]
    },
    {
     "data": {
      "text/plain": "Rating:   0%|          | 0/2200 [00:00<?, ?it/s]",
      "application/vnd.jupyter.widget-view+json": {
       "version_major": 2,
       "version_minor": 0,
       "model_id": "9e5e0072adc042d0bb49cd94112e0e70"
      }
     },
     "metadata": {},
     "output_type": "display_data"
    },
    {
     "data": {
      "text/plain": "Ranking:   0%|          | 0/1868 [00:00<?, ?it/s]",
      "application/vnd.jupyter.widget-view+json": {
       "version_major": 2,
       "version_minor": 0,
       "model_id": "c240d21cc9a1454b83de0dcdfa2c34d4"
      }
     },
     "metadata": {},
     "output_type": "display_data"
    },
    {
     "name": "stdout",
     "output_type": "stream",
     "text": [
      "\n",
      "TEST:\n",
      "...\n",
      "    |    MAE |    MSE |   RMSE |    AUC |  F1@50 |    MAP |    MRR | NCRR@50 | NDCG@50 | Precision@50 | Recall@50 | Train (s) | Test (s)\n",
      "--- + ------ + ------ + ------ + ------ + ------ + ------ + ------ + ------- + ------- + ------------ + --------- + --------- + --------\n",
      "HFT | 0.7426 | 1.1828 | 1.0876 | 0.5061 | 0.0004 | 0.0019 | 0.0024 |  0.0009 |  0.0022 |       0.0002 |    0.0083 |   27.6335 |   2.6908\n",
      "\n"
     ]
    }
   ],
   "source": [
    "# Instantiate HFT model\n",
    "hft_k50 = cornac.models.HFT(\n",
    "    k=50,\n",
    "    max_iter=10,\n",
    "    grad_iter=5,\n",
    "    l2_reg=0.001,\n",
    "    lambda_text=0.01,\n",
    "    vocab_size=8000,\n",
    "    seed=123,\n",
    ")\n",
    "\n",
    "# Instantiate MSE for evaluation\n",
    "metrics = [MAE(), RMSE(), MSE(),FMeasure(k=50),Precision(k=50),\n",
    "           Recall(k=50), NDCG(k=50), NCRR(k=50),\n",
    "           MRR(),AUC(), MAP()]\n",
    "\n",
    "# Put everything together into an experiment and run it\n",
    "cornac.Experiment(\n",
    "    eval_method=clothing_ratio_split, models=[hft_k50], metrics=metrics, user_based=False\n",
    ").run()"
   ],
   "metadata": {
    "collapsed": false
   }
  },
  {
   "cell_type": "code",
   "execution_count": 17,
   "outputs": [],
   "source": [
    "data2 = {\"model\":\"HFT\",\n",
    "        \"data\":\"amazon clothing\",\n",
    "        \"k\":50,\n",
    "        \"max_iter\":10,\n",
    "        \"grad_iter\":5,\n",
    "        \"lambda_text\":0.01,\n",
    "        \"l2_reg\":0.001,\n",
    "        \"MAE\":0.7426,\"MSE\":1.1828,\"RMSE\":1.0876,\"AUC\":0.5061,\"F1\":0.0004,\"MAP\":0.0019,\"MRR\":0.0024,\"NCRR\":0.0009,\"NDCG\":0.0022,\"Precision\":0.0002,\"Recall\":0.0083,\n",
    "        \"category diversity\":0}"
   ],
   "metadata": {
    "collapsed": false
   }
  },
  {
   "cell_type": "markdown",
   "source": [
    "### k=100"
   ],
   "metadata": {
    "collapsed": false
   }
  },
  {
   "cell_type": "code",
   "execution_count": 43,
   "outputs": [
    {
     "name": "stdout",
     "output_type": "stream",
     "text": [
      "\n",
      "[HFT] Training started!\n"
     ]
    },
    {
     "data": {
      "text/plain": "  0%|          | 0/10 [00:00<?, ?it/s]",
      "application/vnd.jupyter.widget-view+json": {
       "version_major": 2,
       "version_minor": 0,
       "model_id": "79e5994ff2bd4af2bbbcbc77f81884c4"
      }
     },
     "metadata": {},
     "output_type": "display_data"
    },
    {
     "name": "stdout",
     "output_type": "stream",
     "text": [
      "Learning completed!\n",
      "\n",
      "[HFT] Evaluation started!\n"
     ]
    },
    {
     "data": {
      "text/plain": "Rating:   0%|          | 0/2200 [00:00<?, ?it/s]",
      "application/vnd.jupyter.widget-view+json": {
       "version_major": 2,
       "version_minor": 0,
       "model_id": "9fd51d65ddc14c41867607233eadf1c0"
      }
     },
     "metadata": {},
     "output_type": "display_data"
    },
    {
     "data": {
      "text/plain": "Ranking:   0%|          | 0/1868 [00:00<?, ?it/s]",
      "application/vnd.jupyter.widget-view+json": {
       "version_major": 2,
       "version_minor": 0,
       "model_id": "f8882230cc3540868f6247bcc9382565"
      }
     },
     "metadata": {},
     "output_type": "display_data"
    },
    {
     "name": "stdout",
     "output_type": "stream",
     "text": [
      "\n",
      "TEST:\n",
      "...\n",
      "    |    MAE |    MSE |   RMSE |    AUC |  F1@50 |    MAP |    MRR | NCRR@50 | NDCG@50 | Precision@50 | Recall@50 | Train (s) | Test (s)\n",
      "--- + ------ + ------ + ------ + ------ + ------ + ------ + ------ + ------- + ------- + ------------ + --------- + --------- + --------\n",
      "HFT | 0.7508 | 1.2095 | 1.0998 | 0.5035 | 0.0003 | 0.0020 | 0.0024 |  0.0009 |  0.0019 |       0.0001 |    0.0062 |   54.4312 |   3.0548\n",
      "\n"
     ]
    }
   ],
   "source": [
    "# Instantiate HFT model\n",
    "hft_k100 = cornac.models.HFT(\n",
    "    k=100,\n",
    "    max_iter=10,\n",
    "    grad_iter=5,\n",
    "    l2_reg=0.001,\n",
    "    lambda_text=0.01,\n",
    "    vocab_size=8000,\n",
    "    seed=123,\n",
    ")\n",
    "\n",
    "# Instantiate MSE for evaluation\n",
    "metrics = [MAE(), RMSE(), MSE(),FMeasure(k=50),Precision(k=50),\n",
    "           Recall(k=50), NDCG(k=50), NCRR(k=50),\n",
    "           MRR(),AUC(), MAP()]\n",
    "\n",
    "# Put everything together into an experiment and run it\n",
    "cornac.Experiment(\n",
    "    eval_method=clothing_ratio_split, models=[hft_k100], metrics=metrics, user_based=False\n",
    ").run()"
   ],
   "metadata": {
    "collapsed": false
   }
  },
  {
   "cell_type": "code",
   "execution_count": 18,
   "outputs": [],
   "source": [
    "data3 = {\"model\":\"HFT\",\n",
    "        \"data\":\"amazon clothing\",\n",
    "        \"k\":100,\n",
    "        \"max_iter\":10,\n",
    "        \"grad_iter\":5,\n",
    "        \"lambda_text\":0.01,\n",
    "        \"l2_reg\":0.001,\n",
    "        \"MAE\":0.7508,\"MSE\":1.2095,\"RMSE\":1.0998,\"AUC\":0.5035,\"F1\":0.0003,\"MAP\":0.0020,\"MRR\":0.0024,\"NCRR\":0.0009,\"NDCG\":0.0019,\"Precision\":0.0001,\"Recall\":0.0062,\n",
    "        \"category diversity\":0}"
   ],
   "metadata": {
    "collapsed": false
   }
  },
  {
   "cell_type": "markdown",
   "source": [
    "### k=200"
   ],
   "metadata": {
    "collapsed": false
   }
  },
  {
   "cell_type": "code",
   "execution_count": 70,
   "outputs": [
    {
     "name": "stdout",
     "output_type": "stream",
     "text": [
      "\n",
      "[HFT] Training started!\n"
     ]
    },
    {
     "data": {
      "text/plain": "  0%|          | 0/10 [00:00<?, ?it/s]",
      "application/vnd.jupyter.widget-view+json": {
       "version_major": 2,
       "version_minor": 0,
       "model_id": "80a1306f402f41d7b6ed6a898eef0130"
      }
     },
     "metadata": {},
     "output_type": "display_data"
    },
    {
     "name": "stdout",
     "output_type": "stream",
     "text": [
      "Learning completed!\n",
      "\n",
      "[HFT] Evaluation started!\n"
     ]
    },
    {
     "data": {
      "text/plain": "Rating:   0%|          | 0/2200 [00:00<?, ?it/s]",
      "application/vnd.jupyter.widget-view+json": {
       "version_major": 2,
       "version_minor": 0,
       "model_id": "5b205dce06914b86bea6ea3a016b3281"
      }
     },
     "metadata": {},
     "output_type": "display_data"
    },
    {
     "data": {
      "text/plain": "Ranking:   0%|          | 0/1868 [00:00<?, ?it/s]",
      "application/vnd.jupyter.widget-view+json": {
       "version_major": 2,
       "version_minor": 0,
       "model_id": "77203f71554840b69ba0805c69fa1a0f"
      }
     },
     "metadata": {},
     "output_type": "display_data"
    },
    {
     "name": "stdout",
     "output_type": "stream",
     "text": [
      "\n",
      "TEST:\n",
      "...\n",
      "    |    MAE |    MSE |   RMSE |    AUC |  F1@50 |    MAP |    MRR | NCRR@50 | NDCG@50 | Precision@50 | Recall@50 | Train (s) | Test (s)\n",
      "--- + ------ + ------ + ------ + ------ + ------ + ------ + ------ + ------- + ------- + ------------ + --------- + --------- + --------\n",
      "HFT | 0.7359 | 1.1497 | 1.0723 | 0.5071 | 0.0003 | 0.0019 | 0.0024 |  0.0008 |  0.0020 |       0.0002 |    0.0072 |   75.9026 |   3.1388\n",
      "\n"
     ]
    }
   ],
   "source": [
    "# Instantiate HFT model\n",
    "hft_k200 = cornac.models.HFT(\n",
    "    k=200,\n",
    "    max_iter=10,\n",
    "    grad_iter=5,\n",
    "    l2_reg=0.001,\n",
    "    lambda_text=0.01,\n",
    "    vocab_size=8000,\n",
    "    seed=123,\n",
    ")\n",
    "\n",
    "# Instantiate MSE for evaluation\n",
    "metrics = [MAE(), RMSE(), MSE(),FMeasure(k=50),Precision(k=50),\n",
    "           Recall(k=50), NDCG(k=50), NCRR(k=50),\n",
    "           MRR(),AUC(), MAP()]\n",
    "\n",
    "# Put everything together into an experiment and run it\n",
    "cornac.Experiment(\n",
    "    eval_method=clothing_ratio_split, models=[hft_k200], metrics=metrics, user_based=False\n",
    ").run()"
   ],
   "metadata": {
    "collapsed": false
   }
  },
  {
   "cell_type": "code",
   "execution_count": 19,
   "outputs": [],
   "source": [
    "data4 = {\"model\":\"HFT\",\n",
    "        \"data\":\"amazon clothing\",\n",
    "        \"k\":200,\n",
    "        \"max_iter\":10,\n",
    "        \"grad_iter\":5,\n",
    "        \"lambda_text\":0.01,\n",
    "        \"l2_reg\":0.001,\n",
    "        \"MAE\":0.7359,\"MSE\":1.1497,\"RMSE\":1.0723,\"AUC\":0.5071,\"F1\":0.0003,\"MAP\":0.0019,\"MRR\":0.0024,\"NCRR\":0.0008,\"NDCG\":0.0020,\"Precision\":0.0002,\"Recall\":0.0072,\n",
    "        \"category diversity\":0}"
   ],
   "metadata": {
    "collapsed": false
   }
  },
  {
   "cell_type": "markdown",
   "source": [
    "### k=300"
   ],
   "metadata": {
    "collapsed": false
   }
  },
  {
   "cell_type": "code",
   "execution_count": 72,
   "outputs": [
    {
     "name": "stdout",
     "output_type": "stream",
     "text": [
      "\n",
      "[HFT] Training started!\n"
     ]
    },
    {
     "data": {
      "text/plain": "  0%|          | 0/10 [00:00<?, ?it/s]",
      "application/vnd.jupyter.widget-view+json": {
       "version_major": 2,
       "version_minor": 0,
       "model_id": "e19419508118455c97de55e260611e4f"
      }
     },
     "metadata": {},
     "output_type": "display_data"
    },
    {
     "name": "stdout",
     "output_type": "stream",
     "text": [
      "Learning completed!\n",
      "\n",
      "[HFT] Evaluation started!\n"
     ]
    },
    {
     "data": {
      "text/plain": "Rating:   0%|          | 0/2200 [00:00<?, ?it/s]",
      "application/vnd.jupyter.widget-view+json": {
       "version_major": 2,
       "version_minor": 0,
       "model_id": "b78f1121ec104be0ac13f949b6a9ddad"
      }
     },
     "metadata": {},
     "output_type": "display_data"
    },
    {
     "data": {
      "text/plain": "Ranking:   0%|          | 0/1868 [00:00<?, ?it/s]",
      "application/vnd.jupyter.widget-view+json": {
       "version_major": 2,
       "version_minor": 0,
       "model_id": "30c2e6a2d6664bf79306a173b00340d8"
      }
     },
     "metadata": {},
     "output_type": "display_data"
    },
    {
     "name": "stdout",
     "output_type": "stream",
     "text": [
      "\n",
      "TEST:\n",
      "...\n",
      "    |    MAE |    MSE |   RMSE |    AUC |  F1@50 |    MAP |    MRR | NCRR@50 | NDCG@50 | Precision@50 | Recall@50 | Train (s) | Test (s)\n",
      "--- + ------ + ------ + ------ + ------ + ------ + ------ + ------ + ------- + ------- + ------------ + --------- + --------- + --------\n",
      "HFT | 0.7391 | 1.1584 | 1.0763 | 0.5036 | 0.0003 | 0.0019 | 0.0024 |  0.0009 |  0.0020 |       0.0002 |    0.0070 |   96.4651 |   3.4485\n",
      "\n"
     ]
    }
   ],
   "source": [
    "# Instantiate HFT model\n",
    "hft_k300 = cornac.models.HFT(\n",
    "    k=300,\n",
    "    max_iter=10,\n",
    "    grad_iter=5,\n",
    "    l2_reg=0.001,\n",
    "    lambda_text=0.01,\n",
    "    vocab_size=8000,\n",
    "    seed=123,\n",
    ")\n",
    "\n",
    "# Instantiate MSE for evaluation\n",
    "metrics = [MAE(), RMSE(), MSE(),FMeasure(k=50),Precision(k=50),\n",
    "           Recall(k=50), NDCG(k=50), NCRR(k=50),\n",
    "           MRR(),AUC(), MAP()]\n",
    "\n",
    "# Put everything together into an experiment and run it\n",
    "cornac.Experiment(\n",
    "    eval_method=clothing_ratio_split, models=[hft_k300], metrics=metrics, user_based=False\n",
    ").run()"
   ],
   "metadata": {
    "collapsed": false
   }
  },
  {
   "cell_type": "code",
   "execution_count": 20,
   "outputs": [],
   "source": [
    "data5 = {\"model\":\"HFT\",\n",
    "        \"data\":\"amazon clothing\",\n",
    "        \"k\":300,\n",
    "        \"max_iter\":10,\n",
    "        \"grad_iter\":5,\n",
    "        \"lambda_text\":0.01,\n",
    "        \"l2_reg\":0.001,\n",
    "        \"MAE\":0.7391,\"MSE\":1.1584,\"RMSE\":1.0763,\"AUC\":0.5036,\"F1\":0.0003,\"MAP\":0.0019,\"MRR\":0.0024,\"NCRR\":0.0009,\"NDCG\":0.0020,\"Precision\":0.0002,\"Recall\":0.0070,\n",
    "        \"category diversity\":0}"
   ],
   "metadata": {
    "collapsed": false
   }
  },
  {
   "cell_type": "markdown",
   "source": [
    "### k=50,lambda_text=0.1"
   ],
   "metadata": {
    "collapsed": false
   }
  },
  {
   "cell_type": "code",
   "execution_count": 5,
   "outputs": [
    {
     "name": "stdout",
     "output_type": "stream",
     "text": [
      "\n",
      "[HFT] Training started!\n"
     ]
    },
    {
     "data": {
      "text/plain": "  0%|          | 0/10 [00:00<?, ?it/s]",
      "application/vnd.jupyter.widget-view+json": {
       "version_major": 2,
       "version_minor": 0,
       "model_id": "9b54a3d817954a5d85d8349fe25d7fd7"
      }
     },
     "metadata": {},
     "output_type": "display_data"
    },
    {
     "name": "stdout",
     "output_type": "stream",
     "text": [
      "Learning completed!\n",
      "\n",
      "[HFT] Evaluation started!\n"
     ]
    },
    {
     "data": {
      "text/plain": "Rating:   0%|          | 0/2200 [00:00<?, ?it/s]",
      "application/vnd.jupyter.widget-view+json": {
       "version_major": 2,
       "version_minor": 0,
       "model_id": "f228e811101441ac88c25ad13ba275d2"
      }
     },
     "metadata": {},
     "output_type": "display_data"
    },
    {
     "data": {
      "text/plain": "Ranking:   0%|          | 0/1868 [00:00<?, ?it/s]",
      "application/vnd.jupyter.widget-view+json": {
       "version_major": 2,
       "version_minor": 0,
       "model_id": "a5d6c8ea49964d4baeb0d8d2be4be8d7"
      }
     },
     "metadata": {},
     "output_type": "display_data"
    },
    {
     "name": "stdout",
     "output_type": "stream",
     "text": [
      "\n",
      "TEST:\n",
      "...\n",
      "    |    MAE |    MSE |   RMSE |    AUC |  F1@50 |    MAP |    MRR | NCRR@50 | NDCG@50 | Precision@50 | Recall@50 | Train (s) | Test (s)\n",
      "--- + ------ + ------ + ------ + ------ + ------ + ------ + ------ + ------- + ------- + ------------ + --------- + --------- + --------\n",
      "HFT | 0.7482 | 1.1211 | 1.0588 | 0.5110 | 0.0003 | 0.0021 | 0.0025 |  0.0009 |  0.0018 |       0.0001 |    0.0059 |   39.0255 |   3.3174\n",
      "\n"
     ]
    }
   ],
   "source": [
    "# Instantiate HFT model\n",
    "hft_lamText01_k50 = cornac.models.HFT(\n",
    "    k=50,\n",
    "    max_iter=10,\n",
    "    grad_iter=5,\n",
    "    l2_reg=0.001,\n",
    "    lambda_text=0.1,\n",
    "    vocab_size=8000,\n",
    "    seed=123,\n",
    ")\n",
    "\n",
    "# Instantiate MSE for evaluation\n",
    "metrics = [MAE(), RMSE(), MSE(),FMeasure(k=50),Precision(k=50),\n",
    "           Recall(k=50), NDCG(k=50), NCRR(k=50),\n",
    "           MRR(),AUC(), MAP()]\n",
    "\n",
    "# Put everything together into an experiment and run it\n",
    "cornac.Experiment(\n",
    "    eval_method=clothing_ratio_split, models=[hft_lamText01_k50], metrics=metrics, user_based=False\n",
    ").run()"
   ],
   "metadata": {
    "collapsed": false
   }
  },
  {
   "cell_type": "code",
   "execution_count": 6,
   "outputs": [],
   "source": [
    "data6 = {\"model\":\"HFT\",\n",
    "        \"data\":\"amazon clothing\",\n",
    "        \"k\":50,\n",
    "        \"max_iter\":10,\n",
    "        \"grad_iter\":5,\n",
    "        \"lambda_text\":0.1,\n",
    "        \"l2_reg\":0.001,\n",
    "        \"MAE\":0.7482,\"MSE\":1.1211,\"RMSE\":1.0588,\"AUC\":0.5110,\"F1\":0.0003,\"MAP\":0.0021,\"MRR\":0.0025,\"NCRR\":0.0009,\"NDCG\":0.0018,\"Precision\":0.0001,\"Recall\":0.0059,\n",
    "        \"category diversity\":0}"
   ],
   "metadata": {
    "collapsed": false
   }
  },
  {
   "cell_type": "markdown",
   "source": [
    "### k=50, lambda_text=1"
   ],
   "metadata": {
    "collapsed": false
   }
  },
  {
   "cell_type": "code",
   "execution_count": 7,
   "outputs": [
    {
     "name": "stdout",
     "output_type": "stream",
     "text": [
      "\n",
      "[HFT] Training started!\n"
     ]
    },
    {
     "data": {
      "text/plain": "  0%|          | 0/10 [00:00<?, ?it/s]",
      "application/vnd.jupyter.widget-view+json": {
       "version_major": 2,
       "version_minor": 0,
       "model_id": "e16b1e9bd7864482b48cf5c3acb8cb23"
      }
     },
     "metadata": {},
     "output_type": "display_data"
    },
    {
     "name": "stdout",
     "output_type": "stream",
     "text": [
      "Learning completed!\n",
      "\n",
      "[HFT] Evaluation started!\n"
     ]
    },
    {
     "data": {
      "text/plain": "Rating:   0%|          | 0/2200 [00:00<?, ?it/s]",
      "application/vnd.jupyter.widget-view+json": {
       "version_major": 2,
       "version_minor": 0,
       "model_id": "5cd5634d2cd242a8b3425790e5685132"
      }
     },
     "metadata": {},
     "output_type": "display_data"
    },
    {
     "data": {
      "text/plain": "Ranking:   0%|          | 0/1868 [00:00<?, ?it/s]",
      "application/vnd.jupyter.widget-view+json": {
       "version_major": 2,
       "version_minor": 0,
       "model_id": "cca3344b6cbf4fa0a7c75b51600c1db5"
      }
     },
     "metadata": {},
     "output_type": "display_data"
    },
    {
     "name": "stdout",
     "output_type": "stream",
     "text": [
      "\n",
      "TEST:\n",
      "...\n",
      "    |    MAE |    MSE |   RMSE |    AUC |  F1@50 |    MAP |    MRR | NCRR@50 | NDCG@50 | Precision@50 | Recall@50 | Train (s) | Test (s)\n",
      "--- + ------ + ------ + ------ + ------ + ------ + ------ + ------ + ------- + ------- + ------------ + --------- + --------- + --------\n",
      "HFT | 0.8140 | 1.3782 | 1.1739 | 0.5359 | 0.0022 | 0.0069 | 0.0078 |  0.0054 |  0.0135 |       0.0011 |    0.0469 |   42.8968 |   3.0836\n",
      "\n"
     ]
    }
   ],
   "source": [
    "# Instantiate HFT model\n",
    "hft_lamText1_k50 = cornac.models.HFT(\n",
    "    k=50,\n",
    "    max_iter=10,\n",
    "    grad_iter=5,\n",
    "    l2_reg=0.001,\n",
    "    lambda_text=1,\n",
    "    vocab_size=8000,\n",
    "    seed=123,\n",
    ")\n",
    "\n",
    "# Instantiate MSE for evaluation\n",
    "metrics = [MAE(), RMSE(), MSE(),FMeasure(k=50),Precision(k=50),\n",
    "           Recall(k=50), NDCG(k=50), NCRR(k=50),\n",
    "           MRR(),AUC(), MAP()]\n",
    "\n",
    "# Put everything together into an experiment and run it\n",
    "cornac.Experiment(\n",
    "    eval_method=clothing_ratio_split, models=[hft_lamText1_k50], metrics=metrics, user_based=False\n",
    ").run()"
   ],
   "metadata": {
    "collapsed": false
   }
  },
  {
   "cell_type": "code",
   "execution_count": 8,
   "outputs": [],
   "source": [
    "data7 = {\"model\":\"HFT\",\n",
    "        \"data\":\"amazon clothing\",\n",
    "        \"k\":50,\n",
    "        \"max_iter\":10,\n",
    "        \"grad_iter\":5,\n",
    "        \"lambda_text\":1,\n",
    "        \"l2_reg\":0.001,\n",
    "        \"MAE\":0.8140,\"MSE\":1.3782,\"RMSE\":1.1739,\"AUC\":0.5359,\"F1\":0.0022,\"MAP\":0.0069,\"MRR\":0.0078,\"NCRR\":0.0054,\"NDCG\":0.0135,\"Precision\":0.0011,\"Recall\":0.0469,\n",
    "        \"category diversity\":0}"
   ],
   "metadata": {
    "collapsed": false
   }
  },
  {
   "cell_type": "markdown",
   "source": [
    "### k=50,lambda_text=0.1,l2_reg=0.01"
   ],
   "metadata": {
    "collapsed": false
   }
  },
  {
   "cell_type": "code",
   "execution_count": 9,
   "outputs": [
    {
     "name": "stdout",
     "output_type": "stream",
     "text": [
      "\n",
      "[HFT] Training started!\n"
     ]
    },
    {
     "data": {
      "text/plain": "  0%|          | 0/10 [00:00<?, ?it/s]",
      "application/vnd.jupyter.widget-view+json": {
       "version_major": 2,
       "version_minor": 0,
       "model_id": "18758627c8a74740888e18273dfa0e5b"
      }
     },
     "metadata": {},
     "output_type": "display_data"
    },
    {
     "name": "stdout",
     "output_type": "stream",
     "text": [
      "Learning completed!\n",
      "\n",
      "[HFT] Evaluation started!\n"
     ]
    },
    {
     "data": {
      "text/plain": "Rating:   0%|          | 0/2200 [00:00<?, ?it/s]",
      "application/vnd.jupyter.widget-view+json": {
       "version_major": 2,
       "version_minor": 0,
       "model_id": "edc2e9026d3943129fb6df0ba1e6c3c6"
      }
     },
     "metadata": {},
     "output_type": "display_data"
    },
    {
     "data": {
      "text/plain": "Ranking:   0%|          | 0/1868 [00:00<?, ?it/s]",
      "application/vnd.jupyter.widget-view+json": {
       "version_major": 2,
       "version_minor": 0,
       "model_id": "264634d735de4621b6b11d41508ec91a"
      }
     },
     "metadata": {},
     "output_type": "display_data"
    },
    {
     "name": "stdout",
     "output_type": "stream",
     "text": [
      "\n",
      "TEST:\n",
      "...\n",
      "    |    MAE |    MSE |   RMSE |    AUC |  F1@50 |    MAP |    MRR | NCRR@50 | NDCG@50 | Precision@50 | Recall@50 | Train (s) | Test (s)\n",
      "--- + ------ + ------ + ------ + ------ + ------ + ------ + ------ + ------- + ------- + ------------ + --------- + --------- + --------\n",
      "HFT | 0.7520 | 1.1127 | 1.0549 | 0.5113 | 0.0003 | 0.0021 | 0.0024 |  0.0009 |  0.0018 |       0.0001 |    0.0064 |   35.4338 |   2.8085\n",
      "\n"
     ]
    }
   ],
   "source": [
    "# Instantiate HFT model\n",
    "hft_l2001_lamText01_k50 = cornac.models.HFT(\n",
    "    k=50,\n",
    "    max_iter=10,\n",
    "    grad_iter=5,\n",
    "    l2_reg=0.01,\n",
    "    lambda_text=0.1,\n",
    "    vocab_size=8000,\n",
    "    seed=123,\n",
    ")\n",
    "\n",
    "# Instantiate MSE for evaluation\n",
    "metrics = [MAE(), RMSE(), MSE(),FMeasure(k=50),Precision(k=50),\n",
    "           Recall(k=50), NDCG(k=50), NCRR(k=50),\n",
    "           MRR(),AUC(), MAP()]\n",
    "\n",
    "# Put everything together into an experiment and run it\n",
    "cornac.Experiment(\n",
    "    eval_method=clothing_ratio_split, models=[hft_l2001_lamText01_k50], metrics=metrics, user_based=False\n",
    ").run()"
   ],
   "metadata": {
    "collapsed": false
   }
  },
  {
   "cell_type": "code",
   "execution_count": 10,
   "outputs": [],
   "source": [
    "data8 = {\"model\":\"HFT\",\n",
    "        \"data\":\"amazon clothing\",\n",
    "        \"k\":50,\n",
    "        \"max_iter\":10,\n",
    "        \"grad_iter\":5,\n",
    "        \"lambda_text\":0.1,\n",
    "        \"l2_reg\":0.01,\n",
    "        \"MAE\":0.7520,\"MSE\":1.1127,\"RMSE\":1.0549,\"AUC\":0.5113,\"F1\":0.0003,\"MAP\":0.0021,\"MRR\":0.0024,\"NCRR\":0.0009,\"NDCG\":0.0018,\"Precision\":0.0001,\"Recall\":0.0064,\n",
    "        \"category diversity\":0}"
   ],
   "metadata": {
    "collapsed": false
   }
  },
  {
   "cell_type": "markdown",
   "source": [
    "### k=50,lambda_text=0.1,l2_reg=0.1"
   ],
   "metadata": {
    "collapsed": false
   }
  },
  {
   "cell_type": "code",
   "execution_count": 11,
   "outputs": [
    {
     "name": "stdout",
     "output_type": "stream",
     "text": [
      "\n",
      "[HFT] Training started!\n"
     ]
    },
    {
     "data": {
      "text/plain": "  0%|          | 0/10 [00:00<?, ?it/s]",
      "application/vnd.jupyter.widget-view+json": {
       "version_major": 2,
       "version_minor": 0,
       "model_id": "18bf9c276709475da6e2925df5f50793"
      }
     },
     "metadata": {},
     "output_type": "display_data"
    },
    {
     "name": "stdout",
     "output_type": "stream",
     "text": [
      "Learning completed!\n",
      "\n",
      "[HFT] Evaluation started!\n"
     ]
    },
    {
     "data": {
      "text/plain": "Rating:   0%|          | 0/2200 [00:00<?, ?it/s]",
      "application/vnd.jupyter.widget-view+json": {
       "version_major": 2,
       "version_minor": 0,
       "model_id": "ac7eda5d261d4d92ad6fcfa81f354c69"
      }
     },
     "metadata": {},
     "output_type": "display_data"
    },
    {
     "data": {
      "text/plain": "Ranking:   0%|          | 0/1868 [00:00<?, ?it/s]",
      "application/vnd.jupyter.widget-view+json": {
       "version_major": 2,
       "version_minor": 0,
       "model_id": "3a17bc4a16874b96a28b3fcfed009317"
      }
     },
     "metadata": {},
     "output_type": "display_data"
    },
    {
     "name": "stdout",
     "output_type": "stream",
     "text": [
      "\n",
      "TEST:\n",
      "...\n",
      "    |    MAE |    MSE |   RMSE |    AUC |  F1@50 |    MAP |    MRR | NCRR@50 | NDCG@50 | Precision@50 | Recall@50 | Train (s) | Test (s)\n",
      "--- + ------ + ------ + ------ + ------ + ------ + ------ + ------ + ------- + ------- + ------------ + --------- + --------- + --------\n",
      "HFT | 0.7397 | 1.1815 | 1.0870 | 0.5096 | 0.0004 | 0.0020 | 0.0024 |  0.0009 |  0.0021 |       0.0002 |    0.0080 |   33.5637 |   2.8060\n",
      "\n"
     ]
    }
   ],
   "source": [
    "# Instantiate HFT model\n",
    "hft_l201_lamText01_k50 = cornac.models.HFT(\n",
    "    k=50,\n",
    "    max_iter=10,\n",
    "    grad_iter=5,\n",
    "    l2_reg=0.1,\n",
    "    lambda_text=0.1,\n",
    "    vocab_size=8000,\n",
    "    seed=123,\n",
    ")\n",
    "\n",
    "# Instantiate MSE for evaluation\n",
    "metrics = [MAE(), RMSE(), MSE(),FMeasure(k=50),Precision(k=50),\n",
    "           Recall(k=50), NDCG(k=50), NCRR(k=50),\n",
    "           MRR(),AUC(), MAP()]\n",
    "\n",
    "# Put everything together into an experiment and run it\n",
    "cornac.Experiment(\n",
    "    eval_method=clothing_ratio_split, models=[hft_l201_lamText01_k50], metrics=metrics, user_based=False\n",
    ").run()"
   ],
   "metadata": {
    "collapsed": false
   }
  },
  {
   "cell_type": "code",
   "execution_count": 12,
   "outputs": [],
   "source": [
    "data9 = {\"model\":\"HFT\",\n",
    "        \"data\":\"amazon clothing\",\n",
    "        \"k\":50,\n",
    "        \"max_iter\":10,\n",
    "        \"grad_iter\":5,\n",
    "        \"lambda_text\":0.1,\n",
    "        \"l2_reg\":0.1,\n",
    "        \"MAE\":0.7397,\"MSE\":1.1815,\"RMSE\":1.0870,\"AUC\":0.5096,\"F1\":0.0004,\"MAP\":0.0020,\"MRR\":0.0024,\"NCRR\":0.0009,\"NDCG\":0.0021,\"Precision\":0.0002,\"Recall\":0.0080,\n",
    "        \"category diversity\":0}"
   ],
   "metadata": {
    "collapsed": false
   }
  },
  {
   "cell_type": "markdown",
   "source": [
    "### k=50, lambda_text=0.1, l2_reg=1"
   ],
   "metadata": {
    "collapsed": false
   }
  },
  {
   "cell_type": "code",
   "execution_count": 13,
   "outputs": [
    {
     "name": "stdout",
     "output_type": "stream",
     "text": [
      "\n",
      "[HFT] Training started!\n"
     ]
    },
    {
     "data": {
      "text/plain": "  0%|          | 0/10 [00:00<?, ?it/s]",
      "application/vnd.jupyter.widget-view+json": {
       "version_major": 2,
       "version_minor": 0,
       "model_id": "f97094570396407c924b209799471cb2"
      }
     },
     "metadata": {},
     "output_type": "display_data"
    },
    {
     "name": "stdout",
     "output_type": "stream",
     "text": [
      "Learning completed!\n",
      "\n",
      "[HFT] Evaluation started!\n"
     ]
    },
    {
     "data": {
      "text/plain": "Rating:   0%|          | 0/2200 [00:00<?, ?it/s]",
      "application/vnd.jupyter.widget-view+json": {
       "version_major": 2,
       "version_minor": 0,
       "model_id": "ae6c39f1787f4687adc9034c724879db"
      }
     },
     "metadata": {},
     "output_type": "display_data"
    },
    {
     "data": {
      "text/plain": "Ranking:   0%|          | 0/1868 [00:00<?, ?it/s]",
      "application/vnd.jupyter.widget-view+json": {
       "version_major": 2,
       "version_minor": 0,
       "model_id": "370996cf69084b9e9082c6bbfc9a5357"
      }
     },
     "metadata": {},
     "output_type": "display_data"
    },
    {
     "name": "stdout",
     "output_type": "stream",
     "text": [
      "\n",
      "TEST:\n",
      "...\n",
      "    |    MAE |    MSE |   RMSE |    AUC |  F1@50 |    MAP |    MRR | NCRR@50 | NDCG@50 | Precision@50 | Recall@50 | Train (s) | Test (s)\n",
      "--- + ------ + ------ + ------ + ------ + ------ + ------ + ------ + ------- + ------- + ------------ + --------- + --------- + --------\n",
      "HFT | 0.7459 | 1.1147 | 1.0558 | 0.5119 | 0.0003 | 0.0021 | 0.0024 |  0.0009 |  0.0019 |       0.0001 |    0.0064 |   39.2217 |   2.8857\n",
      "\n"
     ]
    }
   ],
   "source": [
    "# Instantiate HFT model\n",
    "hft_l21_lamText01_k50 = cornac.models.HFT(\n",
    "    k=50,\n",
    "    max_iter=10,\n",
    "    grad_iter=5,\n",
    "    l2_reg=1,\n",
    "    lambda_text=0.1,\n",
    "    vocab_size=8000,\n",
    "    seed=123,\n",
    ")\n",
    "\n",
    "# Instantiate MSE for evaluation\n",
    "metrics = [MAE(), RMSE(), MSE(),FMeasure(k=50),Precision(k=50),\n",
    "           Recall(k=50), NDCG(k=50), NCRR(k=50),\n",
    "           MRR(),AUC(), MAP()]\n",
    "\n",
    "# Put everything together into an experiment and run it\n",
    "cornac.Experiment(\n",
    "    eval_method=clothing_ratio_split, models=[hft_l21_lamText01_k50], metrics=metrics, user_based=False\n",
    ").run()"
   ],
   "metadata": {
    "collapsed": false
   }
  },
  {
   "cell_type": "code",
   "execution_count": 14,
   "outputs": [],
   "source": [
    "data10 = {\"model\":\"HFT\",\n",
    "        \"data\":\"amazon clothing\",\n",
    "        \"k\":50,\n",
    "        \"max_iter\":10,\n",
    "        \"grad_iter\":5,\n",
    "        \"lambda_text\":0.1,\n",
    "        \"l2_reg\":1,\n",
    "        \"MAE\":0.7459,\"MSE\":1.1147,\"RMSE\":1.0558,\"AUC\":0.5119,\"F1\":0.0003,\"MAP\":0.0021,\"MRR\":0.0024,\"NCRR\":0.0009,\"NDCG\":0.0019,\"Precision\":0.0001,\"Recall\":0.0064,\n",
    "        \"category diversity\":0}"
   ],
   "metadata": {
    "collapsed": false
   }
  },
  {
   "cell_type": "code",
   "execution_count": 21,
   "outputs": [],
   "source": [
    "data = [data1,data2,data3,data4,data5,data6,data7,data8,data9,data10]\n",
    "df = pd.DataFrame(columns = data1.keys())\n",
    "i=0\n",
    "for d in data:\n",
    "    df = pd.concat([df, pd.DataFrame(d,columns = list(d.keys()),index=[i])], ignore_index=False)\n",
    "    i += 1"
   ],
   "metadata": {
    "collapsed": false
   }
  },
  {
   "cell_type": "code",
   "execution_count": 22,
   "outputs": [
    {
     "data": {
      "text/plain": "  model             data    k max_iter grad_iter  lambda_text  l2_reg     MAE   \n0   HFT  amazon clothing   10       10         5         0.01   0.001  0.7492  \\\n1   HFT  amazon clothing   50       10         5         0.01   0.001  0.7426   \n2   HFT  amazon clothing  100       10         5         0.01   0.001  0.7508   \n3   HFT  amazon clothing  200       10         5         0.01   0.001  0.7359   \n4   HFT  amazon clothing  300       10         5         0.01   0.001  0.7391   \n5   HFT  amazon clothing   50       10         5         0.10   0.001  0.7482   \n6   HFT  amazon clothing   50       10         5         1.00   0.001  0.8140   \n7   HFT  amazon clothing   50       10         5         0.10   0.010  0.7520   \n8   HFT  amazon clothing   50       10         5         0.10   0.100  0.7397   \n9   HFT  amazon clothing   50       10         5         0.10   1.000  0.7459   \n\n      MSE    RMSE     AUC      F1     MAP     MRR    NCRR    NDCG  Precision   \n0  1.2143  1.1020  0.5053  0.0003  0.0020  0.0024  0.0009  0.0021     0.0002  \\\n1  1.1828  1.0876  0.5061  0.0004  0.0019  0.0024  0.0009  0.0022     0.0002   \n2  1.2095  1.0998  0.5035  0.0003  0.0020  0.0024  0.0009  0.0019     0.0001   \n3  1.1497  1.0723  0.5071  0.0003  0.0019  0.0024  0.0008  0.0020     0.0002   \n4  1.1584  1.0763  0.5036  0.0003  0.0019  0.0024  0.0009  0.0020     0.0002   \n5  1.1211  1.0588  0.5110  0.0003  0.0021  0.0025  0.0009  0.0018     0.0001   \n6  1.3782  1.1739  0.5359  0.0022  0.0069  0.0078  0.0054  0.0135     0.0011   \n7  1.1127  1.0549  0.5113  0.0003  0.0021  0.0024  0.0009  0.0018     0.0001   \n8  1.1815  1.0870  0.5096  0.0004  0.0020  0.0024  0.0009  0.0021     0.0002   \n9  1.1147  1.0558  0.5119  0.0003  0.0021  0.0024  0.0009  0.0019     0.0001   \n\n   Recall category diversity  \n0  0.0075                  0  \n1  0.0083                  0  \n2  0.0062                  0  \n3  0.0072                  0  \n4  0.0070                  0  \n5  0.0059                  0  \n6  0.0469                  0  \n7  0.0064                  0  \n8  0.0080                  0  \n9  0.0064                  0  ",
      "text/html": "<div>\n<style scoped>\n    .dataframe tbody tr th:only-of-type {\n        vertical-align: middle;\n    }\n\n    .dataframe tbody tr th {\n        vertical-align: top;\n    }\n\n    .dataframe thead th {\n        text-align: right;\n    }\n</style>\n<table border=\"1\" class=\"dataframe\">\n  <thead>\n    <tr style=\"text-align: right;\">\n      <th></th>\n      <th>model</th>\n      <th>data</th>\n      <th>k</th>\n      <th>max_iter</th>\n      <th>grad_iter</th>\n      <th>lambda_text</th>\n      <th>l2_reg</th>\n      <th>MAE</th>\n      <th>MSE</th>\n      <th>RMSE</th>\n      <th>AUC</th>\n      <th>F1</th>\n      <th>MAP</th>\n      <th>MRR</th>\n      <th>NCRR</th>\n      <th>NDCG</th>\n      <th>Precision</th>\n      <th>Recall</th>\n      <th>category diversity</th>\n    </tr>\n  </thead>\n  <tbody>\n    <tr>\n      <th>0</th>\n      <td>HFT</td>\n      <td>amazon clothing</td>\n      <td>10</td>\n      <td>10</td>\n      <td>5</td>\n      <td>0.01</td>\n      <td>0.001</td>\n      <td>0.7492</td>\n      <td>1.2143</td>\n      <td>1.1020</td>\n      <td>0.5053</td>\n      <td>0.0003</td>\n      <td>0.0020</td>\n      <td>0.0024</td>\n      <td>0.0009</td>\n      <td>0.0021</td>\n      <td>0.0002</td>\n      <td>0.0075</td>\n      <td>0</td>\n    </tr>\n    <tr>\n      <th>1</th>\n      <td>HFT</td>\n      <td>amazon clothing</td>\n      <td>50</td>\n      <td>10</td>\n      <td>5</td>\n      <td>0.01</td>\n      <td>0.001</td>\n      <td>0.7426</td>\n      <td>1.1828</td>\n      <td>1.0876</td>\n      <td>0.5061</td>\n      <td>0.0004</td>\n      <td>0.0019</td>\n      <td>0.0024</td>\n      <td>0.0009</td>\n      <td>0.0022</td>\n      <td>0.0002</td>\n      <td>0.0083</td>\n      <td>0</td>\n    </tr>\n    <tr>\n      <th>2</th>\n      <td>HFT</td>\n      <td>amazon clothing</td>\n      <td>100</td>\n      <td>10</td>\n      <td>5</td>\n      <td>0.01</td>\n      <td>0.001</td>\n      <td>0.7508</td>\n      <td>1.2095</td>\n      <td>1.0998</td>\n      <td>0.5035</td>\n      <td>0.0003</td>\n      <td>0.0020</td>\n      <td>0.0024</td>\n      <td>0.0009</td>\n      <td>0.0019</td>\n      <td>0.0001</td>\n      <td>0.0062</td>\n      <td>0</td>\n    </tr>\n    <tr>\n      <th>3</th>\n      <td>HFT</td>\n      <td>amazon clothing</td>\n      <td>200</td>\n      <td>10</td>\n      <td>5</td>\n      <td>0.01</td>\n      <td>0.001</td>\n      <td>0.7359</td>\n      <td>1.1497</td>\n      <td>1.0723</td>\n      <td>0.5071</td>\n      <td>0.0003</td>\n      <td>0.0019</td>\n      <td>0.0024</td>\n      <td>0.0008</td>\n      <td>0.0020</td>\n      <td>0.0002</td>\n      <td>0.0072</td>\n      <td>0</td>\n    </tr>\n    <tr>\n      <th>4</th>\n      <td>HFT</td>\n      <td>amazon clothing</td>\n      <td>300</td>\n      <td>10</td>\n      <td>5</td>\n      <td>0.01</td>\n      <td>0.001</td>\n      <td>0.7391</td>\n      <td>1.1584</td>\n      <td>1.0763</td>\n      <td>0.5036</td>\n      <td>0.0003</td>\n      <td>0.0019</td>\n      <td>0.0024</td>\n      <td>0.0009</td>\n      <td>0.0020</td>\n      <td>0.0002</td>\n      <td>0.0070</td>\n      <td>0</td>\n    </tr>\n    <tr>\n      <th>5</th>\n      <td>HFT</td>\n      <td>amazon clothing</td>\n      <td>50</td>\n      <td>10</td>\n      <td>5</td>\n      <td>0.10</td>\n      <td>0.001</td>\n      <td>0.7482</td>\n      <td>1.1211</td>\n      <td>1.0588</td>\n      <td>0.5110</td>\n      <td>0.0003</td>\n      <td>0.0021</td>\n      <td>0.0025</td>\n      <td>0.0009</td>\n      <td>0.0018</td>\n      <td>0.0001</td>\n      <td>0.0059</td>\n      <td>0</td>\n    </tr>\n    <tr>\n      <th>6</th>\n      <td>HFT</td>\n      <td>amazon clothing</td>\n      <td>50</td>\n      <td>10</td>\n      <td>5</td>\n      <td>1.00</td>\n      <td>0.001</td>\n      <td>0.8140</td>\n      <td>1.3782</td>\n      <td>1.1739</td>\n      <td>0.5359</td>\n      <td>0.0022</td>\n      <td>0.0069</td>\n      <td>0.0078</td>\n      <td>0.0054</td>\n      <td>0.0135</td>\n      <td>0.0011</td>\n      <td>0.0469</td>\n      <td>0</td>\n    </tr>\n    <tr>\n      <th>7</th>\n      <td>HFT</td>\n      <td>amazon clothing</td>\n      <td>50</td>\n      <td>10</td>\n      <td>5</td>\n      <td>0.10</td>\n      <td>0.010</td>\n      <td>0.7520</td>\n      <td>1.1127</td>\n      <td>1.0549</td>\n      <td>0.5113</td>\n      <td>0.0003</td>\n      <td>0.0021</td>\n      <td>0.0024</td>\n      <td>0.0009</td>\n      <td>0.0018</td>\n      <td>0.0001</td>\n      <td>0.0064</td>\n      <td>0</td>\n    </tr>\n    <tr>\n      <th>8</th>\n      <td>HFT</td>\n      <td>amazon clothing</td>\n      <td>50</td>\n      <td>10</td>\n      <td>5</td>\n      <td>0.10</td>\n      <td>0.100</td>\n      <td>0.7397</td>\n      <td>1.1815</td>\n      <td>1.0870</td>\n      <td>0.5096</td>\n      <td>0.0004</td>\n      <td>0.0020</td>\n      <td>0.0024</td>\n      <td>0.0009</td>\n      <td>0.0021</td>\n      <td>0.0002</td>\n      <td>0.0080</td>\n      <td>0</td>\n    </tr>\n    <tr>\n      <th>9</th>\n      <td>HFT</td>\n      <td>amazon clothing</td>\n      <td>50</td>\n      <td>10</td>\n      <td>5</td>\n      <td>0.10</td>\n      <td>1.000</td>\n      <td>0.7459</td>\n      <td>1.1147</td>\n      <td>1.0558</td>\n      <td>0.5119</td>\n      <td>0.0003</td>\n      <td>0.0021</td>\n      <td>0.0024</td>\n      <td>0.0009</td>\n      <td>0.0019</td>\n      <td>0.0001</td>\n      <td>0.0064</td>\n      <td>0</td>\n    </tr>\n  </tbody>\n</table>\n</div>"
     },
     "execution_count": 22,
     "metadata": {},
     "output_type": "execute_result"
    }
   ],
   "source": [
    "df"
   ],
   "metadata": {
    "collapsed": false
   }
  },
  {
   "cell_type": "code",
   "execution_count": 23,
   "outputs": [],
   "source": [
    "df.to_csv('/Users/pigr/Desktop/cornac/cornac/dataset/hft_amazon_clothing.csv',header=-1,index=0)"
   ],
   "metadata": {
    "collapsed": false
   }
  },
  {
   "cell_type": "code",
   "execution_count": null,
   "outputs": [],
   "source": [],
   "metadata": {
    "collapsed": false
   }
  }
 ],
 "metadata": {
  "kernelspec": {
   "display_name": "Python 3",
   "language": "python",
   "name": "python3"
  },
  "language_info": {
   "codemirror_mode": {
    "name": "ipython",
    "version": 2
   },
   "file_extension": ".py",
   "mimetype": "text/x-python",
   "name": "python",
   "nbconvert_exporter": "python",
   "pygments_lexer": "ipython2",
   "version": "2.7.6"
  }
 },
 "nbformat": 4,
 "nbformat_minor": 0
}
