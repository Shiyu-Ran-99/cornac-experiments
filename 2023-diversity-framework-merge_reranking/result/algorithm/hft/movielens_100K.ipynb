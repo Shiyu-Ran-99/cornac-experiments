{
 "cells": [
  {
   "cell_type": "code",
   "execution_count": 1,
   "metadata": {
    "collapsed": true
   },
   "outputs": [
    {
     "name": "stdout",
     "output_type": "stream",
     "text": [
      "FM model is only supported on Linux.\n",
      "Windows executable can be found at http://www.libfm.org.\n"
     ]
    }
   ],
   "source": [
    "import numpy as np\n",
    "import pandas as pd\n",
    "\n",
    "import cornac\n",
    "from cornac.eval_methods import RatioSplit\n",
    "from cornac.data import TextModality\n",
    "from cornac.data.text import BaseTokenizer\n",
    "from cornac.data import Reader\n",
    "from cornac.metrics import MAE,RMSE,MSE,FMeasure,Precision,Recall,NDCG,NCRR,MRR,AUC,MAP"
   ]
  },
  {
   "cell_type": "code",
   "execution_count": 2,
   "outputs": [
    {
     "name": "stdout",
     "output_type": "stream",
     "text": [
      "rating_threshold = 1.0\n",
      "exclude_unknowns = True\n",
      "---\n",
      "Training data:\n",
      "Number of users = 943\n",
      "Number of items = 1518\n",
      "Number of ratings = 75846\n",
      "Max rating = 5.0\n",
      "Min rating = 1.0\n",
      "Global mean = 3.5\n",
      "---\n",
      "Test data:\n",
      "Number of users = 941\n",
      "Number of items = 1279\n",
      "Number of ratings = 18925\n",
      "Number of unknown users = 0\n",
      "Number of unknown items = 0\n",
      "---\n",
      "Total users = 943\n",
      "Total items = 1518\n"
     ]
    }
   ],
   "source": [
    "docs_movielens, item_ids_movielens = cornac.datasets.movielens.load_plot()\n",
    "feedback_movielens_100K = cornac.datasets.movielens.load_feedback(variant=\"100K\",reader=Reader(item_set=item_ids_movielens))\n",
    "\n",
    "movielens_item_text_modality = TextModality(\n",
    "    corpus=docs_movielens,\n",
    "    ids=item_ids_movielens,\n",
    "    tokenizer=BaseTokenizer(sep=\"\\t\", stop_words=\"english\"),\n",
    "    max_vocab=8000,\n",
    "    max_doc_freq=0.5,\n",
    ")\n",
    "# Define an evaluation method to split feedback into train and test sets\n",
    "movieslens100K_ratio_split = RatioSplit(\n",
    "    data=feedback_movielens_100K,\n",
    "    test_size=0.2,\n",
    "    exclude_unknowns=True,\n",
    "    item_text=movielens_item_text_modality,\n",
    "    verbose=True,\n",
    "    seed=123,\n",
    "    rating_threshold=1,\n",
    ")"
   ],
   "metadata": {
    "collapsed": false
   }
  },
  {
   "cell_type": "markdown",
   "source": [
    "### k=10"
   ],
   "metadata": {
    "collapsed": false
   }
  },
  {
   "cell_type": "code",
   "execution_count": 3,
   "outputs": [
    {
     "name": "stdout",
     "output_type": "stream",
     "text": [
      "\n",
      "[HFT] Training started!\n"
     ]
    },
    {
     "data": {
      "text/plain": "  0%|          | 0/10 [00:00<?, ?it/s]",
      "application/vnd.jupyter.widget-view+json": {
       "version_major": 2,
       "version_minor": 0,
       "model_id": "1fafa50f09324cceb1dcbf8e5a4a41f8"
      }
     },
     "metadata": {},
     "output_type": "display_data"
    },
    {
     "name": "stdout",
     "output_type": "stream",
     "text": [
      "Learning completed!\n",
      "\n",
      "[HFT] Evaluation started!\n"
     ]
    },
    {
     "data": {
      "text/plain": "Rating:   0%|          | 0/18925 [00:00<?, ?it/s]",
      "application/vnd.jupyter.widget-view+json": {
       "version_major": 2,
       "version_minor": 0,
       "model_id": "c681785282c64a8d824c98715ce25357"
      }
     },
     "metadata": {},
     "output_type": "display_data"
    },
    {
     "data": {
      "text/plain": "Ranking:   0%|          | 0/941 [00:00<?, ?it/s]",
      "application/vnd.jupyter.widget-view+json": {
       "version_major": 2,
       "version_minor": 0,
       "model_id": "0de22fa918fa4f0fba4bb1e28c385856"
      }
     },
     "metadata": {},
     "output_type": "display_data"
    },
    {
     "name": "stdout",
     "output_type": "stream",
     "text": [
      "\n",
      "TEST:\n",
      "...\n",
      "    |    MAE |    MSE |   RMSE |    AUC |  F1@50 |    MAP |    MRR | NCRR@50 | NDCG@50 | Precision@50 | Recall@50 | Train (s) | Test (s)\n",
      "--- + ------ + ------ + ------ + ------ + ------ + ------ + ------ + ------- + ------- + ------------ + --------- + --------- + --------\n",
      "HFT | 0.7453 | 0.9116 | 0.9548 | 0.6619 | 0.0478 | 0.0379 | 0.1399 |  0.0550 |  0.0699 |       0.0383 |    0.0986 |   12.8622 |   1.7481\n",
      "\n"
     ]
    }
   ],
   "source": [
    "# Instantiate HFT model\n",
    "hft_k10 = cornac.models.HFT(\n",
    "    k=10,\n",
    "    max_iter=10,\n",
    "    grad_iter=5,\n",
    "    l2_reg=0.001,\n",
    "    lambda_text=0.01,\n",
    "    vocab_size=8000,\n",
    "    seed=123,\n",
    ")\n",
    "\n",
    "# Instantiate MSE for evaluation\n",
    "metrics = [MAE(), RMSE(), MSE(),FMeasure(k=50),Precision(k=50),\n",
    "           Recall(k=50), NDCG(k=50), NCRR(k=50),\n",
    "           MRR(),AUC(), MAP()]\n",
    "\n",
    "# Put everything together into an experiment and run it\n",
    "cornac.Experiment(\n",
    "    eval_method=movieslens100K_ratio_split, models=[hft_k10], metrics=metrics, user_based=False\n",
    ").run()"
   ],
   "metadata": {
    "collapsed": false
   }
  },
  {
   "cell_type": "code",
   "execution_count": 82,
   "outputs": [
    {
     "name": "stdout",
     "output_type": "stream",
     "text": [
      "\n",
      "[HFT] Training started!\n"
     ]
    },
    {
     "data": {
      "text/plain": "  0%|          | 0/50 [00:00<?, ?it/s]",
      "application/vnd.jupyter.widget-view+json": {
       "version_major": 2,
       "version_minor": 0,
       "model_id": "bf66e15c0f844eedbb0c4066c369dc09"
      }
     },
     "metadata": {},
     "output_type": "display_data"
    },
    {
     "name": "stdout",
     "output_type": "stream",
     "text": [
      "Learning completed!\n",
      "\n",
      "[HFT] Evaluation started!\n"
     ]
    },
    {
     "data": {
      "text/plain": "Rating:   0%|          | 0/18925 [00:00<?, ?it/s]",
      "application/vnd.jupyter.widget-view+json": {
       "version_major": 2,
       "version_minor": 0,
       "model_id": "bf75aec2c7c54d15ae9e5ce1d13cc390"
      }
     },
     "metadata": {},
     "output_type": "display_data"
    },
    {
     "data": {
      "text/plain": "Ranking:   0%|          | 0/941 [00:00<?, ?it/s]",
      "application/vnd.jupyter.widget-view+json": {
       "version_major": 2,
       "version_minor": 0,
       "model_id": "7b5c6167e6f4477dac4ae3bb9e00d8ab"
      }
     },
     "metadata": {},
     "output_type": "display_data"
    },
    {
     "name": "stdout",
     "output_type": "stream",
     "text": [
      "\n",
      "TEST:\n",
      "...\n",
      "    |    MAE |    MSE |   RMSE |    AUC |  F1@50 |    MAP |    MRR | NCRR@50 | NDCG@50 | Precision@50 | Recall@50 | Train (s) | Test (s)\n",
      "--- + ------ + ------ + ------ + ------ + ------ + ------ + ------ + ------- + ------- + ------------ + --------- + --------- + --------\n",
      "HFT | 0.8056 | 1.1346 | 1.0652 | 0.6329 | 0.0295 | 0.0276 | 0.0643 |  0.0233 |  0.0383 |       0.0241 |    0.0605 |   62.5077 |   2.4544\n",
      "\n"
     ]
    }
   ],
   "source": [
    "cornac.Experiment(\n",
    "    eval_method=movieslens100K_ratio_split, models=[cornac.models.HFT(\n",
    "    k=10,\n",
    "    max_iter=50,\n",
    "    grad_iter=5,\n",
    "    l2_reg=0.001,\n",
    "    lambda_text=0.01,\n",
    "    vocab_size=8000,\n",
    "    seed=123,\n",
    ")], metrics=metrics, user_based=False\n",
    ").run()"
   ],
   "metadata": {
    "collapsed": false
   }
  },
  {
   "cell_type": "code",
   "execution_count": 4,
   "outputs": [],
   "source": [
    "data1 = {\"model\":\"HFT\",\n",
    "        \"data\":\"movielens-100K\",\n",
    "        \"k\":10,\n",
    "        \"max_iter\":10,\n",
    "        \"grad_iter\":5,\n",
    "        \"lambda_text\":0.01,\n",
    "        \"l2_reg\":0.001,\n",
    "        \"MAE\":0.7450,\"MSE\":0.9100,\"RMSE\":0.9539,\"AUC\":0.6618,\"F1\":0.0476,\"MAP\":0.0379,\"MRR\":0.1403,\"NCRR\":0.0550,\"NDCG\":0.0696,\"Precision\":0.0381,\"Recall\":0.0978,\n",
    "        \"category diversity\":0}"
   ],
   "metadata": {
    "collapsed": false
   }
  },
  {
   "cell_type": "code",
   "execution_count": 5,
   "outputs": [],
   "source": [
    "from cornac.utils import cache\n",
    "\n",
    "# Download some information of MovieLens 100K dataset\n",
    "user_df = pd.read_csv(\n",
    "  cache(\"http://files.grouplens.org/datasets/movielens/ml-100k/u.user\"),\n",
    "  sep=\"|\", names=[\"UserID\", \"Age\", \"Gender\", \"Occupation\", \"Zip Code\"]\n",
    ").set_index(\"UserID\")\n",
    "\n",
    "item_df = pd.read_csv(\n",
    "  cache(\"http://files.grouplens.org/datasets/movielens/ml-100k/u.item\"),\n",
    "  sep=\"|\", encoding=\"ISO-8859-1\",\n",
    "  names=[\"ItemID\", \"Title\", \"Release Date\", \"Video Release Date\", \"IMDb URL\",\n",
    "         \"unknown\", \"Action\", \"Adventure\", \"Animation\", \"Children's\", \"Comedy\",\n",
    "         \"Crime\", \"Documentary\", \"Drama\", \"Fantasy\", \"Film-Noir\", \"Horror\",\n",
    "         \"Musical\", \"Mystery\", \"Romance\", \"Sci-Fi\", \"Thriller\", \"War\", \"Western\"]\n",
    ").set_index(\"ItemID\").drop(columns=[\"Video Release Date\", \"IMDb URL\", \"unknown\"])"
   ],
   "metadata": {
    "collapsed": false
   }
  },
  {
   "cell_type": "code",
   "execution_count": 6,
   "outputs": [],
   "source": [
    "import diversity_movielens\n",
    "def compute_avg_diversity(model):\n",
    "    for i in range(len(set(movieslens100K_ratio_split.test_set.user_ids))):  # get the average result for all users\n",
    "        result = []\n",
    "        r = diversity_movielens.MovielensRetrieval(model=model, item_df=item_df, UIDX=i, TOPK=50)\n",
    "        d = diversity_movielens.Diversity()\n",
    "        recommendation = d.compute_dict_distr(r.get_recy())\n",
    "        history = d.compute_dict_distr(r.get_history())\n",
    "        result.append(d.compute_kl_divergence(recommendation, history, alpha=0.001))\n",
    "    return np.mean(result)"
   ],
   "metadata": {
    "collapsed": false
   }
  },
  {
   "cell_type": "code",
   "execution_count": 7,
   "outputs": [
    {
     "data": {
      "text/plain": "0.19221158137022604"
     },
     "execution_count": 7,
     "metadata": {},
     "output_type": "execute_result"
    }
   ],
   "source": [
    "data1[\"category diversity\"] = compute_avg_diversity(hft_k10)\n",
    "data1[\"category diversity\"]"
   ],
   "metadata": {
    "collapsed": false
   }
  },
  {
   "cell_type": "markdown",
   "source": [
    "### k=50"
   ],
   "metadata": {
    "collapsed": false
   }
  },
  {
   "cell_type": "code",
   "execution_count": 8,
   "outputs": [
    {
     "name": "stdout",
     "output_type": "stream",
     "text": [
      "\n",
      "[HFT] Training started!\n"
     ]
    },
    {
     "data": {
      "text/plain": "  0%|          | 0/10 [00:00<?, ?it/s]",
      "application/vnd.jupyter.widget-view+json": {
       "version_major": 2,
       "version_minor": 0,
       "model_id": "f09bcba08c344c9698bb5cf8026f37da"
      }
     },
     "metadata": {},
     "output_type": "display_data"
    },
    {
     "name": "stdout",
     "output_type": "stream",
     "text": [
      "Learning completed!\n",
      "\n",
      "[HFT] Evaluation started!\n"
     ]
    },
    {
     "data": {
      "text/plain": "Rating:   0%|          | 0/18925 [00:00<?, ?it/s]",
      "application/vnd.jupyter.widget-view+json": {
       "version_major": 2,
       "version_minor": 0,
       "model_id": "c38bd3f42ece4651bdee55e9d34deedb"
      }
     },
     "metadata": {},
     "output_type": "display_data"
    },
    {
     "data": {
      "text/plain": "Ranking:   0%|          | 0/941 [00:00<?, ?it/s]",
      "application/vnd.jupyter.widget-view+json": {
       "version_major": 2,
       "version_minor": 0,
       "model_id": "615269a6e997465a975fb5124d9a88be"
      }
     },
     "metadata": {},
     "output_type": "display_data"
    },
    {
     "name": "stdout",
     "output_type": "stream",
     "text": [
      "\n",
      "TEST:\n",
      "...\n",
      "    |    MAE |    MSE |   RMSE |    AUC |  F1@50 |    MAP |    MRR | NCRR@50 | NDCG@50 | Precision@50 | Recall@50 | Train (s) | Test (s)\n",
      "--- + ------ + ------ + ------ + ------ + ------ + ------ + ------ + ------- + ------- + ------------ + --------- + --------- + --------\n",
      "HFT | 0.7570 | 0.9398 | 0.9694 | 0.6559 | 0.0471 | 0.0368 | 0.1273 |  0.0496 |  0.0669 |       0.0374 |    0.0953 |   29.7297 |   1.6939\n",
      "\n"
     ]
    }
   ],
   "source": [
    "# Instantiate HFT model\n",
    "hft_k50 = cornac.models.HFT(\n",
    "    k=50,\n",
    "    max_iter=10,\n",
    "    grad_iter=5,\n",
    "    l2_reg=0.001,\n",
    "    lambda_text=0.01,\n",
    "    vocab_size=8000,\n",
    "    seed=123,\n",
    ")\n",
    "\n",
    "# Instantiate MSE for evaluation\n",
    "metrics = [MAE(), RMSE(), MSE(),FMeasure(k=50),Precision(k=50),\n",
    "           Recall(k=50), NDCG(k=50), NCRR(k=50),\n",
    "           MRR(),AUC(), MAP()]\n",
    "\n",
    "# Put everything together into an experiment and run it\n",
    "cornac.Experiment(\n",
    "    eval_method=movieslens100K_ratio_split, models=[hft_k50], metrics=metrics, user_based=False\n",
    ").run()"
   ],
   "metadata": {
    "collapsed": false
   }
  },
  {
   "cell_type": "code",
   "execution_count": 9,
   "outputs": [],
   "source": [
    "data2 = {\"model\":\"HFT\",\n",
    "        \"data\":\"movielens-100K\",\n",
    "        \"k\":50,\n",
    "        \"max_iter\":10,\n",
    "        \"grad_iter\":5,\n",
    "        \"lambda_text\":0.01,\n",
    "        \"l2_reg\":0.001,\n",
    "        \"MAE\":0.7570,\"MSE\":0.9397,\"RMSE\":0.9694,\"AUC\":0.6559,\"F1\":0.0470,\"MAP\":0.0368,\"MRR\":0.1269,\"NCRR\":0.0494,\"NDCG\":0.0668,\"Precision\":0.0373,\"Recall\":0.0952,\n",
    "        \"category diversity\":compute_avg_diversity(hft_k50)}"
   ],
   "metadata": {
    "collapsed": false
   }
  },
  {
   "cell_type": "code",
   "execution_count": 10,
   "outputs": [
    {
     "data": {
      "text/plain": "0.19959275849372568"
     },
     "execution_count": 10,
     "metadata": {},
     "output_type": "execute_result"
    }
   ],
   "source": [
    "data2[\"category diversity\"]"
   ],
   "metadata": {
    "collapsed": false
   }
  },
  {
   "cell_type": "markdown",
   "source": [
    "### k=100"
   ],
   "metadata": {
    "collapsed": false
   }
  },
  {
   "cell_type": "code",
   "execution_count": 11,
   "outputs": [
    {
     "name": "stdout",
     "output_type": "stream",
     "text": [
      "\n",
      "[HFT] Training started!\n"
     ]
    },
    {
     "data": {
      "text/plain": "  0%|          | 0/10 [00:00<?, ?it/s]",
      "application/vnd.jupyter.widget-view+json": {
       "version_major": 2,
       "version_minor": 0,
       "model_id": "ae320c0ac6dd42ba98dbc36eddd06f1e"
      }
     },
     "metadata": {},
     "output_type": "display_data"
    },
    {
     "name": "stdout",
     "output_type": "stream",
     "text": [
      "Learning completed!\n",
      "\n",
      "[HFT] Evaluation started!\n"
     ]
    },
    {
     "data": {
      "text/plain": "Rating:   0%|          | 0/18925 [00:00<?, ?it/s]",
      "application/vnd.jupyter.widget-view+json": {
       "version_major": 2,
       "version_minor": 0,
       "model_id": "8b7b7e97f7b4479cb055ab21dceea40f"
      }
     },
     "metadata": {},
     "output_type": "display_data"
    },
    {
     "data": {
      "text/plain": "Ranking:   0%|          | 0/941 [00:00<?, ?it/s]",
      "application/vnd.jupyter.widget-view+json": {
       "version_major": 2,
       "version_minor": 0,
       "model_id": "5be976bf176f47b4a05e98e273c2e125"
      }
     },
     "metadata": {},
     "output_type": "display_data"
    },
    {
     "name": "stdout",
     "output_type": "stream",
     "text": [
      "\n",
      "TEST:\n",
      "...\n",
      "    |    MAE |    MSE |   RMSE |    AUC |  F1@50 |    MAP |    MRR | NCRR@50 | NDCG@50 | Precision@50 | Recall@50 | Train (s) | Test (s)\n",
      "--- + ------ + ------ + ------ + ------ + ------ + ------ + ------ + ------- + ------- + ------------ + --------- + --------- + --------\n",
      "HFT | 0.7634 | 0.9471 | 0.9732 | 0.6596 | 0.0417 | 0.0343 | 0.1045 |  0.0405 |  0.0586 |       0.0329 |    0.0863 |   37.9185 |   1.5414\n",
      "\n"
     ]
    }
   ],
   "source": [
    "# Instantiate HFT model\n",
    "hft_k100 = cornac.models.HFT(\n",
    "    k=100,\n",
    "    max_iter=10,\n",
    "    grad_iter=5,\n",
    "    l2_reg=0.001,\n",
    "    lambda_text=0.01,\n",
    "    vocab_size=8000,\n",
    "    seed=123,\n",
    ")\n",
    "\n",
    "# Instantiate MSE for evaluation\n",
    "metrics = [MAE(), RMSE(), MSE(),FMeasure(k=50),Precision(k=50),\n",
    "           Recall(k=50), NDCG(k=50), NCRR(k=50),\n",
    "           MRR(),AUC(), MAP()]\n",
    "\n",
    "# Put everything together into an experiment and run it\n",
    "cornac.Experiment(\n",
    "    eval_method=movieslens100K_ratio_split, models=[hft_k100], metrics=metrics, user_based=False\n",
    ").run()"
   ],
   "metadata": {
    "collapsed": false
   }
  },
  {
   "cell_type": "code",
   "execution_count": 12,
   "outputs": [
    {
     "data": {
      "text/plain": "0.16955840437898917"
     },
     "execution_count": 12,
     "metadata": {},
     "output_type": "execute_result"
    }
   ],
   "source": [
    "data3 = {\"model\":\"HFT\",\n",
    "        \"data\":\"movielens-100K\",\n",
    "        \"k\":100,\n",
    "        \"max_iter\":10,\n",
    "        \"grad_iter\":5,\n",
    "        \"lambda_text\":0.01,\n",
    "        \"l2_reg\":0.001,\n",
    "        \"MAE\":0.7634,\"MSE\":0.9471,\"RMSE\":0.9732,\"AUC\":0.6595,\"F1\":0.0417,\"MAP\":0.0343,\"MRR\":0.1049,\"NCRR\":0.0405,\"NDCG\":0.0586,\"Precision\":0.0329,\"Recall\":0.0863,\n",
    "        \"category diversity\":compute_avg_diversity(hft_k100)}\n",
    "data3[\"category diversity\"]"
   ],
   "metadata": {
    "collapsed": false
   }
  },
  {
   "cell_type": "markdown",
   "source": [
    "### k=200"
   ],
   "metadata": {
    "collapsed": false
   }
  },
  {
   "cell_type": "code",
   "execution_count": 13,
   "outputs": [
    {
     "name": "stdout",
     "output_type": "stream",
     "text": [
      "\n",
      "[HFT] Training started!\n"
     ]
    },
    {
     "data": {
      "text/plain": "  0%|          | 0/10 [00:00<?, ?it/s]",
      "application/vnd.jupyter.widget-view+json": {
       "version_major": 2,
       "version_minor": 0,
       "model_id": "b2881a5425b34614aa40a5aa8124c939"
      }
     },
     "metadata": {},
     "output_type": "display_data"
    },
    {
     "name": "stdout",
     "output_type": "stream",
     "text": [
      "Learning completed!\n",
      "\n",
      "[HFT] Evaluation started!\n"
     ]
    },
    {
     "data": {
      "text/plain": "Rating:   0%|          | 0/18925 [00:00<?, ?it/s]",
      "application/vnd.jupyter.widget-view+json": {
       "version_major": 2,
       "version_minor": 0,
       "model_id": "902c8510675145b399d2ee5f44ad0fd7"
      }
     },
     "metadata": {},
     "output_type": "display_data"
    },
    {
     "data": {
      "text/plain": "Ranking:   0%|          | 0/941 [00:00<?, ?it/s]",
      "application/vnd.jupyter.widget-view+json": {
       "version_major": 2,
       "version_minor": 0,
       "model_id": "04ff05e94a004fdab9dae05f24c7715f"
      }
     },
     "metadata": {},
     "output_type": "display_data"
    },
    {
     "name": "stdout",
     "output_type": "stream",
     "text": [
      "\n",
      "TEST:\n",
      "...\n",
      "    |    MAE |    MSE |   RMSE |    AUC |  F1@50 |    MAP |    MRR | NCRR@50 | NDCG@50 | Precision@50 | Recall@50 | Train (s) | Test (s)\n",
      "--- + ------ + ------ + ------ + ------ + ------ + ------ + ------ + ------- + ------- + ------------ + --------- + --------- + --------\n",
      "HFT | 0.7498 | 0.9126 | 0.9553 | 0.6565 | 0.0405 | 0.0331 | 0.0907 |  0.0349 |  0.0556 |       0.0312 |    0.0882 |   79.4958 |   2.1174\n",
      "\n"
     ]
    }
   ],
   "source": [
    "# Instantiate HFT model\n",
    "hft_k200 = cornac.models.HFT(\n",
    "    k=200,\n",
    "    max_iter=10,\n",
    "    grad_iter=5,\n",
    "    l2_reg=0.001,\n",
    "    lambda_text=0.01,\n",
    "    vocab_size=8000,\n",
    "    seed=123,\n",
    ")\n",
    "\n",
    "# Instantiate MSE for evaluation\n",
    "metrics = [MAE(), RMSE(), MSE(),FMeasure(k=50),Precision(k=50),\n",
    "           Recall(k=50), NDCG(k=50), NCRR(k=50),\n",
    "           MRR(),AUC(), MAP()]\n",
    "\n",
    "# Put everything together into an experiment and run it\n",
    "cornac.Experiment(\n",
    "    eval_method=movieslens100K_ratio_split, models=[hft_k200], metrics=metrics, user_based=False\n",
    ").run()"
   ],
   "metadata": {
    "collapsed": false
   }
  },
  {
   "cell_type": "code",
   "execution_count": 14,
   "outputs": [
    {
     "data": {
      "text/plain": "0.15096267166842275"
     },
     "execution_count": 14,
     "metadata": {},
     "output_type": "execute_result"
    }
   ],
   "source": [
    "data4 = {\"model\":\"HFT\",\n",
    "        \"data\":\"movielens-100K\",\n",
    "        \"k\":200,\n",
    "        \"max_iter\":10,\n",
    "        \"grad_iter\":5,\n",
    "        \"lambda_text\":0.01,\n",
    "        \"l2_reg\":0.001,\n",
    "        \"MAE\":0.7498,\"MSE\":0.9127,\"RMSE\":0.9553,\"AUC\":0.6565,\"F1\":0.0406,\"MAP\":0.0330,\"MRR\":0.0906,\"NCRR\":0.0349,\"NDCG\":0.0556,\"Precision\":0.0313,\"Recall\":0.0883,\n",
    "        \"category diversity\":compute_avg_diversity(hft_k200)}\n",
    "data4[\"category diversity\"]"
   ],
   "metadata": {
    "collapsed": false
   }
  },
  {
   "cell_type": "markdown",
   "source": [
    "### k=300"
   ],
   "metadata": {
    "collapsed": false
   }
  },
  {
   "cell_type": "code",
   "execution_count": 15,
   "outputs": [
    {
     "name": "stdout",
     "output_type": "stream",
     "text": [
      "\n",
      "[HFT] Training started!\n"
     ]
    },
    {
     "data": {
      "text/plain": "  0%|          | 0/10 [00:00<?, ?it/s]",
      "application/vnd.jupyter.widget-view+json": {
       "version_major": 2,
       "version_minor": 0,
       "model_id": "764c4304253e460bb2e8c8318817764f"
      }
     },
     "metadata": {},
     "output_type": "display_data"
    },
    {
     "name": "stdout",
     "output_type": "stream",
     "text": [
      "Learning completed!\n",
      "\n",
      "[HFT] Evaluation started!\n"
     ]
    },
    {
     "data": {
      "text/plain": "Rating:   0%|          | 0/18925 [00:00<?, ?it/s]",
      "application/vnd.jupyter.widget-view+json": {
       "version_major": 2,
       "version_minor": 0,
       "model_id": "76f6321d3edf4f718cf9ca8de0af449b"
      }
     },
     "metadata": {},
     "output_type": "display_data"
    },
    {
     "data": {
      "text/plain": "Ranking:   0%|          | 0/941 [00:00<?, ?it/s]",
      "application/vnd.jupyter.widget-view+json": {
       "version_major": 2,
       "version_minor": 0,
       "model_id": "1b5b3fb695764558aa824cc23f8e65bb"
      }
     },
     "metadata": {},
     "output_type": "display_data"
    },
    {
     "name": "stdout",
     "output_type": "stream",
     "text": [
      "\n",
      "TEST:\n",
      "...\n",
      "    |    MAE |    MSE |   RMSE |    AUC |  F1@50 |    MAP |    MRR | NCRR@50 | NDCG@50 | Precision@50 | Recall@50 | Train (s) | Test (s)\n",
      "--- + ------ + ------ + ------ + ------ + ------ + ------ + ------ + ------- + ------- + ------------ + --------- + --------- + --------\n",
      "HFT | 0.7539 | 0.9206 | 0.9595 | 0.6577 | 0.0364 | 0.0313 | 0.0848 |  0.0303 |  0.0492 |       0.0279 |    0.0796 |   96.8714 |   2.1165\n",
      "\n"
     ]
    }
   ],
   "source": [
    "# Instantiate HFT model\n",
    "hft_k300 = cornac.models.HFT(\n",
    "    k=300,\n",
    "    max_iter=10,\n",
    "    grad_iter=5,\n",
    "    l2_reg=0.001,\n",
    "    lambda_text=0.01,\n",
    "    vocab_size=8000,\n",
    "    seed=123,\n",
    ")\n",
    "\n",
    "# Instantiate MSE for evaluation\n",
    "metrics = [MAE(), RMSE(), MSE(),FMeasure(k=50),Precision(k=50),\n",
    "           Recall(k=50), NDCG(k=50), NCRR(k=50),\n",
    "           MRR(),AUC(), MAP()]\n",
    "\n",
    "# Put everything together into an experiment and run it\n",
    "cornac.Experiment(\n",
    "    eval_method=movieslens100K_ratio_split, models=[hft_k300], metrics=metrics, user_based=False\n",
    ").run()"
   ],
   "metadata": {
    "collapsed": false
   }
  },
  {
   "cell_type": "code",
   "execution_count": 16,
   "outputs": [
    {
     "data": {
      "text/plain": "0.1344581931463635"
     },
     "execution_count": 16,
     "metadata": {},
     "output_type": "execute_result"
    }
   ],
   "source": [
    "data5 = {\"model\":\"HFT\",\n",
    "        \"data\":\"movielens-100K\",\n",
    "        \"k\":300,\n",
    "        \"max_iter\":10,\n",
    "        \"grad_iter\":5,\n",
    "        \"lambda_text\":0.01,\n",
    "        \"l2_reg\":0.001,\n",
    "        \"MAE\":0.7539,\"MSE\":0.9206,\"RMSE\":0.9595,\"AUC\":0.6577,\"F1\":0.0366,\"MAP\":0.0313,\"MRR\":0.0848,\"NCRR\":0.0304,\"NDCG\":0.0493,\"Precision\":0.0281,\"Recall\":0.0797,\n",
    "        \"category diversity\":compute_avg_diversity(hft_k300)}\n",
    "data5[\"category diversity\"]"
   ],
   "metadata": {
    "collapsed": false
   }
  },
  {
   "cell_type": "markdown",
   "source": [
    "### k=400"
   ],
   "metadata": {
    "collapsed": false
   }
  },
  {
   "cell_type": "code",
   "execution_count": 17,
   "outputs": [
    {
     "name": "stdout",
     "output_type": "stream",
     "text": [
      "\n",
      "[HFT] Training started!\n"
     ]
    },
    {
     "data": {
      "text/plain": "  0%|          | 0/10 [00:00<?, ?it/s]",
      "application/vnd.jupyter.widget-view+json": {
       "version_major": 2,
       "version_minor": 0,
       "model_id": "887da86df98e404bb9aa69b917382df1"
      }
     },
     "metadata": {},
     "output_type": "display_data"
    },
    {
     "name": "stdout",
     "output_type": "stream",
     "text": [
      "Learning completed!\n",
      "\n",
      "[HFT] Evaluation started!\n"
     ]
    },
    {
     "data": {
      "text/plain": "Rating:   0%|          | 0/18925 [00:00<?, ?it/s]",
      "application/vnd.jupyter.widget-view+json": {
       "version_major": 2,
       "version_minor": 0,
       "model_id": "f0854aa945fa439085fc5d52d9c63818"
      }
     },
     "metadata": {},
     "output_type": "display_data"
    },
    {
     "data": {
      "text/plain": "Ranking:   0%|          | 0/941 [00:00<?, ?it/s]",
      "application/vnd.jupyter.widget-view+json": {
       "version_major": 2,
       "version_minor": 0,
       "model_id": "676fb2ffcacc40318d60f42c3ac26aab"
      }
     },
     "metadata": {},
     "output_type": "display_data"
    },
    {
     "name": "stdout",
     "output_type": "stream",
     "text": [
      "\n",
      "TEST:\n",
      "...\n",
      "    |    MAE |    MSE |   RMSE |    AUC |  F1@50 |    MAP |    MRR | NCRR@50 | NDCG@50 | Precision@50 | Recall@50 | Train (s) | Test (s)\n",
      "--- + ------ + ------ + ------ + ------ + ------ + ------ + ------ + ------- + ------- + ------------ + --------- + --------- + --------\n",
      "HFT | 0.7471 | 0.9015 | 0.9495 | 0.6598 | 0.0368 | 0.0315 | 0.0721 |  0.0276 |  0.0483 |       0.0283 |    0.0788 |  114.2492 |   1.5766\n",
      "\n"
     ]
    }
   ],
   "source": [
    "# Instantiate HFT model\n",
    "hft_k400 = cornac.models.HFT(\n",
    "    k=400,\n",
    "    max_iter=10,\n",
    "    grad_iter=5,\n",
    "    l2_reg=0.001,\n",
    "    lambda_text=0.01,\n",
    "    vocab_size=8000,\n",
    "    seed=123,\n",
    ")\n",
    "\n",
    "# Instantiate MSE for evaluation\n",
    "metrics = [MAE(), RMSE(), MSE(),FMeasure(k=50),Precision(k=50),\n",
    "           Recall(k=50), NDCG(k=50), NCRR(k=50),\n",
    "           MRR(),AUC(), MAP()]\n",
    "\n",
    "# Put everything together into an experiment and run it\n",
    "cornac.Experiment(\n",
    "    eval_method=movieslens100K_ratio_split, models=[hft_k400], metrics=metrics, user_based=False\n",
    ").run()"
   ],
   "metadata": {
    "collapsed": false
   }
  },
  {
   "cell_type": "code",
   "execution_count": 18,
   "outputs": [
    {
     "data": {
      "text/plain": "0.15969421280865836"
     },
     "execution_count": 18,
     "metadata": {},
     "output_type": "execute_result"
    }
   ],
   "source": [
    "data6 = {\"model\":\"HFT\",\n",
    "        \"data\":\"movielens-100K\",\n",
    "        \"k\":400,\n",
    "        \"max_iter\":10,\n",
    "        \"grad_iter\":5,\n",
    "        \"lambda_text\":0.01,\n",
    "        \"l2_reg\":0.001,\n",
    "        \"MAE\":0.7471,\"MSE\":0.9015,\"RMSE\":0.9495,\"AUC\":0.6598,\"F1\":0.0367,\"MAP\":0.0315,\"MRR\":0.0721,\"NCRR\":0.0276,\"NDCG\":0.0482,\"Precision\":0.0282,\"Recall\":0.0786,\n",
    "        \"category diversity\":compute_avg_diversity(hft_k400)}\n",
    "data6[\"category diversity\"]"
   ],
   "metadata": {
    "collapsed": false
   }
  },
  {
   "cell_type": "markdown",
   "source": [
    "#----------------------------------"
   ],
   "metadata": {
    "collapsed": false
   }
  },
  {
   "cell_type": "markdown",
   "source": [
    "### k=300,lambda_text=0.1\n",
    " lambda_text: float, default: 0.1\n",
    "        Weight of corpus likelihood in objective function."
   ],
   "metadata": {
    "collapsed": false
   }
  },
  {
   "cell_type": "code",
   "execution_count": 19,
   "outputs": [
    {
     "name": "stdout",
     "output_type": "stream",
     "text": [
      "\n",
      "[HFT] Training started!\n"
     ]
    },
    {
     "data": {
      "text/plain": "  0%|          | 0/10 [00:00<?, ?it/s]",
      "application/vnd.jupyter.widget-view+json": {
       "version_major": 2,
       "version_minor": 0,
       "model_id": "fb6ad8a5601a42b0b64554947b3fe7c3"
      }
     },
     "metadata": {},
     "output_type": "display_data"
    },
    {
     "name": "stdout",
     "output_type": "stream",
     "text": [
      "Learning completed!\n",
      "\n",
      "[HFT] Evaluation started!\n"
     ]
    },
    {
     "data": {
      "text/plain": "Rating:   0%|          | 0/18925 [00:00<?, ?it/s]",
      "application/vnd.jupyter.widget-view+json": {
       "version_major": 2,
       "version_minor": 0,
       "model_id": "9d7b44dfd5424035a9dc7fc1e38b4227"
      }
     },
     "metadata": {},
     "output_type": "display_data"
    },
    {
     "data": {
      "text/plain": "Ranking:   0%|          | 0/941 [00:00<?, ?it/s]",
      "application/vnd.jupyter.widget-view+json": {
       "version_major": 2,
       "version_minor": 0,
       "model_id": "5b346f30d5f741a999cc0b386b721afe"
      }
     },
     "metadata": {},
     "output_type": "display_data"
    },
    {
     "name": "stdout",
     "output_type": "stream",
     "text": [
      "\n",
      "TEST:\n",
      "...\n",
      "    |    MAE |    MSE |   RMSE |    AUC |  F1@50 |    MAP |    MRR | NCRR@50 | NDCG@50 | Precision@50 | Recall@50 | Train (s) | Test (s)\n",
      "--- + ------ + ------ + ------ + ------ + ------ + ------ + ------ + ------- + ------- + ------------ + --------- + --------- + --------\n",
      "HFT | 0.7545 | 0.9214 | 0.9599 | 0.6577 | 0.0367 | 0.0312 | 0.0824 |  0.0298 |  0.0494 |       0.0281 |    0.0803 |   97.3042 |   1.4463\n",
      "\n"
     ]
    }
   ],
   "source": [
    "# Instantiate HFT model\n",
    "hft_lamda_text01 = cornac.models.HFT(\n",
    "    k=300,\n",
    "    max_iter=10,\n",
    "    grad_iter=5,\n",
    "    l2_reg=0.001,\n",
    "    lambda_text=0.1,\n",
    "    vocab_size=8000,\n",
    "    seed=123,\n",
    ")\n",
    "\n",
    "# Instantiate MSE for evaluation\n",
    "metrics = [MAE(), RMSE(), MSE(),FMeasure(k=50),Precision(k=50),\n",
    "           Recall(k=50), NDCG(k=50), NCRR(k=50),\n",
    "           MRR(),AUC(), MAP()]\n",
    "\n",
    "# Put everything together into an experiment and run it\n",
    "cornac.Experiment(\n",
    "    eval_method=movieslens100K_ratio_split, models=[hft_lamda_text01], metrics=metrics, user_based=False\n",
    ").run()"
   ],
   "metadata": {
    "collapsed": false
   }
  },
  {
   "cell_type": "code",
   "execution_count": 20,
   "outputs": [
    {
     "data": {
      "text/plain": "0.1344581931463635"
     },
     "execution_count": 20,
     "metadata": {},
     "output_type": "execute_result"
    }
   ],
   "source": [
    "data7 = {\"model\":\"HFT\",\n",
    "        \"data\":\"movielens-100K\",\n",
    "        \"k\":300,\n",
    "        \"max_iter\":10,\n",
    "        \"grad_iter\":5,\n",
    "        \"lambda_text\":0.1,\n",
    "        \"l2_reg\":0.001,\n",
    "        \"MAE\":0.7544,\"MSE\":0.9213,\"RMSE\":0.9599,\"AUC\":0.6576,\"F1\":0.0364,\"MAP\":0.0311,\"MRR\":0.0825,\"NCRR\":0.0297,\"NDCG\":0.0489,\"Precision\":0.0279,\"Recall\":0.0793,\n",
    "        \"category diversity\":compute_avg_diversity(hft_lamda_text01)}\n",
    "data7[\"category diversity\"]"
   ],
   "metadata": {
    "collapsed": false
   }
  },
  {
   "cell_type": "markdown",
   "source": [
    "### k=300, lambda_text=0.001"
   ],
   "metadata": {
    "collapsed": false
   }
  },
  {
   "cell_type": "code",
   "execution_count": 21,
   "outputs": [
    {
     "name": "stdout",
     "output_type": "stream",
     "text": [
      "\n",
      "[HFT] Training started!\n"
     ]
    },
    {
     "data": {
      "text/plain": "  0%|          | 0/10 [00:00<?, ?it/s]",
      "application/vnd.jupyter.widget-view+json": {
       "version_major": 2,
       "version_minor": 0,
       "model_id": "2af8a5b6c7af481997d32f880bbc555f"
      }
     },
     "metadata": {},
     "output_type": "display_data"
    },
    {
     "name": "stdout",
     "output_type": "stream",
     "text": [
      "Learning completed!\n",
      "\n",
      "[HFT] Evaluation started!\n"
     ]
    },
    {
     "data": {
      "text/plain": "Rating:   0%|          | 0/18925 [00:00<?, ?it/s]",
      "application/vnd.jupyter.widget-view+json": {
       "version_major": 2,
       "version_minor": 0,
       "model_id": "6e15f28992e94e769e34614a67bebd44"
      }
     },
     "metadata": {},
     "output_type": "display_data"
    },
    {
     "data": {
      "text/plain": "Ranking:   0%|          | 0/941 [00:00<?, ?it/s]",
      "application/vnd.jupyter.widget-view+json": {
       "version_major": 2,
       "version_minor": 0,
       "model_id": "421cc58369d2451884ea2250224dd2ed"
      }
     },
     "metadata": {},
     "output_type": "display_data"
    },
    {
     "name": "stdout",
     "output_type": "stream",
     "text": [
      "\n",
      "TEST:\n",
      "...\n",
      "    |    MAE |    MSE |   RMSE |    AUC |  F1@50 |    MAP |    MRR | NCRR@50 | NDCG@50 | Precision@50 | Recall@50 | Train (s) | Test (s)\n",
      "--- + ------ + ------ + ------ + ------ + ------ + ------ + ------ + ------- + ------- + ------------ + --------- + --------- + --------\n",
      "HFT | 0.7539 | 0.9206 | 0.9595 | 0.6577 | 0.0365 | 0.0313 | 0.0849 |  0.0304 |  0.0493 |       0.0280 |    0.0796 |  100.5494 |   1.5014\n",
      "\n"
     ]
    }
   ],
   "source": [
    "# Instantiate HFT model\n",
    "hft_lamda_text001 = cornac.models.HFT(\n",
    "    k=300,\n",
    "    max_iter=10,\n",
    "    grad_iter=5,\n",
    "    l2_reg=0.001,\n",
    "    lambda_text=0.001,\n",
    "    vocab_size=8000,\n",
    "    seed=123,\n",
    ")\n",
    "\n",
    "# Instantiate MSE for evaluation\n",
    "metrics = [MAE(), RMSE(), MSE(),FMeasure(k=50),Precision(k=50),\n",
    "           Recall(k=50), NDCG(k=50), NCRR(k=50),\n",
    "           MRR(),AUC(), MAP()]\n",
    "\n",
    "# Put everything together into an experiment and run it\n",
    "cornac.Experiment(\n",
    "    eval_method=movieslens100K_ratio_split, models=[hft_lamda_text001], metrics=metrics, user_based=False\n",
    ").run()"
   ],
   "metadata": {
    "collapsed": false
   }
  },
  {
   "cell_type": "code",
   "execution_count": 22,
   "outputs": [
    {
     "data": {
      "text/plain": "0.1344581931463635"
     },
     "execution_count": 22,
     "metadata": {},
     "output_type": "execute_result"
    }
   ],
   "source": [
    "data8 = {\"model\":\"HFT\",\n",
    "        \"data\":\"movielens-100K\",\n",
    "        \"k\":300,\n",
    "        \"max_iter\":10,\n",
    "        \"grad_iter\":5,\n",
    "        \"lambda_text\":0.001,\n",
    "        \"l2_reg\":0.001,\n",
    "        \"MAE\":0.7539,\"MSE\":0.9206,\"RMSE\":0.9595,\"AUC\":0.6577,\"F1\":0.0365,\"MAP\":0.0313,\"MRR\":0.0850,\"NCRR\":0.0304,\"NDCG\":0.0493,\"Precision\":0.0280,\"Recall\":0.0795,\n",
    "        \"category diversity\":compute_avg_diversity(hft_lamda_text001)}\n",
    "data8[\"category diversity\"]"
   ],
   "metadata": {
    "collapsed": false
   }
  },
  {
   "cell_type": "markdown",
   "source": [
    "### k=300, lamda_text=0.0001"
   ],
   "metadata": {
    "collapsed": false
   }
  },
  {
   "cell_type": "code",
   "execution_count": 23,
   "outputs": [
    {
     "name": "stdout",
     "output_type": "stream",
     "text": [
      "\n",
      "[HFT] Training started!\n"
     ]
    },
    {
     "data": {
      "text/plain": "  0%|          | 0/10 [00:00<?, ?it/s]",
      "application/vnd.jupyter.widget-view+json": {
       "version_major": 2,
       "version_minor": 0,
       "model_id": "cecda3620b6743c89bd84857cc297b1d"
      }
     },
     "metadata": {},
     "output_type": "display_data"
    },
    {
     "name": "stdout",
     "output_type": "stream",
     "text": [
      "Learning completed!\n",
      "\n",
      "[HFT] Evaluation started!\n"
     ]
    },
    {
     "data": {
      "text/plain": "Rating:   0%|          | 0/18925 [00:00<?, ?it/s]",
      "application/vnd.jupyter.widget-view+json": {
       "version_major": 2,
       "version_minor": 0,
       "model_id": "d522ef89c4524e8cad29efaa449c54d9"
      }
     },
     "metadata": {},
     "output_type": "display_data"
    },
    {
     "data": {
      "text/plain": "Ranking:   0%|          | 0/941 [00:00<?, ?it/s]",
      "application/vnd.jupyter.widget-view+json": {
       "version_major": 2,
       "version_minor": 0,
       "model_id": "4d9b052b2fde4788ac1c94d1072e5d64"
      }
     },
     "metadata": {},
     "output_type": "display_data"
    },
    {
     "name": "stdout",
     "output_type": "stream",
     "text": [
      "\n",
      "TEST:\n",
      "...\n",
      "    |    MAE |    MSE |   RMSE |    AUC |  F1@50 |    MAP |    MRR | NCRR@50 | NDCG@50 | Precision@50 | Recall@50 | Train (s) | Test (s)\n",
      "--- + ------ + ------ + ------ + ------ + ------ + ------ + ------ + ------- + ------- + ------------ + --------- + --------- + --------\n",
      "HFT | 0.7539 | 0.9206 | 0.9595 | 0.6577 | 0.0365 | 0.0313 | 0.0851 |  0.0305 |  0.0493 |       0.0280 |    0.0796 |   96.1422 |   1.6178\n",
      "\n"
     ]
    }
   ],
   "source": [
    "# Instantiate HFT model\n",
    "hft_lamda_text0001 = cornac.models.HFT(\n",
    "    k=300,\n",
    "    max_iter=10,\n",
    "    grad_iter=5,\n",
    "    l2_reg=0.001,\n",
    "    lambda_text=0.0001,\n",
    "    vocab_size=8000,\n",
    "    seed=123,\n",
    ")\n",
    "\n",
    "# Instantiate MSE for evaluation\n",
    "metrics = [MAE(), RMSE(), MSE(),FMeasure(k=50),Precision(k=50),\n",
    "           Recall(k=50), NDCG(k=50), NCRR(k=50),\n",
    "           MRR(),AUC(), MAP()]\n",
    "\n",
    "# Put everything together into an experiment and run it\n",
    "cornac.Experiment(\n",
    "    eval_method=movieslens100K_ratio_split, models=[hft_lamda_text0001], metrics=metrics, user_based=False\n",
    ").run()"
   ],
   "metadata": {
    "collapsed": false
   }
  },
  {
   "cell_type": "code",
   "execution_count": 24,
   "outputs": [
    {
     "data": {
      "text/plain": "0.1344581931463635"
     },
     "execution_count": 24,
     "metadata": {},
     "output_type": "execute_result"
    }
   ],
   "source": [
    "data9 = {\"model\":\"HFT\",\n",
    "        \"data\":\"movielens-100K\",\n",
    "        \"k\":300,\n",
    "        \"max_iter\":10,\n",
    "        \"grad_iter\":5,\n",
    "        \"lambda_text\":0.0001,\n",
    "        \"l2_reg\":0.001,\n",
    "        \"MAE\":0.7539,\"MSE\":0.9206,\"RMSE\":0.9595,\"AUC\":0.6577,\"F1\":0.0365,\"MAP\":0.0313,\"MRR\":0.0851,\"NCRR\":0.0304,\"NDCG\":0.0493,\"Precision\":0.0280,\"Recall\":0.0796,\n",
    "        \"category diversity\":compute_avg_diversity(hft_lamda_text0001)}\n",
    "data9[\"category diversity\"]"
   ],
   "metadata": {
    "collapsed": false
   }
  },
  {
   "cell_type": "markdown",
   "source": [
    "### k=200, lambda_text=0.001"
   ],
   "metadata": {
    "collapsed": false
   }
  },
  {
   "cell_type": "code",
   "execution_count": 25,
   "outputs": [
    {
     "name": "stdout",
     "output_type": "stream",
     "text": [
      "\n",
      "[HFT] Training started!\n"
     ]
    },
    {
     "data": {
      "text/plain": "  0%|          | 0/10 [00:00<?, ?it/s]",
      "application/vnd.jupyter.widget-view+json": {
       "version_major": 2,
       "version_minor": 0,
       "model_id": "161fa7f2815244b4a1c6ab5f00f089b0"
      }
     },
     "metadata": {},
     "output_type": "display_data"
    },
    {
     "name": "stdout",
     "output_type": "stream",
     "text": [
      "Learning completed!\n",
      "\n",
      "[HFT] Evaluation started!\n"
     ]
    },
    {
     "data": {
      "text/plain": "Rating:   0%|          | 0/18925 [00:00<?, ?it/s]",
      "application/vnd.jupyter.widget-view+json": {
       "version_major": 2,
       "version_minor": 0,
       "model_id": "1728ed396a4e4ce58eb6f9b2b9d694c5"
      }
     },
     "metadata": {},
     "output_type": "display_data"
    },
    {
     "data": {
      "text/plain": "Ranking:   0%|          | 0/941 [00:00<?, ?it/s]",
      "application/vnd.jupyter.widget-view+json": {
       "version_major": 2,
       "version_minor": 0,
       "model_id": "67899f95dc2f4e94b1ca6d016a3e1d65"
      }
     },
     "metadata": {},
     "output_type": "display_data"
    },
    {
     "name": "stdout",
     "output_type": "stream",
     "text": [
      "\n",
      "TEST:\n",
      "...\n",
      "    |    MAE |    MSE |   RMSE |    AUC |  F1@50 |    MAP |    MRR | NCRR@50 | NDCG@50 | Precision@50 | Recall@50 | Train (s) | Test (s)\n",
      "--- + ------ + ------ + ------ + ------ + ------ + ------ + ------ + ------- + ------- + ------------ + --------- + --------- + --------\n",
      "HFT | 0.7498 | 0.9127 | 0.9553 | 0.6565 | 0.0405 | 0.0331 | 0.0913 |  0.0351 |  0.0557 |       0.0312 |    0.0882 |   83.3049 |   1.7585\n",
      "\n"
     ]
    }
   ],
   "source": [
    "# Instantiate HFT model\n",
    "hft_lamda_text001_k200 = cornac.models.HFT(\n",
    "    k=200,\n",
    "    max_iter=10,\n",
    "    grad_iter=5,\n",
    "    l2_reg=0.001,\n",
    "    lambda_text=0.001,\n",
    "    vocab_size=8000,\n",
    "    seed=123,\n",
    ")\n",
    "\n",
    "# Instantiate MSE for evaluation\n",
    "metrics = [MAE(), RMSE(), MSE(),FMeasure(k=50),Precision(k=50),\n",
    "           Recall(k=50), NDCG(k=50), NCRR(k=50),\n",
    "           MRR(),AUC(), MAP()]\n",
    "\n",
    "# Put everything together into an experiment and run it\n",
    "cornac.Experiment(\n",
    "    eval_method=movieslens100K_ratio_split, models=[hft_lamda_text001_k200], metrics=metrics, user_based=False\n",
    ").run()"
   ],
   "metadata": {
    "collapsed": false
   }
  },
  {
   "cell_type": "code",
   "execution_count": 26,
   "outputs": [
    {
     "data": {
      "text/plain": "0.15096267166842275"
     },
     "execution_count": 26,
     "metadata": {},
     "output_type": "execute_result"
    }
   ],
   "source": [
    "data10 = {\"model\":\"HFT\",\n",
    "        \"data\":\"movielens-100K\",\n",
    "        \"k\":200,\n",
    "        \"max_iter\":10,\n",
    "        \"grad_iter\":5,\n",
    "        \"lambda_text\":0.001,\n",
    "        \"l2_reg\":0.001,\n",
    "        \"MAE\":0.7498,\"MSE\":0.9127,\"RMSE\":0.9553,\"AUC\":0.6565,\"F1\":0.0405,\"MAP\":0.0331,\"MRR\":0.0913,\"NCRR\":0.0351,\"NDCG\":0.0557,\"Precision\":0.0312,\"Recall\":0.0881,\n",
    "        \"category diversity\":compute_avg_diversity(hft_lamda_text001_k200)}\n",
    "data10[\"category diversity\"]"
   ],
   "metadata": {
    "collapsed": false
   }
  },
  {
   "cell_type": "markdown",
   "source": [
    "### k=300, lambda_text=0.001, l2_reg=0.01\n",
    "l2_reg: float, default: 0.001\n",
    "        Regularization for user item latent factors."
   ],
   "metadata": {
    "collapsed": false
   }
  },
  {
   "cell_type": "code",
   "execution_count": 27,
   "outputs": [
    {
     "name": "stdout",
     "output_type": "stream",
     "text": [
      "\n",
      "[HFT] Training started!\n"
     ]
    },
    {
     "data": {
      "text/plain": "  0%|          | 0/10 [00:00<?, ?it/s]",
      "application/vnd.jupyter.widget-view+json": {
       "version_major": 2,
       "version_minor": 0,
       "model_id": "505715b2a95f49a2bb40f6442dc63b3d"
      }
     },
     "metadata": {},
     "output_type": "display_data"
    },
    {
     "name": "stdout",
     "output_type": "stream",
     "text": [
      "Learning completed!\n",
      "\n",
      "[HFT] Evaluation started!\n"
     ]
    },
    {
     "data": {
      "text/plain": "Rating:   0%|          | 0/18925 [00:00<?, ?it/s]",
      "application/vnd.jupyter.widget-view+json": {
       "version_major": 2,
       "version_minor": 0,
       "model_id": "e53698925d5e48d2a9656463a0f6c142"
      }
     },
     "metadata": {},
     "output_type": "display_data"
    },
    {
     "data": {
      "text/plain": "Ranking:   0%|          | 0/941 [00:00<?, ?it/s]",
      "application/vnd.jupyter.widget-view+json": {
       "version_major": 2,
       "version_minor": 0,
       "model_id": "d035432244f14d9a8c8aa4ba679c6c09"
      }
     },
     "metadata": {},
     "output_type": "display_data"
    },
    {
     "name": "stdout",
     "output_type": "stream",
     "text": [
      "\n",
      "TEST:\n",
      "...\n",
      "    |    MAE |    MSE |   RMSE |    AUC |  F1@50 |    MAP |    MRR | NCRR@50 | NDCG@50 | Precision@50 | Recall@50 | Train (s) | Test (s)\n",
      "--- + ------ + ------ + ------ + ------ + ------ + ------ + ------ + ------- + ------- + ------------ + --------- + --------- + --------\n",
      "HFT | 0.7538 | 0.9204 | 0.9594 | 0.6577 | 0.0365 | 0.0313 | 0.0849 |  0.0304 |  0.0493 |       0.0280 |    0.0794 |  101.4304 |   1.8322\n",
      "\n"
     ]
    }
   ],
   "source": [
    "# Instantiate HFT model\n",
    "hft_l2001_k300 = cornac.models.HFT(\n",
    "    k=300,\n",
    "    max_iter=10,\n",
    "    grad_iter=5,\n",
    "    l2_reg=0.01,\n",
    "    lambda_text=0.001,\n",
    "    vocab_size=8000,\n",
    "    seed=123,\n",
    ")\n",
    "\n",
    "# Instantiate MSE for evaluation\n",
    "metrics = [MAE(), RMSE(), MSE(),FMeasure(k=50),Precision(k=50),\n",
    "           Recall(k=50), NDCG(k=50), NCRR(k=50),\n",
    "           MRR(),AUC(), MAP()]\n",
    "\n",
    "# Put everything together into an experiment and run it\n",
    "cornac.Experiment(\n",
    "    eval_method=movieslens100K_ratio_split, models=[hft_l2001_k300], metrics=metrics, user_based=False\n",
    ").run()"
   ],
   "metadata": {
    "collapsed": false
   }
  },
  {
   "cell_type": "code",
   "execution_count": 28,
   "outputs": [
    {
     "data": {
      "text/plain": "0.1344581931463635"
     },
     "execution_count": 28,
     "metadata": {},
     "output_type": "execute_result"
    }
   ],
   "source": [
    "data11 = {\"model\": \"HFT\",\n",
    "          \"data\": \"movielens-100K\",\n",
    "          \"k\": 300,\n",
    "          \"max_iter\": 10,\n",
    "          \"grad_iter\": 5,\n",
    "          \"lambda_text\": 0.001,\n",
    "          \"l2_reg\": 0.01,\n",
    "          \"MAE\": 0.7538, \"MSE\": 0.9204, \"RMSE\": 0.9594, \"AUC\": 0.6577, \"F1\": 0.0364, \"MAP\": 0.0313, \"MRR\": 0.0849,\n",
    "          \"NCRR\": 0.0304, \"NDCG\": 0.0492, \"Precision\": 0.0279, \"Recall\": 0.0794,\n",
    "          \"category diversity\": compute_avg_diversity(hft_l2001_k300)}\n",
    "data11[\"category diversity\"]"
   ],
   "metadata": {
    "collapsed": false
   }
  },
  {
   "cell_type": "code",
   "execution_count": 29,
   "outputs": [],
   "source": [
    "data = [data1,data2,data3,data4,data5,data6,data7,data8,data9,data10,data11]\n",
    "df = pd.DataFrame(columns = data1.keys())\n",
    "i=0\n",
    "for d in data:\n",
    "    df = pd.concat([df, pd.DataFrame(d,columns = list(d.keys()),index=[i])], ignore_index=False)\n",
    "    i += 1"
   ],
   "metadata": {
    "collapsed": false
   }
  },
  {
   "cell_type": "code",
   "execution_count": 30,
   "outputs": [
    {
     "data": {
      "text/plain": "   model            data    k max_iter grad_iter  lambda_text  l2_reg     MAE  \\\n0    HFT  movielens-100K   10       10         5       0.0100   0.001  0.7450   \n1    HFT  movielens-100K   50       10         5       0.0100   0.001  0.7570   \n2    HFT  movielens-100K  100       10         5       0.0100   0.001  0.7634   \n3    HFT  movielens-100K  200       10         5       0.0100   0.001  0.7498   \n4    HFT  movielens-100K  300       10         5       0.0100   0.001  0.7539   \n5    HFT  movielens-100K  400       10         5       0.0100   0.001  0.7471   \n6    HFT  movielens-100K  300       10         5       0.1000   0.001  0.7544   \n7    HFT  movielens-100K  300       10         5       0.0010   0.001  0.7539   \n8    HFT  movielens-100K  300       10         5       0.0001   0.001  0.7539   \n9    HFT  movielens-100K  200       10         5       0.0010   0.001  0.7498   \n10   HFT  movielens-100K  300       10         5       0.0010   0.010  0.7538   \n\n       MSE    RMSE     AUC      F1     MAP     MRR    NCRR    NDCG  Precision  \\\n0   0.9100  0.9539  0.6618  0.0476  0.0379  0.1403  0.0550  0.0696     0.0381   \n1   0.9397  0.9694  0.6559  0.0470  0.0368  0.1269  0.0494  0.0668     0.0373   \n2   0.9471  0.9732  0.6595  0.0417  0.0343  0.1049  0.0405  0.0586     0.0329   \n3   0.9127  0.9553  0.6565  0.0406  0.0330  0.0906  0.0349  0.0556     0.0313   \n4   0.9206  0.9595  0.6577  0.0366  0.0313  0.0848  0.0304  0.0493     0.0281   \n5   0.9015  0.9495  0.6598  0.0367  0.0315  0.0721  0.0276  0.0482     0.0282   \n6   0.9213  0.9599  0.6576  0.0364  0.0311  0.0825  0.0297  0.0489     0.0279   \n7   0.9206  0.9595  0.6577  0.0365  0.0313  0.0850  0.0304  0.0493     0.0280   \n8   0.9206  0.9595  0.6577  0.0365  0.0313  0.0851  0.0304  0.0493     0.0280   \n9   0.9127  0.9553  0.6565  0.0405  0.0331  0.0913  0.0351  0.0557     0.0312   \n10  0.9204  0.9594  0.6577  0.0364  0.0313  0.0849  0.0304  0.0492     0.0279   \n\n    Recall  category diversity  \n0   0.0978            0.192212  \n1   0.0952            0.199593  \n2   0.0863            0.169558  \n3   0.0883            0.150963  \n4   0.0797            0.134458  \n5   0.0786            0.159694  \n6   0.0793            0.134458  \n7   0.0795            0.134458  \n8   0.0796            0.134458  \n9   0.0881            0.150963  \n10  0.0794            0.134458  ",
      "text/html": "<div>\n<style scoped>\n    .dataframe tbody tr th:only-of-type {\n        vertical-align: middle;\n    }\n\n    .dataframe tbody tr th {\n        vertical-align: top;\n    }\n\n    .dataframe thead th {\n        text-align: right;\n    }\n</style>\n<table border=\"1\" class=\"dataframe\">\n  <thead>\n    <tr style=\"text-align: right;\">\n      <th></th>\n      <th>model</th>\n      <th>data</th>\n      <th>k</th>\n      <th>max_iter</th>\n      <th>grad_iter</th>\n      <th>lambda_text</th>\n      <th>l2_reg</th>\n      <th>MAE</th>\n      <th>MSE</th>\n      <th>RMSE</th>\n      <th>AUC</th>\n      <th>F1</th>\n      <th>MAP</th>\n      <th>MRR</th>\n      <th>NCRR</th>\n      <th>NDCG</th>\n      <th>Precision</th>\n      <th>Recall</th>\n      <th>category diversity</th>\n    </tr>\n  </thead>\n  <tbody>\n    <tr>\n      <th>0</th>\n      <td>HFT</td>\n      <td>movielens-100K</td>\n      <td>10</td>\n      <td>10</td>\n      <td>5</td>\n      <td>0.0100</td>\n      <td>0.001</td>\n      <td>0.7450</td>\n      <td>0.9100</td>\n      <td>0.9539</td>\n      <td>0.6618</td>\n      <td>0.0476</td>\n      <td>0.0379</td>\n      <td>0.1403</td>\n      <td>0.0550</td>\n      <td>0.0696</td>\n      <td>0.0381</td>\n      <td>0.0978</td>\n      <td>0.192212</td>\n    </tr>\n    <tr>\n      <th>1</th>\n      <td>HFT</td>\n      <td>movielens-100K</td>\n      <td>50</td>\n      <td>10</td>\n      <td>5</td>\n      <td>0.0100</td>\n      <td>0.001</td>\n      <td>0.7570</td>\n      <td>0.9397</td>\n      <td>0.9694</td>\n      <td>0.6559</td>\n      <td>0.0470</td>\n      <td>0.0368</td>\n      <td>0.1269</td>\n      <td>0.0494</td>\n      <td>0.0668</td>\n      <td>0.0373</td>\n      <td>0.0952</td>\n      <td>0.199593</td>\n    </tr>\n    <tr>\n      <th>2</th>\n      <td>HFT</td>\n      <td>movielens-100K</td>\n      <td>100</td>\n      <td>10</td>\n      <td>5</td>\n      <td>0.0100</td>\n      <td>0.001</td>\n      <td>0.7634</td>\n      <td>0.9471</td>\n      <td>0.9732</td>\n      <td>0.6595</td>\n      <td>0.0417</td>\n      <td>0.0343</td>\n      <td>0.1049</td>\n      <td>0.0405</td>\n      <td>0.0586</td>\n      <td>0.0329</td>\n      <td>0.0863</td>\n      <td>0.169558</td>\n    </tr>\n    <tr>\n      <th>3</th>\n      <td>HFT</td>\n      <td>movielens-100K</td>\n      <td>200</td>\n      <td>10</td>\n      <td>5</td>\n      <td>0.0100</td>\n      <td>0.001</td>\n      <td>0.7498</td>\n      <td>0.9127</td>\n      <td>0.9553</td>\n      <td>0.6565</td>\n      <td>0.0406</td>\n      <td>0.0330</td>\n      <td>0.0906</td>\n      <td>0.0349</td>\n      <td>0.0556</td>\n      <td>0.0313</td>\n      <td>0.0883</td>\n      <td>0.150963</td>\n    </tr>\n    <tr>\n      <th>4</th>\n      <td>HFT</td>\n      <td>movielens-100K</td>\n      <td>300</td>\n      <td>10</td>\n      <td>5</td>\n      <td>0.0100</td>\n      <td>0.001</td>\n      <td>0.7539</td>\n      <td>0.9206</td>\n      <td>0.9595</td>\n      <td>0.6577</td>\n      <td>0.0366</td>\n      <td>0.0313</td>\n      <td>0.0848</td>\n      <td>0.0304</td>\n      <td>0.0493</td>\n      <td>0.0281</td>\n      <td>0.0797</td>\n      <td>0.134458</td>\n    </tr>\n    <tr>\n      <th>5</th>\n      <td>HFT</td>\n      <td>movielens-100K</td>\n      <td>400</td>\n      <td>10</td>\n      <td>5</td>\n      <td>0.0100</td>\n      <td>0.001</td>\n      <td>0.7471</td>\n      <td>0.9015</td>\n      <td>0.9495</td>\n      <td>0.6598</td>\n      <td>0.0367</td>\n      <td>0.0315</td>\n      <td>0.0721</td>\n      <td>0.0276</td>\n      <td>0.0482</td>\n      <td>0.0282</td>\n      <td>0.0786</td>\n      <td>0.159694</td>\n    </tr>\n    <tr>\n      <th>6</th>\n      <td>HFT</td>\n      <td>movielens-100K</td>\n      <td>300</td>\n      <td>10</td>\n      <td>5</td>\n      <td>0.1000</td>\n      <td>0.001</td>\n      <td>0.7544</td>\n      <td>0.9213</td>\n      <td>0.9599</td>\n      <td>0.6576</td>\n      <td>0.0364</td>\n      <td>0.0311</td>\n      <td>0.0825</td>\n      <td>0.0297</td>\n      <td>0.0489</td>\n      <td>0.0279</td>\n      <td>0.0793</td>\n      <td>0.134458</td>\n    </tr>\n    <tr>\n      <th>7</th>\n      <td>HFT</td>\n      <td>movielens-100K</td>\n      <td>300</td>\n      <td>10</td>\n      <td>5</td>\n      <td>0.0010</td>\n      <td>0.001</td>\n      <td>0.7539</td>\n      <td>0.9206</td>\n      <td>0.9595</td>\n      <td>0.6577</td>\n      <td>0.0365</td>\n      <td>0.0313</td>\n      <td>0.0850</td>\n      <td>0.0304</td>\n      <td>0.0493</td>\n      <td>0.0280</td>\n      <td>0.0795</td>\n      <td>0.134458</td>\n    </tr>\n    <tr>\n      <th>8</th>\n      <td>HFT</td>\n      <td>movielens-100K</td>\n      <td>300</td>\n      <td>10</td>\n      <td>5</td>\n      <td>0.0001</td>\n      <td>0.001</td>\n      <td>0.7539</td>\n      <td>0.9206</td>\n      <td>0.9595</td>\n      <td>0.6577</td>\n      <td>0.0365</td>\n      <td>0.0313</td>\n      <td>0.0851</td>\n      <td>0.0304</td>\n      <td>0.0493</td>\n      <td>0.0280</td>\n      <td>0.0796</td>\n      <td>0.134458</td>\n    </tr>\n    <tr>\n      <th>9</th>\n      <td>HFT</td>\n      <td>movielens-100K</td>\n      <td>200</td>\n      <td>10</td>\n      <td>5</td>\n      <td>0.0010</td>\n      <td>0.001</td>\n      <td>0.7498</td>\n      <td>0.9127</td>\n      <td>0.9553</td>\n      <td>0.6565</td>\n      <td>0.0405</td>\n      <td>0.0331</td>\n      <td>0.0913</td>\n      <td>0.0351</td>\n      <td>0.0557</td>\n      <td>0.0312</td>\n      <td>0.0881</td>\n      <td>0.150963</td>\n    </tr>\n    <tr>\n      <th>10</th>\n      <td>HFT</td>\n      <td>movielens-100K</td>\n      <td>300</td>\n      <td>10</td>\n      <td>5</td>\n      <td>0.0010</td>\n      <td>0.010</td>\n      <td>0.7538</td>\n      <td>0.9204</td>\n      <td>0.9594</td>\n      <td>0.6577</td>\n      <td>0.0364</td>\n      <td>0.0313</td>\n      <td>0.0849</td>\n      <td>0.0304</td>\n      <td>0.0492</td>\n      <td>0.0279</td>\n      <td>0.0794</td>\n      <td>0.134458</td>\n    </tr>\n  </tbody>\n</table>\n</div>"
     },
     "execution_count": 30,
     "metadata": {},
     "output_type": "execute_result"
    }
   ],
   "source": [
    "df"
   ],
   "metadata": {
    "collapsed": false
   }
  },
  {
   "cell_type": "code",
   "execution_count": 31,
   "outputs": [],
   "source": [
    "df.to_csv('/Users/pigr/Desktop/cornac/cornac/dataset/hft_movielens_100K.csv',header=-1,index=0)"
   ],
   "metadata": {
    "collapsed": false
   }
  },
  {
   "cell_type": "code",
   "execution_count": null,
   "outputs": [],
   "source": [],
   "metadata": {
    "collapsed": false
   }
  }
 ],
 "metadata": {
  "kernelspec": {
   "name": "python3",
   "language": "python",
   "display_name": "Python 3 (ipykernel)"
  },
  "language_info": {
   "codemirror_mode": {
    "name": "ipython",
    "version": 2
   },
   "file_extension": ".py",
   "mimetype": "text/x-python",
   "name": "python",
   "nbconvert_exporter": "python",
   "pygments_lexer": "ipython2",
   "version": "2.7.6"
  }
 },
 "nbformat": 4,
 "nbformat_minor": 0
}
