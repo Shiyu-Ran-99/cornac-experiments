{
 "cells": [
  {
   "cell_type": "code",
   "execution_count": 1,
   "metadata": {
    "collapsed": true
   },
   "outputs": [
    {
     "name": "stdout",
     "output_type": "stream",
     "text": [
      "FM model is only supported on Linux.\n",
      "Windows executable can be found at http://www.libfm.org.\n"
     ]
    }
   ],
   "source": [
    "import numpy as np\n",
    "import pandas as pd\n",
    "from scipy.stats import entropy\n",
    "import matplotlib.pyplot as plt\n",
    "import random\n",
    "\n",
    "import cornac\n",
    "from cornac.eval_methods import RatioSplit\n",
    "from cornac.data import TextModality\n",
    "from cornac.data.text import BaseTokenizer\n",
    "from cornac.data import Reader\n",
    "from cornac.metrics import MAE,RMSE,MSE,FMeasure,Precision,Recall,NDCG,NCRR,MRR,AUC,MAP"
   ]
  },
  {
   "cell_type": "code",
   "execution_count": 3,
   "outputs": [],
   "source": [
    "with open ('/Users/pigr/Desktop/cornac_dataset/mind_test_200K.csv') as mind_file:\n",
    "    mind = pd.read_csv(mind_file)\n",
    "mind['story'] = mind['story'].astype('int')"
   ],
   "metadata": {
    "collapsed": false
   }
  },
  {
   "cell_type": "code",
   "execution_count": 4,
   "outputs": [
    {
     "data": {
      "text/plain": "10000"
     },
     "execution_count": 4,
     "metadata": {},
     "output_type": "execute_result"
    }
   ],
   "source": [
    "mind_ = mind[:10000]\n",
    "len(mind_)"
   ],
   "metadata": {
    "collapsed": false
   }
  },
  {
   "cell_type": "code",
   "execution_count": 5,
   "outputs": [
    {
     "data": {
      "text/plain": "  user_id item_id  rating        date category  \\\n0  U13740  N55189       1  2019-10-15       tv   \n1  U13740  N42782       1  2019-10-19   sports   \n2  U13740  N34694       1  2019-10-19       tv   \n3  U13740  N45794       1  2019-10-23     news   \n4  U13740  N18445       1  2019-10-27   sports   \n\n                                             url  \\\n0  https://assets.msn.com/labs/mind/AAIORni.html   \n1  https://assets.msn.com/labs/mind/AAJ1mE9.html   \n2  https://assets.msn.com/labs/mind/AAIZa64.html   \n3  https://assets.msn.com/labs/mind/AAJcQKF.html   \n4  https://assets.msn.com/labs/mind/AAJpMXE.html   \n\n                                                text  \\\n0  We’d like to solve the puzzle, Pat: Blair Davi...   \n1  The Yankees forced a Game 6 on Friday as it to...   \n2  A living legend. Rosie O’Donnell gave Us Weekl...   \n3  Four American Airlines flight attendants were ...   \n4  Michigan sent a funny tweet on Saturday night ...   \n\n                                            entities  sentiment  complexity  \\\n0  [{'text': 'Cardiff', 'alternative': ['Cardiff'...   0.091856       62.17   \n1  [{'text': 'second', 'alternative': ['second'],...   0.028105       73.92   \n2  [{'text': '90', 'alternative': ['90'], 'freque...   0.330846       81.63   \n3  [{'text': 'Four', 'alternative': ['Four'], 'fr...   0.044328       61.26   \n4  [{'text': 'two', 'alternative': ['two'], 'freq...   0.166667       90.29   \n\n   publication_date                                      entities_base  \\\n0      1.571098e+12  [{'text': 'Pat', 'start_char': 31, 'end_char':...   \n1      1.571443e+12  [{'text': 'Yankees', 'start_char': 4, 'end_cha...   \n2      1.571443e+12  [{'text': 'Us Weekly', 'start_char': 38, 'end_...   \n3      1.571789e+12  [{'text': 'Four', 'start_char': 0, 'end_char':...   \n4      1.572134e+12  [{'text': 'Michigan', 'start_char': 0, 'end_ch...   \n\n                                   enriched_entities  story  \n0  [{'text': 'Cardiff', 'alternative': ['Cardiff'...    766  \n1  [{'text': 'second', 'alternative': ['second'],...    444  \n2  [{'text': '90', 'alternative': ['90'], 'freque...   1331  \n3  [{'text': 'Four', 'alternative': ['Four'], 'fr...      0  \n4  [{'text': 'two', 'alternative': ['two'], 'freq...      0  ",
      "text/html": "<div>\n<style scoped>\n    .dataframe tbody tr th:only-of-type {\n        vertical-align: middle;\n    }\n\n    .dataframe tbody tr th {\n        vertical-align: top;\n    }\n\n    .dataframe thead th {\n        text-align: right;\n    }\n</style>\n<table border=\"1\" class=\"dataframe\">\n  <thead>\n    <tr style=\"text-align: right;\">\n      <th></th>\n      <th>user_id</th>\n      <th>item_id</th>\n      <th>rating</th>\n      <th>date</th>\n      <th>category</th>\n      <th>url</th>\n      <th>text</th>\n      <th>entities</th>\n      <th>sentiment</th>\n      <th>complexity</th>\n      <th>publication_date</th>\n      <th>entities_base</th>\n      <th>enriched_entities</th>\n      <th>story</th>\n    </tr>\n  </thead>\n  <tbody>\n    <tr>\n      <th>0</th>\n      <td>U13740</td>\n      <td>N55189</td>\n      <td>1</td>\n      <td>2019-10-15</td>\n      <td>tv</td>\n      <td>https://assets.msn.com/labs/mind/AAIORni.html</td>\n      <td>We’d like to solve the puzzle, Pat: Blair Davi...</td>\n      <td>[{'text': 'Cardiff', 'alternative': ['Cardiff'...</td>\n      <td>0.091856</td>\n      <td>62.17</td>\n      <td>1.571098e+12</td>\n      <td>[{'text': 'Pat', 'start_char': 31, 'end_char':...</td>\n      <td>[{'text': 'Cardiff', 'alternative': ['Cardiff'...</td>\n      <td>766</td>\n    </tr>\n    <tr>\n      <th>1</th>\n      <td>U13740</td>\n      <td>N42782</td>\n      <td>1</td>\n      <td>2019-10-19</td>\n      <td>sports</td>\n      <td>https://assets.msn.com/labs/mind/AAJ1mE9.html</td>\n      <td>The Yankees forced a Game 6 on Friday as it to...</td>\n      <td>[{'text': 'second', 'alternative': ['second'],...</td>\n      <td>0.028105</td>\n      <td>73.92</td>\n      <td>1.571443e+12</td>\n      <td>[{'text': 'Yankees', 'start_char': 4, 'end_cha...</td>\n      <td>[{'text': 'second', 'alternative': ['second'],...</td>\n      <td>444</td>\n    </tr>\n    <tr>\n      <th>2</th>\n      <td>U13740</td>\n      <td>N34694</td>\n      <td>1</td>\n      <td>2019-10-19</td>\n      <td>tv</td>\n      <td>https://assets.msn.com/labs/mind/AAIZa64.html</td>\n      <td>A living legend. Rosie O’Donnell gave Us Weekl...</td>\n      <td>[{'text': '90', 'alternative': ['90'], 'freque...</td>\n      <td>0.330846</td>\n      <td>81.63</td>\n      <td>1.571443e+12</td>\n      <td>[{'text': 'Us Weekly', 'start_char': 38, 'end_...</td>\n      <td>[{'text': '90', 'alternative': ['90'], 'freque...</td>\n      <td>1331</td>\n    </tr>\n    <tr>\n      <th>3</th>\n      <td>U13740</td>\n      <td>N45794</td>\n      <td>1</td>\n      <td>2019-10-23</td>\n      <td>news</td>\n      <td>https://assets.msn.com/labs/mind/AAJcQKF.html</td>\n      <td>Four American Airlines flight attendants were ...</td>\n      <td>[{'text': 'Four', 'alternative': ['Four'], 'fr...</td>\n      <td>0.044328</td>\n      <td>61.26</td>\n      <td>1.571789e+12</td>\n      <td>[{'text': 'Four', 'start_char': 0, 'end_char':...</td>\n      <td>[{'text': 'Four', 'alternative': ['Four'], 'fr...</td>\n      <td>0</td>\n    </tr>\n    <tr>\n      <th>4</th>\n      <td>U13740</td>\n      <td>N18445</td>\n      <td>1</td>\n      <td>2019-10-27</td>\n      <td>sports</td>\n      <td>https://assets.msn.com/labs/mind/AAJpMXE.html</td>\n      <td>Michigan sent a funny tweet on Saturday night ...</td>\n      <td>[{'text': 'two', 'alternative': ['two'], 'freq...</td>\n      <td>0.166667</td>\n      <td>90.29</td>\n      <td>1.572134e+12</td>\n      <td>[{'text': 'Michigan', 'start_char': 0, 'end_ch...</td>\n      <td>[{'text': 'two', 'alternative': ['two'], 'freq...</td>\n      <td>0</td>\n    </tr>\n  </tbody>\n</table>\n</div>"
     },
     "execution_count": 5,
     "metadata": {},
     "output_type": "execute_result"
    }
   ],
   "source": [
    "mind_.head()"
   ],
   "metadata": {
    "collapsed": false
   }
  },
  {
   "cell_type": "code",
   "execution_count": 6,
   "outputs": [
    {
     "name": "stdout",
     "output_type": "stream",
     "text": [
      "rating_threshold = 0.5\n",
      "exclude_unknowns = True\n",
      "---\n",
      "Training data:\n",
      "Number of users = 272\n",
      "Number of items = 3942\n",
      "Number of ratings = 7911\n",
      "Max rating = 1.0\n",
      "Min rating = 1.0\n",
      "Global mean = 1.0\n",
      "---\n",
      "Test data:\n",
      "Number of users = 234\n",
      "Number of items = 915\n",
      "Number of ratings = 1336\n",
      "Number of unknown users = 0\n",
      "Number of unknown items = 0\n",
      "---\n",
      "Total users = 272\n",
      "Total items = 3942\n"
     ]
    },
    {
     "name": "stderr",
     "output_type": "stream",
     "text": [
      "/Users/pigr/web-crawling-python/lib/python3.10/site-packages/cornac/data/dataset.py:361: UserWarning: 89 duplicated observations are removed!\n",
      "  warnings.warn(\"%d duplicated observations are removed!\" % dup_count)\n",
      "/Users/pigr/web-crawling-python/lib/python3.10/site-packages/cornac/data/dataset.py:361: UserWarning: 3 duplicated observations are removed!\n",
      "  warnings.warn(\"%d duplicated observations are removed!\" % dup_count)\n"
     ]
    }
   ],
   "source": [
    "# pre-process data to initialize ctr model\n",
    "mind_feedback = mind_.loc[:, ['user_id','item_id','rating']]\n",
    "# feedback = cornac.data.Dataset.from_uir(mind_feedback.itertuples(index=False))\n",
    "feedback = mind_feedback.apply(lambda x: tuple(x), axis=1).values.tolist()\n",
    "text = list(mind_['text'])\n",
    "item_ids = list(mind_['item_id'])\n",
    "# Instantiate a TextModality, it makes it convenient to work with text auxiliary information\n",
    "item_text_modality = TextModality(\n",
    "    corpus=text,\n",
    "    ids=item_ids,\n",
    "    tokenizer=BaseTokenizer(sep=\" \", stop_words=\"english\"),\n",
    "    max_vocab=8000,\n",
    "    max_doc_freq=0.5,\n",
    ")\n",
    "\n",
    "# Define an evaluation method to split feedback into train and test sets\n",
    "mind_ratio_split = RatioSplit(\n",
    "    data=feedback,\n",
    "    test_size=0.2,\n",
    "    exclude_unknowns=True,\n",
    "    item_text=item_text_modality,\n",
    "    verbose=True,\n",
    "    seed=123,\n",
    "    rating_threshold=0.5,\n",
    ")"
   ],
   "metadata": {
    "collapsed": false
   }
  },
  {
   "cell_type": "markdown",
   "source": [
    "### k=10"
   ],
   "metadata": {
    "collapsed": false
   }
  },
  {
   "cell_type": "code",
   "execution_count": 7,
   "outputs": [
    {
     "name": "stdout",
     "output_type": "stream",
     "text": [
      "\n",
      "[HFT] Training started!\n"
     ]
    },
    {
     "data": {
      "text/plain": "  0%|          | 0/10 [00:00<?, ?it/s]",
      "application/vnd.jupyter.widget-view+json": {
       "version_major": 2,
       "version_minor": 0,
       "model_id": "0cfc142e142f4bfc8af792365af98707"
      }
     },
     "metadata": {},
     "output_type": "display_data"
    },
    {
     "name": "stdout",
     "output_type": "stream",
     "text": [
      "Learning completed!\n",
      "\n",
      "[HFT] Evaluation started!\n"
     ]
    },
    {
     "data": {
      "text/plain": "Rating:   0%|          | 0/1336 [00:00<?, ?it/s]",
      "application/vnd.jupyter.widget-view+json": {
       "version_major": 2,
       "version_minor": 0,
       "model_id": "1bd55fb940694ab8a922c874e4e66060"
      }
     },
     "metadata": {},
     "output_type": "display_data"
    },
    {
     "data": {
      "text/plain": "Ranking:   0%|          | 0/234 [00:00<?, ?it/s]",
      "application/vnd.jupyter.widget-view+json": {
       "version_major": 2,
       "version_minor": 0,
       "model_id": "bc88f6902d7b44909cacb714254b64ee"
      }
     },
     "metadata": {},
     "output_type": "display_data"
    },
    {
     "name": "stdout",
     "output_type": "stream",
     "text": [
      "\n",
      "TEST:\n",
      "...\n",
      "    |    MAE |    MSE |   RMSE |    AUC |  F1@50 |    MAP |    MRR | NCRR@50 | NDCG@50 | Precision@50 | Recall@50 | Train (s) | Test (s)\n",
      "--- + ------ + ------ + ------ + ------ + ------ + ------ + ------ + ------- + ------- + ------------ + --------- + --------- + --------\n",
      "HFT | 0.0000 | 0.0000 | 0.0000 | 0.5058 | 0.0026 | 0.0054 | 0.0217 |  0.0073 |  0.0088 |       0.0015 |    0.0157 |   47.7344 |   0.4496\n",
      "\n"
     ]
    }
   ],
   "source": [
    "# Instantiate HFT model\n",
    "hft_k10 = cornac.models.HFT(\n",
    "    k=10,\n",
    "    max_iter=10,\n",
    "    grad_iter=5,\n",
    "    l2_reg=0.001,\n",
    "    lambda_text=0.01,\n",
    "    vocab_size=8000,\n",
    "    seed=123,\n",
    ")\n",
    "\n",
    "# Instantiate MSE for evaluation\n",
    "metrics = [MAE(), RMSE(), MSE(),FMeasure(k=50),Precision(k=50),\n",
    "           Recall(k=50), NDCG(k=50), NCRR(k=50),\n",
    "           MRR(),AUC(), MAP()]\n",
    "\n",
    "# Put everything together into an experiment and run it\n",
    "cornac.Experiment(\n",
    "    eval_method=mind_ratio_split, models=[hft_k10], metrics=metrics, user_based=False\n",
    ").run()"
   ],
   "metadata": {
    "collapsed": false
   }
  },
  {
   "cell_type": "code",
   "execution_count": 8,
   "outputs": [],
   "source": [
    "import diversity_mind\n",
    "def compute_avg_diversity(model, data, feature):\n",
    "    if (feature==\"category\"):\n",
    "        for i in range(len(set(mind_ratio_split.test_set.user_ids))): # get the average result for all users from training data\n",
    "            result = []\n",
    "            r = diversity_mind.Retrieval(model=model,data = data,UIDX = i,TOPK = 50,feature = feature)\n",
    "            d = diversity_mind.Diversity(r.get_history(), r.get_recy())\n",
    "            result.append(d.compute())\n",
    "    else:\n",
    "        useridx = list(set([int(tuple[1]) for tuple in mind_ratio_split.test_set.uid_map]))\n",
    "        result = []\n",
    "        i = 0\n",
    "        while i <= 200:\n",
    "            # shuffle\n",
    "            user_pair = random.sample(useridx, 2)\n",
    "            r0 = diversity_mind.Retrieval(model=model, data=data, UIDX=user_pair[0],TOPK = 50, feature=feature)\n",
    "            r1 = diversity_mind.Retrieval(model=model, data=data, UIDX=user_pair[1],TOPK = 50, feature=feature)\n",
    "            d = diversity_mind.Diversity(r0.get_recy(), r1.get_recy())\n",
    "            result.append(d.compute())\n",
    "            i += 1\n",
    "    return np.mean(result)"
   ],
   "metadata": {
    "collapsed": false
   }
  },
  {
   "cell_type": "code",
   "execution_count": 9,
   "outputs": [
    {
     "name": "stdout",
     "output_type": "stream",
     "text": [
      "0.16396560474705105\n",
      "0.9045115577052535\n"
     ]
    }
   ],
   "source": [
    "data1 = {\"model\":\"HFT\",\n",
    "        \"data\":\"mind\",\n",
    "        \"k\":10,\n",
    "        \"max_iter\":10,\n",
    "        \"grad_iter\":5,\n",
    "        \"lambda_text\":0.01,\n",
    "        \"l2_reg\":0.001,\n",
    "        \"MAE\":0.0000,\"MSE\":0.0000,\"RMSE\":0.0000,\"AUC\":0.5047,\"F1\":0.0030,\"MAP\":0.0035,\"MRR\":0.0091,\"NCRR\":0.0026,\"NDCG\":0.0075,\"Precision\":0.0017,\"Recall\":0.0236,\n",
    "        \"category diversity\":compute_avg_diversity(hft_k10, mind_, \"category\"),\n",
    "         \"story diversity\":compute_avg_diversity(hft_k10, mind_, \"story\")}\n",
    "print(data1[\"category diversity\"])\n",
    "print(data1[\"story diversity\"])"
   ],
   "metadata": {
    "collapsed": false
   }
  },
  {
   "cell_type": "markdown",
   "source": [
    "### k=50"
   ],
   "metadata": {
    "collapsed": false
   }
  },
  {
   "cell_type": "code",
   "execution_count": 10,
   "outputs": [
    {
     "name": "stdout",
     "output_type": "stream",
     "text": [
      "\n",
      "[HFT] Training started!\n"
     ]
    },
    {
     "data": {
      "text/plain": "  0%|          | 0/10 [00:00<?, ?it/s]",
      "application/vnd.jupyter.widget-view+json": {
       "version_major": 2,
       "version_minor": 0,
       "model_id": "d60bc45db09d40f689bcd28eac6331e6"
      }
     },
     "metadata": {},
     "output_type": "display_data"
    },
    {
     "name": "stdout",
     "output_type": "stream",
     "text": [
      "Learning completed!\n",
      "\n",
      "[HFT] Evaluation started!\n"
     ]
    },
    {
     "data": {
      "text/plain": "Rating:   0%|          | 0/1336 [00:00<?, ?it/s]",
      "application/vnd.jupyter.widget-view+json": {
       "version_major": 2,
       "version_minor": 0,
       "model_id": "8bfee741729341c783c9012e6a393105"
      }
     },
     "metadata": {},
     "output_type": "display_data"
    },
    {
     "data": {
      "text/plain": "Ranking:   0%|          | 0/234 [00:00<?, ?it/s]",
      "application/vnd.jupyter.widget-view+json": {
       "version_major": 2,
       "version_minor": 0,
       "model_id": "059f907183694dfd809093083419d2df"
      }
     },
     "metadata": {},
     "output_type": "display_data"
    },
    {
     "name": "stdout",
     "output_type": "stream",
     "text": [
      "\n",
      "TEST:\n",
      "...\n",
      "    |    MAE |    MSE |   RMSE |    AUC |  F1@50 |    MAP |    MRR | NCRR@50 | NDCG@50 | Precision@50 | Recall@50 | Train (s) | Test (s)\n",
      "--- + ------ + ------ + ------ + ------ + ------ + ------ + ------ + ------- + ------- + ------------ + --------- + --------- + --------\n",
      "HFT | 0.0000 | 0.0000 | 0.0000 | 0.5085 | 0.0022 | 0.0032 | 0.0065 |  0.0017 |  0.0047 |       0.0014 |    0.0130 |   70.8497 |   0.5839\n",
      "\n"
     ]
    }
   ],
   "source": [
    "# Instantiate HFT model\n",
    "hft_k50 = cornac.models.HFT(\n",
    "    k=50,\n",
    "    max_iter=10,\n",
    "    grad_iter=5,\n",
    "    l2_reg=0.001,\n",
    "    lambda_text=0.01,\n",
    "    vocab_size=8000,\n",
    "    seed=123,\n",
    ")\n",
    "\n",
    "# Instantiate MSE for evaluation\n",
    "metrics = [MAE(), RMSE(), MSE(),FMeasure(k=50),Precision(k=50),\n",
    "           Recall(k=50), NDCG(k=50), NCRR(k=50),\n",
    "           MRR(),AUC(), MAP()]\n",
    "\n",
    "# Put everything together into an experiment and run it\n",
    "cornac.Experiment(\n",
    "    eval_method=mind_ratio_split, models=[hft_k50], metrics=metrics, user_based=False\n",
    ").run()"
   ],
   "metadata": {
    "collapsed": false
   }
  },
  {
   "cell_type": "code",
   "execution_count": 13,
   "outputs": [
    {
     "name": "stdout",
     "output_type": "stream",
     "text": [
      "0.19043215399053856\n",
      "1.267216020198324\n"
     ]
    }
   ],
   "source": [
    "data2 = {\"model\":\"HFT\",\n",
    "        \"data\":\"mind\",\n",
    "        \"k\":50,\n",
    "        \"max_iter\":10,\n",
    "        \"grad_iter\":5,\n",
    "        \"lambda_text\":0.01,\n",
    "        \"l2_reg\":0.001,\n",
    "        \"MAE\":0.0000,\"MSE\":0.0000,\"RMSE\":0.0000,\"AUC\":0.4918,\"F1\":0.0008,\"MAP\":0.0026,\"MRR\":0.0059,\"NCRR\":0.0011,\"NDCG\":0.0021,\"Precision\":0.0005,\"Recall\":0.0063,\n",
    "        \"category diversity\":compute_avg_diversity(hft_k50, mind_, \"category\"),\n",
    "         \"story diversity\":compute_avg_diversity(hft_k50, mind_, \"story\")}\n",
    "print(data2[\"category diversity\"])\n",
    "print(data2[\"story diversity\"])"
   ],
   "metadata": {
    "collapsed": false
   }
  },
  {
   "cell_type": "markdown",
   "source": [
    "### k=100"
   ],
   "metadata": {
    "collapsed": false
   }
  },
  {
   "cell_type": "code",
   "execution_count": 12,
   "outputs": [
    {
     "name": "stdout",
     "output_type": "stream",
     "text": [
      "\n",
      "[HFT] Training started!\n"
     ]
    },
    {
     "data": {
      "text/plain": "  0%|          | 0/10 [00:00<?, ?it/s]",
      "application/vnd.jupyter.widget-view+json": {
       "version_major": 2,
       "version_minor": 0,
       "model_id": "45f4345ba418426fb7dfd4435fcb0656"
      }
     },
     "metadata": {},
     "output_type": "display_data"
    },
    {
     "name": "stdout",
     "output_type": "stream",
     "text": [
      "Learning completed!\n",
      "\n",
      "[HFT] Evaluation started!\n"
     ]
    },
    {
     "data": {
      "text/plain": "Rating:   0%|          | 0/1336 [00:00<?, ?it/s]",
      "application/vnd.jupyter.widget-view+json": {
       "version_major": 2,
       "version_minor": 0,
       "model_id": "02113fdde5774574a8ea705f4b2378ed"
      }
     },
     "metadata": {},
     "output_type": "display_data"
    },
    {
     "data": {
      "text/plain": "Ranking:   0%|          | 0/234 [00:00<?, ?it/s]",
      "application/vnd.jupyter.widget-view+json": {
       "version_major": 2,
       "version_minor": 0,
       "model_id": "f7b28b80078a412da589ebec2195866a"
      }
     },
     "metadata": {},
     "output_type": "display_data"
    },
    {
     "name": "stdout",
     "output_type": "stream",
     "text": [
      "\n",
      "TEST:\n",
      "...\n",
      "    |    MAE |    MSE |   RMSE |    AUC |  F1@50 |    MAP |    MRR | NCRR@50 | NDCG@50 | Precision@50 | Recall@50 | Train (s) | Test (s)\n",
      "--- + ------ + ------ + ------ + ------ + ------ + ------ + ------ + ------- + ------- + ------------ + --------- + --------- + --------\n",
      "HFT | 0.0000 | 0.0000 | 0.0000 | 0.5153 | 0.0040 | 0.0051 | 0.0193 |  0.0062 |  0.0117 |       0.0024 |    0.0326 |  128.9839 |   0.4669\n",
      "\n"
     ]
    }
   ],
   "source": [
    "# Instantiate HFT model\n",
    "hft_k100 = cornac.models.HFT(\n",
    "    k=100,\n",
    "    max_iter=10,\n",
    "    grad_iter=5,\n",
    "    l2_reg=0.001,\n",
    "    lambda_text=0.01,\n",
    "    vocab_size=8000,\n",
    "    seed=123,\n",
    ")\n",
    "\n",
    "# Instantiate MSE for evaluation\n",
    "metrics = [MAE(), RMSE(), MSE(),FMeasure(k=50),Precision(k=50),\n",
    "           Recall(k=50), NDCG(k=50), NCRR(k=50),\n",
    "           MRR(),AUC(), MAP()]\n",
    "\n",
    "# Put everything together into an experiment and run it\n",
    "cornac.Experiment(\n",
    "    eval_method=mind_ratio_split, models=[hft_k100], metrics=metrics, user_based=False\n",
    ").run()"
   ],
   "metadata": {
    "collapsed": false
   }
  },
  {
   "cell_type": "code",
   "execution_count": 14,
   "outputs": [
    {
     "name": "stdout",
     "output_type": "stream",
     "text": [
      "0.2994482672296015\n",
      "1.238645938432165\n"
     ]
    }
   ],
   "source": [
    "data3 = {\"model\":\"HFT\",\n",
    "        \"data\":\"mind\",\n",
    "        \"k\":100,\n",
    "        \"max_iter\":10,\n",
    "        \"grad_iter\":5,\n",
    "        \"lambda_text\":0.01,\n",
    "        \"l2_reg\":0.001,\n",
    "        \"MAE\":0.0000,\"MSE\":0.0000,\"RMSE\":0.0000,\"AUC\":0.5207,\"F1\":0.0032,\"MAP\":0.0031,\"MRR\":0.0064,\"NCRR\":0.0015,\"NDCG\":0.0061,\"Precision\":0.0019,\"Recall\":0.0203,\n",
    "        \"category diversity\":compute_avg_diversity(hft_k100, mind_, \"category\"),\n",
    "         \"story diversity\":compute_avg_diversity(hft_k100, mind_, \"story\")}\n",
    "print(data3[\"category diversity\"])\n",
    "print(data3[\"story diversity\"])"
   ],
   "metadata": {
    "collapsed": false
   }
  },
  {
   "cell_type": "markdown",
   "source": [
    "### k=200"
   ],
   "metadata": {
    "collapsed": false
   }
  },
  {
   "cell_type": "code",
   "execution_count": 15,
   "outputs": [
    {
     "name": "stdout",
     "output_type": "stream",
     "text": [
      "\n",
      "[HFT] Training started!\n"
     ]
    },
    {
     "data": {
      "text/plain": "  0%|          | 0/10 [00:00<?, ?it/s]",
      "application/vnd.jupyter.widget-view+json": {
       "version_major": 2,
       "version_minor": 0,
       "model_id": "c6d91a19f67c42f6ba130bfbcd4efe80"
      }
     },
     "metadata": {},
     "output_type": "display_data"
    },
    {
     "name": "stdout",
     "output_type": "stream",
     "text": [
      "Learning completed!\n",
      "\n",
      "[HFT] Evaluation started!\n"
     ]
    },
    {
     "data": {
      "text/plain": "Rating:   0%|          | 0/1336 [00:00<?, ?it/s]",
      "application/vnd.jupyter.widget-view+json": {
       "version_major": 2,
       "version_minor": 0,
       "model_id": "1749706b367448c2a9c5476b0ca00b39"
      }
     },
     "metadata": {},
     "output_type": "display_data"
    },
    {
     "data": {
      "text/plain": "Ranking:   0%|          | 0/234 [00:00<?, ?it/s]",
      "application/vnd.jupyter.widget-view+json": {
       "version_major": 2,
       "version_minor": 0,
       "model_id": "58fac878b16c47cab34d5cabf97809eb"
      }
     },
     "metadata": {},
     "output_type": "display_data"
    },
    {
     "name": "stdout",
     "output_type": "stream",
     "text": [
      "\n",
      "TEST:\n",
      "...\n",
      "    |    MAE |    MSE |   RMSE |    AUC |  F1@50 |    MAP |    MRR | NCRR@50 | NDCG@50 | Precision@50 | Recall@50 | Train (s) | Test (s)\n",
      "--- + ------ + ------ + ------ + ------ + ------ + ------ + ------ + ------- + ------- + ------------ + --------- + --------- + --------\n",
      "HFT | 0.0000 | 0.0000 | 0.0000 | 0.5039 | 0.0023 | 0.0028 | 0.0064 |  0.0018 |  0.0047 |       0.0014 |    0.0117 |  169.6924 |   0.7212\n",
      "\n"
     ]
    }
   ],
   "source": [
    "# Instantiate HFT model\n",
    "hft_k200 = cornac.models.HFT(\n",
    "    k=200,\n",
    "    max_iter=10,\n",
    "    grad_iter=5,\n",
    "    l2_reg=0.001,\n",
    "    lambda_text=0.01,\n",
    "    vocab_size=8000,\n",
    "    seed=123,\n",
    ")\n",
    "\n",
    "# Instantiate MSE for evaluation\n",
    "metrics = [MAE(), RMSE(), MSE(),FMeasure(k=50),Precision(k=50),\n",
    "           Recall(k=50), NDCG(k=50), NCRR(k=50),\n",
    "           MRR(),AUC(), MAP()]\n",
    "\n",
    "# Put everything together into an experiment and run it\n",
    "cornac.Experiment(\n",
    "    eval_method=mind_ratio_split, models=[hft_k200], metrics=metrics, user_based=False\n",
    ").run()"
   ],
   "metadata": {
    "collapsed": false
   }
  },
  {
   "cell_type": "code",
   "execution_count": 16,
   "outputs": [
    {
     "name": "stdout",
     "output_type": "stream",
     "text": [
      "0.17147534416801316\n",
      "0.7212621544088905\n"
     ]
    }
   ],
   "source": [
    "data4 = {\"model\":\"HFT\",\n",
    "        \"data\":\"mind\",\n",
    "        \"k\":200,\n",
    "        \"max_iter\":10,\n",
    "        \"grad_iter\":5,\n",
    "        \"lambda_text\":0.01,\n",
    "        \"l2_reg\":0.001,\n",
    "        \"MAE\":0.0000,\"MSE\":0.0000,\"RMSE\":0.0000,\"AUC\":0.5009,\"F1\":0.0016,\"MAP\":0.0028,\"MRR\":0.0074,\"NCRR\":0.0018,\"NDCG\":0.0032,\"Precision\":0.0010,\"Recall\":0.0060,\n",
    "        \"category diversity\":compute_avg_diversity(hft_k200, mind_, \"category\"),\n",
    "         \"story diversity\":compute_avg_diversity(hft_k200, mind_, \"story\")}\n",
    "print(data4[\"category diversity\"])\n",
    "print(data4[\"story diversity\"])"
   ],
   "metadata": {
    "collapsed": false
   }
  },
  {
   "cell_type": "markdown",
   "source": [
    "### k=300"
   ],
   "metadata": {
    "collapsed": false
   }
  },
  {
   "cell_type": "code",
   "execution_count": 17,
   "outputs": [
    {
     "name": "stdout",
     "output_type": "stream",
     "text": [
      "\n",
      "[HFT] Training started!\n"
     ]
    },
    {
     "data": {
      "text/plain": "  0%|          | 0/10 [00:00<?, ?it/s]",
      "application/vnd.jupyter.widget-view+json": {
       "version_major": 2,
       "version_minor": 0,
       "model_id": "d69d843c39414d0ebe8ec98f7c55c246"
      }
     },
     "metadata": {},
     "output_type": "display_data"
    },
    {
     "name": "stdout",
     "output_type": "stream",
     "text": [
      "Learning completed!\n",
      "\n",
      "[HFT] Evaluation started!\n"
     ]
    },
    {
     "data": {
      "text/plain": "Rating:   0%|          | 0/1336 [00:00<?, ?it/s]",
      "application/vnd.jupyter.widget-view+json": {
       "version_major": 2,
       "version_minor": 0,
       "model_id": "93010f2d9bcd46e6a55a1f4a6f5a2e7c"
      }
     },
     "metadata": {},
     "output_type": "display_data"
    },
    {
     "data": {
      "text/plain": "Ranking:   0%|          | 0/234 [00:00<?, ?it/s]",
      "application/vnd.jupyter.widget-view+json": {
       "version_major": 2,
       "version_minor": 0,
       "model_id": "cc6f48b5e707411084764e4d275bd1dc"
      }
     },
     "metadata": {},
     "output_type": "display_data"
    },
    {
     "name": "stdout",
     "output_type": "stream",
     "text": [
      "\n",
      "TEST:\n",
      "...\n",
      "    |    MAE |    MSE |   RMSE |    AUC |  F1@50 |    MAP |    MRR | NCRR@50 | NDCG@50 | Precision@50 | Recall@50 | Train (s) | Test (s)\n",
      "--- + ------ + ------ + ------ + ------ + ------ + ------ + ------ + ------- + ------- + ------------ + --------- + --------- + --------\n",
      "HFT | 0.0000 | 0.0000 | 0.0000 | 0.5017 | 0.0029 | 0.0034 | 0.0064 |  0.0021 |  0.0065 |       0.0018 |    0.0191 |  188.7188 |   0.5018\n",
      "\n"
     ]
    }
   ],
   "source": [
    "# Instantiate HFT model\n",
    "hft_k300 = cornac.models.HFT(\n",
    "    k=300,\n",
    "    max_iter=10,\n",
    "    grad_iter=5,\n",
    "    l2_reg=0.001,\n",
    "    lambda_text=0.01,\n",
    "    vocab_size=8000,\n",
    "    seed=123,\n",
    ")\n",
    "\n",
    "# Instantiate MSE for evaluation\n",
    "metrics = [MAE(), RMSE(), MSE(),FMeasure(k=50),Precision(k=50),\n",
    "           Recall(k=50), NDCG(k=50), NCRR(k=50),\n",
    "           MRR(),AUC(), MAP()]\n",
    "\n",
    "# Put everything together into an experiment and run it\n",
    "cornac.Experiment(\n",
    "    eval_method=mind_ratio_split, models=[hft_k300], metrics=metrics, user_based=False\n",
    ").run()"
   ],
   "metadata": {
    "collapsed": false
   }
  },
  {
   "cell_type": "code",
   "execution_count": 18,
   "outputs": [
    {
     "name": "stdout",
     "output_type": "stream",
     "text": [
      "0.6952346382870473\n",
      "0.7134748246574826\n"
     ]
    }
   ],
   "source": [
    "data5 = {\"model\":\"HFT\",\n",
    "        \"data\":\"mind\",\n",
    "        \"k\":300,\n",
    "        \"max_iter\":10,\n",
    "        \"grad_iter\":5,\n",
    "        \"lambda_text\":0.01,\n",
    "        \"l2_reg\":0.001,\n",
    "        \"MAE\":0.0000,\"MSE\":0.0000,\"RMSE\":0.0000,\"AUC\":0.5078,\"F1\":0.0007,\"MAP\":0.0023,\"MRR\":0.0036,\"NCRR\":0.0003,\"NDCG\":0.0010,\"Precision\":0.0004,\"Recall\":0.0022,\n",
    "        \"category diversity\":compute_avg_diversity(hft_k300, mind_, \"category\"),\n",
    "         \"story diversity\":compute_avg_diversity(hft_k300, mind_, \"story\")}\n",
    "print(data5[\"category diversity\"])\n",
    "print(data5[\"story diversity\"])"
   ],
   "metadata": {
    "collapsed": false
   }
  },
  {
   "cell_type": "markdown",
   "source": [
    "### k=400"
   ],
   "metadata": {
    "collapsed": false
   }
  },
  {
   "cell_type": "code",
   "execution_count": 19,
   "outputs": [
    {
     "name": "stdout",
     "output_type": "stream",
     "text": [
      "\n",
      "[HFT] Training started!\n"
     ]
    },
    {
     "data": {
      "text/plain": "  0%|          | 0/10 [00:00<?, ?it/s]",
      "application/vnd.jupyter.widget-view+json": {
       "version_major": 2,
       "version_minor": 0,
       "model_id": "03edcd01754f4538afce0884e52f8dc8"
      }
     },
     "metadata": {},
     "output_type": "display_data"
    },
    {
     "name": "stdout",
     "output_type": "stream",
     "text": [
      "Learning completed!\n",
      "\n",
      "[HFT] Evaluation started!\n"
     ]
    },
    {
     "data": {
      "text/plain": "Rating:   0%|          | 0/1336 [00:00<?, ?it/s]",
      "application/vnd.jupyter.widget-view+json": {
       "version_major": 2,
       "version_minor": 0,
       "model_id": "4c15fe10ca654520bbe42c8c689603c6"
      }
     },
     "metadata": {},
     "output_type": "display_data"
    },
    {
     "data": {
      "text/plain": "Ranking:   0%|          | 0/234 [00:00<?, ?it/s]",
      "application/vnd.jupyter.widget-view+json": {
       "version_major": 2,
       "version_minor": 0,
       "model_id": "b500dab0cdfd4e1cbfccbd8e67ce556e"
      }
     },
     "metadata": {},
     "output_type": "display_data"
    },
    {
     "name": "stdout",
     "output_type": "stream",
     "text": [
      "\n",
      "TEST:\n",
      "...\n",
      "    |    MAE |    MSE |   RMSE |    AUC |  F1@50 |    MAP |    MRR | NCRR@50 | NDCG@50 | Precision@50 | Recall@50 | Train (s) | Test (s)\n",
      "--- + ------ + ------ + ------ + ------ + ------ + ------ + ------ + ------- + ------- + ------------ + --------- + --------- + --------\n",
      "HFT | 0.0000 | 0.0000 | 0.0000 | 0.4951 | 0.0019 | 0.0031 | 0.0063 |  0.0019 |  0.0049 |       0.0011 |    0.0133 |  238.4574 |   0.5260\n",
      "\n"
     ]
    }
   ],
   "source": [
    "# Instantiate HFT model\n",
    "hft_k400 = cornac.models.HFT(\n",
    "    k=400,\n",
    "    max_iter=10,\n",
    "    grad_iter=5,\n",
    "    l2_reg=0.001,\n",
    "    lambda_text=0.01,\n",
    "    vocab_size=8000,\n",
    "    seed=123,\n",
    ")\n",
    "\n",
    "# Instantiate MSE for evaluation\n",
    "metrics = [MAE(), RMSE(), MSE(),FMeasure(k=50),Precision(k=50),\n",
    "           Recall(k=50), NDCG(k=50), NCRR(k=50),\n",
    "           MRR(),AUC(), MAP()]\n",
    "\n",
    "# Put everything together into an experiment and run it\n",
    "cornac.Experiment(\n",
    "    eval_method=mind_ratio_split, models=[hft_k400], metrics=metrics, user_based=False\n",
    ").run()"
   ],
   "metadata": {
    "collapsed": false
   }
  },
  {
   "cell_type": "code",
   "execution_count": 20,
   "outputs": [
    {
     "name": "stdout",
     "output_type": "stream",
     "text": [
      "0.2829768282174946\n",
      "0.833893953804446\n"
     ]
    }
   ],
   "source": [
    "data6 = {\"model\":\"HFT\",\n",
    "        \"data\":\"mind\",\n",
    "        \"k\":400,\n",
    "        \"max_iter\":10,\n",
    "        \"grad_iter\":5,\n",
    "        \"lambda_text\":0.01,\n",
    "        \"l2_reg\":0.001,\n",
    "        \"MAE\":0.0000,\"MSE\":0.0000,\"RMSE\":0.0000,\"AUC\":0.5111,\"F1\":0.0011,\"MAP\":0.0027,\"MRR\":0.0036,\"NCRR\":0.0010,\"NDCG\":0.0033,\"Precision\":0.0006,\"Recall\":0.0104,\n",
    "        \"category diversity\":compute_avg_diversity(hft_k400, mind_, \"category\"),\n",
    "         \"story diversity\":compute_avg_diversity(hft_k400, mind_, \"story\")}\n",
    "print(data6[\"category diversity\"])\n",
    "print(data6[\"story diversity\"])"
   ],
   "metadata": {
    "collapsed": false
   }
  },
  {
   "cell_type": "markdown",
   "source": [
    "### k=50, lambda_text=0.1"
   ],
   "metadata": {
    "collapsed": false
   }
  },
  {
   "cell_type": "code",
   "execution_count": 21,
   "outputs": [
    {
     "name": "stdout",
     "output_type": "stream",
     "text": [
      "\n",
      "[HFT] Training started!\n"
     ]
    },
    {
     "data": {
      "text/plain": "  0%|          | 0/10 [00:00<?, ?it/s]",
      "application/vnd.jupyter.widget-view+json": {
       "version_major": 2,
       "version_minor": 0,
       "model_id": "cccd3a35070f4c618ae4506f98b16c98"
      }
     },
     "metadata": {},
     "output_type": "display_data"
    },
    {
     "name": "stdout",
     "output_type": "stream",
     "text": [
      "Learning completed!\n",
      "\n",
      "[HFT] Evaluation started!\n"
     ]
    },
    {
     "data": {
      "text/plain": "Rating:   0%|          | 0/1336 [00:00<?, ?it/s]",
      "application/vnd.jupyter.widget-view+json": {
       "version_major": 2,
       "version_minor": 0,
       "model_id": "652f474a463e42a59a6183098d905c82"
      }
     },
     "metadata": {},
     "output_type": "display_data"
    },
    {
     "data": {
      "text/plain": "Ranking:   0%|          | 0/234 [00:00<?, ?it/s]",
      "application/vnd.jupyter.widget-view+json": {
       "version_major": 2,
       "version_minor": 0,
       "model_id": "13008569ece8416099dd2d8be9080b0d"
      }
     },
     "metadata": {},
     "output_type": "display_data"
    },
    {
     "name": "stdout",
     "output_type": "stream",
     "text": [
      "\n",
      "TEST:\n",
      "...\n",
      "    |    MAE |    MSE |   RMSE |    AUC |  F1@50 |    MAP |    MRR | NCRR@50 | NDCG@50 | Precision@50 | Recall@50 | Train (s) | Test (s)\n",
      "--- + ------ + ------ + ------ + ------ + ------ + ------ + ------ + ------- + ------- + ------------ + --------- + --------- + --------\n",
      "HFT | 0.0000 | 0.0000 | 0.0000 | 0.4814 | 0.0028 | 0.0035 | 0.0121 |  0.0035 |  0.0060 |       0.0017 |    0.0115 |   78.0048 |   0.5500\n",
      "\n"
     ]
    }
   ],
   "source": [
    "# Instantiate HFT model\n",
    "hft_lambda_text01_k50 = cornac.models.HFT(\n",
    "    k=50,\n",
    "    max_iter=10,\n",
    "    grad_iter=5,\n",
    "    l2_reg=0.001,\n",
    "    lambda_text=0.1,\n",
    "    vocab_size=8000,\n",
    "    seed=123,\n",
    ")\n",
    "\n",
    "# Instantiate MSE for evaluation\n",
    "metrics = [MAE(), RMSE(), MSE(),FMeasure(k=50),Precision(k=50),\n",
    "           Recall(k=50), NDCG(k=50), NCRR(k=50),\n",
    "           MRR(),AUC(), MAP()]\n",
    "\n",
    "# Put everything together into an experiment and run it\n",
    "cornac.Experiment(\n",
    "    eval_method=mind_ratio_split, models=[hft_lambda_text01_k50], metrics=metrics, user_based=False\n",
    ").run()"
   ],
   "metadata": {
    "collapsed": false
   }
  },
  {
   "cell_type": "code",
   "execution_count": 22,
   "outputs": [
    {
     "name": "stdout",
     "output_type": "stream",
     "text": [
      "0.7117619035128504\n",
      "1.2760288635067285\n"
     ]
    }
   ],
   "source": [
    "data7 = {\"model\":\"HFT\",\n",
    "        \"data\":\"mind\",\n",
    "        \"k\":50,\n",
    "        \"max_iter\":10,\n",
    "        \"grad_iter\":5,\n",
    "        \"lambda_text\":0.1,\n",
    "        \"l2_reg\":0.001,\n",
    "        \"MAE\":0.0000,\"MSE\":0.0000,\"RMSE\":0.0000,\"AUC\":0.5048,\"F1\":0.0020,\"MAP\":0.0033,\"MRR\":0.0109,\"NCRR\":0.0029,\"NDCG\":0.0048,\"Precision\":0.0012,\"Recall\":0.0118,\n",
    "        \"category diversity\":compute_avg_diversity(hft_lambda_text01_k50, mind_, \"category\"),\n",
    "         \"story diversity\":compute_avg_diversity(hft_lambda_text01_k50, mind_, \"story\")}\n",
    "print(data7[\"category diversity\"])\n",
    "print(data7[\"story diversity\"])"
   ],
   "metadata": {
    "collapsed": false
   }
  },
  {
   "cell_type": "markdown",
   "source": [
    "### k=10, lambda_text=0.1"
   ],
   "metadata": {
    "collapsed": false
   }
  },
  {
   "cell_type": "code",
   "execution_count": 23,
   "outputs": [
    {
     "name": "stdout",
     "output_type": "stream",
     "text": [
      "\n",
      "[HFT] Training started!\n"
     ]
    },
    {
     "data": {
      "text/plain": "  0%|          | 0/10 [00:00<?, ?it/s]",
      "application/vnd.jupyter.widget-view+json": {
       "version_major": 2,
       "version_minor": 0,
       "model_id": "68fd849aae58441880bda8367ed5abb4"
      }
     },
     "metadata": {},
     "output_type": "display_data"
    },
    {
     "name": "stdout",
     "output_type": "stream",
     "text": [
      "Learning completed!\n",
      "\n",
      "[HFT] Evaluation started!\n"
     ]
    },
    {
     "data": {
      "text/plain": "Rating:   0%|          | 0/1336 [00:00<?, ?it/s]",
      "application/vnd.jupyter.widget-view+json": {
       "version_major": 2,
       "version_minor": 0,
       "model_id": "763072aea9f6456da503a7985a091abe"
      }
     },
     "metadata": {},
     "output_type": "display_data"
    },
    {
     "data": {
      "text/plain": "Ranking:   0%|          | 0/234 [00:00<?, ?it/s]",
      "application/vnd.jupyter.widget-view+json": {
       "version_major": 2,
       "version_minor": 0,
       "model_id": "550c4c19828946acb15fc6f995c463de"
      }
     },
     "metadata": {},
     "output_type": "display_data"
    },
    {
     "name": "stdout",
     "output_type": "stream",
     "text": [
      "\n",
      "TEST:\n",
      "...\n",
      "    |    MAE |    MSE |   RMSE |    AUC |  F1@50 |    MAP |    MRR | NCRR@50 | NDCG@50 | Precision@50 | Recall@50 | Train (s) | Test (s)\n",
      "--- + ------ + ------ + ------ + ------ + ------ + ------ + ------ + ------- + ------- + ------------ + --------- + --------- + --------\n",
      "HFT | 0.0000 | 0.0000 | 0.0000 | 0.5136 | 0.0031 | 0.0037 | 0.0080 |  0.0024 |  0.0071 |       0.0019 |    0.0202 |   70.9974 |   0.4813\n",
      "\n"
     ]
    }
   ],
   "source": [
    "# Instantiate HFT model\n",
    "hft_lambda_text01_k10 = cornac.models.HFT(\n",
    "    k=10,\n",
    "    max_iter=10,\n",
    "    grad_iter=5,\n",
    "    l2_reg=0.001,\n",
    "    lambda_text=0.1,\n",
    "    vocab_size=8000,\n",
    "    seed=123,\n",
    ")\n",
    "\n",
    "# Instantiate MSE for evaluation\n",
    "metrics = [MAE(), RMSE(), MSE(),FMeasure(k=50),Precision(k=50),\n",
    "           Recall(k=50), NDCG(k=50), NCRR(k=50),\n",
    "           MRR(),AUC(), MAP()]\n",
    "\n",
    "# Put everything together into an experiment and run it\n",
    "cornac.Experiment(\n",
    "    eval_method=mind_ratio_split, models=[hft_lambda_text01_k10], metrics=metrics, user_based=False\n",
    ").run()"
   ],
   "metadata": {
    "collapsed": false
   }
  },
  {
   "cell_type": "code",
   "execution_count": 24,
   "outputs": [
    {
     "name": "stdout",
     "output_type": "stream",
     "text": [
      "0.8952004524817146\n",
      "1.1745088443207166\n"
     ]
    }
   ],
   "source": [
    "data8 = {\"model\":\"HFT\",\n",
    "        \"data\":\"mind\",\n",
    "        \"k\":10,\n",
    "        \"max_iter\":10,\n",
    "        \"grad_iter\":5,\n",
    "        \"lambda_text\":0.1,\n",
    "        \"l2_reg\":0.001,\n",
    "        \"MAE\":0.0000,\"MSE\":0.0000,\"RMSE\":0.0000,\"AUC\":0.4974,\"F1\":0.0016,\"MAP\":0.0027,\"MRR\":0.0048,\"NCRR\":0.0008,\"NDCG\":0.0025,\"Precision\":0.0010,\"Recall\":0.0064,\n",
    "        \"category diversity\":compute_avg_diversity(hft_lambda_text01_k10, mind_, \"category\"),\n",
    "         \"story diversity\":compute_avg_diversity(hft_lambda_text01_k10, mind_, \"story\")}\n",
    "print(data8[\"category diversity\"])\n",
    "print(data8[\"story diversity\"])"
   ],
   "metadata": {
    "collapsed": false
   }
  },
  {
   "cell_type": "markdown",
   "source": [
    "### k=50, lambda_text=0.01, l2_reg=0.01"
   ],
   "metadata": {
    "collapsed": false
   }
  },
  {
   "cell_type": "code",
   "execution_count": 25,
   "outputs": [
    {
     "name": "stdout",
     "output_type": "stream",
     "text": [
      "\n",
      "[HFT] Training started!\n"
     ]
    },
    {
     "data": {
      "text/plain": "  0%|          | 0/10 [00:00<?, ?it/s]",
      "application/vnd.jupyter.widget-view+json": {
       "version_major": 2,
       "version_minor": 0,
       "model_id": "c1ca552f1eef49748d98daef4c517b20"
      }
     },
     "metadata": {},
     "output_type": "display_data"
    },
    {
     "name": "stdout",
     "output_type": "stream",
     "text": [
      "Learning completed!\n",
      "\n",
      "[HFT] Evaluation started!\n"
     ]
    },
    {
     "data": {
      "text/plain": "Rating:   0%|          | 0/1336 [00:00<?, ?it/s]",
      "application/vnd.jupyter.widget-view+json": {
       "version_major": 2,
       "version_minor": 0,
       "model_id": "b02482be68ae4073a222748d4ceb369f"
      }
     },
     "metadata": {},
     "output_type": "display_data"
    },
    {
     "data": {
      "text/plain": "Ranking:   0%|          | 0/234 [00:00<?, ?it/s]",
      "application/vnd.jupyter.widget-view+json": {
       "version_major": 2,
       "version_minor": 0,
       "model_id": "acd1d354297547968f4208180e0992f5"
      }
     },
     "metadata": {},
     "output_type": "display_data"
    },
    {
     "name": "stdout",
     "output_type": "stream",
     "text": [
      "\n",
      "TEST:\n",
      "...\n",
      "    |    MAE |    MSE |   RMSE |    AUC |  F1@50 |    MAP |    MRR | NCRR@50 | NDCG@50 | Precision@50 | Recall@50 | Train (s) | Test (s)\n",
      "--- + ------ + ------ + ------ + ------ + ------ + ------ + ------ + ------- + ------- + ------------ + --------- + --------- + --------\n",
      "HFT | 0.0000 | 0.0000 | 0.0000 | 0.4971 | 0.0028 | 0.0071 | 0.0109 |  0.0061 |  0.0097 |       0.0017 |    0.0194 |   69.6633 |   0.5382\n",
      "\n"
     ]
    }
   ],
   "source": [
    "# Instantiate HFT model\n",
    "hft_l201_k50 = cornac.models.HFT(\n",
    "    k=50,\n",
    "    max_iter=10,\n",
    "    grad_iter=5,\n",
    "    l2_reg=0.01,\n",
    "    lambda_text=0.01,\n",
    "    vocab_size=8000,\n",
    "    seed=123,\n",
    ")\n",
    "\n",
    "# Instantiate MSE for evaluation\n",
    "metrics = [MAE(), RMSE(), MSE(),FMeasure(k=50),Precision(k=50),\n",
    "           Recall(k=50), NDCG(k=50), NCRR(k=50),\n",
    "           MRR(),AUC(), MAP()]\n",
    "\n",
    "# Put everything together into an experiment and run it\n",
    "cornac.Experiment(\n",
    "    eval_method=mind_ratio_split, models=[hft_l201_k50], metrics=metrics, user_based=False\n",
    ").run()"
   ],
   "metadata": {
    "collapsed": false
   }
  },
  {
   "cell_type": "code",
   "execution_count": 26,
   "outputs": [
    {
     "name": "stdout",
     "output_type": "stream",
     "text": [
      "0.443079039674977\n",
      "1.077328362262056\n"
     ]
    }
   ],
   "source": [
    "data9 = {\"model\":\"HFT\",\n",
    "        \"data\":\"mind\",\n",
    "        \"k\":50,\n",
    "        \"max_iter\":10,\n",
    "        \"grad_iter\":5,\n",
    "        \"lambda_text\":0.01,\n",
    "        \"l2_reg\":0.01,\n",
    "        \"MAE\":0.0000,\"MSE\":0.0000,\"RMSE\":0.0000,\"AUC\":0.4976,\"F1\":0.0026,\"MAP\":0.0055,\"MRR\":0.0116,\"NCRR\":0.0051,\"NDCG\":0.0076,\"Precision\":0.0016,\"Recall\":0.0136,\n",
    "        \"category diversity\":compute_avg_diversity(hft_l201_k50, mind_, \"category\"),\n",
    "         \"story diversity\":compute_avg_diversity(hft_l201_k50, mind_, \"story\")}\n",
    "print(data9[\"category diversity\"])\n",
    "print(data9[\"story diversity\"])"
   ],
   "metadata": {
    "collapsed": false
   }
  },
  {
   "cell_type": "markdown",
   "source": [
    "### k=50, lambda_text=0.01, l2_reg=0.1"
   ],
   "metadata": {
    "collapsed": false
   }
  },
  {
   "cell_type": "code",
   "execution_count": 27,
   "outputs": [
    {
     "name": "stdout",
     "output_type": "stream",
     "text": [
      "\n",
      "[HFT] Training started!\n"
     ]
    },
    {
     "data": {
      "text/plain": "  0%|          | 0/10 [00:00<?, ?it/s]",
      "application/vnd.jupyter.widget-view+json": {
       "version_major": 2,
       "version_minor": 0,
       "model_id": "1a3d9e3790ba41efb4b2757166de8ff7"
      }
     },
     "metadata": {},
     "output_type": "display_data"
    },
    {
     "name": "stdout",
     "output_type": "stream",
     "text": [
      "Learning completed!\n",
      "\n",
      "[HFT] Evaluation started!\n"
     ]
    },
    {
     "data": {
      "text/plain": "Rating:   0%|          | 0/1336 [00:00<?, ?it/s]",
      "application/vnd.jupyter.widget-view+json": {
       "version_major": 2,
       "version_minor": 0,
       "model_id": "b957e7a612594bad8aae085ccffc794c"
      }
     },
     "metadata": {},
     "output_type": "display_data"
    },
    {
     "data": {
      "text/plain": "Ranking:   0%|          | 0/234 [00:00<?, ?it/s]",
      "application/vnd.jupyter.widget-view+json": {
       "version_major": 2,
       "version_minor": 0,
       "model_id": "a32dfe42e36b407ab51065a51187dfd8"
      }
     },
     "metadata": {},
     "output_type": "display_data"
    },
    {
     "name": "stdout",
     "output_type": "stream",
     "text": [
      "\n",
      "TEST:\n",
      "...\n",
      "    |    MAE |    MSE |   RMSE |    AUC |  F1@50 |    MAP |    MRR | NCRR@50 | NDCG@50 | Precision@50 | Recall@50 | Train (s) | Test (s)\n",
      "--- + ------ + ------ + ------ + ------ + ------ + ------ + ------ + ------- + ------- + ------------ + --------- + --------- + --------\n",
      "HFT | 0.0000 | 0.0000 | 0.0000 | 0.4988 | 0.0024 | 0.0056 | 0.0091 |  0.0044 |  0.0094 |       0.0014 |    0.0259 |   80.9620 |   0.4694\n",
      "\n"
     ]
    }
   ],
   "source": [
    "# Instantiate HFT model\n",
    "hft_l21_k50 = cornac.models.HFT(\n",
    "    k=50,\n",
    "    max_iter=10,\n",
    "    grad_iter=5,\n",
    "    l2_reg=0.1,\n",
    "    lambda_text=0.01,\n",
    "    vocab_size=8000,\n",
    "    seed=123,\n",
    ")\n",
    "\n",
    "# Instantiate MSE for evaluation\n",
    "metrics = [MAE(), RMSE(), MSE(),FMeasure(k=50),Precision(k=50),\n",
    "           Recall(k=50), NDCG(k=50), NCRR(k=50),\n",
    "           MRR(),AUC(), MAP()]\n",
    "\n",
    "# Put everything together into an experiment and run it\n",
    "cornac.Experiment(\n",
    "    eval_method=mind_ratio_split, models=[hft_l21_k50], metrics=metrics, user_based=False\n",
    ").run()"
   ],
   "metadata": {
    "collapsed": false
   }
  },
  {
   "cell_type": "code",
   "execution_count": 28,
   "outputs": [
    {
     "name": "stdout",
     "output_type": "stream",
     "text": [
      "0.08683283281052173\n",
      "1.0871930964606356\n"
     ]
    }
   ],
   "source": [
    "data10 = {\"model\":\"HFT\",\n",
    "        \"data\":\"mind\",\n",
    "        \"k\":50,\n",
    "        \"max_iter\":10,\n",
    "        \"grad_iter\":5,\n",
    "        \"lambda_text\":0.01,\n",
    "        \"l2_reg\":0.1,\n",
    "        \"MAE\":0.0000,\"MSE\":0.0000,\"RMSE\":0.0000,\"AUC\":0.4957,\"F1\":0.0014,\"MAP\":0.0025,\"MRR\":0.0051,\"NCRR\":0.0009,\"NDCG\":0.0025,\"Precision\":0.0009,\"Recall\":0.0060,\n",
    "        \"category diversity\":compute_avg_diversity(hft_l21_k50, mind_, \"category\"),\n",
    "         \"story diversity\":compute_avg_diversity(hft_l21_k50, mind_, \"story\")}\n",
    "print(data10[\"category diversity\"])\n",
    "print(data10[\"story diversity\"])"
   ],
   "metadata": {
    "collapsed": false
   }
  },
  {
   "cell_type": "code",
   "execution_count": 29,
   "outputs": [],
   "source": [
    "data = [data1,data2,data3,data4,data5,data6,data7,data8,data9,data10]\n",
    "df = pd.DataFrame(columns = data1.keys())\n",
    "i=0\n",
    "for d in data:\n",
    "    df = pd.concat([df, pd.DataFrame(d,columns = list(d.keys()),index=[i])], ignore_index=False)\n",
    "    i += 1"
   ],
   "metadata": {
    "collapsed": false
   }
  },
  {
   "cell_type": "code",
   "execution_count": 30,
   "outputs": [
    {
     "data": {
      "text/plain": "  model  data    k max_iter grad_iter  lambda_text  l2_reg  MAE  MSE  RMSE  \\\n0   HFT  mind   10       10         5         0.01   0.001  0.0  0.0   0.0   \n1   HFT  mind   50       10         5         0.01   0.001  0.0  0.0   0.0   \n2   HFT  mind  100       10         5         0.01   0.001  0.0  0.0   0.0   \n3   HFT  mind  200       10         5         0.01   0.001  0.0  0.0   0.0   \n4   HFT  mind  300       10         5         0.01   0.001  0.0  0.0   0.0   \n5   HFT  mind  400       10         5         0.01   0.001  0.0  0.0   0.0   \n6   HFT  mind   50       10         5         0.10   0.001  0.0  0.0   0.0   \n7   HFT  mind   10       10         5         0.10   0.001  0.0  0.0   0.0   \n8   HFT  mind   50       10         5         0.01   0.010  0.0  0.0   0.0   \n9   HFT  mind   50       10         5         0.01   0.100  0.0  0.0   0.0   \n\n      AUC      F1     MAP     MRR    NCRR    NDCG  Precision  Recall  \\\n0  0.5047  0.0030  0.0035  0.0091  0.0026  0.0075     0.0017  0.0236   \n1  0.4918  0.0008  0.0026  0.0059  0.0011  0.0021     0.0005  0.0063   \n2  0.5207  0.0032  0.0031  0.0064  0.0015  0.0061     0.0019  0.0203   \n3  0.5009  0.0016  0.0028  0.0074  0.0018  0.0032     0.0010  0.0060   \n4  0.5078  0.0007  0.0023  0.0036  0.0003  0.0010     0.0004  0.0022   \n5  0.5111  0.0011  0.0027  0.0036  0.0010  0.0033     0.0006  0.0104   \n6  0.5048  0.0020  0.0033  0.0109  0.0029  0.0048     0.0012  0.0118   \n7  0.4974  0.0016  0.0027  0.0048  0.0008  0.0025     0.0010  0.0064   \n8  0.4976  0.0026  0.0055  0.0116  0.0051  0.0076     0.0016  0.0136   \n9  0.4957  0.0014  0.0025  0.0051  0.0009  0.0025     0.0009  0.0060   \n\n   category diversity  story diversity  \n0            0.163966         0.904512  \n1            0.190432         1.267216  \n2            0.299448         1.238646  \n3            0.171475         0.721262  \n4            0.695235         0.713475  \n5            0.282977         0.833894  \n6            0.711762         1.276029  \n7            0.895200         1.174509  \n8            0.443079         1.077328  \n9            0.086833         1.087193  ",
      "text/html": "<div>\n<style scoped>\n    .dataframe tbody tr th:only-of-type {\n        vertical-align: middle;\n    }\n\n    .dataframe tbody tr th {\n        vertical-align: top;\n    }\n\n    .dataframe thead th {\n        text-align: right;\n    }\n</style>\n<table border=\"1\" class=\"dataframe\">\n  <thead>\n    <tr style=\"text-align: right;\">\n      <th></th>\n      <th>model</th>\n      <th>data</th>\n      <th>k</th>\n      <th>max_iter</th>\n      <th>grad_iter</th>\n      <th>lambda_text</th>\n      <th>l2_reg</th>\n      <th>MAE</th>\n      <th>MSE</th>\n      <th>RMSE</th>\n      <th>AUC</th>\n      <th>F1</th>\n      <th>MAP</th>\n      <th>MRR</th>\n      <th>NCRR</th>\n      <th>NDCG</th>\n      <th>Precision</th>\n      <th>Recall</th>\n      <th>category diversity</th>\n      <th>story diversity</th>\n    </tr>\n  </thead>\n  <tbody>\n    <tr>\n      <th>0</th>\n      <td>HFT</td>\n      <td>mind</td>\n      <td>10</td>\n      <td>10</td>\n      <td>5</td>\n      <td>0.01</td>\n      <td>0.001</td>\n      <td>0.0</td>\n      <td>0.0</td>\n      <td>0.0</td>\n      <td>0.5047</td>\n      <td>0.0030</td>\n      <td>0.0035</td>\n      <td>0.0091</td>\n      <td>0.0026</td>\n      <td>0.0075</td>\n      <td>0.0017</td>\n      <td>0.0236</td>\n      <td>0.163966</td>\n      <td>0.904512</td>\n    </tr>\n    <tr>\n      <th>1</th>\n      <td>HFT</td>\n      <td>mind</td>\n      <td>50</td>\n      <td>10</td>\n      <td>5</td>\n      <td>0.01</td>\n      <td>0.001</td>\n      <td>0.0</td>\n      <td>0.0</td>\n      <td>0.0</td>\n      <td>0.4918</td>\n      <td>0.0008</td>\n      <td>0.0026</td>\n      <td>0.0059</td>\n      <td>0.0011</td>\n      <td>0.0021</td>\n      <td>0.0005</td>\n      <td>0.0063</td>\n      <td>0.190432</td>\n      <td>1.267216</td>\n    </tr>\n    <tr>\n      <th>2</th>\n      <td>HFT</td>\n      <td>mind</td>\n      <td>100</td>\n      <td>10</td>\n      <td>5</td>\n      <td>0.01</td>\n      <td>0.001</td>\n      <td>0.0</td>\n      <td>0.0</td>\n      <td>0.0</td>\n      <td>0.5207</td>\n      <td>0.0032</td>\n      <td>0.0031</td>\n      <td>0.0064</td>\n      <td>0.0015</td>\n      <td>0.0061</td>\n      <td>0.0019</td>\n      <td>0.0203</td>\n      <td>0.299448</td>\n      <td>1.238646</td>\n    </tr>\n    <tr>\n      <th>3</th>\n      <td>HFT</td>\n      <td>mind</td>\n      <td>200</td>\n      <td>10</td>\n      <td>5</td>\n      <td>0.01</td>\n      <td>0.001</td>\n      <td>0.0</td>\n      <td>0.0</td>\n      <td>0.0</td>\n      <td>0.5009</td>\n      <td>0.0016</td>\n      <td>0.0028</td>\n      <td>0.0074</td>\n      <td>0.0018</td>\n      <td>0.0032</td>\n      <td>0.0010</td>\n      <td>0.0060</td>\n      <td>0.171475</td>\n      <td>0.721262</td>\n    </tr>\n    <tr>\n      <th>4</th>\n      <td>HFT</td>\n      <td>mind</td>\n      <td>300</td>\n      <td>10</td>\n      <td>5</td>\n      <td>0.01</td>\n      <td>0.001</td>\n      <td>0.0</td>\n      <td>0.0</td>\n      <td>0.0</td>\n      <td>0.5078</td>\n      <td>0.0007</td>\n      <td>0.0023</td>\n      <td>0.0036</td>\n      <td>0.0003</td>\n      <td>0.0010</td>\n      <td>0.0004</td>\n      <td>0.0022</td>\n      <td>0.695235</td>\n      <td>0.713475</td>\n    </tr>\n    <tr>\n      <th>5</th>\n      <td>HFT</td>\n      <td>mind</td>\n      <td>400</td>\n      <td>10</td>\n      <td>5</td>\n      <td>0.01</td>\n      <td>0.001</td>\n      <td>0.0</td>\n      <td>0.0</td>\n      <td>0.0</td>\n      <td>0.5111</td>\n      <td>0.0011</td>\n      <td>0.0027</td>\n      <td>0.0036</td>\n      <td>0.0010</td>\n      <td>0.0033</td>\n      <td>0.0006</td>\n      <td>0.0104</td>\n      <td>0.282977</td>\n      <td>0.833894</td>\n    </tr>\n    <tr>\n      <th>6</th>\n      <td>HFT</td>\n      <td>mind</td>\n      <td>50</td>\n      <td>10</td>\n      <td>5</td>\n      <td>0.10</td>\n      <td>0.001</td>\n      <td>0.0</td>\n      <td>0.0</td>\n      <td>0.0</td>\n      <td>0.5048</td>\n      <td>0.0020</td>\n      <td>0.0033</td>\n      <td>0.0109</td>\n      <td>0.0029</td>\n      <td>0.0048</td>\n      <td>0.0012</td>\n      <td>0.0118</td>\n      <td>0.711762</td>\n      <td>1.276029</td>\n    </tr>\n    <tr>\n      <th>7</th>\n      <td>HFT</td>\n      <td>mind</td>\n      <td>10</td>\n      <td>10</td>\n      <td>5</td>\n      <td>0.10</td>\n      <td>0.001</td>\n      <td>0.0</td>\n      <td>0.0</td>\n      <td>0.0</td>\n      <td>0.4974</td>\n      <td>0.0016</td>\n      <td>0.0027</td>\n      <td>0.0048</td>\n      <td>0.0008</td>\n      <td>0.0025</td>\n      <td>0.0010</td>\n      <td>0.0064</td>\n      <td>0.895200</td>\n      <td>1.174509</td>\n    </tr>\n    <tr>\n      <th>8</th>\n      <td>HFT</td>\n      <td>mind</td>\n      <td>50</td>\n      <td>10</td>\n      <td>5</td>\n      <td>0.01</td>\n      <td>0.010</td>\n      <td>0.0</td>\n      <td>0.0</td>\n      <td>0.0</td>\n      <td>0.4976</td>\n      <td>0.0026</td>\n      <td>0.0055</td>\n      <td>0.0116</td>\n      <td>0.0051</td>\n      <td>0.0076</td>\n      <td>0.0016</td>\n      <td>0.0136</td>\n      <td>0.443079</td>\n      <td>1.077328</td>\n    </tr>\n    <tr>\n      <th>9</th>\n      <td>HFT</td>\n      <td>mind</td>\n      <td>50</td>\n      <td>10</td>\n      <td>5</td>\n      <td>0.01</td>\n      <td>0.100</td>\n      <td>0.0</td>\n      <td>0.0</td>\n      <td>0.0</td>\n      <td>0.4957</td>\n      <td>0.0014</td>\n      <td>0.0025</td>\n      <td>0.0051</td>\n      <td>0.0009</td>\n      <td>0.0025</td>\n      <td>0.0009</td>\n      <td>0.0060</td>\n      <td>0.086833</td>\n      <td>1.087193</td>\n    </tr>\n  </tbody>\n</table>\n</div>"
     },
     "execution_count": 30,
     "metadata": {},
     "output_type": "execute_result"
    }
   ],
   "source": [
    "df"
   ],
   "metadata": {
    "collapsed": false
   }
  },
  {
   "cell_type": "code",
   "execution_count": 31,
   "outputs": [],
   "source": [
    "df.to_csv('/Users/pigr/Desktop/cornac/cornac/dataset/hft_mind.csv',header=-1,index=0)"
   ],
   "metadata": {
    "collapsed": false
   }
  },
  {
   "cell_type": "code",
   "execution_count": null,
   "outputs": [],
   "source": [],
   "metadata": {
    "collapsed": false
   }
  }
 ],
 "metadata": {
  "kernelspec": {
   "display_name": "Python 3",
   "language": "python",
   "name": "python3"
  },
  "language_info": {
   "codemirror_mode": {
    "name": "ipython",
    "version": 2
   },
   "file_extension": ".py",
   "mimetype": "text/x-python",
   "name": "python",
   "nbconvert_exporter": "python",
   "pygments_lexer": "ipython2",
   "version": "2.7.6"
  }
 },
 "nbformat": 4,
 "nbformat_minor": 0
}
