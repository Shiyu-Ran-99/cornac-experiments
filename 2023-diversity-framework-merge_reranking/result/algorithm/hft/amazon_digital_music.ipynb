{
 "cells": [
  {
   "cell_type": "code",
   "execution_count": 1,
   "metadata": {
    "collapsed": true
   },
   "outputs": [
    {
     "name": "stdout",
     "output_type": "stream",
     "text": [
      "FM model is only supported on Linux.\n",
      "Windows executable can be found at http://www.libfm.org.\n"
     ]
    }
   ],
   "source": [
    "import numpy as np\n",
    "import pandas as pd\n",
    "from scipy.stats import entropy\n",
    "import matplotlib.pyplot as plt\n",
    "import random\n",
    "\n",
    "import cornac\n",
    "from cornac.eval_methods import RatioSplit\n",
    "from cornac.data import TextModality\n",
    "from cornac.data.text import BaseTokenizer\n",
    "from cornac.data import Reader\n",
    "from cornac.metrics import MAE,RMSE,MSE,FMeasure,Precision,Recall,NDCG,NCRR,MRR,AUC,MAP"
   ]
  },
  {
   "cell_type": "code",
   "execution_count": 2,
   "outputs": [
    {
     "name": "stdout",
     "output_type": "stream",
     "text": [
      "rating_threshold = 1.0\n",
      "exclude_unknowns = True\n",
      "---\n",
      "Training data:\n",
      "Number of users = 5541\n",
      "Number of items = 3568\n",
      "Number of ratings = 51764\n",
      "Max rating = 5.0\n",
      "Min rating = 1.0\n",
      "Global mean = 4.2\n",
      "---\n",
      "Test data:\n",
      "Number of users = 4466\n",
      "Number of items = 3103\n",
      "Number of ratings = 12942\n",
      "Number of unknown users = 0\n",
      "Number of unknown items = 0\n",
      "---\n",
      "Total users = 5541\n",
      "Total items = 3568\n"
     ]
    }
   ],
   "source": [
    "# amazon_clothing dataset\n",
    "from cornac.datasets import amazon_digital_music\n",
    "data = amazon_digital_music.load_review()\n",
    "item_ids_music = list(map(lambda x: x[1], data))\n",
    "docs_music = list(map(lambda x: x[2], data))\n",
    "feedback_music = amazon_digital_music.load_feedback(reader=Reader(item_set=item_ids_music))\n",
    "music_item_text_modality = TextModality(\n",
    "    corpus=docs_music,\n",
    "    ids=item_ids_music,\n",
    "    tokenizer=BaseTokenizer(sep=\" \", stop_words=\"english\"),\n",
    "    max_vocab=8000,\n",
    "    max_doc_freq=0.5,\n",
    ")\n",
    "# Define an evaluation method to split feedback into train and test sets\n",
    "music_ratio_split = RatioSplit(\n",
    "    data=feedback_music,\n",
    "    test_size=0.2,\n",
    "    exclude_unknowns=True,\n",
    "    item_text=music_item_text_modality,\n",
    "    verbose=True,\n",
    "    seed=123,\n",
    "    rating_threshold=1,\n",
    ")"
   ],
   "metadata": {
    "collapsed": false
   }
  },
  {
   "cell_type": "markdown",
   "source": [
    "### k=10"
   ],
   "metadata": {
    "collapsed": false
   }
  },
  {
   "cell_type": "code",
   "execution_count": 8,
   "outputs": [
    {
     "name": "stdout",
     "output_type": "stream",
     "text": [
      "\n",
      "[HFT] Training started!\n"
     ]
    },
    {
     "data": {
      "text/plain": "  0%|          | 0/10 [00:00<?, ?it/s]",
      "application/vnd.jupyter.widget-view+json": {
       "version_major": 2,
       "version_minor": 0,
       "model_id": "00ebba2d2a1f4cb887e8cca74b6f6e0a"
      }
     },
     "metadata": {},
     "output_type": "display_data"
    },
    {
     "name": "stdout",
     "output_type": "stream",
     "text": [
      "Learning completed!\n",
      "\n",
      "[HFT] Evaluation started!\n"
     ]
    },
    {
     "data": {
      "text/plain": "Rating:   0%|          | 0/12942 [00:00<?, ?it/s]",
      "application/vnd.jupyter.widget-view+json": {
       "version_major": 2,
       "version_minor": 0,
       "model_id": "ff1c76a3e0b44da4bea939ecb7446684"
      }
     },
     "metadata": {},
     "output_type": "display_data"
    },
    {
     "data": {
      "text/plain": "Ranking:   0%|          | 0/4466 [00:00<?, ?it/s]",
      "application/vnd.jupyter.widget-view+json": {
       "version_major": 2,
       "version_minor": 0,
       "model_id": "1d0194e99dff46aa958cd2b614324969"
      }
     },
     "metadata": {},
     "output_type": "display_data"
    },
    {
     "name": "stdout",
     "output_type": "stream",
     "text": [
      "\n",
      "TEST:\n",
      "...\n",
      "    |    MAE |    MSE |   RMSE |    AUC |  F1@50 |    MAP |    MRR | NCRR@50 | NDCG@50 | Precision@50 | Recall@50 | Train (s) | Test (s)\n",
      "--- + ------ + ------ + ------ + ------ + ------ + ------ + ------ + ------- + ------- + ------------ + --------- + --------- + --------\n",
      "HFT | 0.6584 | 0.8729 | 0.9343 | 0.4788 | 0.0014 | 0.0029 | 0.0058 |  0.0019 |  0.0040 |       0.0008 |    0.0107 |   30.6972 |   7.5185\n",
      "\n"
     ]
    }
   ],
   "source": [
    "# Instantiate HFT model\n",
    "hft_k10 = cornac.models.HFT(\n",
    "    k=10,\n",
    "    max_iter=10,\n",
    "    grad_iter=5,\n",
    "    l2_reg=0.001,\n",
    "    lambda_text=0.01,\n",
    "    vocab_size=8000,\n",
    "    seed=123,\n",
    ")\n",
    "\n",
    "# Instantiate MSE for evaluation\n",
    "metrics = [MAE(), RMSE(), MSE(),FMeasure(k=50),Precision(k=50),\n",
    "           Recall(k=50), NDCG(k=50), NCRR(k=50),\n",
    "           MRR(),AUC(), MAP()]\n",
    "\n",
    "# Put everything together into an experiment and run it\n",
    "cornac.Experiment(\n",
    "    eval_method=music_ratio_split, models=[hft_k10], metrics=metrics, user_based=False\n",
    ").run()"
   ],
   "metadata": {
    "collapsed": false
   }
  },
  {
   "cell_type": "code",
   "execution_count": 20,
   "outputs": [],
   "source": [
    "data1 = {\"model\":\"HFT\",\n",
    "        \"data\":\"amazon digital music\",\n",
    "        \"k\":10,\n",
    "        \"max_iter\":10,\n",
    "        \"grad_iter\":5,\n",
    "        \"lambda_text\":0.01,\n",
    "        \"l2_reg\":0.001,\n",
    "        \"MAE\":0.6584,\"MSE\":0.8729,\"RMSE\":0.9343,\"AUC\":0.4788,\"F1\":0.0014,\"MAP\":0.0029,\"MRR\":0.0058,\"NCRR\":0.0019,\"NDCG\":0.0040,\"Precision\":0.0008,\"Recall\":0.0107,\n",
    "        \"category diversity\":0}"
   ],
   "metadata": {
    "collapsed": false
   }
  },
  {
   "cell_type": "markdown",
   "source": [
    "### k=50"
   ],
   "metadata": {
    "collapsed": false
   }
  },
  {
   "cell_type": "code",
   "execution_count": 4,
   "outputs": [
    {
     "name": "stdout",
     "output_type": "stream",
     "text": [
      "\n",
      "[HFT] Training started!\n"
     ]
    },
    {
     "data": {
      "text/plain": "  0%|          | 0/10 [00:00<?, ?it/s]",
      "application/vnd.jupyter.widget-view+json": {
       "version_major": 2,
       "version_minor": 0,
       "model_id": "afce5ebc03514c3ebb1314c80ba3ccb4"
      }
     },
     "metadata": {},
     "output_type": "display_data"
    },
    {
     "name": "stdout",
     "output_type": "stream",
     "text": [
      "Learning completed!\n",
      "\n",
      "[HFT] Evaluation started!\n"
     ]
    },
    {
     "data": {
      "text/plain": "Rating:   0%|          | 0/12942 [00:00<?, ?it/s]",
      "application/vnd.jupyter.widget-view+json": {
       "version_major": 2,
       "version_minor": 0,
       "model_id": "c7bbc1536b2948e5b9e4ed57c1be7412"
      }
     },
     "metadata": {},
     "output_type": "display_data"
    },
    {
     "data": {
      "text/plain": "Ranking:   0%|          | 0/4466 [00:00<?, ?it/s]",
      "application/vnd.jupyter.widget-view+json": {
       "version_major": 2,
       "version_minor": 0,
       "model_id": "48458468d8a24263a95f9f6761048101"
      }
     },
     "metadata": {},
     "output_type": "display_data"
    },
    {
     "name": "stdout",
     "output_type": "stream",
     "text": [
      "\n",
      "TEST:\n",
      "...\n",
      "    |    MAE |    MSE |   RMSE |    AUC |  F1@50 |    MAP |    MRR | NCRR@50 | NDCG@50 | Precision@50 | Recall@50 | Train (s) | Test (s)\n",
      "--- + ------ + ------ + ------ + ------ + ------ + ------ + ------ + ------- + ------- + ------------ + --------- + --------- + --------\n",
      "HFT | 0.6674 | 0.8857 | 0.9411 | 0.4760 | 0.0015 | 0.0026 | 0.0053 |  0.0016 |  0.0042 |       0.0008 |    0.0127 |   56.8347 |   6.7598\n",
      "\n"
     ]
    }
   ],
   "source": [
    "# Instantiate HFT model\n",
    "hft_k50 = cornac.models.HFT(\n",
    "    k=50,\n",
    "    max_iter=10,\n",
    "    grad_iter=5,\n",
    "    l2_reg=0.001,\n",
    "    lambda_text=0.01,\n",
    "    vocab_size=8000,\n",
    "    seed=123,\n",
    ")\n",
    "\n",
    "# Instantiate MSE for evaluation\n",
    "metrics = [MAE(), RMSE(), MSE(),FMeasure(k=50),Precision(k=50),\n",
    "           Recall(k=50), NDCG(k=50), NCRR(k=50),\n",
    "           MRR(),AUC(), MAP()]\n",
    "\n",
    "# Put everything together into an experiment and run it\n",
    "cornac.Experiment(\n",
    "    eval_method=music_ratio_split, models=[hft_k50], metrics=metrics, user_based=False\n",
    ").run()"
   ],
   "metadata": {
    "collapsed": false
   }
  },
  {
   "cell_type": "code",
   "execution_count": 22,
   "outputs": [],
   "source": [
    "data2 = {\"model\":\"HFT\",\n",
    "        \"data\":\"amazon digital music\",\n",
    "        \"k\":50,\n",
    "        \"max_iter\":10,\n",
    "        \"grad_iter\":5,\n",
    "        \"lambda_text\":0.01,\n",
    "        \"l2_reg\":0.001,\n",
    "        \"MAE\":0.6674,\"MSE\":0.8857,\"RMSE\":0.9411,\"AUC\":0.4760,\"F1\":0.0015,\"MAP\":0.0026,\"MRR\":0.0053,\"NCRR\":0.0016,\"NDCG\":0.0042,\"Precision\":0.0008,\"Recall\":0.0127,\n",
    "        \"category diversity\":0}"
   ],
   "metadata": {
    "collapsed": false
   }
  },
  {
   "cell_type": "markdown",
   "source": [
    "### k=100"
   ],
   "metadata": {
    "collapsed": false
   }
  },
  {
   "cell_type": "code",
   "execution_count": 3,
   "outputs": [
    {
     "name": "stdout",
     "output_type": "stream",
     "text": [
      "\n",
      "[HFT] Training started!\n"
     ]
    },
    {
     "data": {
      "text/plain": "  0%|          | 0/10 [00:00<?, ?it/s]",
      "application/vnd.jupyter.widget-view+json": {
       "version_major": 2,
       "version_minor": 0,
       "model_id": "d8d9db924fef456096255b55d502a95e"
      }
     },
     "metadata": {},
     "output_type": "display_data"
    },
    {
     "name": "stdout",
     "output_type": "stream",
     "text": [
      "Learning completed!\n",
      "\n",
      "[HFT] Evaluation started!\n"
     ]
    },
    {
     "data": {
      "text/plain": "Rating:   0%|          | 0/12942 [00:00<?, ?it/s]",
      "application/vnd.jupyter.widget-view+json": {
       "version_major": 2,
       "version_minor": 0,
       "model_id": "b0df255bedf54a3dbc624ba9572e496d"
      }
     },
     "metadata": {},
     "output_type": "display_data"
    },
    {
     "data": {
      "text/plain": "Ranking:   0%|          | 0/4466 [00:00<?, ?it/s]",
      "application/vnd.jupyter.widget-view+json": {
       "version_major": 2,
       "version_minor": 0,
       "model_id": "9ef8caa8d6d949cbabab0872ff8e6f5b"
      }
     },
     "metadata": {},
     "output_type": "display_data"
    },
    {
     "name": "stdout",
     "output_type": "stream",
     "text": [
      "\n",
      "TEST:\n",
      "...\n",
      "    |    MAE |    MSE |   RMSE |    AUC |  F1@50 |    MAP |    MRR | NCRR@50 | NDCG@50 | Precision@50 | Recall@50 | Train (s) | Test (s)\n",
      "--- + ------ + ------ + ------ + ------ + ------ + ------ + ------ + ------- + ------- + ------------ + --------- + --------- + --------\n",
      "HFT | 0.6550 | 0.8644 | 0.9298 | 0.4846 | 0.0026 | 0.0046 | 0.0097 |  0.0042 |  0.0089 |       0.0015 |    0.0237 |   83.9283 |   7.8663\n",
      "\n"
     ]
    }
   ],
   "source": [
    "# Instantiate HFT model\n",
    "hft_k100 = cornac.models.HFT(\n",
    "    k=100,\n",
    "    max_iter=10,\n",
    "    grad_iter=5,\n",
    "    l2_reg=0.001,\n",
    "    lambda_text=0.01,\n",
    "    vocab_size=8000,\n",
    "    seed=123,\n",
    ")\n",
    "\n",
    "# Instantiate MSE for evaluation\n",
    "metrics = [MAE(), RMSE(), MSE(),FMeasure(k=50),Precision(k=50),\n",
    "           Recall(k=50), NDCG(k=50), NCRR(k=50),\n",
    "           MRR(),AUC(), MAP()]\n",
    "\n",
    "# Put everything together into an experiment and run it\n",
    "cornac.Experiment(\n",
    "    eval_method=music_ratio_split, models=[hft_k100], metrics=metrics, user_based=False\n",
    ").run()"
   ],
   "metadata": {
    "collapsed": false
   }
  },
  {
   "cell_type": "code",
   "execution_count": 4,
   "outputs": [],
   "source": [
    "data3 = {\"model\":\"HFT\",\n",
    "        \"data\":\"amazon digital music\",\n",
    "        \"k\":100,\n",
    "        \"max_iter\":10,\n",
    "        \"grad_iter\":5,\n",
    "        \"lambda_text\":0.01,\n",
    "        \"l2_reg\":0.001,\n",
    "        \"MAE\":0.6550,\"MSE\":0.8644,\"RMSE\":0.9298,\"AUC\":0.4846,\"F1\":0.0026,\"MAP\":0.0046,\"MRR\":0.0097,\"NCRR\":0.0042,\"NDCG\":0.0089,\"Precision\":0.0015,\"Recall\":0.0237,\n",
    "        \"category diversity\":0}"
   ],
   "metadata": {
    "collapsed": false
   }
  },
  {
   "cell_type": "markdown",
   "source": [
    "### k=200"
   ],
   "metadata": {
    "collapsed": false
   }
  },
  {
   "cell_type": "code",
   "execution_count": 5,
   "outputs": [
    {
     "name": "stdout",
     "output_type": "stream",
     "text": [
      "\n",
      "[HFT] Training started!\n"
     ]
    },
    {
     "data": {
      "text/plain": "  0%|          | 0/10 [00:00<?, ?it/s]",
      "application/vnd.jupyter.widget-view+json": {
       "version_major": 2,
       "version_minor": 0,
       "model_id": "ea938264745d4a2fa6934fccb30f7853"
      }
     },
     "metadata": {},
     "output_type": "display_data"
    },
    {
     "name": "stdout",
     "output_type": "stream",
     "text": [
      "Learning completed!\n",
      "\n",
      "[HFT] Evaluation started!\n"
     ]
    },
    {
     "data": {
      "text/plain": "Rating:   0%|          | 0/12942 [00:00<?, ?it/s]",
      "application/vnd.jupyter.widget-view+json": {
       "version_major": 2,
       "version_minor": 0,
       "model_id": "35083f25be0743f191e2a8f89175f9c5"
      }
     },
     "metadata": {},
     "output_type": "display_data"
    },
    {
     "data": {
      "text/plain": "Ranking:   0%|          | 0/4466 [00:00<?, ?it/s]",
      "application/vnd.jupyter.widget-view+json": {
       "version_major": 2,
       "version_minor": 0,
       "model_id": "5a365a45a5d24a8990ca8b6353564594"
      }
     },
     "metadata": {},
     "output_type": "display_data"
    },
    {
     "name": "stdout",
     "output_type": "stream",
     "text": [
      "\n",
      "TEST:\n",
      "...\n",
      "    |    MAE |    MSE |   RMSE |    AUC |  F1@50 |    MAP |    MRR | NCRR@50 | NDCG@50 | Precision@50 | Recall@50 | Train (s) | Test (s)\n",
      "--- + ------ + ------ + ------ + ------ + ------ + ------ + ------ + ------- + ------- + ------------ + --------- + --------- + --------\n",
      "HFT | 0.6562 | 0.8598 | 0.9272 | 0.4848 | 0.0021 | 0.0033 | 0.0064 |  0.0023 |  0.0061 |       0.0012 |    0.0179 |  120.1753 |   9.1168\n",
      "\n"
     ]
    }
   ],
   "source": [
    "# Instantiate HFT model\n",
    "hft_k200 = cornac.models.HFT(\n",
    "    k=200,\n",
    "    max_iter=10,\n",
    "    grad_iter=5,\n",
    "    l2_reg=0.001,\n",
    "    lambda_text=0.01,\n",
    "    vocab_size=8000,\n",
    "    seed=123,\n",
    ")\n",
    "\n",
    "# Instantiate MSE for evaluation\n",
    "metrics = [MAE(), RMSE(), MSE(),FMeasure(k=50),Precision(k=50),\n",
    "           Recall(k=50), NDCG(k=50), NCRR(k=50),\n",
    "           MRR(),AUC(), MAP()]\n",
    "\n",
    "# Put everything together into an experiment and run it\n",
    "cornac.Experiment(\n",
    "    eval_method=music_ratio_split, models=[hft_k200], metrics=metrics, user_based=False\n",
    ").run()"
   ],
   "metadata": {
    "collapsed": false
   }
  },
  {
   "cell_type": "code",
   "execution_count": 6,
   "outputs": [],
   "source": [
    "data4 = {\"model\":\"HFT\",\n",
    "        \"data\":\"amazon digital music\",\n",
    "        \"k\":200,\n",
    "        \"max_iter\":10,\n",
    "        \"grad_iter\":5,\n",
    "        \"lambda_text\":0.01,\n",
    "        \"l2_reg\":0.001,\n",
    "        \"MAE\":0.6562,\"MSE\":0.8598,\"RMSE\":0.9272,\"AUC\":0.4848,\"F1\":0.0021,\"MAP\":0.0033,\"MRR\":0.0064,\"NCRR\":0.0023,\"NDCG\":0.0061,\"Precision\":0.0012,\"Recall\":0.0179,\n",
    "        \"category diversity\":0}"
   ],
   "metadata": {
    "collapsed": false
   }
  },
  {
   "cell_type": "markdown",
   "source": [
    "### k=300"
   ],
   "metadata": {
    "collapsed": false
   }
  },
  {
   "cell_type": "code",
   "execution_count": 7,
   "outputs": [
    {
     "name": "stdout",
     "output_type": "stream",
     "text": [
      "\n",
      "[HFT] Training started!\n"
     ]
    },
    {
     "data": {
      "text/plain": "  0%|          | 0/10 [00:00<?, ?it/s]",
      "application/vnd.jupyter.widget-view+json": {
       "version_major": 2,
       "version_minor": 0,
       "model_id": "0af00ad8138e4cb69abe281daf370ee6"
      }
     },
     "metadata": {},
     "output_type": "display_data"
    },
    {
     "name": "stdout",
     "output_type": "stream",
     "text": [
      "Learning completed!\n",
      "\n",
      "[HFT] Evaluation started!\n"
     ]
    },
    {
     "data": {
      "text/plain": "Rating:   0%|          | 0/12942 [00:00<?, ?it/s]",
      "application/vnd.jupyter.widget-view+json": {
       "version_major": 2,
       "version_minor": 0,
       "model_id": "3d742142618c428aba658308d4d73782"
      }
     },
     "metadata": {},
     "output_type": "display_data"
    },
    {
     "data": {
      "text/plain": "Ranking:   0%|          | 0/4466 [00:00<?, ?it/s]",
      "application/vnd.jupyter.widget-view+json": {
       "version_major": 2,
       "version_minor": 0,
       "model_id": "4037f2718850442388f7b32a1177ee2f"
      }
     },
     "metadata": {},
     "output_type": "display_data"
    },
    {
     "name": "stdout",
     "output_type": "stream",
     "text": [
      "\n",
      "TEST:\n",
      "...\n",
      "    |    MAE |    MSE |   RMSE |    AUC |  F1@50 |    MAP |    MRR | NCRR@50 | NDCG@50 | Precision@50 | Recall@50 | Train (s) | Test (s)\n",
      "--- + ------ + ------ + ------ + ------ + ------ + ------ + ------ + ------- + ------- + ------------ + --------- + --------- + --------\n",
      "HFT | 0.6605 | 0.8677 | 0.9315 | 0.4772 | 0.0012 | 0.0024 | 0.0045 |  0.0012 |  0.0033 |       0.0007 |    0.0096 |  163.4184 |   9.7887\n",
      "\n"
     ]
    }
   ],
   "source": [
    "# Instantiate HFT model\n",
    "hft_k300 = cornac.models.HFT(\n",
    "    k=300,\n",
    "    max_iter=10,\n",
    "    grad_iter=5,\n",
    "    l2_reg=0.001,\n",
    "    lambda_text=0.01,\n",
    "    vocab_size=8000,\n",
    "    seed=123,\n",
    ")\n",
    "\n",
    "# Instantiate MSE for evaluation\n",
    "metrics = [MAE(), RMSE(), MSE(),FMeasure(k=50),Precision(k=50),\n",
    "           Recall(k=50), NDCG(k=50), NCRR(k=50),\n",
    "           MRR(),AUC(), MAP()]\n",
    "\n",
    "# Put everything together into an experiment and run it\n",
    "cornac.Experiment(\n",
    "    eval_method=music_ratio_split, models=[hft_k300], metrics=metrics, user_based=False\n",
    ").run()"
   ],
   "metadata": {
    "collapsed": false
   }
  },
  {
   "cell_type": "code",
   "execution_count": 8,
   "outputs": [],
   "source": [
    "data5 = {\"model\":\"HFT\",\n",
    "        \"data\":\"amazon digital music\",\n",
    "        \"k\":300,\n",
    "        \"max_iter\":10,\n",
    "        \"grad_iter\":5,\n",
    "        \"lambda_text\":0.01,\n",
    "        \"l2_reg\":0.001,\n",
    "        \"MAE\":0.6605,\"MSE\":0.8677,\"RMSE\":0.9315,\"AUC\":0.4772,\"F1\":0.0012,\"MAP\":0.0024,\"MRR\":0.0045,\"NCRR\":0.0012,\"NDCG\":0.0033,\"Precision\":0.0007,\"Recall\":0.0096,\n",
    "        \"category diversity\":0}"
   ],
   "metadata": {
    "collapsed": false
   }
  },
  {
   "cell_type": "markdown",
   "source": [
    "### k=100, lambda_text=0.1"
   ],
   "metadata": {
    "collapsed": false
   }
  },
  {
   "cell_type": "code",
   "execution_count": 9,
   "outputs": [
    {
     "name": "stdout",
     "output_type": "stream",
     "text": [
      "\n",
      "[HFT] Training started!\n"
     ]
    },
    {
     "data": {
      "text/plain": "  0%|          | 0/10 [00:00<?, ?it/s]",
      "application/vnd.jupyter.widget-view+json": {
       "version_major": 2,
       "version_minor": 0,
       "model_id": "a8dface9cd3a49ef976a0f480bfa5425"
      }
     },
     "metadata": {},
     "output_type": "display_data"
    },
    {
     "name": "stdout",
     "output_type": "stream",
     "text": [
      "Learning completed!\n",
      "\n",
      "[HFT] Evaluation started!\n"
     ]
    },
    {
     "data": {
      "text/plain": "Rating:   0%|          | 0/12942 [00:00<?, ?it/s]",
      "application/vnd.jupyter.widget-view+json": {
       "version_major": 2,
       "version_minor": 0,
       "model_id": "3ed5b043a4714ed4876360c17fb3e5fe"
      }
     },
     "metadata": {},
     "output_type": "display_data"
    },
    {
     "data": {
      "text/plain": "Ranking:   0%|          | 0/4466 [00:00<?, ?it/s]",
      "application/vnd.jupyter.widget-view+json": {
       "version_major": 2,
       "version_minor": 0,
       "model_id": "ad95183a54b1493e876a85195bfea086"
      }
     },
     "metadata": {},
     "output_type": "display_data"
    },
    {
     "name": "stdout",
     "output_type": "stream",
     "text": [
      "\n",
      "TEST:\n",
      "...\n",
      "    |    MAE |    MSE |   RMSE |    AUC |  F1@50 |    MAP |    MRR | NCRR@50 | NDCG@50 | Precision@50 | Recall@50 | Train (s) | Test (s)\n",
      "--- + ------ + ------ + ------ + ------ + ------ + ------ + ------ + ------- + ------- + ------------ + --------- + --------- + --------\n",
      "HFT | 0.6564 | 0.8624 | 0.9286 | 0.4836 | 0.0020 | 0.0031 | 0.0061 |  0.0021 |  0.0057 |       0.0011 |    0.0174 |   85.4991 |   7.9164\n",
      "\n"
     ]
    }
   ],
   "source": [
    "# Instantiate HFT model\n",
    "hft_lamText01_k100 = cornac.models.HFT(\n",
    "    k=100,\n",
    "    max_iter=10,\n",
    "    grad_iter=5,\n",
    "    l2_reg=0.001,\n",
    "    lambda_text=0.1,\n",
    "    vocab_size=8000,\n",
    "    seed=123,\n",
    ")\n",
    "\n",
    "# Instantiate MSE for evaluation\n",
    "metrics = [MAE(), RMSE(), MSE(),FMeasure(k=50),Precision(k=50),\n",
    "           Recall(k=50), NDCG(k=50), NCRR(k=50),\n",
    "           MRR(),AUC(), MAP()]\n",
    "\n",
    "# Put everything together into an experiment and run it\n",
    "cornac.Experiment(\n",
    "    eval_method=music_ratio_split, models=[hft_lamText01_k100], metrics=metrics, user_based=False\n",
    ").run()"
   ],
   "metadata": {
    "collapsed": false
   }
  },
  {
   "cell_type": "code",
   "execution_count": 10,
   "outputs": [],
   "source": [
    "data6 = {\"model\":\"HFT\",\n",
    "        \"data\":\"amazon digital music\",\n",
    "        \"k\":100,\n",
    "        \"max_iter\":10,\n",
    "        \"grad_iter\":5,\n",
    "        \"lambda_text\":0.1,\n",
    "        \"l2_reg\":0.001,\n",
    "        \"MAE\":0.6564,\"MSE\":0.8624,\"RMSE\":0.9286,\"AUC\":0.4836,\"F1\":0.0020,\"MAP\":0.0031,\"MRR\":0.0061,\"NCRR\":0.0021,\"NDCG\":0.0057,\"Precision\":0.0011,\"Recall\":0.0174,\n",
    "        \"category diversity\":0}"
   ],
   "metadata": {
    "collapsed": false
   }
  },
  {
   "cell_type": "markdown",
   "source": [
    "### k=100, lambda_text=1"
   ],
   "metadata": {
    "collapsed": false
   }
  },
  {
   "cell_type": "code",
   "execution_count": 11,
   "outputs": [
    {
     "name": "stdout",
     "output_type": "stream",
     "text": [
      "\n",
      "[HFT] Training started!\n"
     ]
    },
    {
     "data": {
      "text/plain": "  0%|          | 0/10 [00:00<?, ?it/s]",
      "application/vnd.jupyter.widget-view+json": {
       "version_major": 2,
       "version_minor": 0,
       "model_id": "d262f052207a46189aacad3deb770aa0"
      }
     },
     "metadata": {},
     "output_type": "display_data"
    },
    {
     "name": "stdout",
     "output_type": "stream",
     "text": [
      "Learning completed!\n",
      "\n",
      "[HFT] Evaluation started!\n"
     ]
    },
    {
     "data": {
      "text/plain": "Rating:   0%|          | 0/12942 [00:00<?, ?it/s]",
      "application/vnd.jupyter.widget-view+json": {
       "version_major": 2,
       "version_minor": 0,
       "model_id": "b5baff30bf6d48a79d2ba6c51a74df62"
      }
     },
     "metadata": {},
     "output_type": "display_data"
    },
    {
     "data": {
      "text/plain": "Ranking:   0%|          | 0/4466 [00:00<?, ?it/s]",
      "application/vnd.jupyter.widget-view+json": {
       "version_major": 2,
       "version_minor": 0,
       "model_id": "e8c5f861777746e4b80af2759cff4d0a"
      }
     },
     "metadata": {},
     "output_type": "display_data"
    },
    {
     "name": "stdout",
     "output_type": "stream",
     "text": [
      "\n",
      "TEST:\n",
      "...\n",
      "    |    MAE |    MSE |   RMSE |    AUC |  F1@50 |    MAP |    MRR | NCRR@50 | NDCG@50 | Precision@50 | Recall@50 | Train (s) | Test (s)\n",
      "--- + ------ + ------ + ------ + ------ + ------ + ------ + ------ + ------- + ------- + ------------ + --------- + --------- + --------\n",
      "HFT | 0.7124 | 0.9015 | 0.9495 | 0.5029 | 0.0052 | 0.0079 | 0.0177 |  0.0083 |  0.0175 |       0.0029 |    0.0480 |  143.9393 |   8.1369\n",
      "\n"
     ]
    }
   ],
   "source": [
    "# Instantiate HFT model\n",
    "hft_lamText1_k100 = cornac.models.HFT(\n",
    "    k=100,\n",
    "    max_iter=10,\n",
    "    grad_iter=5,\n",
    "    l2_reg=0.001,\n",
    "    lambda_text=1,\n",
    "    vocab_size=8000,\n",
    "    seed=123,\n",
    ")\n",
    "\n",
    "# Instantiate MSE for evaluation\n",
    "metrics = [MAE(), RMSE(), MSE(),FMeasure(k=50),Precision(k=50),\n",
    "           Recall(k=50), NDCG(k=50), NCRR(k=50),\n",
    "           MRR(),AUC(), MAP()]\n",
    "\n",
    "# Put everything together into an experiment and run it\n",
    "cornac.Experiment(\n",
    "    eval_method=music_ratio_split, models=[hft_lamText1_k100], metrics=metrics, user_based=False\n",
    ").run()"
   ],
   "metadata": {
    "collapsed": false
   }
  },
  {
   "cell_type": "code",
   "execution_count": 12,
   "outputs": [],
   "source": [
    "data7 = {\"model\":\"HFT\",\n",
    "        \"data\":\"amazon digital music\",\n",
    "        \"k\":100,\n",
    "        \"max_iter\":10,\n",
    "        \"grad_iter\":5,\n",
    "        \"lambda_text\":1,\n",
    "        \"l2_reg\":0.001,\n",
    "        \"MAE\":0.7124,\"MSE\":0.9015,\"RMSE\":0.9495,\"AUC\":0.5029,\"F1\":0.0052,\"MAP\":0.0079,\"MRR\":0.0177,\"NCRR\":0.0083,\"NDCG\":0.0175,\"Precision\":0.0029,\"Recall\":0.0480,\n",
    "        \"category diversity\":0}"
   ],
   "metadata": {
    "collapsed": false
   }
  },
  {
   "cell_type": "markdown",
   "source": [
    "### k=100,lambda_text=10"
   ],
   "metadata": {
    "collapsed": false
   }
  },
  {
   "cell_type": "code",
   "execution_count": 13,
   "outputs": [
    {
     "name": "stdout",
     "output_type": "stream",
     "text": [
      "\n",
      "[HFT] Training started!\n"
     ]
    },
    {
     "data": {
      "text/plain": "  0%|          | 0/10 [00:00<?, ?it/s]",
      "application/vnd.jupyter.widget-view+json": {
       "version_major": 2,
       "version_minor": 0,
       "model_id": "fd59bd6fe2ec478cbe041bf869b8ebfb"
      }
     },
     "metadata": {},
     "output_type": "display_data"
    },
    {
     "name": "stderr",
     "output_type": "stream",
     "text": [
      "/Users/pigr/cornac/lib/python3.10/site-packages/cornac/models/hft/hft.py:237: RuntimeWarning: overflow encountered in exp\n",
      "  e_phi = np.exp(self.background_word + topic_word)\n",
      "/Users/pigr/cornac/lib/python3.10/site-packages/cornac/models/hft/hft.py:240: RuntimeWarning: invalid value encountered in multiply\n",
      "  self.word_topic_cnt * (self.background_word + topic_word - np.log(word_z))\n",
      "/Users/pigr/cornac/lib/python3.10/site-packages/cornac/models/hft/hft.py:247: RuntimeWarning: overflow encountered in multiply\n",
      "  self.word_topic_cnt - self.topic_cnt * e_phi / word_z\n",
      "/Users/pigr/cornac/lib/python3.10/site-packages/cornac/models/hft/hft.py:247: RuntimeWarning: invalid value encountered in divide\n",
      "  self.word_topic_cnt - self.topic_cnt * e_phi / word_z\n"
     ]
    },
    {
     "name": "stdout",
     "output_type": "stream",
     "text": [
      "Learning completed!\n",
      "\n",
      "[HFT] Evaluation started!\n"
     ]
    },
    {
     "data": {
      "text/plain": "Rating:   0%|          | 0/12942 [00:00<?, ?it/s]",
      "application/vnd.jupyter.widget-view+json": {
       "version_major": 2,
       "version_minor": 0,
       "model_id": "c6f810e130624550a73bc3d68eb964bc"
      }
     },
     "metadata": {},
     "output_type": "display_data"
    },
    {
     "data": {
      "text/plain": "Ranking:   0%|          | 0/4466 [00:00<?, ?it/s]",
      "application/vnd.jupyter.widget-view+json": {
       "version_major": 2,
       "version_minor": 0,
       "model_id": "9127be55dc1e4187bfb0ea1d5a6d8ee7"
      }
     },
     "metadata": {},
     "output_type": "display_data"
    },
    {
     "name": "stdout",
     "output_type": "stream",
     "text": [
      "\n",
      "TEST:\n",
      "...\n",
      "    |    MAE |    MSE |   RMSE |    AUC |  F1@50 |    MAP |    MRR | NCRR@50 | NDCG@50 | Precision@50 | Recall@50 | Train (s) | Test (s)\n",
      "--- + ------ + ------ + ------ + ------ + ------ + ------ + ------ + ------- + ------- + ------------ + --------- + --------- + --------\n",
      "HFT | 0.6636 | 1.1292 | 1.0627 | 0.4909 | 0.0034 | 0.0057 | 0.0110 |  0.0052 |  0.0122 |       0.0019 |    0.0353 |  159.6822 |   7.2616\n",
      "\n"
     ]
    }
   ],
   "source": [
    "# Instantiate HFT model\n",
    "hft_lamText10_k100 = cornac.models.HFT(\n",
    "    k=100,\n",
    "    max_iter=10,\n",
    "    grad_iter=5,\n",
    "    l2_reg=0.001,\n",
    "    lambda_text=10,\n",
    "    vocab_size=8000,\n",
    "    seed=123,\n",
    ")\n",
    "\n",
    "# Instantiate MSE for evaluation\n",
    "metrics = [MAE(), RMSE(), MSE(),FMeasure(k=50),Precision(k=50),\n",
    "           Recall(k=50), NDCG(k=50), NCRR(k=50),\n",
    "           MRR(),AUC(), MAP()]\n",
    "\n",
    "# Put everything together into an experiment and run it\n",
    "cornac.Experiment(\n",
    "    eval_method=music_ratio_split, models=[hft_lamText10_k100], metrics=metrics, user_based=False\n",
    ").run()"
   ],
   "metadata": {
    "collapsed": false
   }
  },
  {
   "cell_type": "code",
   "execution_count": 14,
   "outputs": [],
   "source": [
    "data8 = {\"model\":\"HFT\",\n",
    "        \"data\":\"amazon digital music\",\n",
    "        \"k\":100,\n",
    "        \"max_iter\":10,\n",
    "        \"grad_iter\":5,\n",
    "        \"lambda_text\":10,\n",
    "        \"l2_reg\":0.001,\n",
    "        \"MAE\":0.6636,\"MSE\":1.1292,\"RMSE\":1.0627,\"AUC\":0.4909,\"F1\":0.0034,\"MAP\":0.0057,\"MRR\":0.0110,\"NCRR\":0.0052,\"NDCG\":0.0122,\"Precision\":0.0019,\"Recall\":0.0353,\n",
    "        \"category diversity\":0}"
   ],
   "metadata": {
    "collapsed": false
   }
  },
  {
   "cell_type": "markdown",
   "source": [
    "### k=100, lambda_text=1, l2_reg=0.01"
   ],
   "metadata": {
    "collapsed": false
   }
  },
  {
   "cell_type": "code",
   "execution_count": 15,
   "outputs": [
    {
     "name": "stdout",
     "output_type": "stream",
     "text": [
      "\n",
      "[HFT] Training started!\n"
     ]
    },
    {
     "data": {
      "text/plain": "  0%|          | 0/10 [00:00<?, ?it/s]",
      "application/vnd.jupyter.widget-view+json": {
       "version_major": 2,
       "version_minor": 0,
       "model_id": "74420e13d6e040fc86c08873e0a7803b"
      }
     },
     "metadata": {},
     "output_type": "display_data"
    },
    {
     "name": "stdout",
     "output_type": "stream",
     "text": [
      "Learning completed!\n",
      "\n",
      "[HFT] Evaluation started!\n"
     ]
    },
    {
     "data": {
      "text/plain": "Rating:   0%|          | 0/12942 [00:00<?, ?it/s]",
      "application/vnd.jupyter.widget-view+json": {
       "version_major": 2,
       "version_minor": 0,
       "model_id": "780c0015cba943aaa8158aba9c758db9"
      }
     },
     "metadata": {},
     "output_type": "display_data"
    },
    {
     "data": {
      "text/plain": "Ranking:   0%|          | 0/4466 [00:00<?, ?it/s]",
      "application/vnd.jupyter.widget-view+json": {
       "version_major": 2,
       "version_minor": 0,
       "model_id": "26646a61d2174a29a79a031dc7a5de4e"
      }
     },
     "metadata": {},
     "output_type": "display_data"
    },
    {
     "name": "stdout",
     "output_type": "stream",
     "text": [
      "\n",
      "TEST:\n",
      "...\n",
      "    |    MAE |    MSE |   RMSE |    AUC |  F1@50 |    MAP |    MRR | NCRR@50 | NDCG@50 | Precision@50 | Recall@50 | Train (s) | Test (s)\n",
      "--- + ------ + ------ + ------ + ------ + ------ + ------ + ------ + ------- + ------- + ------------ + --------- + --------- + --------\n",
      "HFT | 0.7125 | 0.9006 | 0.9490 | 0.5028 | 0.0052 | 0.0078 | 0.0177 |  0.0083 |  0.0175 |       0.0029 |    0.0481 |  146.9677 |   8.2541\n",
      "\n"
     ]
    }
   ],
   "source": [
    "# Instantiate HFT model\n",
    "hft_l201_lamText1_k100 = cornac.models.HFT(\n",
    "    k=100,\n",
    "    max_iter=10,\n",
    "    grad_iter=5,\n",
    "    l2_reg=0.01,\n",
    "    lambda_text=1,\n",
    "    vocab_size=8000,\n",
    "    seed=123,\n",
    ")\n",
    "\n",
    "# Instantiate MSE for evaluation\n",
    "metrics = [MAE(), RMSE(), MSE(),FMeasure(k=50),Precision(k=50),\n",
    "           Recall(k=50), NDCG(k=50), NCRR(k=50),\n",
    "           MRR(),AUC(), MAP()]\n",
    "\n",
    "# Put everything together into an experiment and run it\n",
    "cornac.Experiment(\n",
    "    eval_method=music_ratio_split, models=[hft_l201_lamText1_k100], metrics=metrics, user_based=False\n",
    ").run()"
   ],
   "metadata": {
    "collapsed": false
   }
  },
  {
   "cell_type": "code",
   "execution_count": 16,
   "outputs": [],
   "source": [
    "data9 = {\"model\":\"HFT\",\n",
    "        \"data\":\"amazon digital music\",\n",
    "        \"k\":100,\n",
    "        \"max_iter\":10,\n",
    "        \"grad_iter\":5,\n",
    "        \"lambda_text\":1,\n",
    "        \"l2_reg\":0.01,\n",
    "        \"MAE\":0.7125,\"MSE\":0.9006,\"RMSE\":0.9490,\"AUC\":0.5028,\"F1\":0.0052,\"MAP\":0.0078,\"MRR\":0.0177,\"NCRR\":0.0083,\"NDCG\":0.0175,\"Precision\":0.0029,\"Recall\":0.0481,\n",
    "        \"category diversity\":0}"
   ],
   "metadata": {
    "collapsed": false
   }
  },
  {
   "cell_type": "markdown",
   "source": [
    "### k=100, lambda_text=1, l2_reg=0.1"
   ],
   "metadata": {
    "collapsed": false
   }
  },
  {
   "cell_type": "code",
   "execution_count": 17,
   "outputs": [
    {
     "name": "stdout",
     "output_type": "stream",
     "text": [
      "\n",
      "[HFT] Training started!\n"
     ]
    },
    {
     "data": {
      "text/plain": "  0%|          | 0/10 [00:00<?, ?it/s]",
      "application/vnd.jupyter.widget-view+json": {
       "version_major": 2,
       "version_minor": 0,
       "model_id": "d32acde5adf948dea4f3e951b59ed55e"
      }
     },
     "metadata": {},
     "output_type": "display_data"
    },
    {
     "name": "stdout",
     "output_type": "stream",
     "text": [
      "Learning completed!\n",
      "\n",
      "[HFT] Evaluation started!\n"
     ]
    },
    {
     "data": {
      "text/plain": "Rating:   0%|          | 0/12942 [00:00<?, ?it/s]",
      "application/vnd.jupyter.widget-view+json": {
       "version_major": 2,
       "version_minor": 0,
       "model_id": "064b5f2869b84addab4a4d28fdc3b1b9"
      }
     },
     "metadata": {},
     "output_type": "display_data"
    },
    {
     "data": {
      "text/plain": "Ranking:   0%|          | 0/4466 [00:00<?, ?it/s]",
      "application/vnd.jupyter.widget-view+json": {
       "version_major": 2,
       "version_minor": 0,
       "model_id": "982e7e41b3ed46498c481309eb88a0b3"
      }
     },
     "metadata": {},
     "output_type": "display_data"
    },
    {
     "name": "stdout",
     "output_type": "stream",
     "text": [
      "\n",
      "TEST:\n",
      "...\n",
      "    |    MAE |    MSE |   RMSE |    AUC |  F1@50 |    MAP |    MRR | NCRR@50 | NDCG@50 | Precision@50 | Recall@50 | Train (s) | Test (s)\n",
      "--- + ------ + ------ + ------ + ------ + ------ + ------ + ------ + ------- + ------- + ------------ + --------- + --------- + --------\n",
      "HFT | 0.7135 | 0.9046 | 0.9511 | 0.5033 | 0.0053 | 0.0080 | 0.0179 |  0.0085 |  0.0180 |       0.0030 |    0.0497 |  151.6342 |   8.7986\n",
      "\n"
     ]
    }
   ],
   "source": [
    "# Instantiate HFT model\n",
    "hft_l21_lamText1_k100 = cornac.models.HFT(\n",
    "    k=100,\n",
    "    max_iter=10,\n",
    "    grad_iter=5,\n",
    "    l2_reg=0.1,\n",
    "    lambda_text=1,\n",
    "    vocab_size=8000,\n",
    "    seed=123,\n",
    ")\n",
    "\n",
    "# Instantiate MSE for evaluation\n",
    "metrics = [MAE(), RMSE(), MSE(),FMeasure(k=50),Precision(k=50),\n",
    "           Recall(k=50), NDCG(k=50), NCRR(k=50),\n",
    "           MRR(),AUC(), MAP()]\n",
    "\n",
    "# Put everything together into an experiment and run it\n",
    "cornac.Experiment(\n",
    "    eval_method=music_ratio_split, models=[hft_l21_lamText1_k100], metrics=metrics, user_based=False\n",
    ").run()"
   ],
   "metadata": {
    "collapsed": false
   }
  },
  {
   "cell_type": "code",
   "execution_count": 18,
   "outputs": [],
   "source": [
    "data10 = {\"model\":\"HFT\",\n",
    "        \"data\":\"amazon digital music\",\n",
    "        \"k\":100,\n",
    "        \"max_iter\":10,\n",
    "        \"grad_iter\":5,\n",
    "        \"lambda_text\":1,\n",
    "        \"l2_reg\":0.1,\n",
    "        \"MAE\":0.7135,\"MSE\":0.9046,\"RMSE\":0.9511,\"AUC\":0.5033,\"F1\":0.0053,\"MAP\":0.0080,\"MRR\":0.0179,\"NCRR\":0.0085,\"NDCG\":0.0180,\"Precision\":0.0030,\"Recall\":0.0497,\n",
    "        \"category diversity\":0}"
   ],
   "metadata": {
    "collapsed": false
   }
  },
  {
   "cell_type": "code",
   "execution_count": 23,
   "outputs": [],
   "source": [
    "data = [data1,data2,data3,data4,data5,data6,data7,data8,data9,data10]\n",
    "df = pd.DataFrame(columns = data1.keys())\n",
    "i=0\n",
    "for d in data:\n",
    "    df = pd.concat([df, pd.DataFrame(d,columns = list(d.keys()),index=[i])], ignore_index=False)\n",
    "    i += 1"
   ],
   "metadata": {
    "collapsed": false
   }
  },
  {
   "cell_type": "code",
   "execution_count": 24,
   "outputs": [
    {
     "data": {
      "text/plain": "  model                  data    k max_iter grad_iter  lambda_text  l2_reg   \n0   HFT  amazon digital music   10       10         5         0.01   0.001  \\\n1   HFT  amazon digital music   50       10         5         0.01   0.001   \n2   HFT  amazon digital music  100       10         5         0.01   0.001   \n3   HFT  amazon digital music  200       10         5         0.01   0.001   \n4   HFT  amazon digital music  300       10         5         0.01   0.001   \n5   HFT  amazon digital music  100       10         5         0.10   0.001   \n6   HFT  amazon digital music  100       10         5         1.00   0.001   \n7   HFT  amazon digital music  100       10         5        10.00   0.001   \n8   HFT  amazon digital music  100       10         5         1.00   0.010   \n9   HFT  amazon digital music  100       10         5         1.00   0.100   \n\n      MAE     MSE    RMSE     AUC      F1     MAP     MRR    NCRR    NDCG   \n0  0.6584  0.8729  0.9343  0.4788  0.0014  0.0029  0.0058  0.0019  0.0040  \\\n1  0.6674  0.8857  0.9411  0.4760  0.0015  0.0026  0.0053  0.0016  0.0042   \n2  0.6550  0.8644  0.9298  0.4846  0.0026  0.0046  0.0097  0.0042  0.0089   \n3  0.6562  0.8598  0.9272  0.4848  0.0021  0.0033  0.0064  0.0023  0.0061   \n4  0.6605  0.8677  0.9315  0.4772  0.0012  0.0024  0.0045  0.0012  0.0033   \n5  0.6564  0.8624  0.9286  0.4836  0.0020  0.0031  0.0061  0.0021  0.0057   \n6  0.7124  0.9015  0.9495  0.5029  0.0052  0.0079  0.0177  0.0083  0.0175   \n7  0.6636  1.1292  1.0627  0.4909  0.0034  0.0057  0.0110  0.0052  0.0122   \n8  0.7125  0.9006  0.9490  0.5028  0.0052  0.0078  0.0177  0.0083  0.0175   \n9  0.7135  0.9046  0.9511  0.5033  0.0053  0.0080  0.0179  0.0085  0.0180   \n\n   Precision  Recall category diversity  \n0     0.0008  0.0107                  0  \n1     0.0008  0.0127                  0  \n2     0.0015  0.0237                  0  \n3     0.0012  0.0179                  0  \n4     0.0007  0.0096                  0  \n5     0.0011  0.0174                  0  \n6     0.0029  0.0480                  0  \n7     0.0019  0.0353                  0  \n8     0.0029  0.0481                  0  \n9     0.0030  0.0497                  0  ",
      "text/html": "<div>\n<style scoped>\n    .dataframe tbody tr th:only-of-type {\n        vertical-align: middle;\n    }\n\n    .dataframe tbody tr th {\n        vertical-align: top;\n    }\n\n    .dataframe thead th {\n        text-align: right;\n    }\n</style>\n<table border=\"1\" class=\"dataframe\">\n  <thead>\n    <tr style=\"text-align: right;\">\n      <th></th>\n      <th>model</th>\n      <th>data</th>\n      <th>k</th>\n      <th>max_iter</th>\n      <th>grad_iter</th>\n      <th>lambda_text</th>\n      <th>l2_reg</th>\n      <th>MAE</th>\n      <th>MSE</th>\n      <th>RMSE</th>\n      <th>AUC</th>\n      <th>F1</th>\n      <th>MAP</th>\n      <th>MRR</th>\n      <th>NCRR</th>\n      <th>NDCG</th>\n      <th>Precision</th>\n      <th>Recall</th>\n      <th>category diversity</th>\n    </tr>\n  </thead>\n  <tbody>\n    <tr>\n      <th>0</th>\n      <td>HFT</td>\n      <td>amazon digital music</td>\n      <td>10</td>\n      <td>10</td>\n      <td>5</td>\n      <td>0.01</td>\n      <td>0.001</td>\n      <td>0.6584</td>\n      <td>0.8729</td>\n      <td>0.9343</td>\n      <td>0.4788</td>\n      <td>0.0014</td>\n      <td>0.0029</td>\n      <td>0.0058</td>\n      <td>0.0019</td>\n      <td>0.0040</td>\n      <td>0.0008</td>\n      <td>0.0107</td>\n      <td>0</td>\n    </tr>\n    <tr>\n      <th>1</th>\n      <td>HFT</td>\n      <td>amazon digital music</td>\n      <td>50</td>\n      <td>10</td>\n      <td>5</td>\n      <td>0.01</td>\n      <td>0.001</td>\n      <td>0.6674</td>\n      <td>0.8857</td>\n      <td>0.9411</td>\n      <td>0.4760</td>\n      <td>0.0015</td>\n      <td>0.0026</td>\n      <td>0.0053</td>\n      <td>0.0016</td>\n      <td>0.0042</td>\n      <td>0.0008</td>\n      <td>0.0127</td>\n      <td>0</td>\n    </tr>\n    <tr>\n      <th>2</th>\n      <td>HFT</td>\n      <td>amazon digital music</td>\n      <td>100</td>\n      <td>10</td>\n      <td>5</td>\n      <td>0.01</td>\n      <td>0.001</td>\n      <td>0.6550</td>\n      <td>0.8644</td>\n      <td>0.9298</td>\n      <td>0.4846</td>\n      <td>0.0026</td>\n      <td>0.0046</td>\n      <td>0.0097</td>\n      <td>0.0042</td>\n      <td>0.0089</td>\n      <td>0.0015</td>\n      <td>0.0237</td>\n      <td>0</td>\n    </tr>\n    <tr>\n      <th>3</th>\n      <td>HFT</td>\n      <td>amazon digital music</td>\n      <td>200</td>\n      <td>10</td>\n      <td>5</td>\n      <td>0.01</td>\n      <td>0.001</td>\n      <td>0.6562</td>\n      <td>0.8598</td>\n      <td>0.9272</td>\n      <td>0.4848</td>\n      <td>0.0021</td>\n      <td>0.0033</td>\n      <td>0.0064</td>\n      <td>0.0023</td>\n      <td>0.0061</td>\n      <td>0.0012</td>\n      <td>0.0179</td>\n      <td>0</td>\n    </tr>\n    <tr>\n      <th>4</th>\n      <td>HFT</td>\n      <td>amazon digital music</td>\n      <td>300</td>\n      <td>10</td>\n      <td>5</td>\n      <td>0.01</td>\n      <td>0.001</td>\n      <td>0.6605</td>\n      <td>0.8677</td>\n      <td>0.9315</td>\n      <td>0.4772</td>\n      <td>0.0012</td>\n      <td>0.0024</td>\n      <td>0.0045</td>\n      <td>0.0012</td>\n      <td>0.0033</td>\n      <td>0.0007</td>\n      <td>0.0096</td>\n      <td>0</td>\n    </tr>\n    <tr>\n      <th>5</th>\n      <td>HFT</td>\n      <td>amazon digital music</td>\n      <td>100</td>\n      <td>10</td>\n      <td>5</td>\n      <td>0.10</td>\n      <td>0.001</td>\n      <td>0.6564</td>\n      <td>0.8624</td>\n      <td>0.9286</td>\n      <td>0.4836</td>\n      <td>0.0020</td>\n      <td>0.0031</td>\n      <td>0.0061</td>\n      <td>0.0021</td>\n      <td>0.0057</td>\n      <td>0.0011</td>\n      <td>0.0174</td>\n      <td>0</td>\n    </tr>\n    <tr>\n      <th>6</th>\n      <td>HFT</td>\n      <td>amazon digital music</td>\n      <td>100</td>\n      <td>10</td>\n      <td>5</td>\n      <td>1.00</td>\n      <td>0.001</td>\n      <td>0.7124</td>\n      <td>0.9015</td>\n      <td>0.9495</td>\n      <td>0.5029</td>\n      <td>0.0052</td>\n      <td>0.0079</td>\n      <td>0.0177</td>\n      <td>0.0083</td>\n      <td>0.0175</td>\n      <td>0.0029</td>\n      <td>0.0480</td>\n      <td>0</td>\n    </tr>\n    <tr>\n      <th>7</th>\n      <td>HFT</td>\n      <td>amazon digital music</td>\n      <td>100</td>\n      <td>10</td>\n      <td>5</td>\n      <td>10.00</td>\n      <td>0.001</td>\n      <td>0.6636</td>\n      <td>1.1292</td>\n      <td>1.0627</td>\n      <td>0.4909</td>\n      <td>0.0034</td>\n      <td>0.0057</td>\n      <td>0.0110</td>\n      <td>0.0052</td>\n      <td>0.0122</td>\n      <td>0.0019</td>\n      <td>0.0353</td>\n      <td>0</td>\n    </tr>\n    <tr>\n      <th>8</th>\n      <td>HFT</td>\n      <td>amazon digital music</td>\n      <td>100</td>\n      <td>10</td>\n      <td>5</td>\n      <td>1.00</td>\n      <td>0.010</td>\n      <td>0.7125</td>\n      <td>0.9006</td>\n      <td>0.9490</td>\n      <td>0.5028</td>\n      <td>0.0052</td>\n      <td>0.0078</td>\n      <td>0.0177</td>\n      <td>0.0083</td>\n      <td>0.0175</td>\n      <td>0.0029</td>\n      <td>0.0481</td>\n      <td>0</td>\n    </tr>\n    <tr>\n      <th>9</th>\n      <td>HFT</td>\n      <td>amazon digital music</td>\n      <td>100</td>\n      <td>10</td>\n      <td>5</td>\n      <td>1.00</td>\n      <td>0.100</td>\n      <td>0.7135</td>\n      <td>0.9046</td>\n      <td>0.9511</td>\n      <td>0.5033</td>\n      <td>0.0053</td>\n      <td>0.0080</td>\n      <td>0.0179</td>\n      <td>0.0085</td>\n      <td>0.0180</td>\n      <td>0.0030</td>\n      <td>0.0497</td>\n      <td>0</td>\n    </tr>\n  </tbody>\n</table>\n</div>"
     },
     "execution_count": 24,
     "metadata": {},
     "output_type": "execute_result"
    }
   ],
   "source": [
    "df"
   ],
   "metadata": {
    "collapsed": false
   }
  },
  {
   "cell_type": "code",
   "execution_count": 25,
   "outputs": [],
   "source": [
    "df.to_csv('/Users/pigr/Desktop/cornac/cornac/dataset/hft_amazon_digital_music.csv',header=-1,index=0)"
   ],
   "metadata": {
    "collapsed": false
   }
  },
  {
   "cell_type": "code",
   "execution_count": null,
   "outputs": [],
   "source": [],
   "metadata": {
    "collapsed": false
   }
  }
 ],
 "metadata": {
  "kernelspec": {
   "name": "python3",
   "language": "python",
   "display_name": "Python 3 (ipykernel)"
  },
  "language_info": {
   "codemirror_mode": {
    "name": "ipython",
    "version": 2
   },
   "file_extension": ".py",
   "mimetype": "text/x-python",
   "name": "python",
   "nbconvert_exporter": "python",
   "pygments_lexer": "ipython2",
   "version": "2.7.6"
  }
 },
 "nbformat": 4,
 "nbformat_minor": 0
}
