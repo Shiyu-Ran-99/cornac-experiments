{
 "cells": [
  {
   "cell_type": "code",
   "execution_count": 1,
   "metadata": {
    "collapsed": true
   },
   "outputs": [
    {
     "name": "stdout",
     "output_type": "stream",
     "text": [
      "FM model is only supported on Linux.\n",
      "Windows executable can be found at http://www.libfm.org.\n"
     ]
    }
   ],
   "source": [
    "import numpy as np\n",
    "import pandas as pd\n",
    "from scipy.stats import entropy\n",
    "import matplotlib.pyplot as plt\n",
    "import random\n",
    "\n",
    "import cornac\n",
    "from cornac.eval_methods import RatioSplit\n",
    "from cornac.data import TextModality\n",
    "from cornac.data.text import BaseTokenizer\n",
    "from cornac.data import Reader\n",
    "from cornac.metrics import MAE,RMSE,MSE,FMeasure,Precision,Recall,NDCG,NCRR,MRR,AUC,MAP"
   ]
  },
  {
   "cell_type": "code",
   "execution_count": 2,
   "outputs": [
    {
     "name": "stdout",
     "output_type": "stream",
     "text": [
      "rating_threshold = 1.0\n",
      "exclude_unknowns = True\n"
     ]
    },
    {
     "name": "stderr",
     "output_type": "stream",
     "text": [
      "/Users/pigr/cornac/lib/python3.10/site-packages/cornac/data/dataset.py:361: UserWarning: 18 duplicated observations are removed!\n",
      "  warnings.warn(\"%d duplicated observations are removed!\" % dup_count)\n",
      "/Users/pigr/cornac/lib/python3.10/site-packages/cornac/data/dataset.py:361: UserWarning: 5 duplicated observations are removed!\n",
      "  warnings.warn(\"%d duplicated observations are removed!\" % dup_count)\n"
     ]
    },
    {
     "name": "stdout",
     "output_type": "stream",
     "text": [
      "---\n",
      "Training data:\n",
      "Number of users = 5551\n",
      "Number of items = 16949\n",
      "Number of ratings = 168396\n",
      "Max rating = 1.0\n",
      "Min rating = 1.0\n",
      "Global mean = 1.0\n",
      "---\n",
      "Test data:\n",
      "Number of users = 5444\n",
      "Number of items = 14146\n",
      "Number of ratings = 42053\n",
      "Number of unknown users = 0\n",
      "Number of unknown items = 0\n",
      "---\n",
      "Total users = 5551\n",
      "Total items = 16949\n"
     ]
    }
   ],
   "source": [
    "# citeulike dataset\n",
    "docs_citeulike, item_ids_citeulike = cornac.datasets.citeulike.load_text()\n",
    "feedback_citeulike = cornac.datasets.citeulike.load_feedback(reader=Reader(item_set=item_ids_citeulike))\n",
    "item_text_modality = TextModality(\n",
    "    corpus=docs_citeulike,\n",
    "    ids=item_ids_citeulike,\n",
    "    tokenizer=BaseTokenizer(sep=\" \", stop_words=\"english\"),\n",
    "    max_vocab=8000,\n",
    "    max_doc_freq=0.5,\n",
    ")\n",
    "# Define an evaluation method to split feedback into train and test sets\n",
    "citeulike_ratio_split = RatioSplit(\n",
    "    data=feedback_citeulike,\n",
    "    test_size=0.2,\n",
    "    exclude_unknowns=True,\n",
    "    item_text=item_text_modality,\n",
    "    verbose=True,\n",
    "    seed=123,\n",
    "    rating_threshold=1,\n",
    ")"
   ],
   "metadata": {
    "collapsed": false
   }
  },
  {
   "cell_type": "markdown",
   "source": [
    "### k=10"
   ],
   "metadata": {
    "collapsed": false
   }
  },
  {
   "cell_type": "code",
   "execution_count": 4,
   "outputs": [
    {
     "name": "stdout",
     "output_type": "stream",
     "text": [
      "\n",
      "[HFT] Training started!\n"
     ]
    },
    {
     "data": {
      "text/plain": "  0%|          | 0/10 [00:00<?, ?it/s]",
      "application/vnd.jupyter.widget-view+json": {
       "version_major": 2,
       "version_minor": 0,
       "model_id": "fe0f7904f6184408a3586f5358332727"
      }
     },
     "metadata": {},
     "output_type": "display_data"
    },
    {
     "name": "stdout",
     "output_type": "stream",
     "text": [
      "Learning completed!\n",
      "\n",
      "[HFT] Evaluation started!\n"
     ]
    },
    {
     "data": {
      "text/plain": "Rating:   0%|          | 0/42053 [00:00<?, ?it/s]",
      "application/vnd.jupyter.widget-view+json": {
       "version_major": 2,
       "version_minor": 0,
       "model_id": "25a3265012114ebbafd609b37c1902ed"
      }
     },
     "metadata": {},
     "output_type": "display_data"
    },
    {
     "data": {
      "text/plain": "Ranking:   0%|          | 0/5444 [00:00<?, ?it/s]",
      "application/vnd.jupyter.widget-view+json": {
       "version_major": 2,
       "version_minor": 0,
       "model_id": "f50c226665e54912bd375343f685db3f"
      }
     },
     "metadata": {},
     "output_type": "display_data"
    },
    {
     "name": "stdout",
     "output_type": "stream",
     "text": [
      "\n",
      "TEST:\n",
      "...\n",
      "    |    MAE |    MSE |   RMSE |    AUC |  F1@50 |    MAP |    MRR | NCRR@50 | NDCG@50 | Precision@50 | Recall@50 | Train (s) | Test (s)\n",
      "--- + ------ + ------ + ------ + ------ + ------ + ------ + ------ + ------- + ------- + ------------ + --------- + --------- + --------\n",
      "HFT | 0.0000 | 0.0000 | 0.0000 | 0.4922 | 0.0060 | 0.0076 | 0.0318 |  0.0138 |  0.0191 |       0.0036 |    0.0318 |  117.0666 |  31.9716\n",
      "\n"
     ]
    }
   ],
   "source": [
    "# Instantiate HFT model\n",
    "hft_k10 = cornac.models.HFT(\n",
    "    k=10,\n",
    "    max_iter=10,\n",
    "    grad_iter=5,\n",
    "    l2_reg=0.001,\n",
    "    lambda_text=0.01,\n",
    "    vocab_size=8000,\n",
    "    seed=123,\n",
    ")\n",
    "\n",
    "# Instantiate MSE for evaluation\n",
    "metrics = [MAE(), RMSE(), MSE(),FMeasure(k=50),Precision(k=50),\n",
    "           Recall(k=50), NDCG(k=50), NCRR(k=50),\n",
    "           MRR(),AUC(), MAP()]\n",
    "\n",
    "# Put everything together into an experiment and run it\n",
    "cornac.Experiment(\n",
    "    eval_method=citeulike_ratio_split, models=[hft_k10], metrics=metrics, user_based=False\n",
    ").run()"
   ],
   "metadata": {
    "collapsed": false
   }
  },
  {
   "cell_type": "code",
   "execution_count": 3,
   "outputs": [],
   "source": [
    "data1 = {\"model\":\"HFT\",\n",
    "        \"data\":\"citeulike\",\n",
    "        \"k\":10,\n",
    "        \"topk\":50,\n",
    "        \"max_iter\":10,\n",
    "        \"grad_iter\":5,\n",
    "        \"lambda_text\":0.01,\n",
    "        \"l2_reg\":0.001,\n",
    "        \"MAE\":0.0000,\"MSE\":0.0000,\"RMSE\":0.0000,\"AUC\":0.4922,\"F1\":0.0060,\"MAP\":0.0076,\"MRR\":0.0318,\"NCRR\":0.0138,\"NDCG\":0.0191,\"Precision\":0.0036,\"Recall\":0.0318,\n",
    "        \"category diversity\":0}"
   ],
   "metadata": {
    "collapsed": false
   }
  },
  {
   "cell_type": "markdown",
   "source": [
    "### k=10, @TOPK=100"
   ],
   "metadata": {
    "collapsed": false
   }
  },
  {
   "cell_type": "code",
   "execution_count": 6,
   "outputs": [
    {
     "name": "stdout",
     "output_type": "stream",
     "text": [
      "\n",
      "[HFT] Training started!\n"
     ]
    },
    {
     "data": {
      "text/plain": "  0%|          | 0/10 [00:00<?, ?it/s]",
      "application/vnd.jupyter.widget-view+json": {
       "version_major": 2,
       "version_minor": 0,
       "model_id": "58d56dbae1894a388018e28afc600626"
      }
     },
     "metadata": {},
     "output_type": "display_data"
    },
    {
     "name": "stdout",
     "output_type": "stream",
     "text": [
      "Learning completed!\n",
      "\n",
      "[HFT] Evaluation started!\n"
     ]
    },
    {
     "data": {
      "text/plain": "Rating:   0%|          | 0/42053 [00:00<?, ?it/s]",
      "application/vnd.jupyter.widget-view+json": {
       "version_major": 2,
       "version_minor": 0,
       "model_id": "26ec70bc5beb4f7c97341f84ca21995e"
      }
     },
     "metadata": {},
     "output_type": "display_data"
    },
    {
     "data": {
      "text/plain": "Ranking:   0%|          | 0/5444 [00:00<?, ?it/s]",
      "application/vnd.jupyter.widget-view+json": {
       "version_major": 2,
       "version_minor": 0,
       "model_id": "7e7c4ee7bb1f4c88bf61eb70d713cd3f"
      }
     },
     "metadata": {},
     "output_type": "display_data"
    },
    {
     "name": "stdout",
     "output_type": "stream",
     "text": [
      "\n",
      "TEST:\n",
      "...\n",
      "    |    MAE |    MSE |   RMSE |    AUC | F1@100 |    MAP |    MRR | NCRR@100 | NDCG@100 | Precision@100 | Recall@100 | Train (s) | Test (s)\n",
      "--- + ------ + ------ + ------ + ------ + ------ + ------ + ------ + -------- + -------- + ------------- + ---------- + --------- + --------\n",
      "HFT | 0.0000 | 0.0000 | 0.0000 | 0.5067 | 0.0040 | 0.0091 | 0.0348 |   0.0158 |   0.0221 |        0.0022 |     0.0393 |  120.2749 |  31.1218\n",
      "\n"
     ]
    }
   ],
   "source": [
    "# Instantiate HFT model\n",
    "hft_k10_top100 = cornac.models.HFT(\n",
    "    k=10,\n",
    "    max_iter=10,\n",
    "    grad_iter=5,\n",
    "    l2_reg=0.001,\n",
    "    lambda_text=0.01,\n",
    "    vocab_size=8000,\n",
    "    seed=123,\n",
    ")\n",
    "\n",
    "# Instantiate MSE for evaluation\n",
    "metrics = [MAE(), RMSE(), MSE(),FMeasure(k=100),Precision(k=100),\n",
    "           Recall(k=100), NDCG(k=100), NCRR(k=100),\n",
    "           MRR(),AUC(), MAP()]\n",
    "\n",
    "# Put everything together into an experiment and run it\n",
    "cornac.Experiment(\n",
    "    eval_method=citeulike_ratio_split, models=[hft_k10_top100], metrics=metrics, user_based=False\n",
    ").run()"
   ],
   "metadata": {
    "collapsed": false
   }
  },
  {
   "cell_type": "code",
   "execution_count": 4,
   "outputs": [],
   "source": [
    "data2 = {\"model\":\"HFT\",\n",
    "        \"data\":\"citeulike\",\n",
    "        \"k\":10,\n",
    "        \"topk\":100,\n",
    "        \"max_iter\":10,\n",
    "        \"grad_iter\":5,\n",
    "        \"lambda_text\":0.01,\n",
    "        \"l2_reg\":0.001,\n",
    "        \"MAE\":0.0000,\"MSE\":0.0000,\"RMSE\":0.0000,\"AUC\":0.5067,\"F1\":0.0040,\"MAP\":0.0091,\"MRR\":0.0348,\"NCRR\":0.0158,\"NDCG\":0.0221,\"Precision\":0.0022,\"Recall\":0.0393,\n",
    "        \"category diversity\":0}"
   ],
   "metadata": {
    "collapsed": false
   }
  },
  {
   "cell_type": "markdown",
   "source": [
    "### k=50"
   ],
   "metadata": {
    "collapsed": false
   }
  },
  {
   "cell_type": "code",
   "execution_count": 9,
   "outputs": [
    {
     "name": "stdout",
     "output_type": "stream",
     "text": [
      "\n",
      "[HFT] Training started!\n"
     ]
    },
    {
     "data": {
      "text/plain": "  0%|          | 0/10 [00:00<?, ?it/s]",
      "application/vnd.jupyter.widget-view+json": {
       "version_major": 2,
       "version_minor": 0,
       "model_id": "cfa80576896049f1b08bd7e2dcd71597"
      }
     },
     "metadata": {},
     "output_type": "display_data"
    },
    {
     "name": "stdout",
     "output_type": "stream",
     "text": [
      "Learning completed!\n",
      "\n",
      "[HFT] Evaluation started!\n"
     ]
    },
    {
     "data": {
      "text/plain": "Rating:   0%|          | 0/42053 [00:00<?, ?it/s]",
      "application/vnd.jupyter.widget-view+json": {
       "version_major": 2,
       "version_minor": 0,
       "model_id": "17e47cf07605411b80452c14d3514ad1"
      }
     },
     "metadata": {},
     "output_type": "display_data"
    },
    {
     "data": {
      "text/plain": "Ranking:   0%|          | 0/5444 [00:00<?, ?it/s]",
      "application/vnd.jupyter.widget-view+json": {
       "version_major": 2,
       "version_minor": 0,
       "model_id": "422c494a8f5f4081b331eb37cf4fa3f6"
      }
     },
     "metadata": {},
     "output_type": "display_data"
    },
    {
     "name": "stdout",
     "output_type": "stream",
     "text": [
      "\n",
      "TEST:\n",
      "...\n",
      "    |    MAE |    MSE |   RMSE |    AUC |  F1@50 |    MAP |    MRR | NCRR@50 | NDCG@50 | Precision@50 | Recall@50 | Train (s) | Test (s)\n",
      "--- + ------ + ------ + ------ + ------ + ------ + ------ + ------ + ------- + ------- + ------------ + --------- + --------- + --------\n",
      "HFT | 0.0000 | 0.0000 | 0.0000 | 0.4968 | 0.0019 | 0.0027 | 0.0125 |  0.0046 |  0.0060 |       0.0011 |    0.0100 |  299.1378 |  48.3684\n",
      "\n"
     ]
    }
   ],
   "source": [
    "# Instantiate HFT model\n",
    "hft_k50 = cornac.models.HFT(\n",
    "    k=50,\n",
    "    max_iter=10,\n",
    "    grad_iter=5,\n",
    "    l2_reg=0.001,\n",
    "    lambda_text=0.01,\n",
    "    vocab_size=8000,\n",
    "    seed=123,\n",
    ")\n",
    "\n",
    "# Instantiate MSE for evaluation\n",
    "metrics = [MAE(), RMSE(), MSE(),FMeasure(k=50),Precision(k=50),\n",
    "           Recall(k=50), NDCG(k=50), NCRR(k=50),\n",
    "           MRR(),AUC(), MAP()]\n",
    "\n",
    "# Put everything together into an experiment and run it\n",
    "cornac.Experiment(\n",
    "    eval_method=citeulike_ratio_split, models=[hft_k50], metrics=metrics, user_based=False\n",
    ").run()"
   ],
   "metadata": {
    "collapsed": false
   }
  },
  {
   "cell_type": "code",
   "execution_count": 5,
   "outputs": [],
   "source": [
    "data3 = {\"model\":\"HFT\",\n",
    "        \"data\":\"citeulike\",\n",
    "        \"k\":50,\n",
    "        \"topk\":50,\n",
    "        \"max_iter\":10,\n",
    "        \"grad_iter\":5,\n",
    "        \"lambda_text\":0.01,\n",
    "        \"l2_reg\":0.001,\n",
    "        \"MAE\":0.0000,\"MSE\":0.0000,\"RMSE\":0.0000,\"AUC\":0.4968,\"F1\":0.0019,\"MAP\":0.0027,\"MRR\":0.0125,\"NCRR\":0.0046,\"NDCG\":0.0060,\"Precision\":0.0011,\"Recall\":0.0100,\n",
    "        \"category diversity\":0}"
   ],
   "metadata": {
    "collapsed": false
   }
  },
  {
   "cell_type": "markdown",
   "source": [
    "### k=100"
   ],
   "metadata": {
    "collapsed": false
   }
  },
  {
   "cell_type": "code",
   "execution_count": 11,
   "outputs": [
    {
     "name": "stdout",
     "output_type": "stream",
     "text": [
      "\n",
      "[HFT] Training started!\n"
     ]
    },
    {
     "data": {
      "text/plain": "  0%|          | 0/10 [00:00<?, ?it/s]",
      "application/vnd.jupyter.widget-view+json": {
       "version_major": 2,
       "version_minor": 0,
       "model_id": "1dd545481e8d458db82ecd4fc494b402"
      }
     },
     "metadata": {},
     "output_type": "display_data"
    },
    {
     "name": "stdout",
     "output_type": "stream",
     "text": [
      "Learning completed!\n",
      "\n",
      "[HFT] Evaluation started!\n"
     ]
    },
    {
     "data": {
      "text/plain": "Rating:   0%|          | 0/42053 [00:00<?, ?it/s]",
      "application/vnd.jupyter.widget-view+json": {
       "version_major": 2,
       "version_minor": 0,
       "model_id": "a161cabfaa2c470896bf9bbdf90eb67f"
      }
     },
     "metadata": {},
     "output_type": "display_data"
    },
    {
     "data": {
      "text/plain": "Ranking:   0%|          | 0/5444 [00:00<?, ?it/s]",
      "application/vnd.jupyter.widget-view+json": {
       "version_major": 2,
       "version_minor": 0,
       "model_id": "f5ded656e0c74e4ea432b2e7ef99f1e0"
      }
     },
     "metadata": {},
     "output_type": "display_data"
    },
    {
     "name": "stdout",
     "output_type": "stream",
     "text": [
      "\n",
      "TEST:\n",
      "...\n",
      "    |    MAE |    MSE |   RMSE |    AUC |  F1@50 |    MAP |    MRR | NCRR@50 | NDCG@50 | Precision@50 | Recall@50 | Train (s) | Test (s)\n",
      "--- + ------ + ------ + ------ + ------ + ------ + ------ + ------ + ------- + ------- + ------------ + --------- + --------- + --------\n",
      "HFT | 0.0000 | 0.0000 | 0.0000 | 0.5019 | 0.0013 | 0.0020 | 0.0071 |  0.0026 |  0.0039 |       0.0008 |    0.0073 |  390.8251 |  47.0222\n",
      "\n"
     ]
    }
   ],
   "source": [
    "# Instantiate HFT model\n",
    "hft_k100 = cornac.models.HFT(\n",
    "    k=100,\n",
    "    max_iter=10,\n",
    "    grad_iter=5,\n",
    "    l2_reg=0.001,\n",
    "    lambda_text=0.01,\n",
    "    vocab_size=8000,\n",
    "    seed=123,\n",
    ")\n",
    "\n",
    "# Instantiate MSE for evaluation\n",
    "metrics = [MAE(), RMSE(), MSE(),FMeasure(k=50),Precision(k=50),\n",
    "           Recall(k=50), NDCG(k=50), NCRR(k=50),\n",
    "           MRR(),AUC(), MAP()]\n",
    "\n",
    "# Put everything together into an experiment and run it\n",
    "cornac.Experiment(\n",
    "    eval_method=citeulike_ratio_split, models=[hft_k100], metrics=metrics, user_based=False\n",
    ").run()"
   ],
   "metadata": {
    "collapsed": false
   }
  },
  {
   "cell_type": "code",
   "execution_count": 6,
   "outputs": [],
   "source": [
    "data4 = {\"model\":\"HFT\",\n",
    "        \"data\":\"citeulike\",\n",
    "        \"k\":100,\n",
    "        \"topk\":50,\n",
    "        \"max_iter\":10,\n",
    "        \"grad_iter\":5,\n",
    "        \"lambda_text\":0.01,\n",
    "        \"l2_reg\":0.001,\n",
    "        \"MAE\":0.0000,\"MSE\":0.0000,\"RMSE\":0.0000,\"AUC\":0.5019,\"F1\":0.0013,\"MAP\":0.0020,\"MRR\":0.0071,\"NCRR\":0.0026,\"NDCG\":0.0039,\"Precision\":0.0008,\"Recall\":0.0073,\n",
    "        \"category diversity\":0}"
   ],
   "metadata": {
    "collapsed": false
   }
  },
  {
   "cell_type": "markdown",
   "source": [
    "### k=200"
   ],
   "metadata": {
    "collapsed": false
   }
  },
  {
   "cell_type": "code",
   "execution_count": 5,
   "outputs": [
    {
     "name": "stdout",
     "output_type": "stream",
     "text": [
      "\n",
      "[HFT] Training started!\n"
     ]
    },
    {
     "data": {
      "text/plain": "  0%|          | 0/10 [00:00<?, ?it/s]",
      "application/vnd.jupyter.widget-view+json": {
       "version_major": 2,
       "version_minor": 0,
       "model_id": "2ff84d5bb7cd4e609229f3bd551ad5e6"
      }
     },
     "metadata": {},
     "output_type": "display_data"
    },
    {
     "name": "stdout",
     "output_type": "stream",
     "text": [
      "Learning completed!\n",
      "\n",
      "[HFT] Evaluation started!\n"
     ]
    },
    {
     "data": {
      "text/plain": "Rating:   0%|          | 0/42053 [00:00<?, ?it/s]",
      "application/vnd.jupyter.widget-view+json": {
       "version_major": 2,
       "version_minor": 0,
       "model_id": "f9c434bb76d5406087b783e9a2a9222d"
      }
     },
     "metadata": {},
     "output_type": "display_data"
    },
    {
     "data": {
      "text/plain": "Ranking:   0%|          | 0/5444 [00:00<?, ?it/s]",
      "application/vnd.jupyter.widget-view+json": {
       "version_major": 2,
       "version_minor": 0,
       "model_id": "06c03bcbf79a47b8b61ee8994e60d5a8"
      }
     },
     "metadata": {},
     "output_type": "display_data"
    },
    {
     "name": "stdout",
     "output_type": "stream",
     "text": [
      "\n",
      "TEST:\n",
      "...\n",
      "    |    MAE |    MSE |   RMSE |    AUC |  F1@50 |    MAP |    MRR | NCRR@50 | NDCG@50 | Precision@50 | Recall@50 | Train (s) | Test (s)\n",
      "--- + ------ + ------ + ------ + ------ + ------ + ------ + ------ + ------- + ------- + ------------ + --------- + --------- + --------\n",
      "HFT | 0.0000 | 0.0000 | 0.0000 | 0.4948 | 0.0017 | 0.0067 | 0.0193 |  0.0097 |  0.0099 |       0.0010 |    0.0112 |  377.1846 |  34.9846\n",
      "\n"
     ]
    }
   ],
   "source": [
    "# Instantiate HFT model\n",
    "hft_k200 = cornac.models.HFT(\n",
    "    k=200,\n",
    "    max_iter=10,\n",
    "    grad_iter=5,\n",
    "    l2_reg=0.001,\n",
    "    lambda_text=0.01,\n",
    "    vocab_size=8000,\n",
    "    seed=123,\n",
    ")\n",
    "\n",
    "# Instantiate MSE for evaluation\n",
    "metrics = [MAE(), RMSE(), MSE(),FMeasure(k=50),Precision(k=50),\n",
    "           Recall(k=50), NDCG(k=50), NCRR(k=50),\n",
    "           MRR(),AUC(), MAP()]\n",
    "\n",
    "# Put everything together into an experiment and run it\n",
    "cornac.Experiment(\n",
    "    eval_method=citeulike_ratio_split, models=[hft_k200], metrics=metrics, user_based=False\n",
    ").run()"
   ],
   "metadata": {
    "collapsed": false
   }
  },
  {
   "cell_type": "code",
   "execution_count": 7,
   "outputs": [],
   "source": [
    "data5 = {\"model\":\"HFT\",\n",
    "        \"data\":\"citeulike\",\n",
    "        \"k\":200,\n",
    "        \"topk\":50,\n",
    "        \"max_iter\":10,\n",
    "        \"grad_iter\":5,\n",
    "        \"lambda_text\":0.01,\n",
    "        \"l2_reg\":0.001,\n",
    "        \"MAE\":0.0000,\"MSE\":0.0000,\"RMSE\":0.0000,\"AUC\":0.4948,\"F1\":0.0017,\"MAP\":0.0067,\"MRR\":0.0193,\"NCRR\":0.0097,\"NDCG\":0.0099,\"Precision\":0.0010,\"Recall\":0.0112,\n",
    "        \"category diversity\":0}"
   ],
   "metadata": {
    "collapsed": false
   }
  },
  {
   "cell_type": "markdown",
   "source": [
    "### k=300"
   ],
   "metadata": {
    "collapsed": false
   }
  },
  {
   "cell_type": "code",
   "execution_count": 8,
   "outputs": [
    {
     "name": "stdout",
     "output_type": "stream",
     "text": [
      "\n",
      "[HFT] Training started!\n"
     ]
    },
    {
     "data": {
      "text/plain": "  0%|          | 0/10 [00:00<?, ?it/s]",
      "application/vnd.jupyter.widget-view+json": {
       "version_major": 2,
       "version_minor": 0,
       "model_id": "d26e2dfb31ed4f78b442d3cf66e26183"
      }
     },
     "metadata": {},
     "output_type": "display_data"
    },
    {
     "name": "stdout",
     "output_type": "stream",
     "text": [
      "Learning completed!\n",
      "\n",
      "[HFT] Evaluation started!\n"
     ]
    },
    {
     "data": {
      "text/plain": "Rating:   0%|          | 0/42053 [00:00<?, ?it/s]",
      "application/vnd.jupyter.widget-view+json": {
       "version_major": 2,
       "version_minor": 0,
       "model_id": "3069a7d9f9ef4716810fa42ad0d3b83d"
      }
     },
     "metadata": {},
     "output_type": "display_data"
    },
    {
     "data": {
      "text/plain": "Ranking:   0%|          | 0/5444 [00:00<?, ?it/s]",
      "application/vnd.jupyter.widget-view+json": {
       "version_major": 2,
       "version_minor": 0,
       "model_id": "1a6ee19d6d954d84aabb678c820d0fc4"
      }
     },
     "metadata": {},
     "output_type": "display_data"
    },
    {
     "name": "stdout",
     "output_type": "stream",
     "text": [
      "\n",
      "TEST:\n",
      "...\n",
      "    |    MAE |    MSE |   RMSE |    AUC |  F1@50 |    MAP |    MRR | NCRR@50 | NDCG@50 | Precision@50 | Recall@50 | Train (s) | Test (s)\n",
      "--- + ------ + ------ + ------ + ------ + ------ + ------ + ------ + ------- + ------- + ------------ + --------- + --------- + --------\n",
      "HFT | 0.0000 | 0.0000 | 0.0000 | 0.5004 | 0.0038 | 0.0070 | 0.0304 |  0.0127 |  0.0151 |       0.0023 |    0.0224 |  477.0192 |  41.4342\n",
      "\n"
     ]
    }
   ],
   "source": [
    "# Instantiate HFT model\n",
    "hft_k300 = cornac.models.HFT(\n",
    "    k=300,\n",
    "    max_iter=10,\n",
    "    grad_iter=5,\n",
    "    l2_reg=0.001,\n",
    "    lambda_text=0.01,\n",
    "    vocab_size=8000,\n",
    "    seed=123,\n",
    ")\n",
    "\n",
    "# Instantiate MSE for evaluation\n",
    "metrics = [MAE(), RMSE(), MSE(),FMeasure(k=50),Precision(k=50),\n",
    "           Recall(k=50), NDCG(k=50), NCRR(k=50),\n",
    "           MRR(),AUC(), MAP()]\n",
    "\n",
    "# Put everything together into an experiment and run it\n",
    "cornac.Experiment(\n",
    "    eval_method=citeulike_ratio_split, models=[hft_k300], metrics=metrics, user_based=False\n",
    ").run()"
   ],
   "metadata": {
    "collapsed": false
   }
  },
  {
   "cell_type": "code",
   "execution_count": 9,
   "outputs": [],
   "source": [
    "data6 = {\"model\":\"HFT\",\n",
    "        \"data\":\"citeulike\",\n",
    "        \"k\":300,\n",
    "        \"topk\":50,\n",
    "        \"max_iter\":10,\n",
    "        \"grad_iter\":5,\n",
    "        \"lambda_text\":0.01,\n",
    "        \"l2_reg\":0.001,\n",
    "        \"MAE\":0.0000,\"MSE\":0.0000,\"RMSE\":0.0000,\"AUC\":0.5004,\"F1\":0.0038,\"MAP\":0.0070,\"MRR\":0.0304,\"NCRR\":0.0127,\"NDCG\":0.0151,\"Precision\":0.0023,\"Recall\":0.0224,\n",
    "        \"category diversity\":0}"
   ],
   "metadata": {
    "collapsed": false
   }
  },
  {
   "cell_type": "markdown",
   "source": [
    "### k=10,lambda_text=0.1"
   ],
   "metadata": {
    "collapsed": false
   }
  },
  {
   "cell_type": "code",
   "execution_count": 10,
   "outputs": [
    {
     "name": "stdout",
     "output_type": "stream",
     "text": [
      "\n",
      "[HFT] Training started!\n"
     ]
    },
    {
     "data": {
      "text/plain": "  0%|          | 0/10 [00:00<?, ?it/s]",
      "application/vnd.jupyter.widget-view+json": {
       "version_major": 2,
       "version_minor": 0,
       "model_id": "9ae6e33dae894746aeb72917a9084679"
      }
     },
     "metadata": {},
     "output_type": "display_data"
    },
    {
     "name": "stdout",
     "output_type": "stream",
     "text": [
      "Learning completed!\n",
      "\n",
      "[HFT] Evaluation started!\n"
     ]
    },
    {
     "data": {
      "text/plain": "Rating:   0%|          | 0/42053 [00:00<?, ?it/s]",
      "application/vnd.jupyter.widget-view+json": {
       "version_major": 2,
       "version_minor": 0,
       "model_id": "af5c778c5b11434d9b1c479719a68a2e"
      }
     },
     "metadata": {},
     "output_type": "display_data"
    },
    {
     "data": {
      "text/plain": "Ranking:   0%|          | 0/5444 [00:00<?, ?it/s]",
      "application/vnd.jupyter.widget-view+json": {
       "version_major": 2,
       "version_minor": 0,
       "model_id": "94d185f5ab084ebf97a8684bde5004cf"
      }
     },
     "metadata": {},
     "output_type": "display_data"
    },
    {
     "name": "stdout",
     "output_type": "stream",
     "text": [
      "\n",
      "TEST:\n",
      "...\n",
      "    |    MAE |    MSE |   RMSE |    AUC |  F1@50 |    MAP |    MRR | NCRR@50 | NDCG@50 | Precision@50 | Recall@50 | Train (s) | Test (s)\n",
      "--- + ------ + ------ + ------ + ------ + ------ + ------ + ------ + ------- + ------- + ------------ + --------- + --------- + --------\n",
      "HFT | 0.0000 | 0.0000 | 0.0000 | 0.4987 | 0.0016 | 0.0055 | 0.0208 |  0.0090 |  0.0088 |       0.0010 |    0.0099 |  155.6609 |  28.4342\n",
      "\n"
     ]
    }
   ],
   "source": [
    "# Instantiate HFT model\n",
    "hft_lamText01_k10 = cornac.models.HFT(\n",
    "    k=10,\n",
    "    max_iter=10,\n",
    "    grad_iter=5,\n",
    "    l2_reg=0.001,\n",
    "    lambda_text=0.1,\n",
    "    vocab_size=8000,\n",
    "    seed=123,\n",
    ")\n",
    "\n",
    "# Instantiate MSE for evaluation\n",
    "metrics = [MAE(), RMSE(), MSE(),FMeasure(k=50),Precision(k=50),\n",
    "           Recall(k=50), NDCG(k=50), NCRR(k=50),\n",
    "           MRR(),AUC(), MAP()]\n",
    "\n",
    "# Put everything together into an experiment and run it\n",
    "cornac.Experiment(\n",
    "    eval_method=citeulike_ratio_split, models=[hft_lamText01_k10], metrics=metrics, user_based=False\n",
    ").run()"
   ],
   "metadata": {
    "collapsed": false
   }
  },
  {
   "cell_type": "code",
   "execution_count": 11,
   "outputs": [],
   "source": [
    "data7 = {\"model\":\"HFT\",\n",
    "        \"data\":\"citeulike\",\n",
    "        \"k\":10,\n",
    "        \"topk\":50,\n",
    "        \"max_iter\":10,\n",
    "        \"grad_iter\":5,\n",
    "        \"lambda_text\":0.1,\n",
    "        \"l2_reg\":0.001,\n",
    "        \"MAE\":0.0000,\"MSE\":0.0000,\"RMSE\":0.0000,\"AUC\":0.4987,\"F1\":0.0016,\"MAP\":0.0055,\"MRR\":0.0208,\"NCRR\":0.0090,\"NDCG\":0.0088,\"Precision\":0.0010,\"Recall\":0.0099,\n",
    "        \"category diversity\":0}"
   ],
   "metadata": {
    "collapsed": false
   }
  },
  {
   "cell_type": "markdown",
   "source": [
    "### k=10, lambda_text=1"
   ],
   "metadata": {
    "collapsed": false
   }
  },
  {
   "cell_type": "code",
   "execution_count": 12,
   "outputs": [
    {
     "name": "stdout",
     "output_type": "stream",
     "text": [
      "\n",
      "[HFT] Training started!\n"
     ]
    },
    {
     "data": {
      "text/plain": "  0%|          | 0/10 [00:00<?, ?it/s]",
      "application/vnd.jupyter.widget-view+json": {
       "version_major": 2,
       "version_minor": 0,
       "model_id": "3881b0c68aa64d2389f730c05e80bcf4"
      }
     },
     "metadata": {},
     "output_type": "display_data"
    },
    {
     "name": "stdout",
     "output_type": "stream",
     "text": [
      "Learning completed!\n",
      "\n",
      "[HFT] Evaluation started!\n"
     ]
    },
    {
     "data": {
      "text/plain": "Rating:   0%|          | 0/42053 [00:00<?, ?it/s]",
      "application/vnd.jupyter.widget-view+json": {
       "version_major": 2,
       "version_minor": 0,
       "model_id": "b7c775e32bd74de1833218818d0b51ff"
      }
     },
     "metadata": {},
     "output_type": "display_data"
    },
    {
     "data": {
      "text/plain": "Ranking:   0%|          | 0/5444 [00:00<?, ?it/s]",
      "application/vnd.jupyter.widget-view+json": {
       "version_major": 2,
       "version_minor": 0,
       "model_id": "cffd389295f64dbbbef29601215e7ac8"
      }
     },
     "metadata": {},
     "output_type": "display_data"
    },
    {
     "name": "stdout",
     "output_type": "stream",
     "text": [
      "\n",
      "TEST:\n",
      "...\n",
      "    |    MAE |    MSE |   RMSE |    AUC |  F1@50 |    MAP |    MRR | NCRR@50 | NDCG@50 | Precision@50 | Recall@50 | Train (s) | Test (s)\n",
      "--- + ------ + ------ + ------ + ------ + ------ + ------ + ------ + ------- + ------- + ------------ + --------- + --------- + --------\n",
      "HFT | 0.0000 | 0.0000 | 0.0000 | 0.5024 | 0.0006 | 0.0009 | 0.0028 |  0.0006 |  0.0011 |       0.0004 |    0.0024 |  212.4834 |  31.4043\n",
      "\n"
     ]
    }
   ],
   "source": [
    "# Instantiate HFT model\n",
    "hft_lamText1_k10 = cornac.models.HFT(\n",
    "    k=10,\n",
    "    max_iter=10,\n",
    "    grad_iter=5,\n",
    "    l2_reg=0.001,\n",
    "    lambda_text=1,\n",
    "    vocab_size=8000,\n",
    "    seed=123,\n",
    ")\n",
    "\n",
    "# Instantiate MSE for evaluation\n",
    "metrics = [MAE(), RMSE(), MSE(),FMeasure(k=50),Precision(k=50),\n",
    "           Recall(k=50), NDCG(k=50), NCRR(k=50),\n",
    "           MRR(),AUC(), MAP()]\n",
    "\n",
    "# Put everything together into an experiment and run it\n",
    "cornac.Experiment(\n",
    "    eval_method=citeulike_ratio_split, models=[hft_lamText1_k10], metrics=metrics, user_based=False\n",
    ").run()"
   ],
   "metadata": {
    "collapsed": false
   }
  },
  {
   "cell_type": "code",
   "execution_count": 13,
   "outputs": [],
   "source": [
    "data8 = {\"model\":\"HFT\",\n",
    "        \"data\":\"citeulike\",\n",
    "        \"k\":10,\n",
    "        \"topk\":50,\n",
    "        \"max_iter\":10,\n",
    "        \"grad_iter\":5,\n",
    "        \"lambda_text\":1,\n",
    "        \"l2_reg\":0.001,\n",
    "        \"MAE\":0.0000,\"MSE\":0.0000,\"RMSE\":0.0000,\"AUC\":0.5024,\"F1\":0.0006,\"MAP\":0.0009,\"MRR\":0.0028,\"NCRR\":0.0006,\"NDCG\":0.0011,\"Precision\":0.0004,\"Recall\":0.0024,\n",
    "        \"category diversity\":0}"
   ],
   "metadata": {
    "collapsed": false
   }
  },
  {
   "cell_type": "markdown",
   "source": [
    "### k=10, lambda_text=0.1, l2_reg=0.01"
   ],
   "metadata": {
    "collapsed": false
   }
  },
  {
   "cell_type": "code",
   "execution_count": 14,
   "outputs": [
    {
     "name": "stdout",
     "output_type": "stream",
     "text": [
      "\n",
      "[HFT] Training started!\n"
     ]
    },
    {
     "data": {
      "text/plain": "  0%|          | 0/10 [00:00<?, ?it/s]",
      "application/vnd.jupyter.widget-view+json": {
       "version_major": 2,
       "version_minor": 0,
       "model_id": "72ac67422133414eb62a489a794dbba6"
      }
     },
     "metadata": {},
     "output_type": "display_data"
    },
    {
     "name": "stdout",
     "output_type": "stream",
     "text": [
      "Learning completed!\n",
      "\n",
      "[HFT] Evaluation started!\n"
     ]
    },
    {
     "data": {
      "text/plain": "Rating:   0%|          | 0/42053 [00:00<?, ?it/s]",
      "application/vnd.jupyter.widget-view+json": {
       "version_major": 2,
       "version_minor": 0,
       "model_id": "e6edd948030c456b9a0286d72214c552"
      }
     },
     "metadata": {},
     "output_type": "display_data"
    },
    {
     "data": {
      "text/plain": "Ranking:   0%|          | 0/5444 [00:00<?, ?it/s]",
      "application/vnd.jupyter.widget-view+json": {
       "version_major": 2,
       "version_minor": 0,
       "model_id": "08b7a60b55774ae7a3333458a4a69e0a"
      }
     },
     "metadata": {},
     "output_type": "display_data"
    },
    {
     "name": "stdout",
     "output_type": "stream",
     "text": [
      "\n",
      "TEST:\n",
      "...\n",
      "    |    MAE |    MSE |   RMSE |    AUC |  F1@50 |    MAP |    MRR | NCRR@50 | NDCG@50 | Precision@50 | Recall@50 | Train (s) | Test (s)\n",
      "--- + ------ + ------ + ------ + ------ + ------ + ------ + ------ + ------- + ------- + ------------ + --------- + --------- + --------\n",
      "HFT | 0.0000 | 0.0000 | 0.0000 | 0.4960 | 0.0015 | 0.0047 | 0.0185 |  0.0077 |  0.0076 |       0.0009 |    0.0090 |  159.6241 |  35.9886\n",
      "\n"
     ]
    }
   ],
   "source": [
    "# Instantiate HFT model\n",
    "hft_l2001_lamText01_k10 = cornac.models.HFT(\n",
    "    k=10,\n",
    "    max_iter=10,\n",
    "    grad_iter=5,\n",
    "    l2_reg=0.01,\n",
    "    lambda_text=0.1,\n",
    "    vocab_size=8000,\n",
    "    seed=123,\n",
    ")\n",
    "\n",
    "# Instantiate MSE for evaluation\n",
    "metrics = [MAE(), RMSE(), MSE(),FMeasure(k=50),Precision(k=50),\n",
    "           Recall(k=50), NDCG(k=50), NCRR(k=50),\n",
    "           MRR(),AUC(), MAP()]\n",
    "\n",
    "# Put everything together into an experiment and run it\n",
    "cornac.Experiment(\n",
    "    eval_method=citeulike_ratio_split, models=[hft_l2001_lamText01_k10], metrics=metrics, user_based=False\n",
    ").run()"
   ],
   "metadata": {
    "collapsed": false
   }
  },
  {
   "cell_type": "code",
   "execution_count": 15,
   "outputs": [],
   "source": [
    "data9 = {\"model\":\"HFT\",\n",
    "        \"data\":\"citeulike\",\n",
    "        \"k\":10,\n",
    "        \"topk\":50,\n",
    "        \"max_iter\":10,\n",
    "        \"grad_iter\":5,\n",
    "        \"lambda_text\":0.1,\n",
    "        \"l2_reg\":0.01,\n",
    "        \"MAE\":0.0000,\"MSE\":0.0000,\"RMSE\":0.0000,\"AUC\":0.4960,\"F1\":0.0015,\"MAP\":0.0047,\"MRR\":0.0185,\"NCRR\":0.0077,\"NDCG\":0.0076,\"Precision\":0.0009,\"Recall\":0.0090,\n",
    "        \"category diversity\":0}"
   ],
   "metadata": {
    "collapsed": false
   }
  },
  {
   "cell_type": "markdown",
   "source": [
    "### k=10, lambda_text=0.1, l2_reg=0.1"
   ],
   "metadata": {
    "collapsed": false
   }
  },
  {
   "cell_type": "code",
   "execution_count": 16,
   "outputs": [
    {
     "name": "stdout",
     "output_type": "stream",
     "text": [
      "\n",
      "[HFT] Training started!\n"
     ]
    },
    {
     "data": {
      "text/plain": "  0%|          | 0/10 [00:00<?, ?it/s]",
      "application/vnd.jupyter.widget-view+json": {
       "version_major": 2,
       "version_minor": 0,
       "model_id": "6d241500209941b4a6faff58b251c5d7"
      }
     },
     "metadata": {},
     "output_type": "display_data"
    },
    {
     "name": "stdout",
     "output_type": "stream",
     "text": [
      "Learning completed!\n",
      "\n",
      "[HFT] Evaluation started!\n"
     ]
    },
    {
     "data": {
      "text/plain": "Rating:   0%|          | 0/42053 [00:00<?, ?it/s]",
      "application/vnd.jupyter.widget-view+json": {
       "version_major": 2,
       "version_minor": 0,
       "model_id": "1a32b6976a2f41f1ab3cfc64253b8822"
      }
     },
     "metadata": {},
     "output_type": "display_data"
    },
    {
     "data": {
      "text/plain": "Ranking:   0%|          | 0/5444 [00:00<?, ?it/s]",
      "application/vnd.jupyter.widget-view+json": {
       "version_major": 2,
       "version_minor": 0,
       "model_id": "14c5c9872c0d40a29a78f4ddc68c21e5"
      }
     },
     "metadata": {},
     "output_type": "display_data"
    },
    {
     "name": "stdout",
     "output_type": "stream",
     "text": [
      "\n",
      "TEST:\n",
      "...\n",
      "    |    MAE |    MSE |   RMSE |    AUC |  F1@50 |    MAP |    MRR | NCRR@50 | NDCG@50 | Precision@50 | Recall@50 | Train (s) | Test (s)\n",
      "--- + ------ + ------ + ------ + ------ + ------ + ------ + ------ + ------- + ------- + ------------ + --------- + --------- + --------\n",
      "HFT | 0.0000 | 0.0000 | 0.0000 | 0.4977 | 0.0016 | 0.0057 | 0.0214 |  0.0094 |  0.0092 |       0.0009 |    0.0102 |  156.7292 |  29.1349\n",
      "\n"
     ]
    }
   ],
   "source": [
    "# Instantiate HFT model\n",
    "hft_l201_lamText01_k10 = cornac.models.HFT(\n",
    "    k=10,\n",
    "    max_iter=10,\n",
    "    grad_iter=5,\n",
    "    l2_reg=0.1,\n",
    "    lambda_text=0.1,\n",
    "    vocab_size=8000,\n",
    "    seed=123,\n",
    ")\n",
    "\n",
    "# Instantiate MSE for evaluation\n",
    "metrics = [MAE(), RMSE(), MSE(),FMeasure(k=50),Precision(k=50),\n",
    "           Recall(k=50), NDCG(k=50), NCRR(k=50),\n",
    "           MRR(),AUC(), MAP()]\n",
    "\n",
    "# Put everything together into an experiment and run it\n",
    "cornac.Experiment(\n",
    "    eval_method=citeulike_ratio_split, models=[hft_l201_lamText01_k10], metrics=metrics, user_based=False\n",
    ").run()"
   ],
   "metadata": {
    "collapsed": false
   }
  },
  {
   "cell_type": "code",
   "execution_count": 17,
   "outputs": [],
   "source": [
    "data10 = {\"model\":\"HFT\",\n",
    "        \"data\":\"citeulike\",\n",
    "        \"k\":10,\n",
    "        \"topk\":50,\n",
    "        \"max_iter\":10,\n",
    "        \"grad_iter\":5,\n",
    "        \"lambda_text\":0.1,\n",
    "        \"l2_reg\":0.1,\n",
    "        \"MAE\":0.0000,\"MSE\":0.0000,\"RMSE\":0.0000,\"AUC\":0.4977,\"F1\":0.0016,\"MAP\":0.0057,\"MRR\":0.0214,\"NCRR\":0.0094,\"NDCG\":0.0092,\"Precision\":0.0009,\"Recall\":0.0102,\n",
    "        \"category diversity\":0}"
   ],
   "metadata": {
    "collapsed": false
   }
  },
  {
   "cell_type": "markdown",
   "source": [
    "### k=10. lambda_text=0.1, l2_reg=1"
   ],
   "metadata": {
    "collapsed": false
   }
  },
  {
   "cell_type": "code",
   "execution_count": 18,
   "outputs": [
    {
     "name": "stdout",
     "output_type": "stream",
     "text": [
      "\n",
      "[HFT] Training started!\n"
     ]
    },
    {
     "data": {
      "text/plain": "  0%|          | 0/10 [00:00<?, ?it/s]",
      "application/vnd.jupyter.widget-view+json": {
       "version_major": 2,
       "version_minor": 0,
       "model_id": "6c6eff1ee0ce4e4faba4cee33c1b1085"
      }
     },
     "metadata": {},
     "output_type": "display_data"
    },
    {
     "name": "stdout",
     "output_type": "stream",
     "text": [
      "Learning completed!\n",
      "\n",
      "[HFT] Evaluation started!\n"
     ]
    },
    {
     "data": {
      "text/plain": "Rating:   0%|          | 0/42053 [00:00<?, ?it/s]",
      "application/vnd.jupyter.widget-view+json": {
       "version_major": 2,
       "version_minor": 0,
       "model_id": "81a64aecef244edc87f5d890e4b5829d"
      }
     },
     "metadata": {},
     "output_type": "display_data"
    },
    {
     "data": {
      "text/plain": "Ranking:   0%|          | 0/5444 [00:00<?, ?it/s]",
      "application/vnd.jupyter.widget-view+json": {
       "version_major": 2,
       "version_minor": 0,
       "model_id": "05643b3d2dd74806bf32976fb6ab949a"
      }
     },
     "metadata": {},
     "output_type": "display_data"
    },
    {
     "name": "stdout",
     "output_type": "stream",
     "text": [
      "\n",
      "TEST:\n",
      "...\n",
      "    |    MAE |    MSE |   RMSE |    AUC |  F1@50 |    MAP |    MRR | NCRR@50 | NDCG@50 | Precision@50 | Recall@50 | Train (s) | Test (s)\n",
      "--- + ------ + ------ + ------ + ------ + ------ + ------ + ------ + ------- + ------- + ------------ + --------- + --------- + --------\n",
      "HFT | 0.0000 | 0.0000 | 0.0000 | 0.4933 | 0.0016 | 0.0060 | 0.0222 |  0.0098 |  0.0095 |       0.0010 |    0.0103 |  160.2646 |  29.1127\n",
      "\n"
     ]
    }
   ],
   "source": [
    "# Instantiate HFT model\n",
    "hft_l21_lamText01_k10 = cornac.models.HFT(\n",
    "    k=10,\n",
    "    max_iter=10,\n",
    "    grad_iter=5,\n",
    "    l2_reg=1,\n",
    "    lambda_text=0.1,\n",
    "    vocab_size=8000,\n",
    "    seed=123,\n",
    ")\n",
    "\n",
    "# Instantiate MSE for evaluation\n",
    "metrics = [MAE(), RMSE(), MSE(),FMeasure(k=50),Precision(k=50),\n",
    "           Recall(k=50), NDCG(k=50), NCRR(k=50),\n",
    "           MRR(),AUC(), MAP()]\n",
    "\n",
    "# Put everything together into an experiment and run it\n",
    "cornac.Experiment(\n",
    "    eval_method=citeulike_ratio_split, models=[hft_l21_lamText01_k10], metrics=metrics, user_based=False\n",
    ").run()"
   ],
   "metadata": {
    "collapsed": false
   }
  },
  {
   "cell_type": "code",
   "execution_count": 19,
   "outputs": [],
   "source": [
    "data11 = {\"model\":\"HFT\",\n",
    "        \"data\":\"citeulike\",\n",
    "        \"k\":10,\n",
    "        \"topk\":50,\n",
    "        \"max_iter\":10,\n",
    "        \"grad_iter\":5,\n",
    "        \"lambda_text\":0.1,\n",
    "        \"l2_reg\":1,\n",
    "        \"MAE\":0.0000,\"MSE\":0.0000,\"RMSE\":0.0000,\"AUC\":0.4933,\"F1\":0.0016,\"MAP\":0.0060,\"MRR\":0.0222,\"NCRR\":0.0098,\"NDCG\":0.0095,\"Precision\":0.0010,\"Recall\":0.0103,\n",
    "        \"category diversity\":0}"
   ],
   "metadata": {
    "collapsed": false
   }
  },
  {
   "cell_type": "code",
   "execution_count": 20,
   "outputs": [],
   "source": [
    "data = [data1,data3,data4,data5,data6,data7,data8,data9,data10,data11]\n",
    "df = pd.DataFrame(columns = data1.keys())\n",
    "i=0\n",
    "for d in data:\n",
    "    df = pd.concat([df, pd.DataFrame(d,columns = list(d.keys()),index=[i])], ignore_index=False)\n",
    "    i += 1"
   ],
   "metadata": {
    "collapsed": false
   }
  },
  {
   "cell_type": "code",
   "execution_count": 21,
   "outputs": [
    {
     "data": {
      "text/plain": "  model       data    k topk max_iter grad_iter  lambda_text  l2_reg  MAE   \n0   HFT  citeulike   10   50       10         5         0.01   0.001  0.0  \\\n1   HFT  citeulike   50   50       10         5         0.01   0.001  0.0   \n2   HFT  citeulike  100   50       10         5         0.01   0.001  0.0   \n3   HFT  citeulike  200   50       10         5         0.01   0.001  0.0   \n4   HFT  citeulike  300   50       10         5         0.01   0.001  0.0   \n5   HFT  citeulike   10   50       10         5         0.10   0.001  0.0   \n6   HFT  citeulike   10   50       10         5         1.00   0.001  0.0   \n7   HFT  citeulike   10   50       10         5         0.10   0.010  0.0   \n8   HFT  citeulike   10   50       10         5         0.10   0.100  0.0   \n9   HFT  citeulike   10   50       10         5         0.10   1.000  0.0   \n\n   MSE  RMSE     AUC      F1     MAP     MRR    NCRR    NDCG  Precision   \n0  0.0   0.0  0.4922  0.0060  0.0076  0.0318  0.0138  0.0191     0.0036  \\\n1  0.0   0.0  0.4968  0.0019  0.0027  0.0125  0.0046  0.0060     0.0011   \n2  0.0   0.0  0.5019  0.0013  0.0020  0.0071  0.0026  0.0039     0.0008   \n3  0.0   0.0  0.4948  0.0017  0.0067  0.0193  0.0097  0.0099     0.0010   \n4  0.0   0.0  0.5004  0.0038  0.0070  0.0304  0.0127  0.0151     0.0023   \n5  0.0   0.0  0.4987  0.0016  0.0055  0.0208  0.0090  0.0088     0.0010   \n6  0.0   0.0  0.5024  0.0006  0.0009  0.0028  0.0006  0.0011     0.0004   \n7  0.0   0.0  0.4960  0.0015  0.0047  0.0185  0.0077  0.0076     0.0009   \n8  0.0   0.0  0.4977  0.0016  0.0057  0.0214  0.0094  0.0092     0.0009   \n9  0.0   0.0  0.4933  0.0016  0.0060  0.0222  0.0098  0.0095     0.0010   \n\n   Recall category diversity  \n0  0.0318                  0  \n1  0.0100                  0  \n2  0.0073                  0  \n3  0.0112                  0  \n4  0.0224                  0  \n5  0.0099                  0  \n6  0.0024                  0  \n7  0.0090                  0  \n8  0.0102                  0  \n9  0.0103                  0  ",
      "text/html": "<div>\n<style scoped>\n    .dataframe tbody tr th:only-of-type {\n        vertical-align: middle;\n    }\n\n    .dataframe tbody tr th {\n        vertical-align: top;\n    }\n\n    .dataframe thead th {\n        text-align: right;\n    }\n</style>\n<table border=\"1\" class=\"dataframe\">\n  <thead>\n    <tr style=\"text-align: right;\">\n      <th></th>\n      <th>model</th>\n      <th>data</th>\n      <th>k</th>\n      <th>topk</th>\n      <th>max_iter</th>\n      <th>grad_iter</th>\n      <th>lambda_text</th>\n      <th>l2_reg</th>\n      <th>MAE</th>\n      <th>MSE</th>\n      <th>RMSE</th>\n      <th>AUC</th>\n      <th>F1</th>\n      <th>MAP</th>\n      <th>MRR</th>\n      <th>NCRR</th>\n      <th>NDCG</th>\n      <th>Precision</th>\n      <th>Recall</th>\n      <th>category diversity</th>\n    </tr>\n  </thead>\n  <tbody>\n    <tr>\n      <th>0</th>\n      <td>HFT</td>\n      <td>citeulike</td>\n      <td>10</td>\n      <td>50</td>\n      <td>10</td>\n      <td>5</td>\n      <td>0.01</td>\n      <td>0.001</td>\n      <td>0.0</td>\n      <td>0.0</td>\n      <td>0.0</td>\n      <td>0.4922</td>\n      <td>0.0060</td>\n      <td>0.0076</td>\n      <td>0.0318</td>\n      <td>0.0138</td>\n      <td>0.0191</td>\n      <td>0.0036</td>\n      <td>0.0318</td>\n      <td>0</td>\n    </tr>\n    <tr>\n      <th>1</th>\n      <td>HFT</td>\n      <td>citeulike</td>\n      <td>50</td>\n      <td>50</td>\n      <td>10</td>\n      <td>5</td>\n      <td>0.01</td>\n      <td>0.001</td>\n      <td>0.0</td>\n      <td>0.0</td>\n      <td>0.0</td>\n      <td>0.4968</td>\n      <td>0.0019</td>\n      <td>0.0027</td>\n      <td>0.0125</td>\n      <td>0.0046</td>\n      <td>0.0060</td>\n      <td>0.0011</td>\n      <td>0.0100</td>\n      <td>0</td>\n    </tr>\n    <tr>\n      <th>2</th>\n      <td>HFT</td>\n      <td>citeulike</td>\n      <td>100</td>\n      <td>50</td>\n      <td>10</td>\n      <td>5</td>\n      <td>0.01</td>\n      <td>0.001</td>\n      <td>0.0</td>\n      <td>0.0</td>\n      <td>0.0</td>\n      <td>0.5019</td>\n      <td>0.0013</td>\n      <td>0.0020</td>\n      <td>0.0071</td>\n      <td>0.0026</td>\n      <td>0.0039</td>\n      <td>0.0008</td>\n      <td>0.0073</td>\n      <td>0</td>\n    </tr>\n    <tr>\n      <th>3</th>\n      <td>HFT</td>\n      <td>citeulike</td>\n      <td>200</td>\n      <td>50</td>\n      <td>10</td>\n      <td>5</td>\n      <td>0.01</td>\n      <td>0.001</td>\n      <td>0.0</td>\n      <td>0.0</td>\n      <td>0.0</td>\n      <td>0.4948</td>\n      <td>0.0017</td>\n      <td>0.0067</td>\n      <td>0.0193</td>\n      <td>0.0097</td>\n      <td>0.0099</td>\n      <td>0.0010</td>\n      <td>0.0112</td>\n      <td>0</td>\n    </tr>\n    <tr>\n      <th>4</th>\n      <td>HFT</td>\n      <td>citeulike</td>\n      <td>300</td>\n      <td>50</td>\n      <td>10</td>\n      <td>5</td>\n      <td>0.01</td>\n      <td>0.001</td>\n      <td>0.0</td>\n      <td>0.0</td>\n      <td>0.0</td>\n      <td>0.5004</td>\n      <td>0.0038</td>\n      <td>0.0070</td>\n      <td>0.0304</td>\n      <td>0.0127</td>\n      <td>0.0151</td>\n      <td>0.0023</td>\n      <td>0.0224</td>\n      <td>0</td>\n    </tr>\n    <tr>\n      <th>5</th>\n      <td>HFT</td>\n      <td>citeulike</td>\n      <td>10</td>\n      <td>50</td>\n      <td>10</td>\n      <td>5</td>\n      <td>0.10</td>\n      <td>0.001</td>\n      <td>0.0</td>\n      <td>0.0</td>\n      <td>0.0</td>\n      <td>0.4987</td>\n      <td>0.0016</td>\n      <td>0.0055</td>\n      <td>0.0208</td>\n      <td>0.0090</td>\n      <td>0.0088</td>\n      <td>0.0010</td>\n      <td>0.0099</td>\n      <td>0</td>\n    </tr>\n    <tr>\n      <th>6</th>\n      <td>HFT</td>\n      <td>citeulike</td>\n      <td>10</td>\n      <td>50</td>\n      <td>10</td>\n      <td>5</td>\n      <td>1.00</td>\n      <td>0.001</td>\n      <td>0.0</td>\n      <td>0.0</td>\n      <td>0.0</td>\n      <td>0.5024</td>\n      <td>0.0006</td>\n      <td>0.0009</td>\n      <td>0.0028</td>\n      <td>0.0006</td>\n      <td>0.0011</td>\n      <td>0.0004</td>\n      <td>0.0024</td>\n      <td>0</td>\n    </tr>\n    <tr>\n      <th>7</th>\n      <td>HFT</td>\n      <td>citeulike</td>\n      <td>10</td>\n      <td>50</td>\n      <td>10</td>\n      <td>5</td>\n      <td>0.10</td>\n      <td>0.010</td>\n      <td>0.0</td>\n      <td>0.0</td>\n      <td>0.0</td>\n      <td>0.4960</td>\n      <td>0.0015</td>\n      <td>0.0047</td>\n      <td>0.0185</td>\n      <td>0.0077</td>\n      <td>0.0076</td>\n      <td>0.0009</td>\n      <td>0.0090</td>\n      <td>0</td>\n    </tr>\n    <tr>\n      <th>8</th>\n      <td>HFT</td>\n      <td>citeulike</td>\n      <td>10</td>\n      <td>50</td>\n      <td>10</td>\n      <td>5</td>\n      <td>0.10</td>\n      <td>0.100</td>\n      <td>0.0</td>\n      <td>0.0</td>\n      <td>0.0</td>\n      <td>0.4977</td>\n      <td>0.0016</td>\n      <td>0.0057</td>\n      <td>0.0214</td>\n      <td>0.0094</td>\n      <td>0.0092</td>\n      <td>0.0009</td>\n      <td>0.0102</td>\n      <td>0</td>\n    </tr>\n    <tr>\n      <th>9</th>\n      <td>HFT</td>\n      <td>citeulike</td>\n      <td>10</td>\n      <td>50</td>\n      <td>10</td>\n      <td>5</td>\n      <td>0.10</td>\n      <td>1.000</td>\n      <td>0.0</td>\n      <td>0.0</td>\n      <td>0.0</td>\n      <td>0.4933</td>\n      <td>0.0016</td>\n      <td>0.0060</td>\n      <td>0.0222</td>\n      <td>0.0098</td>\n      <td>0.0095</td>\n      <td>0.0010</td>\n      <td>0.0103</td>\n      <td>0</td>\n    </tr>\n  </tbody>\n</table>\n</div>"
     },
     "execution_count": 21,
     "metadata": {},
     "output_type": "execute_result"
    }
   ],
   "source": [
    "df"
   ],
   "metadata": {
    "collapsed": false
   }
  },
  {
   "cell_type": "code",
   "execution_count": 22,
   "outputs": [],
   "source": [
    "df.to_csv('/Users/pigr/Desktop/cornac/cornac/dataset/hft_citeulike.csv',header=-1,index=0)"
   ],
   "metadata": {
    "collapsed": false
   }
  },
  {
   "cell_type": "code",
   "execution_count": null,
   "outputs": [],
   "source": [],
   "metadata": {
    "collapsed": false
   }
  }
 ],
 "metadata": {
  "kernelspec": {
   "display_name": "Python 3",
   "language": "python",
   "name": "python3"
  },
  "language_info": {
   "codemirror_mode": {
    "name": "ipython",
    "version": 2
   },
   "file_extension": ".py",
   "mimetype": "text/x-python",
   "name": "python",
   "nbconvert_exporter": "python",
   "pygments_lexer": "ipython2",
   "version": "2.7.6"
  }
 },
 "nbformat": 4,
 "nbformat_minor": 0
}
