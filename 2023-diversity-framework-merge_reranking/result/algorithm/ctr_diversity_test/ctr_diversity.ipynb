{
 "cells": [
  {
   "cell_type": "code",
   "execution_count": 1,
   "metadata": {
    "collapsed": true
   },
   "outputs": [
    {
     "name": "stdout",
     "output_type": "stream",
     "text": [
      "FM model is only supported on Linux.\n",
      "Windows executable can be found at http://www.libfm.org.\n"
     ]
    }
   ],
   "source": [
    "import numpy as np\n",
    "import pandas as pd\n",
    "from scipy.stats import entropy\n",
    "import matplotlib.pyplot as plt\n",
    "import random\n",
    "\n",
    "import cornac\n",
    "from cornac.eval_methods import RatioSplit\n",
    "from cornac.data import TextModality\n",
    "from cornac.data.text import BaseTokenizer\n",
    "from cornac.models import CTR\n",
    "from cornac.data import Reader"
   ]
  },
  {
   "cell_type": "markdown",
   "source": [
    "### movielens"
   ],
   "metadata": {
    "collapsed": false
   }
  },
  {
   "cell_type": "code",
   "execution_count": 2,
   "outputs": [
    {
     "name": "stdout",
     "output_type": "stream",
     "text": [
      "rating_threshold = 1.0\n",
      "exclude_unknowns = True\n",
      "---\n",
      "Training data:\n",
      "Number of users = 943\n",
      "Number of items = 1518\n",
      "Number of ratings = 75846\n",
      "Max rating = 5.0\n",
      "Min rating = 1.0\n",
      "Global mean = 3.5\n",
      "---\n",
      "Test data:\n",
      "Number of users = 941\n",
      "Number of items = 1279\n",
      "Number of ratings = 18925\n",
      "Number of unknown users = 0\n",
      "Number of unknown items = 0\n",
      "---\n",
      "Total users = 943\n",
      "Total items = 1518\n"
     ]
    }
   ],
   "source": [
    "docs_movielens, item_ids_movielens = cornac.datasets.movielens.load_plot()\n",
    "feedback_movielens_100K = cornac.datasets.movielens.load_feedback(variant=\"100K\",reader=Reader(item_set=item_ids_movielens))\n",
    "\n",
    "movielens_item_text_modality = TextModality(\n",
    "    corpus=docs_movielens,\n",
    "    ids=item_ids_movielens,\n",
    "    tokenizer=BaseTokenizer(sep=\"\\t\", stop_words=\"english\"),\n",
    "    max_vocab=8000,\n",
    "    max_doc_freq=0.5,\n",
    ")\n",
    "# Define an evaluation method to split feedback into train and test sets\n",
    "movieslens100K_ratio_split = RatioSplit(\n",
    "    data=feedback_movielens_100K,\n",
    "    test_size=0.2,\n",
    "    exclude_unknowns=True,\n",
    "    item_text=movielens_item_text_modality,\n",
    "    verbose=True,\n",
    "    seed=123,\n",
    "    rating_threshold=1,\n",
    ")"
   ],
   "metadata": {
    "collapsed": false
   }
  },
  {
   "cell_type": "code",
   "execution_count": 4,
   "outputs": [
    {
     "name": "stdout",
     "output_type": "stream",
     "text": [
      "\n",
      "[CTR] Training started!\n"
     ]
    },
    {
     "data": {
      "text/plain": "  0%|          | 0/50 [00:00<?, ?it/s]",
      "application/vnd.jupyter.widget-view+json": {
       "version_major": 2,
       "version_minor": 0,
       "model_id": "e489e41c11fb4d4a8ff66779db050e2a"
      }
     },
     "metadata": {},
     "output_type": "display_data"
    },
    {
     "name": "stdout",
     "output_type": "stream",
     "text": [
      "Learning completed!\n",
      "\n",
      "[CTR] Evaluation started!\n"
     ]
    },
    {
     "data": {
      "text/plain": "Ranking:   0%|          | 0/941 [00:00<?, ?it/s]",
      "application/vnd.jupyter.widget-view+json": {
       "version_major": 2,
       "version_minor": 0,
       "model_id": "a41bda53b0064ecd9ad78bd885e279cb"
      }
     },
     "metadata": {},
     "output_type": "display_data"
    },
    {
     "name": "stdout",
     "output_type": "stream",
     "text": [
      "\n",
      "TEST:\n",
      "...\n",
      "    |  F1@50 | NCRR@50 | NDCG@50 | Precision@50 | Recall@50 | Train (s) | Test (s)\n",
      "--- + ------ + ------- + ------- + ------------ + --------- + --------- + --------\n",
      "CTR | 0.0244 |  0.0091 |  0.0403 |       0.0142 |    0.1137 |  206.3402 |   0.6548\n",
      "\n",
      "\n",
      "[CTR] Training started!\n"
     ]
    },
    {
     "data": {
      "text/plain": "  0%|          | 0/50 [00:00<?, ?it/s]",
      "application/vnd.jupyter.widget-view+json": {
       "version_major": 2,
       "version_minor": 0,
       "model_id": "1fe5227b99d34f4ba6aa3cdd9803dcd3"
      }
     },
     "metadata": {},
     "output_type": "display_data"
    },
    {
     "name": "stdout",
     "output_type": "stream",
     "text": [
      "Learning completed!\n",
      "\n",
      "[CTR] Evaluation started!\n"
     ]
    },
    {
     "data": {
      "text/plain": "Ranking:   0%|          | 0/941 [00:00<?, ?it/s]",
      "application/vnd.jupyter.widget-view+json": {
       "version_major": 2,
       "version_minor": 0,
       "model_id": "30d12f0e2bf841cf8070814ebcd57d9e"
      }
     },
     "metadata": {},
     "output_type": "display_data"
    },
    {
     "name": "stdout",
     "output_type": "stream",
     "text": [
      "\n",
      "TEST:\n",
      "...\n",
      "    |  F1@50 | NCRR@50 | NDCG@50 | Precision@50 | Recall@50 | Train (s) | Test (s)\n",
      "--- + ------ + ------- + ------- + ------------ + --------- + --------- + --------\n",
      "CTR | 0.0246 |  0.0090 |  0.0402 |       0.0143 |    0.1129 |  160.1409 |   0.9632\n",
      "\n",
      "\n",
      "[CTR] Training started!\n"
     ]
    },
    {
     "data": {
      "text/plain": "  0%|          | 0/50 [00:00<?, ?it/s]",
      "application/vnd.jupyter.widget-view+json": {
       "version_major": 2,
       "version_minor": 0,
       "model_id": "1e75a7d7249e4489bc7d627ea2dda514"
      }
     },
     "metadata": {},
     "output_type": "display_data"
    },
    {
     "name": "stdout",
     "output_type": "stream",
     "text": [
      "Learning completed!\n",
      "\n",
      "[CTR] Evaluation started!\n"
     ]
    },
    {
     "data": {
      "text/plain": "Ranking:   0%|          | 0/941 [00:00<?, ?it/s]",
      "application/vnd.jupyter.widget-view+json": {
       "version_major": 2,
       "version_minor": 0,
       "model_id": "c6fcc394fc9141639364081399c0b7c6"
      }
     },
     "metadata": {},
     "output_type": "display_data"
    },
    {
     "name": "stdout",
     "output_type": "stream",
     "text": [
      "\n",
      "TEST:\n",
      "...\n",
      "    |  F1@50 | NCRR@50 | NDCG@50 | Precision@50 | Recall@50 | Train (s) | Test (s)\n",
      "--- + ------ + ------- + ------- + ------------ + --------- + --------- + --------\n",
      "CTR | 0.0260 |  0.0095 |  0.0425 |       0.0151 |    0.1198 |  150.5176 |   0.7101\n",
      "\n",
      "\n",
      "[CTR] Training started!\n"
     ]
    },
    {
     "data": {
      "text/plain": "  0%|          | 0/50 [00:00<?, ?it/s]",
      "application/vnd.jupyter.widget-view+json": {
       "version_major": 2,
       "version_minor": 0,
       "model_id": "0f148c2d694a46bd899638a5e2d72630"
      }
     },
     "metadata": {},
     "output_type": "display_data"
    },
    {
     "name": "stdout",
     "output_type": "stream",
     "text": [
      "Learning completed!\n",
      "\n",
      "[CTR] Evaluation started!\n"
     ]
    },
    {
     "data": {
      "text/plain": "Ranking:   0%|          | 0/941 [00:00<?, ?it/s]",
      "application/vnd.jupyter.widget-view+json": {
       "version_major": 2,
       "version_minor": 0,
       "model_id": "1ec6fa5be3504323ab02e96a8aa45a3a"
      }
     },
     "metadata": {},
     "output_type": "display_data"
    },
    {
     "name": "stdout",
     "output_type": "stream",
     "text": [
      "\n",
      "TEST:\n",
      "...\n",
      "    |  F1@50 | NCRR@50 | NDCG@50 | Precision@50 | Recall@50 | Train (s) | Test (s)\n",
      "--- + ------ + ------- + ------- + ------------ + --------- + --------- + --------\n",
      "CTR | 0.0331 |  0.0126 |  0.0540 |       0.0195 |    0.1494 |  183.7686 |   0.6549\n",
      "\n",
      "\n",
      "[CTR] Training started!\n"
     ]
    },
    {
     "data": {
      "text/plain": "  0%|          | 0/50 [00:00<?, ?it/s]",
      "application/vnd.jupyter.widget-view+json": {
       "version_major": 2,
       "version_minor": 0,
       "model_id": "3c9f9130820b46d6b5f6ef54a091d288"
      }
     },
     "metadata": {},
     "output_type": "display_data"
    },
    {
     "name": "stdout",
     "output_type": "stream",
     "text": [
      "Learning completed!\n",
      "\n",
      "[CTR] Evaluation started!\n"
     ]
    },
    {
     "data": {
      "text/plain": "Ranking:   0%|          | 0/941 [00:00<?, ?it/s]",
      "application/vnd.jupyter.widget-view+json": {
       "version_major": 2,
       "version_minor": 0,
       "model_id": "68541f6607e94bca9d828a20636b4926"
      }
     },
     "metadata": {},
     "output_type": "display_data"
    },
    {
     "name": "stdout",
     "output_type": "stream",
     "text": [
      "\n",
      "TEST:\n",
      "...\n",
      "    |  F1@50 | NCRR@50 | NDCG@50 | Precision@50 | Recall@50 | Train (s) | Test (s)\n",
      "--- + ------ + ------- + ------- + ------------ + --------- + --------- + --------\n",
      "CTR | 0.0529 |  0.0292 |  0.0821 |       0.0335 |    0.2045 |  206.2163 |   1.2408\n",
      "\n",
      "\n",
      "[CTR] Training started!\n"
     ]
    },
    {
     "data": {
      "text/plain": "  0%|          | 0/50 [00:00<?, ?it/s]",
      "application/vnd.jupyter.widget-view+json": {
       "version_major": 2,
       "version_minor": 0,
       "model_id": "17670c020d784af882c1757ecdb1602c"
      }
     },
     "metadata": {},
     "output_type": "display_data"
    },
    {
     "name": "stdout",
     "output_type": "stream",
     "text": [
      "Learning completed!\n",
      "\n",
      "[CTR] Evaluation started!\n"
     ]
    },
    {
     "data": {
      "text/plain": "Ranking:   0%|          | 0/941 [00:00<?, ?it/s]",
      "application/vnd.jupyter.widget-view+json": {
       "version_major": 2,
       "version_minor": 0,
       "model_id": "c476eb0c9f6842da91befc7e6bf3b8b0"
      }
     },
     "metadata": {},
     "output_type": "display_data"
    },
    {
     "name": "stdout",
     "output_type": "stream",
     "text": [
      "\n",
      "TEST:\n",
      "...\n",
      "    |  F1@50 | NCRR@50 | NDCG@50 | Precision@50 | Recall@50 | Train (s) | Test (s)\n",
      "--- + ------ + ------- + ------- + ------------ + --------- + --------- + --------\n",
      "CTR | 0.0708 |  0.0757 |  0.1120 |       0.0509 |    0.2101 |  182.7198 |   0.6746\n",
      "\n",
      "\n",
      "[CTR] Training started!\n"
     ]
    },
    {
     "data": {
      "text/plain": "  0%|          | 0/50 [00:00<?, ?it/s]",
      "application/vnd.jupyter.widget-view+json": {
       "version_major": 2,
       "version_minor": 0,
       "model_id": "b0c76d6dad194f328812d3f4042a6b8a"
      }
     },
     "metadata": {},
     "output_type": "display_data"
    },
    {
     "name": "stdout",
     "output_type": "stream",
     "text": [
      "Learning completed!\n",
      "\n",
      "[CTR] Evaluation started!\n"
     ]
    },
    {
     "data": {
      "text/plain": "Ranking:   0%|          | 0/941 [00:00<?, ?it/s]",
      "application/vnd.jupyter.widget-view+json": {
       "version_major": 2,
       "version_minor": 0,
       "model_id": "de6e46f7a768464cbe549ecb71db023f"
      }
     },
     "metadata": {},
     "output_type": "display_data"
    },
    {
     "name": "stdout",
     "output_type": "stream",
     "text": [
      "\n",
      "TEST:\n",
      "...\n",
      "    |  F1@50 | NCRR@50 | NDCG@50 | Precision@50 | Recall@50 | Train (s) | Test (s)\n",
      "--- + ------ + ------- + ------- + ------------ + --------- + --------- + --------\n",
      "CTR | 0.0754 |  0.0971 |  0.1242 |       0.0564 |    0.2041 |  149.6774 |   1.0108\n",
      "\n"
     ]
    }
   ],
   "source": [
    "# Instantiate CTR model\n",
    "# Vary lambda_v={0.01, 0.1, 1, 10, 100, 1000, 10000}\n",
    "# @TOPk=50, latent_factors=200\n",
    "lambda_v = [0.01, 0.1, 1, 10, 100, 1000, 10000]\n",
    "ctr_lambda_v = [CTR(k=200, max_iter=50, lambda_v=v) for v in lambda_v]\n",
    "def run_ctr_v(ctr_lambda_v):\n",
    "    # Use Recall@300 for evaluation\n",
    "    rec_50 = cornac.metrics.Recall(k=50)\n",
    "    precision_50 = cornac.metrics.Precision(k=50)\n",
    "    f1_50 = cornac.metrics.FMeasure(k=50)\n",
    "    NDCG_50 = cornac.metrics.NDCG(k=50)\n",
    "    NCRR_50 = cornac.metrics.NCRR(k=50)\n",
    "    # MRR_50 = cornac.metrics.MRR(k=50)\n",
    "    # MeasureAtK_50 = cornac.metrics.MeasureAtK(k=50)\n",
    "    # AUC_50 = cornac.metrics.AUC(k=50)\n",
    "    # MAP = cornac.metrics.AUC(k=50)\n",
    "    # Put everything together into an experiment and run it\n",
    "    cornac.Experiment(eval_method=movieslens100K_ratio_split,\n",
    "                      models=[ctr_lambda_v],\n",
    "                      metrics=[rec_50, precision_50, f1_50, NDCG_50, NCRR_50]).run()\n",
    "\n",
    "for ctr_v in ctr_lambda_v:\n",
    "    run_ctr_v(ctr_v)"
   ],
   "metadata": {
    "collapsed": false
   }
  },
  {
   "cell_type": "markdown",
   "source": [
    "### citeulike"
   ],
   "metadata": {
    "collapsed": false
   }
  },
  {
   "cell_type": "code",
   "execution_count": 6,
   "outputs": [
    {
     "name": "stdout",
     "output_type": "stream",
     "text": [
      "rating_threshold = 1.0\n",
      "exclude_unknowns = True\n"
     ]
    },
    {
     "name": "stderr",
     "output_type": "stream",
     "text": [
      "/Users/pigr/cornac/lib/python3.10/site-packages/cornac/data/dataset.py:361: UserWarning: 18 duplicated observations are removed!\n",
      "  warnings.warn(\"%d duplicated observations are removed!\" % dup_count)\n"
     ]
    },
    {
     "name": "stdout",
     "output_type": "stream",
     "text": [
      "---\n",
      "Training data:\n",
      "Number of users = 5551\n",
      "Number of items = 16949\n",
      "Number of ratings = 168396\n",
      "Max rating = 1.0\n",
      "Min rating = 1.0\n",
      "Global mean = 1.0\n",
      "---\n",
      "Test data:\n",
      "Number of users = 5444\n",
      "Number of items = 14146\n",
      "Number of ratings = 42053\n",
      "Number of unknown users = 0\n",
      "Number of unknown items = 0\n",
      "---\n",
      "Total users = 5551\n",
      "Total items = 16949\n"
     ]
    },
    {
     "name": "stderr",
     "output_type": "stream",
     "text": [
      "/Users/pigr/cornac/lib/python3.10/site-packages/cornac/data/dataset.py:361: UserWarning: 5 duplicated observations are removed!\n",
      "  warnings.warn(\"%d duplicated observations are removed!\" % dup_count)\n"
     ]
    }
   ],
   "source": [
    "# citeulike dataset\n",
    "docs_citeulike, item_ids_citeulike = cornac.datasets.citeulike.load_text()\n",
    "feedback_citeulike = cornac.datasets.citeulike.load_feedback(reader=Reader(item_set=item_ids_citeulike))\n",
    "citeulike_item_text_modality = TextModality(\n",
    "    corpus=docs_citeulike,\n",
    "    ids=item_ids_citeulike,\n",
    "    tokenizer=BaseTokenizer(sep=\" \", stop_words=\"english\"),\n",
    "    max_vocab=8000,\n",
    "    max_doc_freq=0.5,\n",
    ")\n",
    "# Define an evaluation method to split feedback into train and test sets\n",
    "citeulike_ratio_split = RatioSplit(\n",
    "    data=feedback_citeulike,\n",
    "    test_size=0.2,\n",
    "    exclude_unknowns=True,\n",
    "    item_text=citeulike_item_text_modality,\n",
    "    verbose=True,\n",
    "    seed=123,\n",
    "    rating_threshold=1,\n",
    ")"
   ],
   "metadata": {
    "collapsed": false
   }
  },
  {
   "cell_type": "code",
   "execution_count": 7,
   "outputs": [
    {
     "name": "stdout",
     "output_type": "stream",
     "text": [
      "\n",
      "[CTR] Training started!\n"
     ]
    },
    {
     "data": {
      "text/plain": "  0%|          | 0/50 [00:00<?, ?it/s]",
      "application/vnd.jupyter.widget-view+json": {
       "version_major": 2,
       "version_minor": 0,
       "model_id": "e327d899832945d5b08e16ea8a72aecc"
      }
     },
     "metadata": {},
     "output_type": "display_data"
    },
    {
     "name": "stdout",
     "output_type": "stream",
     "text": [
      "Learning completed!\n",
      "\n",
      "[CTR] Evaluation started!\n"
     ]
    },
    {
     "data": {
      "text/plain": "Ranking:   0%|          | 0/5444 [00:00<?, ?it/s]",
      "application/vnd.jupyter.widget-view+json": {
       "version_major": 2,
       "version_minor": 0,
       "model_id": "e0b95baeb93e4ec2ab30c2551e5098d3"
      }
     },
     "metadata": {},
     "output_type": "display_data"
    },
    {
     "name": "stdout",
     "output_type": "stream",
     "text": [
      "\n",
      "TEST:\n",
      "...\n",
      "    |  F1@50 | NCRR@50 | NDCG@50 | Precision@50 | Recall@50 | Train (s) | Test (s)\n",
      "--- + ------ + ------- + ------- + ------------ + --------- + --------- + --------\n",
      "CTR | 0.0557 |  0.0621 |  0.1274 |       0.0328 |    0.3130 | 1614.7452 |  23.6822\n",
      "\n",
      "\n",
      "[CTR] Training started!\n"
     ]
    },
    {
     "data": {
      "text/plain": "  0%|          | 0/50 [00:00<?, ?it/s]",
      "application/vnd.jupyter.widget-view+json": {
       "version_major": 2,
       "version_minor": 0,
       "model_id": "034bd29467e74ae3960b337e5719e7ed"
      }
     },
     "metadata": {},
     "output_type": "display_data"
    },
    {
     "name": "stdout",
     "output_type": "stream",
     "text": [
      "Learning completed!\n",
      "\n",
      "[CTR] Evaluation started!\n"
     ]
    },
    {
     "data": {
      "text/plain": "Ranking:   0%|          | 0/5444 [00:00<?, ?it/s]",
      "application/vnd.jupyter.widget-view+json": {
       "version_major": 2,
       "version_minor": 0,
       "model_id": "ef3f634a00144bcf940296ac0c48e489"
      }
     },
     "metadata": {},
     "output_type": "display_data"
    },
    {
     "name": "stdout",
     "output_type": "stream",
     "text": [
      "\n",
      "TEST:\n",
      "...\n",
      "    |  F1@50 | NCRR@50 | NDCG@50 | Precision@50 | Recall@50 | Train (s) | Test (s)\n",
      "--- + ------ + ------- + ------- + ------------ + --------- + --------- + --------\n",
      "CTR | 0.0558 |  0.0632 |  0.1279 |       0.0329 |    0.3120 | 1537.5242 |  22.1886\n",
      "\n",
      "\n",
      "[CTR] Training started!\n"
     ]
    },
    {
     "data": {
      "text/plain": "  0%|          | 0/50 [00:00<?, ?it/s]",
      "application/vnd.jupyter.widget-view+json": {
       "version_major": 2,
       "version_minor": 0,
       "model_id": "749310ead2dc45bdaeece115238ce7c0"
      }
     },
     "metadata": {},
     "output_type": "display_data"
    },
    {
     "name": "stdout",
     "output_type": "stream",
     "text": [
      "Learning completed!\n",
      "\n",
      "[CTR] Evaluation started!\n"
     ]
    },
    {
     "data": {
      "text/plain": "Ranking:   0%|          | 0/5444 [00:00<?, ?it/s]",
      "application/vnd.jupyter.widget-view+json": {
       "version_major": 2,
       "version_minor": 0,
       "model_id": "06688785b5214f28b2646fd69c00bd28"
      }
     },
     "metadata": {},
     "output_type": "display_data"
    },
    {
     "name": "stdout",
     "output_type": "stream",
     "text": [
      "\n",
      "TEST:\n",
      "...\n",
      "    |  F1@50 | NCRR@50 | NDCG@50 | Precision@50 | Recall@50 | Train (s) | Test (s)\n",
      "--- + ------ + ------- + ------- + ------------ + --------- + --------- + --------\n",
      "CTR | 0.0560 |  0.0622 |  0.1278 |       0.0330 |    0.3133 | 1281.8830 |  20.5793\n",
      "\n",
      "\n",
      "[CTR] Training started!\n"
     ]
    },
    {
     "data": {
      "text/plain": "  0%|          | 0/50 [00:00<?, ?it/s]",
      "application/vnd.jupyter.widget-view+json": {
       "version_major": 2,
       "version_minor": 0,
       "model_id": "233aabee92c94c9b9ad377d28dbf0b9f"
      }
     },
     "metadata": {},
     "output_type": "display_data"
    },
    {
     "name": "stdout",
     "output_type": "stream",
     "text": [
      "Learning completed!\n",
      "\n",
      "[CTR] Evaluation started!\n"
     ]
    },
    {
     "data": {
      "text/plain": "Ranking:   0%|          | 0/5444 [00:00<?, ?it/s]",
      "application/vnd.jupyter.widget-view+json": {
       "version_major": 2,
       "version_minor": 0,
       "model_id": "2dfb4e4ce85e4a57a9e1ce796cc1043c"
      }
     },
     "metadata": {},
     "output_type": "display_data"
    },
    {
     "name": "stdout",
     "output_type": "stream",
     "text": [
      "\n",
      "TEST:\n",
      "...\n",
      "    |  F1@50 | NCRR@50 | NDCG@50 | Precision@50 | Recall@50 | Train (s) | Test (s)\n",
      "--- + ------ + ------- + ------- + ------------ + --------- + --------- + --------\n",
      "CTR | 0.0538 |  0.0588 |  0.1217 |       0.0317 |    0.3001 | 1237.6182 |  22.2591\n",
      "\n",
      "\n",
      "[CTR] Training started!\n"
     ]
    },
    {
     "data": {
      "text/plain": "  0%|          | 0/50 [00:00<?, ?it/s]",
      "application/vnd.jupyter.widget-view+json": {
       "version_major": 2,
       "version_minor": 0,
       "model_id": "d7fdfd21ef984d3c9aae9a1d719b5e68"
      }
     },
     "metadata": {},
     "output_type": "display_data"
    },
    {
     "name": "stdout",
     "output_type": "stream",
     "text": [
      "Learning completed!\n",
      "\n",
      "[CTR] Evaluation started!\n"
     ]
    },
    {
     "data": {
      "text/plain": "Ranking:   0%|          | 0/5444 [00:00<?, ?it/s]",
      "application/vnd.jupyter.widget-view+json": {
       "version_major": 2,
       "version_minor": 0,
       "model_id": "25694e3ee6434d7580fac84399e76b04"
      }
     },
     "metadata": {},
     "output_type": "display_data"
    },
    {
     "name": "stdout",
     "output_type": "stream",
     "text": [
      "\n",
      "TEST:\n",
      "...\n",
      "    |  F1@50 | NCRR@50 | NDCG@50 | Precision@50 | Recall@50 | Train (s) | Test (s)\n",
      "--- + ------ + ------- + ------- + ------------ + --------- + --------- + --------\n",
      "CTR | 0.0392 |  0.0442 |  0.0849 |       0.0240 |    0.1997 | 1402.1837 |  25.0757\n",
      "\n",
      "\n",
      "[CTR] Training started!\n"
     ]
    },
    {
     "data": {
      "text/plain": "  0%|          | 0/50 [00:00<?, ?it/s]",
      "application/vnd.jupyter.widget-view+json": {
       "version_major": 2,
       "version_minor": 0,
       "model_id": "58d19d566c184186a0bd0891353c286a"
      }
     },
     "metadata": {},
     "output_type": "display_data"
    },
    {
     "name": "stdout",
     "output_type": "stream",
     "text": [
      "Learning completed!\n",
      "\n",
      "[CTR] Evaluation started!\n"
     ]
    },
    {
     "data": {
      "text/plain": "Ranking:   0%|          | 0/5444 [00:00<?, ?it/s]",
      "application/vnd.jupyter.widget-view+json": {
       "version_major": 2,
       "version_minor": 0,
       "model_id": "741a0922c10945c89bd43f728492f2cf"
      }
     },
     "metadata": {},
     "output_type": "display_data"
    },
    {
     "name": "stdout",
     "output_type": "stream",
     "text": [
      "\n",
      "TEST:\n",
      "...\n",
      "    |  F1@50 | NCRR@50 | NDCG@50 | Precision@50 | Recall@50 | Train (s) | Test (s)\n",
      "--- + ------ + ------- + ------- + ------------ + --------- + --------- + --------\n",
      "CTR | 0.0138 |  0.0168 |  0.0271 |       0.0091 |    0.0521 | 1489.4861 |  23.6967\n",
      "\n",
      "\n",
      "[CTR] Training started!\n"
     ]
    },
    {
     "data": {
      "text/plain": "  0%|          | 0/50 [00:00<?, ?it/s]",
      "application/vnd.jupyter.widget-view+json": {
       "version_major": 2,
       "version_minor": 0,
       "model_id": "ef179bb671424b8488f978d269aafa5c"
      }
     },
     "metadata": {},
     "output_type": "display_data"
    },
    {
     "name": "stdout",
     "output_type": "stream",
     "text": [
      "Learning completed!\n",
      "\n",
      "[CTR] Evaluation started!\n"
     ]
    },
    {
     "data": {
      "text/plain": "Ranking:   0%|          | 0/5444 [00:00<?, ?it/s]",
      "application/vnd.jupyter.widget-view+json": {
       "version_major": 2,
       "version_minor": 0,
       "model_id": "889e5bc8772c46b58776e6020422b237"
      }
     },
     "metadata": {},
     "output_type": "display_data"
    },
    {
     "name": "stdout",
     "output_type": "stream",
     "text": [
      "\n",
      "TEST:\n",
      "...\n",
      "    |  F1@50 | NCRR@50 | NDCG@50 | Precision@50 | Recall@50 | Train (s) | Test (s)\n",
      "--- + ------ + ------- + ------- + ------------ + --------- + --------- + --------\n",
      "CTR | 0.0065 |  0.0076 |  0.0123 |       0.0043 |    0.0233 | 1459.8942 |  24.3071\n",
      "\n"
     ]
    }
   ],
   "source": [
    "# Instantiate CTR model\n",
    "# Vary lambda_v={0.01, 0.1, 1, 10, 100, 1000, 10000}\n",
    "# @TOPk=50, latent_factors=200\n",
    "lambda_v = [0.01, 0.1, 1, 10, 100, 1000, 10000]\n",
    "ctr_lambda_v_citeulike = [CTR(k=200, max_iter=50, lambda_v=v) for v in lambda_v]\n",
    "def run_ctr_v(ctr_lambda_v):\n",
    "    # Use Recall@300 for evaluation\n",
    "    rec_50 = cornac.metrics.Recall(k=50)\n",
    "    precision_50 = cornac.metrics.Precision(k=50)\n",
    "    f1_50 = cornac.metrics.FMeasure(k=50)\n",
    "    NDCG_50 = cornac.metrics.NDCG(k=50)\n",
    "    NCRR_50 = cornac.metrics.NCRR(k=50)\n",
    "    # MRR_50 = cornac.metrics.MRR(k=50)\n",
    "    # MeasureAtK_50 = cornac.metrics.MeasureAtK(k=50)\n",
    "    # AUC_50 = cornac.metrics.AUC(k=50)\n",
    "    # MAP = cornac.metrics.AUC(k=50)\n",
    "    # Put everything together into an experiment and run it\n",
    "    cornac.Experiment(eval_method=citeulike_ratio_split,\n",
    "                      models=[ctr_lambda_v],\n",
    "                      metrics=[rec_50, precision_50, f1_50, NDCG_50, NCRR_50]).run()\n",
    "\n",
    "for ctr_v in ctr_lambda_v_citeulike:\n",
    "    run_ctr_v(ctr_v)"
   ],
   "metadata": {
    "collapsed": false
   }
  },
  {
   "cell_type": "code",
   "execution_count": 9,
   "outputs": [
    {
     "name": "stdout",
     "output_type": "stream",
     "text": [
      "\n",
      "[CTR] Training started!\n"
     ]
    },
    {
     "data": {
      "text/plain": "  0%|          | 0/50 [00:00<?, ?it/s]",
      "application/vnd.jupyter.widget-view+json": {
       "version_major": 2,
       "version_minor": 0,
       "model_id": "ed7eaccccea94c80a7574a4d01fd6420"
      }
     },
     "metadata": {},
     "output_type": "display_data"
    },
    {
     "name": "stdout",
     "output_type": "stream",
     "text": [
      "Learning completed!\n",
      "\n",
      "[CTR] Evaluation started!\n"
     ]
    },
    {
     "data": {
      "text/plain": "Ranking:   0%|          | 0/5444 [00:00<?, ?it/s]",
      "application/vnd.jupyter.widget-view+json": {
       "version_major": 2,
       "version_minor": 0,
       "model_id": "c50ee66eb95348798e54a63e254bb80e"
      }
     },
     "metadata": {},
     "output_type": "display_data"
    },
    {
     "name": "stdout",
     "output_type": "stream",
     "text": [
      "\n",
      "TEST:\n",
      "...\n",
      "    |  F1@50 | NCRR@50 | NDCG@50 | Precision@50 | Recall@50 | Train (s) | Test (s)\n",
      "--- + ------ + ------- + ------- + ------------ + --------- + --------- + --------\n",
      "CTR | 0.0574 |  0.0763 |  0.1358 |       0.0347 |    0.3015 |  692.8992 |  20.9784\n",
      "\n"
     ]
    }
   ],
   "source": [
    "# lambda_v = 1, latent_factor = 100\n",
    "ctr_k100 = CTR(k=100, max_iter=50, lambda_v=1)\n",
    "rec_50 = cornac.metrics.Recall(k=50)\n",
    "precision_50 = cornac.metrics.Precision(k=50)\n",
    "f1_50 = cornac.metrics.FMeasure(k=50)\n",
    "NDCG_50 = cornac.metrics.NDCG(k=50)\n",
    "NCRR_50 = cornac.metrics.NCRR(k=50)\n",
    "# MRR_50 = cornac.metrics.MRR(k=50)\n",
    "# MeasureAtK_50 = cornac.metrics.MeasureAtK(k=50)\n",
    "# AUC_50 = cornac.metrics.AUC(k=50)\n",
    "# MAP = cornac.metrics.AUC(k=50)\n",
    "# Put everything together into an experiment and run it\n",
    "cornac.Experiment(eval_method=citeulike_ratio_split,\n",
    "                  models=[ctr_k100],\n",
    "                  metrics=[rec_50, precision_50, f1_50, NDCG_50, NCRR_50]).run()"
   ],
   "metadata": {
    "collapsed": false
   }
  },
  {
   "cell_type": "code",
   "execution_count": 10,
   "outputs": [
    {
     "name": "stdout",
     "output_type": "stream",
     "text": [
      "\n",
      "[CTR] Training started!\n"
     ]
    },
    {
     "data": {
      "text/plain": "  0%|          | 0/50 [00:00<?, ?it/s]",
      "application/vnd.jupyter.widget-view+json": {
       "version_major": 2,
       "version_minor": 0,
       "model_id": "ce0b932292e5446e8457fe0def2ea7d2"
      }
     },
     "metadata": {},
     "output_type": "display_data"
    },
    {
     "name": "stdout",
     "output_type": "stream",
     "text": [
      "Learning completed!\n",
      "\n",
      "[CTR] Evaluation started!\n"
     ]
    },
    {
     "data": {
      "text/plain": "Ranking:   0%|          | 0/5444 [00:00<?, ?it/s]",
      "application/vnd.jupyter.widget-view+json": {
       "version_major": 2,
       "version_minor": 0,
       "model_id": "f2d192f42f634f9181916da644494992"
      }
     },
     "metadata": {},
     "output_type": "display_data"
    },
    {
     "name": "stdout",
     "output_type": "stream",
     "text": [
      "\n",
      "TEST:\n",
      "...\n",
      "    |  F1@50 | NCRR@50 | NDCG@50 | Precision@50 | Recall@50 | Train (s) | Test (s)\n",
      "--- + ------ + ------- + ------- + ------------ + --------- + --------- + --------\n",
      "CTR | 0.0535 |  0.0735 |  0.1271 |       0.0328 |    0.2654 |  404.5894 |  20.2281\n",
      "\n"
     ]
    }
   ],
   "source": [
    "# lambda_v = 1, latent_factor = 100\n",
    "ctr_k50 = CTR(k=50, max_iter=50, lambda_v=1)\n",
    "rec_50 = cornac.metrics.Recall(k=50)\n",
    "precision_50 = cornac.metrics.Precision(k=50)\n",
    "f1_50 = cornac.metrics.FMeasure(k=50)\n",
    "NDCG_50 = cornac.metrics.NDCG(k=50)\n",
    "NCRR_50 = cornac.metrics.NCRR(k=50)\n",
    "# MRR_50 = cornac.metrics.MRR(k=50)\n",
    "# MeasureAtK_50 = cornac.metrics.MeasureAtK(k=50)\n",
    "# AUC_50 = cornac.metrics.AUC(k=50)\n",
    "# MAP = cornac.metrics.AUC(k=50)\n",
    "# Put everything together into an experiment and run it\n",
    "cornac.Experiment(eval_method=citeulike_ratio_split,\n",
    "                  models=[ctr_k50],\n",
    "                  metrics=[rec_50, precision_50, f1_50, NDCG_50, NCRR_50]).run()"
   ],
   "metadata": {
    "collapsed": false
   }
  },
  {
   "cell_type": "markdown",
   "source": [
    "### amazon-clothing"
   ],
   "metadata": {
    "collapsed": false
   }
  },
  {
   "cell_type": "code",
   "execution_count": 36,
   "outputs": [
    {
     "name": "stdout",
     "output_type": "stream",
     "text": [
      "rating_threshold = 1.0\n",
      "exclude_unknowns = True\n",
      "---\n",
      "Training data:\n",
      "Number of users = 5081\n",
      "Number of items = 3326\n",
      "Number of ratings = 10951\n",
      "Max rating = 5.0\n",
      "Min rating = 1.0\n",
      "Global mean = 4.3\n",
      "---\n",
      "Test data:\n",
      "Number of users = 1868\n",
      "Number of items = 1453\n",
      "Number of ratings = 2200\n",
      "Number of unknown users = 0\n",
      "Number of unknown items = 0\n",
      "---\n",
      "Total users = 5081\n",
      "Total items = 3326\n"
     ]
    }
   ],
   "source": [
    "# amazon_clothing dataset\n",
    "docs_clothing, item_ids_clothing = cornac.datasets.amazon_clothing.load_text()\n",
    "feedback_clothing = cornac.datasets.amazon_clothing.load_feedback(reader=Reader(item_set=item_ids_clothing))\n",
    "clothing_item_text_modality = TextModality(\n",
    "    corpus=docs_clothing,\n",
    "    ids=item_ids_clothing,\n",
    "    tokenizer=BaseTokenizer(sep=\" \", stop_words=\"english\"),\n",
    "    max_vocab=8000,\n",
    "    max_doc_freq=0.5,\n",
    ")\n",
    "# Define an evaluation method to split feedback into train and test sets\n",
    "clothing_ratio_split = RatioSplit(\n",
    "    data=feedback_clothing,\n",
    "    test_size=0.2,\n",
    "    exclude_unknowns=True,\n",
    "    item_text=clothing_item_text_modality,\n",
    "    verbose=True,\n",
    "    seed=123,\n",
    "    rating_threshold=1,\n",
    ")\n"
   ],
   "metadata": {
    "collapsed": false
   }
  },
  {
   "cell_type": "code",
   "execution_count": 38,
   "outputs": [
    {
     "name": "stdout",
     "output_type": "stream",
     "text": [
      "\n",
      "[CTR] Training started!\n"
     ]
    },
    {
     "data": {
      "text/plain": "  0%|          | 0/50 [00:00<?, ?it/s]",
      "application/vnd.jupyter.widget-view+json": {
       "version_major": 2,
       "version_minor": 0,
       "model_id": "80c8e140e4f0441f8a294fc0df6b116c"
      }
     },
     "metadata": {},
     "output_type": "display_data"
    },
    {
     "name": "stdout",
     "output_type": "stream",
     "text": [
      "Learning completed!\n",
      "\n",
      "[CTR] Evaluation started!\n"
     ]
    },
    {
     "data": {
      "text/plain": "Ranking:   0%|          | 0/1868 [00:00<?, ?it/s]",
      "application/vnd.jupyter.widget-view+json": {
       "version_major": 2,
       "version_minor": 0,
       "model_id": "c854d75682724f6e8b777043cddc03d7"
      }
     },
     "metadata": {},
     "output_type": "display_data"
    },
    {
     "name": "stdout",
     "output_type": "stream",
     "text": [
      "\n",
      "TEST:\n",
      "...\n",
      "    |  F1@50 | NCRR@50 | NDCG@50 | Precision@50 | Recall@50 | Train (s) | Test (s)\n",
      "--- + ------ + ------- + ------- + ------------ + --------- + --------- + --------\n",
      "CTR | 0.0091 |  0.0370 |  0.0714 |       0.0047 |    0.1986 |  600.7235 |   2.1312\n",
      "\n",
      "\n",
      "[CTR] Training started!\n"
     ]
    },
    {
     "data": {
      "text/plain": "  0%|          | 0/50 [00:00<?, ?it/s]",
      "application/vnd.jupyter.widget-view+json": {
       "version_major": 2,
       "version_minor": 0,
       "model_id": "c1c21eeec46447c29b19372f580ead66"
      }
     },
     "metadata": {},
     "output_type": "display_data"
    },
    {
     "name": "stdout",
     "output_type": "stream",
     "text": [
      "Learning completed!\n",
      "\n",
      "[CTR] Evaluation started!\n"
     ]
    },
    {
     "data": {
      "text/plain": "Ranking:   0%|          | 0/1868 [00:00<?, ?it/s]",
      "application/vnd.jupyter.widget-view+json": {
       "version_major": 2,
       "version_minor": 0,
       "model_id": "b7c315dfe21c4ef790d17a63a0350526"
      }
     },
     "metadata": {},
     "output_type": "display_data"
    },
    {
     "name": "stdout",
     "output_type": "stream",
     "text": [
      "\n",
      "TEST:\n",
      "...\n",
      "    |  F1@50 | NCRR@50 | NDCG@50 | Precision@50 | Recall@50 | Train (s) | Test (s)\n",
      "--- + ------ + ------- + ------- + ------------ + --------- + --------- + --------\n",
      "CTR | 0.0092 |  0.0367 |  0.0716 |       0.0047 |    0.2017 |  416.4526 |   2.0067\n",
      "\n",
      "\n",
      "[CTR] Training started!\n"
     ]
    },
    {
     "data": {
      "text/plain": "  0%|          | 0/50 [00:00<?, ?it/s]",
      "application/vnd.jupyter.widget-view+json": {
       "version_major": 2,
       "version_minor": 0,
       "model_id": "77b177a15ab148898b155a338eae530e"
      }
     },
     "metadata": {},
     "output_type": "display_data"
    },
    {
     "name": "stdout",
     "output_type": "stream",
     "text": [
      "Learning completed!\n",
      "\n",
      "[CTR] Evaluation started!\n"
     ]
    },
    {
     "data": {
      "text/plain": "Ranking:   0%|          | 0/1868 [00:00<?, ?it/s]",
      "application/vnd.jupyter.widget-view+json": {
       "version_major": 2,
       "version_minor": 0,
       "model_id": "522eabfce59a484e97cf99053928e658"
      }
     },
     "metadata": {},
     "output_type": "display_data"
    },
    {
     "name": "stdout",
     "output_type": "stream",
     "text": [
      "\n",
      "TEST:\n",
      "...\n",
      "    |  F1@50 | NCRR@50 | NDCG@50 | Precision@50 | Recall@50 | Train (s) | Test (s)\n",
      "--- + ------ + ------- + ------- + ------------ + --------- + --------- + --------\n",
      "CTR | 0.0106 |  0.0416 |  0.0817 |       0.0055 |    0.2320 |  458.3524 |   2.2192\n",
      "\n",
      "\n",
      "[CTR] Training started!\n"
     ]
    },
    {
     "data": {
      "text/plain": "  0%|          | 0/50 [00:00<?, ?it/s]",
      "application/vnd.jupyter.widget-view+json": {
       "version_major": 2,
       "version_minor": 0,
       "model_id": "cb4a0427b0084123bc4c4f0d7d016a8e"
      }
     },
     "metadata": {},
     "output_type": "display_data"
    },
    {
     "name": "stdout",
     "output_type": "stream",
     "text": [
      "Learning completed!\n",
      "\n",
      "[CTR] Evaluation started!\n"
     ]
    },
    {
     "data": {
      "text/plain": "Ranking:   0%|          | 0/1868 [00:00<?, ?it/s]",
      "application/vnd.jupyter.widget-view+json": {
       "version_major": 2,
       "version_minor": 0,
       "model_id": "b4fddebff93b4bc0a40546333c09e56b"
      }
     },
     "metadata": {},
     "output_type": "display_data"
    },
    {
     "name": "stdout",
     "output_type": "stream",
     "text": [
      "\n",
      "TEST:\n",
      "...\n",
      "    |  F1@50 | NCRR@50 | NDCG@50 | Precision@50 | Recall@50 | Train (s) | Test (s)\n",
      "--- + ------ + ------- + ------- + ------------ + --------- + --------- + --------\n",
      "CTR | 0.0123 |  0.0476 |  0.0951 |       0.0063 |    0.2694 |  416.1197 |   3.8272\n",
      "\n",
      "\n",
      "[CTR] Training started!\n"
     ]
    },
    {
     "data": {
      "text/plain": "  0%|          | 0/50 [00:00<?, ?it/s]",
      "application/vnd.jupyter.widget-view+json": {
       "version_major": 2,
       "version_minor": 0,
       "model_id": "d041e9cf8a424f68af4afa1d01bd3a3b"
      }
     },
     "metadata": {},
     "output_type": "display_data"
    },
    {
     "name": "stdout",
     "output_type": "stream",
     "text": [
      "Learning completed!\n",
      "\n",
      "[CTR] Evaluation started!\n"
     ]
    },
    {
     "data": {
      "text/plain": "Ranking:   0%|          | 0/1868 [00:00<?, ?it/s]",
      "application/vnd.jupyter.widget-view+json": {
       "version_major": 2,
       "version_minor": 0,
       "model_id": "ecd75762a7414b6ebbbe2c16a0cf78e4"
      }
     },
     "metadata": {},
     "output_type": "display_data"
    },
    {
     "name": "stdout",
     "output_type": "stream",
     "text": [
      "\n",
      "TEST:\n",
      "...\n",
      "    |  F1@50 | NCRR@50 | NDCG@50 | Precision@50 | Recall@50 | Train (s) | Test (s)\n",
      "--- + ------ + ------- + ------- + ------------ + --------- + --------- + --------\n",
      "CTR | 0.0110 |  0.0420 |  0.0837 |       0.0056 |    0.2386 |  399.8075 |   2.0019\n",
      "\n",
      "\n",
      "[CTR] Training started!\n"
     ]
    },
    {
     "data": {
      "text/plain": "  0%|          | 0/50 [00:00<?, ?it/s]",
      "application/vnd.jupyter.widget-view+json": {
       "version_major": 2,
       "version_minor": 0,
       "model_id": "33a1c2417a884860b4f320781dd9aa48"
      }
     },
     "metadata": {},
     "output_type": "display_data"
    },
    {
     "name": "stdout",
     "output_type": "stream",
     "text": [
      "Learning completed!\n",
      "\n",
      "[CTR] Evaluation started!\n"
     ]
    },
    {
     "data": {
      "text/plain": "Ranking:   0%|          | 0/1868 [00:00<?, ?it/s]",
      "application/vnd.jupyter.widget-view+json": {
       "version_major": 2,
       "version_minor": 0,
       "model_id": "f106607930114593b24172f2b7141c87"
      }
     },
     "metadata": {},
     "output_type": "display_data"
    },
    {
     "name": "stdout",
     "output_type": "stream",
     "text": [
      "\n",
      "TEST:\n",
      "...\n",
      "    |  F1@50 | NCRR@50 | NDCG@50 | Precision@50 | Recall@50 | Train (s) | Test (s)\n",
      "--- + ------ + ------- + ------- + ------------ + --------- + --------- + --------\n",
      "CTR | 0.0101 |  0.0437 |  0.0804 |       0.0052 |    0.2191 |  382.0098 |   1.9995\n",
      "\n",
      "\n",
      "[CTR] Training started!\n"
     ]
    },
    {
     "data": {
      "text/plain": "  0%|          | 0/50 [00:00<?, ?it/s]",
      "application/vnd.jupyter.widget-view+json": {
       "version_major": 2,
       "version_minor": 0,
       "model_id": "f59c135ddaf345d38065b2d8646b0863"
      }
     },
     "metadata": {},
     "output_type": "display_data"
    },
    {
     "name": "stdout",
     "output_type": "stream",
     "text": [
      "Learning completed!\n",
      "\n",
      "[CTR] Evaluation started!\n"
     ]
    },
    {
     "data": {
      "text/plain": "Ranking:   0%|          | 0/1868 [00:00<?, ?it/s]",
      "application/vnd.jupyter.widget-view+json": {
       "version_major": 2,
       "version_minor": 0,
       "model_id": "e403788c9cb54cceba9981c0d28ad90d"
      }
     },
     "metadata": {},
     "output_type": "display_data"
    },
    {
     "name": "stdout",
     "output_type": "stream",
     "text": [
      "\n",
      "TEST:\n",
      "...\n",
      "    |  F1@50 | NCRR@50 | NDCG@50 | Precision@50 | Recall@50 | Train (s) | Test (s)\n",
      "--- + ------ + ------- + ------- + ------------ + --------- + --------- + --------\n",
      "CTR | 0.0099 |  0.0417 |  0.0786 |       0.0051 |    0.2162 |  419.8967 |   3.9694\n",
      "\n"
     ]
    }
   ],
   "source": [
    "# Instantiate CTR model\n",
    "# Vary lambda_v={0.01, 0.1, 1, 10, 100, 1000, 10000}\n",
    "# @TOPk=50, latent_factors=200\n",
    "lambda_v = [0.01, 0.1, 1, 10, 100, 1000, 10000]\n",
    "ctr_lambda_v_clothing = [CTR(k=200, max_iter=50, lambda_v=v) for v in lambda_v]\n",
    "def run_ctr_v(ctr_lambda_v):\n",
    "    # Use Recall@300 for evaluation\n",
    "    rec_50 = cornac.metrics.Recall(k=50)\n",
    "    precision_50 = cornac.metrics.Precision(k=50)\n",
    "    f1_50 = cornac.metrics.FMeasure(k=50)\n",
    "    NDCG_50 = cornac.metrics.NDCG(k=50)\n",
    "    NCRR_50 = cornac.metrics.NCRR(k=50)\n",
    "    # MRR_50 = cornac.metrics.MRR(k=50)\n",
    "    # MeasureAtK_50 = cornac.metrics.MeasureAtK(k=50)\n",
    "    # AUC_50 = cornac.metrics.AUC(k=50)\n",
    "    # MAP = cornac.metrics.AUC(k=50)\n",
    "    # Put everything together into an experiment and run it\n",
    "    cornac.Experiment(eval_method=clothing_ratio_split,\n",
    "                      models=[ctr_lambda_v],\n",
    "                      metrics=[rec_50, precision_50, f1_50, NDCG_50, NCRR_50]).run()\n",
    "\n",
    "for ctr_v in ctr_lambda_v_clothing:\n",
    "    run_ctr_v(ctr_v)"
   ],
   "metadata": {
    "collapsed": false
   }
  },
  {
   "cell_type": "code",
   "execution_count": null,
   "outputs": [],
   "source": [],
   "metadata": {
    "collapsed": false
   }
  },
  {
   "cell_type": "code",
   "execution_count": 14,
   "outputs": [],
   "source": [
    "# This class is just convenient for getting two lists as inputs of the calibration metric computation\n",
    "class Retrieval:\n",
    "\n",
    "    def __init__(self, model, item_df, UIDX, TOPK) -> None:\n",
    "        self.model = model\n",
    "        self.item_df = item_df\n",
    "        self.UIDX = UIDX\n",
    "        self.TOPK = TOPK\n",
    "\n",
    "    def convert_idx_id(self):\n",
    "        # conversion between idx and id\n",
    "        rating_mat = self.model.train_set.matrix\n",
    "        user_id2idx = self.model.train_set.uid_map\n",
    "        user_idx2id = list(self.model.train_set.user_ids)\n",
    "        item_id2idx = self.model.train_set.iid_map\n",
    "        item_idx2id = list(self.model.train_set.item_ids)\n",
    "\n",
    "        return rating_mat, user_id2idx, user_idx2id, item_id2idx, item_idx2id\n",
    "\n",
    "    def get_recy(self):\n",
    "        item_idx2id = self.convert_idx_id()[4]\n",
    "        recommendations = self.model.rank(self.UIDX)[0]\n",
    "        distr = self.item_df.loc[[int(item_idx2id[i]) for i in recommendations[:self.TOPK]]]\n",
    "        dict = {}\n",
    "        for index, row in distr.items():\n",
    "            dict[index] = np.count_nonzero(np.array(row))\n",
    "        del dict['Title']\n",
    "        del dict['Release Date']\n",
    "\n",
    "        return dict\n",
    "\n",
    "    def get_history(self):\n",
    "        item_idx2id = self.convert_idx_id()[4]\n",
    "        rating_mat = self.convert_idx_id()[0]\n",
    "        rating_arr = rating_mat[self.UIDX].A.ravel()\n",
    "        top_rated_items = np.argsort(rating_arr)[-self.TOPK:]\n",
    "        distr = self.item_df.loc[[int(item_idx2id[i]) for i in top_rated_items]]\n",
    "        dict = {}\n",
    "        for index, row in distr.items():\n",
    "            dict[index] = np.count_nonzero(np.array(row))\n",
    "        del dict['Title']\n",
    "        del dict['Release Date']\n",
    "\n",
    "        return dict"
   ],
   "metadata": {
    "collapsed": false
   }
  },
  {
   "cell_type": "code",
   "execution_count": 21,
   "outputs": [],
   "source": [
    "def compute_kl_divergence(s, q, alpha=0.001):\n",
    "    \"\"\"\n",
    "      params: s, q - two distributions (dict)\n",
    "\n",
    "      KL (p || q), the lower the better.\n",
    "      alpha is not really a tuning parameter, it's just there to make the\n",
    "      computation more numerically stable.\n",
    "    \"\"\"\n",
    "    try:\n",
    "      assert 0.99 <= sum(s.values()) <= 1.01\n",
    "      assert 0.99 <= sum(q.values()) <= 1.01\n",
    "    except AssertionError:\n",
    "      print(\"Assertion Error\")\n",
    "      pass\n",
    "    kl_div = 0.\n",
    "    ss = []\n",
    "    qq = []\n",
    "    merged_dic = opt_merge_max_mappings(s, q)\n",
    "    for key in sorted(merged_dic.keys()):\n",
    "      q_score = q.get(key, 0.)\n",
    "      s_score = s.get(key, 0.)\n",
    "      ss.append((1 - alpha) * s_score + alpha * q_score) # avoid misspecified metrics\n",
    "      qq.append((1 - alpha) * q_score + alpha * s_score) # avoid misspecified metrics\n",
    "    kl = entropy(ss, qq, base=2)\n",
    "    return kl\n",
    "\n",
    "def opt_merge_max_mappings(dict1, dict2):\n",
    "    \"\"\" Merges two dictionaries based on the largest value in a given mapping.\n",
    "    Parameters\n",
    "    ----------\n",
    "    dict1 : Dict[Any, Comparable]\n",
    "    dict2 : Dict[Any, Comparable]\n",
    "    Returns\n",
    "    -------\n",
    "    Dict[Any, Comparable]\n",
    "        The merged dictionary\n",
    "    \"\"\"\n",
    "    # we will iterate over `other` to populate `merged`\n",
    "    merged, other = (dict1, dict2) if len(dict1) > len(dict2) else (dict2, dict1)\n",
    "    merged = merged\n",
    "    for key in other:\n",
    "      if key not in merged or other[key] > merged[key]:\n",
    "        merged[key] = other[key]\n",
    "    return merged\n",
    "\n",
    "def compute_distr(distr):\n",
    "    \"\"\"Compute the categorical distribution from a given list of Items.\n",
    "\n",
    "    Returns\n",
    "    -------\n",
    "    dist [dict]: dictionary of feature distributions\n",
    "\n",
    "    \"\"\"\n",
    "\n",
    "    # normalize the summed up probability, so it sums up to 1\n",
    "    total_n = sum(list(distr.values()))\n",
    "    for item, count in distr.items():\n",
    "        distr[item] = count / total_n\n",
    "\n",
    "    return distr"
   ],
   "metadata": {
    "collapsed": false
   }
  },
  {
   "cell_type": "code",
   "execution_count": 11,
   "outputs": [],
   "source": [
    "from cornac.utils import cache\n",
    "\n",
    "# Download some information of MovieLens 100K dataset\n",
    "user_df = pd.read_csv(\n",
    "  cache(\"http://files.grouplens.org/datasets/movielens/ml-100k/u.user\"),\n",
    "  sep=\"|\", names=[\"UserID\", \"Age\", \"Gender\", \"Occupation\", \"Zip Code\"]\n",
    ").set_index(\"UserID\")\n",
    "\n",
    "item_df = pd.read_csv(\n",
    "  cache(\"http://files.grouplens.org/datasets/movielens/ml-100k/u.item\"),\n",
    "  sep=\"|\", encoding=\"ISO-8859-1\",\n",
    "  names=[\"ItemID\", \"Title\", \"Release Date\", \"Video Release Date\", \"IMDb URL\",\n",
    "         \"unknown\", \"Action\", \"Adventure\", \"Animation\", \"Children's\", \"Comedy\",\n",
    "         \"Crime\", \"Documentary\", \"Drama\", \"Fantasy\", \"Film-Noir\", \"Horror\",\n",
    "         \"Musical\", \"Mystery\", \"Romance\", \"Sci-Fi\", \"Thriller\", \"War\", \"Western\"]\n",
    ").set_index(\"ItemID\").drop(columns=[\"Video Release Date\", \"IMDb URL\", \"unknown\"])"
   ],
   "metadata": {
    "collapsed": false
   }
  },
  {
   "cell_type": "code",
   "execution_count": 12,
   "outputs": [
    {
     "data": {
      "text/plain": "1682"
     },
     "execution_count": 12,
     "metadata": {},
     "output_type": "execute_result"
    }
   ],
   "source": [
    "len(item_df.index)"
   ],
   "metadata": {
    "collapsed": false
   }
  },
  {
   "cell_type": "code",
   "execution_count": 25,
   "outputs": [],
   "source": [
    "models = ctr_lambda_v\n",
    "avg_result = []\n",
    "for model in models: # for a specific model\n",
    "    for i in range(len(set(user_df.index))):  # get the average result for all users\n",
    "        result = []\n",
    "        r = Retrieval(model=model, item_df=item_df, UIDX=i, TOPK=50)\n",
    "        recommendation = compute_distr(r.get_recy())\n",
    "        history = compute_distr(r.get_history())\n",
    "        result.append(compute_kl_divergence(recommendation, history, alpha=0.001))\n",
    "    avg_result.append(np.mean(result))\n"
   ],
   "metadata": {
    "collapsed": false
   }
  },
  {
   "cell_type": "code",
   "execution_count": 26,
   "outputs": [
    {
     "data": {
      "text/plain": "[0.07604651682090911,\n 0.07019727401332852,\n 0.051785740781790865,\n 0.061424307843017466,\n 0.06250782182196596,\n 0.08999826171890993,\n 0.09598998221391099]"
     },
     "execution_count": 26,
     "metadata": {},
     "output_type": "execute_result"
    }
   ],
   "source": [
    "avg_result"
   ],
   "metadata": {
    "collapsed": false
   }
  },
  {
   "cell_type": "code",
   "execution_count": 33,
   "outputs": [
    {
     "data": {
      "text/plain": "<Figure size 640x480 with 1 Axes>",
      "image/png": "[encoded data removed]"
     },
     "metadata": {},
     "output_type": "display_data"
    }
   ],
   "source": [
    "import matplotlib.pyplot as plt\n",
    "lambda_v = [0.01, 0.1, 1, 10, 100, 1000, 10000]\n",
    "x = np.arange(len(lambda_v))\n",
    "recall_movielens = [0.1137,0.1129,0.1198,0.1494,0.2045,0.2101,0.2041]\n",
    "precision_movielens = [0.0142,0.0143,0.0151,0.0195,0.0335,0.0509,0.0564]\n",
    "ndcg_movielens = [0.0403,0.0402,0.0425,0.0540,0.0821,0.1120,0.1242]\n",
    "ncrr_movielens = [0.0091,0.0090,0.0095,0.0126,0.0292,0.0757,0.0971]\n",
    "f1_movielens = [0.0244,0.0246,0.0260,0.0331,0.0529,0.0708,0.0754]\n",
    "plt.plot(x, recall_movielens, marker='o', label=\"recall\")\n",
    "plt.plot(x, precision_movielens, marker='o', label=\"precision\")\n",
    "plt.plot(x, ndcg_movielens, marker='o', label=\"NDCG\")\n",
    "plt.plot(x, ncrr_movielens, marker='o', label=\"NCRR\")\n",
    "plt.plot(x, f1_movielens, marker='o', label=\"F1\")\n",
    "plt.plot(x, avg_result, marker='o', label=\"calibration diversity\")\n",
    "plt.xticks(x,['0.01', '0.1', '1', '10', '100', '1000', '10000'])\n",
    "plt.legend(loc=\"best\")\n",
    "plt.xlabel(\"lambda v\")\n",
    "plt.title('movielens-100K')\n",
    "plt.show()"
   ],
   "metadata": {
    "collapsed": false
   }
  },
  {
   "cell_type": "code",
   "execution_count": 35,
   "outputs": [
    {
     "data": {
      "text/plain": "<Figure size 640x480 with 1 Axes>",
      "image/png": "[encoded data removed]"
     },
     "metadata": {},
     "output_type": "display_data"
    }
   ],
   "source": [
    "lambda_v = [0.01, 0.1, 1, 10, 100, 1000, 10000]\n",
    "x = np.arange(len(lambda_v))\n",
    "recall_citeulike = [0.3130,0.3120,0.3133,0.3001,0.1997,0.0521,0.0233]\n",
    "precision_citeulike = [0.0328,0.0329,0.0330,0.0317,0.0240,0.0091,0.0043]\n",
    "ndcg_citeulike = [0.1274,0.1279,0.1278,0.1217,0.0849,0.0271,0.0123]\n",
    "ncrr_citeulike = [0.0621,0.0632,0.0622,0.0588,0.0442,0.0168,0.0076]\n",
    "f1_citeulike = [0.0557,0.0558,0.0560,0.0538,0.0392,0.0138,0.0065]\n",
    "plt.plot(x, recall_citeulike, marker='o', label=\"recall\")\n",
    "plt.plot(x, precision_citeulike, marker='o', label=\"precision\")\n",
    "plt.plot(x, ndcg_citeulike, marker='o', label=\"NDCG\")\n",
    "plt.plot(x, ncrr_citeulike, marker='o', label=\"NCRR\")\n",
    "plt.plot(x, f1_citeulike, marker='o', label=\"F1\")\n",
    "# plt.plot(x, avg_result, marker='o', label=\"calibration diversity\")\n",
    "plt.xticks(x,['0.01', '0.1', '1', '10', '100', '1000', '10000'])\n",
    "plt.legend(loc=\"best\")\n",
    "plt.xlabel(\"lambda v\")\n",
    "plt.title('citeulike')\n",
    "plt.show()"
   ],
   "metadata": {
    "collapsed": false
   }
  },
  {
   "cell_type": "code",
   "execution_count": 39,
   "outputs": [
    {
     "data": {
      "text/plain": "<Figure size 640x480 with 1 Axes>",
      "image/png": "[encoded data removed]"
     },
     "metadata": {},
     "output_type": "display_data"
    }
   ],
   "source": [
    "lambda_v = [0.01, 0.1, 1, 10, 100, 1000, 10000]\n",
    "x = np.arange(len(lambda_v))\n",
    "recall_clothing = [0.1986,0.2017,0.2320,0.2694,0.2386,0.2191,0.2162]\n",
    "precision_clothing = [0.0047,0.0047,0.0055,0.0063,0.0056,0.0052,0.0051]\n",
    "ndcg_clothing = [0.0714,0.0716,0.0817,0.0951,0.0837,0.0804,0.0786]\n",
    "ncrr_clothing = [0.0370,0.0367,0.0416,0.0476,0.0420,0.0437,0.0417]\n",
    "f1_clothing = [0.0091,0.0092,0.0106,0.0123,0.0110,0.0101,0.0099]\n",
    "plt.plot(x, recall_clothing, marker='o', label=\"recall\")\n",
    "plt.plot(x, precision_clothing, marker='o', label=\"precision\")\n",
    "plt.plot(x, ndcg_clothing, marker='o', label=\"NDCG\")\n",
    "plt.plot(x, ncrr_clothing, marker='o', label=\"NCRR\")\n",
    "plt.plot(x, f1_clothing, marker='o', label=\"F1\")\n",
    "# plt.plot(x, avg_result, marker='o', label=\"calibration diversity\")\n",
    "plt.xticks(x,['0.01', '0.1', '1', '10', '100', '1000', '10000'])\n",
    "plt.legend(loc=\"best\")\n",
    "plt.xlabel(\"lambda v\")\n",
    "plt.title('amazon clothing')\n",
    "plt.show()"
   ],
   "metadata": {
    "collapsed": false
   }
  },
  {
   "cell_type": "code",
   "execution_count": null,
   "outputs": [],
   "source": [],
   "metadata": {
    "collapsed": false
   }
  }
 ],
 "metadata": {
  "kernelspec": {
   "display_name": "Python 3",
   "language": "python",
   "name": "python3"
  },
  "language_info": {
   "codemirror_mode": {
    "name": "ipython",
    "version": 2
   },
   "file_extension": ".py",
   "mimetype": "text/x-python",
   "name": "python",
   "nbconvert_exporter": "python",
   "pygments_lexer": "ipython2",
   "version": "2.7.6"
  }
 },
 "nbformat": 4,
 "nbformat_minor": 0
}
