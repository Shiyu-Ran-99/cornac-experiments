{
 "cells": [
  {
   "cell_type": "code",
   "execution_count": 75,
   "metadata": {
    "collapsed": true
   },
   "outputs": [],
   "source": [
    "import numpy as np\n",
    "import pandas as pd\n",
    "from scipy.stats import entropy\n",
    "import matplotlib.pyplot as plt\n",
    "import random\n",
    "\n",
    "import cornac\n",
    "from cornac.eval_methods import RatioSplit\n",
    "from cornac.data import TextModality\n",
    "from cornac.data.text import BaseTokenizer\n",
    "from cornac.models import CTR"
   ]
  },
  {
   "cell_type": "code",
   "execution_count": 2,
   "outputs": [
    {
     "data": {
      "text/plain": "  user_id item_id  rating        date category  \\\n0  U13740  N55189       1  2019-10-15       tv   \n1  U13740  N42782       1  2019-10-19   sports   \n\n                                             url  \\\n0  https://assets.msn.com/labs/mind/AAIORni.html   \n1  https://assets.msn.com/labs/mind/AAJ1mE9.html   \n\n                                                text  \\\n0  We’d like to solve the puzzle, Pat: Blair Davi...   \n1  The Yankees forced a Game 6 on Friday as it to...   \n\n                                            entities  sentiment  complexity  \\\n0  [{'text': 'Cardiff', 'alternative': ['Cardiff'...   0.091856       62.17   \n1  [{'text': 'second', 'alternative': ['second'],...   0.028105       73.92   \n\n   publication_date                                      entities_base  \\\n0      1.571098e+12  [{'text': 'Pat', 'start_char': 31, 'end_char':...   \n1      1.571443e+12  [{'text': 'Yankees', 'start_char': 4, 'end_cha...   \n\n                                   enriched_entities  story  \n0  [{'text': 'Cardiff', 'alternative': ['Cardiff'...    766  \n1  [{'text': 'second', 'alternative': ['second'],...    444  ",
      "text/html": "<div>\n<style scoped>\n    .dataframe tbody tr th:only-of-type {\n        vertical-align: middle;\n    }\n\n    .dataframe tbody tr th {\n        vertical-align: top;\n    }\n\n    .dataframe thead th {\n        text-align: right;\n    }\n</style>\n<table border=\"1\" class=\"dataframe\">\n  <thead>\n    <tr style=\"text-align: right;\">\n      <th></th>\n      <th>user_id</th>\n      <th>item_id</th>\n      <th>rating</th>\n      <th>date</th>\n      <th>category</th>\n      <th>url</th>\n      <th>text</th>\n      <th>entities</th>\n      <th>sentiment</th>\n      <th>complexity</th>\n      <th>publication_date</th>\n      <th>entities_base</th>\n      <th>enriched_entities</th>\n      <th>story</th>\n    </tr>\n  </thead>\n  <tbody>\n    <tr>\n      <th>0</th>\n      <td>U13740</td>\n      <td>N55189</td>\n      <td>1</td>\n      <td>2019-10-15</td>\n      <td>tv</td>\n      <td>https://assets.msn.com/labs/mind/AAIORni.html</td>\n      <td>We’d like to solve the puzzle, Pat: Blair Davi...</td>\n      <td>[{'text': 'Cardiff', 'alternative': ['Cardiff'...</td>\n      <td>0.091856</td>\n      <td>62.17</td>\n      <td>1.571098e+12</td>\n      <td>[{'text': 'Pat', 'start_char': 31, 'end_char':...</td>\n      <td>[{'text': 'Cardiff', 'alternative': ['Cardiff'...</td>\n      <td>766</td>\n    </tr>\n    <tr>\n      <th>1</th>\n      <td>U13740</td>\n      <td>N42782</td>\n      <td>1</td>\n      <td>2019-10-19</td>\n      <td>sports</td>\n      <td>https://assets.msn.com/labs/mind/AAJ1mE9.html</td>\n      <td>The Yankees forced a Game 6 on Friday as it to...</td>\n      <td>[{'text': 'second', 'alternative': ['second'],...</td>\n      <td>0.028105</td>\n      <td>73.92</td>\n      <td>1.571443e+12</td>\n      <td>[{'text': 'Yankees', 'start_char': 4, 'end_cha...</td>\n      <td>[{'text': 'second', 'alternative': ['second'],...</td>\n      <td>444</td>\n    </tr>\n  </tbody>\n</table>\n</div>"
     },
     "execution_count": 2,
     "metadata": {},
     "output_type": "execute_result"
    }
   ],
   "source": [
    "mind = pd.read_csv('dataset/mind_algorithm_test.csv')\n",
    "mind['story'] = mind['story'].astype('int')\n",
    "mind.head(2)"
   ],
   "metadata": {
    "collapsed": false
   }
  },
  {
   "cell_type": "code",
   "execution_count": 3,
   "outputs": [
    {
     "name": "stderr",
     "output_type": "stream",
     "text": [
      "/Users/pigr/cornac/lib/python3.10/site-packages/cornac/data/dataset.py:361: UserWarning: 77 duplicated observations are removed!\n",
      "  warnings.warn(\"%d duplicated observations are removed!\" % dup_count)\n",
      "/Users/pigr/cornac/lib/python3.10/site-packages/cornac/data/dataset.py:361: UserWarning: 3 duplicated observations are removed!\n",
      "  warnings.warn(\"%d duplicated observations are removed!\" % dup_count)\n"
     ]
    }
   ],
   "source": [
    "# pre-process data to initialize ctr model\n",
    "mind_feedback = mind.loc[:, ['user_id','item_id','rating']]\n",
    "# feedback = cornac.data.Dataset.from_uir(mind_feedback.itertuples(index=False))\n",
    "feedback = mind_feedback.apply(lambda x: tuple(x), axis=1).values.tolist()\n",
    "text = list(mind['text'])\n",
    "item_ids = list(mind['item_id'])\n",
    "# Instantiate a TextModality, it makes it convenient to work with text auxiliary information\n",
    "item_text_modality = TextModality(\n",
    "    corpus=text,\n",
    "    ids=item_ids,\n",
    "    tokenizer=BaseTokenizer(sep=\" \", stop_words=\"english\"),\n",
    "    max_vocab=8000,\n",
    "    max_doc_freq=0.5,\n",
    ")\n",
    "\n",
    "# Define an evaluation method to split feedback into train and test sets\n",
    "ratio_split = RatioSplit(\n",
    "    data=feedback,\n",
    "    test_size=0.2,\n",
    "    exclude_unknowns=True,\n",
    "    item_text=item_text_modality,\n",
    "    verbose=False,\n",
    "    seed=123,\n",
    "    rating_threshold=0.5,\n",
    ")"
   ],
   "metadata": {
    "collapsed": false
   }
  },
  {
   "cell_type": "markdown",
   "source": [
    "## Implement different epochs"
   ],
   "metadata": {
    "collapsed": false
   }
  },
  {
   "cell_type": "code",
   "execution_count": 4,
   "outputs": [
    {
     "data": {
      "text/plain": "  0%|          | 0/1 [00:00<?, ?it/s]",
      "application/vnd.jupyter.widget-view+json": {
       "version_major": 2,
       "version_minor": 0,
       "model_id": "2a1f2c4216d547999f9b7b70cd788620"
      }
     },
     "metadata": {},
     "output_type": "display_data"
    },
    {
     "name": "stdout",
     "output_type": "stream",
     "text": [
      "Learning completed!\n"
     ]
    },
    {
     "data": {
      "text/plain": "  0%|          | 0/25 [00:00<?, ?it/s]",
      "application/vnd.jupyter.widget-view+json": {
       "version_major": 2,
       "version_minor": 0,
       "model_id": "5cfa78e338b248f6be24036b8c39d644"
      }
     },
     "metadata": {},
     "output_type": "display_data"
    },
    {
     "name": "stdout",
     "output_type": "stream",
     "text": [
      "Learning completed!\n"
     ]
    },
    {
     "data": {
      "text/plain": "  0%|          | 0/50 [00:00<?, ?it/s]",
      "application/vnd.jupyter.widget-view+json": {
       "version_major": 2,
       "version_minor": 0,
       "model_id": "02d40f81eddd438db8437ccc5a613101"
      }
     },
     "metadata": {},
     "output_type": "display_data"
    },
    {
     "name": "stdout",
     "output_type": "stream",
     "text": [
      "Learning completed!\n"
     ]
    },
    {
     "data": {
      "text/plain": "  0%|          | 0/100 [00:00<?, ?it/s]",
      "application/vnd.jupyter.widget-view+json": {
       "version_major": 2,
       "version_minor": 0,
       "model_id": "ff037b095a0940588f93aae09da76660"
      }
     },
     "metadata": {},
     "output_type": "display_data"
    },
    {
     "name": "stdout",
     "output_type": "stream",
     "text": [
      "Learning completed!\n"
     ]
    },
    {
     "data": {
      "text/plain": "  0%|          | 0/150 [00:00<?, ?it/s]",
      "application/vnd.jupyter.widget-view+json": {
       "version_major": 2,
       "version_minor": 0,
       "model_id": "cb60cc3b72614bd094f3ad3ab7c4d978"
      }
     },
     "metadata": {},
     "output_type": "display_data"
    },
    {
     "name": "stdout",
     "output_type": "stream",
     "text": [
      "Learning completed!\n"
     ]
    },
    {
     "data": {
      "text/plain": "  0%|          | 0/200 [00:00<?, ?it/s]",
      "application/vnd.jupyter.widget-view+json": {
       "version_major": 2,
       "version_minor": 0,
       "model_id": "657a67e3e67d46d1a10a78167ae74cb0"
      }
     },
     "metadata": {},
     "output_type": "display_data"
    },
    {
     "name": "stdout",
     "output_type": "stream",
     "text": [
      "Learning completed!\n",
      "\n",
      "TEST:\n",
      "...\n",
      "    | Recall@200 | Train (s) | Test (s)\n",
      "--- + ---------- + --------- + --------\n",
      "CTR |     0.1275 |   13.1068 |   0.2257\n",
      "CTR |     0.1376 |  215.8241 |   0.1788\n",
      "CTR |     0.1467 |  394.2349 |   0.1539\n",
      "CTR |     0.1443 |  827.0982 |   0.1885\n",
      "CTR |     0.1384 | 1164.2587 |   0.1522\n",
      "CTR |     0.1061 |  972.4349 |   0.0826\n",
      "\n"
     ]
    }
   ],
   "source": [
    "# Instantiate CTR model\n",
    "# Vary epochs = {1, 25, 50, 100, 150, 200}\n",
    "ctr_iter_1 = CTR(k=200, max_iter=1, lambda_v=0.01)\n",
    "ctr_iter_25 = CTR(k=200, max_iter=25, lambda_v=0.01)\n",
    "ctr_iter_50 = CTR(k=200, max_iter=50, lambda_v=0.01)\n",
    "ctr_iter_100 = CTR(k=200, max_iter=100, lambda_v=0.01)\n",
    "ctr_iter_150 = CTR(k=200, max_iter=150, lambda_v=0.01)\n",
    "ctr_iter_200 = CTR(k=200, max_iter=200, lambda_v=0.01)\n",
    "\n",
    "# Use Recall@200 for evaluation\n",
    "rec_200 = cornac.metrics.Recall(k=200)\n",
    "\n",
    "# Put everything together into an experiment and run it\n",
    "cornac.Experiment(eval_method=ratio_split,\n",
    "                  models=[ctr_iter_1, ctr_iter_25, ctr_iter_50, ctr_iter_100, ctr_iter_150, ctr_iter_200],\n",
    "                  metrics=[rec_200]).run()"
   ],
   "metadata": {
    "collapsed": false
   }
  },
  {
   "cell_type": "code",
   "execution_count": 7,
   "outputs": [
    {
     "data": {
      "text/plain": "  0%|          | 0/250 [00:00<?, ?it/s]",
      "application/vnd.jupyter.widget-view+json": {
       "version_major": 2,
       "version_minor": 0,
       "model_id": "4e4189322a804e29b90223f3278425b5"
      }
     },
     "metadata": {},
     "output_type": "display_data"
    },
    {
     "name": "stdout",
     "output_type": "stream",
     "text": [
      "Learning completed!\n"
     ]
    },
    {
     "data": {
      "text/plain": "  0%|          | 0/300 [00:00<?, ?it/s]",
      "application/vnd.jupyter.widget-view+json": {
       "version_major": 2,
       "version_minor": 0,
       "model_id": "1e5278c097ea4db3a206c96718a98e8c"
      }
     },
     "metadata": {},
     "output_type": "display_data"
    },
    {
     "name": "stdout",
     "output_type": "stream",
     "text": [
      "Learning completed!\n",
      "\n",
      "TEST:\n",
      "...\n",
      "    | Recall@200 | Train (s) | Test (s)\n",
      "--- + ---------- + --------- + --------\n",
      "CTR |     0.1157 | 1187.5574 |   0.1192\n",
      "CTR |     0.1228 | 1144.1686 |   0.0900\n",
      "\n"
     ]
    }
   ],
   "source": [
    "ctr_iter_250 = CTR(k=200, max_iter=250, lambda_v=0.01)\n",
    "ctr_iter_300 = CTR(k=200, max_iter=300, lambda_v=0.01)\n",
    "\n",
    "# Use Recall@200 for evaluation\n",
    "rec_200 = cornac.metrics.Recall(k=200)\n",
    "\n",
    "# Put everything together into an experiment and run it\n",
    "cornac.Experiment(eval_method=ratio_split,\n",
    "                  models=[ctr_iter_250, ctr_iter_300],\n",
    "                  metrics=[rec_200]).run()"
   ],
   "metadata": {
    "collapsed": false
   }
  },
  {
   "cell_type": "code",
   "execution_count": 5,
   "outputs": [],
   "source": [
    "# This class is just convenient for getting two lists as inputs of the calibration metric computation\n",
    "class Retrieval:\n",
    "\n",
    "    def __init__(self, model, data, UIDX, feature) -> None:\n",
    "        self.model = model\n",
    "        self.data = data\n",
    "        self.UIDX = UIDX\n",
    "        self.feature = feature # 'category', 'story', ...\n",
    "\n",
    "    def convert_idx_id(self):\n",
    "        # conversion between idx and id\n",
    "        rating_mat = self.model.train_set.matrix\n",
    "        user_id2idx = self.model.train_set.uid_map\n",
    "        user_idx2id = list(self.model.train_set.user_ids)\n",
    "        item_id2idx = self.model.train_set.iid_map\n",
    "        item_idx2id = list(self.model.train_set.item_ids)\n",
    "\n",
    "        return user_id2idx, user_idx2id, item_id2idx, item_idx2id\n",
    "\n",
    "    def get_recy(self):\n",
    "        recommendations_idx = self.model.rank(self.UIDX)[0]\n",
    "        item_idx2id = self.convert_idx_id()[3]\n",
    "        recommendations = [item_idx2id[idx] for idx in recommendations_idx]\n",
    "        dict = self.data.set_index(['item_id'])[self.feature].to_dict()\n",
    "        recy_list = [dict.get(item) for item in recommendations]\n",
    "\n",
    "        return recy_list\n",
    "\n",
    "    def get_history(self):\n",
    "        dict = self.data.set_index(['item_id'])[self.feature].to_dict()\n",
    "        user_id = self.convert_idx_id()[1][self.UIDX]\n",
    "        history = list(self.data[self.data['user_id']==user_id]['item_id'])\n",
    "        user_history = [dict.get(item) for item in history]\n",
    "\n",
    "        return user_history\n"
   ],
   "metadata": {
    "collapsed": false
   }
  },
  {
   "cell_type": "code",
   "execution_count": 27,
   "outputs": [],
   "source": [
    "# Compute diversity metric\n",
    "class Diversity:\n",
    "    \"\"\"Diversity Metric\n",
    "\n",
    "    Parameters\n",
    "    ----------\n",
    "    k: int or list, optional, default: -1 (all)\n",
    "    The number of items in the top@k list.\n",
    "    If None, all items will be considered.\n",
    "\n",
    "    list1: list\n",
    "    a list of features\n",
    "\n",
    "    list2: list\n",
    "    a list of features\n",
    "\n",
    "    Returns\n",
    "    ----------\n",
    "    A number: the result of the metric\n",
    "\n",
    "    \"\"\"\n",
    "\n",
    "    def __init__(self, list1, list2, k=-1):\n",
    "        self.list1 = list1[:k]\n",
    "        self.list2 = list2[:k]\n",
    "\n",
    "    def compute_distr(self, items):\n",
    "        \"\"\"Compute the categorical distribution from a given list of Items.\n",
    "\n",
    "        Parameters\n",
    "        ----------\n",
    "        items: list of features\n",
    "\n",
    "        Returns\n",
    "        -------\n",
    "        dist [dict]: dictionary of feature distributions\n",
    "\n",
    "        \"\"\"\n",
    "\n",
    "        distr = {}\n",
    "\n",
    "        for index, item in enumerate(items):\n",
    "            try:\n",
    "                count = distr.get(item, 0.)\n",
    "                distr[item] = count + 1\n",
    "            except:\n",
    "                continue\n",
    "\n",
    "        # normalize the summed up probability, so it sums up to 1\n",
    "        total_n = sum(list(distr.values()))\n",
    "        for item, count in distr.items():\n",
    "            distr[item] = count / total_n\n",
    "\n",
    "        return distr\n",
    "\n",
    "    def compute_kl_divergence(self, s, q, alpha=0.001):\n",
    "        \"\"\"\n",
    "          params: s, q - two distributions (dict)\n",
    "\n",
    "          KL (p || q), the lower the better.\n",
    "          alpha is not really a tuning parameter, it's just there to make the\n",
    "          computation more numerically stable.\n",
    "        \"\"\"\n",
    "        try:\n",
    "          assert 0.99 <= sum(s.values()) <= 1.01\n",
    "          assert 0.99 <= sum(q.values()) <= 1.01\n",
    "        except AssertionError:\n",
    "          print(\"Assertion Error\")\n",
    "          pass\n",
    "        kl_div = 0.\n",
    "        ss = []\n",
    "        qq = []\n",
    "        merged_dic = self.opt_merge_max_mappings(s, q)\n",
    "        for key in sorted(merged_dic.keys()):\n",
    "          q_score = q.get(key, 0.)\n",
    "          s_score = s.get(key, 0.)\n",
    "          ss.append((1 - alpha) * s_score + alpha * q_score) # avoid misspecified metrics\n",
    "          qq.append((1 - alpha) * q_score + alpha * s_score) # avoid misspecified metrics\n",
    "        kl = entropy(ss, qq, base=2)\n",
    "        return kl\n",
    "\n",
    "    def opt_merge_max_mappings(self, dict1, dict2):\n",
    "        \"\"\" Merges two dictionaries based on the largest value in a given mapping.\n",
    "        Parameters\n",
    "        ----------\n",
    "        dict1 : Dict[Any, Comparable]\n",
    "        dict2 : Dict[Any, Comparable]\n",
    "        Returns\n",
    "        -------\n",
    "        Dict[Any, Comparable]\n",
    "            The merged dictionary\n",
    "        \"\"\"\n",
    "        # we will iterate over `other` to populate `merged`\n",
    "        merged, other = (dict1, dict2) if len(dict1) > len(dict2) else (dict2, dict1)\n",
    "        merged = dict(merged)\n",
    "        for key in other:\n",
    "          if key not in merged or other[key] > merged[key]:\n",
    "            merged[key] = other[key]\n",
    "        return merged\n",
    "\n",
    "    def compute(self):\n",
    "        s = self.compute_distr(self.list1)\n",
    "        q = self.compute_distr(self.list2)\n",
    "\n",
    "        return self.compute_kl_divergence(s, q)"
   ],
   "metadata": {
    "collapsed": false
   }
  },
  {
   "cell_type": "code",
   "execution_count": 90,
   "outputs": [],
   "source": [
    "# 'Diversity Metric'\n",
    "# Compute the average result\n",
    "models=[ctr_iter_1, ctr_iter_25, ctr_iter_50, ctr_iter_100,\n",
    "        ctr_iter_150, ctr_iter_200, ctr_iter_250, ctr_iter_300]\n",
    "def get_metric_result_ca(feature_name='category'):\n",
    "    avg_result = []\n",
    "    for model in models: # for a specific model\n",
    "        result = []\n",
    "        for i in range(len(set(mind['user_id']))):  # get the average result for all users\n",
    "            r = Retrieval(model=model, data=mind, UIDX=i, feature=feature_name)\n",
    "            recommendation = r.get_recy()\n",
    "            history = r.get_history()\n",
    "            d = Diversity(history, recommendation, k=200)\n",
    "            result.append(d.compute())\n",
    "        avg_result.append(np.mean(result))\n",
    "    return avg_result\n",
    "\n",
    "user_list = list(np.arange((len(set(mind['user_id'])))))\n",
    "def get_metric_result_frag(feature_name='story'):\n",
    "    avg_result = []\n",
    "    for model in models:\n",
    "        result = []\n",
    "        i = 0\n",
    "        while i <= 1000:\n",
    "            # shuffle\n",
    "            user_pair = random.sample(user_list, 2)\n",
    "            r0 = Retrieval(model=model, data=mind, UIDX=user_pair[0], feature=feature_name)\n",
    "            r1 = Retrieval(model=model, data=mind, UIDX=user_pair[1], feature=feature_name)\n",
    "            recommendation0 = r0.get_recy()\n",
    "            recommendation1 = r1.get_recy()\n",
    "            d = Diversity(recommendation0, recommendation1, k=200)\n",
    "            result.append(d.compute())\n",
    "            i += 1\n",
    "        avg_result.append(np.mean(result))\n",
    "    return avg_result\n",
    "\n",
    "calibration_result = get_metric_result_ca('category')\n",
    "fragmentation_result = get_metric_result_frag('story')\n",
    "recall_result = [0.1275, 0.1376, 0.1467, 0.1443,  0.1384, 0.1061, 0.1157, 0.1228]"
   ],
   "metadata": {
    "collapsed": false
   }
  },
  {
   "cell_type": "code",
   "execution_count": 91,
   "outputs": [
    {
     "data": {
      "text/plain": "<Figure size 640x480 with 1 Axes>",
      "image/png": "[encoded data removed]"
     },
     "metadata": {},
     "output_type": "display_data"
    }
   ],
   "source": [
    "# Plot\n",
    "x = [1, 25, 50, 100, 150, 200, 250, 300]\n",
    "plt.plot(x, recall_result, label='recall')\n",
    "plt.plot(x, calibration_result, label='calibration')\n",
    "plt.plot(x, fragmentation_result, label='fragmentation')\n",
    "plt.legend(loc='best')\n",
    "plt.xlabel('Epochs')\n",
    "plt.ylabel('Metric Result')\n",
    "plt.show()"
   ],
   "metadata": {
    "collapsed": false
   }
  },
  {
   "cell_type": "code",
   "execution_count": 92,
   "outputs": [
    {
     "data": {
      "text/plain": "<Figure size 640x480 with 1 Axes>",
      "image/png": "[encoded data removed]"
     },
     "metadata": {},
     "output_type": "display_data"
    }
   ],
   "source": [
    "plt.plot(x, recall_result, label='recall')\n",
    "plt.plot(x, calibration_result, label='calibration')\n",
    "plt.legend(loc='best')\n",
    "plt.xlabel('Epochs')\n",
    "plt.ylabel('Metric Result')\n",
    "plt.yscale('log')\n",
    "plt.show()"
   ],
   "metadata": {
    "collapsed": false
   }
  },
  {
   "cell_type": "markdown",
   "source": [
    "## Implement different numbers of recommendations (@TOPK)"
   ],
   "metadata": {
    "collapsed": false
   }
  },
  {
   "cell_type": "code",
   "execution_count": 31,
   "outputs": [
    {
     "data": {
      "text/plain": "  0%|          | 0/50 [00:00<?, ?it/s]",
      "application/vnd.jupyter.widget-view+json": {
       "version_major": 2,
       "version_minor": 0,
       "model_id": "9e1b149f10314246b4b7ded7f3326578"
      }
     },
     "metadata": {},
     "output_type": "display_data"
    },
    {
     "name": "stdout",
     "output_type": "stream",
     "text": [
      "Learning completed!\n",
      "\n",
      "TEST:\n",
      "...\n",
      "    | Recall@100 | Recall@120 | Recall@140 | Recall@160 | Recall@180 | Recall@20 | Recall@200 | Recall@40 | Recall@60 | Recall@80 | Train (s) | Test (s)\n",
      "--- + ---------- + ---------- + ---------- + ---------- + ---------- + --------- + ---------- + --------- + --------- + --------- + --------- + --------\n",
      "CTR |     0.0937 |     0.1109 |     0.1201 |     0.1319 |     0.1376 |    0.0103 |     0.1569 |    0.0333 |    0.0430 |    0.0623 |  239.0392 |   0.2166\n",
      "\n"
     ]
    }
   ],
   "source": [
    "# Instantiate CTR model\n",
    "# Vary @TOPK = {20, 40, 60, 80, 100, 120, 140, 160, 180, 200}\n",
    "ctr = CTR(k=200, max_iter=50, lambda_v=0.01)\n",
    "\n",
    "# Use Recall@TOPK for evaluation\n",
    "rec_20 = cornac.metrics.Recall(k=20)\n",
    "rec_40 = cornac.metrics.Recall(k=40)\n",
    "rec_60 = cornac.metrics.Recall(k=60)\n",
    "rec_80 = cornac.metrics.Recall(k=80)\n",
    "rec_100 = cornac.metrics.Recall(k=100)\n",
    "rec_120 = cornac.metrics.Recall(k=120)\n",
    "rec_140 = cornac.metrics.Recall(k=140)\n",
    "rec_160 = cornac.metrics.Recall(k=160)\n",
    "rec_180 = cornac.metrics.Recall(k=180)\n",
    "rec_200 = cornac.metrics.Recall(k=200)\n",
    "\n",
    "# Put everything together into an experiment and run it\n",
    "cornac.Experiment(eval_method=ratio_split,\n",
    "                  models=[ctr],\n",
    "                  metrics=[rec_20, rec_40, rec_60, rec_80,\n",
    "                           rec_100, rec_120, rec_140, rec_160,\n",
    "                           rec_180, rec_200]).run()"
   ],
   "metadata": {
    "collapsed": false
   }
  },
  {
   "cell_type": "code",
   "execution_count": 120,
   "outputs": [],
   "source": [
    "TOPK = [20, 40, 60, 80, 100, 120, 140, 160, 180, 200]\n",
    "def get_metric_result_ca(feature_name):\n",
    "    avg_result = np.ones(10)\n",
    "    for i in range(len(set(mind['user_id']))): # for each user\n",
    "        result = []\n",
    "        r = Retrieval(model=ctr, data=mind, UIDX=i, feature=feature_name)\n",
    "        recommendation = r.get_recy()\n",
    "        history = r.get_history()\n",
    "        for k in TOPK:\n",
    "            d = Diversity(history, recommendation, k=k)\n",
    "            result.append(d.compute())\n",
    "        avg_result = np.vstack((avg_result, result))  # [[1, 1, 1],\n",
    "                                                       # [2, 2, 2]]\n",
    "    avg_result = np.delete(avg_result, 0, axis=0)\n",
    "    return np.average(avg_result, axis=0)\n",
    "\n",
    "# user_list = list(np.arange((len(set(mind['user_id'])))))\n",
    "def get_metric_result_frag(feature_name):\n",
    "    avg_result = np.ones(10)\n",
    "    i = 0\n",
    "    while i <= 1000:\n",
    "        # shuffle\n",
    "        user_pair = random.sample(user_list, 2)\n",
    "        r0 = Retrieval(model=ctr, data=mind, UIDX=user_pair[0], feature=feature_name)\n",
    "        r1 = Retrieval(model=ctr, data=mind, UIDX=user_pair[1], feature=feature_name)\n",
    "        recommendation0 = r0.get_recy()\n",
    "        recommendation1 = r1.get_recy()\n",
    "        result = []\n",
    "        for k in TOPK:\n",
    "            d = Diversity(recommendation0, recommendation1, k=k)\n",
    "            result.append(d.compute())\n",
    "        i += 1\n",
    "        avg_result = np.vstack((avg_result, result))\n",
    "    avg_result = np.delete(avg_result, 0, axis=0)\n",
    "    return np.average(avg_result, axis=0)\n",
    "\n",
    "calibration_result = get_metric_result_ca('category')\n",
    "fragmentation_result = get_metric_result_frag('story')\n",
    "recall_result = [0.0103, 0.0333, 0.00430, 0.0623, 0.0937, 0.1109, 0.1201, 0.1319, 0.1376, 0.1569]"
   ],
   "metadata": {
    "collapsed": false
   }
  },
  {
   "cell_type": "code",
   "execution_count": 121,
   "outputs": [
    {
     "data": {
      "text/plain": "<Figure size 640x480 with 1 Axes>",
      "image/png": "[encoded data removed]"
     },
     "metadata": {},
     "output_type": "display_data"
    }
   ],
   "source": [
    "# Plot\n",
    "x = [20, 40, 60, 80, 100, 120, 140, 160, 180, 200]\n",
    "plt.plot(x, recall_result, label='recall')\n",
    "plt.plot(x, calibration_result, label='calibration')\n",
    "plt.plot(x, fragmentation_result, label='fragmentation')\n",
    "plt.legend(loc='best')\n",
    "plt.xlabel('@TOPK')\n",
    "plt.ylabel('Metric Result')\n",
    "plt.show()"
   ],
   "metadata": {
    "collapsed": false
   }
  },
  {
   "cell_type": "markdown",
   "source": [
    "## Implement different values of lambda_v"
   ],
   "metadata": {
    "collapsed": false
   }
  },
  {
   "cell_type": "code",
   "execution_count": 58,
   "outputs": [
    {
     "data": {
      "text/plain": "  0%|          | 0/50 [00:00<?, ?it/s]",
      "application/vnd.jupyter.widget-view+json": {
       "version_major": 2,
       "version_minor": 0,
       "model_id": "8f5817e35afa434e95d7e01b8d7e3f77"
      }
     },
     "metadata": {},
     "output_type": "display_data"
    },
    {
     "name": "stdout",
     "output_type": "stream",
     "text": [
      "Learning completed!\n",
      "\n",
      "TEST:\n",
      "...\n",
      "    | Recall@200 | Train (s) | Test (s)\n",
      "--- + ---------- + --------- + --------\n",
      "CTR |     0.1713 |  203.8582 |   0.1126\n",
      "\n"
     ]
    },
    {
     "data": {
      "text/plain": "  0%|          | 0/50 [00:00<?, ?it/s]",
      "application/vnd.jupyter.widget-view+json": {
       "version_major": 2,
       "version_minor": 0,
       "model_id": "59550a7005c7432f81578e6b4d3e8930"
      }
     },
     "metadata": {},
     "output_type": "display_data"
    },
    {
     "name": "stdout",
     "output_type": "stream",
     "text": [
      "Learning completed!\n",
      "\n",
      "TEST:\n",
      "...\n",
      "    | Recall@200 | Train (s) | Test (s)\n",
      "--- + ---------- + --------- + --------\n",
      "CTR |     0.1556 |  244.5030 |   0.1167\n",
      "\n"
     ]
    },
    {
     "data": {
      "text/plain": "  0%|          | 0/50 [00:00<?, ?it/s]",
      "application/vnd.jupyter.widget-view+json": {
       "version_major": 2,
       "version_minor": 0,
       "model_id": "1d3eae648f244b8695b752eae3425cec"
      }
     },
     "metadata": {},
     "output_type": "display_data"
    },
    {
     "name": "stdout",
     "output_type": "stream",
     "text": [
      "Learning completed!\n",
      "\n",
      "TEST:\n",
      "...\n",
      "    | Recall@200 | Train (s) | Test (s)\n",
      "--- + ---------- + --------- + --------\n",
      "CTR |     0.1604 |  214.2513 |   0.1124\n",
      "\n"
     ]
    },
    {
     "data": {
      "text/plain": "  0%|          | 0/50 [00:00<?, ?it/s]",
      "application/vnd.jupyter.widget-view+json": {
       "version_major": 2,
       "version_minor": 0,
       "model_id": "654e68b7883144a699cbea9c7ac53260"
      }
     },
     "metadata": {},
     "output_type": "display_data"
    },
    {
     "name": "stdout",
     "output_type": "stream",
     "text": [
      "Learning completed!\n",
      "\n",
      "TEST:\n",
      "...\n",
      "    | Recall@200 | Train (s) | Test (s)\n",
      "--- + ---------- + --------- + --------\n",
      "CTR |     0.1810 |  230.6353 |   0.1388\n",
      "\n"
     ]
    },
    {
     "data": {
      "text/plain": "  0%|          | 0/50 [00:00<?, ?it/s]",
      "application/vnd.jupyter.widget-view+json": {
       "version_major": 2,
       "version_minor": 0,
       "model_id": "72c62703448f40509576af4d7e2aa258"
      }
     },
     "metadata": {},
     "output_type": "display_data"
    },
    {
     "name": "stdout",
     "output_type": "stream",
     "text": [
      "Learning completed!\n",
      "\n",
      "TEST:\n",
      "...\n",
      "    | Recall@200 | Train (s) | Test (s)\n",
      "--- + ---------- + --------- + --------\n",
      "CTR |     0.1998 |  210.5988 |   0.1973\n",
      "\n"
     ]
    },
    {
     "data": {
      "text/plain": "  0%|          | 0/50 [00:00<?, ?it/s]",
      "application/vnd.jupyter.widget-view+json": {
       "version_major": 2,
       "version_minor": 0,
       "model_id": "194f073a6ded4a43b57ab7174578ed36"
      }
     },
     "metadata": {},
     "output_type": "display_data"
    },
    {
     "name": "stdout",
     "output_type": "stream",
     "text": [
      "Learning completed!\n",
      "\n",
      "TEST:\n",
      "...\n",
      "    | Recall@200 | Train (s) | Test (s)\n",
      "--- + ---------- + --------- + --------\n",
      "CTR |     0.1467 |  236.9315 |   0.1290\n",
      "\n"
     ]
    },
    {
     "data": {
      "text/plain": "  0%|          | 0/50 [00:00<?, ?it/s]",
      "application/vnd.jupyter.widget-view+json": {
       "version_major": 2,
       "version_minor": 0,
       "model_id": "4e57d3973aff4c69bd220bb53788a67b"
      }
     },
     "metadata": {},
     "output_type": "display_data"
    },
    {
     "name": "stdout",
     "output_type": "stream",
     "text": [
      "Learning completed!\n",
      "\n",
      "TEST:\n",
      "...\n",
      "    | Recall@200 | Train (s) | Test (s)\n",
      "--- + ---------- + --------- + --------\n",
      "CTR |     0.1395 |  205.1779 |   0.1179\n",
      "\n"
     ]
    }
   ],
   "source": [
    "# Instantiate CTR model\n",
    "# Vary lambda_v={0.01, 0.1, 1, 10, 100, 1000, 10000}\n",
    "lambda_v = [0.01, 0.1, 1, 10, 100, 1000, 10000]\n",
    "ctr_lambda_v = [CTR(k=200, max_iter=50, lambda_v=v) for v in lambda_v]\n",
    "def run_ctr_v(ctr_lambda_v):\n",
    "    # Use Recall@300 for evaluation\n",
    "    rec_200 = cornac.metrics.Recall(k=200)\n",
    "    # Put everything together into an experiment and run it\n",
    "    cornac.Experiment(eval_method=ratio_split,\n",
    "                      models=[ctr_lambda_v],\n",
    "                      metrics=[rec_200]).run()\n",
    "\n",
    "for ctr_v in ctr_lambda_v:\n",
    "    run_ctr_v(ctr_v)"
   ],
   "metadata": {
    "collapsed": false
   }
  },
  {
   "cell_type": "code",
   "execution_count": 123,
   "outputs": [],
   "source": [
    "models = ctr_lambda_v\n",
    "def get_metric_result_ca(feature_name='category'):\n",
    "    avg_result = []\n",
    "    for model in models: # for a specific model\n",
    "        result = []\n",
    "        for i in range(len(set(mind['user_id']))):  # get the average result for all users\n",
    "            r = Retrieval(model=model, data=mind, UIDX=i, feature=feature_name)\n",
    "            recommendation = r.get_recy()\n",
    "            history = r.get_history()\n",
    "            d = Diversity(history, recommendation, k=200)\n",
    "            result.append(d.compute())\n",
    "        avg_result.append(np.mean(result))\n",
    "    return avg_result\n",
    "\n",
    "user_list = list(np.arange((len(set(mind['user_id'])))))\n",
    "def get_metric_result_frag(feature_name='story'):\n",
    "    avg_result = []\n",
    "    for model in models:\n",
    "        result = []\n",
    "        i = 0\n",
    "        while i <= 1000:\n",
    "            # shuffle\n",
    "            user_pair = random.sample(user_list, 2)\n",
    "            r0 = Retrieval(model=model, data=mind, UIDX=user_pair[0], feature=feature_name)\n",
    "            r1 = Retrieval(model=model, data=mind, UIDX=user_pair[1], feature=feature_name)\n",
    "            recommendation0 = r0.get_recy()\n",
    "            recommendation1 = r1.get_recy()\n",
    "            d = Diversity(recommendation0, recommendation1, k=200)\n",
    "            result.append(d.compute())\n",
    "            i += 1\n",
    "        avg_result.append(np.mean(result))\n",
    "    return avg_result\n",
    "\n",
    "calibration_result = get_metric_result_ca('category')\n",
    "fragmentation_result = get_metric_result_frag('story')\n",
    "recall_result = [0.1713, 0.1556, 0.1604, 0.1810, 0.1998, 0.1467, 0.1395]"
   ],
   "metadata": {
    "collapsed": false
   }
  },
  {
   "cell_type": "code",
   "execution_count": 124,
   "outputs": [
    {
     "data": {
      "text/plain": "<Figure size 640x480 with 1 Axes>",
      "image/png": "[encoded data removed]"
     },
     "metadata": {},
     "output_type": "display_data"
    }
   ],
   "source": [
    "# Plot\n",
    "x = [0.01, 0.1, 1, 10, 100, 1000, 10000]\n",
    "plt.plot(x, recall_result, label='recall')\n",
    "plt.plot(x, calibration_result, label='calibration')\n",
    "plt.plot(x, fragmentation_result, label='fragmentation')\n",
    "plt.legend(loc='best')\n",
    "plt.xlabel('lambda_v')\n",
    "plt.ylabel('Metric Result')\n",
    "plt.show()"
   ],
   "metadata": {
    "collapsed": false
   }
  },
  {
   "cell_type": "code",
   "execution_count": 136,
   "outputs": [
    {
     "data": {
      "text/plain": "<Figure size 640x480 with 1 Axes>",
      "image/png": "[encoded data removed]"
     },
     "metadata": {},
     "output_type": "display_data"
    }
   ],
   "source": [
    "plt.plot(x, recall_result, label='recall')\n",
    "plt.plot(x, calibration_result, label='calibration')\n",
    "plt.legend(loc='best')\n",
    "plt.xlabel('lambda_v')\n",
    "plt.ylabel('Metric Result')\n",
    "plt.yscale('log')\n",
    "plt.xscale('log')\n",
    "plt.show()"
   ],
   "metadata": {
    "collapsed": false
   }
  },
  {
   "cell_type": "code",
   "execution_count": 126,
   "outputs": [
    {
     "data": {
      "text/plain": "6"
     },
     "execution_count": 126,
     "metadata": {},
     "output_type": "execute_result"
    }
   ],
   "source": [
    "np.argmax(calibration_result)"
   ],
   "metadata": {
    "collapsed": false
   }
  },
  {
   "cell_type": "code",
   "execution_count": 127,
   "outputs": [
    {
     "data": {
      "text/plain": "[0.6064907725036408,\n 0.5462373015062867,\n 0.49869031620570103,\n 0.5437591071765483,\n 0.5683195055050553,\n 0.6648616837099105,\n 0.6957276590459968]"
     },
     "execution_count": 127,
     "metadata": {},
     "output_type": "execute_result"
    }
   ],
   "source": [
    "calibration_result"
   ],
   "metadata": {
    "collapsed": false
   }
  },
  {
   "cell_type": "code",
   "execution_count": null,
   "outputs": [],
   "source": [],
   "metadata": {
    "collapsed": false
   }
  }
 ],
 "metadata": {
  "kernelspec": {
   "display_name": "Python 3",
   "language": "python",
   "name": "python3"
  },
  "language_info": {
   "codemirror_mode": {
    "name": "ipython",
    "version": 2
   },
   "file_extension": ".py",
   "mimetype": "text/x-python",
   "name": "python",
   "nbconvert_exporter": "python",
   "pygments_lexer": "ipython2",
   "version": "2.7.6"
  }
 },
 "nbformat": 4,
 "nbformat_minor": 0
}
