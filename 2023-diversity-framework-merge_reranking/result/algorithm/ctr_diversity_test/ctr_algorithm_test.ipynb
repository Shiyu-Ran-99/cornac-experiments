{
 "cells": [
  {
   "cell_type": "code",
   "execution_count": 76,
   "metadata": {
    "collapsed": true
   },
   "outputs": [],
   "source": [
    "import numpy as np\n",
    "import pandas as pd\n",
    "from scipy.stats import entropy\n",
    "import matplotlib.pyplot as plt\n",
    "import random\n",
    "\n",
    "import cornac\n",
    "from cornac.eval_methods import RatioSplit\n",
    "from cornac.data import TextModality\n",
    "from cornac.data.text import BaseTokenizer\n",
    "from cornac.models import CTR\n",
    "from cornac.data import Reader"
   ]
  },
  {
   "cell_type": "code",
   "execution_count": 6,
   "outputs": [
    {
     "name": "stdout",
     "output_type": "stream",
     "text": [
      "rating_threshold = 1.0\n",
      "exclude_unknowns = True\n"
     ]
    },
    {
     "name": "stderr",
     "output_type": "stream",
     "text": [
      "/Users/pigr/cornac/lib/python3.10/site-packages/cornac/data/dataset.py:361: UserWarning: 18 duplicated observations are removed!\n",
      "  warnings.warn(\"%d duplicated observations are removed!\" % dup_count)\n",
      "/Users/pigr/cornac/lib/python3.10/site-packages/cornac/data/dataset.py:361: UserWarning: 5 duplicated observations are removed!\n",
      "  warnings.warn(\"%d duplicated observations are removed!\" % dup_count)\n"
     ]
    },
    {
     "name": "stdout",
     "output_type": "stream",
     "text": [
      "---\n",
      "Training data:\n",
      "Number of users = 5551\n",
      "Number of items = 16949\n",
      "Number of ratings = 168396\n",
      "Max rating = 1.0\n",
      "Min rating = 1.0\n",
      "Global mean = 1.0\n",
      "---\n",
      "Test data:\n",
      "Number of users = 5444\n",
      "Number of items = 14146\n",
      "Number of ratings = 42053\n",
      "Number of unknown users = 0\n",
      "Number of unknown items = 0\n",
      "---\n",
      "Total users = 5551\n",
      "Total items = 16949\n",
      "rating_threshold = 1.0\n",
      "exclude_unknowns = True\n",
      "---\n",
      "Training data:\n",
      "Number of users = 5081\n",
      "Number of items = 3326\n",
      "Number of ratings = 10951\n",
      "Max rating = 5.0\n",
      "Min rating = 1.0\n",
      "Global mean = 4.3\n",
      "---\n",
      "Test data:\n",
      "Number of users = 1868\n",
      "Number of items = 1453\n",
      "Number of ratings = 2200\n",
      "Number of unknown users = 0\n",
      "Number of unknown items = 0\n",
      "---\n",
      "Total users = 5081\n",
      "Total items = 3326\n",
      "rating_threshold = 1.0\n",
      "exclude_unknowns = True\n",
      "---\n",
      "Training data:\n",
      "Number of users = 943\n",
      "Number of items = 1518\n",
      "Number of ratings = 75846\n",
      "Max rating = 5.0\n",
      "Min rating = 1.0\n",
      "Global mean = 3.5\n",
      "---\n",
      "Test data:\n",
      "Number of users = 941\n",
      "Number of items = 1279\n",
      "Number of ratings = 18925\n",
      "Number of unknown users = 0\n",
      "Number of unknown items = 0\n",
      "---\n",
      "Total users = 943\n",
      "Total items = 1518\n"
     ]
    },
    {
     "ename": "FileNotFoundError",
     "evalue": "[Errno 2] No such file or directory: 'dataset/mind_algorithm_test.csv'",
     "output_type": "error",
     "traceback": [
      "\u001B[0;31m---------------------------------------------------------------------------\u001B[0m",
      "\u001B[0;31mFileNotFoundError\u001B[0m                         Traceback (most recent call last)",
      "Cell \u001B[0;32mIn[6], line 64\u001B[0m\n\u001B[1;32m     54\u001B[0m movieslens_ratio_split \u001B[38;5;241m=\u001B[39m RatioSplit(\n\u001B[1;32m     55\u001B[0m     data\u001B[38;5;241m=\u001B[39mfeedback_movielens,\n\u001B[1;32m     56\u001B[0m     test_size\u001B[38;5;241m=\u001B[39m\u001B[38;5;241m0.2\u001B[39m,\n\u001B[0;32m   (...)\u001B[0m\n\u001B[1;32m     60\u001B[0m     seed\u001B[38;5;241m=\u001B[39m\u001B[38;5;241m123\u001B[39m,\n\u001B[1;32m     61\u001B[0m )\n\u001B[1;32m     63\u001B[0m \u001B[38;5;66;03m# mind\u001B[39;00m\n\u001B[0;32m---> 64\u001B[0m mind \u001B[38;5;241m=\u001B[39m \u001B[43mpd\u001B[49m\u001B[38;5;241;43m.\u001B[39;49m\u001B[43mread_csv\u001B[49m\u001B[43m(\u001B[49m\u001B[38;5;124;43m'\u001B[39;49m\u001B[38;5;124;43mdataset/mind_algorithm_test.csv\u001B[39;49m\u001B[38;5;124;43m'\u001B[39;49m\u001B[43m)\u001B[49m\n\u001B[1;32m     65\u001B[0m mind[\u001B[38;5;124m'\u001B[39m\u001B[38;5;124mstory\u001B[39m\u001B[38;5;124m'\u001B[39m] \u001B[38;5;241m=\u001B[39m mind[\u001B[38;5;124m'\u001B[39m\u001B[38;5;124mstory\u001B[39m\u001B[38;5;124m'\u001B[39m]\u001B[38;5;241m.\u001B[39mastype(\u001B[38;5;124m'\u001B[39m\u001B[38;5;124mint\u001B[39m\u001B[38;5;124m'\u001B[39m)\n\u001B[1;32m     66\u001B[0m \u001B[38;5;66;03m# pre-process data to initialize ctr model\u001B[39;00m\n",
      "File \u001B[0;32m~/cornac/lib/python3.10/site-packages/pandas/io/parsers/readers.py:912\u001B[0m, in \u001B[0;36mread_csv\u001B[0;34m(filepath_or_buffer, sep, delimiter, header, names, index_col, usecols, dtype, engine, converters, true_values, false_values, skipinitialspace, skiprows, skipfooter, nrows, na_values, keep_default_na, na_filter, verbose, skip_blank_lines, parse_dates, infer_datetime_format, keep_date_col, date_parser, date_format, dayfirst, cache_dates, iterator, chunksize, compression, thousands, decimal, lineterminator, quotechar, quoting, doublequote, escapechar, comment, encoding, encoding_errors, dialect, on_bad_lines, delim_whitespace, low_memory, memory_map, float_precision, storage_options, dtype_backend)\u001B[0m\n\u001B[1;32m    899\u001B[0m kwds_defaults \u001B[38;5;241m=\u001B[39m _refine_defaults_read(\n\u001B[1;32m    900\u001B[0m     dialect,\n\u001B[1;32m    901\u001B[0m     delimiter,\n\u001B[0;32m   (...)\u001B[0m\n\u001B[1;32m    908\u001B[0m     dtype_backend\u001B[38;5;241m=\u001B[39mdtype_backend,\n\u001B[1;32m    909\u001B[0m )\n\u001B[1;32m    910\u001B[0m kwds\u001B[38;5;241m.\u001B[39mupdate(kwds_defaults)\n\u001B[0;32m--> 912\u001B[0m \u001B[38;5;28;01mreturn\u001B[39;00m \u001B[43m_read\u001B[49m\u001B[43m(\u001B[49m\u001B[43mfilepath_or_buffer\u001B[49m\u001B[43m,\u001B[49m\u001B[43m \u001B[49m\u001B[43mkwds\u001B[49m\u001B[43m)\u001B[49m\n",
      "File \u001B[0;32m~/cornac/lib/python3.10/site-packages/pandas/io/parsers/readers.py:577\u001B[0m, in \u001B[0;36m_read\u001B[0;34m(filepath_or_buffer, kwds)\u001B[0m\n\u001B[1;32m    574\u001B[0m _validate_names(kwds\u001B[38;5;241m.\u001B[39mget(\u001B[38;5;124m\"\u001B[39m\u001B[38;5;124mnames\u001B[39m\u001B[38;5;124m\"\u001B[39m, \u001B[38;5;28;01mNone\u001B[39;00m))\n\u001B[1;32m    576\u001B[0m \u001B[38;5;66;03m# Create the parser.\u001B[39;00m\n\u001B[0;32m--> 577\u001B[0m parser \u001B[38;5;241m=\u001B[39m \u001B[43mTextFileReader\u001B[49m\u001B[43m(\u001B[49m\u001B[43mfilepath_or_buffer\u001B[49m\u001B[43m,\u001B[49m\u001B[43m \u001B[49m\u001B[38;5;241;43m*\u001B[39;49m\u001B[38;5;241;43m*\u001B[39;49m\u001B[43mkwds\u001B[49m\u001B[43m)\u001B[49m\n\u001B[1;32m    579\u001B[0m \u001B[38;5;28;01mif\u001B[39;00m chunksize \u001B[38;5;129;01mor\u001B[39;00m iterator:\n\u001B[1;32m    580\u001B[0m     \u001B[38;5;28;01mreturn\u001B[39;00m parser\n",
      "File \u001B[0;32m~/cornac/lib/python3.10/site-packages/pandas/io/parsers/readers.py:1407\u001B[0m, in \u001B[0;36mTextFileReader.__init__\u001B[0;34m(self, f, engine, **kwds)\u001B[0m\n\u001B[1;32m   1404\u001B[0m     \u001B[38;5;28mself\u001B[39m\u001B[38;5;241m.\u001B[39moptions[\u001B[38;5;124m\"\u001B[39m\u001B[38;5;124mhas_index_names\u001B[39m\u001B[38;5;124m\"\u001B[39m] \u001B[38;5;241m=\u001B[39m kwds[\u001B[38;5;124m\"\u001B[39m\u001B[38;5;124mhas_index_names\u001B[39m\u001B[38;5;124m\"\u001B[39m]\n\u001B[1;32m   1406\u001B[0m \u001B[38;5;28mself\u001B[39m\u001B[38;5;241m.\u001B[39mhandles: IOHandles \u001B[38;5;241m|\u001B[39m \u001B[38;5;28;01mNone\u001B[39;00m \u001B[38;5;241m=\u001B[39m \u001B[38;5;28;01mNone\u001B[39;00m\n\u001B[0;32m-> 1407\u001B[0m \u001B[38;5;28mself\u001B[39m\u001B[38;5;241m.\u001B[39m_engine \u001B[38;5;241m=\u001B[39m \u001B[38;5;28;43mself\u001B[39;49m\u001B[38;5;241;43m.\u001B[39;49m\u001B[43m_make_engine\u001B[49m\u001B[43m(\u001B[49m\u001B[43mf\u001B[49m\u001B[43m,\u001B[49m\u001B[43m \u001B[49m\u001B[38;5;28;43mself\u001B[39;49m\u001B[38;5;241;43m.\u001B[39;49m\u001B[43mengine\u001B[49m\u001B[43m)\u001B[49m\n",
      "File \u001B[0;32m~/cornac/lib/python3.10/site-packages/pandas/io/parsers/readers.py:1661\u001B[0m, in \u001B[0;36mTextFileReader._make_engine\u001B[0;34m(self, f, engine)\u001B[0m\n\u001B[1;32m   1659\u001B[0m     \u001B[38;5;28;01mif\u001B[39;00m \u001B[38;5;124m\"\u001B[39m\u001B[38;5;124mb\u001B[39m\u001B[38;5;124m\"\u001B[39m \u001B[38;5;129;01mnot\u001B[39;00m \u001B[38;5;129;01min\u001B[39;00m mode:\n\u001B[1;32m   1660\u001B[0m         mode \u001B[38;5;241m+\u001B[39m\u001B[38;5;241m=\u001B[39m \u001B[38;5;124m\"\u001B[39m\u001B[38;5;124mb\u001B[39m\u001B[38;5;124m\"\u001B[39m\n\u001B[0;32m-> 1661\u001B[0m \u001B[38;5;28mself\u001B[39m\u001B[38;5;241m.\u001B[39mhandles \u001B[38;5;241m=\u001B[39m \u001B[43mget_handle\u001B[49m\u001B[43m(\u001B[49m\n\u001B[1;32m   1662\u001B[0m \u001B[43m    \u001B[49m\u001B[43mf\u001B[49m\u001B[43m,\u001B[49m\n\u001B[1;32m   1663\u001B[0m \u001B[43m    \u001B[49m\u001B[43mmode\u001B[49m\u001B[43m,\u001B[49m\n\u001B[1;32m   1664\u001B[0m \u001B[43m    \u001B[49m\u001B[43mencoding\u001B[49m\u001B[38;5;241;43m=\u001B[39;49m\u001B[38;5;28;43mself\u001B[39;49m\u001B[38;5;241;43m.\u001B[39;49m\u001B[43moptions\u001B[49m\u001B[38;5;241;43m.\u001B[39;49m\u001B[43mget\u001B[49m\u001B[43m(\u001B[49m\u001B[38;5;124;43m\"\u001B[39;49m\u001B[38;5;124;43mencoding\u001B[39;49m\u001B[38;5;124;43m\"\u001B[39;49m\u001B[43m,\u001B[49m\u001B[43m \u001B[49m\u001B[38;5;28;43;01mNone\u001B[39;49;00m\u001B[43m)\u001B[49m\u001B[43m,\u001B[49m\n\u001B[1;32m   1665\u001B[0m \u001B[43m    \u001B[49m\u001B[43mcompression\u001B[49m\u001B[38;5;241;43m=\u001B[39;49m\u001B[38;5;28;43mself\u001B[39;49m\u001B[38;5;241;43m.\u001B[39;49m\u001B[43moptions\u001B[49m\u001B[38;5;241;43m.\u001B[39;49m\u001B[43mget\u001B[49m\u001B[43m(\u001B[49m\u001B[38;5;124;43m\"\u001B[39;49m\u001B[38;5;124;43mcompression\u001B[39;49m\u001B[38;5;124;43m\"\u001B[39;49m\u001B[43m,\u001B[49m\u001B[43m \u001B[49m\u001B[38;5;28;43;01mNone\u001B[39;49;00m\u001B[43m)\u001B[49m\u001B[43m,\u001B[49m\n\u001B[1;32m   1666\u001B[0m \u001B[43m    \u001B[49m\u001B[43mmemory_map\u001B[49m\u001B[38;5;241;43m=\u001B[39;49m\u001B[38;5;28;43mself\u001B[39;49m\u001B[38;5;241;43m.\u001B[39;49m\u001B[43moptions\u001B[49m\u001B[38;5;241;43m.\u001B[39;49m\u001B[43mget\u001B[49m\u001B[43m(\u001B[49m\u001B[38;5;124;43m\"\u001B[39;49m\u001B[38;5;124;43mmemory_map\u001B[39;49m\u001B[38;5;124;43m\"\u001B[39;49m\u001B[43m,\u001B[49m\u001B[43m \u001B[49m\u001B[38;5;28;43;01mFalse\u001B[39;49;00m\u001B[43m)\u001B[49m\u001B[43m,\u001B[49m\n\u001B[1;32m   1667\u001B[0m \u001B[43m    \u001B[49m\u001B[43mis_text\u001B[49m\u001B[38;5;241;43m=\u001B[39;49m\u001B[43mis_text\u001B[49m\u001B[43m,\u001B[49m\n\u001B[1;32m   1668\u001B[0m \u001B[43m    \u001B[49m\u001B[43merrors\u001B[49m\u001B[38;5;241;43m=\u001B[39;49m\u001B[38;5;28;43mself\u001B[39;49m\u001B[38;5;241;43m.\u001B[39;49m\u001B[43moptions\u001B[49m\u001B[38;5;241;43m.\u001B[39;49m\u001B[43mget\u001B[49m\u001B[43m(\u001B[49m\u001B[38;5;124;43m\"\u001B[39;49m\u001B[38;5;124;43mencoding_errors\u001B[39;49m\u001B[38;5;124;43m\"\u001B[39;49m\u001B[43m,\u001B[49m\u001B[43m \u001B[49m\u001B[38;5;124;43m\"\u001B[39;49m\u001B[38;5;124;43mstrict\u001B[39;49m\u001B[38;5;124;43m\"\u001B[39;49m\u001B[43m)\u001B[49m\u001B[43m,\u001B[49m\n\u001B[1;32m   1669\u001B[0m \u001B[43m    \u001B[49m\u001B[43mstorage_options\u001B[49m\u001B[38;5;241;43m=\u001B[39;49m\u001B[38;5;28;43mself\u001B[39;49m\u001B[38;5;241;43m.\u001B[39;49m\u001B[43moptions\u001B[49m\u001B[38;5;241;43m.\u001B[39;49m\u001B[43mget\u001B[49m\u001B[43m(\u001B[49m\u001B[38;5;124;43m\"\u001B[39;49m\u001B[38;5;124;43mstorage_options\u001B[39;49m\u001B[38;5;124;43m\"\u001B[39;49m\u001B[43m,\u001B[49m\u001B[43m \u001B[49m\u001B[38;5;28;43;01mNone\u001B[39;49;00m\u001B[43m)\u001B[49m\u001B[43m,\u001B[49m\n\u001B[1;32m   1670\u001B[0m \u001B[43m\u001B[49m\u001B[43m)\u001B[49m\n\u001B[1;32m   1671\u001B[0m \u001B[38;5;28;01massert\u001B[39;00m \u001B[38;5;28mself\u001B[39m\u001B[38;5;241m.\u001B[39mhandles \u001B[38;5;129;01mis\u001B[39;00m \u001B[38;5;129;01mnot\u001B[39;00m \u001B[38;5;28;01mNone\u001B[39;00m\n\u001B[1;32m   1672\u001B[0m f \u001B[38;5;241m=\u001B[39m \u001B[38;5;28mself\u001B[39m\u001B[38;5;241m.\u001B[39mhandles\u001B[38;5;241m.\u001B[39mhandle\n",
      "File \u001B[0;32m~/cornac/lib/python3.10/site-packages/pandas/io/common.py:859\u001B[0m, in \u001B[0;36mget_handle\u001B[0;34m(path_or_buf, mode, encoding, compression, memory_map, is_text, errors, storage_options)\u001B[0m\n\u001B[1;32m    854\u001B[0m \u001B[38;5;28;01melif\u001B[39;00m \u001B[38;5;28misinstance\u001B[39m(handle, \u001B[38;5;28mstr\u001B[39m):\n\u001B[1;32m    855\u001B[0m     \u001B[38;5;66;03m# Check whether the filename is to be opened in binary mode.\u001B[39;00m\n\u001B[1;32m    856\u001B[0m     \u001B[38;5;66;03m# Binary mode does not support 'encoding' and 'newline'.\u001B[39;00m\n\u001B[1;32m    857\u001B[0m     \u001B[38;5;28;01mif\u001B[39;00m ioargs\u001B[38;5;241m.\u001B[39mencoding \u001B[38;5;129;01mand\u001B[39;00m \u001B[38;5;124m\"\u001B[39m\u001B[38;5;124mb\u001B[39m\u001B[38;5;124m\"\u001B[39m \u001B[38;5;129;01mnot\u001B[39;00m \u001B[38;5;129;01min\u001B[39;00m ioargs\u001B[38;5;241m.\u001B[39mmode:\n\u001B[1;32m    858\u001B[0m         \u001B[38;5;66;03m# Encoding\u001B[39;00m\n\u001B[0;32m--> 859\u001B[0m         handle \u001B[38;5;241m=\u001B[39m \u001B[38;5;28;43mopen\u001B[39;49m\u001B[43m(\u001B[49m\n\u001B[1;32m    860\u001B[0m \u001B[43m            \u001B[49m\u001B[43mhandle\u001B[49m\u001B[43m,\u001B[49m\n\u001B[1;32m    861\u001B[0m \u001B[43m            \u001B[49m\u001B[43mioargs\u001B[49m\u001B[38;5;241;43m.\u001B[39;49m\u001B[43mmode\u001B[49m\u001B[43m,\u001B[49m\n\u001B[1;32m    862\u001B[0m \u001B[43m            \u001B[49m\u001B[43mencoding\u001B[49m\u001B[38;5;241;43m=\u001B[39;49m\u001B[43mioargs\u001B[49m\u001B[38;5;241;43m.\u001B[39;49m\u001B[43mencoding\u001B[49m\u001B[43m,\u001B[49m\n\u001B[1;32m    863\u001B[0m \u001B[43m            \u001B[49m\u001B[43merrors\u001B[49m\u001B[38;5;241;43m=\u001B[39;49m\u001B[43merrors\u001B[49m\u001B[43m,\u001B[49m\n\u001B[1;32m    864\u001B[0m \u001B[43m            \u001B[49m\u001B[43mnewline\u001B[49m\u001B[38;5;241;43m=\u001B[39;49m\u001B[38;5;124;43m\"\u001B[39;49m\u001B[38;5;124;43m\"\u001B[39;49m\u001B[43m,\u001B[49m\n\u001B[1;32m    865\u001B[0m \u001B[43m        \u001B[49m\u001B[43m)\u001B[49m\n\u001B[1;32m    866\u001B[0m     \u001B[38;5;28;01melse\u001B[39;00m:\n\u001B[1;32m    867\u001B[0m         \u001B[38;5;66;03m# Binary mode\u001B[39;00m\n\u001B[1;32m    868\u001B[0m         handle \u001B[38;5;241m=\u001B[39m \u001B[38;5;28mopen\u001B[39m(handle, ioargs\u001B[38;5;241m.\u001B[39mmode)\n",
      "\u001B[0;31mFileNotFoundError\u001B[0m: [Errno 2] No such file or directory: 'dataset/mind_algorithm_test.csv'"
     ]
    }
   ],
   "source": [
    "\n",
    "# citeulike dataset\n",
    "# docs_citeulike, item_ids_citeulike = cornac.datasets.citeulike.load_text()\n",
    "# feedback_citeulike = cornac.datasets.citeulike.load_feedback(reader=Reader(item_set=item_ids_citeulike))\n",
    "# item_text_modality = TextModality(\n",
    "#     corpus=docs_citeulike,\n",
    "#     ids=item_ids_citeulike,\n",
    "#     tokenizer=BaseTokenizer(sep=\" \", stop_words=\"english\"),\n",
    "#     max_vocab=8000,\n",
    "#     max_doc_freq=0.5,\n",
    "# )\n",
    "# Define an evaluation method to split feedback into train and test sets\n",
    "# citeulike_ratio_split = RatioSplit(\n",
    "#     data=feedback_citeulike,\n",
    "#     test_size=0.2,\n",
    "#     exclude_unknowns=True,\n",
    "#     item_text=item_text_modality,\n",
    "#     verbose=True,\n",
    "#     seed=123,\n",
    "#     rating_threshold=1,\n",
    "# )\n",
    "#\n",
    "# amazon_clothing dataset\n",
    "# docs_clothing, item_ids_clothing = cornac.datasets.amazon_clothing.load_text()\n",
    "# feedback_clothing = cornac.datasets.amazon_clothing.load_feedback(reader=Reader(item_set=item_ids_clothing))\n",
    "# item_text_modality = TextModality(\n",
    "#     corpus=docs_clothing,\n",
    "#     ids=item_ids_clothing,\n",
    "#     tokenizer=BaseTokenizer(sep=\" \", stop_words=\"english\"),\n",
    "#     max_vocab=8000,\n",
    "#     max_doc_freq=0.5,\n",
    "# )\n",
    "# # Define an evaluation method to split feedback into train and test sets\n",
    "# clothing_ratio_split = RatioSplit(\n",
    "#     data=feedback_clothing,\n",
    "#     test_size=0.2,\n",
    "#     exclude_unknowns=True,\n",
    "#     item_text=item_text_modality,\n",
    "#     verbose=True,\n",
    "#     seed=123,\n",
    "#     rating_threshold=1,\n",
    "# )\n",
    "\n",
    "# movielens dataset\n",
    "# docs_movielens, item_ids_movielens = cornac.datasets.movielens.load_plot()\n",
    "# feedback_movielens = cornac.datasets.movielens.load_feedback(variant=\"100K\",reader=Reader(item_set=item_ids_movielens))\n",
    "# movielens_item_text_modality = TextModality(\n",
    "#     corpus=docs_movielens,\n",
    "#     ids=item_ids_movielens,\n",
    "#     tokenizer=BaseTokenizer(sep=\"\\t\", stop_words=\"english\"),\n",
    "#     max_vocab=8000,\n",
    "#     max_doc_freq=0.5,\n",
    "# )\n",
    "# # Define an evaluation method to split feedback into train and test sets\n",
    "# movieslens_ratio_split = RatioSplit(\n",
    "#     data=feedback_movielens,\n",
    "#     test_size=0.2,\n",
    "#     exclude_unknowns=True,\n",
    "#     item_text=movielens_item_text_modality,\n",
    "#     verbose=True,\n",
    "#     seed=123,\n",
    "#     rating_threshold=1,\n",
    "# )\n",
    "\n",
    "# mind\n",
    "with open ('../dataset/mind_algorithm_test.csv') as mind_file:\n",
    "    mind = pd.read_csv(mind_file)\n",
    "mind['story'] = mind['story'].astype('int')\n",
    "# pre-process data to initialize ctr model\n",
    "mind_feedback = mind.loc[:, ['user_id','item_id','rating']]\n",
    "# feedback = cornac.data.Dataset.from_uir(mind_feedback.itertuples(index=False))\n",
    "feedback_mind = mind_feedback.apply(lambda x: tuple(x), axis=1).values.tolist()\n",
    "text_mind = list(mind['text'])\n",
    "item_ids_mind = list(mind['item_id'])\n",
    "# # Instantiate a TextModality, it makes it convenient to work with text auxiliary information\n",
    "# mind_item_text_modality = TextModality(\n",
    "#     corpus=text_mind,\n",
    "#     ids=item_ids_mind,\n",
    "#     tokenizer=BaseTokenizer(sep=\" \", stop_words=\"english\"),\n",
    "#     max_vocab=8000,\n",
    "#     max_doc_freq=0.5,\n",
    "# )\n",
    "# # Define an evaluation method to split feedback into train and test sets\n",
    "# mind_ratio_split = RatioSplit(\n",
    "#     data=feedback_mind,\n",
    "#     test_size=0.2,\n",
    "#     exclude_unknowns=True,\n",
    "#     item_text=mind_item_text_modality,\n",
    "#     verbose=False,\n",
    "#     seed=123,\n",
    "#     rating_threshold=0.5,\n",
    "# )"
   ],
   "metadata": {
    "collapsed": false
   }
  },
  {
   "cell_type": "markdown",
   "source": [
    "lamda_v = 100, epoch = 50, @TOPK = 200"
   ],
   "metadata": {
    "collapsed": false
   }
  },
  {
   "cell_type": "code",
   "execution_count": 43,
   "outputs": [
    {
     "data": {
      "text/plain": "6897"
     },
     "execution_count": 43,
     "metadata": {},
     "output_type": "execute_result"
    }
   ],
   "source": [
    "len(mind[mind['rating']==1.0])"
   ],
   "metadata": {
    "collapsed": false
   }
  },
  {
   "cell_type": "code",
   "execution_count": 49,
   "outputs": [
    {
     "data": {
      "text/plain": "3103"
     },
     "execution_count": 49,
     "metadata": {},
     "output_type": "execute_result"
    }
   ],
   "source": [
    "len(mind[mind['rating']==0])"
   ],
   "metadata": {
    "collapsed": false
   }
  },
  {
   "cell_type": "code",
   "execution_count": 35,
   "outputs": [],
   "source": [
    "docs_citeulike, item_ids_citeulike = cornac.datasets.citeulike.load_text()\n",
    "feedback_citeulike = cornac.datasets.citeulike.load_feedback(reader=Reader(item_set=item_ids_citeulike))"
   ],
   "metadata": {
    "collapsed": false
   }
  },
  {
   "cell_type": "code",
   "execution_count": 44,
   "outputs": [
    {
     "data": {
      "text/plain": "210518"
     },
     "execution_count": 44,
     "metadata": {},
     "output_type": "execute_result"
    }
   ],
   "source": [
    "len(feedback_citeulike)"
   ],
   "metadata": {
    "collapsed": false
   }
  },
  {
   "cell_type": "code",
   "execution_count": 52,
   "outputs": [
    {
     "data": {
      "text/plain": "   0     1    2\n0  1    70  1.0\n1  1   495  1.0\n2  1  1631  1.0\n3  1  2317  1.0\n4  1  2526  1.0",
      "text/html": "<div>\n<style scoped>\n    .dataframe tbody tr th:only-of-type {\n        vertical-align: middle;\n    }\n\n    .dataframe tbody tr th {\n        vertical-align: top;\n    }\n\n    .dataframe thead th {\n        text-align: right;\n    }\n</style>\n<table border=\"1\" class=\"dataframe\">\n  <thead>\n    <tr style=\"text-align: right;\">\n      <th></th>\n      <th>0</th>\n      <th>1</th>\n      <th>2</th>\n    </tr>\n  </thead>\n  <tbody>\n    <tr>\n      <th>0</th>\n      <td>1</td>\n      <td>70</td>\n      <td>1.0</td>\n    </tr>\n    <tr>\n      <th>1</th>\n      <td>1</td>\n      <td>495</td>\n      <td>1.0</td>\n    </tr>\n    <tr>\n      <th>2</th>\n      <td>1</td>\n      <td>1631</td>\n      <td>1.0</td>\n    </tr>\n    <tr>\n      <th>3</th>\n      <td>1</td>\n      <td>2317</td>\n      <td>1.0</td>\n    </tr>\n    <tr>\n      <th>4</th>\n      <td>1</td>\n      <td>2526</td>\n      <td>1.0</td>\n    </tr>\n  </tbody>\n</table>\n</div>"
     },
     "execution_count": 52,
     "metadata": {},
     "output_type": "execute_result"
    }
   ],
   "source": [
    "pd.DataFrame(feedback_citeulike).head()"
   ],
   "metadata": {
    "collapsed": false
   }
  },
  {
   "cell_type": "code",
   "execution_count": 54,
   "outputs": [
    {
     "name": "stdout",
     "output_type": "stream",
     "text": [
      "rating_threshold = 0.5\n",
      "exclude_unknowns = True\n",
      "---\n",
      "Training data:\n",
      "Number of users = 181\n",
      "Number of items = 3156\n",
      "Number of ratings = 5450\n",
      "Max rating = 1.0\n",
      "Min rating = 1.0\n",
      "Global mean = 1.0\n",
      "---\n",
      "Test data:\n",
      "Number of users = 159\n",
      "Number of items = 599\n",
      "Number of ratings = 813\n",
      "Number of unknown users = 0\n",
      "Number of unknown items = 0\n",
      "---\n",
      "Total users = 181\n",
      "Total items = 3156\n"
     ]
    },
    {
     "name": "stderr",
     "output_type": "stream",
     "text": [
      "/Users/pigr/cornac/lib/python3.10/site-packages/cornac/data/dataset.py:361: UserWarning: 67 duplicated observations are removed!\n",
      "  warnings.warn(\"%d duplicated observations are removed!\" % dup_count)\n",
      "/Users/pigr/cornac/lib/python3.10/site-packages/cornac/data/dataset.py:361: UserWarning: 3 duplicated observations are removed!\n",
      "  warnings.warn(\"%d duplicated observations are removed!\" % dup_count)\n"
     ]
    }
   ],
   "source": [
    "# pre-process data to initialize ctr model\n",
    "mind_feedback = mind.loc[:, ['user_id','item_id','rating']]\n",
    "mind_feedback = mind_feedback[mind_feedback['rating']==1.0]\n",
    "# feedback = cornac.data.Dataset.from_uir(mind_feedback.itertuples(index=False))\n",
    "feedback = mind_feedback.apply(lambda x: tuple(x), axis=1).values.tolist()\n",
    "text = list(mind['text'])\n",
    "item_ids = list(mind['item_id'])\n",
    "# Instantiate a TextModality, it makes it convenient to work with text auxiliary information\n",
    "item_text_modality = TextModality(\n",
    "    corpus=text,\n",
    "    ids=item_ids,\n",
    "    tokenizer=BaseTokenizer(sep=\" \", stop_words=\"english\"),\n",
    "    max_vocab=8000,\n",
    "    max_doc_freq=0.5,\n",
    ")\n",
    "\n",
    "# Define an evaluation method to split feedback into train and test sets\n",
    "ratio_split = RatioSplit(\n",
    "    data=feedback,\n",
    "    test_size=0.2,\n",
    "    exclude_unknowns=True,\n",
    "    item_text=item_text_modality,\n",
    "    verbose=True,\n",
    "    seed=123,\n",
    "    rating_threshold=0.5,\n",
    ")"
   ],
   "metadata": {
    "collapsed": false
   }
  },
  {
   "cell_type": "markdown",
   "source": [
    "I find that in citeulike dataset, all items' ratings are 1.0, which means that each item is seen by the user (cited), so for better training result on mind, I made a little change on training data from mind. In the original dataset, we produce the ratings based on the cliking history, \"0\" in the impression-logs means that even though this new appears in the user's page, the user didn't click it, so it means that he/she also didn't see the news, so I extract user-item data whose rating is 1.0 (Number is 6897), and train using ctr model, the recall increases from around 0.1 to 0.2426. So I put more data into training (around 200K, similar to citeulike), and recall increases to 0.3596, and I continuously increase data to 500K, the recall increases to 0.4387; increase to 1M, recall increases to 0.5128. So finally do we need to limit the data size?"
   ],
   "metadata": {
    "collapsed": false
   }
  },
  {
   "cell_type": "code",
   "execution_count": 55,
   "outputs": [
    {
     "name": "stdout",
     "output_type": "stream",
     "text": [
      "\n",
      "[CTR] Training started!\n"
     ]
    },
    {
     "data": {
      "text/plain": "  0%|          | 0/50 [00:00<?, ?it/s]",
      "application/vnd.jupyter.widget-view+json": {
       "version_major": 2,
       "version_minor": 0,
       "model_id": "6b91f29757ac4846a62572f2f040738a"
      }
     },
     "metadata": {},
     "output_type": "display_data"
    },
    {
     "name": "stdout",
     "output_type": "stream",
     "text": [
      "Learning completed!\n",
      "\n",
      "[CTR] Evaluation started!\n"
     ]
    },
    {
     "data": {
      "text/plain": "Ranking:   0%|          | 0/159 [00:00<?, ?it/s]",
      "application/vnd.jupyter.widget-view+json": {
       "version_major": 2,
       "version_minor": 0,
       "model_id": "4f78c3d12456494fb99f821187cab983"
      }
     },
     "metadata": {},
     "output_type": "display_data"
    },
    {
     "name": "stdout",
     "output_type": "stream",
     "text": [
      "\n",
      "TEST:\n",
      "...\n",
      "    | Recall@300 | Train (s) | Test (s)\n",
      "--- + ---------- + --------- + --------\n",
      "CTR |     0.2426 |   49.6719 |   0.2031\n",
      "\n"
     ]
    }
   ],
   "source": [
    "\n",
    "# Instantiate CTR model\n",
    "ctr = cornac.models.CTR(k=50, max_iter=50, lambda_v=1)\n",
    "\n",
    "# Use Recall@300 for evaluation\n",
    "rec_300 = cornac.metrics.Recall(k=300)\n",
    "\n",
    "# Put everything together into an experiment and run it\n",
    "cornac.Experiment(eval_method=ratio_split, models=[ctr], metrics=[rec_300]).run()"
   ],
   "metadata": {
    "collapsed": false
   }
  },
  {
   "cell_type": "code",
   "execution_count": 58,
   "outputs": [
    {
     "name": "stdout",
     "output_type": "stream",
     "text": [
      "rating_threshold = 1.0\n",
      "exclude_unknowns = True\n",
      "---\n",
      "Training data:\n",
      "Number of users = 181\n",
      "Number of items = 3156\n",
      "Number of ratings = 5450\n",
      "Max rating = 1.0\n",
      "Min rating = 1.0\n",
      "Global mean = 1.0\n",
      "---\n",
      "Test data:\n",
      "Number of users = 159\n",
      "Number of items = 599\n",
      "Number of ratings = 813\n",
      "Number of unknown users = 0\n",
      "Number of unknown items = 0\n",
      "---\n",
      "Total users = 181\n",
      "Total items = 3156\n"
     ]
    },
    {
     "name": "stderr",
     "output_type": "stream",
     "text": [
      "/Users/pigr/cornac/lib/python3.10/site-packages/cornac/data/dataset.py:361: UserWarning: 67 duplicated observations are removed!\n",
      "  warnings.warn(\"%d duplicated observations are removed!\" % dup_count)\n",
      "/Users/pigr/cornac/lib/python3.10/site-packages/cornac/data/dataset.py:361: UserWarning: 3 duplicated observations are removed!\n",
      "  warnings.warn(\"%d duplicated observations are removed!\" % dup_count)\n"
     ]
    },
    {
     "name": "stdout",
     "output_type": "stream",
     "text": [
      "\n",
      "[CTR] Training started!\n"
     ]
    },
    {
     "data": {
      "text/plain": "  0%|          | 0/50 [00:00<?, ?it/s]",
      "application/vnd.jupyter.widget-view+json": {
       "version_major": 2,
       "version_minor": 0,
       "model_id": "2a94f2353e464e489314af0f697da86a"
      }
     },
     "metadata": {},
     "output_type": "display_data"
    },
    {
     "name": "stdout",
     "output_type": "stream",
     "text": [
      "Learning completed!\n",
      "\n",
      "[CTR] Evaluation started!\n"
     ]
    },
    {
     "data": {
      "text/plain": "Ranking:   0%|          | 0/159 [00:00<?, ?it/s]",
      "application/vnd.jupyter.widget-view+json": {
       "version_major": 2,
       "version_minor": 0,
       "model_id": "3d8629b5d173451188d94160fb4b6f1a"
      }
     },
     "metadata": {},
     "output_type": "display_data"
    },
    {
     "name": "stdout",
     "output_type": "stream",
     "text": [
      "\n",
      "TEST:\n",
      "...\n",
      "    | Recall@300 | Train (s) | Test (s)\n",
      "--- + ---------- + --------- + --------\n",
      "CTR |     0.2625 |   48.7320 |   0.1876\n",
      "\n"
     ]
    }
   ],
   "source": [
    "# pre-process data to initialize ctr model\n",
    "mind_feedback = mind.loc[:, ['user_id','item_id','rating']]\n",
    "mind_feedback = mind_feedback[mind_feedback['rating']==1.0]\n",
    "# feedback = cornac.data.Dataset.from_uir(mind_feedback.itertuples(index=False))\n",
    "feedback = mind_feedback.apply(lambda x: tuple(x), axis=1).values.tolist()\n",
    "text = list(mind['text'])\n",
    "item_ids = list(mind['item_id'])\n",
    "# Instantiate a TextModality, it makes it convenient to work with text auxiliary information\n",
    "item_text_modality = TextModality(\n",
    "    corpus=text,\n",
    "    ids=item_ids,\n",
    "    tokenizer=BaseTokenizer(sep=\" \", stop_words=\"english\"),\n",
    "    max_vocab=8000,\n",
    "    max_doc_freq=0.5,\n",
    ")\n",
    "\n",
    "# Define an evaluation method to split feedback into train and test sets\n",
    "ratio_split = RatioSplit(\n",
    "    data=feedback,\n",
    "    test_size=0.2,\n",
    "    exclude_unknowns=True,\n",
    "    item_text=item_text_modality,\n",
    "    verbose=True,\n",
    "    seed=123,\n",
    "    rating_threshold=1,\n",
    ")\n",
    "\n",
    "\n",
    "# Instantiate CTR model\n",
    "ctr = cornac.models.CTR(k=50, max_iter=50, lambda_v=1)\n",
    "\n",
    "# Use Recall@300 for evaluation\n",
    "rec_300 = cornac.metrics.Recall(k=300)\n",
    "\n",
    "# Put everything together into an experiment and run it\n",
    "cornac.Experiment(eval_method=ratio_split, models=[ctr], metrics=[rec_300]).run()"
   ],
   "metadata": {
    "collapsed": false
   }
  },
  {
   "cell_type": "code",
   "execution_count": 59,
   "outputs": [
    {
     "name": "stdout",
     "output_type": "stream",
     "text": [
      "rating_threshold = 0.0\n",
      "exclude_unknowns = True\n",
      "---\n",
      "Training data:\n",
      "Number of users = 181\n",
      "Number of items = 3156\n",
      "Number of ratings = 5450\n",
      "Max rating = 1.0\n",
      "Min rating = 1.0\n",
      "Global mean = 1.0\n",
      "---\n",
      "Test data:\n",
      "Number of users = 159\n",
      "Number of items = 599\n",
      "Number of ratings = 813\n",
      "Number of unknown users = 0\n",
      "Number of unknown items = 0\n",
      "---\n",
      "Total users = 181\n",
      "Total items = 3156\n"
     ]
    },
    {
     "name": "stderr",
     "output_type": "stream",
     "text": [
      "/Users/pigr/cornac/lib/python3.10/site-packages/cornac/data/dataset.py:361: UserWarning: 67 duplicated observations are removed!\n",
      "  warnings.warn(\"%d duplicated observations are removed!\" % dup_count)\n",
      "/Users/pigr/cornac/lib/python3.10/site-packages/cornac/data/dataset.py:361: UserWarning: 3 duplicated observations are removed!\n",
      "  warnings.warn(\"%d duplicated observations are removed!\" % dup_count)\n"
     ]
    },
    {
     "name": "stdout",
     "output_type": "stream",
     "text": [
      "\n",
      "[CTR] Training started!\n"
     ]
    },
    {
     "data": {
      "text/plain": "  0%|          | 0/50 [00:00<?, ?it/s]",
      "application/vnd.jupyter.widget-view+json": {
       "version_major": 2,
       "version_minor": 0,
       "model_id": "a2bbf70c8a7a48398d724ccc8dc450b3"
      }
     },
     "metadata": {},
     "output_type": "display_data"
    },
    {
     "name": "stdout",
     "output_type": "stream",
     "text": [
      "Learning completed!\n",
      "\n",
      "[CTR] Evaluation started!\n"
     ]
    },
    {
     "data": {
      "text/plain": "Ranking:   0%|          | 0/159 [00:00<?, ?it/s]",
      "application/vnd.jupyter.widget-view+json": {
       "version_major": 2,
       "version_minor": 0,
       "model_id": "3d6e4c50a2fc48ff9e779eb23eb7d8d5"
      }
     },
     "metadata": {},
     "output_type": "display_data"
    },
    {
     "name": "stdout",
     "output_type": "stream",
     "text": [
      "\n",
      "TEST:\n",
      "...\n",
      "    | Recall@300 | Train (s) | Test (s)\n",
      "--- + ---------- + --------- + --------\n",
      "CTR |     0.2134 |   44.5635 |   0.1629\n",
      "\n"
     ]
    }
   ],
   "source": [
    "\n",
    "# pre-process data to initialize ctr model\n",
    "mind_feedback = mind.loc[:, ['user_id', 'item_id', 'rating']]\n",
    "mind_feedback = mind_feedback[mind_feedback['rating'] == 1.0]\n",
    "# feedback = cornac.data.Dataset.from_uir(mind_feedback.itertuples(index=False))\n",
    "feedback = mind_feedback.apply(lambda x: tuple(x), axis=1).values.tolist()\n",
    "text = list(mind['text'])\n",
    "item_ids = list(mind['item_id'])\n",
    "# Instantiate a TextModality, it makes it convenient to work with text auxiliary information\n",
    "item_text_modality = TextModality(\n",
    "    corpus=text,\n",
    "    ids=item_ids,\n",
    "    tokenizer=BaseTokenizer(sep=\" \", stop_words=\"english\"),\n",
    "    max_vocab=8000,\n",
    "    max_doc_freq=0.5,\n",
    ")\n",
    "\n",
    "# Define an evaluation method to split feedback into train and test sets\n",
    "ratio_split = RatioSplit(\n",
    "    data=feedback,\n",
    "    test_size=0.2,\n",
    "    exclude_unknowns=True,\n",
    "    item_text=item_text_modality,\n",
    "    verbose=True,\n",
    "    seed=123,\n",
    "    rating_threshold=0,\n",
    ")\n",
    "\n",
    "# Instantiate CTR model\n",
    "ctr = cornac.models.CTR(k=50, max_iter=50, lambda_v=1)\n",
    "\n",
    "# Use Recall@300 for evaluation\n",
    "rec_300 = cornac.metrics.Recall(k=300)\n",
    "\n",
    "# Put everything together into an experiment and run it\n",
    "cornac.Experiment(eval_method=ratio_split, models=[ctr], metrics=[rec_300]).run()"
   ],
   "metadata": {
    "collapsed": false
   }
  },
  {
   "cell_type": "code",
   "execution_count": 65,
   "outputs": [
    {
     "name": "stdout",
     "output_type": "stream",
     "text": [
      "1.0703665\n",
      "-0.53519183\n"
     ]
    }
   ],
   "source": [
    "print(max(ctr.rank(0)[1]))\n",
    "print(min(ctr.rank(0)[1]))"
   ],
   "metadata": {
    "collapsed": false
   }
  },
  {
   "cell_type": "code",
   "execution_count": 69,
   "outputs": [],
   "source": [
    "# amazon_clothing dataset\n",
    "docs_clothing, item_ids_clothing = cornac.datasets.amazon_clothing.load_text()\n",
    "feedback_clothing = cornac.datasets.amazon_clothing.load_feedback(reader=Reader(item_set=item_ids_clothing))"
   ],
   "metadata": {
    "collapsed": false
   }
  },
  {
   "cell_type": "code",
   "execution_count": 72,
   "outputs": [
    {
     "data": {
      "text/plain": "200000"
     },
     "execution_count": 72,
     "metadata": {},
     "output_type": "execute_result"
    }
   ],
   "source": [
    "# mind\n",
    "with open ('../dataset/mind_test_200K.csv') as mind_file:\n",
    "    mind = pd.read_csv(mind_file)\n",
    "mind['story'] = mind['story'].astype('int')\n",
    "# pre-process data to initialize ctr model\n",
    "mind_feedback = mind.loc[:, ['user_id','item_id','rating']]\n",
    "mind_feedback = mind_feedback[mind_feedback['rating']==1.0]\n",
    "len(mind_feedback)"
   ],
   "metadata": {
    "collapsed": false
   }
  },
  {
   "cell_type": "code",
   "execution_count": 73,
   "outputs": [
    {
     "name": "stdout",
     "output_type": "stream",
     "text": [
      "rating_threshold = 0.5\n",
      "exclude_unknowns = True\n",
      "---\n",
      "Training data:\n",
      "Number of users = 5609\n",
      "Number of items = 15063\n",
      "Number of ratings = 137472\n",
      "Max rating = 1.0\n",
      "Min rating = 1.0\n",
      "Global mean = 1.0\n"
     ]
    },
    {
     "name": "stderr",
     "output_type": "stream",
     "text": [
      "/Users/pigr/cornac/lib/python3.10/site-packages/cornac/data/dataset.py:361: UserWarning: 22528 duplicated observations are removed!\n",
      "  warnings.warn(\"%d duplicated observations are removed!\" % dup_count)\n",
      "/Users/pigr/cornac/lib/python3.10/site-packages/cornac/data/dataset.py:361: UserWarning: 1572 duplicated observations are removed!\n",
      "  warnings.warn(\"%d duplicated observations are removed!\" % dup_count)\n"
     ]
    },
    {
     "name": "stdout",
     "output_type": "stream",
     "text": [
      "---\n",
      "Test data:\n",
      "Number of users = 4932\n",
      "Number of items = 8191\n",
      "Number of ratings = 37321\n",
      "Number of unknown users = 0\n",
      "Number of unknown items = 0\n",
      "---\n",
      "Total users = 5609\n",
      "Total items = 15063\n",
      "\n",
      "[CTR] Training started!\n"
     ]
    },
    {
     "data": {
      "text/plain": "  0%|          | 0/50 [00:00<?, ?it/s]",
      "application/vnd.jupyter.widget-view+json": {
       "version_major": 2,
       "version_minor": 0,
       "model_id": "a50ee4c804a54710a71c320a2ef000c4"
      }
     },
     "metadata": {},
     "output_type": "display_data"
    },
    {
     "name": "stdout",
     "output_type": "stream",
     "text": [
      "Learning completed!\n",
      "\n",
      "[CTR] Evaluation started!\n"
     ]
    },
    {
     "data": {
      "text/plain": "Ranking:   0%|          | 0/4932 [00:00<?, ?it/s]",
      "application/vnd.jupyter.widget-view+json": {
       "version_major": 2,
       "version_minor": 0,
       "model_id": "5dae7cf18a564f719cbb9136682f2956"
      }
     },
     "metadata": {},
     "output_type": "display_data"
    },
    {
     "name": "stdout",
     "output_type": "stream",
     "text": [
      "\n",
      "TEST:\n",
      "...\n",
      "    | Recall@300 | Train (s) | Test (s)\n",
      "--- + ---------- + --------- + --------\n",
      "CTR |     0.3596 |  223.5423 |   8.2025\n",
      "\n"
     ]
    }
   ],
   "source": [
    "\n",
    "# feedback = cornac.data.Dataset.from_uir(mind_feedback.itertuples(index=False))\n",
    "feedback = mind_feedback.apply(lambda x: tuple(x), axis=1).values.tolist()\n",
    "text = list(mind['text'])\n",
    "item_ids = list(mind['item_id'])\n",
    "# Instantiate a TextModality, it makes it convenient to work with text auxiliary information\n",
    "item_text_modality = TextModality(\n",
    "    corpus=text,\n",
    "    ids=item_ids,\n",
    "    tokenizer=BaseTokenizer(sep=\" \", stop_words=\"english\"),\n",
    "    max_vocab=8000,\n",
    "    max_doc_freq=0.5,\n",
    ")\n",
    "\n",
    "# Define an evaluation method to split feedback into train and test sets\n",
    "ratio_split = RatioSplit(\n",
    "    data=feedback,\n",
    "    test_size=0.2,\n",
    "    exclude_unknowns=True,\n",
    "    item_text=item_text_modality,\n",
    "    verbose=True,\n",
    "    seed=123,\n",
    "    rating_threshold=0.5,\n",
    ")\n",
    "\n",
    "\n",
    "# Instantiate CTR model\n",
    "ctr = cornac.models.CTR(k=50, max_iter=50, lambda_v=1)\n",
    "\n",
    "# Use Recall@300 for evaluation\n",
    "rec_300 = cornac.metrics.Recall(k=300)\n",
    "\n",
    "# Put everything together into an experiment and run it\n",
    "cornac.Experiment(eval_method=ratio_split, models=[ctr], metrics=[rec_300]).run()"
   ],
   "metadata": {
    "collapsed": false
   }
  },
  {
   "cell_type": "markdown",
   "source": [
    "## -----------------------------------"
   ],
   "metadata": {
    "collapsed": false
   }
  },
  {
   "cell_type": "markdown",
   "source": [
    "### amazon_clothing"
   ],
   "metadata": {
    "collapsed": false
   }
  },
  {
   "cell_type": "code",
   "execution_count": 79,
   "outputs": [
    {
     "name": "stdout",
     "output_type": "stream",
     "text": [
      "rating_threshold = 1.0\n",
      "exclude_unknowns = True\n",
      "---\n",
      "Training data:\n",
      "Number of users = 5081\n",
      "Number of items = 3326\n",
      "Number of ratings = 10951\n",
      "Max rating = 5.0\n",
      "Min rating = 1.0\n",
      "Global mean = 4.3\n",
      "---\n",
      "Test data:\n",
      "Number of users = 1868\n",
      "Number of items = 1453\n",
      "Number of ratings = 2200\n",
      "Number of unknown users = 0\n",
      "Number of unknown items = 0\n",
      "---\n",
      "Total users = 5081\n",
      "Total items = 3326\n",
      "\n",
      "[CTR] Training started!\n"
     ]
    },
    {
     "data": {
      "text/plain": "  0%|          | 0/50 [00:00<?, ?it/s]",
      "application/vnd.jupyter.widget-view+json": {
       "version_major": 2,
       "version_minor": 0,
       "model_id": "03633997748849258491eb77f8cd7939"
      }
     },
     "metadata": {},
     "output_type": "display_data"
    },
    {
     "name": "stdout",
     "output_type": "stream",
     "text": [
      "Learning completed!\n",
      "\n",
      "[CTR] Evaluation started!\n"
     ]
    },
    {
     "data": {
      "text/plain": "Ranking:   0%|          | 0/1868 [00:00<?, ?it/s]",
      "application/vnd.jupyter.widget-view+json": {
       "version_major": 2,
       "version_minor": 0,
       "model_id": "678406ec755e4255a6cdef24067062a0"
      }
     },
     "metadata": {},
     "output_type": "display_data"
    },
    {
     "name": "stdout",
     "output_type": "stream",
     "text": [
      "\n",
      "TEST:\n",
      "...\n",
      "    | Recall@300 | Train (s) | Test (s)\n",
      "--- + ---------- + --------- + --------\n",
      "CTR |     0.3497 |   67.5905 |   1.4467\n",
      "\n"
     ]
    }
   ],
   "source": [
    "# amazon_clothing dataset\n",
    "docs_clothing, item_ids_clothing = cornac.datasets.amazon_clothing.load_text()\n",
    "feedback_clothing = cornac.datasets.amazon_clothing.load_feedback(reader=Reader(item_set=item_ids_clothing))\n",
    "clothing_item_text_modality = TextModality(\n",
    "    corpus=docs_clothing,\n",
    "    ids=item_ids_clothing,\n",
    "    tokenizer=BaseTokenizer(sep=\" \", stop_words=\"english\"),\n",
    "    max_vocab=8000,\n",
    "    max_doc_freq=0.5,\n",
    ")\n",
    "# Define an evaluation method to split feedback into train and test sets\n",
    "clothing_ratio_split = RatioSplit(\n",
    "    data=feedback_clothing,\n",
    "    test_size=0.2,\n",
    "    exclude_unknowns=True,\n",
    "    item_text=clothing_item_text_modality,\n",
    "    verbose=True,\n",
    "    seed=123,\n",
    "    rating_threshold=1,\n",
    ")\n",
    "\n",
    "# Instantiate CTR model\n",
    "ctr = cornac.models.CTR(k=50, max_iter=50, lambda_v=1)\n",
    "\n",
    "# Use Recall@300 for evaluation\n",
    "rec_300 = cornac.metrics.Recall(k=300)\n",
    "\n",
    "# Put everything together into an experiment and run it\n",
    "cornac.Experiment(eval_method=clothing_ratio_split, models=[ctr], metrics=[rec_300]).run()"
   ],
   "metadata": {
    "collapsed": false
   }
  },
  {
   "cell_type": "markdown",
   "source": [
    "### movielens_100K\n",
    "the number of movielens doesn't affect text_modality"
   ],
   "metadata": {
    "collapsed": false
   }
  },
  {
   "cell_type": "code",
   "execution_count": 80,
   "outputs": [
    {
     "name": "stdout",
     "output_type": "stream",
     "text": [
      "10076\n",
      "10076\n"
     ]
    }
   ],
   "source": [
    "docs_movielens, item_ids_movielens = cornac.datasets.movielens.load_plot()\n",
    "print(len(docs_movielens))\n",
    "print(len(item_ids_movielens))"
   ],
   "metadata": {
    "collapsed": false
   }
  },
  {
   "cell_type": "code",
   "execution_count": 81,
   "outputs": [
    {
     "name": "stdout",
     "output_type": "stream",
     "text": [
      "94808\n"
     ]
    }
   ],
   "source": [
    "feedback_movielens_100K = cornac.datasets.movielens.load_feedback(variant=\"100K\",reader=Reader(item_set=item_ids_movielens))\n",
    "print(len(feedback_movielens_100K))"
   ],
   "metadata": {
    "collapsed": false
   }
  },
  {
   "cell_type": "code",
   "execution_count": 82,
   "outputs": [
    {
     "name": "stdout",
     "output_type": "stream",
     "text": [
      "rating_threshold = 1.0\n",
      "exclude_unknowns = True\n",
      "---\n",
      "Training data:\n",
      "Number of users = 943\n",
      "Number of items = 1518\n",
      "Number of ratings = 75846\n",
      "Max rating = 5.0\n",
      "Min rating = 1.0\n",
      "Global mean = 3.5\n",
      "---\n",
      "Test data:\n",
      "Number of users = 941\n",
      "Number of items = 1279\n",
      "Number of ratings = 18925\n",
      "Number of unknown users = 0\n",
      "Number of unknown items = 0\n",
      "---\n",
      "Total users = 943\n",
      "Total items = 1518\n",
      "\n",
      "[CTR] Training started!\n"
     ]
    },
    {
     "data": {
      "text/plain": "  0%|          | 0/50 [00:00<?, ?it/s]",
      "application/vnd.jupyter.widget-view+json": {
       "version_major": 2,
       "version_minor": 0,
       "model_id": "a1d2540a8dd64b3c90832059e5a0d3a2"
      }
     },
     "metadata": {},
     "output_type": "display_data"
    },
    {
     "name": "stdout",
     "output_type": "stream",
     "text": [
      "Learning completed!\n",
      "\n",
      "[CTR] Evaluation started!\n"
     ]
    },
    {
     "data": {
      "text/plain": "Ranking:   0%|          | 0/941 [00:00<?, ?it/s]",
      "application/vnd.jupyter.widget-view+json": {
       "version_major": 2,
       "version_minor": 0,
       "model_id": "7565e8b8cdc64020886c354f05b097d4"
      }
     },
     "metadata": {},
     "output_type": "display_data"
    },
    {
     "name": "stdout",
     "output_type": "stream",
     "text": [
      "\n",
      "TEST:\n",
      "...\n",
      "    | Recall@300 | Train (s) | Test (s)\n",
      "--- + ---------- + --------- + --------\n",
      "CTR |     0.7160 |   35.7158 |   0.4193\n",
      "\n"
     ]
    }
   ],
   "source": [
    "docs_movielens, item_ids_movielens = cornac.datasets.movielens.load_plot()\n",
    "feedback_movielens_100K = cornac.datasets.movielens.load_feedback(variant=\"100K\",reader=Reader(item_set=item_ids_movielens))\n",
    "\n",
    "movielens_item_text_modality = TextModality(\n",
    "    corpus=docs_movielens,\n",
    "    ids=item_ids_movielens,\n",
    "    tokenizer=BaseTokenizer(sep=\"\\t\", stop_words=\"english\"),\n",
    "    max_vocab=8000,\n",
    "    max_doc_freq=0.5,\n",
    ")\n",
    "# Define an evaluation method to split feedback into train and test sets\n",
    "movieslens100K_ratio_split = RatioSplit(\n",
    "    data=feedback_movielens_100K,\n",
    "    test_size=0.2,\n",
    "    exclude_unknowns=True,\n",
    "    item_text=movielens_item_text_modality,\n",
    "    verbose=True,\n",
    "    seed=123,\n",
    "    rating_threshold=1,\n",
    ")\n",
    "\n",
    "# Instantiate CTR model\n",
    "ctr = cornac.models.CTR(k=50, max_iter=50, lambda_v=1)\n",
    "\n",
    "# Use Recall@300 for evaluation\n",
    "rec_300 = cornac.metrics.Recall(k=300)\n",
    "\n",
    "# Put everything together into an experiment and run it\n",
    "cornac.Experiment(eval_method=movieslens100K_ratio_split, models=[ctr], metrics=[rec_300]).run()"
   ],
   "metadata": {
    "collapsed": false
   }
  },
  {
   "cell_type": "markdown",
   "source": [
    "### movielens_1M"
   ],
   "metadata": {
    "collapsed": false
   }
  },
  {
   "cell_type": "code",
   "execution_count": 83,
   "outputs": [
    {
     "name": "stdout",
     "output_type": "stream",
     "text": [
      "Data from http://files.grouplens.org/datasets/movielens/ml-1m.zip\n",
      "will be cached into /Users/pigr/.cornac/ml-1m/ratings.dat\n"
     ]
    },
    {
     "data": {
      "text/plain": "0.00B [00:00, ?B/s]",
      "application/vnd.jupyter.widget-view+json": {
       "version_major": 2,
       "version_minor": 0,
       "model_id": "d9d7ea391e4b461c9c6313b36beef582"
      }
     },
     "metadata": {},
     "output_type": "display_data"
    },
    {
     "name": "stdout",
     "output_type": "stream",
     "text": [
      "Unzipping ...\n",
      "File cached!\n",
      "rating_threshold = 1.0\n",
      "exclude_unknowns = True\n",
      "---\n",
      "Training data:\n",
      "Number of users = 6040\n",
      "Number of items = 3528\n",
      "Number of ratings = 794785\n",
      "Max rating = 5.0\n",
      "Min rating = 1.0\n",
      "Global mean = 3.6\n",
      "---\n",
      "Test data:\n",
      "Number of users = 6036\n",
      "Number of items = 3339\n",
      "Number of ratings = 198681\n",
      "Number of unknown users = 0\n",
      "Number of unknown items = 0\n",
      "---\n",
      "Total users = 6040\n",
      "Total items = 3528\n",
      "\n",
      "[CTR] Training started!\n"
     ]
    },
    {
     "data": {
      "text/plain": "  0%|          | 0/50 [00:00<?, ?it/s]",
      "application/vnd.jupyter.widget-view+json": {
       "version_major": 2,
       "version_minor": 0,
       "model_id": "7bd109e7dc144e78ba11f9db0c93f639"
      }
     },
     "metadata": {},
     "output_type": "display_data"
    },
    {
     "name": "stdout",
     "output_type": "stream",
     "text": [
      "Learning completed!\n",
      "\n",
      "[CTR] Evaluation started!\n"
     ]
    },
    {
     "data": {
      "text/plain": "Ranking:   0%|          | 0/6036 [00:00<?, ?it/s]",
      "application/vnd.jupyter.widget-view+json": {
       "version_major": 2,
       "version_minor": 0,
       "model_id": "1226b4f7d40f41078b425e05cb93f193"
      }
     },
     "metadata": {},
     "output_type": "display_data"
    },
    {
     "name": "stdout",
     "output_type": "stream",
     "text": [
      "\n",
      "TEST:\n",
      "...\n",
      "    | Recall@300 | Train (s) | Test (s)\n",
      "--- + ---------- + --------- + --------\n",
      "CTR |     0.6092 |  102.9871 |   4.3817\n",
      "\n"
     ]
    }
   ],
   "source": [
    "docs_movielens, item_ids_movielens = cornac.datasets.movielens.load_plot()\n",
    "feedback_movielens_1M = cornac.datasets.movielens.load_feedback(variant=\"1M\",reader=Reader(item_set=item_ids_movielens))\n",
    "\n",
    "movielens_item_text_modality = TextModality(\n",
    "    corpus=docs_movielens,\n",
    "    ids=item_ids_movielens,\n",
    "    tokenizer=BaseTokenizer(sep=\"\\t\", stop_words=\"english\"),\n",
    "    max_vocab=8000,\n",
    "    max_doc_freq=0.5,\n",
    ")\n",
    "# Define an evaluation method to split feedback into train and test sets\n",
    "movieslens1M_ratio_split = RatioSplit(\n",
    "    data=feedback_movielens_1M,\n",
    "    test_size=0.2,\n",
    "    exclude_unknowns=True,\n",
    "    item_text=movielens_item_text_modality,\n",
    "    verbose=True,\n",
    "    seed=123,\n",
    "    rating_threshold=1,\n",
    ")\n",
    "\n",
    "# Instantiate CTR model\n",
    "ctr = cornac.models.CTR(k=50, max_iter=50, lambda_v=1)\n",
    "\n",
    "# Use Recall@300 for evaluation\n",
    "rec_300 = cornac.metrics.Recall(k=300)\n",
    "\n",
    "# Put everything together into an experiment and run it\n",
    "cornac.Experiment(eval_method=movieslens1M_ratio_split, models=[ctr], metrics=[rec_300]).run()"
   ],
   "metadata": {
    "collapsed": false
   }
  },
  {
   "cell_type": "markdown",
   "source": [
    "### citeulike"
   ],
   "metadata": {
    "collapsed": false
   }
  },
  {
   "cell_type": "code",
   "execution_count": 84,
   "outputs": [
    {
     "name": "stdout",
     "output_type": "stream",
     "text": [
      "rating_threshold = 1.0\n",
      "exclude_unknowns = True\n"
     ]
    },
    {
     "name": "stderr",
     "output_type": "stream",
     "text": [
      "/Users/pigr/cornac/lib/python3.10/site-packages/cornac/data/dataset.py:361: UserWarning: 18 duplicated observations are removed!\n",
      "  warnings.warn(\"%d duplicated observations are removed!\" % dup_count)\n",
      "/Users/pigr/cornac/lib/python3.10/site-packages/cornac/data/dataset.py:361: UserWarning: 5 duplicated observations are removed!\n",
      "  warnings.warn(\"%d duplicated observations are removed!\" % dup_count)\n"
     ]
    },
    {
     "name": "stdout",
     "output_type": "stream",
     "text": [
      "---\n",
      "Training data:\n",
      "Number of users = 5551\n",
      "Number of items = 16949\n",
      "Number of ratings = 168396\n",
      "Max rating = 1.0\n",
      "Min rating = 1.0\n",
      "Global mean = 1.0\n",
      "---\n",
      "Test data:\n",
      "Number of users = 5444\n",
      "Number of items = 14146\n",
      "Number of ratings = 42053\n",
      "Number of unknown users = 0\n",
      "Number of unknown items = 0\n",
      "---\n",
      "Total users = 5551\n",
      "Total items = 16949\n",
      "\n",
      "[CTR] Training started!\n"
     ]
    },
    {
     "data": {
      "text/plain": "  0%|          | 0/50 [00:00<?, ?it/s]",
      "application/vnd.jupyter.widget-view+json": {
       "version_major": 2,
       "version_minor": 0,
       "model_id": "d0e92dd5498145d49f39422791340974"
      }
     },
     "metadata": {},
     "output_type": "display_data"
    },
    {
     "name": "stdout",
     "output_type": "stream",
     "text": [
      "Learning completed!\n",
      "\n",
      "[CTR] Evaluation started!\n"
     ]
    },
    {
     "data": {
      "text/plain": "Ranking:   0%|          | 0/5444 [00:00<?, ?it/s]",
      "application/vnd.jupyter.widget-view+json": {
       "version_major": 2,
       "version_minor": 0,
       "model_id": "82fd493313ec4b62981b80289f99089d"
      }
     },
     "metadata": {},
     "output_type": "display_data"
    },
    {
     "name": "stdout",
     "output_type": "stream",
     "text": [
      "\n",
      "TEST:\n",
      "...\n",
      "    | Recall@300 | Train (s) | Test (s)\n",
      "--- + ---------- + --------- + --------\n",
      "CTR |     0.6323 |  219.9024 |  10.7622\n",
      "\n"
     ]
    }
   ],
   "source": [
    "# citeulike dataset\n",
    "docs_citeulike, item_ids_citeulike = cornac.datasets.citeulike.load_text()\n",
    "feedback_citeulike = cornac.datasets.citeulike.load_feedback(reader=Reader(item_set=item_ids_citeulike))\n",
    "item_text_modality = TextModality(\n",
    "    corpus=docs_citeulike,\n",
    "    ids=item_ids_citeulike,\n",
    "    tokenizer=BaseTokenizer(sep=\" \", stop_words=\"english\"),\n",
    "    max_vocab=8000,\n",
    "    max_doc_freq=0.5,\n",
    ")\n",
    "# Define an evaluation method to split feedback into train and test sets\n",
    "citeulike_ratio_split = RatioSplit(\n",
    "    data=feedback_citeulike,\n",
    "    test_size=0.2,\n",
    "    exclude_unknowns=True,\n",
    "    item_text=item_text_modality,\n",
    "    verbose=True,\n",
    "    seed=123,\n",
    "    rating_threshold=1,\n",
    ")\n",
    "\n",
    "# Instantiate CTR model\n",
    "ctr = cornac.models.CTR(k=50, max_iter=50, lambda_v=1)\n",
    "\n",
    "# Use Recall@300 for evaluation\n",
    "rec_300 = cornac.metrics.Recall(k=300)\n",
    "\n",
    "# Put everything together into an experiment and run it\n",
    "cornac.Experiment(eval_method=citeulike_ratio_split, models=[ctr], metrics=[rec_300]).run()"
   ],
   "metadata": {
    "collapsed": false
   }
  },
  {
   "cell_type": "code",
   "execution_count": 86,
   "outputs": [
    {
     "data": {
      "text/plain": "['U',\n 'V',\n '__class__',\n '__deepcopy__',\n '__delattr__',\n '__dict__',\n '__dir__',\n '__doc__',\n '__eq__',\n '__format__',\n '__ge__',\n '__getattribute__',\n '__gt__',\n '__hash__',\n '__init__',\n '__init_subclass__',\n '__le__',\n '__lt__',\n '__module__',\n '__ne__',\n '__new__',\n '__reduce__',\n '__reduce_ex__',\n '__repr__',\n '__setattr__',\n '__sizeof__',\n '__str__',\n '__subclasshook__',\n '__weakref__',\n '_build_data',\n '_fit_ctr',\n '_get_init_params',\n '_init',\n 'a',\n 'b',\n 'best_epoch',\n 'best_value',\n 'clone',\n 'current_epoch',\n 'default_score',\n 'early_stop',\n 'eta',\n 'fit',\n 'ignored_attrs',\n 'init_params',\n 'k',\n 'lambda_u',\n 'lambda_v',\n 'load',\n 'max_iter',\n 'model',\n 'monitor_value',\n 'n_item',\n 'n_user',\n 'name',\n 'rank',\n 'rate',\n 'reset_info',\n 'save',\n 'score',\n 'seed',\n 'stopped_epoch',\n 'train_set',\n 'trainable',\n 'val_set',\n 'verbose',\n 'wait']"
     },
     "execution_count": 86,
     "metadata": {},
     "output_type": "execute_result"
    }
   ],
   "source": [
    "dir(ctr)"
   ],
   "metadata": {
    "collapsed": false
   }
  },
  {
   "cell_type": "markdown",
   "source": [
    "I find that in citeulike dataset, all items’ ratings are 1.0, which means that each item is seen by the user (cited), so for better training result on mind, I made a little change on training data from mind. In the original dataset, we produce the ratings based on the cliking history, “0” in the impression-logs means that even though this new appears in the user’s page, the user didn’t click it, so it means that he/she also didn’t see the news, so I extract user-item data whose rating is 1.0 (Number is 6897), and train using ctr model, the recall increases from around 0.1 to 0.2426. So I put more data into training (around 200K, similar to citeulike), and recall increases to 0.3596, and I continuously increase data to 500K, the recall increases to 0.4387; increase to 1M, recall increases to 0.5128. So finally do we need to limit the data size?"
   ],
   "metadata": {
    "collapsed": false
   }
  },
  {
   "cell_type": "code",
   "execution_count": 88,
   "outputs": [
    {
     "data": {
      "text/plain": "<Figure size 640x480 with 1 Axes>",
      "image/png": "[encoded data removed]"
     },
     "metadata": {},
     "output_type": "display_data"
    }
   ],
   "source": [
    "x = ['6897', '200K', '500K', '1M']\n",
    "y = [0.2426, 0.3596, 0.4387, 0.5128]\n",
    "plt.plot(x, y, marker='o')\n",
    "plt.xlabel(\"data size\")\n",
    "plt.ylabel(\"recall\")\n",
    "plt.show()"
   ],
   "metadata": {
    "collapsed": false
   }
  },
  {
   "cell_type": "code",
   "execution_count": 103,
   "outputs": [
    {
     "data": {
      "text/plain": "<Figure size 640x480 with 1 Axes>",
      "image/png": "[encoded data removed]"
     },
     "metadata": {},
     "output_type": "display_data"
    }
   ],
   "source": [
    "label_list = ['movielens-100K','movielens-1M','amazon-clothing','citeulike','mind-7K','mind-200K','mind-500K','mind-1M']\n",
    "x = np.arange(len(label_list))\n",
    "y = [0.7160,0.6092,0.3497,0.6323,0.2426, 0.3596, 0.4387, 0.5128]\n",
    "plt.bar(x,y)\n",
    "for x,y in zip(x,y):\n",
    "    plt.text(x+0.03,y+0.03,'%.2f' %y, ha='center',va='bottom')\n",
    "plt.xticks([0,1,2,3,4,5,6,7],label_list,rotation=90)\n",
    "plt.xlabel(\"data size\")\n",
    "plt.ylabel(\"recall\")\n",
    "plt.show()"
   ],
   "metadata": {
    "collapsed": false
   }
  },
  {
   "cell_type": "code",
   "execution_count": null,
   "outputs": [],
   "source": [],
   "metadata": {
    "collapsed": false
   }
  }
 ],
 "metadata": {
  "kernelspec": {
   "name": "python3",
   "language": "python",
   "display_name": "Python 3 (ipykernel)"
  },
  "language_info": {
   "codemirror_mode": {
    "name": "ipython",
    "version": 2
   },
   "file_extension": ".py",
   "mimetype": "text/x-python",
   "name": "python",
   "nbconvert_exporter": "python",
   "pygments_lexer": "ipython2",
   "version": "2.7.6"
  }
 },
 "nbformat": 4,
 "nbformat_minor": 0
}
