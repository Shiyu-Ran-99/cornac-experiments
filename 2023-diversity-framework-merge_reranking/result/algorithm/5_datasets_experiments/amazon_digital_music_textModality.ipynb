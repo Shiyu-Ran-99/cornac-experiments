{
 "cells": [
  {
   "cell_type": "code",
   "execution_count": 1,
   "metadata": {},
   "outputs": [
    {
     "name": "stderr",
     "output_type": "stream",
     "text": [
      "/Users/manyi/Library/Python/3.9/lib/python/site-packages/tqdm/auto.py:21: TqdmWarning: IProgress not found. Please update jupyter and ipywidgets. See https://ipywidgets.readthedocs.io/en/stable/user_install.html\n",
      "  from .autonotebook import tqdm as notebook_tqdm\n"
     ]
    },
    {
     "name": "stdout",
     "output_type": "stream",
     "text": [
      "FM model is only supported on Linux.\n",
      "Windows executable can be found at http://www.libfm.org.\n"
     ]
    }
   ],
   "source": [
    "import cornac\n",
    "from cornac.data import Reader\n",
    "from cornac.metrics import *\n",
    "from cornac.models import *\n",
    "from cornac.eval_methods import RatioSplit\n",
    "from cornac.data import TextModality\n",
    "from cornac.data.text import BaseTokenizer"
   ]
  },
  {
   "cell_type": "code",
   "execution_count": 2,
   "metadata": {},
   "outputs": [],
   "source": [
    "from cornac.datasets import amazon_digital_music"
   ]
  },
  {
   "cell_type": "code",
   "execution_count": 3,
   "metadata": {},
   "outputs": [
    {
     "name": "stdout",
     "output_type": "stream",
     "text": [
      "rating_threshold = 0.5\n",
      "exclude_unknowns = True\n",
      "---\n",
      "Training data:\n",
      "Number of users = 5541\n",
      "Number of items = 3568\n",
      "Number of ratings = 51764\n",
      "Max rating = 5.0\n",
      "Min rating = 1.0\n",
      "Global mean = 4.2\n",
      "---\n",
      "Test data:\n",
      "Number of users = 4466\n",
      "Number of items = 3103\n",
      "Number of ratings = 12942\n",
      "Number of unknown users = 0\n",
      "Number of unknown items = 0\n",
      "---\n",
      "Total users = 5541\n",
      "Total items = 3568\n"
     ]
    }
   ],
   "source": [
    "data = amazon_digital_music.load_review()\n",
    "item_ids = list(map(lambda x: x[1], data))\n",
    "docs = list(map(lambda x: x[2], data))\n",
    "feedback = amazon_digital_music.load_feedback(reader=Reader(item_set=item_ids))\n",
    "\n",
    "# Instantiate a TextModality, it makes it convenient to work with text auxiliary information\n",
    "# For more details, please refer to the tutorial on how to work with auxiliary data\n",
    "item_text_modality = TextModality(\n",
    "    corpus=docs,\n",
    "    ids=item_ids,\n",
    "    tokenizer=BaseTokenizer(stop_words=\"english\"),\n",
    "    max_vocab=8000,\n",
    "    max_doc_freq=0.5,\n",
    ")\n",
    "\n",
    "# Define an evaluation method to split feedback into train and test sets\n",
    "ratio_split = RatioSplit(\n",
    "    data=feedback,\n",
    "    test_size=0.2,\n",
    "    exclude_unknowns=True,\n",
    "    item_text=item_text_modality,\n",
    "    verbose=True,\n",
    "    seed=123,\n",
    "    rating_threshold=0.5,\n",
    ")"
   ]
  },
  {
   "cell_type": "code",
   "execution_count": 4,
   "metadata": {},
   "outputs": [],
   "source": [
    "cdl2=CDL(k=50, autoencoder_structure=[200], max_iter=30, lambda_u=0.1, lambda_v=1, lambda_w=0.1, lambda_n=1000, seed=123),\n",
    "cdr2=CDR(k=50, autoencoder_structure=[200], max_iter=100, batch_size=128, lambda_u=0.01, lambda_v=0.1, \n",
    "        lambda_w=0.0001, lambda_n=5, learning_rate=0.001, vocab_size=8000, seed=123),\n",
    "cvae2=CVAE(z_dim=50, vae_layers=[200, 100], act_fn=\"sigmoid\", input_dim=8000, lr=0.001, batch_size=128, n_epochs=100, \n",
    "        lambda_u=1e-4, lambda_v=0.001, lambda_r=10, lambda_w=1e-4, seed=123, verbose=True),\n",
    "convmf2=ConvMF(n_epochs=5, verbose=True, seed=123),\n",
    "hft2= HFT(k=10, max_iter=40, grad_iter=5, l2_reg=0.001, lambda_text=0.01, vocab_size=5000, seed=123,),\n",
    "ctr2= CTR(k=50, max_iter=50, lambda_v=1)"
   ]
  },
  {
   "cell_type": "code",
   "execution_count": 5,
   "metadata": {},
   "outputs": [],
   "source": [
    "metrics = [MAE(), RMSE(), MSE(),FMeasure(k=100),Precision(k=100), \n",
    "           Recall(k=100), NDCG(k=100), NCRR(k=100),\n",
    "           MRR(),AUC(), MAP()]"
   ]
  },
  {
   "cell_type": "code",
   "execution_count": 6,
   "metadata": {},
   "outputs": [
    {
     "name": "stdout",
     "output_type": "stream",
     "text": [
      "\n",
      "[CDR] Training started!\n"
     ]
    },
    {
     "name": "stderr",
     "output_type": "stream",
     "text": [
      "100%|██████████| 100/100 [44:09<00:00, 26.49s/it, loss=0.179]  \n"
     ]
    },
    {
     "name": "stdout",
     "output_type": "stream",
     "text": [
      "\n",
      "Learning completed\n",
      "\n",
      "[CDR] Evaluation started!\n"
     ]
    },
    {
     "name": "stderr",
     "output_type": "stream",
     "text": [
      "Rating: 100%|██████████| 12942/12942 [00:00<00:00, 154786.46it/s]\n",
      "Ranking: 100%|██████████| 4466/4466 [01:57<00:00, 38.11it/s]"
     ]
    },
    {
     "name": "stdout",
     "output_type": "stream",
     "text": [
      "\n",
      "TEST:\n",
      "...\n",
      "    |    MAE |     MSE |   RMSE |    AUC | F1@100 |    MAP |    MRR | NCRR@100 | NDCG@100 | Precision@100 | Recall@100 | Train (s) | Test (s)\n",
      "--- + ------ + ------- + ------ + ------ + ------ + ------ + ------ + -------- + -------- + ------------- + ---------- + --------- + --------\n",
      "CDR | 3.2251 | 11.6496 | 3.2940 | 0.8829 | 0.0234 | 0.0530 | 0.0846 |   0.0610 |   0.1530 |        0.0123 |     0.4799 | 2652.9431 | 118.3474\n",
      "\n"
     ]
    },
    {
     "name": "stderr",
     "output_type": "stream",
     "text": [
      "\n"
     ]
    }
   ],
   "source": [
    "cornac.Experiment(eval_method=ratio_split, models=cdr2, metrics=metrics).run()"
   ]
  },
  {
   "cell_type": "code",
   "execution_count": 14,
   "metadata": {},
   "outputs": [
    {
     "name": "stdout",
     "output_type": "stream",
     "text": [
      "\n",
      "[CDL] Training started!\n"
     ]
    },
    {
     "name": "stderr",
     "output_type": "stream",
     "text": [
      "100%|██████████| 30/30 [00:36<00:00,  1.22s/it, loss=151]\n"
     ]
    },
    {
     "name": "stdout",
     "output_type": "stream",
     "text": [
      "Learning completed!\n",
      "\n",
      "[CDL] Evaluation started!\n"
     ]
    },
    {
     "name": "stderr",
     "output_type": "stream",
     "text": [
      "Rating: 100%|██████████| 12942/12942 [00:00<00:00, 153134.14it/s]\n",
      "Ranking: 100%|██████████| 4466/4466 [00:07<00:00, 580.60it/s]"
     ]
    },
    {
     "name": "stdout",
     "output_type": "stream",
     "text": [
      "\n",
      "TEST:\n",
      "...\n",
      "    |    MAE |    MSE |   RMSE |    AUC | F1@100 |    MAP |    MRR | NCRR@100 | NDCG@100 | Precision@100 | Recall@100 | Train (s) | Test (s)\n",
      "--- + ------ + ------ + ------ + ------ + ------ + ------ + ------ + -------- + -------- + ------------- + ---------- + --------- + --------\n",
      "CDL | 2.8942 | 9.7014 | 2.9685 | 0.8629 | 0.0178 | 0.0326 | 0.0507 |   0.0358 |   0.1056 |        0.0094 |     0.3542 |   37.3302 |   8.5225\n",
      "\n"
     ]
    },
    {
     "name": "stderr",
     "output_type": "stream",
     "text": [
      "\n"
     ]
    }
   ],
   "source": [
    "cornac.Experiment(eval_method=ratio_split, models=cdl2, metrics=metrics).run()"
   ]
  },
  {
   "cell_type": "code",
   "execution_count": 8,
   "metadata": {},
   "outputs": [
    {
     "name": "stdout",
     "output_type": "stream",
     "text": [
      "\n",
      "[ConvMF] Training started!\n",
      "Epoch: 1/5\n"
     ]
    },
    {
     "name": "stderr",
     "output_type": "stream",
     "text": [
      "Optimizing CNN: 100%|██████████| 5/5 [00:26<00:00,  5.35s/it]\n"
     ]
    },
    {
     "name": "stdout",
     "output_type": "stream",
     "text": [
      "Loss: 448667136.56125 Elapsed: 80.6962s Converge: 44866713656124573865759919688861763787471452230998636363776.000000 \n",
      "Epoch: 2/5\n"
     ]
    },
    {
     "name": "stderr",
     "output_type": "stream",
     "text": [
      "Optimizing CNN: 100%|██████████| 5/5 [00:27<00:00,  5.55s/it]\n"
     ]
    },
    {
     "name": "stdout",
     "output_type": "stream",
     "text": [
      "Loss: 46789272.56446 Elapsed: 79.9633s Converge: 0.895715 \n",
      "Epoch: 3/5\n"
     ]
    },
    {
     "name": "stderr",
     "output_type": "stream",
     "text": [
      "Optimizing CNN: 100%|██████████| 5/5 [00:27<00:00,  5.52s/it]\n"
     ]
    },
    {
     "name": "stdout",
     "output_type": "stream",
     "text": [
      "Loss: 13668392.19111 Elapsed: 79.7703s Converge: 0.707873 \n",
      "Epoch: 4/5\n"
     ]
    },
    {
     "name": "stderr",
     "output_type": "stream",
     "text": [
      "Optimizing CNN: 100%|██████████| 5/5 [00:27<00:00,  5.47s/it]\n"
     ]
    },
    {
     "name": "stdout",
     "output_type": "stream",
     "text": [
      "Loss: 7162603.63693 Elapsed: 80.2352s Converge: 0.475973 \n",
      "Epoch: 5/5\n"
     ]
    },
    {
     "name": "stderr",
     "output_type": "stream",
     "text": [
      "Optimizing CNN: 100%|██████████| 5/5 [00:28<00:00,  5.64s/it]\n"
     ]
    },
    {
     "name": "stdout",
     "output_type": "stream",
     "text": [
      "Loss: 5181446.61303 Elapsed: 81.4464s Converge: 0.276597 \n",
      "\n",
      "[ConvMF] Evaluation started!\n"
     ]
    },
    {
     "name": "stderr",
     "output_type": "stream",
     "text": [
      "Rating: 100%|██████████| 12942/12942 [00:00<00:00, 193014.70it/s]\n",
      "Ranking: 100%|██████████| 4466/4466 [00:18<00:00, 244.89it/s]"
     ]
    },
    {
     "name": "stdout",
     "output_type": "stream",
     "text": [
      "\n",
      "TEST:\n",
      "...\n",
      "       |    MAE |    MSE |   RMSE |    AUC | F1@100 |    MAP |    MRR | NCRR@100 | NDCG@100 | Precision@100 | Recall@100 | Train (s) | Test (s)\n",
      "------ + ------ + ------ + ------ + ------ + ------ + ------ + ------ + -------- + -------- + ------------- + ---------- + --------- + --------\n",
      "ConvMF | 0.8898 | 1.2446 | 0.9535 | 0.5947 | 0.0042 | 0.0085 | 0.0169 |   0.0093 |   0.0250 |        0.0023 |     0.0827 |  404.2961 |  18.9562\n",
      "\n"
     ]
    },
    {
     "name": "stderr",
     "output_type": "stream",
     "text": [
      "\n"
     ]
    }
   ],
   "source": [
    "cornac.Experiment(eval_method=ratio_split, models=convmf2, metrics=metrics).run()"
   ]
  },
  {
   "cell_type": "code",
   "execution_count": 9,
   "metadata": {},
   "outputs": [
    {
     "name": "stdout",
     "output_type": "stream",
     "text": [
      "\n",
      "[CVAE] Training started!\n"
     ]
    },
    {
     "name": "stderr",
     "output_type": "stream",
     "text": [
      "100%|██████████| 100/100 [01:37<00:00,  1.03it/s, cf_loss=0.354, vae_loss=0.112]\n"
     ]
    },
    {
     "name": "stdout",
     "output_type": "stream",
     "text": [
      "\n",
      "[CVAE] Evaluation started!\n"
     ]
    },
    {
     "name": "stderr",
     "output_type": "stream",
     "text": [
      "Rating: 100%|██████████| 12942/12942 [00:00<00:00, 182982.53it/s]\n",
      "Ranking: 100%|██████████| 4466/4466 [00:20<00:00, 213.26it/s]"
     ]
    },
    {
     "name": "stdout",
     "output_type": "stream",
     "text": [
      "\n",
      "TEST:\n",
      "...\n",
      "     |    MAE |    MSE |   RMSE |    AUC | F1@100 |    MAP |    MRR | NCRR@100 | NDCG@100 | Precision@100 | Recall@100 | Train (s) | Test (s)\n",
      "---- + ------ + ------ + ------ + ------ + ------ + ------ + ------ + -------- + -------- + ------------- + ---------- + --------- + --------\n",
      "CVAE | 2.4053 | 7.3115 | 2.5105 | 0.8562 | 0.0224 | 0.0476 | 0.0776 |   0.0552 |   0.1422 |        0.0118 |     0.4456 |   97.5220 |  21.6224\n",
      "\n"
     ]
    },
    {
     "name": "stderr",
     "output_type": "stream",
     "text": [
      "\n"
     ]
    }
   ],
   "source": [
    "cornac.Experiment(eval_method=ratio_split, models=cvae2, metrics=metrics).run()"
   ]
  },
  {
   "cell_type": "code",
   "execution_count": 12,
   "metadata": {},
   "outputs": [
    {
     "name": "stdout",
     "output_type": "stream",
     "text": [
      "rating_threshold = 1.0\n",
      "exclude_unknowns = True\n",
      "---\n",
      "Training data:\n",
      "Number of users = 5541\n",
      "Number of items = 3568\n",
      "Number of ratings = 51764\n",
      "Max rating = 5.0\n",
      "Min rating = 1.0\n",
      "Global mean = 4.2\n",
      "---\n",
      "Test data:\n",
      "Number of users = 4466\n",
      "Number of items = 3103\n",
      "Number of ratings = 12942\n",
      "Number of unknown users = 0\n",
      "Number of unknown items = 0\n",
      "---\n",
      "Total users = 5541\n",
      "Total items = 3568\n",
      "\n",
      "[HFT] Training started!\n"
     ]
    },
    {
     "name": "stderr",
     "output_type": "stream",
     "text": [
      "100%|██████████| 40/40 [03:12<00:00,  4.82s/it, loss=2.12e+4]\n"
     ]
    },
    {
     "name": "stdout",
     "output_type": "stream",
     "text": [
      "Learning completed!\n",
      "\n",
      "[HFT] Evaluation started!\n"
     ]
    },
    {
     "name": "stderr",
     "output_type": "stream",
     "text": [
      "Rating: 100%|██████████| 12942/12942 [00:00<00:00, 154305.10it/s]\n",
      "Ranking: 100%|██████████| 4466/4466 [01:35<00:00, 46.95it/s] "
     ]
    },
    {
     "name": "stdout",
     "output_type": "stream",
     "text": [
      "\n",
      "TEST:\n",
      "...\n",
      "    |    MAE |    MSE |   RMSE |    AUC | F1@100 |    MAP |    MRR | NCRR@100 | NDCG@100 | Precision@100 | Recall@100 | Train (s) | Test (s)\n",
      "--- + ------ + ------ + ------ + ------ + ------ + ------ + ------ + -------- + -------- + ------------- + ---------- + --------- + --------\n",
      "HFT | 0.7441 | 1.1605 | 0.8353 | 0.4877 | 0.0025 | 0.0046 | 0.0109 |   0.0050 |   0.0133 |        0.0014 |     0.0440 |  193.4325 |  96.0480\n",
      "\n"
     ]
    },
    {
     "name": "stderr",
     "output_type": "stream",
     "text": [
      "\n"
     ]
    }
   ],
   "source": [
    "item_text_modality_hft = TextModality(\n",
    "    corpus=docs,\n",
    "    ids=item_ids,\n",
    "    tokenizer=BaseTokenizer(stop_words=\"english\"),\n",
    "    max_vocab=5000,\n",
    "    max_doc_freq=0.5,\n",
    ")\n",
    "\n",
    "# Define an evaluation method to split feedback into train and test sets\n",
    "ratio_split_hft = RatioSplit(\n",
    "    data=feedback,\n",
    "    test_size=0.2,\n",
    "    exclude_unknowns=True,\n",
    "    item_text=item_text_modality_hft,\n",
    "    verbose=True,\n",
    "    seed=123,\n",
    ")\n",
    "\n",
    "cornac.Experiment(eval_method=ratio_split_hft, models=hft2, metrics=metrics).run()"
   ]
  },
  {
   "cell_type": "code",
   "execution_count": 13,
   "metadata": {},
   "outputs": [
    {
     "name": "stdout",
     "output_type": "stream",
     "text": [
      "\n",
      "[CTR] Training started!\n"
     ]
    },
    {
     "name": "stderr",
     "output_type": "stream",
     "text": [
      "100%|██████████| 50/50 [33:40<00:00, 40.41s/it, cf_loss=6.02e+4, lda_likelihood=-6.22e+5]   \n"
     ]
    },
    {
     "name": "stdout",
     "output_type": "stream",
     "text": [
      "Learning completed!\n",
      "\n",
      "[CTR] Evaluation started!\n"
     ]
    },
    {
     "name": "stderr",
     "output_type": "stream",
     "text": [
      "Rating: 100%|██████████| 12942/12942 [00:00<00:00, 164568.28it/s]\n",
      "Ranking: 100%|██████████| 4466/4466 [00:05<00:00, 779.55it/s]"
     ]
    },
    {
     "name": "stdout",
     "output_type": "stream",
     "text": [
      "\n",
      "TEST:\n",
      "...\n",
      "    |    MAE |    MSE |   RMSE |    AUC | F1@100 |    MAP |    MRR | NCRR@100 | NDCG@100 | Precision@100 | Recall@100 | Train (s) | Test (s)\n",
      "--- + ------ + ------ + ------ + ------ + ------ + ------ + ------ + -------- + -------- + ------------- + ---------- + --------- + --------\n",
      "CTR | 2.4186 | 7.3892 | 2.5263 | 0.8589 | 0.0238 | 0.0528 | 0.0874 |   0.0620 |   0.1558 |        0.0125 |     0.4837 | 2020.6736 |   6.5359\n",
      "\n"
     ]
    },
    {
     "name": "stderr",
     "output_type": "stream",
     "text": [
      "\n"
     ]
    }
   ],
   "source": [
    "cornac.Experiment(eval_method=ratio_split, models=[ctr2], metrics=metrics).run()"
   ]
  }
 ],
 "metadata": {
  "kernelspec": {
   "display_name": "Python 3",
   "language": "python",
   "name": "python3"
  },
  "language_info": {
   "codemirror_mode": {
    "name": "ipython",
    "version": 3
   },
   "file_extension": ".py",
   "mimetype": "text/x-python",
   "name": "python",
   "nbconvert_exporter": "python",
   "pygments_lexer": "ipython3",
   "version": "3.9.6"
  },
  "orig_nbformat": 4
 },
 "nbformat": 4,
 "nbformat_minor": 2
}
