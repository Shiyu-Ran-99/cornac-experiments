{
 "cells": [
  {
   "cell_type": "code",
   "execution_count": 1,
   "metadata": {
    "collapsed": true
   },
   "outputs": [
    {
     "name": "stdout",
     "output_type": "stream",
     "text": [
      "FM model is only supported on Linux.\n",
      "Windows executable can be found at http://www.libfm.org.\n"
     ]
    },
    {
     "name": "stderr",
     "output_type": "stream",
     "text": [
      "/Users/manyi/Library/Python/3.9/lib/python/site-packages/tqdm/auto.py:21: TqdmWarning: IProgress not found. Please update jupyter and ipywidgets. See https://ipywidgets.readthedocs.io/en/stable/user_install.html\n",
      "  from .autonotebook import tqdm as notebook_tqdm\n"
     ]
    }
   ],
   "source": [
    "import numpy as np\n",
    "import pandas as pd\n",
    "from scipy.stats import entropy\n",
    "import matplotlib.pyplot as plt\n",
    "import random\n",
    "\n",
    "import cornac\n",
    "from cornac.eval_methods import RatioSplit\n",
    "from cornac.data import TextModality\n",
    "from cornac.data.text import BaseTokenizer\n",
    "from cornac.data import Reader\n",
    "from cornac.metrics import MAE,RMSE,MSE,FMeasure,Precision,Recall,NDCG,NCRR,MRR,AUC,MAP\n",
    "from cornac.models import *"
   ]
  },
  {
   "cell_type": "code",
   "execution_count": 2,
   "metadata": {
    "collapsed": false
   },
   "outputs": [],
   "source": [
    "with open ('/Users/manyi/Documents/Projects/Cornac/Algorithms/cdl/mind_algorithm_test.csv') as mind_file:\n",
    "    mind = pd.read_csv(mind_file)\n",
    "mind['story'] = mind['story'].astype('int')\n",
    "mind_ = mind[:10000]"
   ]
  },
  {
   "cell_type": "code",
   "execution_count": 3,
   "metadata": {
    "collapsed": false
   },
   "outputs": [
    {
     "name": "stdout",
     "output_type": "stream",
     "text": [
      "rating_threshold = 0.5\n",
      "exclude_unknowns = True\n",
      "---\n",
      "Training data:\n",
      "Number of users = 181\n",
      "Number of items = 3954\n",
      "Number of ratings = 7923\n",
      "Max rating = 1.0\n",
      "Min rating = 0.0\n",
      "Global mean = 0.7\n",
      "---\n",
      "Test data:\n",
      "Number of users = 169\n",
      "Number of items = 935\n",
      "Number of ratings = 1364\n",
      "Number of unknown users = 0\n",
      "Number of unknown items = 0\n",
      "---\n",
      "Total users = 181\n",
      "Total items = 3954\n"
     ]
    },
    {
     "name": "stderr",
     "output_type": "stream",
     "text": [
      "/Users/manyi/Library/Python/3.9/lib/python/site-packages/cornac/data/dataset.py:361: UserWarning: 77 duplicated observations are removed!\n",
      "  warnings.warn(\"%d duplicated observations are removed!\" % dup_count)\n",
      "/Users/manyi/Library/Python/3.9/lib/python/site-packages/cornac/data/dataset.py:361: UserWarning: 3 duplicated observations are removed!\n",
      "  warnings.warn(\"%d duplicated observations are removed!\" % dup_count)\n"
     ]
    }
   ],
   "source": [
    "# pre-process data to initialize ctr model\n",
    "mind_feedback = mind_.loc[:, ['user_id','item_id','rating']]\n",
    "# feedback = cornac.data.Dataset.from_uir(mind_feedback.itertuples(index=False))\n",
    "feedback = mind_feedback.apply(lambda x: tuple(x), axis=1).values.tolist()\n",
    "text = list(mind_['text'])\n",
    "item_ids = list(mind_['item_id'])\n",
    "# Instantiate a TextModality, it makes it convenient to work with text auxiliary information\n",
    "item_text_modality = TextModality(\n",
    "    corpus=text,\n",
    "    ids=item_ids,\n",
    "    tokenizer=BaseTokenizer(sep=\" \", stop_words=\"english\"),\n",
    "    max_vocab=8000,\n",
    "    max_doc_freq=0.5,\n",
    ")\n",
    "\n",
    "# Define an evaluation method to split feedback into train and test sets\n",
    "mind_ratio_split = RatioSplit(\n",
    "    data=feedback,\n",
    "    test_size=0.2,\n",
    "    exclude_unknowns=True,\n",
    "    item_text=item_text_modality,\n",
    "    verbose=True,\n",
    "    seed=123,\n",
    "    rating_threshold=0.5,\n",
    ")"
   ]
  },
  {
   "cell_type": "code",
   "execution_count": 4,
   "metadata": {},
   "outputs": [],
   "source": [
    "import diversity_mind\n",
    "def compute_avg_diversity(model, data, feature):\n",
    "    if (feature==\"category\"):\n",
    "        for i in range(len(set(model.train_set.user_ids))): # get the average result for all users from training data\n",
    "            result = []\n",
    "            r = diversity_mind.Retrieval(model=model,data = data,UIDX = i,TOPK = 50,feature = feature)\n",
    "            d = diversity_mind.Diversity(r.get_history(), r.get_recy())\n",
    "            result.append(d.compute())\n",
    "    else:\n",
    "        useridx = list(set([int(tuple[1]) for tuple in model.train_set.uid_map]))\n",
    "        result = []\n",
    "        i = 0\n",
    "        while i <= 200:\n",
    "            # shuffle\n",
    "            user_pair = random.sample(useridx, 2)\n",
    "            r0 = diversity_mind.Retrieval(model=model, data=data, UIDX=user_pair[0],TOPK = 50, feature=feature)\n",
    "            r1 = diversity_mind.Retrieval(model=model, data=data, UIDX=user_pair[1],TOPK = 50, feature=feature)\n",
    "            d = diversity_mind.Diversity(r0.get_recy(), r1.get_recy())\n",
    "            result.append(d.compute())\n",
    "            i += 1\n",
    "    return np.mean(result)"
   ]
  },
  {
   "cell_type": "code",
   "execution_count": 5,
   "metadata": {},
   "outputs": [],
   "source": [
    "import os\n",
    "import glob\n",
    "\n",
    "folder_path = os.getcwd()"
   ]
  },
  {
   "cell_type": "code",
   "execution_count": 6,
   "metadata": {},
   "outputs": [
    {
     "name": "stdout",
     "output_type": "stream",
     "text": [
      "\n",
      "[CDL] Training started!\n"
     ]
    },
    {
     "name": "stderr",
     "output_type": "stream",
     "text": [
      "100%|██████████| 10/10 [00:09<00:00,  1.05it/s, loss=25] \n"
     ]
    },
    {
     "name": "stdout",
     "output_type": "stream",
     "text": [
      "Learning completed!\n",
      "\n",
      "[CDL] Evaluation started!\n"
     ]
    },
    {
     "name": "stderr",
     "output_type": "stream",
     "text": [
      "Rating: 100%|██████████| 1364/1364 [00:00<00:00, 127678.78it/s]\n",
      "Ranking: 100%|██████████| 169/169 [00:00<00:00, 744.01it/s]\n"
     ]
    },
    {
     "name": "stdout",
     "output_type": "stream",
     "text": [
      "\n",
      "TEST:\n",
      "...\n",
      "    |    MAE |    MSE |   RMSE |    AUC |  F1@50 |    MAP |    MRR | NCRR@50 | NDCG@50 | Precision@50 | Recall@50 | Train (s) | Test (s)\n",
      "--- + ------ + ------ + ------ + ------ + ------ + ------ + ------ + ------- + ------- + ------------ + --------- + --------- + --------\n",
      "CDL | 0.6047 | 0.5918 | 0.7693 | 0.5024 | 0.0033 | 0.0041 | 0.0098 |  0.0033 |  0.0078 |       0.0019 |    0.0197 |   12.0218 |   0.2413\n",
      "\n",
      "CDL | 0.6047 | 0.5918 | 0.7693 | 0.5024 | 0.0033 | 0.0041 | 0.0098 |  0.0033 |  0.0078 |       0.0019 |    0.0197 |   12.0218 |   0.2413\n",
      "\n",
      "['CDL ', ' 0.6047 ', ' 0.5918 ', ' 0.7693 ', ' 0.5024 ', ' 0.0033 ', ' 0.0041 ', ' 0.0098 ', ' 0.0033 ', ' 0.0078 ', ' 0.0019 ', ' 0.0197 ', ' 12.0218 ', ' 0.2413']\n",
      "0.30902791647326533\n",
      "1.0259482385889656\n",
      "\n",
      "[CDL] Training started!\n"
     ]
    },
    {
     "name": "stderr",
     "output_type": "stream",
     "text": [
      "100%|██████████| 10/10 [00:09<00:00,  1.02it/s, loss=25] \n"
     ]
    },
    {
     "name": "stdout",
     "output_type": "stream",
     "text": [
      "Learning completed!\n",
      "\n",
      "[CDL] Evaluation started!\n"
     ]
    },
    {
     "name": "stderr",
     "output_type": "stream",
     "text": [
      "Rating: 100%|██████████| 1364/1364 [00:00<00:00, 124864.26it/s]\n",
      "Ranking: 100%|██████████| 169/169 [00:00<00:00, 465.37it/s]\n"
     ]
    },
    {
     "name": "stdout",
     "output_type": "stream",
     "text": [
      "\n",
      "TEST:\n",
      "...\n",
      "    |    MAE |    MSE |   RMSE |    AUC |  F1@50 |    MAP |    MRR | NCRR@50 | NDCG@50 | Precision@50 | Recall@50 | Train (s) | Test (s)\n",
      "--- + ------ + ------ + ------ + ------ + ------ + ------ + ------ + ------- + ------- + ------------ + --------- + --------- + --------\n",
      "CDL | 0.6047 | 0.5918 | 0.7693 | 0.5024 | 0.0033 | 0.0041 | 0.0098 |  0.0033 |  0.0078 |       0.0019 |    0.0197 |   10.2382 |   0.3786\n",
      "\n",
      "CDL | 0.6047 | 0.5918 | 0.7693 | 0.5024 | 0.0033 | 0.0041 | 0.0098 |  0.0033 |  0.0078 |       0.0019 |    0.0197 |   10.2382 |   0.3786\n",
      "\n",
      "['CDL ', ' 0.6047 ', ' 0.5918 ', ' 0.7693 ', ' 0.5024 ', ' 0.0033 ', ' 0.0041 ', ' 0.0098 ', ' 0.0033 ', ' 0.0078 ', ' 0.0019 ', ' 0.0197 ', ' 10.2382 ', ' 0.3786']\n",
      "0.30902791647326533\n",
      "1.0530293763099907\n",
      "\n",
      "[CDL] Training started!\n"
     ]
    },
    {
     "name": "stderr",
     "output_type": "stream",
     "text": [
      "100%|██████████| 10/10 [00:10<00:00,  1.02s/it, loss=25] \n"
     ]
    },
    {
     "name": "stdout",
     "output_type": "stream",
     "text": [
      "Learning completed!\n",
      "\n",
      "[CDL] Evaluation started!\n"
     ]
    },
    {
     "name": "stderr",
     "output_type": "stream",
     "text": [
      "Rating: 100%|██████████| 1364/1364 [00:00<00:00, 149890.76it/s]\n",
      "Ranking: 100%|██████████| 169/169 [00:00<00:00, 398.47it/s]\n"
     ]
    },
    {
     "name": "stdout",
     "output_type": "stream",
     "text": [
      "\n",
      "TEST:\n",
      "...\n",
      "    |    MAE |    MSE |   RMSE |    AUC |  F1@50 |    MAP |    MRR | NCRR@50 | NDCG@50 | Precision@50 | Recall@50 | Train (s) | Test (s)\n",
      "--- + ------ + ------ + ------ + ------ + ------ + ------ + ------ + ------- + ------- + ------------ + --------- + --------- + --------\n",
      "CDL | 0.6047 | 0.5918 | 0.7693 | 0.5024 | 0.0033 | 0.0041 | 0.0098 |  0.0033 |  0.0078 |       0.0019 |    0.0197 |   10.6029 |   0.4363\n",
      "\n",
      "CDL | 0.6047 | 0.5918 | 0.7693 | 0.5024 | 0.0033 | 0.0041 | 0.0098 |  0.0033 |  0.0078 |       0.0019 |    0.0197 |   10.6029 |   0.4363\n",
      "\n",
      "['CDL ', ' 0.6047 ', ' 0.5918 ', ' 0.7693 ', ' 0.5024 ', ' 0.0033 ', ' 0.0041 ', ' 0.0098 ', ' 0.0033 ', ' 0.0078 ', ' 0.0019 ', ' 0.0197 ', ' 10.6029 ', ' 0.4363']\n",
      "0.30902791647326533\n",
      "1.0269171423430885\n",
      "\n",
      "[CDL] Training started!\n"
     ]
    },
    {
     "name": "stderr",
     "output_type": "stream",
     "text": [
      "100%|██████████| 10/10 [00:09<00:00,  1.06it/s, loss=25] \n"
     ]
    },
    {
     "name": "stdout",
     "output_type": "stream",
     "text": [
      "Learning completed!\n",
      "\n",
      "[CDL] Evaluation started!\n"
     ]
    },
    {
     "name": "stderr",
     "output_type": "stream",
     "text": [
      "Rating: 100%|██████████| 1364/1364 [00:00<00:00, 160960.83it/s]\n",
      "Ranking: 100%|██████████| 169/169 [00:00<00:00, 292.68it/s]\n"
     ]
    },
    {
     "name": "stdout",
     "output_type": "stream",
     "text": [
      "\n",
      "TEST:\n",
      "...\n",
      "    |    MAE |    MSE |   RMSE |    AUC |  F1@50 |    MAP |    MRR | NCRR@50 | NDCG@50 | Precision@50 | Recall@50 | Train (s) | Test (s)\n",
      "--- + ------ + ------ + ------ + ------ + ------ + ------ + ------ + ------- + ------- + ------------ + --------- + --------- + --------\n",
      "CDL | 0.6047 | 0.5918 | 0.7693 | 0.5024 | 0.0033 | 0.0041 | 0.0098 |  0.0033 |  0.0078 |       0.0019 |    0.0197 |    9.9164 |   0.5890\n",
      "\n",
      "CDL | 0.6047 | 0.5918 | 0.7693 | 0.5024 | 0.0033 | 0.0041 | 0.0098 |  0.0033 |  0.0078 |       0.0019 |    0.0197 |    9.9164 |   0.5890\n",
      "\n",
      "['CDL ', ' 0.6047 ', ' 0.5918 ', ' 0.7693 ', ' 0.5024 ', ' 0.0033 ', ' 0.0041 ', ' 0.0098 ', ' 0.0033 ', ' 0.0078 ', ' 0.0019 ', ' 0.0197 ', ' 9.9164 ', ' 0.5890']\n",
      "0.30902791647326533\n",
      "1.112628551402574\n",
      "\n",
      "[CDL] Training started!\n"
     ]
    },
    {
     "name": "stderr",
     "output_type": "stream",
     "text": [
      "100%|██████████| 10/10 [00:09<00:00,  1.01it/s, loss=23.6]\n"
     ]
    },
    {
     "name": "stdout",
     "output_type": "stream",
     "text": [
      "Learning completed!\n",
      "\n",
      "[CDL] Evaluation started!\n"
     ]
    },
    {
     "name": "stderr",
     "output_type": "stream",
     "text": [
      "Rating: 100%|██████████| 1364/1364 [00:00<00:00, 141742.99it/s]\n",
      "Ranking: 100%|██████████| 169/169 [00:00<00:00, 309.23it/s]\n"
     ]
    },
    {
     "name": "stdout",
     "output_type": "stream",
     "text": [
      "\n",
      "TEST:\n",
      "...\n",
      "    |    MAE |    MSE |   RMSE |    AUC |  F1@50 |    MAP |    MRR | NCRR@50 | NDCG@50 | Precision@50 | Recall@50 | Train (s) | Test (s)\n",
      "--- + ------ + ------ + ------ + ------ + ------ + ------ + ------ + ------- + ------- + ------------ + --------- + --------- + --------\n",
      "CDL | 0.5739 | 0.5344 | 0.7310 | 0.5880 | 0.0070 | 0.0063 | 0.0153 |  0.0057 |  0.0153 |       0.0040 |    0.0392 |   10.4160 |   0.5591\n",
      "\n",
      "CDL | 0.5739 | 0.5344 | 0.7310 | 0.5880 | 0.0070 | 0.0063 | 0.0153 |  0.0057 |  0.0153 |       0.0040 |    0.0392 |   10.4160 |   0.5591\n",
      "\n",
      "['CDL ', ' 0.5739 ', ' 0.5344 ', ' 0.7310 ', ' 0.5880 ', ' 0.0070 ', ' 0.0063 ', ' 0.0153 ', ' 0.0057 ', ' 0.0153 ', ' 0.0040 ', ' 0.0392 ', ' 10.4160 ', ' 0.5591']\n",
      "0.27127721501636953\n",
      "1.349880664324481\n",
      "\n",
      "[CDL] Training started!\n"
     ]
    },
    {
     "name": "stderr",
     "output_type": "stream",
     "text": [
      "100%|██████████| 10/10 [00:10<00:00,  1.01s/it, loss=23.6]\n"
     ]
    },
    {
     "name": "stdout",
     "output_type": "stream",
     "text": [
      "Learning completed!\n",
      "\n",
      "[CDL] Evaluation started!\n"
     ]
    },
    {
     "name": "stderr",
     "output_type": "stream",
     "text": [
      "Rating: 100%|██████████| 1364/1364 [00:00<00:00, 156099.06it/s]\n",
      "Ranking: 100%|██████████| 169/169 [00:00<00:00, 382.23it/s]\n"
     ]
    },
    {
     "name": "stdout",
     "output_type": "stream",
     "text": [
      "\n",
      "TEST:\n",
      "...\n",
      "    |    MAE |    MSE |   RMSE |    AUC |  F1@50 |    MAP |    MRR | NCRR@50 | NDCG@50 | Precision@50 | Recall@50 | Train (s) | Test (s)\n",
      "--- + ------ + ------ + ------ + ------ + ------ + ------ + ------ + ------- + ------- + ------------ + --------- + --------- + --------\n",
      "CDL | 0.5739 | 0.5344 | 0.7310 | 0.5880 | 0.0070 | 0.0063 | 0.0153 |  0.0057 |  0.0153 |       0.0040 |    0.0392 |   10.5212 |   0.4549\n",
      "\n",
      "CDL | 0.5739 | 0.5344 | 0.7310 | 0.5880 | 0.0070 | 0.0063 | 0.0153 |  0.0057 |  0.0153 |       0.0040 |    0.0392 |   10.5212 |   0.4549\n",
      "\n",
      "['CDL ', ' 0.5739 ', ' 0.5344 ', ' 0.7310 ', ' 0.5880 ', ' 0.0070 ', ' 0.0063 ', ' 0.0153 ', ' 0.0057 ', ' 0.0153 ', ' 0.0040 ', ' 0.0392 ', ' 10.5212 ', ' 0.4549']\n",
      "0.27127721501636953\n",
      "1.3291844024990973\n",
      "\n",
      "[CDL] Training started!\n"
     ]
    },
    {
     "name": "stderr",
     "output_type": "stream",
     "text": [
      "100%|██████████| 10/10 [00:10<00:00,  1.05s/it, loss=23.6]\n"
     ]
    },
    {
     "name": "stdout",
     "output_type": "stream",
     "text": [
      "Learning completed!\n",
      "\n",
      "[CDL] Evaluation started!\n"
     ]
    },
    {
     "name": "stderr",
     "output_type": "stream",
     "text": [
      "Rating: 100%|██████████| 1364/1364 [00:00<00:00, 184769.91it/s]\n",
      "Ranking: 100%|██████████| 169/169 [00:00<00:00, 442.25it/s]\n"
     ]
    },
    {
     "name": "stdout",
     "output_type": "stream",
     "text": [
      "\n",
      "TEST:\n",
      "...\n",
      "    |    MAE |    MSE |   RMSE |    AUC |  F1@50 |    MAP |    MRR | NCRR@50 | NDCG@50 | Precision@50 | Recall@50 | Train (s) | Test (s)\n",
      "--- + ------ + ------ + ------ + ------ + ------ + ------ + ------ + ------- + ------- + ------------ + --------- + --------- + --------\n",
      "CDL | 0.5739 | 0.5344 | 0.7310 | 0.5880 | 0.0070 | 0.0063 | 0.0153 |  0.0057 |  0.0153 |       0.0040 |    0.0392 |   11.0596 |   0.3926\n",
      "\n",
      "CDL | 0.5739 | 0.5344 | 0.7310 | 0.5880 | 0.0070 | 0.0063 | 0.0153 |  0.0057 |  0.0153 |       0.0040 |    0.0392 |   11.0596 |   0.3926\n",
      "\n",
      "['CDL ', ' 0.5739 ', ' 0.5344 ', ' 0.7310 ', ' 0.5880 ', ' 0.0070 ', ' 0.0063 ', ' 0.0153 ', ' 0.0057 ', ' 0.0153 ', ' 0.0040 ', ' 0.0392 ', ' 11.0596 ', ' 0.3926']\n",
      "0.27127721501636953\n",
      "1.3359237146718415\n",
      "\n",
      "[CDL] Training started!\n"
     ]
    },
    {
     "name": "stderr",
     "output_type": "stream",
     "text": [
      "100%|██████████| 10/10 [00:10<00:00,  1.07s/it, loss=23.6]\n"
     ]
    },
    {
     "name": "stdout",
     "output_type": "stream",
     "text": [
      "Learning completed!\n",
      "\n",
      "[CDL] Evaluation started!\n"
     ]
    },
    {
     "name": "stderr",
     "output_type": "stream",
     "text": [
      "Rating: 100%|██████████| 1364/1364 [00:00<00:00, 167565.77it/s]\n",
      "Ranking: 100%|██████████| 169/169 [00:00<00:00, 346.73it/s]\n"
     ]
    },
    {
     "name": "stdout",
     "output_type": "stream",
     "text": [
      "\n",
      "TEST:\n",
      "...\n",
      "    |    MAE |    MSE |   RMSE |    AUC |  F1@50 |    MAP |    MRR | NCRR@50 | NDCG@50 | Precision@50 | Recall@50 | Train (s) | Test (s)\n",
      "--- + ------ + ------ + ------ + ------ + ------ + ------ + ------ + ------- + ------- + ------------ + --------- + --------- + --------\n",
      "CDL | 0.5739 | 0.5344 | 0.7310 | 0.5880 | 0.0070 | 0.0063 | 0.0153 |  0.0057 |  0.0153 |       0.0040 |    0.0392 |   11.0972 |   0.4984\n",
      "\n",
      "CDL | 0.5739 | 0.5344 | 0.7310 | 0.5880 | 0.0070 | 0.0063 | 0.0153 |  0.0057 |  0.0153 |       0.0040 |    0.0392 |   11.0972 |   0.4984\n",
      "\n",
      "['CDL ', ' 0.5739 ', ' 0.5344 ', ' 0.7310 ', ' 0.5880 ', ' 0.0070 ', ' 0.0063 ', ' 0.0153 ', ' 0.0057 ', ' 0.0153 ', ' 0.0040 ', ' 0.0392 ', ' 11.0972 ', ' 0.4984']\n",
      "0.27127721501636953\n",
      "1.2394932158831604\n",
      "\n",
      "[CDL] Training started!\n"
     ]
    },
    {
     "name": "stderr",
     "output_type": "stream",
     "text": [
      "100%|██████████| 10/10 [00:10<00:00,  1.09s/it, loss=23.1]\n"
     ]
    },
    {
     "name": "stdout",
     "output_type": "stream",
     "text": [
      "Learning completed!\n",
      "\n",
      "[CDL] Evaluation started!\n"
     ]
    },
    {
     "name": "stderr",
     "output_type": "stream",
     "text": [
      "Rating: 100%|██████████| 1364/1364 [00:00<00:00, 153308.97it/s]\n",
      "Ranking: 100%|██████████| 169/169 [00:00<00:00, 580.10it/s]\n"
     ]
    },
    {
     "name": "stdout",
     "output_type": "stream",
     "text": [
      "\n",
      "TEST:\n",
      "...\n",
      "    |    MAE |    MSE |   RMSE |    AUC |  F1@50 |    MAP |    MRR | NCRR@50 | NDCG@50 | Precision@50 | Recall@50 | Train (s) | Test (s)\n",
      "--- + ------ + ------ + ------ + ------ + ------ + ------ + ------ + ------- + ------- + ------------ + --------- + --------- + --------\n",
      "CDL | 0.5490 | 0.4921 | 0.7015 | 0.6146 | 0.0061 | 0.0066 | 0.0146 |  0.0046 |  0.0125 |       0.0035 |    0.0306 |   11.3097 |   0.3038\n",
      "\n",
      "CDL | 0.5490 | 0.4921 | 0.7015 | 0.6146 | 0.0061 | 0.0066 | 0.0146 |  0.0046 |  0.0125 |       0.0035 |    0.0306 |   11.3097 |   0.3038\n",
      "\n",
      "['CDL ', ' 0.5490 ', ' 0.4921 ', ' 0.7015 ', ' 0.6146 ', ' 0.0061 ', ' 0.0066 ', ' 0.0146 ', ' 0.0046 ', ' 0.0125 ', ' 0.0035 ', ' 0.0306 ', ' 11.3097 ', ' 0.3038']\n",
      "0.4870832017419298\n",
      "1.1600028351568368\n",
      "\n",
      "[CDL] Training started!\n"
     ]
    },
    {
     "name": "stderr",
     "output_type": "stream",
     "text": [
      "100%|██████████| 10/10 [00:10<00:00,  1.08s/it, loss=23.1]\n"
     ]
    },
    {
     "name": "stdout",
     "output_type": "stream",
     "text": [
      "Learning completed!\n",
      "\n",
      "[CDL] Evaluation started!\n"
     ]
    },
    {
     "name": "stderr",
     "output_type": "stream",
     "text": [
      "Rating: 100%|██████████| 1364/1364 [00:00<00:00, 145307.09it/s]\n",
      "Ranking: 100%|██████████| 169/169 [00:00<00:00, 576.38it/s]\n"
     ]
    },
    {
     "name": "stdout",
     "output_type": "stream",
     "text": [
      "\n",
      "TEST:\n",
      "...\n",
      "    |    MAE |    MSE |   RMSE |    AUC |  F1@50 |    MAP |    MRR | NCRR@50 | NDCG@50 | Precision@50 | Recall@50 | Train (s) | Test (s)\n",
      "--- + ------ + ------ + ------ + ------ + ------ + ------ + ------ + ------- + ------- + ------------ + --------- + --------- + --------\n",
      "CDL | 0.5490 | 0.4921 | 0.7015 | 0.6146 | 0.0061 | 0.0066 | 0.0146 |  0.0046 |  0.0125 |       0.0035 |    0.0306 |   11.2901 |   0.3074\n",
      "\n",
      "CDL | 0.5490 | 0.4921 | 0.7015 | 0.6146 | 0.0061 | 0.0066 | 0.0146 |  0.0046 |  0.0125 |       0.0035 |    0.0306 |   11.2901 |   0.3074\n",
      "\n",
      "['CDL ', ' 0.5490 ', ' 0.4921 ', ' 0.7015 ', ' 0.6146 ', ' 0.0061 ', ' 0.0066 ', ' 0.0146 ', ' 0.0046 ', ' 0.0125 ', ' 0.0035 ', ' 0.0306 ', ' 11.2901 ', ' 0.3074']\n",
      "0.4870832017419298\n",
      "1.1554923862272752\n",
      "\n",
      "[CDL] Training started!\n"
     ]
    },
    {
     "name": "stderr",
     "output_type": "stream",
     "text": [
      "100%|██████████| 10/10 [00:10<00:00,  1.08s/it, loss=23.1]\n"
     ]
    },
    {
     "name": "stdout",
     "output_type": "stream",
     "text": [
      "Learning completed!\n",
      "\n",
      "[CDL] Evaluation started!\n"
     ]
    },
    {
     "name": "stderr",
     "output_type": "stream",
     "text": [
      "Rating: 100%|██████████| 1364/1364 [00:00<00:00, 143384.23it/s]\n",
      "Ranking: 100%|██████████| 169/169 [00:00<00:00, 544.03it/s]\n"
     ]
    },
    {
     "name": "stdout",
     "output_type": "stream",
     "text": [
      "\n",
      "TEST:\n",
      "...\n",
      "    |    MAE |    MSE |   RMSE |    AUC |  F1@50 |    MAP |    MRR | NCRR@50 | NDCG@50 | Precision@50 | Recall@50 | Train (s) | Test (s)\n",
      "--- + ------ + ------ + ------ + ------ + ------ + ------ + ------ + ------- + ------- + ------------ + --------- + --------- + --------\n",
      "CDL | 0.5490 | 0.4921 | 0.7015 | 0.6146 | 0.0061 | 0.0066 | 0.0146 |  0.0046 |  0.0125 |       0.0035 |    0.0306 |   11.2535 |   0.3236\n",
      "\n",
      "CDL | 0.5490 | 0.4921 | 0.7015 | 0.6146 | 0.0061 | 0.0066 | 0.0146 |  0.0046 |  0.0125 |       0.0035 |    0.0306 |   11.2535 |   0.3236\n",
      "\n",
      "['CDL ', ' 0.5490 ', ' 0.4921 ', ' 0.7015 ', ' 0.6146 ', ' 0.0061 ', ' 0.0066 ', ' 0.0146 ', ' 0.0046 ', ' 0.0125 ', ' 0.0035 ', ' 0.0306 ', ' 11.2535 ', ' 0.3236']\n",
      "0.4870832017419298\n",
      "1.1498859191490027\n",
      "\n",
      "[CDL] Training started!\n"
     ]
    },
    {
     "name": "stderr",
     "output_type": "stream",
     "text": [
      "100%|██████████| 10/10 [00:10<00:00,  1.04s/it, loss=23.1]\n"
     ]
    },
    {
     "name": "stdout",
     "output_type": "stream",
     "text": [
      "Learning completed!\n",
      "\n",
      "[CDL] Evaluation started!\n"
     ]
    },
    {
     "name": "stderr",
     "output_type": "stream",
     "text": [
      "Rating: 100%|██████████| 1364/1364 [00:00<00:00, 127675.93it/s]\n",
      "Ranking: 100%|██████████| 169/169 [00:00<00:00, 470.46it/s]\n"
     ]
    },
    {
     "name": "stdout",
     "output_type": "stream",
     "text": [
      "\n",
      "TEST:\n",
      "...\n",
      "    |    MAE |    MSE |   RMSE |    AUC |  F1@50 |    MAP |    MRR | NCRR@50 | NDCG@50 | Precision@50 | Recall@50 | Train (s) | Test (s)\n",
      "--- + ------ + ------ + ------ + ------ + ------ + ------ + ------ + ------- + ------- + ------------ + --------- + --------- + --------\n",
      "CDL | 0.5490 | 0.4921 | 0.7015 | 0.6146 | 0.0061 | 0.0066 | 0.0146 |  0.0046 |  0.0125 |       0.0035 |    0.0306 |   10.8594 |   0.3730\n",
      "\n",
      "CDL | 0.5490 | 0.4921 | 0.7015 | 0.6146 | 0.0061 | 0.0066 | 0.0146 |  0.0046 |  0.0125 |       0.0035 |    0.0306 |   10.8594 |   0.3730\n",
      "\n",
      "['CDL ', ' 0.5490 ', ' 0.4921 ', ' 0.7015 ', ' 0.6146 ', ' 0.0061 ', ' 0.0066 ', ' 0.0146 ', ' 0.0046 ', ' 0.0125 ', ' 0.0035 ', ' 0.0306 ', ' 10.8594 ', ' 0.3730']\n",
      "0.4870832017419298\n",
      "1.1476484314575899\n",
      "\n",
      "[CDL] Training started!\n"
     ]
    },
    {
     "name": "stderr",
     "output_type": "stream",
     "text": [
      "100%|██████████| 10/10 [00:10<00:00,  1.08s/it, loss=22.6]\n"
     ]
    },
    {
     "name": "stdout",
     "output_type": "stream",
     "text": [
      "Learning completed!\n",
      "\n",
      "[CDL] Evaluation started!\n"
     ]
    },
    {
     "name": "stderr",
     "output_type": "stream",
     "text": [
      "Rating: 100%|██████████| 1364/1364 [00:00<00:00, 143186.85it/s]\n",
      "Ranking: 100%|██████████| 169/169 [00:00<00:00, 380.76it/s]\n"
     ]
    },
    {
     "name": "stdout",
     "output_type": "stream",
     "text": [
      "\n",
      "TEST:\n",
      "...\n",
      "    |    MAE |    MSE |   RMSE |    AUC |  F1@50 |    MAP |    MRR | NCRR@50 | NDCG@50 | Precision@50 | Recall@50 | Train (s) | Test (s)\n",
      "--- + ------ + ------ + ------ + ------ + ------ + ------ + ------ + ------- + ------- + ------------ + --------- + --------- + --------\n",
      "CDL | 0.5344 | 0.4708 | 0.6862 | 0.6812 | 0.0075 | 0.0077 | 0.0150 |  0.0050 |  0.0168 |       0.0043 |    0.0484 |   11.2434 |   0.4564\n",
      "\n",
      "CDL | 0.5344 | 0.4708 | 0.6862 | 0.6812 | 0.0075 | 0.0077 | 0.0150 |  0.0050 |  0.0168 |       0.0043 |    0.0484 |   11.2434 |   0.4564\n",
      "\n",
      "['CDL ', ' 0.5344 ', ' 0.4708 ', ' 0.6862 ', ' 0.6812 ', ' 0.0075 ', ' 0.0077 ', ' 0.0150 ', ' 0.0050 ', ' 0.0168 ', ' 0.0043 ', ' 0.0484 ', ' 11.2434 ', ' 0.4564']\n",
      "0.3181513839204783\n",
      "1.3491898058441545\n",
      "\n",
      "[CDL] Training started!\n"
     ]
    },
    {
     "name": "stderr",
     "output_type": "stream",
     "text": [
      "100%|██████████| 10/10 [00:10<00:00,  1.04s/it, loss=22.6]\n"
     ]
    },
    {
     "name": "stdout",
     "output_type": "stream",
     "text": [
      "Learning completed!\n",
      "\n",
      "[CDL] Evaluation started!\n"
     ]
    },
    {
     "name": "stderr",
     "output_type": "stream",
     "text": [
      "Rating: 100%|██████████| 1364/1364 [00:00<00:00, 159626.97it/s]\n",
      "Ranking: 100%|██████████| 169/169 [00:00<00:00, 523.42it/s]\n"
     ]
    },
    {
     "name": "stdout",
     "output_type": "stream",
     "text": [
      "\n",
      "TEST:\n",
      "...\n",
      "    |    MAE |    MSE |   RMSE |    AUC |  F1@50 |    MAP |    MRR | NCRR@50 | NDCG@50 | Precision@50 | Recall@50 | Train (s) | Test (s)\n",
      "--- + ------ + ------ + ------ + ------ + ------ + ------ + ------ + ------- + ------- + ------------ + --------- + --------- + --------\n",
      "CDL | 0.5344 | 0.4708 | 0.6862 | 0.6812 | 0.0075 | 0.0077 | 0.0150 |  0.0050 |  0.0168 |       0.0043 |    0.0484 |   10.8550 |   0.3342\n",
      "\n",
      "CDL | 0.5344 | 0.4708 | 0.6862 | 0.6812 | 0.0075 | 0.0077 | 0.0150 |  0.0050 |  0.0168 |       0.0043 |    0.0484 |   10.8550 |   0.3342\n",
      "\n",
      "['CDL ', ' 0.5344 ', ' 0.4708 ', ' 0.6862 ', ' 0.6812 ', ' 0.0075 ', ' 0.0077 ', ' 0.0150 ', ' 0.0050 ', ' 0.0168 ', ' 0.0043 ', ' 0.0484 ', ' 10.8550 ', ' 0.3342']\n",
      "0.3181513839204783\n",
      "1.2903521339692952\n",
      "\n",
      "[CDL] Training started!\n"
     ]
    },
    {
     "name": "stderr",
     "output_type": "stream",
     "text": [
      "100%|██████████| 10/10 [00:10<00:00,  1.08s/it, loss=22.6]\n"
     ]
    },
    {
     "name": "stdout",
     "output_type": "stream",
     "text": [
      "Learning completed!\n",
      "\n",
      "[CDL] Evaluation started!\n"
     ]
    },
    {
     "name": "stderr",
     "output_type": "stream",
     "text": [
      "Rating: 100%|██████████| 1364/1364 [00:00<00:00, 147536.70it/s]\n",
      "Ranking: 100%|██████████| 169/169 [00:00<00:00, 564.79it/s]\n"
     ]
    },
    {
     "name": "stdout",
     "output_type": "stream",
     "text": [
      "\n",
      "TEST:\n",
      "...\n",
      "    |    MAE |    MSE |   RMSE |    AUC |  F1@50 |    MAP |    MRR | NCRR@50 | NDCG@50 | Precision@50 | Recall@50 | Train (s) | Test (s)\n",
      "--- + ------ + ------ + ------ + ------ + ------ + ------ + ------ + ------- + ------- + ------------ + --------- + --------- + --------\n",
      "CDL | 0.5344 | 0.4708 | 0.6862 | 0.6812 | 0.0075 | 0.0077 | 0.0150 |  0.0050 |  0.0168 |       0.0043 |    0.0484 |   11.2415 |   0.3113\n",
      "\n",
      "CDL | 0.5344 | 0.4708 | 0.6862 | 0.6812 | 0.0075 | 0.0077 | 0.0150 |  0.0050 |  0.0168 |       0.0043 |    0.0484 |   11.2415 |   0.3113\n",
      "\n",
      "['CDL ', ' 0.5344 ', ' 0.4708 ', ' 0.6862 ', ' 0.6812 ', ' 0.0075 ', ' 0.0077 ', ' 0.0150 ', ' 0.0050 ', ' 0.0168 ', ' 0.0043 ', ' 0.0484 ', ' 11.2415 ', ' 0.3113']\n",
      "0.3181513839204783\n",
      "1.297534261670534\n",
      "\n",
      "[CDL] Training started!\n"
     ]
    },
    {
     "name": "stderr",
     "output_type": "stream",
     "text": [
      "100%|██████████| 10/10 [00:10<00:00,  1.05s/it, loss=22.6]\n"
     ]
    },
    {
     "name": "stdout",
     "output_type": "stream",
     "text": [
      "Learning completed!\n",
      "\n",
      "[CDL] Evaluation started!\n"
     ]
    },
    {
     "name": "stderr",
     "output_type": "stream",
     "text": [
      "Rating: 100%|██████████| 1364/1364 [00:00<00:00, 139670.19it/s]\n",
      "Ranking: 100%|██████████| 169/169 [00:00<00:00, 519.36it/s]\n"
     ]
    },
    {
     "name": "stdout",
     "output_type": "stream",
     "text": [
      "\n",
      "TEST:\n",
      "...\n",
      "    |    MAE |    MSE |   RMSE |    AUC |  F1@50 |    MAP |    MRR | NCRR@50 | NDCG@50 | Precision@50 | Recall@50 | Train (s) | Test (s)\n",
      "--- + ------ + ------ + ------ + ------ + ------ + ------ + ------ + ------- + ------- + ------------ + --------- + --------- + --------\n",
      "CDL | 0.5344 | 0.4708 | 0.6862 | 0.6812 | 0.0075 | 0.0077 | 0.0150 |  0.0050 |  0.0168 |       0.0043 |    0.0484 |   10.8861 |   0.3387\n",
      "\n",
      "CDL | 0.5344 | 0.4708 | 0.6862 | 0.6812 | 0.0075 | 0.0077 | 0.0150 |  0.0050 |  0.0168 |       0.0043 |    0.0484 |   10.8861 |   0.3387\n",
      "\n",
      "['CDL ', ' 0.5344 ', ' 0.4708 ', ' 0.6862 ', ' 0.6812 ', ' 0.0075 ', ' 0.0077 ', ' 0.0150 ', ' 0.0050 ', ' 0.0168 ', ' 0.0043 ', ' 0.0484 ', ' 10.8861 ', ' 0.3387']\n",
      "0.3181513839204783\n",
      "1.4767470653195243\n",
      "\n",
      "[CDL] Training started!\n"
     ]
    },
    {
     "name": "stderr",
     "output_type": "stream",
     "text": [
      "100%|██████████| 10/10 [00:10<00:00,  1.09s/it, loss=22.7]\n"
     ]
    },
    {
     "name": "stdout",
     "output_type": "stream",
     "text": [
      "Learning completed!\n",
      "\n",
      "[CDL] Evaluation started!\n"
     ]
    },
    {
     "name": "stderr",
     "output_type": "stream",
     "text": [
      "Rating: 100%|██████████| 1364/1364 [00:00<00:00, 169146.16it/s]\n",
      "Ranking: 100%|██████████| 169/169 [00:00<00:00, 447.16it/s]\n"
     ]
    },
    {
     "name": "stdout",
     "output_type": "stream",
     "text": [
      "\n",
      "TEST:\n",
      "...\n",
      "    |    MAE |    MSE |   RMSE |    AUC |  F1@50 |    MAP |    MRR | NCRR@50 | NDCG@50 | Precision@50 | Recall@50 | Train (s) | Test (s)\n",
      "--- + ------ + ------ + ------ + ------ + ------ + ------ + ------ + ------- + ------- + ------------ + --------- + --------- + --------\n",
      "CDL | 0.5194 | 0.4449 | 0.6670 | 0.7144 | 0.0080 | 0.0091 | 0.0168 |  0.0055 |  0.0179 |       0.0045 |    0.0519 |   11.3391 |   0.3894\n",
      "\n",
      "CDL | 0.5194 | 0.4449 | 0.6670 | 0.7144 | 0.0080 | 0.0091 | 0.0168 |  0.0055 |  0.0179 |       0.0045 |    0.0519 |   11.3391 |   0.3894\n",
      "\n",
      "['CDL ', ' 0.5194 ', ' 0.4449 ', ' 0.6670 ', ' 0.7144 ', ' 0.0080 ', ' 0.0091 ', ' 0.0168 ', ' 0.0055 ', ' 0.0179 ', ' 0.0045 ', ' 0.0519 ', ' 11.3391 ', ' 0.3894']\n",
      "0.29583758718292985\n",
      "1.2494239739146487\n",
      "\n",
      "[CDL] Training started!\n"
     ]
    },
    {
     "name": "stderr",
     "output_type": "stream",
     "text": [
      "100%|██████████| 10/10 [00:10<00:00,  1.08s/it, loss=22.7]\n"
     ]
    },
    {
     "name": "stdout",
     "output_type": "stream",
     "text": [
      "Learning completed!\n",
      "\n",
      "[CDL] Evaluation started!\n"
     ]
    },
    {
     "name": "stderr",
     "output_type": "stream",
     "text": [
      "Rating: 100%|██████████| 1364/1364 [00:00<00:00, 164690.85it/s]\n",
      "Ranking: 100%|██████████| 169/169 [00:00<00:00, 500.27it/s]\n"
     ]
    },
    {
     "name": "stdout",
     "output_type": "stream",
     "text": [
      "\n",
      "TEST:\n",
      "...\n",
      "    |    MAE |    MSE |   RMSE |    AUC |  F1@50 |    MAP |    MRR | NCRR@50 | NDCG@50 | Precision@50 | Recall@50 | Train (s) | Test (s)\n",
      "--- + ------ + ------ + ------ + ------ + ------ + ------ + ------ + ------- + ------- + ------------ + --------- + --------- + --------\n",
      "CDL | 0.5194 | 0.4449 | 0.6670 | 0.7144 | 0.0080 | 0.0091 | 0.0168 |  0.0055 |  0.0179 |       0.0045 |    0.0519 |   11.1959 |   0.3493\n",
      "\n",
      "CDL | 0.5194 | 0.4449 | 0.6670 | 0.7144 | 0.0080 | 0.0091 | 0.0168 |  0.0055 |  0.0179 |       0.0045 |    0.0519 |   11.1959 |   0.3493\n",
      "\n",
      "['CDL ', ' 0.5194 ', ' 0.4449 ', ' 0.6670 ', ' 0.7144 ', ' 0.0080 ', ' 0.0091 ', ' 0.0168 ', ' 0.0055 ', ' 0.0179 ', ' 0.0045 ', ' 0.0519 ', ' 11.1959 ', ' 0.3493']\n",
      "0.29583758718292985\n",
      "1.2950078821567743\n",
      "\n",
      "[CDL] Training started!\n"
     ]
    },
    {
     "name": "stderr",
     "output_type": "stream",
     "text": [
      "100%|██████████| 10/10 [00:10<00:00,  1.07s/it, loss=22.7]\n"
     ]
    },
    {
     "name": "stdout",
     "output_type": "stream",
     "text": [
      "Learning completed!\n",
      "\n",
      "[CDL] Evaluation started!\n"
     ]
    },
    {
     "name": "stderr",
     "output_type": "stream",
     "text": [
      "Rating: 100%|██████████| 1364/1364 [00:00<00:00, 157704.07it/s]\n",
      "Ranking: 100%|██████████| 169/169 [00:00<00:00, 486.36it/s]\n"
     ]
    },
    {
     "name": "stdout",
     "output_type": "stream",
     "text": [
      "\n",
      "TEST:\n",
      "...\n",
      "    |    MAE |    MSE |   RMSE |    AUC |  F1@50 |    MAP |    MRR | NCRR@50 | NDCG@50 | Precision@50 | Recall@50 | Train (s) | Test (s)\n",
      "--- + ------ + ------ + ------ + ------ + ------ + ------ + ------ + ------- + ------- + ------------ + --------- + --------- + --------\n",
      "CDL | 0.5194 | 0.4449 | 0.6670 | 0.7144 | 0.0080 | 0.0091 | 0.0168 |  0.0055 |  0.0179 |       0.0045 |    0.0519 |   11.1101 |   0.3591\n",
      "\n",
      "CDL | 0.5194 | 0.4449 | 0.6670 | 0.7144 | 0.0080 | 0.0091 | 0.0168 |  0.0055 |  0.0179 |       0.0045 |    0.0519 |   11.1101 |   0.3591\n",
      "\n",
      "['CDL ', ' 0.5194 ', ' 0.4449 ', ' 0.6670 ', ' 0.7144 ', ' 0.0080 ', ' 0.0091 ', ' 0.0168 ', ' 0.0055 ', ' 0.0179 ', ' 0.0045 ', ' 0.0519 ', ' 11.1101 ', ' 0.3591']\n",
      "0.29583758718292985\n",
      "1.2573674780857997\n",
      "\n",
      "[CDL] Training started!\n"
     ]
    },
    {
     "name": "stderr",
     "output_type": "stream",
     "text": [
      "100%|██████████| 10/10 [00:10<00:00,  1.04s/it, loss=22.7]\n"
     ]
    },
    {
     "name": "stdout",
     "output_type": "stream",
     "text": [
      "Learning completed!\n",
      "\n",
      "[CDL] Evaluation started!\n"
     ]
    },
    {
     "name": "stderr",
     "output_type": "stream",
     "text": [
      "Rating: 100%|██████████| 1364/1364 [00:00<00:00, 147570.95it/s]\n",
      "Ranking: 100%|██████████| 169/169 [00:00<00:00, 590.88it/s]\n"
     ]
    },
    {
     "name": "stdout",
     "output_type": "stream",
     "text": [
      "\n",
      "TEST:\n",
      "...\n",
      "    |    MAE |    MSE |   RMSE |    AUC |  F1@50 |    MAP |    MRR | NCRR@50 | NDCG@50 | Precision@50 | Recall@50 | Train (s) | Test (s)\n",
      "--- + ------ + ------ + ------ + ------ + ------ + ------ + ------ + ------- + ------- + ------------ + --------- + --------- + --------\n",
      "CDL | 0.5194 | 0.4449 | 0.6670 | 0.7144 | 0.0080 | 0.0091 | 0.0168 |  0.0055 |  0.0179 |       0.0045 |    0.0519 |   10.8677 |   0.2985\n",
      "\n",
      "CDL | 0.5194 | 0.4449 | 0.6670 | 0.7144 | 0.0080 | 0.0091 | 0.0168 |  0.0055 |  0.0179 |       0.0045 |    0.0519 |   10.8677 |   0.2985\n",
      "\n",
      "['CDL ', ' 0.5194 ', ' 0.4449 ', ' 0.6670 ', ' 0.7144 ', ' 0.0080 ', ' 0.0091 ', ' 0.0168 ', ' 0.0055 ', ' 0.0179 ', ' 0.0045 ', ' 0.0519 ', ' 10.8677 ', ' 0.2985']\n",
      "0.29583758718292985\n",
      "1.2815923057633165\n",
      "\n",
      "[CDL] Training started!\n"
     ]
    },
    {
     "name": "stderr",
     "output_type": "stream",
     "text": [
      "100%|██████████| 10/10 [00:11<00:00,  1.10s/it, loss=23] \n"
     ]
    },
    {
     "name": "stdout",
     "output_type": "stream",
     "text": [
      "Learning completed!\n",
      "\n",
      "[CDL] Evaluation started!\n"
     ]
    },
    {
     "name": "stderr",
     "output_type": "stream",
     "text": [
      "Rating: 100%|██████████| 1364/1364 [00:00<00:00, 143939.78it/s]\n",
      "Ranking: 100%|██████████| 169/169 [00:00<00:00, 277.24it/s]\n"
     ]
    },
    {
     "name": "stdout",
     "output_type": "stream",
     "text": [
      "\n",
      "TEST:\n",
      "...\n",
      "    |    MAE |    MSE |   RMSE |    AUC |  F1@50 |    MAP |    MRR | NCRR@50 | NDCG@50 | Precision@50 | Recall@50 | Train (s) | Test (s)\n",
      "--- + ------ + ------ + ------ + ------ + ------ + ------ + ------ + ------- + ------- + ------------ + --------- + --------- + --------\n",
      "CDL | 0.5206 | 0.4473 | 0.6688 | 0.7125 | 0.0103 | 0.0099 | 0.0230 |  0.0079 |  0.0243 |       0.0058 |    0.0750 |   11.4884 |   0.6227\n",
      "\n",
      "CDL | 0.5206 | 0.4473 | 0.6688 | 0.7125 | 0.0103 | 0.0099 | 0.0230 |  0.0079 |  0.0243 |       0.0058 |    0.0750 |   11.4884 |   0.6227\n",
      "\n",
      "['CDL ', ' 0.5206 ', ' 0.4473 ', ' 0.6688 ', ' 0.7125 ', ' 0.0103 ', ' 0.0099 ', ' 0.0230 ', ' 0.0079 ', ' 0.0243 ', ' 0.0058 ', ' 0.0750 ', ' 11.4884 ', ' 0.6227']\n",
      "0.2709421509237354\n",
      "1.1729169921327356\n",
      "\n",
      "[CDL] Training started!\n"
     ]
    },
    {
     "name": "stderr",
     "output_type": "stream",
     "text": [
      "100%|██████████| 10/10 [00:10<00:00,  1.05s/it, loss=23] \n"
     ]
    },
    {
     "name": "stdout",
     "output_type": "stream",
     "text": [
      "Learning completed!\n",
      "\n",
      "[CDL] Evaluation started!\n"
     ]
    },
    {
     "name": "stderr",
     "output_type": "stream",
     "text": [
      "Rating: 100%|██████████| 1364/1364 [00:00<00:00, 157595.47it/s]\n",
      "Ranking: 100%|██████████| 169/169 [00:00<00:00, 544.09it/s]\n"
     ]
    },
    {
     "name": "stdout",
     "output_type": "stream",
     "text": [
      "\n",
      "TEST:\n",
      "...\n",
      "    |    MAE |    MSE |   RMSE |    AUC |  F1@50 |    MAP |    MRR | NCRR@50 | NDCG@50 | Precision@50 | Recall@50 | Train (s) | Test (s)\n",
      "--- + ------ + ------ + ------ + ------ + ------ + ------ + ------ + ------- + ------- + ------------ + --------- + --------- + --------\n",
      "CDL | 0.5206 | 0.4473 | 0.6688 | 0.7125 | 0.0103 | 0.0099 | 0.0230 |  0.0079 |  0.0243 |       0.0058 |    0.0750 |   10.9266 |   0.3224\n",
      "\n",
      "CDL | 0.5206 | 0.4473 | 0.6688 | 0.7125 | 0.0103 | 0.0099 | 0.0230 |  0.0079 |  0.0243 |       0.0058 |    0.0750 |   10.9266 |   0.3224\n",
      "\n",
      "['CDL ', ' 0.5206 ', ' 0.4473 ', ' 0.6688 ', ' 0.7125 ', ' 0.0103 ', ' 0.0099 ', ' 0.0230 ', ' 0.0079 ', ' 0.0243 ', ' 0.0058 ', ' 0.0750 ', ' 10.9266 ', ' 0.3224']\n",
      "0.2709421509237354\n",
      "1.3689284586780073\n",
      "\n",
      "[CDL] Training started!\n"
     ]
    },
    {
     "name": "stderr",
     "output_type": "stream",
     "text": [
      "100%|██████████| 10/10 [00:10<00:00,  1.03s/it, loss=23] \n"
     ]
    },
    {
     "name": "stdout",
     "output_type": "stream",
     "text": [
      "Learning completed!\n",
      "\n",
      "[CDL] Evaluation started!\n"
     ]
    },
    {
     "name": "stderr",
     "output_type": "stream",
     "text": [
      "Rating: 100%|██████████| 1364/1364 [00:00<00:00, 142740.29it/s]\n",
      "Ranking: 100%|██████████| 169/169 [00:00<00:00, 518.01it/s]\n"
     ]
    },
    {
     "name": "stdout",
     "output_type": "stream",
     "text": [
      "\n",
      "TEST:\n",
      "...\n",
      "    |    MAE |    MSE |   RMSE |    AUC |  F1@50 |    MAP |    MRR | NCRR@50 | NDCG@50 | Precision@50 | Recall@50 | Train (s) | Test (s)\n",
      "--- + ------ + ------ + ------ + ------ + ------ + ------ + ------ + ------- + ------- + ------------ + --------- + --------- + --------\n",
      "CDL | 0.5206 | 0.4473 | 0.6688 | 0.7125 | 0.0103 | 0.0099 | 0.0230 |  0.0079 |  0.0243 |       0.0058 |    0.0750 |   10.8041 |   0.3389\n",
      "\n",
      "CDL | 0.5206 | 0.4473 | 0.6688 | 0.7125 | 0.0103 | 0.0099 | 0.0230 |  0.0079 |  0.0243 |       0.0058 |    0.0750 |   10.8041 |   0.3389\n",
      "\n",
      "['CDL ', ' 0.5206 ', ' 0.4473 ', ' 0.6688 ', ' 0.7125 ', ' 0.0103 ', ' 0.0099 ', ' 0.0230 ', ' 0.0079 ', ' 0.0243 ', ' 0.0058 ', ' 0.0750 ', ' 10.8041 ', ' 0.3389']\n",
      "0.2709421509237354\n",
      "1.2310263905007373\n",
      "\n",
      "[CDL] Training started!\n"
     ]
    },
    {
     "name": "stderr",
     "output_type": "stream",
     "text": [
      "100%|██████████| 10/10 [00:10<00:00,  1.09s/it, loss=23] \n"
     ]
    },
    {
     "name": "stdout",
     "output_type": "stream",
     "text": [
      "Learning completed!\n",
      "\n",
      "[CDL] Evaluation started!\n"
     ]
    },
    {
     "name": "stderr",
     "output_type": "stream",
     "text": [
      "Rating: 100%|██████████| 1364/1364 [00:00<00:00, 130126.93it/s]\n",
      "Ranking: 100%|██████████| 169/169 [00:00<00:00, 515.64it/s]\n"
     ]
    },
    {
     "name": "stdout",
     "output_type": "stream",
     "text": [
      "\n",
      "TEST:\n",
      "...\n",
      "    |    MAE |    MSE |   RMSE |    AUC |  F1@50 |    MAP |    MRR | NCRR@50 | NDCG@50 | Precision@50 | Recall@50 | Train (s) | Test (s)\n",
      "--- + ------ + ------ + ------ + ------ + ------ + ------ + ------ + ------- + ------- + ------------ + --------- + --------- + --------\n",
      "CDL | 0.5206 | 0.4473 | 0.6688 | 0.7125 | 0.0103 | 0.0099 | 0.0230 |  0.0079 |  0.0243 |       0.0058 |    0.0750 |   11.3482 |   0.3415\n",
      "\n",
      "CDL | 0.5206 | 0.4473 | 0.6688 | 0.7125 | 0.0103 | 0.0099 | 0.0230 |  0.0079 |  0.0243 |       0.0058 |    0.0750 |   11.3482 |   0.3415\n",
      "\n",
      "['CDL ', ' 0.5206 ', ' 0.4473 ', ' 0.6688 ', ' 0.7125 ', ' 0.0103 ', ' 0.0099 ', ' 0.0230 ', ' 0.0079 ', ' 0.0243 ', ' 0.0058 ', ' 0.0750 ', ' 11.3482 ', ' 0.3415']\n",
      "0.2709421509237354\n",
      "1.2447362892290004\n"
     ]
    }
   ],
   "source": [
    "all_data = []\n",
    "for k in [10,50,100,200,300,400]:\n",
    "    for v in [1,2,5,10]:\n",
    "        cdl = CDL(k=k, autoencoder_structure=[200], max_iter=10, lambda_u=0.1, lambda_v=1, lambda_w=0.1, lambda_n=1000, seed=123)\n",
    "        metrics = [MAE(), RMSE(), MSE(),FMeasure(k=50),Precision(k=50),\n",
    "                Recall(k=50), NDCG(k=50), NCRR(k=50),\n",
    "                MRR(),AUC(), MAP()]\n",
    "\n",
    "        # Put everything together into an experiment and run it\n",
    "        cornac.Experiment(\n",
    "            eval_method=mind_ratio_split, models=[cdl], metrics=metrics, user_based=False\n",
    "        ).run()\n",
    "\n",
    "        pattern = os.path.join(folder_path, \"CornacExp*\")\n",
    "\n",
    "        files = glob.glob(pattern)\n",
    "\n",
    "        files.sort(key=os.path.getmtime)\n",
    "\n",
    "        latest_file_path = files[-1]\n",
    "\n",
    "        with open(latest_file_path, \"r\") as file:\n",
    "            lines = file.readlines()\n",
    "            if len(lines) >= 6:\n",
    "                sixth_line = lines[5]\n",
    "                print(sixth_line)\n",
    "                string_without_spaces = \" \".join(sixth_line.split())\n",
    "                split_string = string_without_spaces.split(\"|\")\n",
    "                print(split_string)\n",
    "\n",
    "        \n",
    "        data = {\"model\":\"CDL\",\n",
    "        \"data\":\"mind\",\n",
    "        \"k\":k,\n",
    "        \"max_iter\":10,\n",
    "        \"lambda_v\":0.01,\n",
    "        \"l2_reg\":0.001,\n",
    "        \"MAE\":split_string[1],\"MSE\":split_string[2],\"RMSE\":split_string[3],\"AUC\":split_string[4],\n",
    "        \"F1\":split_string[5],\"MAP\":split_string[6],\"MRR\":split_string[7],\"NCRR\":split_string[8],\n",
    "        \"NDCG\":split_string[9],\"Precision\":split_string[10],\"Recall\":split_string[11],\n",
    "        \"category diversity\":compute_avg_diversity(cdl, mind_, \"category\"),\n",
    "        \"story diversity\":compute_avg_diversity(cdl, mind_, \"story\")}\n",
    "        \n",
    "        print(data[\"category diversity\"])\n",
    "        print(data[\"story diversity\"])\n",
    "\n",
    "        all_data.append(data)\n",
    "    \n"
   ]
  },
  {
   "cell_type": "code",
   "execution_count": 7,
   "metadata": {
    "collapsed": false
   },
   "outputs": [],
   "source": [
    "df = pd.DataFrame(columns = all_data[0].keys())\n",
    "i=0\n",
    "for d in all_data:\n",
    "    df = pd.concat([df, pd.DataFrame(d,columns = list(d.keys()),index=[i])], ignore_index=False)\n",
    "    i += 1"
   ]
  },
  {
   "cell_type": "code",
   "execution_count": 8,
   "metadata": {
    "collapsed": false
   },
   "outputs": [
    {
     "data": {
      "text/html": [
       "<div>\n",
       "<style scoped>\n",
       "    .dataframe tbody tr th:only-of-type {\n",
       "        vertical-align: middle;\n",
       "    }\n",
       "\n",
       "    .dataframe tbody tr th {\n",
       "        vertical-align: top;\n",
       "    }\n",
       "\n",
       "    .dataframe thead th {\n",
       "        text-align: right;\n",
       "    }\n",
       "</style>\n",
       "<table border=\"1\" class=\"dataframe\">\n",
       "  <thead>\n",
       "    <tr style=\"text-align: right;\">\n",
       "      <th></th>\n",
       "      <th>model</th>\n",
       "      <th>data</th>\n",
       "      <th>k</th>\n",
       "      <th>max_iter</th>\n",
       "      <th>lambda_v</th>\n",
       "      <th>l2_reg</th>\n",
       "      <th>MAE</th>\n",
       "      <th>MSE</th>\n",
       "      <th>RMSE</th>\n",
       "      <th>AUC</th>\n",
       "      <th>F1</th>\n",
       "      <th>MAP</th>\n",
       "      <th>MRR</th>\n",
       "      <th>NCRR</th>\n",
       "      <th>NDCG</th>\n",
       "      <th>Precision</th>\n",
       "      <th>Recall</th>\n",
       "      <th>category diversity</th>\n",
       "      <th>story diversity</th>\n",
       "    </tr>\n",
       "  </thead>\n",
       "  <tbody>\n",
       "    <tr>\n",
       "      <th>0</th>\n",
       "      <td>CDL</td>\n",
       "      <td>mind</td>\n",
       "      <td>10</td>\n",
       "      <td>10</td>\n",
       "      <td>0.01</td>\n",
       "      <td>0.001</td>\n",
       "      <td>0.6047</td>\n",
       "      <td>0.5918</td>\n",
       "      <td>0.7693</td>\n",
       "      <td>0.5024</td>\n",
       "      <td>0.0033</td>\n",
       "      <td>0.0041</td>\n",
       "      <td>0.0098</td>\n",
       "      <td>0.0033</td>\n",
       "      <td>0.0078</td>\n",
       "      <td>0.0019</td>\n",
       "      <td>0.0197</td>\n",
       "      <td>0.309028</td>\n",
       "      <td>1.025948</td>\n",
       "    </tr>\n",
       "    <tr>\n",
       "      <th>1</th>\n",
       "      <td>CDL</td>\n",
       "      <td>mind</td>\n",
       "      <td>10</td>\n",
       "      <td>10</td>\n",
       "      <td>0.01</td>\n",
       "      <td>0.001</td>\n",
       "      <td>0.6047</td>\n",
       "      <td>0.5918</td>\n",
       "      <td>0.7693</td>\n",
       "      <td>0.5024</td>\n",
       "      <td>0.0033</td>\n",
       "      <td>0.0041</td>\n",
       "      <td>0.0098</td>\n",
       "      <td>0.0033</td>\n",
       "      <td>0.0078</td>\n",
       "      <td>0.0019</td>\n",
       "      <td>0.0197</td>\n",
       "      <td>0.309028</td>\n",
       "      <td>1.053029</td>\n",
       "    </tr>\n",
       "    <tr>\n",
       "      <th>2</th>\n",
       "      <td>CDL</td>\n",
       "      <td>mind</td>\n",
       "      <td>10</td>\n",
       "      <td>10</td>\n",
       "      <td>0.01</td>\n",
       "      <td>0.001</td>\n",
       "      <td>0.6047</td>\n",
       "      <td>0.5918</td>\n",
       "      <td>0.7693</td>\n",
       "      <td>0.5024</td>\n",
       "      <td>0.0033</td>\n",
       "      <td>0.0041</td>\n",
       "      <td>0.0098</td>\n",
       "      <td>0.0033</td>\n",
       "      <td>0.0078</td>\n",
       "      <td>0.0019</td>\n",
       "      <td>0.0197</td>\n",
       "      <td>0.309028</td>\n",
       "      <td>1.026917</td>\n",
       "    </tr>\n",
       "    <tr>\n",
       "      <th>3</th>\n",
       "      <td>CDL</td>\n",
       "      <td>mind</td>\n",
       "      <td>10</td>\n",
       "      <td>10</td>\n",
       "      <td>0.01</td>\n",
       "      <td>0.001</td>\n",
       "      <td>0.6047</td>\n",
       "      <td>0.5918</td>\n",
       "      <td>0.7693</td>\n",
       "      <td>0.5024</td>\n",
       "      <td>0.0033</td>\n",
       "      <td>0.0041</td>\n",
       "      <td>0.0098</td>\n",
       "      <td>0.0033</td>\n",
       "      <td>0.0078</td>\n",
       "      <td>0.0019</td>\n",
       "      <td>0.0197</td>\n",
       "      <td>0.309028</td>\n",
       "      <td>1.112629</td>\n",
       "    </tr>\n",
       "    <tr>\n",
       "      <th>4</th>\n",
       "      <td>CDL</td>\n",
       "      <td>mind</td>\n",
       "      <td>50</td>\n",
       "      <td>10</td>\n",
       "      <td>0.01</td>\n",
       "      <td>0.001</td>\n",
       "      <td>0.5739</td>\n",
       "      <td>0.5344</td>\n",
       "      <td>0.7310</td>\n",
       "      <td>0.5880</td>\n",
       "      <td>0.0070</td>\n",
       "      <td>0.0063</td>\n",
       "      <td>0.0153</td>\n",
       "      <td>0.0057</td>\n",
       "      <td>0.0153</td>\n",
       "      <td>0.0040</td>\n",
       "      <td>0.0392</td>\n",
       "      <td>0.271277</td>\n",
       "      <td>1.349881</td>\n",
       "    </tr>\n",
       "    <tr>\n",
       "      <th>5</th>\n",
       "      <td>CDL</td>\n",
       "      <td>mind</td>\n",
       "      <td>50</td>\n",
       "      <td>10</td>\n",
       "      <td>0.01</td>\n",
       "      <td>0.001</td>\n",
       "      <td>0.5739</td>\n",
       "      <td>0.5344</td>\n",
       "      <td>0.7310</td>\n",
       "      <td>0.5880</td>\n",
       "      <td>0.0070</td>\n",
       "      <td>0.0063</td>\n",
       "      <td>0.0153</td>\n",
       "      <td>0.0057</td>\n",
       "      <td>0.0153</td>\n",
       "      <td>0.0040</td>\n",
       "      <td>0.0392</td>\n",
       "      <td>0.271277</td>\n",
       "      <td>1.329184</td>\n",
       "    </tr>\n",
       "    <tr>\n",
       "      <th>6</th>\n",
       "      <td>CDL</td>\n",
       "      <td>mind</td>\n",
       "      <td>50</td>\n",
       "      <td>10</td>\n",
       "      <td>0.01</td>\n",
       "      <td>0.001</td>\n",
       "      <td>0.5739</td>\n",
       "      <td>0.5344</td>\n",
       "      <td>0.7310</td>\n",
       "      <td>0.5880</td>\n",
       "      <td>0.0070</td>\n",
       "      <td>0.0063</td>\n",
       "      <td>0.0153</td>\n",
       "      <td>0.0057</td>\n",
       "      <td>0.0153</td>\n",
       "      <td>0.0040</td>\n",
       "      <td>0.0392</td>\n",
       "      <td>0.271277</td>\n",
       "      <td>1.335924</td>\n",
       "    </tr>\n",
       "    <tr>\n",
       "      <th>7</th>\n",
       "      <td>CDL</td>\n",
       "      <td>mind</td>\n",
       "      <td>50</td>\n",
       "      <td>10</td>\n",
       "      <td>0.01</td>\n",
       "      <td>0.001</td>\n",
       "      <td>0.5739</td>\n",
       "      <td>0.5344</td>\n",
       "      <td>0.7310</td>\n",
       "      <td>0.5880</td>\n",
       "      <td>0.0070</td>\n",
       "      <td>0.0063</td>\n",
       "      <td>0.0153</td>\n",
       "      <td>0.0057</td>\n",
       "      <td>0.0153</td>\n",
       "      <td>0.0040</td>\n",
       "      <td>0.0392</td>\n",
       "      <td>0.271277</td>\n",
       "      <td>1.239493</td>\n",
       "    </tr>\n",
       "    <tr>\n",
       "      <th>8</th>\n",
       "      <td>CDL</td>\n",
       "      <td>mind</td>\n",
       "      <td>100</td>\n",
       "      <td>10</td>\n",
       "      <td>0.01</td>\n",
       "      <td>0.001</td>\n",
       "      <td>0.5490</td>\n",
       "      <td>0.4921</td>\n",
       "      <td>0.7015</td>\n",
       "      <td>0.6146</td>\n",
       "      <td>0.0061</td>\n",
       "      <td>0.0066</td>\n",
       "      <td>0.0146</td>\n",
       "      <td>0.0046</td>\n",
       "      <td>0.0125</td>\n",
       "      <td>0.0035</td>\n",
       "      <td>0.0306</td>\n",
       "      <td>0.487083</td>\n",
       "      <td>1.160003</td>\n",
       "    </tr>\n",
       "    <tr>\n",
       "      <th>9</th>\n",
       "      <td>CDL</td>\n",
       "      <td>mind</td>\n",
       "      <td>100</td>\n",
       "      <td>10</td>\n",
       "      <td>0.01</td>\n",
       "      <td>0.001</td>\n",
       "      <td>0.5490</td>\n",
       "      <td>0.4921</td>\n",
       "      <td>0.7015</td>\n",
       "      <td>0.6146</td>\n",
       "      <td>0.0061</td>\n",
       "      <td>0.0066</td>\n",
       "      <td>0.0146</td>\n",
       "      <td>0.0046</td>\n",
       "      <td>0.0125</td>\n",
       "      <td>0.0035</td>\n",
       "      <td>0.0306</td>\n",
       "      <td>0.487083</td>\n",
       "      <td>1.155492</td>\n",
       "    </tr>\n",
       "    <tr>\n",
       "      <th>10</th>\n",
       "      <td>CDL</td>\n",
       "      <td>mind</td>\n",
       "      <td>100</td>\n",
       "      <td>10</td>\n",
       "      <td>0.01</td>\n",
       "      <td>0.001</td>\n",
       "      <td>0.5490</td>\n",
       "      <td>0.4921</td>\n",
       "      <td>0.7015</td>\n",
       "      <td>0.6146</td>\n",
       "      <td>0.0061</td>\n",
       "      <td>0.0066</td>\n",
       "      <td>0.0146</td>\n",
       "      <td>0.0046</td>\n",
       "      <td>0.0125</td>\n",
       "      <td>0.0035</td>\n",
       "      <td>0.0306</td>\n",
       "      <td>0.487083</td>\n",
       "      <td>1.149886</td>\n",
       "    </tr>\n",
       "    <tr>\n",
       "      <th>11</th>\n",
       "      <td>CDL</td>\n",
       "      <td>mind</td>\n",
       "      <td>100</td>\n",
       "      <td>10</td>\n",
       "      <td>0.01</td>\n",
       "      <td>0.001</td>\n",
       "      <td>0.5490</td>\n",
       "      <td>0.4921</td>\n",
       "      <td>0.7015</td>\n",
       "      <td>0.6146</td>\n",
       "      <td>0.0061</td>\n",
       "      <td>0.0066</td>\n",
       "      <td>0.0146</td>\n",
       "      <td>0.0046</td>\n",
       "      <td>0.0125</td>\n",
       "      <td>0.0035</td>\n",
       "      <td>0.0306</td>\n",
       "      <td>0.487083</td>\n",
       "      <td>1.147648</td>\n",
       "    </tr>\n",
       "    <tr>\n",
       "      <th>12</th>\n",
       "      <td>CDL</td>\n",
       "      <td>mind</td>\n",
       "      <td>200</td>\n",
       "      <td>10</td>\n",
       "      <td>0.01</td>\n",
       "      <td>0.001</td>\n",
       "      <td>0.5344</td>\n",
       "      <td>0.4708</td>\n",
       "      <td>0.6862</td>\n",
       "      <td>0.6812</td>\n",
       "      <td>0.0075</td>\n",
       "      <td>0.0077</td>\n",
       "      <td>0.0150</td>\n",
       "      <td>0.0050</td>\n",
       "      <td>0.0168</td>\n",
       "      <td>0.0043</td>\n",
       "      <td>0.0484</td>\n",
       "      <td>0.318151</td>\n",
       "      <td>1.349190</td>\n",
       "    </tr>\n",
       "    <tr>\n",
       "      <th>13</th>\n",
       "      <td>CDL</td>\n",
       "      <td>mind</td>\n",
       "      <td>200</td>\n",
       "      <td>10</td>\n",
       "      <td>0.01</td>\n",
       "      <td>0.001</td>\n",
       "      <td>0.5344</td>\n",
       "      <td>0.4708</td>\n",
       "      <td>0.6862</td>\n",
       "      <td>0.6812</td>\n",
       "      <td>0.0075</td>\n",
       "      <td>0.0077</td>\n",
       "      <td>0.0150</td>\n",
       "      <td>0.0050</td>\n",
       "      <td>0.0168</td>\n",
       "      <td>0.0043</td>\n",
       "      <td>0.0484</td>\n",
       "      <td>0.318151</td>\n",
       "      <td>1.290352</td>\n",
       "    </tr>\n",
       "    <tr>\n",
       "      <th>14</th>\n",
       "      <td>CDL</td>\n",
       "      <td>mind</td>\n",
       "      <td>200</td>\n",
       "      <td>10</td>\n",
       "      <td>0.01</td>\n",
       "      <td>0.001</td>\n",
       "      <td>0.5344</td>\n",
       "      <td>0.4708</td>\n",
       "      <td>0.6862</td>\n",
       "      <td>0.6812</td>\n",
       "      <td>0.0075</td>\n",
       "      <td>0.0077</td>\n",
       "      <td>0.0150</td>\n",
       "      <td>0.0050</td>\n",
       "      <td>0.0168</td>\n",
       "      <td>0.0043</td>\n",
       "      <td>0.0484</td>\n",
       "      <td>0.318151</td>\n",
       "      <td>1.297534</td>\n",
       "    </tr>\n",
       "    <tr>\n",
       "      <th>15</th>\n",
       "      <td>CDL</td>\n",
       "      <td>mind</td>\n",
       "      <td>200</td>\n",
       "      <td>10</td>\n",
       "      <td>0.01</td>\n",
       "      <td>0.001</td>\n",
       "      <td>0.5344</td>\n",
       "      <td>0.4708</td>\n",
       "      <td>0.6862</td>\n",
       "      <td>0.6812</td>\n",
       "      <td>0.0075</td>\n",
       "      <td>0.0077</td>\n",
       "      <td>0.0150</td>\n",
       "      <td>0.0050</td>\n",
       "      <td>0.0168</td>\n",
       "      <td>0.0043</td>\n",
       "      <td>0.0484</td>\n",
       "      <td>0.318151</td>\n",
       "      <td>1.476747</td>\n",
       "    </tr>\n",
       "    <tr>\n",
       "      <th>16</th>\n",
       "      <td>CDL</td>\n",
       "      <td>mind</td>\n",
       "      <td>300</td>\n",
       "      <td>10</td>\n",
       "      <td>0.01</td>\n",
       "      <td>0.001</td>\n",
       "      <td>0.5194</td>\n",
       "      <td>0.4449</td>\n",
       "      <td>0.6670</td>\n",
       "      <td>0.7144</td>\n",
       "      <td>0.0080</td>\n",
       "      <td>0.0091</td>\n",
       "      <td>0.0168</td>\n",
       "      <td>0.0055</td>\n",
       "      <td>0.0179</td>\n",
       "      <td>0.0045</td>\n",
       "      <td>0.0519</td>\n",
       "      <td>0.295838</td>\n",
       "      <td>1.249424</td>\n",
       "    </tr>\n",
       "    <tr>\n",
       "      <th>17</th>\n",
       "      <td>CDL</td>\n",
       "      <td>mind</td>\n",
       "      <td>300</td>\n",
       "      <td>10</td>\n",
       "      <td>0.01</td>\n",
       "      <td>0.001</td>\n",
       "      <td>0.5194</td>\n",
       "      <td>0.4449</td>\n",
       "      <td>0.6670</td>\n",
       "      <td>0.7144</td>\n",
       "      <td>0.0080</td>\n",
       "      <td>0.0091</td>\n",
       "      <td>0.0168</td>\n",
       "      <td>0.0055</td>\n",
       "      <td>0.0179</td>\n",
       "      <td>0.0045</td>\n",
       "      <td>0.0519</td>\n",
       "      <td>0.295838</td>\n",
       "      <td>1.295008</td>\n",
       "    </tr>\n",
       "    <tr>\n",
       "      <th>18</th>\n",
       "      <td>CDL</td>\n",
       "      <td>mind</td>\n",
       "      <td>300</td>\n",
       "      <td>10</td>\n",
       "      <td>0.01</td>\n",
       "      <td>0.001</td>\n",
       "      <td>0.5194</td>\n",
       "      <td>0.4449</td>\n",
       "      <td>0.6670</td>\n",
       "      <td>0.7144</td>\n",
       "      <td>0.0080</td>\n",
       "      <td>0.0091</td>\n",
       "      <td>0.0168</td>\n",
       "      <td>0.0055</td>\n",
       "      <td>0.0179</td>\n",
       "      <td>0.0045</td>\n",
       "      <td>0.0519</td>\n",
       "      <td>0.295838</td>\n",
       "      <td>1.257367</td>\n",
       "    </tr>\n",
       "    <tr>\n",
       "      <th>19</th>\n",
       "      <td>CDL</td>\n",
       "      <td>mind</td>\n",
       "      <td>300</td>\n",
       "      <td>10</td>\n",
       "      <td>0.01</td>\n",
       "      <td>0.001</td>\n",
       "      <td>0.5194</td>\n",
       "      <td>0.4449</td>\n",
       "      <td>0.6670</td>\n",
       "      <td>0.7144</td>\n",
       "      <td>0.0080</td>\n",
       "      <td>0.0091</td>\n",
       "      <td>0.0168</td>\n",
       "      <td>0.0055</td>\n",
       "      <td>0.0179</td>\n",
       "      <td>0.0045</td>\n",
       "      <td>0.0519</td>\n",
       "      <td>0.295838</td>\n",
       "      <td>1.281592</td>\n",
       "    </tr>\n",
       "    <tr>\n",
       "      <th>20</th>\n",
       "      <td>CDL</td>\n",
       "      <td>mind</td>\n",
       "      <td>400</td>\n",
       "      <td>10</td>\n",
       "      <td>0.01</td>\n",
       "      <td>0.001</td>\n",
       "      <td>0.5206</td>\n",
       "      <td>0.4473</td>\n",
       "      <td>0.6688</td>\n",
       "      <td>0.7125</td>\n",
       "      <td>0.0103</td>\n",
       "      <td>0.0099</td>\n",
       "      <td>0.0230</td>\n",
       "      <td>0.0079</td>\n",
       "      <td>0.0243</td>\n",
       "      <td>0.0058</td>\n",
       "      <td>0.0750</td>\n",
       "      <td>0.270942</td>\n",
       "      <td>1.172917</td>\n",
       "    </tr>\n",
       "    <tr>\n",
       "      <th>21</th>\n",
       "      <td>CDL</td>\n",
       "      <td>mind</td>\n",
       "      <td>400</td>\n",
       "      <td>10</td>\n",
       "      <td>0.01</td>\n",
       "      <td>0.001</td>\n",
       "      <td>0.5206</td>\n",
       "      <td>0.4473</td>\n",
       "      <td>0.6688</td>\n",
       "      <td>0.7125</td>\n",
       "      <td>0.0103</td>\n",
       "      <td>0.0099</td>\n",
       "      <td>0.0230</td>\n",
       "      <td>0.0079</td>\n",
       "      <td>0.0243</td>\n",
       "      <td>0.0058</td>\n",
       "      <td>0.0750</td>\n",
       "      <td>0.270942</td>\n",
       "      <td>1.368928</td>\n",
       "    </tr>\n",
       "    <tr>\n",
       "      <th>22</th>\n",
       "      <td>CDL</td>\n",
       "      <td>mind</td>\n",
       "      <td>400</td>\n",
       "      <td>10</td>\n",
       "      <td>0.01</td>\n",
       "      <td>0.001</td>\n",
       "      <td>0.5206</td>\n",
       "      <td>0.4473</td>\n",
       "      <td>0.6688</td>\n",
       "      <td>0.7125</td>\n",
       "      <td>0.0103</td>\n",
       "      <td>0.0099</td>\n",
       "      <td>0.0230</td>\n",
       "      <td>0.0079</td>\n",
       "      <td>0.0243</td>\n",
       "      <td>0.0058</td>\n",
       "      <td>0.0750</td>\n",
       "      <td>0.270942</td>\n",
       "      <td>1.231026</td>\n",
       "    </tr>\n",
       "    <tr>\n",
       "      <th>23</th>\n",
       "      <td>CDL</td>\n",
       "      <td>mind</td>\n",
       "      <td>400</td>\n",
       "      <td>10</td>\n",
       "      <td>0.01</td>\n",
       "      <td>0.001</td>\n",
       "      <td>0.5206</td>\n",
       "      <td>0.4473</td>\n",
       "      <td>0.6688</td>\n",
       "      <td>0.7125</td>\n",
       "      <td>0.0103</td>\n",
       "      <td>0.0099</td>\n",
       "      <td>0.0230</td>\n",
       "      <td>0.0079</td>\n",
       "      <td>0.0243</td>\n",
       "      <td>0.0058</td>\n",
       "      <td>0.0750</td>\n",
       "      <td>0.270942</td>\n",
       "      <td>1.244736</td>\n",
       "    </tr>\n",
       "  </tbody>\n",
       "</table>\n",
       "</div>"
      ],
      "text/plain": [
       "   model  data    k max_iter  lambda_v  l2_reg       MAE       MSE      RMSE  \\\n",
       "0    CDL  mind   10       10      0.01   0.001   0.6047    0.5918    0.7693    \n",
       "1    CDL  mind   10       10      0.01   0.001   0.6047    0.5918    0.7693    \n",
       "2    CDL  mind   10       10      0.01   0.001   0.6047    0.5918    0.7693    \n",
       "3    CDL  mind   10       10      0.01   0.001   0.6047    0.5918    0.7693    \n",
       "4    CDL  mind   50       10      0.01   0.001   0.5739    0.5344    0.7310    \n",
       "5    CDL  mind   50       10      0.01   0.001   0.5739    0.5344    0.7310    \n",
       "6    CDL  mind   50       10      0.01   0.001   0.5739    0.5344    0.7310    \n",
       "7    CDL  mind   50       10      0.01   0.001   0.5739    0.5344    0.7310    \n",
       "8    CDL  mind  100       10      0.01   0.001   0.5490    0.4921    0.7015    \n",
       "9    CDL  mind  100       10      0.01   0.001   0.5490    0.4921    0.7015    \n",
       "10   CDL  mind  100       10      0.01   0.001   0.5490    0.4921    0.7015    \n",
       "11   CDL  mind  100       10      0.01   0.001   0.5490    0.4921    0.7015    \n",
       "12   CDL  mind  200       10      0.01   0.001   0.5344    0.4708    0.6862    \n",
       "13   CDL  mind  200       10      0.01   0.001   0.5344    0.4708    0.6862    \n",
       "14   CDL  mind  200       10      0.01   0.001   0.5344    0.4708    0.6862    \n",
       "15   CDL  mind  200       10      0.01   0.001   0.5344    0.4708    0.6862    \n",
       "16   CDL  mind  300       10      0.01   0.001   0.5194    0.4449    0.6670    \n",
       "17   CDL  mind  300       10      0.01   0.001   0.5194    0.4449    0.6670    \n",
       "18   CDL  mind  300       10      0.01   0.001   0.5194    0.4449    0.6670    \n",
       "19   CDL  mind  300       10      0.01   0.001   0.5194    0.4449    0.6670    \n",
       "20   CDL  mind  400       10      0.01   0.001   0.5206    0.4473    0.6688    \n",
       "21   CDL  mind  400       10      0.01   0.001   0.5206    0.4473    0.6688    \n",
       "22   CDL  mind  400       10      0.01   0.001   0.5206    0.4473    0.6688    \n",
       "23   CDL  mind  400       10      0.01   0.001   0.5206    0.4473    0.6688    \n",
       "\n",
       "         AUC        F1       MAP       MRR      NCRR      NDCG Precision  \\\n",
       "0    0.5024    0.0033    0.0041    0.0098    0.0033    0.0078    0.0019    \n",
       "1    0.5024    0.0033    0.0041    0.0098    0.0033    0.0078    0.0019    \n",
       "2    0.5024    0.0033    0.0041    0.0098    0.0033    0.0078    0.0019    \n",
       "3    0.5024    0.0033    0.0041    0.0098    0.0033    0.0078    0.0019    \n",
       "4    0.5880    0.0070    0.0063    0.0153    0.0057    0.0153    0.0040    \n",
       "5    0.5880    0.0070    0.0063    0.0153    0.0057    0.0153    0.0040    \n",
       "6    0.5880    0.0070    0.0063    0.0153    0.0057    0.0153    0.0040    \n",
       "7    0.5880    0.0070    0.0063    0.0153    0.0057    0.0153    0.0040    \n",
       "8    0.6146    0.0061    0.0066    0.0146    0.0046    0.0125    0.0035    \n",
       "9    0.6146    0.0061    0.0066    0.0146    0.0046    0.0125    0.0035    \n",
       "10   0.6146    0.0061    0.0066    0.0146    0.0046    0.0125    0.0035    \n",
       "11   0.6146    0.0061    0.0066    0.0146    0.0046    0.0125    0.0035    \n",
       "12   0.6812    0.0075    0.0077    0.0150    0.0050    0.0168    0.0043    \n",
       "13   0.6812    0.0075    0.0077    0.0150    0.0050    0.0168    0.0043    \n",
       "14   0.6812    0.0075    0.0077    0.0150    0.0050    0.0168    0.0043    \n",
       "15   0.6812    0.0075    0.0077    0.0150    0.0050    0.0168    0.0043    \n",
       "16   0.7144    0.0080    0.0091    0.0168    0.0055    0.0179    0.0045    \n",
       "17   0.7144    0.0080    0.0091    0.0168    0.0055    0.0179    0.0045    \n",
       "18   0.7144    0.0080    0.0091    0.0168    0.0055    0.0179    0.0045    \n",
       "19   0.7144    0.0080    0.0091    0.0168    0.0055    0.0179    0.0045    \n",
       "20   0.7125    0.0103    0.0099    0.0230    0.0079    0.0243    0.0058    \n",
       "21   0.7125    0.0103    0.0099    0.0230    0.0079    0.0243    0.0058    \n",
       "22   0.7125    0.0103    0.0099    0.0230    0.0079    0.0243    0.0058    \n",
       "23   0.7125    0.0103    0.0099    0.0230    0.0079    0.0243    0.0058    \n",
       "\n",
       "      Recall  category diversity  story diversity  \n",
       "0    0.0197             0.309028         1.025948  \n",
       "1    0.0197             0.309028         1.053029  \n",
       "2    0.0197             0.309028         1.026917  \n",
       "3    0.0197             0.309028         1.112629  \n",
       "4    0.0392             0.271277         1.349881  \n",
       "5    0.0392             0.271277         1.329184  \n",
       "6    0.0392             0.271277         1.335924  \n",
       "7    0.0392             0.271277         1.239493  \n",
       "8    0.0306             0.487083         1.160003  \n",
       "9    0.0306             0.487083         1.155492  \n",
       "10   0.0306             0.487083         1.149886  \n",
       "11   0.0306             0.487083         1.147648  \n",
       "12   0.0484             0.318151         1.349190  \n",
       "13   0.0484             0.318151         1.290352  \n",
       "14   0.0484             0.318151         1.297534  \n",
       "15   0.0484             0.318151         1.476747  \n",
       "16   0.0519             0.295838         1.249424  \n",
       "17   0.0519             0.295838         1.295008  \n",
       "18   0.0519             0.295838         1.257367  \n",
       "19   0.0519             0.295838         1.281592  \n",
       "20   0.0750             0.270942         1.172917  \n",
       "21   0.0750             0.270942         1.368928  \n",
       "22   0.0750             0.270942         1.231026  \n",
       "23   0.0750             0.270942         1.244736  "
      ]
     },
     "execution_count": 8,
     "metadata": {},
     "output_type": "execute_result"
    }
   ],
   "source": [
    "df"
   ]
  },
  {
   "cell_type": "code",
   "execution_count": 10,
   "metadata": {
    "collapsed": false
   },
   "outputs": [],
   "source": [
    "df.to_csv('/Users/manyi/Documents/Projects/Cornac/data/cdl_mind_data.csv',header=-1,index=0)"
   ]
  }
 ],
 "metadata": {
  "kernelspec": {
   "display_name": "Python 3",
   "language": "python",
   "name": "python3"
  },
  "language_info": {
   "codemirror_mode": {
    "name": "ipython",
    "version": 3
   },
   "file_extension": ".py",
   "mimetype": "text/x-python",
   "name": "python",
   "nbconvert_exporter": "python",
   "pygments_lexer": "ipython3",
   "version": "3.9.6"
  }
 },
 "nbformat": 4,
 "nbformat_minor": 0
}
