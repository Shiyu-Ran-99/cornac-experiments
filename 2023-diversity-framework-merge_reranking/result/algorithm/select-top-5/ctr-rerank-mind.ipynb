{
 "cells": [
  {
   "cell_type": "code",
   "execution_count": 1,
   "metadata": {
    "collapsed": true
   },
   "outputs": [
    {
     "name": "stdout",
     "output_type": "stream",
     "text": [
      "FM model is only supported on Linux.\n",
      "Windows executable can be found at http://www.libfm.org.\n"
     ]
    }
   ],
   "source": [
    "import numpy as np\n",
    "import pandas as pd\n",
    "\n",
    "import cornac\n",
    "from cornac.eval_methods import RatioSplit\n",
    "from cornac.data import TextModality\n",
    "from cornac.data.text import BaseTokenizer\n",
    "from cornac.models import CTR\n",
    "from cornac.metrics import MAE,RMSE,MSE,FMeasure,Precision,Recall,NDCG,NCRR,MRR,AUC,MAP"
   ]
  },
  {
   "cell_type": "code",
   "execution_count": 2,
   "outputs": [
    {
     "data": {
      "text/plain": "  user_id item_id  rating        date category   \n0  U13740  N55189       1  2019-10-15       tv  \\\n1  U13740  N42782       1  2019-10-19   sports   \n2  U13740  N34694       1  2019-10-19       tv   \n3  U13740  N45794       1  2019-10-23     news   \n4  U13740  N18445       1  2019-10-27   sports   \n\n                                             url   \n0  https://assets.msn.com/labs/mind/AAIORni.html  \\\n1  https://assets.msn.com/labs/mind/AAJ1mE9.html   \n2  https://assets.msn.com/labs/mind/AAIZa64.html   \n3  https://assets.msn.com/labs/mind/AAJcQKF.html   \n4  https://assets.msn.com/labs/mind/AAJpMXE.html   \n\n                                                text   \n0  We’d like to solve the puzzle, Pat: Blair Davi...  \\\n1  The Yankees forced a Game 6 on Friday as it to...   \n2  A living legend. Rosie O’Donnell gave Us Weekl...   \n3  Four American Airlines flight attendants were ...   \n4  Michigan sent a funny tweet on Saturday night ...   \n\n                                            entities  sentiment  complexity   \n0  [{'text': 'Cardiff', 'alternative': ['Cardiff'...   0.091856       62.17  \\\n1  [{'text': 'second', 'alternative': ['second'],...   0.028105       73.92   \n2  [{'text': '90', 'alternative': ['90'], 'freque...   0.330846       81.63   \n3  [{'text': 'Four', 'alternative': ['Four'], 'fr...   0.044328       61.26   \n4  [{'text': 'two', 'alternative': ['two'], 'freq...   0.166667       90.29   \n\n   publication_date                                      entities_base   \n0      1.571098e+12  [{'text': 'Pat', 'start_char': 31, 'end_char':...  \\\n1      1.571443e+12  [{'text': 'Yankees', 'start_char': 4, 'end_cha...   \n2      1.571443e+12  [{'text': 'Us Weekly', 'start_char': 38, 'end_...   \n3      1.571789e+12  [{'text': 'Four', 'start_char': 0, 'end_char':...   \n4      1.572134e+12  [{'text': 'Michigan', 'start_char': 0, 'end_ch...   \n\n                                   enriched_entities  story  \n0  [{'text': 'Cardiff', 'alternative': ['Cardiff'...    766  \n1  [{'text': 'second', 'alternative': ['second'],...    444  \n2  [{'text': '90', 'alternative': ['90'], 'freque...   1331  \n3  [{'text': 'Four', 'alternative': ['Four'], 'fr...      0  \n4  [{'text': 'two', 'alternative': ['two'], 'freq...      0  ",
      "text/html": "<div>\n<style scoped>\n    .dataframe tbody tr th:only-of-type {\n        vertical-align: middle;\n    }\n\n    .dataframe tbody tr th {\n        vertical-align: top;\n    }\n\n    .dataframe thead th {\n        text-align: right;\n    }\n</style>\n<table border=\"1\" class=\"dataframe\">\n  <thead>\n    <tr style=\"text-align: right;\">\n      <th></th>\n      <th>user_id</th>\n      <th>item_id</th>\n      <th>rating</th>\n      <th>date</th>\n      <th>category</th>\n      <th>url</th>\n      <th>text</th>\n      <th>entities</th>\n      <th>sentiment</th>\n      <th>complexity</th>\n      <th>publication_date</th>\n      <th>entities_base</th>\n      <th>enriched_entities</th>\n      <th>story</th>\n    </tr>\n  </thead>\n  <tbody>\n    <tr>\n      <th>0</th>\n      <td>U13740</td>\n      <td>N55189</td>\n      <td>1</td>\n      <td>2019-10-15</td>\n      <td>tv</td>\n      <td>https://assets.msn.com/labs/mind/AAIORni.html</td>\n      <td>We’d like to solve the puzzle, Pat: Blair Davi...</td>\n      <td>[{'text': 'Cardiff', 'alternative': ['Cardiff'...</td>\n      <td>0.091856</td>\n      <td>62.17</td>\n      <td>1.571098e+12</td>\n      <td>[{'text': 'Pat', 'start_char': 31, 'end_char':...</td>\n      <td>[{'text': 'Cardiff', 'alternative': ['Cardiff'...</td>\n      <td>766</td>\n    </tr>\n    <tr>\n      <th>1</th>\n      <td>U13740</td>\n      <td>N42782</td>\n      <td>1</td>\n      <td>2019-10-19</td>\n      <td>sports</td>\n      <td>https://assets.msn.com/labs/mind/AAJ1mE9.html</td>\n      <td>The Yankees forced a Game 6 on Friday as it to...</td>\n      <td>[{'text': 'second', 'alternative': ['second'],...</td>\n      <td>0.028105</td>\n      <td>73.92</td>\n      <td>1.571443e+12</td>\n      <td>[{'text': 'Yankees', 'start_char': 4, 'end_cha...</td>\n      <td>[{'text': 'second', 'alternative': ['second'],...</td>\n      <td>444</td>\n    </tr>\n    <tr>\n      <th>2</th>\n      <td>U13740</td>\n      <td>N34694</td>\n      <td>1</td>\n      <td>2019-10-19</td>\n      <td>tv</td>\n      <td>https://assets.msn.com/labs/mind/AAIZa64.html</td>\n      <td>A living legend. Rosie O’Donnell gave Us Weekl...</td>\n      <td>[{'text': '90', 'alternative': ['90'], 'freque...</td>\n      <td>0.330846</td>\n      <td>81.63</td>\n      <td>1.571443e+12</td>\n      <td>[{'text': 'Us Weekly', 'start_char': 38, 'end_...</td>\n      <td>[{'text': '90', 'alternative': ['90'], 'freque...</td>\n      <td>1331</td>\n    </tr>\n    <tr>\n      <th>3</th>\n      <td>U13740</td>\n      <td>N45794</td>\n      <td>1</td>\n      <td>2019-10-23</td>\n      <td>news</td>\n      <td>https://assets.msn.com/labs/mind/AAJcQKF.html</td>\n      <td>Four American Airlines flight attendants were ...</td>\n      <td>[{'text': 'Four', 'alternative': ['Four'], 'fr...</td>\n      <td>0.044328</td>\n      <td>61.26</td>\n      <td>1.571789e+12</td>\n      <td>[{'text': 'Four', 'start_char': 0, 'end_char':...</td>\n      <td>[{'text': 'Four', 'alternative': ['Four'], 'fr...</td>\n      <td>0</td>\n    </tr>\n    <tr>\n      <th>4</th>\n      <td>U13740</td>\n      <td>N18445</td>\n      <td>1</td>\n      <td>2019-10-27</td>\n      <td>sports</td>\n      <td>https://assets.msn.com/labs/mind/AAJpMXE.html</td>\n      <td>Michigan sent a funny tweet on Saturday night ...</td>\n      <td>[{'text': 'two', 'alternative': ['two'], 'freq...</td>\n      <td>0.166667</td>\n      <td>90.29</td>\n      <td>1.572134e+12</td>\n      <td>[{'text': 'Michigan', 'start_char': 0, 'end_ch...</td>\n      <td>[{'text': 'two', 'alternative': ['two'], 'freq...</td>\n      <td>0</td>\n    </tr>\n  </tbody>\n</table>\n</div>"
     },
     "execution_count": 2,
     "metadata": {},
     "output_type": "execute_result"
    }
   ],
   "source": [
    "with open ('/Users/pigr/Desktop/cornac_dataset/mind_10K.csv') as mind_file:\n",
    "    mind = pd.read_csv(mind_file)\n",
    "mind.head()"
   ],
   "metadata": {
    "collapsed": false
   }
  },
  {
   "cell_type": "code",
   "execution_count": 3,
   "outputs": [
    {
     "name": "stdout",
     "output_type": "stream",
     "text": [
      "rating_threshold = 0.5\n",
      "exclude_unknowns = True\n",
      "---\n",
      "Training data:\n",
      "Number of users = 272\n",
      "Number of items = 3942\n",
      "Number of ratings = 7911\n",
      "Max rating = 1.0\n",
      "Min rating = 1.0\n",
      "Global mean = 1.0\n",
      "---\n",
      "Test data:\n",
      "Number of users = 234\n",
      "Number of items = 915\n",
      "Number of ratings = 1336\n",
      "Number of unknown users = 0\n",
      "Number of unknown items = 0\n",
      "---\n",
      "Total users = 272\n",
      "Total items = 3942\n"
     ]
    },
    {
     "name": "stderr",
     "output_type": "stream",
     "text": [
      "/Users/pigr/cornac/lib/python3.10/site-packages/cornac/data/dataset.py:361: UserWarning: 89 duplicated observations are removed!\n",
      "  warnings.warn(\"%d duplicated observations are removed!\" % dup_count)\n",
      "/Users/pigr/cornac/lib/python3.10/site-packages/cornac/data/dataset.py:361: UserWarning: 3 duplicated observations are removed!\n",
      "  warnings.warn(\"%d duplicated observations are removed!\" % dup_count)\n"
     ]
    }
   ],
   "source": [
    "# pre-process data to initialize ctr model\n",
    "mind_feedback = mind.loc[:, ['user_id','item_id','rating']]\n",
    "# feedback = cornac.data.Dataset.from_uir(mind_feedback.itertuples(index=False))\n",
    "feedback = mind_feedback.apply(lambda x: tuple(x), axis=1).values.tolist()\n",
    "text = list(mind['text'])\n",
    "item_ids = list(mind['item_id'])\n",
    "# Instantiate a TextModality, it makes it convenient to work with text auxiliary information\n",
    "item_text_modality = TextModality(\n",
    "    corpus=text,\n",
    "    ids=item_ids,\n",
    "    tokenizer=BaseTokenizer(sep=\" \", stop_words=\"english\"),\n",
    "    max_vocab=8000,\n",
    "    max_doc_freq=0.5,\n",
    ")\n",
    "\n",
    "# Define an evaluation method to split feedback into train and test sets\n",
    "mind_ratio_split = RatioSplit(\n",
    "    data=feedback,\n",
    "    test_size=0.2,\n",
    "    exclude_unknowns=True,\n",
    "    item_text=item_text_modality,\n",
    "    verbose=True,\n",
    "    seed=123,\n",
    "    rating_threshold=0.5,\n",
    ")\n"
   ],
   "metadata": {
    "collapsed": false
   }
  },
  {
   "cell_type": "code",
   "execution_count": 4,
   "outputs": [
    {
     "name": "stdout",
     "output_type": "stream",
     "text": [
      "\n",
      "[CTR] Training started!\n"
     ]
    },
    {
     "data": {
      "text/plain": "  0%|          | 0/50 [00:00<?, ?it/s]",
      "application/vnd.jupyter.widget-view+json": {
       "version_major": 2,
       "version_minor": 0,
       "model_id": "598181f85bb24ca0bdacc6f8172e0a5a"
      }
     },
     "metadata": {},
     "output_type": "display_data"
    },
    {
     "name": "stdout",
     "output_type": "stream",
     "text": [
      "Learning completed!\n",
      "\n",
      "[CTR] Evaluation started!\n"
     ]
    },
    {
     "data": {
      "text/plain": "Rating:   0%|          | 0/1336 [00:00<?, ?it/s]",
      "application/vnd.jupyter.widget-view+json": {
       "version_major": 2,
       "version_minor": 0,
       "model_id": "5a047480ffc7442b9c8475cd82b2f686"
      }
     },
     "metadata": {},
     "output_type": "display_data"
    },
    {
     "data": {
      "text/plain": "Ranking:   0%|          | 0/234 [00:00<?, ?it/s]",
      "application/vnd.jupyter.widget-view+json": {
       "version_major": 2,
       "version_minor": 0,
       "model_id": "d68e25026c06405db1ac47589a466ebc"
      }
     },
     "metadata": {},
     "output_type": "display_data"
    },
    {
     "name": "stdout",
     "output_type": "stream",
     "text": [
      "\n",
      "TEST:\n",
      "...\n",
      "    |    MAE |    MSE |   RMSE |    AUC | F1@300 |    MAP |    MRR | NCRR@300 | NDCG@300 | Precision@300 | Recall@300 | Train (s) | Test (s)\n",
      "--- + ------ + ------ + ------ + ------ + ------ + ------ + ------ + -------- + -------- + ------------- + ---------- + --------- + --------\n",
      "CTR | 0.0000 | 0.0000 | 0.0000 | 0.6305 | 0.0086 | 0.0144 | 0.0399 |   0.0204 |   0.0708 |        0.0044 |     0.2482 |   63.7858 |   0.4880\n",
      "\n"
     ]
    }
   ],
   "source": [
    "# Instantiate HFT model\n",
    "ctr = cornac.models.CTR(\n",
    "    k=50,\n",
    "    lambda_u=0.01,\n",
    "    lambda_v=1,\n",
    "    eta=0.01,\n",
    "    a=1,\n",
    "    b=0.01,\n",
    "    max_iter=50,\n",
    "    trainable=True,\n",
    "    verbose=True,\n",
    "    init_params=None,\n",
    "    seed=123,\n",
    ")\n",
    "\n",
    "# Instantiate MSE for evaluation\n",
    "metrics = [MAE(), RMSE(), MSE(),FMeasure(k=300),Precision(k=300),\n",
    "           Recall(k=300), NDCG(k=300), NCRR(k=300),\n",
    "           MRR(),AUC(), MAP()]\n",
    "\n",
    "# Put everything together into an experiment and run it\n",
    "cornac.Experiment(\n",
    "    eval_method=mind_ratio_split, models=[ctr], metrics=metrics, user_based=False\n",
    ").run()"
   ],
   "metadata": {
    "collapsed": false
   }
  },
  {
   "cell_type": "markdown",
   "source": [
    "# one-hot encoding of categories"
   ],
   "metadata": {
    "collapsed": false
   }
  },
  {
   "cell_type": "code",
   "execution_count": 5,
   "outputs": [],
   "source": [
    "categories = set(mind['category'])\n",
    "one_hot = dict()\n",
    "for i,c in enumerate(categories):\n",
    "  one_hot[c] = np.zeros(len(categories))\n",
    "  one_hot[c][i] = 1"
   ],
   "metadata": {
    "collapsed": false
   }
  },
  {
   "cell_type": "code",
   "execution_count": 6,
   "outputs": [
    {
     "data": {
      "text/plain": "{'video': array([1., 0., 0., 0., 0., 0., 0., 0., 0., 0., 0., 0., 0., 0.]),\n 'autos': array([0., 1., 0., 0., 0., 0., 0., 0., 0., 0., 0., 0., 0., 0.]),\n 'health': array([0., 0., 1., 0., 0., 0., 0., 0., 0., 0., 0., 0., 0., 0.]),\n 'foodanddrink': array([0., 0., 0., 1., 0., 0., 0., 0., 0., 0., 0., 0., 0., 0.]),\n 'music': array([0., 0., 0., 0., 1., 0., 0., 0., 0., 0., 0., 0., 0., 0.]),\n 'movies': array([0., 0., 0., 0., 0., 1., 0., 0., 0., 0., 0., 0., 0., 0.]),\n 'tv': array([0., 0., 0., 0., 0., 0., 1., 0., 0., 0., 0., 0., 0., 0.]),\n 'sports': array([0., 0., 0., 0., 0., 0., 0., 1., 0., 0., 0., 0., 0., 0.]),\n 'travel': array([0., 0., 0., 0., 0., 0., 0., 0., 1., 0., 0., 0., 0., 0.]),\n 'weather': array([0., 0., 0., 0., 0., 0., 0., 0., 0., 1., 0., 0., 0., 0.]),\n 'finance': array([0., 0., 0., 0., 0., 0., 0., 0., 0., 0., 1., 0., 0., 0.]),\n 'news': array([0., 0., 0., 0., 0., 0., 0., 0., 0., 0., 0., 1., 0., 0.]),\n 'lifestyle': array([0., 0., 0., 0., 0., 0., 0., 0., 0., 0., 0., 0., 1., 0.]),\n 'entertainment': array([0., 0., 0., 0., 0., 0., 0., 0., 0., 0., 0., 0., 0., 1.])}"
     },
     "execution_count": 6,
     "metadata": {},
     "output_type": "execute_result"
    }
   ],
   "source": [
    "one_hot"
   ],
   "metadata": {
    "collapsed": false
   }
  },
  {
   "cell_type": "code",
   "execution_count": 7,
   "outputs": [],
   "source": [
    "def encode(keys):\n",
    "    arr = []\n",
    "    for k in keys:\n",
    "        arr.append(one_hot.get(k))\n",
    "    return arr"
   ],
   "metadata": {
    "collapsed": false
   }
  },
  {
   "cell_type": "code",
   "execution_count": 8,
   "outputs": [],
   "source": [
    "# for user idx=0\n",
    "recommendations, scores = ctr.rank(0)"
   ],
   "metadata": {
    "collapsed": false
   }
  },
  {
   "cell_type": "code",
   "execution_count": 9,
   "outputs": [
    {
     "data": {
      "text/plain": "[0.14222040822712428]"
     },
     "execution_count": 9,
     "metadata": {},
     "output_type": "execute_result"
    }
   ],
   "source": [
    "# inverse top 10, and compute the recall\n",
    "item_rank = np.append(np.flip(recommendations[:10]),recommendations[10:])\n",
    "item_scores = scores[item_rank]\n",
    "import diversity_mind\n",
    "rank = diversity_mind.Rank(item_rank, item_scores)\n",
    "rank.ranking_eval(\n",
    "            model = ctr,\n",
    "            metrics = [Recall(k=300)],\n",
    "            train_set=ctr.train_set,\n",
    "            test_set=mind_ratio_split.test_set,\n",
    "            val_set=None,\n",
    "            rating_threshold=0.5,\n",
    "            exclude_unknowns=True,\n",
    "            verbose=False,\n",
    "    )"
   ],
   "metadata": {
    "collapsed": false
   }
  },
  {
   "cell_type": "markdown",
   "source": [
    "## Now select top 5 items\n",
    "formula: 0.5 * calibration metric + 0.5 * intra_distance"
   ],
   "metadata": {
    "collapsed": false
   }
  },
  {
   "cell_type": "code",
   "execution_count": 10,
   "outputs": [],
   "source": [
    "# import radio metric\n",
    "import diversity\n",
    "r = diversity.Retrieval(model=ctr,data = mind,UIDX = 0,TOPK = 10,feature = 'category', test_set=mind_ratio_split.test_set)\n",
    "d = diversity.Diversity(r.get_history(), r.get_recy())\n",
    "i = diversity.IntraDiverse()"
   ],
   "metadata": {
    "collapsed": false
   }
  },
  {
   "cell_type": "code",
   "execution_count": 11,
   "outputs": [
    {
     "data": {
      "text/plain": "['finance', 'news', 'finance', 'news', 'health']"
     },
     "execution_count": 11,
     "metadata": {},
     "output_type": "execute_result"
    }
   ],
   "source": [
    "r.get_history()[:5]"
   ],
   "metadata": {
    "collapsed": false
   }
  },
  {
   "cell_type": "code",
   "execution_count": 12,
   "outputs": [
    {
     "data": {
      "text/plain": "['finance',\n 'news',\n 'lifestyle',\n 'news',\n 'tv',\n 'news',\n 'news',\n 'travel',\n 'news',\n 'autos']"
     },
     "execution_count": 12,
     "metadata": {},
     "output_type": "execute_result"
    }
   ],
   "source": [
    "r.get_recy()"
   ],
   "metadata": {
    "collapsed": false
   }
  },
  {
   "cell_type": "code",
   "execution_count": 13,
   "outputs": [
    {
     "name": "stdout",
     "output_type": "stream",
     "text": [
      "252\n",
      "252\n"
     ]
    }
   ],
   "source": [
    "# select 5 from top 10 items\n",
    "# find all possible combinations\n",
    "import itertools\n",
    "combinations_idx = []\n",
    "for c in itertools.combinations(recommendations[:10],5):\n",
    "    combinations_idx.append(c)\n",
    "\n",
    "combinations = []\n",
    "for c in itertools.combinations(r.get_recy(),5):\n",
    "    combinations.append(c)\n",
    "\n",
    "print(len(combinations_idx))\n",
    "print(len(combinations))"
   ],
   "metadata": {
    "collapsed": false
   }
  },
  {
   "cell_type": "code",
   "execution_count": 15,
   "outputs": [],
   "source": [
    "result = []\n",
    "for c in combinations:\n",
    "    radio = diversity.Diversity(c, r.get_history()[:5]).compute()\n",
    "    intra = diversity.IntraDiverse()._single_user_distance(encode(c))\n",
    "    result.append(0.5*radio + 0.5*intra)"
   ],
   "metadata": {
    "collapsed": false
   }
  },
  {
   "cell_type": "code",
   "execution_count": 16,
   "outputs": [
    {
     "data": {
      "text/plain": "<Figure size 640x480 with 1 Axes>",
      "image/png": "[encoded data removed]"
     },
     "metadata": {},
     "output_type": "display_data"
    }
   ],
   "source": [
    "import matplotlib.pyplot as plt\n",
    "\n",
    "x = np.arange(len(combinations))\n",
    "plt.plot(x, result,'o')\n",
    "plt.show()"
   ],
   "metadata": {
    "collapsed": false
   }
  },
  {
   "cell_type": "code",
   "execution_count": 17,
   "outputs": [
    {
     "data": {
      "text/plain": "('lifestyle', 'tv', 'travel', 'news', 'autos')"
     },
     "execution_count": 17,
     "metadata": {},
     "output_type": "execute_result"
    }
   ],
   "source": [
    "max_idx = np.argmax(result)\n",
    "combinations[max_idx]"
   ],
   "metadata": {
    "collapsed": false
   }
  },
  {
   "cell_type": "code",
   "execution_count": 18,
   "outputs": [
    {
     "data": {
      "text/plain": "[0.14222040822712428]"
     },
     "execution_count": 18,
     "metadata": {},
     "output_type": "execute_result"
    }
   ],
   "source": [
    "item_rank = np.append(np.append(combinations_idx[max_idx],list(set(recommendations[:10]) - set(combinations_idx[max_idx]))),recommendations[10:])\n",
    "item_scores = scores[item_rank]\n",
    "import diversity_mind\n",
    "rank = diversity_mind.Rank(item_rank, item_scores)\n",
    "rank.ranking_eval(\n",
    "            model = ctr,\n",
    "            metrics = [Recall(k=300)],\n",
    "            train_set=ctr.train_set,\n",
    "            test_set=mind_ratio_split.test_set,\n",
    "            val_set=None,\n",
    "            rating_threshold=0.5,\n",
    "            exclude_unknowns=True,\n",
    "            verbose=False,\n",
    "    )"
   ],
   "metadata": {
    "collapsed": false
   }
  },
  {
   "cell_type": "code",
   "execution_count": 19,
   "outputs": [
    {
     "data": {
      "text/plain": "array([  28,    0, 1139,  226,  328,  361,  780,  110,  912,  379])"
     },
     "execution_count": 19,
     "metadata": {},
     "output_type": "execute_result"
    }
   ],
   "source": [
    "item_rank[:10]"
   ],
   "metadata": {
    "collapsed": false
   }
  },
  {
   "cell_type": "code",
   "execution_count": 20,
   "outputs": [
    {
     "data": {
      "text/plain": "array([ 379,  912,   28,  780,    0,  361,  110, 1139,  226,  328])"
     },
     "execution_count": 20,
     "metadata": {},
     "output_type": "execute_result"
    }
   ],
   "source": [
    "recommendations[:10]"
   ],
   "metadata": {
    "collapsed": false
   }
  },
  {
   "cell_type": "markdown",
   "source": [
    "### if I also consider recall\n",
    "formula: 0.25 * calibration metric + 0.25 * intra_distance + 0.5 * recall"
   ],
   "metadata": {
    "collapsed": false
   }
  },
  {
   "cell_type": "code",
   "execution_count": 21,
   "outputs": [],
   "source": [
    "def recall(idx):\n",
    "    item_rank = np.append(np.append(combinations_idx[idx],list(set(recommendations[:10]) - set(combinations_idx[idx]))),recommendations[10:])\n",
    "    item_scores = scores[item_rank]\n",
    "    import diversity_mind\n",
    "    rank = diversity_mind.Rank(item_rank, item_scores)\n",
    "    return rank.ranking_eval(\n",
    "            model = ctr,\n",
    "            metrics = [Recall(k=300)],\n",
    "            train_set=ctr.train_set,\n",
    "            test_set=mind_ratio_split.test_set,\n",
    "            val_set=None,\n",
    "            rating_threshold=0.5,\n",
    "            exclude_unknowns=True,\n",
    "            verbose=False,\n",
    "    )[0]"
   ],
   "metadata": {
    "collapsed": false
   }
  },
  {
   "cell_type": "code",
   "execution_count": 22,
   "outputs": [],
   "source": [
    "result = []\n",
    "for idx,c in enumerate(combinations):\n",
    "    radio = diversity.Diversity(c, r.get_history()[:5]).compute()\n",
    "    intra = diversity.IntraDiverse()._single_user_distance(encode(c))\n",
    "    result.append(0.25*radio + 0.25*intra + 0.5*recall(idx))"
   ],
   "metadata": {
    "collapsed": false
   }
  },
  {
   "cell_type": "code",
   "execution_count": 23,
   "outputs": [
    {
     "data": {
      "text/plain": "<Figure size 640x480 with 1 Axes>",
      "image/png": "[encoded data removed]"
     },
     "metadata": {},
     "output_type": "display_data"
    }
   ],
   "source": [
    "x = np.arange(len(combinations))\n",
    "plt.plot(x, result,'o')\n",
    "plt.show()"
   ],
   "metadata": {
    "collapsed": false
   }
  },
  {
   "cell_type": "code",
   "execution_count": 24,
   "outputs": [
    {
     "data": {
      "text/plain": "('lifestyle', 'tv', 'travel', 'news', 'autos')"
     },
     "execution_count": 24,
     "metadata": {},
     "output_type": "execute_result"
    }
   ],
   "source": [
    "max_idx = np.argmax(result)\n",
    "combinations[max_idx]"
   ],
   "metadata": {
    "collapsed": false
   }
  },
  {
   "cell_type": "code",
   "execution_count": 25,
   "outputs": [
    {
     "data": {
      "text/plain": "1.2593325218586284"
     },
     "execution_count": 25,
     "metadata": {},
     "output_type": "execute_result"
    }
   ],
   "source": [
    "result[max_idx]"
   ],
   "metadata": {
    "collapsed": false
   }
  },
  {
   "cell_type": "code",
   "execution_count": 26,
   "outputs": [
    {
     "data": {
      "text/plain": "['finance', 'news', 'finance', 'news', 'health']"
     },
     "execution_count": 26,
     "metadata": {},
     "output_type": "execute_result"
    }
   ],
   "source": [
    "r.get_history()[:5]"
   ],
   "metadata": {
    "collapsed": false
   }
  },
  {
   "cell_type": "code",
   "execution_count": null,
   "outputs": [],
   "source": [],
   "metadata": {
    "collapsed": false
   }
  }
 ],
 "metadata": {
  "kernelspec": {
   "name": "python3",
   "language": "python",
   "display_name": "Python 3 (ipykernel)"
  },
  "language_info": {
   "codemirror_mode": {
    "name": "ipython",
    "version": 2
   },
   "file_extension": ".py",
   "mimetype": "text/x-python",
   "name": "python",
   "nbconvert_exporter": "python",
   "pygments_lexer": "ipython2",
   "version": "2.7.6"
  }
 },
 "nbformat": 4,
 "nbformat_minor": 0
}
