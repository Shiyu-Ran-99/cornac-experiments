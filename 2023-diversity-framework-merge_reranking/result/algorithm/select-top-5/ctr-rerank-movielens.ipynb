{
 "cells": [
  {
   "cell_type": "code",
   "execution_count": 1,
   "metadata": {
    "collapsed": true
   },
   "outputs": [
    {
     "name": "stdout",
     "output_type": "stream",
     "text": [
      "FM model is only supported on Linux.\n",
      "Windows executable can be found at http://www.libfm.org.\n"
     ]
    }
   ],
   "source": [
    "import numpy as np\n",
    "import pandas as pd\n",
    "\n",
    "import cornac\n",
    "from cornac.eval_methods import RatioSplit\n",
    "from cornac.data import TextModality\n",
    "from cornac.data.text import BaseTokenizer\n",
    "from cornac.models import CTR\n",
    "from cornac.data import Reader\n",
    "from cornac.metrics import MAE,RMSE,MSE,FMeasure,Precision,Recall,NDCG,NCRR,MRR,AUC,MAP"
   ]
  },
  {
   "cell_type": "code",
   "execution_count": 2,
   "outputs": [
    {
     "name": "stdout",
     "output_type": "stream",
     "text": [
      "rating_threshold = 1.0\n",
      "exclude_unknowns = True\n",
      "---\n",
      "Training data:\n",
      "Number of users = 943\n",
      "Number of items = 1518\n",
      "Number of ratings = 75846\n",
      "Max rating = 5.0\n",
      "Min rating = 1.0\n",
      "Global mean = 3.5\n",
      "---\n",
      "Test data:\n",
      "Number of users = 941\n",
      "Number of items = 1279\n",
      "Number of ratings = 18925\n",
      "Number of unknown users = 0\n",
      "Number of unknown items = 0\n",
      "---\n",
      "Total users = 943\n",
      "Total items = 1518\n"
     ]
    }
   ],
   "source": [
    "docs_movielens, item_ids_movielens = cornac.datasets.movielens.load_plot()\n",
    "feedback_movielens_100K = cornac.datasets.movielens.load_feedback(variant=\"100K\",reader=Reader(item_set=item_ids_movielens))\n",
    "\n",
    "movielens_item_text_modality = TextModality(\n",
    "    corpus=docs_movielens,\n",
    "    ids=item_ids_movielens,\n",
    "    tokenizer=BaseTokenizer(sep=\"\\t\", stop_words=\"english\"),\n",
    "    max_vocab=8000,\n",
    "    max_doc_freq=0.5,\n",
    ")\n",
    "# Define an evaluation method to split feedback into train and test sets\n",
    "movieslens100K_ratio_split = RatioSplit(\n",
    "    data=feedback_movielens_100K,\n",
    "    test_size=0.2,\n",
    "    exclude_unknowns=True,\n",
    "    item_text=movielens_item_text_modality,\n",
    "    verbose=True,\n",
    "    seed=123,\n",
    "    rating_threshold=1,\n",
    ")"
   ],
   "metadata": {
    "collapsed": false
   }
  },
  {
   "cell_type": "code",
   "execution_count": 3,
   "outputs": [
    {
     "name": "stdout",
     "output_type": "stream",
     "text": [
      "\n",
      "[CTR] Training started!\n"
     ]
    },
    {
     "data": {
      "text/plain": "  0%|          | 0/50 [00:00<?, ?it/s]",
      "application/vnd.jupyter.widget-view+json": {
       "version_major": 2,
       "version_minor": 0,
       "model_id": "89dbe80a6eef4179afe490c03412453f"
      }
     },
     "metadata": {},
     "output_type": "display_data"
    },
    {
     "name": "stdout",
     "output_type": "stream",
     "text": [
      "Learning completed!\n",
      "\n",
      "[CTR] Evaluation started!\n"
     ]
    },
    {
     "data": {
      "text/plain": "Rating:   0%|          | 0/18925 [00:00<?, ?it/s]",
      "application/vnd.jupyter.widget-view+json": {
       "version_major": 2,
       "version_minor": 0,
       "model_id": "6d0ef02f95b44b049910b67721f76d80"
      }
     },
     "metadata": {},
     "output_type": "display_data"
    },
    {
     "data": {
      "text/plain": "Ranking:   0%|          | 0/941 [00:00<?, ?it/s]",
      "application/vnd.jupyter.widget-view+json": {
       "version_major": 2,
       "version_minor": 0,
       "model_id": "fd3ed32fe97c41ab86cbe4abd8314f04"
      }
     },
     "metadata": {},
     "output_type": "display_data"
    },
    {
     "name": "stdout",
     "output_type": "stream",
     "text": [
      "\n",
      "TEST:\n",
      "...\n",
      "    |    MAE |    MSE |   RMSE |    AUC | F1@300 |    MAP |    MRR | NCRR@300 | NDCG@300 | Precision@300 | Recall@300 | Train (s) | Test (s)\n",
      "--- + ------ + ------ + ------ + ------ + ------ + ------ + ------ + -------- + -------- + ------------- + ---------- + --------- + --------\n",
      "CTR | 1.3227 | 2.7778 | 1.6667 | 0.8593 | 0.0733 | 0.0859 | 0.3050 |   0.1593 |   0.3334 |        0.0404 |     0.7163 |   32.1183 |   1.3585\n",
      "\n"
     ]
    }
   ],
   "source": [
    "# Instantiate CTR model\n",
    "ctr = cornac.models.CTR(\n",
    "    k=50,\n",
    "    lambda_u=0.01,\n",
    "    lambda_v=1,\n",
    "    eta=0.01,\n",
    "    a=1,\n",
    "    b=0.01,\n",
    "    max_iter=50,\n",
    "    trainable=True,\n",
    "    verbose=True,\n",
    "    init_params=None,\n",
    "    seed=123,\n",
    ")\n",
    "\n",
    "# Instantiate MSE for evaluation\n",
    "metrics = [MAE(), RMSE(), MSE(),FMeasure(k=300),Precision(k=300),\n",
    "           Recall(k=300), NDCG(k=300), NCRR(k=300),\n",
    "           MRR(),AUC(), MAP()]\n",
    "\n",
    "# Put everything together into an experiment and run it\n",
    "cornac.Experiment(\n",
    "    eval_method=movieslens100K_ratio_split, models=[ctr], metrics=metrics, user_based=False\n",
    ").run()"
   ],
   "metadata": {
    "collapsed": false
   }
  },
  {
   "cell_type": "code",
   "execution_count": 4,
   "outputs": [],
   "source": [
    "from cornac.utils import cache\n",
    "\n",
    "# Download some information of MovieLens 100K dataset\n",
    "user_df = pd.read_csv(\n",
    "  cache(\"http://files.grouplens.org/datasets/movielens/ml-100k/u.user\"),\n",
    "  sep=\"|\", names=[\"UserID\", \"Age\", \"Gender\", \"Occupation\", \"Zip Code\"]\n",
    ").set_index(\"UserID\")\n",
    "\n",
    "item_df = pd.read_csv(\n",
    "  cache(\"http://files.grouplens.org/datasets/movielens/ml-100k/u.item\"),\n",
    "  sep=\"|\", encoding=\"ISO-8859-1\",\n",
    "  names=[\"ItemID\", \"Title\", \"Release Date\", \"Video Release Date\", \"IMDb URL\",\n",
    "         \"unknown\", \"Action\", \"Adventure\", \"Animation\", \"Children's\", \"Comedy\",\n",
    "         \"Crime\", \"Documentary\", \"Drama\", \"Fantasy\", \"Film-Noir\", \"Horror\",\n",
    "         \"Musical\", \"Mystery\", \"Romance\", \"Sci-Fi\", \"Thriller\", \"War\", \"Western\"]\n",
    ").set_index(\"ItemID\").drop(columns=[\"Video Release Date\", \"IMDb URL\", \"unknown\"])"
   ],
   "metadata": {
    "collapsed": false
   }
  },
  {
   "cell_type": "markdown",
   "source": [
    "# one-hot encoding"
   ],
   "metadata": {
    "collapsed": false
   }
  },
  {
   "cell_type": "code",
   "execution_count": 5,
   "outputs": [
    {
     "data": {
      "text/plain": "                    Title Release Date  Action  Adventure  Animation   \nItemID                                                                 \n1        Toy Story (1995)  01-Jan-1995       0          0          1  \\\n2        GoldenEye (1995)  01-Jan-1995       1          1          0   \n3       Four Rooms (1995)  01-Jan-1995       0          0          0   \n4       Get Shorty (1995)  01-Jan-1995       1          0          0   \n5          Copycat (1995)  01-Jan-1995       0          0          0   \n\n        Children's  Comedy  Crime  Documentary  Drama  Fantasy  Film-Noir   \nItemID                                                                      \n1                1       1      0            0      0        0          0  \\\n2                0       0      0            0      0        0          0   \n3                0       0      0            0      0        0          0   \n4                0       1      0            0      1        0          0   \n5                0       0      1            0      1        0          0   \n\n        Horror  Musical  Mystery  Romance  Sci-Fi  Thriller  War  Western  \nItemID                                                                     \n1            0        0        0        0       0         0    0        0  \n2            0        0        0        0       0         1    0        0  \n3            0        0        0        0       0         1    0        0  \n4            0        0        0        0       0         0    0        0  \n5            0        0        0        0       0         1    0        0  ",
      "text/html": "<div>\n<style scoped>\n    .dataframe tbody tr th:only-of-type {\n        vertical-align: middle;\n    }\n\n    .dataframe tbody tr th {\n        vertical-align: top;\n    }\n\n    .dataframe thead th {\n        text-align: right;\n    }\n</style>\n<table border=\"1\" class=\"dataframe\">\n  <thead>\n    <tr style=\"text-align: right;\">\n      <th></th>\n      <th>Title</th>\n      <th>Release Date</th>\n      <th>Action</th>\n      <th>Adventure</th>\n      <th>Animation</th>\n      <th>Children's</th>\n      <th>Comedy</th>\n      <th>Crime</th>\n      <th>Documentary</th>\n      <th>Drama</th>\n      <th>Fantasy</th>\n      <th>Film-Noir</th>\n      <th>Horror</th>\n      <th>Musical</th>\n      <th>Mystery</th>\n      <th>Romance</th>\n      <th>Sci-Fi</th>\n      <th>Thriller</th>\n      <th>War</th>\n      <th>Western</th>\n    </tr>\n    <tr>\n      <th>ItemID</th>\n      <th></th>\n      <th></th>\n      <th></th>\n      <th></th>\n      <th></th>\n      <th></th>\n      <th></th>\n      <th></th>\n      <th></th>\n      <th></th>\n      <th></th>\n      <th></th>\n      <th></th>\n      <th></th>\n      <th></th>\n      <th></th>\n      <th></th>\n      <th></th>\n      <th></th>\n      <th></th>\n    </tr>\n  </thead>\n  <tbody>\n    <tr>\n      <th>1</th>\n      <td>Toy Story (1995)</td>\n      <td>01-Jan-1995</td>\n      <td>0</td>\n      <td>0</td>\n      <td>1</td>\n      <td>1</td>\n      <td>1</td>\n      <td>0</td>\n      <td>0</td>\n      <td>0</td>\n      <td>0</td>\n      <td>0</td>\n      <td>0</td>\n      <td>0</td>\n      <td>0</td>\n      <td>0</td>\n      <td>0</td>\n      <td>0</td>\n      <td>0</td>\n      <td>0</td>\n    </tr>\n    <tr>\n      <th>2</th>\n      <td>GoldenEye (1995)</td>\n      <td>01-Jan-1995</td>\n      <td>1</td>\n      <td>1</td>\n      <td>0</td>\n      <td>0</td>\n      <td>0</td>\n      <td>0</td>\n      <td>0</td>\n      <td>0</td>\n      <td>0</td>\n      <td>0</td>\n      <td>0</td>\n      <td>0</td>\n      <td>0</td>\n      <td>0</td>\n      <td>0</td>\n      <td>1</td>\n      <td>0</td>\n      <td>0</td>\n    </tr>\n    <tr>\n      <th>3</th>\n      <td>Four Rooms (1995)</td>\n      <td>01-Jan-1995</td>\n      <td>0</td>\n      <td>0</td>\n      <td>0</td>\n      <td>0</td>\n      <td>0</td>\n      <td>0</td>\n      <td>0</td>\n      <td>0</td>\n      <td>0</td>\n      <td>0</td>\n      <td>0</td>\n      <td>0</td>\n      <td>0</td>\n      <td>0</td>\n      <td>0</td>\n      <td>1</td>\n      <td>0</td>\n      <td>0</td>\n    </tr>\n    <tr>\n      <th>4</th>\n      <td>Get Shorty (1995)</td>\n      <td>01-Jan-1995</td>\n      <td>1</td>\n      <td>0</td>\n      <td>0</td>\n      <td>0</td>\n      <td>1</td>\n      <td>0</td>\n      <td>0</td>\n      <td>1</td>\n      <td>0</td>\n      <td>0</td>\n      <td>0</td>\n      <td>0</td>\n      <td>0</td>\n      <td>0</td>\n      <td>0</td>\n      <td>0</td>\n      <td>0</td>\n      <td>0</td>\n    </tr>\n    <tr>\n      <th>5</th>\n      <td>Copycat (1995)</td>\n      <td>01-Jan-1995</td>\n      <td>0</td>\n      <td>0</td>\n      <td>0</td>\n      <td>0</td>\n      <td>0</td>\n      <td>1</td>\n      <td>0</td>\n      <td>1</td>\n      <td>0</td>\n      <td>0</td>\n      <td>0</td>\n      <td>0</td>\n      <td>0</td>\n      <td>0</td>\n      <td>0</td>\n      <td>1</td>\n      <td>0</td>\n      <td>0</td>\n    </tr>\n  </tbody>\n</table>\n</div>"
     },
     "execution_count": 5,
     "metadata": {},
     "output_type": "execute_result"
    }
   ],
   "source": [
    "item_df.head()"
   ],
   "metadata": {
    "collapsed": false
   }
  },
  {
   "cell_type": "code",
   "execution_count": 6,
   "outputs": [],
   "source": [
    "one_hot = {}\n",
    "for index, row in item_df.iterrows():\n",
    "    one_hot[row[0]] = row[2:].values"
   ],
   "metadata": {
    "collapsed": false
   }
  },
  {
   "cell_type": "code",
   "execution_count": 7,
   "outputs": [],
   "source": [
    "# import radio metric\n",
    "import diversity\n",
    "import diversity_movielens\n",
    "r = diversity_movielens.MovielensRetrieval(model=ctr, item_df=item_df, UIDX=0, TOPK=10, test_set=movieslens100K_ratio_split.test_set)\n",
    "d = diversity_movielens.Diversity()\n",
    "recommendation = d.compute_dict_distr(r.get_recy())\n",
    "history = d.compute_dict_distr(r.get_history())\n",
    "# d.compute_kl_divergence(recommendation, history)\n",
    "i = diversity.IntraDiverse()"
   ],
   "metadata": {
    "collapsed": false
   }
  },
  {
   "cell_type": "code",
   "execution_count": 8,
   "outputs": [
    {
     "name": "stdout",
     "output_type": "stream",
     "text": [
      "User 0: top 5 items in the history\n"
     ]
    },
    {
     "data": {
      "text/plain": "                                 Title Release Date  Action  Adventure   \nItemID                                                                   \n22                   Braveheart (1995)  16-Feb-1996       1          0  \\\n651                       Glory (1989)  01-Jan-1989       1          0   \n73                     Maverick (1994)  01-Jan-1994       1          0   \n673                   Cape Fear (1962)  01-Jan-1962       0          0   \n692     American President, The (1995)  01-Jan-1995       0          0   \n\n        Animation  Children's  Comedy  Crime  Documentary  Drama  Fantasy   \nItemID                                                                      \n22              0           0       0      0            0      1        0  \\\n651             0           0       0      0            0      1        0   \n73              0           0       1      0            0      0        0   \n673             0           0       0      0            0      0        0   \n692             0           0       1      0            0      1        0   \n\n        Film-Noir  Horror  Musical  Mystery  Romance  Sci-Fi  Thriller  War   \nItemID                                                                        \n22              0       0        0        0        0       0         0    1  \\\n651             0       0        0        0        0       0         0    1   \n73              0       0        0        0        0       0         0    0   \n673             1       0        0        0        0       0         1    0   \n692             0       0        0        0        1       0         0    0   \n\n        Western  \nItemID           \n22            0  \n651           0  \n73            1  \n673           0  \n692           0  ",
      "text/html": "<div>\n<style scoped>\n    .dataframe tbody tr th:only-of-type {\n        vertical-align: middle;\n    }\n\n    .dataframe tbody tr th {\n        vertical-align: top;\n    }\n\n    .dataframe thead th {\n        text-align: right;\n    }\n</style>\n<table border=\"1\" class=\"dataframe\">\n  <thead>\n    <tr style=\"text-align: right;\">\n      <th></th>\n      <th>Title</th>\n      <th>Release Date</th>\n      <th>Action</th>\n      <th>Adventure</th>\n      <th>Animation</th>\n      <th>Children's</th>\n      <th>Comedy</th>\n      <th>Crime</th>\n      <th>Documentary</th>\n      <th>Drama</th>\n      <th>Fantasy</th>\n      <th>Film-Noir</th>\n      <th>Horror</th>\n      <th>Musical</th>\n      <th>Mystery</th>\n      <th>Romance</th>\n      <th>Sci-Fi</th>\n      <th>Thriller</th>\n      <th>War</th>\n      <th>Western</th>\n    </tr>\n    <tr>\n      <th>ItemID</th>\n      <th></th>\n      <th></th>\n      <th></th>\n      <th></th>\n      <th></th>\n      <th></th>\n      <th></th>\n      <th></th>\n      <th></th>\n      <th></th>\n      <th></th>\n      <th></th>\n      <th></th>\n      <th></th>\n      <th></th>\n      <th></th>\n      <th></th>\n      <th></th>\n      <th></th>\n      <th></th>\n    </tr>\n  </thead>\n  <tbody>\n    <tr>\n      <th>22</th>\n      <td>Braveheart (1995)</td>\n      <td>16-Feb-1996</td>\n      <td>1</td>\n      <td>0</td>\n      <td>0</td>\n      <td>0</td>\n      <td>0</td>\n      <td>0</td>\n      <td>0</td>\n      <td>1</td>\n      <td>0</td>\n      <td>0</td>\n      <td>0</td>\n      <td>0</td>\n      <td>0</td>\n      <td>0</td>\n      <td>0</td>\n      <td>0</td>\n      <td>1</td>\n      <td>0</td>\n    </tr>\n    <tr>\n      <th>651</th>\n      <td>Glory (1989)</td>\n      <td>01-Jan-1989</td>\n      <td>1</td>\n      <td>0</td>\n      <td>0</td>\n      <td>0</td>\n      <td>0</td>\n      <td>0</td>\n      <td>0</td>\n      <td>1</td>\n      <td>0</td>\n      <td>0</td>\n      <td>0</td>\n      <td>0</td>\n      <td>0</td>\n      <td>0</td>\n      <td>0</td>\n      <td>0</td>\n      <td>1</td>\n      <td>0</td>\n    </tr>\n    <tr>\n      <th>73</th>\n      <td>Maverick (1994)</td>\n      <td>01-Jan-1994</td>\n      <td>1</td>\n      <td>0</td>\n      <td>0</td>\n      <td>0</td>\n      <td>1</td>\n      <td>0</td>\n      <td>0</td>\n      <td>0</td>\n      <td>0</td>\n      <td>0</td>\n      <td>0</td>\n      <td>0</td>\n      <td>0</td>\n      <td>0</td>\n      <td>0</td>\n      <td>0</td>\n      <td>0</td>\n      <td>1</td>\n    </tr>\n    <tr>\n      <th>673</th>\n      <td>Cape Fear (1962)</td>\n      <td>01-Jan-1962</td>\n      <td>0</td>\n      <td>0</td>\n      <td>0</td>\n      <td>0</td>\n      <td>0</td>\n      <td>0</td>\n      <td>0</td>\n      <td>0</td>\n      <td>0</td>\n      <td>1</td>\n      <td>0</td>\n      <td>0</td>\n      <td>0</td>\n      <td>0</td>\n      <td>0</td>\n      <td>1</td>\n      <td>0</td>\n      <td>0</td>\n    </tr>\n    <tr>\n      <th>692</th>\n      <td>American President, The (1995)</td>\n      <td>01-Jan-1995</td>\n      <td>0</td>\n      <td>0</td>\n      <td>0</td>\n      <td>0</td>\n      <td>1</td>\n      <td>0</td>\n      <td>0</td>\n      <td>1</td>\n      <td>0</td>\n      <td>0</td>\n      <td>0</td>\n      <td>0</td>\n      <td>0</td>\n      <td>1</td>\n      <td>0</td>\n      <td>0</td>\n      <td>0</td>\n      <td>0</td>\n    </tr>\n  </tbody>\n</table>\n</div>"
     },
     "execution_count": 8,
     "metadata": {},
     "output_type": "execute_result"
    }
   ],
   "source": [
    "print(\"User 0: top 5 items in the history\")\n",
    "rating_arr = r.convert_idx_id_train_set()[0][0].A.ravel()\n",
    "top_rated_items = np.argsort(rating_arr)[-5:]\n",
    "item_df.loc[[int(r.convert_idx_id_train_set()[4][i]) for i in top_rated_items]]"
   ],
   "metadata": {
    "collapsed": false
   }
  },
  {
   "cell_type": "code",
   "execution_count": 9,
   "outputs": [
    {
     "data": {
      "text/plain": "[0.3844045707721076]"
     },
     "execution_count": 9,
     "metadata": {},
     "output_type": "execute_result"
    }
   ],
   "source": [
    "# inverse top 10, and compute the recall\n",
    "recommendations, scores = ctr.rank(0)\n",
    "item_rank = np.append(np.flip(recommendations[:10]),recommendations[10:])\n",
    "item_scores = scores[item_rank]\n",
    "import diversity_mind\n",
    "rank = diversity_mind.Rank(item_rank, item_scores)\n",
    "rank.ranking_eval(\n",
    "            model = ctr,\n",
    "            metrics = [Recall(k=300)],\n",
    "            train_set=ctr.train_set,\n",
    "            test_set=movieslens100K_ratio_split.test_set,\n",
    "            val_set=None,\n",
    "            rating_threshold=0.5,\n",
    "            exclude_unknowns=True,\n",
    "            verbose=False,\n",
    "    )"
   ],
   "metadata": {
    "collapsed": false
   }
  },
  {
   "cell_type": "markdown",
   "source": [
    "# Now select top 5 items\n",
    "formula: 0.5 * calibration metric + 0.5 * intra_distance"
   ],
   "metadata": {
    "collapsed": false
   }
  },
  {
   "cell_type": "code",
   "execution_count": 10,
   "outputs": [
    {
     "name": "stdout",
     "output_type": "stream",
     "text": [
      "252\n",
      "252\n"
     ]
    }
   ],
   "source": [
    "# select 5 from top 10 items\n",
    "# find all possible combinations\n",
    "recy = item_df.loc[[int(r.convert_idx_id_train_set()[4][i]) for i in recommendations[:10]]]['Title'].values\n",
    "\n",
    "import itertools\n",
    "combinations_idx = []\n",
    "for c in itertools.combinations(recommendations[:10],5):\n",
    "    combinations_idx.append(c)\n",
    "\n",
    "combinations = []\n",
    "for c in itertools.combinations(recy,5):\n",
    "    combinations.append(c)\n",
    "\n",
    "print(len(combinations_idx))\n",
    "print(len(combinations))"
   ],
   "metadata": {
    "collapsed": false
   }
  },
  {
   "cell_type": "code",
   "execution_count": 11,
   "outputs": [
    {
     "data": {
      "text/plain": "('Harold and Maude (1971)',\n 'Strictly Ballroom (1992)',\n \"It's a Wonderful Life (1946)\",\n 'Back to the Future (1985)',\n 'Vertigo (1958)')"
     },
     "execution_count": 11,
     "metadata": {},
     "output_type": "execute_result"
    }
   ],
   "source": [
    "combinations[0]"
   ],
   "metadata": {
    "collapsed": false
   }
  },
  {
   "cell_type": "code",
   "execution_count": 12,
   "outputs": [],
   "source": [
    "def encode(keys):\n",
    "    arr = []\n",
    "    for k in keys:\n",
    "        arr.append(one_hot.get(k))\n",
    "    return arr"
   ],
   "metadata": {
    "collapsed": false
   }
  },
  {
   "cell_type": "code",
   "execution_count": 13,
   "outputs": [
    {
     "data": {
      "text/plain": "[array([0, 0, 0, 0, 1, 0, 0, 0, 0, 0, 0, 0, 0, 0, 0, 0, 0, 0], dtype=object),\n array([0, 0, 0, 0, 1, 0, 0, 0, 0, 0, 0, 0, 0, 1, 0, 0, 0, 0], dtype=object),\n array([0, 0, 0, 0, 0, 0, 0, 1, 0, 0, 0, 0, 0, 0, 0, 0, 0, 0], dtype=object),\n array([0, 0, 0, 0, 1, 0, 0, 0, 0, 0, 0, 0, 0, 0, 1, 0, 0, 0], dtype=object),\n array([0, 0, 0, 0, 0, 0, 0, 0, 0, 0, 0, 0, 1, 0, 0, 1, 0, 0], dtype=object)]"
     },
     "execution_count": 13,
     "metadata": {},
     "output_type": "execute_result"
    }
   ],
   "source": [
    "encode(combinations[0])"
   ],
   "metadata": {
    "collapsed": false
   }
  },
  {
   "cell_type": "code",
   "execution_count": 14,
   "outputs": [],
   "source": [
    "def get_recy(c):\n",
    "    distr = item_df.loc[[int(r.convert_idx_id_train_set()[4][i]) for i in c]]\n",
    "    dict = {}\n",
    "    for index, row in distr.items():\n",
    "        dict[index] = np.count_nonzero(np.array(row))\n",
    "    del dict['Title']\n",
    "    del dict['Release Date']\n",
    "\n",
    "    return dict"
   ],
   "metadata": {
    "collapsed": false
   }
  },
  {
   "cell_type": "code",
   "execution_count": 15,
   "outputs": [],
   "source": [
    "result = []\n",
    "r_ = diversity_movielens.MovielensRetrieval(model=ctr, item_df=item_df, UIDX=0, TOPK=5, test_set=movieslens100K_ratio_split.test_set)\n",
    "for c_idx, c in zip(combinations_idx, combinations):\n",
    "    recommendation = d.compute_dict_distr(get_recy(c_idx))\n",
    "    history = d.compute_dict_distr(r_.get_history())\n",
    "    radio = d.compute_kl_divergence(recommendation, history)\n",
    "\n",
    "    intra = diversity.IntraDiverse()._single_user_distance(encode(c))\n",
    "    result.append(0.5*radio + 0.5*intra)"
   ],
   "metadata": {
    "collapsed": false
   }
  },
  {
   "cell_type": "code",
   "execution_count": 16,
   "outputs": [
    {
     "data": {
      "text/plain": "<Figure size 640x480 with 1 Axes>",
      "image/png": "[encoded data removed]"
     },
     "metadata": {},
     "output_type": "display_data"
    }
   ],
   "source": [
    "import matplotlib.pyplot as plt\n",
    "\n",
    "x = np.arange(len(combinations))\n",
    "plt.plot(x, result,'o')\n",
    "plt.show()"
   ],
   "metadata": {
    "collapsed": false
   }
  },
  {
   "cell_type": "code",
   "execution_count": 17,
   "outputs": [
    {
     "data": {
      "text/plain": "('Harold and Maude (1971)',\n \"It's a Wonderful Life (1946)\",\n 'Back to the Future (1985)',\n 'Vertigo (1958)',\n 'Contact (1997)')"
     },
     "execution_count": 17,
     "metadata": {},
     "output_type": "execute_result"
    }
   ],
   "source": [
    "max_idx = np.argmax(result)\n",
    "combinations[max_idx]"
   ],
   "metadata": {
    "collapsed": false
   }
  },
  {
   "cell_type": "code",
   "execution_count": 20,
   "outputs": [
    {
     "data": {
      "text/plain": "0.7268079047894633"
     },
     "execution_count": 20,
     "metadata": {},
     "output_type": "execute_result"
    }
   ],
   "source": [
    "result[max_idx]"
   ],
   "metadata": {
    "collapsed": false
   }
  },
  {
   "cell_type": "code",
   "execution_count": 18,
   "outputs": [
    {
     "name": "stdout",
     "output_type": "stream",
     "text": [
      "User 0: top 5 items in the recommendations list\n"
     ]
    },
    {
     "data": {
      "text/plain": "                               Title Release Date  Action  Adventure   \nItemID                                                                 \n428          Harold and Maude (1971)  01-Jan-1971       0          0  \\\n496     It's a Wonderful Life (1946)  01-Jan-1946       0          0   \n204        Back to the Future (1985)  01-Jan-1985       0          0   \n479                   Vertigo (1958)  01-Jan-1958       0          0   \n258                   Contact (1997)  11-Jul-1997       0          0   \n\n        Animation  Children's  Comedy  Crime  Documentary  Drama  Fantasy   \nItemID                                                                      \n428             0           0       1      0            0      0        0  \\\n496             0           0       0      0            0      1        0   \n204             0           0       1      0            0      0        0   \n479             0           0       0      0            0      0        0   \n258             0           0       0      0            0      1        0   \n\n        Film-Noir  Horror  Musical  Mystery  Romance  Sci-Fi  Thriller  War   \nItemID                                                                        \n428             0       0        0        0        0       0         0    0  \\\n496             0       0        0        0        0       0         0    0   \n204             0       0        0        0        0       1         0    0   \n479             0       0        0        1        0       0         1    0   \n258             0       0        0        0        0       1         0    0   \n\n        Western  \nItemID           \n428           0  \n496           0  \n204           0  \n479           0  \n258           0  ",
      "text/html": "<div>\n<style scoped>\n    .dataframe tbody tr th:only-of-type {\n        vertical-align: middle;\n    }\n\n    .dataframe tbody tr th {\n        vertical-align: top;\n    }\n\n    .dataframe thead th {\n        text-align: right;\n    }\n</style>\n<table border=\"1\" class=\"dataframe\">\n  <thead>\n    <tr style=\"text-align: right;\">\n      <th></th>\n      <th>Title</th>\n      <th>Release Date</th>\n      <th>Action</th>\n      <th>Adventure</th>\n      <th>Animation</th>\n      <th>Children's</th>\n      <th>Comedy</th>\n      <th>Crime</th>\n      <th>Documentary</th>\n      <th>Drama</th>\n      <th>Fantasy</th>\n      <th>Film-Noir</th>\n      <th>Horror</th>\n      <th>Musical</th>\n      <th>Mystery</th>\n      <th>Romance</th>\n      <th>Sci-Fi</th>\n      <th>Thriller</th>\n      <th>War</th>\n      <th>Western</th>\n    </tr>\n    <tr>\n      <th>ItemID</th>\n      <th></th>\n      <th></th>\n      <th></th>\n      <th></th>\n      <th></th>\n      <th></th>\n      <th></th>\n      <th></th>\n      <th></th>\n      <th></th>\n      <th></th>\n      <th></th>\n      <th></th>\n      <th></th>\n      <th></th>\n      <th></th>\n      <th></th>\n      <th></th>\n      <th></th>\n      <th></th>\n    </tr>\n  </thead>\n  <tbody>\n    <tr>\n      <th>428</th>\n      <td>Harold and Maude (1971)</td>\n      <td>01-Jan-1971</td>\n      <td>0</td>\n      <td>0</td>\n      <td>0</td>\n      <td>0</td>\n      <td>1</td>\n      <td>0</td>\n      <td>0</td>\n      <td>0</td>\n      <td>0</td>\n      <td>0</td>\n      <td>0</td>\n      <td>0</td>\n      <td>0</td>\n      <td>0</td>\n      <td>0</td>\n      <td>0</td>\n      <td>0</td>\n      <td>0</td>\n    </tr>\n    <tr>\n      <th>496</th>\n      <td>It's a Wonderful Life (1946)</td>\n      <td>01-Jan-1946</td>\n      <td>0</td>\n      <td>0</td>\n      <td>0</td>\n      <td>0</td>\n      <td>0</td>\n      <td>0</td>\n      <td>0</td>\n      <td>1</td>\n      <td>0</td>\n      <td>0</td>\n      <td>0</td>\n      <td>0</td>\n      <td>0</td>\n      <td>0</td>\n      <td>0</td>\n      <td>0</td>\n      <td>0</td>\n      <td>0</td>\n    </tr>\n    <tr>\n      <th>204</th>\n      <td>Back to the Future (1985)</td>\n      <td>01-Jan-1985</td>\n      <td>0</td>\n      <td>0</td>\n      <td>0</td>\n      <td>0</td>\n      <td>1</td>\n      <td>0</td>\n      <td>0</td>\n      <td>0</td>\n      <td>0</td>\n      <td>0</td>\n      <td>0</td>\n      <td>0</td>\n      <td>0</td>\n      <td>0</td>\n      <td>1</td>\n      <td>0</td>\n      <td>0</td>\n      <td>0</td>\n    </tr>\n    <tr>\n      <th>479</th>\n      <td>Vertigo (1958)</td>\n      <td>01-Jan-1958</td>\n      <td>0</td>\n      <td>0</td>\n      <td>0</td>\n      <td>0</td>\n      <td>0</td>\n      <td>0</td>\n      <td>0</td>\n      <td>0</td>\n      <td>0</td>\n      <td>0</td>\n      <td>0</td>\n      <td>0</td>\n      <td>1</td>\n      <td>0</td>\n      <td>0</td>\n      <td>1</td>\n      <td>0</td>\n      <td>0</td>\n    </tr>\n    <tr>\n      <th>258</th>\n      <td>Contact (1997)</td>\n      <td>11-Jul-1997</td>\n      <td>0</td>\n      <td>0</td>\n      <td>0</td>\n      <td>0</td>\n      <td>0</td>\n      <td>0</td>\n      <td>0</td>\n      <td>1</td>\n      <td>0</td>\n      <td>0</td>\n      <td>0</td>\n      <td>0</td>\n      <td>0</td>\n      <td>0</td>\n      <td>1</td>\n      <td>0</td>\n      <td>0</td>\n      <td>0</td>\n    </tr>\n  </tbody>\n</table>\n</div>"
     },
     "execution_count": 18,
     "metadata": {},
     "output_type": "execute_result"
    }
   ],
   "source": [
    "print(\"User 0: top 5 items in the recommendations list\")\n",
    "item_df.loc[[int(r.convert_idx_id_train_set()[4][i]) for i in combinations_idx[max_idx]]]"
   ],
   "metadata": {
    "collapsed": false
   }
  },
  {
   "cell_type": "code",
   "execution_count": 19,
   "outputs": [
    {
     "name": "stdout",
     "output_type": "stream",
     "text": [
      "User 0: original top 5 items in the recommendations list\n"
     ]
    },
    {
     "data": {
      "text/plain": "                               Title Release Date  Action  Adventure   \nItemID                                                                 \n428          Harold and Maude (1971)  01-Jan-1971       0          0  \\\n709         Strictly Ballroom (1992)  01-Jan-1992       0          0   \n496     It's a Wonderful Life (1946)  01-Jan-1946       0          0   \n204        Back to the Future (1985)  01-Jan-1985       0          0   \n479                   Vertigo (1958)  01-Jan-1958       0          0   \n\n        Animation  Children's  Comedy  Crime  Documentary  Drama  Fantasy   \nItemID                                                                      \n428             0           0       1      0            0      0        0  \\\n709             0           0       1      0            0      0        0   \n496             0           0       0      0            0      1        0   \n204             0           0       1      0            0      0        0   \n479             0           0       0      0            0      0        0   \n\n        Film-Noir  Horror  Musical  Mystery  Romance  Sci-Fi  Thriller  War   \nItemID                                                                        \n428             0       0        0        0        0       0         0    0  \\\n709             0       0        0        0        1       0         0    0   \n496             0       0        0        0        0       0         0    0   \n204             0       0        0        0        0       1         0    0   \n479             0       0        0        1        0       0         1    0   \n\n        Western  \nItemID           \n428           0  \n709           0  \n496           0  \n204           0  \n479           0  ",
      "text/html": "<div>\n<style scoped>\n    .dataframe tbody tr th:only-of-type {\n        vertical-align: middle;\n    }\n\n    .dataframe tbody tr th {\n        vertical-align: top;\n    }\n\n    .dataframe thead th {\n        text-align: right;\n    }\n</style>\n<table border=\"1\" class=\"dataframe\">\n  <thead>\n    <tr style=\"text-align: right;\">\n      <th></th>\n      <th>Title</th>\n      <th>Release Date</th>\n      <th>Action</th>\n      <th>Adventure</th>\n      <th>Animation</th>\n      <th>Children's</th>\n      <th>Comedy</th>\n      <th>Crime</th>\n      <th>Documentary</th>\n      <th>Drama</th>\n      <th>Fantasy</th>\n      <th>Film-Noir</th>\n      <th>Horror</th>\n      <th>Musical</th>\n      <th>Mystery</th>\n      <th>Romance</th>\n      <th>Sci-Fi</th>\n      <th>Thriller</th>\n      <th>War</th>\n      <th>Western</th>\n    </tr>\n    <tr>\n      <th>ItemID</th>\n      <th></th>\n      <th></th>\n      <th></th>\n      <th></th>\n      <th></th>\n      <th></th>\n      <th></th>\n      <th></th>\n      <th></th>\n      <th></th>\n      <th></th>\n      <th></th>\n      <th></th>\n      <th></th>\n      <th></th>\n      <th></th>\n      <th></th>\n      <th></th>\n      <th></th>\n      <th></th>\n    </tr>\n  </thead>\n  <tbody>\n    <tr>\n      <th>428</th>\n      <td>Harold and Maude (1971)</td>\n      <td>01-Jan-1971</td>\n      <td>0</td>\n      <td>0</td>\n      <td>0</td>\n      <td>0</td>\n      <td>1</td>\n      <td>0</td>\n      <td>0</td>\n      <td>0</td>\n      <td>0</td>\n      <td>0</td>\n      <td>0</td>\n      <td>0</td>\n      <td>0</td>\n      <td>0</td>\n      <td>0</td>\n      <td>0</td>\n      <td>0</td>\n      <td>0</td>\n    </tr>\n    <tr>\n      <th>709</th>\n      <td>Strictly Ballroom (1992)</td>\n      <td>01-Jan-1992</td>\n      <td>0</td>\n      <td>0</td>\n      <td>0</td>\n      <td>0</td>\n      <td>1</td>\n      <td>0</td>\n      <td>0</td>\n      <td>0</td>\n      <td>0</td>\n      <td>0</td>\n      <td>0</td>\n      <td>0</td>\n      <td>0</td>\n      <td>1</td>\n      <td>0</td>\n      <td>0</td>\n      <td>0</td>\n      <td>0</td>\n    </tr>\n    <tr>\n      <th>496</th>\n      <td>It's a Wonderful Life (1946)</td>\n      <td>01-Jan-1946</td>\n      <td>0</td>\n      <td>0</td>\n      <td>0</td>\n      <td>0</td>\n      <td>0</td>\n      <td>0</td>\n      <td>0</td>\n      <td>1</td>\n      <td>0</td>\n      <td>0</td>\n      <td>0</td>\n      <td>0</td>\n      <td>0</td>\n      <td>0</td>\n      <td>0</td>\n      <td>0</td>\n      <td>0</td>\n      <td>0</td>\n    </tr>\n    <tr>\n      <th>204</th>\n      <td>Back to the Future (1985)</td>\n      <td>01-Jan-1985</td>\n      <td>0</td>\n      <td>0</td>\n      <td>0</td>\n      <td>0</td>\n      <td>1</td>\n      <td>0</td>\n      <td>0</td>\n      <td>0</td>\n      <td>0</td>\n      <td>0</td>\n      <td>0</td>\n      <td>0</td>\n      <td>0</td>\n      <td>0</td>\n      <td>1</td>\n      <td>0</td>\n      <td>0</td>\n      <td>0</td>\n    </tr>\n    <tr>\n      <th>479</th>\n      <td>Vertigo (1958)</td>\n      <td>01-Jan-1958</td>\n      <td>0</td>\n      <td>0</td>\n      <td>0</td>\n      <td>0</td>\n      <td>0</td>\n      <td>0</td>\n      <td>0</td>\n      <td>0</td>\n      <td>0</td>\n      <td>0</td>\n      <td>0</td>\n      <td>0</td>\n      <td>1</td>\n      <td>0</td>\n      <td>0</td>\n      <td>1</td>\n      <td>0</td>\n      <td>0</td>\n    </tr>\n  </tbody>\n</table>\n</div>"
     },
     "execution_count": 19,
     "metadata": {},
     "output_type": "execute_result"
    }
   ],
   "source": [
    "print(\"User 0: original top 5 items in the recommendations list\")\n",
    "item_df.loc[[int(r.convert_idx_id_train_set()[4][i]) for i in recommendations[:5]]]"
   ],
   "metadata": {
    "collapsed": false
   }
  },
  {
   "cell_type": "code",
   "execution_count": null,
   "outputs": [],
   "source": [],
   "metadata": {
    "collapsed": false
   }
  }
 ],
 "metadata": {
  "kernelspec": {
   "name": "python3",
   "language": "python",
   "display_name": "Python 3 (ipykernel)"
  },
  "language_info": {
   "codemirror_mode": {
    "name": "ipython",
    "version": 2
   },
   "file_extension": ".py",
   "mimetype": "text/x-python",
   "name": "python",
   "nbconvert_exporter": "python",
   "pygments_lexer": "ipython2",
   "version": "2.7.6"
  }
 },
 "nbformat": 4,
 "nbformat_minor": 0
}
