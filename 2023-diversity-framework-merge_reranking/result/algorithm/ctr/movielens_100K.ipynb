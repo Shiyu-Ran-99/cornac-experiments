{
 "cells": [
  {
   "cell_type": "code",
   "execution_count": 1,
   "metadata": {
    "collapsed": true
   },
   "outputs": [
    {
     "name": "stdout",
     "output_type": "stream",
     "text": [
      "FM model is only supported on Linux.\n",
      "Windows executable can be found at http://www.libfm.org.\n"
     ]
    }
   ],
   "source": [
    "import numpy as np\n",
    "import pandas as pd\n",
    "from scipy.stats import entropy\n",
    "import matplotlib.pyplot as plt\n",
    "import random\n",
    "\n",
    "import cornac\n",
    "from cornac.eval_methods import RatioSplit\n",
    "from cornac.data import TextModality\n",
    "from cornac.data.text import BaseTokenizer\n",
    "from cornac.data import Reader\n",
    "from cornac.metrics import MAE,RMSE,MSE,FMeasure,Precision,Recall,NDCG,NCRR,MRR,AUC,MAP"
   ]
  },
  {
   "cell_type": "code",
   "execution_count": 2,
   "outputs": [
    {
     "name": "stdout",
     "output_type": "stream",
     "text": [
      "rating_threshold = 1.0\n",
      "exclude_unknowns = True\n",
      "---\n",
      "Training data:\n",
      "Number of users = 943\n",
      "Number of items = 1518\n",
      "Number of ratings = 75846\n",
      "Max rating = 5.0\n",
      "Min rating = 1.0\n",
      "Global mean = 3.5\n",
      "---\n",
      "Test data:\n",
      "Number of users = 941\n",
      "Number of items = 1279\n",
      "Number of ratings = 18925\n",
      "Number of unknown users = 0\n",
      "Number of unknown items = 0\n",
      "---\n",
      "Total users = 943\n",
      "Total items = 1518\n"
     ]
    }
   ],
   "source": [
    "docs_movielens, item_ids_movielens = cornac.datasets.movielens.load_plot()\n",
    "feedback_movielens_100K = cornac.datasets.movielens.load_feedback(variant=\"100K\",reader=Reader(item_set=item_ids_movielens))\n",
    "\n",
    "movielens_item_text_modality = TextModality(\n",
    "    corpus=docs_movielens,\n",
    "    ids=item_ids_movielens,\n",
    "    tokenizer=BaseTokenizer(sep=\"\\t\", stop_words=\"english\"),\n",
    "    max_vocab=8000,\n",
    "    max_doc_freq=0.5,\n",
    ")\n",
    "# Define an evaluation method to split feedback into train and test sets\n",
    "movieslens100K_ratio_split = RatioSplit(\n",
    "    data=feedback_movielens_100K,\n",
    "    test_size=0.2,\n",
    "    exclude_unknowns=True,\n",
    "    item_text=movielens_item_text_modality,\n",
    "    verbose=True,\n",
    "    seed=123,\n",
    "    rating_threshold=1,\n",
    ")"
   ],
   "metadata": {
    "collapsed": false
   }
  },
  {
   "cell_type": "markdown",
   "source": [
    "### k=10"
   ],
   "metadata": {
    "collapsed": false
   }
  },
  {
   "cell_type": "code",
   "execution_count": 3,
   "outputs": [
    {
     "name": "stdout",
     "output_type": "stream",
     "text": [
      "\n",
      "[CTR] Training started!\n"
     ]
    },
    {
     "data": {
      "text/plain": "  0%|          | 0/10 [00:00<?, ?it/s]",
      "application/vnd.jupyter.widget-view+json": {
       "version_major": 2,
       "version_minor": 0,
       "model_id": "62111383e3ef4c9b80b5166a07dda1fd"
      }
     },
     "metadata": {},
     "output_type": "display_data"
    },
    {
     "name": "stdout",
     "output_type": "stream",
     "text": [
      "Learning completed!\n",
      "\n",
      "[CTR] Evaluation started!\n"
     ]
    },
    {
     "data": {
      "text/plain": "Rating:   0%|          | 0/18925 [00:00<?, ?it/s]",
      "application/vnd.jupyter.widget-view+json": {
       "version_major": 2,
       "version_minor": 0,
       "model_id": "71776b72e6e94274ac168b145bd8f357"
      }
     },
     "metadata": {},
     "output_type": "display_data"
    },
    {
     "data": {
      "text/plain": "Ranking:   0%|          | 0/941 [00:00<?, ?it/s]",
      "application/vnd.jupyter.widget-view+json": {
       "version_major": 2,
       "version_minor": 0,
       "model_id": "67dccee30fe84c1b8b09bb9c7b69e741"
      }
     },
     "metadata": {},
     "output_type": "display_data"
    },
    {
     "name": "stdout",
     "output_type": "stream",
     "text": [
      "\n",
      "TEST:\n",
      "...\n",
      "    |    MAE |    MSE |   RMSE |    AUC |  F1@50 |    MAP |    MRR | NCRR@50 | NDCG@50 | Precision@50 | Recall@50 | Train (s) | Test (s)\n",
      "--- + ------ + ------ + ------ + ------ + ------ + ------ + ------ + ------- + ------- + ------------ + --------- + --------- + --------\n",
      "CTR | 0.8401 | 1.2007 | 1.0957 | 0.9006 | 0.1163 | 0.1025 | 0.2653 |  0.1364 |  0.1979 |       0.0842 |    0.3199 |    4.4037 |   2.8740\n",
      "\n"
     ]
    }
   ],
   "source": [
    "# Instantiate HFT model\n",
    "ctr_k10 = cornac.models.CTR(\n",
    "    k=10,\n",
    "    lambda_u=0.01,\n",
    "    lambda_v=0.01,\n",
    "    eta=0.01,\n",
    "    a=1,\n",
    "    b=0.01,\n",
    "    max_iter=10,\n",
    "    trainable=True,\n",
    "    verbose=True,\n",
    "    init_params=None,\n",
    "    seed=123,\n",
    ")\n",
    "\n",
    "# Instantiate MSE for evaluation\n",
    "metrics = [MAE(), RMSE(), MSE(),FMeasure(k=50),Precision(k=50),\n",
    "           Recall(k=50), NDCG(k=50), NCRR(k=50),\n",
    "           MRR(),AUC(), MAP()]\n",
    "\n",
    "# Put everything together into an experiment and run it\n",
    "cornac.Experiment(\n",
    "    eval_method=movieslens100K_ratio_split, models=[ctr_k10], metrics=metrics, user_based=False\n",
    ").run()"
   ],
   "metadata": {
    "collapsed": false
   }
  },
  {
   "cell_type": "code",
   "execution_count": 4,
   "outputs": [],
   "source": [
    "from cornac.utils import cache\n",
    "\n",
    "# Download some information of MovieLens 100K dataset\n",
    "user_df = pd.read_csv(\n",
    "  cache(\"http://files.grouplens.org/datasets/movielens/ml-100k/u.user\"),\n",
    "  sep=\"|\", names=[\"UserID\", \"Age\", \"Gender\", \"Occupation\", \"Zip Code\"]\n",
    ").set_index(\"UserID\")\n",
    "\n",
    "item_df = pd.read_csv(\n",
    "  cache(\"http://files.grouplens.org/datasets/movielens/ml-100k/u.item\"),\n",
    "  sep=\"|\", encoding=\"ISO-8859-1\",\n",
    "  names=[\"ItemID\", \"Title\", \"Release Date\", \"Video Release Date\", \"IMDb URL\",\n",
    "         \"unknown\", \"Action\", \"Adventure\", \"Animation\", \"Children's\", \"Comedy\",\n",
    "         \"Crime\", \"Documentary\", \"Drama\", \"Fantasy\", \"Film-Noir\", \"Horror\",\n",
    "         \"Musical\", \"Mystery\", \"Romance\", \"Sci-Fi\", \"Thriller\", \"War\", \"Western\"]\n",
    ").set_index(\"ItemID\").drop(columns=[\"Video Release Date\", \"IMDb URL\", \"unknown\"])"
   ],
   "metadata": {
    "collapsed": false
   }
  },
  {
   "cell_type": "code",
   "execution_count": 5,
   "outputs": [],
   "source": [
    "import diversity_movielens\n",
    "def compute_avg_diversity(model):\n",
    "    for i in range(len(set(movieslens100K_ratio_split.test_set.user_ids))):  # get the average result for all users\n",
    "        result = []\n",
    "        r = diversity_movielens.MovielensRetrieval(model=model, item_df=item_df, UIDX=i, TOPK=50)\n",
    "        d = diversity_movielens.Diversity()\n",
    "        recommendation = d.compute_dict_distr(r.get_recy())\n",
    "        history = d.compute_dict_distr(r.get_history())\n",
    "        result.append(d.compute_kl_divergence(recommendation, history, alpha=0.001))\n",
    "    return np.mean(result)"
   ],
   "metadata": {
    "collapsed": false
   }
  },
  {
   "cell_type": "code",
   "execution_count": 6,
   "outputs": [
    {
     "data": {
      "text/plain": "0.10033744023997579"
     },
     "execution_count": 6,
     "metadata": {},
     "output_type": "execute_result"
    }
   ],
   "source": [
    "data1 = {\"model\":\"CTR\",\n",
    "        \"data\":\"movielens-100K\",\n",
    "        \"k\":10,\n",
    "        \"lambda_u\":0.01,\n",
    "        \"lambda_v\":0.01,\n",
    "        \"eta\":0.01,\n",
    "        \"a\":1,\n",
    "        \"b\":0.01,\n",
    "        \"max_iter\":10,\n",
    "        \"MAE\":0.8401,\"MSE\":1.2007,\"RMSE\":1.0957,\"AUC\":0.9006,\"F1\":0.1163,\"MAP\":0.1025,\"MRR\":0.2653,\"NCRR\":0.1364,\"NDCG\":0.1979,\"Precision\":0.0842,\"Recall\":0.3199,\n",
    "        \"category diversity\":compute_avg_diversity(ctr_k10)}\n",
    "data1[\"category diversity\"]"
   ],
   "metadata": {
    "collapsed": false
   }
  },
  {
   "cell_type": "markdown",
   "source": [
    "### k=50"
   ],
   "metadata": {
    "collapsed": false
   }
  },
  {
   "cell_type": "code",
   "execution_count": 7,
   "outputs": [
    {
     "name": "stdout",
     "output_type": "stream",
     "text": [
      "\n",
      "[CTR] Training started!\n"
     ]
    },
    {
     "data": {
      "text/plain": "  0%|          | 0/10 [00:00<?, ?it/s]",
      "application/vnd.jupyter.widget-view+json": {
       "version_major": 2,
       "version_minor": 0,
       "model_id": "8d2a07e2bd6c46b0a384eb77e53d3489"
      }
     },
     "metadata": {},
     "output_type": "display_data"
    },
    {
     "name": "stdout",
     "output_type": "stream",
     "text": [
      "Learning completed!\n",
      "\n",
      "[CTR] Evaluation started!\n"
     ]
    },
    {
     "data": {
      "text/plain": "Rating:   0%|          | 0/18925 [00:00<?, ?it/s]",
      "application/vnd.jupyter.widget-view+json": {
       "version_major": 2,
       "version_minor": 0,
       "model_id": "4bd7f267a5924e51af791d3f2d241cf6"
      }
     },
     "metadata": {},
     "output_type": "display_data"
    },
    {
     "data": {
      "text/plain": "Ranking:   0%|          | 0/941 [00:00<?, ?it/s]",
      "application/vnd.jupyter.widget-view+json": {
       "version_major": 2,
       "version_minor": 0,
       "model_id": "5fc712cd06804182badea9c10e5185ff"
      }
     },
     "metadata": {},
     "output_type": "display_data"
    },
    {
     "name": "stdout",
     "output_type": "stream",
     "text": [
      "\n",
      "TEST:\n",
      "...\n",
      "    |    MAE |    MSE |   RMSE |    AUC |  F1@50 |    MAP |    MRR | NCRR@50 | NDCG@50 | Precision@50 | Recall@50 | Train (s) | Test (s)\n",
      "--- + ------ + ------ + ------ + ------ + ------ + ------ + ------ + ------- + ------- + ------------ + --------- + --------- + --------\n",
      "CTR | 1.2712 | 2.5926 | 1.6102 | 0.8651 | 0.0976 | 0.0810 | 0.2618 |  0.1217 |  0.1627 |       0.0722 |    0.2631 |   11.1496 |   1.5158\n",
      "\n"
     ]
    }
   ],
   "source": [
    "# Instantiate HFT model\n",
    "ctr_k50 = cornac.models.CTR(\n",
    "    k=50,\n",
    "    lambda_u=0.01,\n",
    "    lambda_v=0.01,\n",
    "    eta=0.01,\n",
    "    a=1,\n",
    "    b=0.01,\n",
    "    max_iter=10,\n",
    "    trainable=True,\n",
    "    verbose=True,\n",
    "    init_params=None,\n",
    "    seed=123,\n",
    ")\n",
    "\n",
    "# Instantiate MSE for evaluation\n",
    "metrics = [MAE(), RMSE(), MSE(),FMeasure(k=50),Precision(k=50),\n",
    "           Recall(k=50), NDCG(k=50), NCRR(k=50),\n",
    "           MRR(),AUC(), MAP()]\n",
    "\n",
    "# Put everything together into an experiment and run it\n",
    "cornac.Experiment(\n",
    "    eval_method=movieslens100K_ratio_split, models=[ctr_k50], metrics=metrics, user_based=False\n",
    ").run()"
   ],
   "metadata": {
    "collapsed": false
   }
  },
  {
   "cell_type": "code",
   "execution_count": 8,
   "outputs": [
    {
     "data": {
      "text/plain": "0.051563691146180916"
     },
     "execution_count": 8,
     "metadata": {},
     "output_type": "execute_result"
    }
   ],
   "source": [
    "data2 = {\"model\":\"CTR\",\n",
    "        \"data\":\"movielens-100K\",\n",
    "        \"k\":50,\n",
    "        \"lambda_u\":0.01,\n",
    "        \"lambda_v\":0.01,\n",
    "        \"eta\":0.01,\n",
    "        \"a\":1,\n",
    "        \"b\":0.01,\n",
    "        \"max_iter\":10,\n",
    "        \"MAE\":1.2712,\"MSE\":2.5926,\"RMSE\":1.6102,\"AUC\":0.8651,\"F1\":0.0976,\"MAP\":0.0810,\"MRR\":0.2618,\"NCRR\":0.1217,\"NDCG\":0.1627,\"Precision\":0.0722,\"Recall\":0.2631,\n",
    "        \"category diversity\":compute_avg_diversity(ctr_k50)}\n",
    "data2[\"category diversity\"]"
   ],
   "metadata": {
    "collapsed": false
   }
  },
  {
   "cell_type": "markdown",
   "source": [
    "### k=100"
   ],
   "metadata": {
    "collapsed": false
   }
  },
  {
   "cell_type": "code",
   "execution_count": 9,
   "outputs": [
    {
     "name": "stdout",
     "output_type": "stream",
     "text": [
      "\n",
      "[CTR] Training started!\n"
     ]
    },
    {
     "data": {
      "text/plain": "  0%|          | 0/10 [00:00<?, ?it/s]",
      "application/vnd.jupyter.widget-view+json": {
       "version_major": 2,
       "version_minor": 0,
       "model_id": "7a0698493135445abf5d50cfe2823477"
      }
     },
     "metadata": {},
     "output_type": "display_data"
    },
    {
     "name": "stdout",
     "output_type": "stream",
     "text": [
      "Learning completed!\n",
      "\n",
      "[CTR] Evaluation started!\n"
     ]
    },
    {
     "data": {
      "text/plain": "Rating:   0%|          | 0/18925 [00:00<?, ?it/s]",
      "application/vnd.jupyter.widget-view+json": {
       "version_major": 2,
       "version_minor": 0,
       "model_id": "c604b4748ff8492281f9442642debb06"
      }
     },
     "metadata": {},
     "output_type": "display_data"
    },
    {
     "data": {
      "text/plain": "Ranking:   0%|          | 0/941 [00:00<?, ?it/s]",
      "application/vnd.jupyter.widget-view+json": {
       "version_major": 2,
       "version_minor": 0,
       "model_id": "ae4d3968b336414381c443c1f1c4a383"
      }
     },
     "metadata": {},
     "output_type": "display_data"
    },
    {
     "name": "stdout",
     "output_type": "stream",
     "text": [
      "\n",
      "TEST:\n",
      "...\n",
      "    |    MAE |    MSE |   RMSE |    AUC |  F1@50 |    MAP |    MRR | NCRR@50 | NDCG@50 | Precision@50 | Recall@50 | Train (s) | Test (s)\n",
      "--- + ------ + ------ + ------ + ------ + ------ + ------ + ------ + ------- + ------- + ------------ + --------- + --------- + --------\n",
      "CTR | 1.7526 | 4.3511 | 2.0859 | 0.8161 | 0.0632 | 0.0536 | 0.2014 |  0.0777 |  0.1025 |       0.0455 |    0.1892 |   20.0245 |   1.7619\n",
      "\n"
     ]
    }
   ],
   "source": [
    "# Instantiate HFT model\n",
    "ctr_k100 = cornac.models.CTR(\n",
    "    k=100,\n",
    "    lambda_u=0.01,\n",
    "    lambda_v=0.01,\n",
    "    eta=0.01,\n",
    "    a=1,\n",
    "    b=0.01,\n",
    "    max_iter=10,\n",
    "    trainable=True,\n",
    "    verbose=True,\n",
    "    init_params=None,\n",
    "    seed=123,\n",
    ")\n",
    "\n",
    "# Instantiate MSE for evaluation\n",
    "metrics = [MAE(), RMSE(), MSE(),FMeasure(k=50),Precision(k=50),\n",
    "           Recall(k=50), NDCG(k=50), NCRR(k=50),\n",
    "           MRR(),AUC(), MAP()]\n",
    "\n",
    "# Put everything together into an experiment and run it\n",
    "cornac.Experiment(\n",
    "    eval_method=movieslens100K_ratio_split, models=[ctr_k100], metrics=metrics, user_based=False\n",
    ").run()"
   ],
   "metadata": {
    "collapsed": false
   }
  },
  {
   "cell_type": "code",
   "execution_count": 10,
   "outputs": [
    {
     "data": {
      "text/plain": "0.059648415983780026"
     },
     "execution_count": 10,
     "metadata": {},
     "output_type": "execute_result"
    }
   ],
   "source": [
    "data3 = {\"model\":\"CTR\",\n",
    "        \"data\":\"movielens-100K\",\n",
    "        \"k\":100,\n",
    "        \"lambda_u\":0.01,\n",
    "        \"lambda_v\":0.01,\n",
    "        \"eta\":0.01,\n",
    "        \"a\":1,\n",
    "        \"b\":0.01,\n",
    "        \"max_iter\":10,\n",
    "        \"MAE\":1.7526,\"MSE\":4.3511,\"RMSE\":2.0859,\"AUC\":0.8161,\"F1\":0.0632,\"MAP\":0.0536,\"MRR\":0.2014 ,\"NCRR\":0.0777,\"NDCG\":0.1025,\"Precision\":0.0455,\"Recall\":0.1892,\n",
    "        \"category diversity\":compute_avg_diversity(ctr_k100)}\n",
    "data3[\"category diversity\"]"
   ],
   "metadata": {
    "collapsed": false
   }
  },
  {
   "cell_type": "markdown",
   "source": [
    "### k=10,lambda_v=0.1"
   ],
   "metadata": {
    "collapsed": false
   }
  },
  {
   "cell_type": "code",
   "execution_count": 11,
   "outputs": [
    {
     "name": "stdout",
     "output_type": "stream",
     "text": [
      "\n",
      "[CTR] Training started!\n"
     ]
    },
    {
     "data": {
      "text/plain": "  0%|          | 0/10 [00:00<?, ?it/s]",
      "application/vnd.jupyter.widget-view+json": {
       "version_major": 2,
       "version_minor": 0,
       "model_id": "5b9642b837664b6b979a0e060f9f9659"
      }
     },
     "metadata": {},
     "output_type": "display_data"
    },
    {
     "name": "stdout",
     "output_type": "stream",
     "text": [
      "Learning completed!\n",
      "\n",
      "[CTR] Evaluation started!\n"
     ]
    },
    {
     "data": {
      "text/plain": "Rating:   0%|          | 0/18925 [00:00<?, ?it/s]",
      "application/vnd.jupyter.widget-view+json": {
       "version_major": 2,
       "version_minor": 0,
       "model_id": "3ff20191e1b14189be5f7f93c91021a0"
      }
     },
     "metadata": {},
     "output_type": "display_data"
    },
    {
     "data": {
      "text/plain": "Ranking:   0%|          | 0/941 [00:00<?, ?it/s]",
      "application/vnd.jupyter.widget-view+json": {
       "version_major": 2,
       "version_minor": 0,
       "model_id": "094a888380e1429f855bbbe7af015004"
      }
     },
     "metadata": {},
     "output_type": "display_data"
    },
    {
     "name": "stdout",
     "output_type": "stream",
     "text": [
      "\n",
      "TEST:\n",
      "...\n",
      "    |    MAE |    MSE |   RMSE |    AUC |  F1@50 |    MAP |    MRR | NCRR@50 | NDCG@50 | Precision@50 | Recall@50 | Train (s) | Test (s)\n",
      "--- + ------ + ------ + ------ + ------ + ------ + ------ + ------ + ------- + ------- + ------------ + --------- + --------- + --------\n",
      "CTR | 0.8401 | 1.2006 | 1.0957 | 0.9006 | 0.1162 | 0.1025 | 0.2653 |  0.1364 |  0.1978 |       0.0842 |    0.3198 |    6.3560 |   2.1699\n",
      "\n"
     ]
    }
   ],
   "source": [
    "# Instantiate HFT model\n",
    "ctr_v01_k10 = cornac.models.CTR(\n",
    "    k=10,\n",
    "    lambda_u=0.01,\n",
    "    lambda_v=0.1,\n",
    "    eta=0.01,\n",
    "    a=1,\n",
    "    b=0.01,\n",
    "    max_iter=10,\n",
    "    trainable=True,\n",
    "    verbose=True,\n",
    "    init_params=None,\n",
    "    seed=123,\n",
    ")\n",
    "\n",
    "# Instantiate MSE for evaluation\n",
    "metrics = [MAE(), RMSE(), MSE(),FMeasure(k=50),Precision(k=50),\n",
    "           Recall(k=50), NDCG(k=50), NCRR(k=50),\n",
    "           MRR(),AUC(), MAP()]\n",
    "\n",
    "# Put everything together into an experiment and run it\n",
    "cornac.Experiment(\n",
    "    eval_method=movieslens100K_ratio_split, models=[ctr_v01_k10], metrics=metrics, user_based=False\n",
    ").run()"
   ],
   "metadata": {
    "collapsed": false
   }
  },
  {
   "cell_type": "code",
   "execution_count": 12,
   "outputs": [
    {
     "data": {
      "text/plain": "0.10033744023997579"
     },
     "execution_count": 12,
     "metadata": {},
     "output_type": "execute_result"
    }
   ],
   "source": [
    "data4 = {\"model\":\"CTR\",\n",
    "        \"data\":\"movielens-100K\",\n",
    "        \"k\":10,\n",
    "        \"lambda_u\":0.01,\n",
    "        \"lambda_v\":0.1,\n",
    "        \"eta\":0.01,\n",
    "        \"a\":1,\n",
    "        \"b\":0.01,\n",
    "        \"max_iter\":10,\n",
    "        \"MAE\":0.8401,\"MSE\":1.2006,\"RMSE\":1.0957,\"AUC\":0.9006,\"F1\":0.1162,\"MAP\":0.1025,\"MRR\":0.2653 ,\"NCRR\":0.1364,\"NDCG\":0.1978,\"Precision\":0.0842,\"Recall\":0.3198,\n",
    "        \"category diversity\":compute_avg_diversity(ctr_v01_k10)}\n",
    "data4[\"category diversity\"]"
   ],
   "metadata": {
    "collapsed": false
   }
  },
  {
   "cell_type": "markdown",
   "source": [
    "### k=10, lambda_v=1"
   ],
   "metadata": {
    "collapsed": false
   }
  },
  {
   "cell_type": "code",
   "execution_count": 13,
   "outputs": [
    {
     "name": "stdout",
     "output_type": "stream",
     "text": [
      "\n",
      "[CTR] Training started!\n"
     ]
    },
    {
     "data": {
      "text/plain": "  0%|          | 0/10 [00:00<?, ?it/s]",
      "application/vnd.jupyter.widget-view+json": {
       "version_major": 2,
       "version_minor": 0,
       "model_id": "1213a55cc9d149459c1a26bc270b6ab9"
      }
     },
     "metadata": {},
     "output_type": "display_data"
    },
    {
     "name": "stdout",
     "output_type": "stream",
     "text": [
      "Learning completed!\n",
      "\n",
      "[CTR] Evaluation started!\n"
     ]
    },
    {
     "data": {
      "text/plain": "Rating:   0%|          | 0/18925 [00:00<?, ?it/s]",
      "application/vnd.jupyter.widget-view+json": {
       "version_major": 2,
       "version_minor": 0,
       "model_id": "14271b6a6f6c4e2d98ec50febed501c8"
      }
     },
     "metadata": {},
     "output_type": "display_data"
    },
    {
     "data": {
      "text/plain": "Ranking:   0%|          | 0/941 [00:00<?, ?it/s]",
      "application/vnd.jupyter.widget-view+json": {
       "version_major": 2,
       "version_minor": 0,
       "model_id": "d1ddf591ed644f379ceca11eb1412489"
      }
     },
     "metadata": {},
     "output_type": "display_data"
    },
    {
     "name": "stdout",
     "output_type": "stream",
     "text": [
      "\n",
      "TEST:\n",
      "...\n",
      "    |    MAE |    MSE |   RMSE |    AUC |  F1@50 |    MAP |    MRR | NCRR@50 | NDCG@50 | Precision@50 | Recall@50 | Train (s) | Test (s)\n",
      "--- + ------ + ------ + ------ + ------ + ------ + ------ + ------ + ------- + ------- + ------------ + --------- + --------- + --------\n",
      "CTR | 0.8400 | 1.2001 | 1.0955 | 0.9006 | 0.1164 | 0.1026 | 0.2655 |  0.1365 |  0.1981 |       0.0843 |    0.3207 |    5.3927 |   1.5999\n",
      "\n"
     ]
    }
   ],
   "source": [
    "# Instantiate HFT model\n",
    "ctr_v1_k10 = cornac.models.CTR(\n",
    "    k=10,\n",
    "    lambda_u=0.01,\n",
    "    lambda_v=1,\n",
    "    eta=0.01,\n",
    "    a=1,\n",
    "    b=0.01,\n",
    "    max_iter=10,\n",
    "    trainable=True,\n",
    "    verbose=True,\n",
    "    init_params=None,\n",
    "    seed=123,\n",
    ")\n",
    "\n",
    "# Instantiate MSE for evaluation\n",
    "metrics = [MAE(), RMSE(), MSE(),FMeasure(k=50),Precision(k=50),\n",
    "           Recall(k=50), NDCG(k=50), NCRR(k=50),\n",
    "           MRR(),AUC(), MAP()]\n",
    "\n",
    "# Put everything together into an experiment and run it\n",
    "cornac.Experiment(\n",
    "    eval_method=movieslens100K_ratio_split, models=[ctr_v1_k10], metrics=metrics, user_based=False\n",
    ").run()"
   ],
   "metadata": {
    "collapsed": false
   }
  },
  {
   "cell_type": "code",
   "execution_count": 14,
   "outputs": [
    {
     "data": {
      "text/plain": "0.10033744023997579"
     },
     "execution_count": 14,
     "metadata": {},
     "output_type": "execute_result"
    }
   ],
   "source": [
    "data5 = {\"model\":\"CTR\",\n",
    "        \"data\":\"movielens-100K\",\n",
    "        \"k\":10,\n",
    "        \"lambda_u\":0.01,\n",
    "        \"lambda_v\":1,\n",
    "        \"eta\":0.01,\n",
    "        \"a\":1,\n",
    "        \"b\":0.01,\n",
    "        \"max_iter\":10,\n",
    "        \"MAE\":0.8400,\"MSE\":1.2001,\"RMSE\":1.0955,\"AUC\":0.9006,\"F1\":0.1164,\"MAP\":0.1026,\"MRR\":0.2655 ,\"NCRR\":0.1365,\"NDCG\":0.1981,\"Precision\":0.0843,\"Recall\":0.3207,\n",
    "        \"category diversity\":compute_avg_diversity(ctr_v1_k10)}\n",
    "data5[\"category diversity\"]"
   ],
   "metadata": {
    "collapsed": false
   }
  },
  {
   "cell_type": "markdown",
   "source": [
    "### k=10, lambda_v=10"
   ],
   "metadata": {
    "collapsed": false
   }
  },
  {
   "cell_type": "code",
   "execution_count": 15,
   "outputs": [
    {
     "name": "stdout",
     "output_type": "stream",
     "text": [
      "\n",
      "[CTR] Training started!\n"
     ]
    },
    {
     "data": {
      "text/plain": "  0%|          | 0/10 [00:00<?, ?it/s]",
      "application/vnd.jupyter.widget-view+json": {
       "version_major": 2,
       "version_minor": 0,
       "model_id": "9c857d87790f436c989dbbf7b0efd8f1"
      }
     },
     "metadata": {},
     "output_type": "display_data"
    },
    {
     "name": "stdout",
     "output_type": "stream",
     "text": [
      "Learning completed!\n",
      "\n",
      "[CTR] Evaluation started!\n"
     ]
    },
    {
     "data": {
      "text/plain": "Rating:   0%|          | 0/18925 [00:00<?, ?it/s]",
      "application/vnd.jupyter.widget-view+json": {
       "version_major": 2,
       "version_minor": 0,
       "model_id": "16ad6b432f194359816d1a1d660562db"
      }
     },
     "metadata": {},
     "output_type": "display_data"
    },
    {
     "data": {
      "text/plain": "Ranking:   0%|          | 0/941 [00:00<?, ?it/s]",
      "application/vnd.jupyter.widget-view+json": {
       "version_major": 2,
       "version_minor": 0,
       "model_id": "68f8efc4af96401385224dbe36816f39"
      }
     },
     "metadata": {},
     "output_type": "display_data"
    },
    {
     "name": "stdout",
     "output_type": "stream",
     "text": [
      "\n",
      "TEST:\n",
      "...\n",
      "    |    MAE |    MSE |   RMSE |    AUC |  F1@50 |    MAP |    MRR | NCRR@50 | NDCG@50 | Precision@50 | Recall@50 | Train (s) | Test (s)\n",
      "--- + ------ + ------ + ------ + ------ + ------ + ------ + ------ + ------- + ------- + ------------ + --------- + --------- + --------\n",
      "CTR | 0.8386 | 1.1967 | 1.0939 | 0.9008 | 0.1163 | 0.1018 | 0.2629 |  0.1352 |  0.1974 |       0.0842 |    0.3215 |    5.1215 |   1.7910\n",
      "\n"
     ]
    }
   ],
   "source": [
    "# Instantiate HFT model\n",
    "ctr_v10_k10 = cornac.models.CTR(\n",
    "    k=10,\n",
    "    lambda_u=0.01,\n",
    "    lambda_v=10,\n",
    "    eta=0.01,\n",
    "    a=1,\n",
    "    b=0.01,\n",
    "    max_iter=10,\n",
    "    trainable=True,\n",
    "    verbose=True,\n",
    "    init_params=None,\n",
    "    seed=123,\n",
    ")\n",
    "\n",
    "# Instantiate MSE for evaluation\n",
    "metrics = [MAE(), RMSE(), MSE(),FMeasure(k=50),Precision(k=50),\n",
    "           Recall(k=50), NDCG(k=50), NCRR(k=50),\n",
    "           MRR(),AUC(), MAP()]\n",
    "\n",
    "# Put everything together into an experiment and run it\n",
    "cornac.Experiment(\n",
    "    eval_method=movieslens100K_ratio_split, models=[ctr_v10_k10], metrics=metrics, user_based=False\n",
    ").run()"
   ],
   "metadata": {
    "collapsed": false
   }
  },
  {
   "cell_type": "code",
   "execution_count": 16,
   "outputs": [
    {
     "data": {
      "text/plain": "0.11239542593885564"
     },
     "execution_count": 16,
     "metadata": {},
     "output_type": "execute_result"
    }
   ],
   "source": [
    "data6 = {\"model\":\"CTR\",\n",
    "        \"data\":\"movielens-100K\",\n",
    "        \"k\":10,\n",
    "        \"lambda_u\":0.01,\n",
    "        \"lambda_v\":10,\n",
    "        \"eta\":0.01,\n",
    "        \"a\":1,\n",
    "        \"b\":0.01,\n",
    "        \"max_iter\":10,\n",
    "        \"MAE\":0.8386,\"MSE\":1.1967,\"RMSE\":1.0939,\"AUC\":0.9008,\"F1\":0.1163,\"MAP\":0.1018,\"MRR\":0.2629 ,\"NCRR\":0.1352,\"NDCG\":0.1974,\"Precision\":0.0842,\"Recall\":0.3215,\n",
    "        \"category diversity\":compute_avg_diversity(ctr_v10_k10)}\n",
    "data6[\"category diversity\"]"
   ],
   "metadata": {
    "collapsed": false
   }
  },
  {
   "cell_type": "markdown",
   "source": [
    "### k=10, lambda_v=100"
   ],
   "metadata": {
    "collapsed": false
   }
  },
  {
   "cell_type": "code",
   "execution_count": 17,
   "outputs": [
    {
     "name": "stdout",
     "output_type": "stream",
     "text": [
      "\n",
      "[CTR] Training started!\n"
     ]
    },
    {
     "data": {
      "text/plain": "  0%|          | 0/10 [00:00<?, ?it/s]",
      "application/vnd.jupyter.widget-view+json": {
       "version_major": 2,
       "version_minor": 0,
       "model_id": "adcfe59fcced4a1d84b469f3234433b8"
      }
     },
     "metadata": {},
     "output_type": "display_data"
    },
    {
     "name": "stdout",
     "output_type": "stream",
     "text": [
      "Learning completed!\n",
      "\n",
      "[CTR] Evaluation started!\n"
     ]
    },
    {
     "data": {
      "text/plain": "Rating:   0%|          | 0/18925 [00:00<?, ?it/s]",
      "application/vnd.jupyter.widget-view+json": {
       "version_major": 2,
       "version_minor": 0,
       "model_id": "311cd57a0fb94f15bf9596805264e28a"
      }
     },
     "metadata": {},
     "output_type": "display_data"
    },
    {
     "data": {
      "text/plain": "Ranking:   0%|          | 0/941 [00:00<?, ?it/s]",
      "application/vnd.jupyter.widget-view+json": {
       "version_major": 2,
       "version_minor": 0,
       "model_id": "9bac0eab30464719a07638ad366ef4b1"
      }
     },
     "metadata": {},
     "output_type": "display_data"
    },
    {
     "name": "stdout",
     "output_type": "stream",
     "text": [
      "\n",
      "TEST:\n",
      "...\n",
      "    |    MAE |    MSE |   RMSE |    AUC |  F1@50 |    MAP |    MRR | NCRR@50 | NDCG@50 | Precision@50 | Recall@50 | Train (s) | Test (s)\n",
      "--- + ------ + ------ + ------ + ------ + ------ + ------ + ------ + ------- + ------- + ------------ + --------- + --------- + --------\n",
      "CTR | 0.8336 | 1.1835 | 1.0879 | 0.9014 | 0.1187 | 0.1021 | 0.2581 |  0.1346 |  0.1991 |       0.0859 |    0.3260 |    6.8256 |   2.7199\n",
      "\n"
     ]
    }
   ],
   "source": [
    "# Instantiate HFT model\n",
    "ctr_v100_k10 = cornac.models.CTR(\n",
    "    k=10,\n",
    "    lambda_u=0.01,\n",
    "    lambda_v=100,\n",
    "    eta=0.01,\n",
    "    a=1,\n",
    "    b=0.01,\n",
    "    max_iter=10,\n",
    "    trainable=True,\n",
    "    verbose=True,\n",
    "    init_params=None,\n",
    "    seed=123,\n",
    ")\n",
    "\n",
    "# Instantiate MSE for evaluation\n",
    "metrics = [MAE(), RMSE(), MSE(),FMeasure(k=50),Precision(k=50),\n",
    "           Recall(k=50), NDCG(k=50), NCRR(k=50),\n",
    "           MRR(),AUC(), MAP()]\n",
    "\n",
    "# Put everything together into an experiment and run it\n",
    "cornac.Experiment(\n",
    "    eval_method=movieslens100K_ratio_split, models=[ctr_v100_k10], metrics=metrics, user_based=False\n",
    ").run()"
   ],
   "metadata": {
    "collapsed": false
   }
  },
  {
   "cell_type": "code",
   "execution_count": 18,
   "outputs": [
    {
     "data": {
      "text/plain": "0.11205451985737414"
     },
     "execution_count": 18,
     "metadata": {},
     "output_type": "execute_result"
    }
   ],
   "source": [
    "data7 = {\"model\":\"CTR\",\n",
    "        \"data\":\"movielens-100K\",\n",
    "        \"k\":10,\n",
    "        \"lambda_u\":0.01,\n",
    "        \"lambda_v\":100,\n",
    "        \"eta\":0.01,\n",
    "        \"a\":1,\n",
    "        \"b\":0.01,\n",
    "        \"max_iter\":10,\n",
    "        \"MAE\":0.8336,\"MSE\":1.1835,\"RMSE\":1.0879,\"AUC\":0.9014,\"F1\":0.1187,\"MAP\":0.1021,\"MRR\":0.2581 ,\"NCRR\":0.1346,\"NDCG\":0.1991,\"Precision\":0.0859,\"Recall\":0.3260,\n",
    "        \"category diversity\":compute_avg_diversity(ctr_v100_k10)}\n",
    "data7[\"category diversity\"]"
   ],
   "metadata": {
    "collapsed": false
   }
  },
  {
   "cell_type": "markdown",
   "source": [
    "### k=10, lambda_v=1000"
   ],
   "metadata": {
    "collapsed": false
   }
  },
  {
   "cell_type": "code",
   "execution_count": 19,
   "outputs": [
    {
     "name": "stdout",
     "output_type": "stream",
     "text": [
      "\n",
      "[CTR] Training started!\n"
     ]
    },
    {
     "data": {
      "text/plain": "  0%|          | 0/10 [00:00<?, ?it/s]",
      "application/vnd.jupyter.widget-view+json": {
       "version_major": 2,
       "version_minor": 0,
       "model_id": "6ce62a32912445e1bfbeaa3e4bfd2734"
      }
     },
     "metadata": {},
     "output_type": "display_data"
    },
    {
     "name": "stdout",
     "output_type": "stream",
     "text": [
      "Learning completed!\n",
      "\n",
      "[CTR] Evaluation started!\n"
     ]
    },
    {
     "data": {
      "text/plain": "Rating:   0%|          | 0/18925 [00:00<?, ?it/s]",
      "application/vnd.jupyter.widget-view+json": {
       "version_major": 2,
       "version_minor": 0,
       "model_id": "a94576f1fc0d47969370a782e46d8d40"
      }
     },
     "metadata": {},
     "output_type": "display_data"
    },
    {
     "data": {
      "text/plain": "Ranking:   0%|          | 0/941 [00:00<?, ?it/s]",
      "application/vnd.jupyter.widget-view+json": {
       "version_major": 2,
       "version_minor": 0,
       "model_id": "5a230c525993466c8f2d70e73b492461"
      }
     },
     "metadata": {},
     "output_type": "display_data"
    },
    {
     "name": "stdout",
     "output_type": "stream",
     "text": [
      "\n",
      "TEST:\n",
      "...\n",
      "    |    MAE |    MSE |   RMSE |    AUC |  F1@50 |    MAP |    MRR | NCRR@50 | NDCG@50 | Precision@50 | Recall@50 | Train (s) | Test (s)\n",
      "--- + ------ + ------ + ------ + ------ + ------ + ------ + ------ + ------- + ------- + ------------ + --------- + --------- + --------\n",
      "CTR | 0.8269 | 1.1572 | 1.0757 | 0.8959 | 0.1140 | 0.0997 | 0.2545 |  0.1316 |  0.1923 |       0.0828 |    0.3123 |    5.9663 |   1.6421\n",
      "\n"
     ]
    }
   ],
   "source": [
    "# Instantiate HFT model\n",
    "ctr_v1000_k10 = cornac.models.CTR(\n",
    "    k=10,\n",
    "    lambda_u=0.01,\n",
    "    lambda_v=1000,\n",
    "    eta=0.01,\n",
    "    a=1,\n",
    "    b=0.01,\n",
    "    max_iter=10,\n",
    "    trainable=True,\n",
    "    verbose=True,\n",
    "    init_params=None,\n",
    "    seed=123,\n",
    ")\n",
    "\n",
    "# Instantiate MSE for evaluation\n",
    "metrics = [MAE(), RMSE(), MSE(),FMeasure(k=50),Precision(k=50),\n",
    "           Recall(k=50), NDCG(k=50), NCRR(k=50),\n",
    "           MRR(),AUC(), MAP()]\n",
    "\n",
    "# Put everything together into an experiment and run it\n",
    "cornac.Experiment(\n",
    "    eval_method=movieslens100K_ratio_split, models=[ctr_v1000_k10], metrics=metrics, user_based=False\n",
    ").run()"
   ],
   "metadata": {
    "collapsed": false
   }
  },
  {
   "cell_type": "code",
   "execution_count": 20,
   "outputs": [
    {
     "data": {
      "text/plain": "0.12405605576621292"
     },
     "execution_count": 20,
     "metadata": {},
     "output_type": "execute_result"
    }
   ],
   "source": [
    "data8 = {\"model\":\"CTR\",\n",
    "        \"data\":\"movielens-100K\",\n",
    "        \"k\":10,\n",
    "        \"lambda_u\":0.01,\n",
    "        \"lambda_v\":1000,\n",
    "        \"eta\":0.01,\n",
    "        \"a\":1,\n",
    "        \"b\":0.01,\n",
    "        \"max_iter\":10,\n",
    "        \"MAE\":0.8269,\"MSE\":1.1572,\"RMSE\":1.0757,\"AUC\":0.8959,\"F1\":0.1140,\"MAP\":0.0997,\"MRR\":0.2545 ,\"NCRR\":0.1316,\"NDCG\":0.1923,\"Precision\":0.0828,\"Recall\":0.3123,\n",
    "        \"category diversity\":compute_avg_diversity(ctr_v1000_k10)}\n",
    "data8[\"category diversity\"]"
   ],
   "metadata": {
    "collapsed": false
   }
  },
  {
   "cell_type": "markdown",
   "source": [
    "### k=10, lambda_v=10, lambda_u=0.1"
   ],
   "metadata": {
    "collapsed": false
   }
  },
  {
   "cell_type": "code",
   "execution_count": 21,
   "outputs": [
    {
     "name": "stdout",
     "output_type": "stream",
     "text": [
      "\n",
      "[CTR] Training started!\n"
     ]
    },
    {
     "data": {
      "text/plain": "  0%|          | 0/10 [00:00<?, ?it/s]",
      "application/vnd.jupyter.widget-view+json": {
       "version_major": 2,
       "version_minor": 0,
       "model_id": "dbaa7d2254904dc0a21e359de13618dd"
      }
     },
     "metadata": {},
     "output_type": "display_data"
    },
    {
     "name": "stdout",
     "output_type": "stream",
     "text": [
      "Learning completed!\n",
      "\n",
      "[CTR] Evaluation started!\n"
     ]
    },
    {
     "data": {
      "text/plain": "Rating:   0%|          | 0/18925 [00:00<?, ?it/s]",
      "application/vnd.jupyter.widget-view+json": {
       "version_major": 2,
       "version_minor": 0,
       "model_id": "6449ac9d5c144324a387d0eb213ebd47"
      }
     },
     "metadata": {},
     "output_type": "display_data"
    },
    {
     "data": {
      "text/plain": "Ranking:   0%|          | 0/941 [00:00<?, ?it/s]",
      "application/vnd.jupyter.widget-view+json": {
       "version_major": 2,
       "version_minor": 0,
       "model_id": "15149eb87d324299b377fa1ac8241920"
      }
     },
     "metadata": {},
     "output_type": "display_data"
    },
    {
     "name": "stdout",
     "output_type": "stream",
     "text": [
      "\n",
      "TEST:\n",
      "...\n",
      "    |    MAE |    MSE |   RMSE |    AUC |  F1@50 |    MAP |    MRR | NCRR@50 | NDCG@50 | Precision@50 | Recall@50 | Train (s) | Test (s)\n",
      "--- + ------ + ------ + ------ + ------ + ------ + ------ + ------ + ------- + ------- + ------------ + --------- + --------- + --------\n",
      "CTR | 0.8344 | 1.1791 | 1.0859 | 0.9032 | 0.1187 | 0.1025 | 0.2626 |  0.1357 |  0.2006 |       0.0857 |    0.3310 |    5.5139 |   1.5530\n",
      "\n"
     ]
    }
   ],
   "source": [
    "# Instantiate HFT model\n",
    "ctr_u01_v10_k10 = cornac.models.CTR(\n",
    "    k=10,\n",
    "    lambda_u=0.1,\n",
    "    lambda_v=10,\n",
    "    eta=0.01,\n",
    "    a=1,\n",
    "    b=0.01,\n",
    "    max_iter=10,\n",
    "    trainable=True,\n",
    "    verbose=True,\n",
    "    init_params=None,\n",
    "    seed=123,\n",
    ")\n",
    "\n",
    "# Instantiate MSE for evaluation\n",
    "metrics = [MAE(), RMSE(), MSE(),FMeasure(k=50),Precision(k=50),\n",
    "           Recall(k=50), NDCG(k=50), NCRR(k=50),\n",
    "           MRR(),AUC(), MAP()]\n",
    "\n",
    "# Put everything together into an experiment and run it\n",
    "cornac.Experiment(\n",
    "    eval_method=movieslens100K_ratio_split, models=[ctr_u01_v10_k10], metrics=metrics, user_based=False\n",
    ").run()"
   ],
   "metadata": {
    "collapsed": false
   }
  },
  {
   "cell_type": "code",
   "execution_count": 22,
   "outputs": [
    {
     "data": {
      "text/plain": "0.0972851299328016"
     },
     "execution_count": 22,
     "metadata": {},
     "output_type": "execute_result"
    }
   ],
   "source": [
    "data9 = {\"model\":\"CTR\",\n",
    "        \"data\":\"movielens-100K\",\n",
    "        \"k\":10,\n",
    "        \"lambda_u\":0.1,\n",
    "        \"lambda_v\":10,\n",
    "        \"eta\":0.01,\n",
    "        \"a\":1,\n",
    "        \"b\":0.01,\n",
    "        \"max_iter\":10,\n",
    "        \"MAE\":0.8344,\"MSE\":1.1791,\"RMSE\":1.0859,\"AUC\":0.9032,\"F1\":0.1187,\"MAP\":0.1025,\"MRR\":0.2626 ,\"NCRR\":0.1357,\"NDCG\":0.2006,\"Precision\":0.0857,\"Recall\":0.3310,\n",
    "        \"category diversity\":compute_avg_diversity(ctr_u01_v10_k10)}\n",
    "data9[\"category diversity\"]"
   ],
   "metadata": {
    "collapsed": false
   }
  },
  {
   "cell_type": "markdown",
   "source": [
    "### k=10, lambda_v=10, lambda_u=1"
   ],
   "metadata": {
    "collapsed": false
   }
  },
  {
   "cell_type": "code",
   "execution_count": 23,
   "outputs": [
    {
     "name": "stdout",
     "output_type": "stream",
     "text": [
      "\n",
      "[CTR] Training started!\n"
     ]
    },
    {
     "data": {
      "text/plain": "  0%|          | 0/10 [00:00<?, ?it/s]",
      "application/vnd.jupyter.widget-view+json": {
       "version_major": 2,
       "version_minor": 0,
       "model_id": "b317606ffad54a8dba78111fbe164243"
      }
     },
     "metadata": {},
     "output_type": "display_data"
    },
    {
     "name": "stdout",
     "output_type": "stream",
     "text": [
      "Learning completed!\n",
      "\n",
      "[CTR] Evaluation started!\n"
     ]
    },
    {
     "data": {
      "text/plain": "Rating:   0%|          | 0/18925 [00:00<?, ?it/s]",
      "application/vnd.jupyter.widget-view+json": {
       "version_major": 2,
       "version_minor": 0,
       "model_id": "61e60bbe06454f3584339b40a53c5071"
      }
     },
     "metadata": {},
     "output_type": "display_data"
    },
    {
     "data": {
      "text/plain": "Ranking:   0%|          | 0/941 [00:00<?, ?it/s]",
      "application/vnd.jupyter.widget-view+json": {
       "version_major": 2,
       "version_minor": 0,
       "model_id": "c9ef286c83474255aa782caa5a60f62d"
      }
     },
     "metadata": {},
     "output_type": "display_data"
    },
    {
     "name": "stdout",
     "output_type": "stream",
     "text": [
      "\n",
      "TEST:\n",
      "...\n",
      "    |    MAE |    MSE |   RMSE |    AUC |  F1@50 |    MAP |    MRR | NCRR@50 | NDCG@50 | Precision@50 | Recall@50 | Train (s) | Test (s)\n",
      "--- + ------ + ------ + ------ + ------ + ------ + ------ + ------ + ------- + ------- + ------------ + --------- + --------- + --------\n",
      "CTR | 0.8288 | 1.1545 | 1.0745 | 0.9076 | 0.1241 | 0.1090 | 0.2905 |  0.1486 |  0.2123 |       0.0898 |    0.3424 |    5.2899 |   1.3285\n",
      "\n"
     ]
    }
   ],
   "source": [
    "# Instantiate HFT model\n",
    "ctr_u1_v10_k10 = cornac.models.CTR(\n",
    "    k=10,\n",
    "    lambda_u=1,\n",
    "    lambda_v=10,\n",
    "    eta=0.01,\n",
    "    a=1,\n",
    "    b=0.01,\n",
    "    max_iter=10,\n",
    "    trainable=True,\n",
    "    verbose=True,\n",
    "    init_params=None,\n",
    "    seed=123,\n",
    ")\n",
    "\n",
    "# Instantiate MSE for evaluation\n",
    "metrics = [MAE(), RMSE(), MSE(),FMeasure(k=50),Precision(k=50),\n",
    "           Recall(k=50), NDCG(k=50), NCRR(k=50),\n",
    "           MRR(),AUC(), MAP()]\n",
    "\n",
    "# Put everything together into an experiment and run it\n",
    "cornac.Experiment(\n",
    "    eval_method=movieslens100K_ratio_split, models=[ctr_u1_v10_k10], metrics=metrics, user_based=False\n",
    ").run()"
   ],
   "metadata": {
    "collapsed": false
   }
  },
  {
   "cell_type": "code",
   "execution_count": 24,
   "outputs": [
    {
     "data": {
      "text/plain": "0.11005657125835847"
     },
     "execution_count": 24,
     "metadata": {},
     "output_type": "execute_result"
    }
   ],
   "source": [
    "data10 = {\"model\":\"CTR\",\n",
    "        \"data\":\"movielens-100K\",\n",
    "        \"k\":10,\n",
    "        \"lambda_u\":1,\n",
    "        \"lambda_v\":10,\n",
    "        \"eta\":0.01,\n",
    "        \"a\":1,\n",
    "        \"b\":0.01,\n",
    "        \"max_iter\":10,\n",
    "        \"MAE\":0.8288,\"MSE\":1.1545,\"RMSE\":1.0745,\"AUC\":0.9076,\"F1\":0.1241,\"MAP\":0.1090,\"MRR\":0.2905 ,\"NCRR\":0.1486,\"NDCG\":0.2123,\"Precision\":0.0898,\"Recall\":0.3424,\n",
    "        \"category diversity\":compute_avg_diversity(ctr_u1_v10_k10)}\n",
    "data10[\"category diversity\"]"
   ],
   "metadata": {
    "collapsed": false
   }
  },
  {
   "cell_type": "markdown",
   "source": [
    "### k=10, lambda_v=10, lambda_u=10"
   ],
   "metadata": {
    "collapsed": false
   }
  },
  {
   "cell_type": "code",
   "execution_count": 25,
   "outputs": [
    {
     "name": "stdout",
     "output_type": "stream",
     "text": [
      "\n",
      "[CTR] Training started!\n"
     ]
    },
    {
     "data": {
      "text/plain": "  0%|          | 0/10 [00:00<?, ?it/s]",
      "application/vnd.jupyter.widget-view+json": {
       "version_major": 2,
       "version_minor": 0,
       "model_id": "f57f341c8b3c4588a68d4d68a6552acb"
      }
     },
     "metadata": {},
     "output_type": "display_data"
    },
    {
     "name": "stdout",
     "output_type": "stream",
     "text": [
      "Learning completed!\n",
      "\n",
      "[CTR] Evaluation started!\n"
     ]
    },
    {
     "data": {
      "text/plain": "Rating:   0%|          | 0/18925 [00:00<?, ?it/s]",
      "application/vnd.jupyter.widget-view+json": {
       "version_major": 2,
       "version_minor": 0,
       "model_id": "82d0f75a5a2e4f7b922dc4b97f65a791"
      }
     },
     "metadata": {},
     "output_type": "display_data"
    },
    {
     "data": {
      "text/plain": "Ranking:   0%|          | 0/941 [00:00<?, ?it/s]",
      "application/vnd.jupyter.widget-view+json": {
       "version_major": 2,
       "version_minor": 0,
       "model_id": "3608f7ca838b4e0b9fcb650f8844a4d4"
      }
     },
     "metadata": {},
     "output_type": "display_data"
    },
    {
     "name": "stdout",
     "output_type": "stream",
     "text": [
      "\n",
      "TEST:\n",
      "...\n",
      "    |    MAE |    MSE |   RMSE |    AUC |  F1@50 |    MAP |    MRR | NCRR@50 | NDCG@50 | Precision@50 | Recall@50 | Train (s) | Test (s)\n",
      "--- + ------ + ------ + ------ + ------ + ------ + ------ + ------ + ------- + ------- + ------------ + --------- + --------- + --------\n",
      "CTR | 0.8451 | 1.1737 | 1.0834 | 0.9124 | 0.1313 | 0.1154 | 0.2990 |  0.1566 |  0.2253 |       0.0949 |    0.3647 |    5.5331 |   1.4931\n",
      "\n"
     ]
    }
   ],
   "source": [
    "# Instantiate HFT model\n",
    "ctr_u10_v10_k10 = cornac.models.CTR(\n",
    "    k=10,\n",
    "    lambda_u=10,\n",
    "    lambda_v=10,\n",
    "    eta=0.01,\n",
    "    a=1,\n",
    "    b=0.01,\n",
    "    max_iter=10,\n",
    "    trainable=True,\n",
    "    verbose=True,\n",
    "    init_params=None,\n",
    "    seed=123,\n",
    ")\n",
    "\n",
    "# Instantiate MSE for evaluation\n",
    "metrics = [MAE(), RMSE(), MSE(),FMeasure(k=50),Precision(k=50),\n",
    "           Recall(k=50), NDCG(k=50), NCRR(k=50),\n",
    "           MRR(),AUC(), MAP()]\n",
    "\n",
    "# Put everything together into an experiment and run it\n",
    "cornac.Experiment(\n",
    "    eval_method=movieslens100K_ratio_split, models=[ctr_u10_v10_k10], metrics=metrics, user_based=False\n",
    ").run()"
   ],
   "metadata": {
    "collapsed": false
   }
  },
  {
   "cell_type": "code",
   "execution_count": 26,
   "outputs": [
    {
     "data": {
      "text/plain": "0.11489934647504975"
     },
     "execution_count": 26,
     "metadata": {},
     "output_type": "execute_result"
    }
   ],
   "source": [
    "data11 = {\"model\":\"CTR\",\n",
    "        \"data\":\"movielens-100K\",\n",
    "        \"k\":10,\n",
    "        \"lambda_u\":10,\n",
    "        \"lambda_v\":10,\n",
    "        \"eta\":0.01,\n",
    "        \"a\":1,\n",
    "        \"b\":0.01,\n",
    "        \"max_iter\":10,\n",
    "        \"MAE\":0.8451,\"MSE\":1.1737,\"RMSE\":1.0834,\"AUC\":0.9124,\"F1\":0.1313,\"MAP\":0.1154,\"MRR\":0.2990 ,\"NCRR\":0.1566,\"NDCG\":0.2253,\"Precision\":0.0949,\"Recall\":0.3647,\n",
    "        \"category diversity\":compute_avg_diversity(ctr_u10_v10_k10)}\n",
    "data11[\"category diversity\"]"
   ],
   "metadata": {
    "collapsed": false
   }
  },
  {
   "cell_type": "code",
   "execution_count": 27,
   "outputs": [],
   "source": [
    "data = [data1,data2,data3,data4,data5,data6,data7,data8,data9,data10,data11]\n",
    "df = pd.DataFrame(columns = data1.keys())\n",
    "i=0\n",
    "for d in data:\n",
    "    df = pd.concat([df, pd.DataFrame(d,columns = list(d.keys()),index=[i])], ignore_index=False)\n",
    "    i += 1"
   ],
   "metadata": {
    "collapsed": false
   }
  },
  {
   "cell_type": "code",
   "execution_count": 28,
   "outputs": [
    {
     "data": {
      "text/plain": "   model            data    k  lambda_u  lambda_v   eta  a     b max_iter  \\\n0    CTR  movielens-100K   10      0.01      0.01  0.01  1  0.01       10   \n1    CTR  movielens-100K   50      0.01      0.01  0.01  1  0.01       10   \n2    CTR  movielens-100K  100      0.01      0.01  0.01  1  0.01       10   \n3    CTR  movielens-100K   10      0.01      0.10  0.01  1  0.01       10   \n4    CTR  movielens-100K   10      0.01      1.00  0.01  1  0.01       10   \n5    CTR  movielens-100K   10      0.01     10.00  0.01  1  0.01       10   \n6    CTR  movielens-100K   10      0.01    100.00  0.01  1  0.01       10   \n7    CTR  movielens-100K   10      0.01   1000.00  0.01  1  0.01       10   \n8    CTR  movielens-100K   10      0.10     10.00  0.01  1  0.01       10   \n9    CTR  movielens-100K   10      1.00     10.00  0.01  1  0.01       10   \n10   CTR  movielens-100K   10     10.00     10.00  0.01  1  0.01       10   \n\n       MAE  ...    RMSE     AUC      F1     MAP     MRR    NCRR    NDCG  \\\n0   0.8401  ...  1.0957  0.9006  0.1163  0.1025  0.2653  0.1364  0.1979   \n1   1.2712  ...  1.6102  0.8651  0.0976  0.0810  0.2618  0.1217  0.1627   \n2   1.7526  ...  2.0859  0.8161  0.0632  0.0536  0.2014  0.0777  0.1025   \n3   0.8401  ...  1.0957  0.9006  0.1162  0.1025  0.2653  0.1364  0.1978   \n4   0.8400  ...  1.0955  0.9006  0.1164  0.1026  0.2655  0.1365  0.1981   \n5   0.8386  ...  1.0939  0.9008  0.1163  0.1018  0.2629  0.1352  0.1974   \n6   0.8336  ...  1.0879  0.9014  0.1187  0.1021  0.2581  0.1346  0.1991   \n7   0.8269  ...  1.0757  0.8959  0.1140  0.0997  0.2545  0.1316  0.1923   \n8   0.8344  ...  1.0859  0.9032  0.1187  0.1025  0.2626  0.1357  0.2006   \n9   0.8288  ...  1.0745  0.9076  0.1241  0.1090  0.2905  0.1486  0.2123   \n10  0.8451  ...  1.0834  0.9124  0.1313  0.1154  0.2990  0.1566  0.2253   \n\n    Precision  Recall  category diversity  \n0      0.0842  0.3199            0.100337  \n1      0.0722  0.2631            0.051564  \n2      0.0455  0.1892            0.059648  \n3      0.0842  0.3198            0.100337  \n4      0.0843  0.3207            0.100337  \n5      0.0842  0.3215            0.112395  \n6      0.0859  0.3260            0.112055  \n7      0.0828  0.3123            0.124056  \n8      0.0857  0.3310            0.097285  \n9      0.0898  0.3424            0.110057  \n10     0.0949  0.3647            0.114899  \n\n[11 rows x 21 columns]",
      "text/html": "<div>\n<style scoped>\n    .dataframe tbody tr th:only-of-type {\n        vertical-align: middle;\n    }\n\n    .dataframe tbody tr th {\n        vertical-align: top;\n    }\n\n    .dataframe thead th {\n        text-align: right;\n    }\n</style>\n<table border=\"1\" class=\"dataframe\">\n  <thead>\n    <tr style=\"text-align: right;\">\n      <th></th>\n      <th>model</th>\n      <th>data</th>\n      <th>k</th>\n      <th>lambda_u</th>\n      <th>lambda_v</th>\n      <th>eta</th>\n      <th>a</th>\n      <th>b</th>\n      <th>max_iter</th>\n      <th>MAE</th>\n      <th>...</th>\n      <th>RMSE</th>\n      <th>AUC</th>\n      <th>F1</th>\n      <th>MAP</th>\n      <th>MRR</th>\n      <th>NCRR</th>\n      <th>NDCG</th>\n      <th>Precision</th>\n      <th>Recall</th>\n      <th>category diversity</th>\n    </tr>\n  </thead>\n  <tbody>\n    <tr>\n      <th>0</th>\n      <td>CTR</td>\n      <td>movielens-100K</td>\n      <td>10</td>\n      <td>0.01</td>\n      <td>0.01</td>\n      <td>0.01</td>\n      <td>1</td>\n      <td>0.01</td>\n      <td>10</td>\n      <td>0.8401</td>\n      <td>...</td>\n      <td>1.0957</td>\n      <td>0.9006</td>\n      <td>0.1163</td>\n      <td>0.1025</td>\n      <td>0.2653</td>\n      <td>0.1364</td>\n      <td>0.1979</td>\n      <td>0.0842</td>\n      <td>0.3199</td>\n      <td>0.100337</td>\n    </tr>\n    <tr>\n      <th>1</th>\n      <td>CTR</td>\n      <td>movielens-100K</td>\n      <td>50</td>\n      <td>0.01</td>\n      <td>0.01</td>\n      <td>0.01</td>\n      <td>1</td>\n      <td>0.01</td>\n      <td>10</td>\n      <td>1.2712</td>\n      <td>...</td>\n      <td>1.6102</td>\n      <td>0.8651</td>\n      <td>0.0976</td>\n      <td>0.0810</td>\n      <td>0.2618</td>\n      <td>0.1217</td>\n      <td>0.1627</td>\n      <td>0.0722</td>\n      <td>0.2631</td>\n      <td>0.051564</td>\n    </tr>\n    <tr>\n      <th>2</th>\n      <td>CTR</td>\n      <td>movielens-100K</td>\n      <td>100</td>\n      <td>0.01</td>\n      <td>0.01</td>\n      <td>0.01</td>\n      <td>1</td>\n      <td>0.01</td>\n      <td>10</td>\n      <td>1.7526</td>\n      <td>...</td>\n      <td>2.0859</td>\n      <td>0.8161</td>\n      <td>0.0632</td>\n      <td>0.0536</td>\n      <td>0.2014</td>\n      <td>0.0777</td>\n      <td>0.1025</td>\n      <td>0.0455</td>\n      <td>0.1892</td>\n      <td>0.059648</td>\n    </tr>\n    <tr>\n      <th>3</th>\n      <td>CTR</td>\n      <td>movielens-100K</td>\n      <td>10</td>\n      <td>0.01</td>\n      <td>0.10</td>\n      <td>0.01</td>\n      <td>1</td>\n      <td>0.01</td>\n      <td>10</td>\n      <td>0.8401</td>\n      <td>...</td>\n      <td>1.0957</td>\n      <td>0.9006</td>\n      <td>0.1162</td>\n      <td>0.1025</td>\n      <td>0.2653</td>\n      <td>0.1364</td>\n      <td>0.1978</td>\n      <td>0.0842</td>\n      <td>0.3198</td>\n      <td>0.100337</td>\n    </tr>\n    <tr>\n      <th>4</th>\n      <td>CTR</td>\n      <td>movielens-100K</td>\n      <td>10</td>\n      <td>0.01</td>\n      <td>1.00</td>\n      <td>0.01</td>\n      <td>1</td>\n      <td>0.01</td>\n      <td>10</td>\n      <td>0.8400</td>\n      <td>...</td>\n      <td>1.0955</td>\n      <td>0.9006</td>\n      <td>0.1164</td>\n      <td>0.1026</td>\n      <td>0.2655</td>\n      <td>0.1365</td>\n      <td>0.1981</td>\n      <td>0.0843</td>\n      <td>0.3207</td>\n      <td>0.100337</td>\n    </tr>\n    <tr>\n      <th>5</th>\n      <td>CTR</td>\n      <td>movielens-100K</td>\n      <td>10</td>\n      <td>0.01</td>\n      <td>10.00</td>\n      <td>0.01</td>\n      <td>1</td>\n      <td>0.01</td>\n      <td>10</td>\n      <td>0.8386</td>\n      <td>...</td>\n      <td>1.0939</td>\n      <td>0.9008</td>\n      <td>0.1163</td>\n      <td>0.1018</td>\n      <td>0.2629</td>\n      <td>0.1352</td>\n      <td>0.1974</td>\n      <td>0.0842</td>\n      <td>0.3215</td>\n      <td>0.112395</td>\n    </tr>\n    <tr>\n      <th>6</th>\n      <td>CTR</td>\n      <td>movielens-100K</td>\n      <td>10</td>\n      <td>0.01</td>\n      <td>100.00</td>\n      <td>0.01</td>\n      <td>1</td>\n      <td>0.01</td>\n      <td>10</td>\n      <td>0.8336</td>\n      <td>...</td>\n      <td>1.0879</td>\n      <td>0.9014</td>\n      <td>0.1187</td>\n      <td>0.1021</td>\n      <td>0.2581</td>\n      <td>0.1346</td>\n      <td>0.1991</td>\n      <td>0.0859</td>\n      <td>0.3260</td>\n      <td>0.112055</td>\n    </tr>\n    <tr>\n      <th>7</th>\n      <td>CTR</td>\n      <td>movielens-100K</td>\n      <td>10</td>\n      <td>0.01</td>\n      <td>1000.00</td>\n      <td>0.01</td>\n      <td>1</td>\n      <td>0.01</td>\n      <td>10</td>\n      <td>0.8269</td>\n      <td>...</td>\n      <td>1.0757</td>\n      <td>0.8959</td>\n      <td>0.1140</td>\n      <td>0.0997</td>\n      <td>0.2545</td>\n      <td>0.1316</td>\n      <td>0.1923</td>\n      <td>0.0828</td>\n      <td>0.3123</td>\n      <td>0.124056</td>\n    </tr>\n    <tr>\n      <th>8</th>\n      <td>CTR</td>\n      <td>movielens-100K</td>\n      <td>10</td>\n      <td>0.10</td>\n      <td>10.00</td>\n      <td>0.01</td>\n      <td>1</td>\n      <td>0.01</td>\n      <td>10</td>\n      <td>0.8344</td>\n      <td>...</td>\n      <td>1.0859</td>\n      <td>0.9032</td>\n      <td>0.1187</td>\n      <td>0.1025</td>\n      <td>0.2626</td>\n      <td>0.1357</td>\n      <td>0.2006</td>\n      <td>0.0857</td>\n      <td>0.3310</td>\n      <td>0.097285</td>\n    </tr>\n    <tr>\n      <th>9</th>\n      <td>CTR</td>\n      <td>movielens-100K</td>\n      <td>10</td>\n      <td>1.00</td>\n      <td>10.00</td>\n      <td>0.01</td>\n      <td>1</td>\n      <td>0.01</td>\n      <td>10</td>\n      <td>0.8288</td>\n      <td>...</td>\n      <td>1.0745</td>\n      <td>0.9076</td>\n      <td>0.1241</td>\n      <td>0.1090</td>\n      <td>0.2905</td>\n      <td>0.1486</td>\n      <td>0.2123</td>\n      <td>0.0898</td>\n      <td>0.3424</td>\n      <td>0.110057</td>\n    </tr>\n    <tr>\n      <th>10</th>\n      <td>CTR</td>\n      <td>movielens-100K</td>\n      <td>10</td>\n      <td>10.00</td>\n      <td>10.00</td>\n      <td>0.01</td>\n      <td>1</td>\n      <td>0.01</td>\n      <td>10</td>\n      <td>0.8451</td>\n      <td>...</td>\n      <td>1.0834</td>\n      <td>0.9124</td>\n      <td>0.1313</td>\n      <td>0.1154</td>\n      <td>0.2990</td>\n      <td>0.1566</td>\n      <td>0.2253</td>\n      <td>0.0949</td>\n      <td>0.3647</td>\n      <td>0.114899</td>\n    </tr>\n  </tbody>\n</table>\n<p>11 rows × 21 columns</p>\n</div>"
     },
     "execution_count": 28,
     "metadata": {},
     "output_type": "execute_result"
    }
   ],
   "source": [
    "df"
   ],
   "metadata": {
    "collapsed": false
   }
  },
  {
   "cell_type": "code",
   "execution_count": 29,
   "outputs": [],
   "source": [
    "df.to_csv('/Users/pigr/Desktop/cornac/cornac/dataset/ctr_movielens_100K.csv',header=-1,index=0)"
   ],
   "metadata": {
    "collapsed": false
   }
  },
  {
   "cell_type": "code",
   "execution_count": null,
   "outputs": [],
   "source": [],
   "metadata": {
    "collapsed": false
   }
  }
 ],
 "metadata": {
  "kernelspec": {
   "display_name": "Python 3",
   "language": "python",
   "name": "python3"
  },
  "language_info": {
   "codemirror_mode": {
    "name": "ipython",
    "version": 2
   },
   "file_extension": ".py",
   "mimetype": "text/x-python",
   "name": "python",
   "nbconvert_exporter": "python",
   "pygments_lexer": "ipython2",
   "version": "2.7.6"
  }
 },
 "nbformat": 4,
 "nbformat_minor": 0
}
