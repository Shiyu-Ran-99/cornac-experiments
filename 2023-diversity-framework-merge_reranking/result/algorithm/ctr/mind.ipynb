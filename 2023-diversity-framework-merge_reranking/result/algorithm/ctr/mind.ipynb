{
 "cells": [
  {
   "cell_type": "code",
   "execution_count": 2,
   "metadata": {
    "collapsed": true
   },
   "outputs": [
    {
     "name": "stdout",
     "output_type": "stream",
     "text": [
      "FM model is only supported on Linux.\n",
      "Windows executable can be found at http://www.libfm.org.\n"
     ]
    }
   ],
   "source": [
    "import numpy as np\n",
    "import pandas as pd\n",
    "# from scipy.stats import entropy\n",
    "# import matplotlib.pyplot as plt\n",
    "import random\n",
    "\n",
    "import cornac\n",
    "from cornac.eval_methods import RatioSplit\n",
    "from cornac.data import TextModality\n",
    "from cornac.data.text import BaseTokenizer\n",
    "from cornac.data import Reader\n",
    "from cornac.metrics import MAE,RMSE,MSE,FMeasure,Precision,Recall,NDCG,NCRR,MRR,AUC,MAP"
   ]
  },
  {
   "cell_type": "code",
   "execution_count": 4,
   "outputs": [
    {
     "data": {
      "text/plain": "10000"
     },
     "execution_count": 4,
     "metadata": {},
     "output_type": "execute_result"
    }
   ],
   "source": [
    "with open ('/Users/pigr/Desktop/cornac_dataset/mind_test_200K.csv') as mind_file:\n",
    "    mind = pd.read_csv(mind_file)\n",
    "mind['story'] = mind['story'].astype('int')\n",
    "mind_ = mind[:10000]\n",
    "len(mind_)"
   ],
   "metadata": {
    "collapsed": false
   }
  },
  {
   "cell_type": "code",
   "execution_count": 5,
   "outputs": [
    {
     "name": "stdout",
     "output_type": "stream",
     "text": [
      "rating_threshold = 0.5\n",
      "exclude_unknowns = True\n",
      "---\n",
      "Training data:\n",
      "Number of users = 272\n",
      "Number of items = 3942\n",
      "Number of ratings = 7911\n",
      "Max rating = 1.0\n",
      "Min rating = 1.0\n",
      "Global mean = 1.0\n",
      "---\n",
      "Test data:\n",
      "Number of users = 234\n",
      "Number of items = 915\n",
      "Number of ratings = 1336\n",
      "Number of unknown users = 0\n",
      "Number of unknown items = 0\n",
      "---\n",
      "Total users = 272\n",
      "Total items = 3942\n"
     ]
    },
    {
     "name": "stderr",
     "output_type": "stream",
     "text": [
      "/Users/pigr/web-crawling-python/lib/python3.10/site-packages/cornac/data/dataset.py:361: UserWarning: 89 duplicated observations are removed!\n",
      "  warnings.warn(\"%d duplicated observations are removed!\" % dup_count)\n",
      "/Users/pigr/web-crawling-python/lib/python3.10/site-packages/cornac/data/dataset.py:361: UserWarning: 3 duplicated observations are removed!\n",
      "  warnings.warn(\"%d duplicated observations are removed!\" % dup_count)\n"
     ]
    }
   ],
   "source": [
    "# pre-process data to initialize ctr model\n",
    "mind_feedback = mind_.loc[:, ['user_id','item_id','rating']]\n",
    "# feedback = cornac.data.Dataset.from_uir(mind_feedback.itertuples(index=False))\n",
    "feedback = mind_feedback.apply(lambda x: tuple(x), axis=1).values.tolist()\n",
    "text = list(mind_['text'])\n",
    "item_ids = list(mind_['item_id'])\n",
    "# Instantiate a TextModality, it makes it convenient to work with text auxiliary information\n",
    "item_text_modality = TextModality(\n",
    "    corpus=text,\n",
    "    ids=item_ids,\n",
    "    tokenizer=BaseTokenizer(sep=\" \", stop_words=\"english\"),\n",
    "    max_vocab=8000,\n",
    "    max_doc_freq=0.5,\n",
    ")\n",
    "\n",
    "# Define an evaluation method to split feedback into train and test sets\n",
    "mind_ratio_split = RatioSplit(\n",
    "    data=feedback,\n",
    "    test_size=0.2,\n",
    "    exclude_unknowns=True,\n",
    "    item_text=item_text_modality,\n",
    "    verbose=True,\n",
    "    seed=123,\n",
    "    rating_threshold=0.5,\n",
    ")"
   ],
   "metadata": {
    "collapsed": false
   }
  },
  {
   "cell_type": "markdown",
   "source": [
    "### k=10"
   ],
   "metadata": {
    "collapsed": false
   }
  },
  {
   "cell_type": "code",
   "execution_count": 6,
   "outputs": [
    {
     "name": "stdout",
     "output_type": "stream",
     "text": [
      "\n",
      "[CTR] Training started!\n"
     ]
    },
    {
     "data": {
      "text/plain": "  0%|          | 0/10 [00:00<?, ?it/s]",
      "application/vnd.jupyter.widget-view+json": {
       "version_major": 2,
       "version_minor": 0,
       "model_id": "de2f69818dc343278f98da7cf8bfd4ea"
      }
     },
     "metadata": {},
     "output_type": "display_data"
    },
    {
     "name": "stdout",
     "output_type": "stream",
     "text": [
      "Learning completed!\n",
      "\n",
      "[CTR] Evaluation started!\n"
     ]
    },
    {
     "data": {
      "text/plain": "Rating:   0%|          | 0/1336 [00:00<?, ?it/s]",
      "application/vnd.jupyter.widget-view+json": {
       "version_major": 2,
       "version_minor": 0,
       "model_id": "e07f4fb2b314484387deeba2a773ffc1"
      }
     },
     "metadata": {},
     "output_type": "display_data"
    },
    {
     "data": {
      "text/plain": "Ranking:   0%|          | 0/234 [00:00<?, ?it/s]",
      "application/vnd.jupyter.widget-view+json": {
       "version_major": 2,
       "version_minor": 0,
       "model_id": "3c325fb423ad4450872bec53c7205b0a"
      }
     },
     "metadata": {},
     "output_type": "display_data"
    },
    {
     "name": "stdout",
     "output_type": "stream",
     "text": [
      "\n",
      "TEST:\n",
      "...\n",
      "    |    MAE |    MSE |   RMSE |    AUC |  F1@50 |    MAP |    MRR | NCRR@50 | NDCG@50 | Precision@50 | Recall@50 | Train (s) | Test (s)\n",
      "--- + ------ + ------ + ------ + ------ + ------ + ------ + ------ + ------- + ------- + ------------ + --------- + --------- + --------\n",
      "CTR | 0.0000 | 0.0000 | 0.0000 | 0.6023 | 0.0116 | 0.0121 | 0.0455 |  0.0180 |  0.0293 |       0.0069 |    0.0600 |    8.7085 |   0.5259\n",
      "\n"
     ]
    }
   ],
   "source": [
    "# Instantiate HFT model\n",
    "ctr_k10 = cornac.models.CTR(\n",
    "    k=10,\n",
    "    lambda_u=0.01,\n",
    "    lambda_v=0.01,\n",
    "    eta=0.01,\n",
    "    a=1,\n",
    "    b=0.01,\n",
    "    max_iter=10,\n",
    "    trainable=True,\n",
    "    verbose=True,\n",
    "    init_params=None,\n",
    "    seed=123,\n",
    ")\n",
    "\n",
    "# Instantiate MSE for evaluation\n",
    "metrics = [MAE(), RMSE(), MSE(),FMeasure(k=50),Precision(k=50),\n",
    "           Recall(k=50), NDCG(k=50), NCRR(k=50),\n",
    "           MRR(),AUC(), MAP()]\n",
    "\n",
    "# Put everything together into an experiment and run it\n",
    "cornac.Experiment(\n",
    "    eval_method=mind_ratio_split, models=[ctr_k10], metrics=metrics, user_based=False\n",
    ").run()"
   ],
   "metadata": {
    "collapsed": false
   }
  },
  {
   "cell_type": "code",
   "execution_count": 7,
   "outputs": [],
   "source": [
    "import diversity_mind\n",
    "def compute_avg_diversity(model, data, feature):\n",
    "    if (feature==\"category\"):\n",
    "        for i in range(len(set(mind_ratio_split.test_set.user_ids))): # get the average result for all users from training data\n",
    "            result = []\n",
    "            r = diversity_mind.Retrieval(model=model,data = data,UIDX = i,TOPK = 50,feature = feature)\n",
    "            d = diversity_mind.Diversity(r.get_history(), r.get_recy())\n",
    "            result.append(d.compute())\n",
    "    else:\n",
    "        useridx = list(set([int(tuple[1]) for tuple in mind_ratio_split.test_set.uid_map]))\n",
    "        result = []\n",
    "        i = 0\n",
    "        while i <= 200:\n",
    "            # shuffle\n",
    "            user_pair = random.sample(useridx, 2)\n",
    "            r0 = diversity_mind.Retrieval(model=model, data=data, UIDX=user_pair[0],TOPK = 50, feature=feature)\n",
    "            r1 = diversity_mind.Retrieval(model=model, data=data, UIDX=user_pair[1],TOPK = 50, feature=feature)\n",
    "            d = diversity_mind.Diversity(r0.get_recy(), r1.get_recy())\n",
    "            result.append(d.compute())\n",
    "            i += 1\n",
    "    return np.mean(result)"
   ],
   "metadata": {
    "collapsed": false
   }
  },
  {
   "cell_type": "code",
   "execution_count": 8,
   "outputs": [
    {
     "name": "stdout",
     "output_type": "stream",
     "text": [
      "1.1132982862491942\n",
      "1.4689592254207955\n"
     ]
    }
   ],
   "source": [
    "data1 = {\"model\":\"CTR\",\n",
    "        \"data\":\"mind\",\n",
    "        \"k\":10,\n",
    "        \"lambda_u\":0.01,\n",
    "        \"lambda_v\":0.01,\n",
    "        \"eta\":0.01,\n",
    "        \"a\":1,\n",
    "        \"b\":0.01,\n",
    "        \"max_iter\":10,\n",
    "        \"MAE\":0.0000,\"MSE\":0.0000,\"RMSE\":0.0000,\"AUC\":0.6023,\"F1\":0.0116,\"MAP\":0.0121,\"MRR\":0.0455,\"NCRR\":0.0180,\"NDCG\":0.0293,\"Precision\":0.0069,\"Recall\":0.0600,\n",
    "        \"category diversity\":compute_avg_diversity(ctr_k10, mind_, \"category\"),\n",
    "         \"story diversity\":compute_avg_diversity(ctr_k10, mind_, \"story\")}\n",
    "print(data1[\"category diversity\"])\n",
    "print(data1[\"story diversity\"])"
   ],
   "metadata": {
    "collapsed": false
   }
  },
  {
   "cell_type": "markdown",
   "source": [
    "### k=50"
   ],
   "metadata": {
    "collapsed": false
   }
  },
  {
   "cell_type": "code",
   "execution_count": 9,
   "outputs": [
    {
     "name": "stdout",
     "output_type": "stream",
     "text": [
      "\n",
      "[CTR] Training started!\n"
     ]
    },
    {
     "data": {
      "text/plain": "  0%|          | 0/10 [00:00<?, ?it/s]",
      "application/vnd.jupyter.widget-view+json": {
       "version_major": 2,
       "version_minor": 0,
       "model_id": "6c4a6e39d3054bfaa350ee981e2c7378"
      }
     },
     "metadata": {},
     "output_type": "display_data"
    },
    {
     "name": "stdout",
     "output_type": "stream",
     "text": [
      "Learning completed!\n",
      "\n",
      "[CTR] Evaluation started!\n"
     ]
    },
    {
     "data": {
      "text/plain": "Rating:   0%|          | 0/1336 [00:00<?, ?it/s]",
      "application/vnd.jupyter.widget-view+json": {
       "version_major": 2,
       "version_minor": 0,
       "model_id": "cda0969738564bcfbc24940ebe4aa351"
      }
     },
     "metadata": {},
     "output_type": "display_data"
    },
    {
     "data": {
      "text/plain": "Ranking:   0%|          | 0/234 [00:00<?, ?it/s]",
      "application/vnd.jupyter.widget-view+json": {
       "version_major": 2,
       "version_minor": 0,
       "model_id": "95c5ab936b504a0785b0781dae7659db"
      }
     },
     "metadata": {},
     "output_type": "display_data"
    },
    {
     "name": "stdout",
     "output_type": "stream",
     "text": [
      "\n",
      "TEST:\n",
      "...\n",
      "    |    MAE |    MSE |   RMSE |    AUC |  F1@50 |    MAP |    MRR | NCRR@50 | NDCG@50 | Precision@50 | Recall@50 | Train (s) | Test (s)\n",
      "--- + ------ + ------ + ------ + ------ + ------ + ------ + ------ + ------- + ------- + ------------ + --------- + --------- + --------\n",
      "CTR | 0.0000 | 0.0000 | 0.0000 | 0.5831 | 0.0088 | 0.0111 | 0.0330 |  0.0139 |  0.0249 |       0.0050 |    0.0567 |   14.4396 |   0.5941\n",
      "\n"
     ]
    }
   ],
   "source": [
    "# Instantiate HFT model\n",
    "ctr_k50 = cornac.models.CTR(\n",
    "    k=50,\n",
    "    lambda_u=0.01,\n",
    "    lambda_v=0.01,\n",
    "    eta=0.01,\n",
    "    a=1,\n",
    "    b=0.01,\n",
    "    max_iter=10,\n",
    "    trainable=True,\n",
    "    verbose=True,\n",
    "    init_params=None,\n",
    "    seed=123,\n",
    ")\n",
    "\n",
    "# Instantiate MSE for evaluation\n",
    "metrics = [MAE(), RMSE(), MSE(),FMeasure(k=50),Precision(k=50),\n",
    "           Recall(k=50), NDCG(k=50), NCRR(k=50),\n",
    "           MRR(),AUC(), MAP()]\n",
    "\n",
    "# Put everything together into an experiment and run it\n",
    "cornac.Experiment(\n",
    "    eval_method=mind_ratio_split, models=[ctr_k50], metrics=metrics, user_based=False\n",
    ").run()"
   ],
   "metadata": {
    "collapsed": false
   }
  },
  {
   "cell_type": "code",
   "execution_count": 10,
   "outputs": [
    {
     "name": "stdout",
     "output_type": "stream",
     "text": [
      "0.239911504754411\n",
      "1.4662830734438659\n"
     ]
    }
   ],
   "source": [
    "data2 = {\"model\":\"CTR\",\n",
    "        \"data\":\"mind\",\n",
    "        \"k\":50,\n",
    "        \"lambda_u\":0.01,\n",
    "        \"lambda_v\":0.01,\n",
    "        \"eta\":0.01,\n",
    "        \"a\":1,\n",
    "        \"b\":0.01,\n",
    "        \"max_iter\":10,\n",
    "        \"MAE\":0.0000,\"MSE\":0.0000,\"RMSE\":0.0000,\"AUC\":0.5831,\"F1\":0.0088,\"MAP\":0.0111,\"MRR\":0.0330,\"NCRR\":0.0139,\"NDCG\":0.0249,\"Precision\":0.0050,\"Recall\":0.0567,\n",
    "        \"category diversity\":compute_avg_diversity(ctr_k50, mind_, \"category\"),\n",
    "         \"story diversity\":compute_avg_diversity(ctr_k50, mind_, \"story\")}\n",
    "print(data2[\"category diversity\"])\n",
    "print(data2[\"story diversity\"])"
   ],
   "metadata": {
    "collapsed": false
   }
  },
  {
   "cell_type": "markdown",
   "source": [
    "### k=100"
   ],
   "metadata": {
    "collapsed": false
   }
  },
  {
   "cell_type": "code",
   "execution_count": 11,
   "outputs": [
    {
     "name": "stdout",
     "output_type": "stream",
     "text": [
      "\n",
      "[CTR] Training started!\n"
     ]
    },
    {
     "data": {
      "text/plain": "  0%|          | 0/10 [00:00<?, ?it/s]",
      "application/vnd.jupyter.widget-view+json": {
       "version_major": 2,
       "version_minor": 0,
       "model_id": "e4caec1eb71443ceb71a19a22162ef4c"
      }
     },
     "metadata": {},
     "output_type": "display_data"
    },
    {
     "name": "stdout",
     "output_type": "stream",
     "text": [
      "Learning completed!\n",
      "\n",
      "[CTR] Evaluation started!\n"
     ]
    },
    {
     "data": {
      "text/plain": "Rating:   0%|          | 0/1336 [00:00<?, ?it/s]",
      "application/vnd.jupyter.widget-view+json": {
       "version_major": 2,
       "version_minor": 0,
       "model_id": "eab1b5ed976641ce8b5ab876325694bc"
      }
     },
     "metadata": {},
     "output_type": "display_data"
    },
    {
     "data": {
      "text/plain": "Ranking:   0%|          | 0/234 [00:00<?, ?it/s]",
      "application/vnd.jupyter.widget-view+json": {
       "version_major": 2,
       "version_minor": 0,
       "model_id": "378edeb0cf4647719ab9c12c46b2ea33"
      }
     },
     "metadata": {},
     "output_type": "display_data"
    },
    {
     "name": "stdout",
     "output_type": "stream",
     "text": [
      "\n",
      "TEST:\n",
      "...\n",
      "    |    MAE |    MSE |   RMSE |    AUC |  F1@50 |    MAP |    MRR | NCRR@50 | NDCG@50 | Precision@50 | Recall@50 | Train (s) | Test (s)\n",
      "--- + ------ + ------ + ------ + ------ + ------ + ------ + ------ + ------- + ------- + ------------ + --------- + --------- + --------\n",
      "CTR | 0.0000 | 0.0000 | 0.0000 | 0.5372 | 0.0062 | 0.0079 | 0.0215 |  0.0087 |  0.0167 |       0.0036 |    0.0372 |   28.5283 |   0.4693\n",
      "\n"
     ]
    }
   ],
   "source": [
    "# Instantiate HFT model\n",
    "ctr_k100 = cornac.models.CTR(\n",
    "    k=100,\n",
    "    lambda_u=0.01,\n",
    "    lambda_v=0.01,\n",
    "    eta=0.01,\n",
    "    a=1,\n",
    "    b=0.01,\n",
    "    max_iter=10,\n",
    "    trainable=True,\n",
    "    verbose=True,\n",
    "    init_params=None,\n",
    "    seed=123,\n",
    ")\n",
    "\n",
    "# Instantiate MSE for evaluation\n",
    "metrics = [MAE(), RMSE(), MSE(),FMeasure(k=50),Precision(k=50),\n",
    "           Recall(k=50), NDCG(k=50), NCRR(k=50),\n",
    "           MRR(),AUC(), MAP()]\n",
    "\n",
    "# Put everything together into an experiment and run it\n",
    "cornac.Experiment(\n",
    "    eval_method=mind_ratio_split, models=[ctr_k100], metrics=metrics, user_based=False\n",
    ").run()"
   ],
   "metadata": {
    "collapsed": false
   }
  },
  {
   "cell_type": "code",
   "execution_count": 12,
   "outputs": [
    {
     "name": "stdout",
     "output_type": "stream",
     "text": [
      "0.22646657238332812\n",
      "1.2274197037927126\n"
     ]
    }
   ],
   "source": [
    "data3 = {\"model\":\"CTR\",\n",
    "        \"data\":\"mind\",\n",
    "        \"k\":100,\n",
    "        \"lambda_u\":0.01,\n",
    "        \"lambda_v\":0.01,\n",
    "        \"eta\":0.01,\n",
    "        \"a\":1,\n",
    "        \"b\":0.01,\n",
    "        \"max_iter\":10,\n",
    "        \"MAE\":0.0000,\"MSE\":0.0000,\"RMSE\":0.0000,\"AUC\":0.5372,\"F1\":0.0062,\"MAP\":0.0079,\"MRR\":0.0215,\"NCRR\":0.0087,\"NDCG\":0.0167,\"Precision\":0.0036,\"Recall\":0.0372,\n",
    "        \"category diversity\":compute_avg_diversity(ctr_k100, mind_, \"category\"),\n",
    "         \"story diversity\":compute_avg_diversity(ctr_k100, mind_, \"story\")}\n",
    "print(data3[\"category diversity\"])\n",
    "print(data3[\"story diversity\"])"
   ],
   "metadata": {
    "collapsed": false
   }
  },
  {
   "cell_type": "markdown",
   "source": [
    "### k=200"
   ],
   "metadata": {
    "collapsed": false
   }
  },
  {
   "cell_type": "code",
   "execution_count": 13,
   "outputs": [
    {
     "name": "stdout",
     "output_type": "stream",
     "text": [
      "\n",
      "[CTR] Training started!\n"
     ]
    },
    {
     "data": {
      "text/plain": "  0%|          | 0/10 [00:00<?, ?it/s]",
      "application/vnd.jupyter.widget-view+json": {
       "version_major": 2,
       "version_minor": 0,
       "model_id": "e609819973d34ae68997fd2851c93ef3"
      }
     },
     "metadata": {},
     "output_type": "display_data"
    },
    {
     "name": "stdout",
     "output_type": "stream",
     "text": [
      "Learning completed!\n",
      "\n",
      "[CTR] Evaluation started!\n"
     ]
    },
    {
     "data": {
      "text/plain": "Rating:   0%|          | 0/1336 [00:00<?, ?it/s]",
      "application/vnd.jupyter.widget-view+json": {
       "version_major": 2,
       "version_minor": 0,
       "model_id": "9e5cc40b7894479983d90cef037b612e"
      }
     },
     "metadata": {},
     "output_type": "display_data"
    },
    {
     "data": {
      "text/plain": "Ranking:   0%|          | 0/234 [00:00<?, ?it/s]",
      "application/vnd.jupyter.widget-view+json": {
       "version_major": 2,
       "version_minor": 0,
       "model_id": "6050a06242bd45f0954145fb27fbe767"
      }
     },
     "metadata": {},
     "output_type": "display_data"
    },
    {
     "name": "stdout",
     "output_type": "stream",
     "text": [
      "\n",
      "TEST:\n",
      "...\n",
      "    |    MAE |    MSE |   RMSE |    AUC |  F1@50 |    MAP |    MRR | NCRR@50 | NDCG@50 | Precision@50 | Recall@50 | Train (s) | Test (s)\n",
      "--- + ------ + ------ + ------ + ------ + ------ + ------ + ------ + ------- + ------- + ------------ + --------- + --------- + --------\n",
      "CTR | 0.0000 | 0.0000 | 0.0000 | 0.5449 | 0.0060 | 0.0089 | 0.0207 |  0.0089 |  0.0168 |       0.0035 |    0.0374 |   68.2161 |   0.6382\n",
      "\n"
     ]
    }
   ],
   "source": [
    "# Instantiate HFT model\n",
    "ctr_k200 = cornac.models.CTR(\n",
    "    k=200,\n",
    "    lambda_u=0.01,\n",
    "    lambda_v=0.01,\n",
    "    eta=0.01,\n",
    "    a=1,\n",
    "    b=0.01,\n",
    "    max_iter=10,\n",
    "    trainable=True,\n",
    "    verbose=True,\n",
    "    init_params=None,\n",
    "    seed=123,\n",
    ")\n",
    "\n",
    "# Instantiate MSE for evaluation\n",
    "metrics = [MAE(), RMSE(), MSE(),FMeasure(k=50),Precision(k=50),\n",
    "           Recall(k=50), NDCG(k=50), NCRR(k=50),\n",
    "           MRR(),AUC(), MAP()]\n",
    "\n",
    "# Put everything together into an experiment and run it\n",
    "cornac.Experiment(\n",
    "    eval_method=mind_ratio_split, models=[ctr_k200], metrics=metrics, user_based=False\n",
    ").run()"
   ],
   "metadata": {
    "collapsed": false
   }
  },
  {
   "cell_type": "code",
   "execution_count": 14,
   "outputs": [
    {
     "name": "stdout",
     "output_type": "stream",
     "text": [
      "0.2197598396070089\n",
      "1.3624207902401426\n"
     ]
    }
   ],
   "source": [
    "data4 = {\"model\":\"CTR\",\n",
    "        \"data\":\"mind\",\n",
    "        \"k\":200,\n",
    "        \"lambda_u\":0.01,\n",
    "        \"lambda_v\":0.01,\n",
    "        \"eta\":0.01,\n",
    "        \"a\":1,\n",
    "        \"b\":0.01,\n",
    "        \"max_iter\":10,\n",
    "        \"MAE\":0.0000,\"MSE\":0.0000,\"RMSE\":0.0000,\"AUC\":0.5449,\"F1\":0.0060,\"MAP\":0.0089,\"MRR\":0.0207,\"NCRR\":0.0089,\"NDCG\":0.0168,\"Precision\":0.0035,\"Recall\":0.0374,\n",
    "        \"category diversity\":compute_avg_diversity(ctr_k200, mind_, \"category\"),\n",
    "         \"story diversity\":compute_avg_diversity(ctr_k200, mind_, \"story\")}\n",
    "print(data4[\"category diversity\"])\n",
    "print(data4[\"story diversity\"])"
   ],
   "metadata": {
    "collapsed": false
   }
  },
  {
   "cell_type": "markdown",
   "source": [
    "### k=300"
   ],
   "metadata": {
    "collapsed": false
   }
  },
  {
   "cell_type": "code",
   "execution_count": 15,
   "outputs": [
    {
     "name": "stdout",
     "output_type": "stream",
     "text": [
      "\n",
      "[CTR] Training started!\n"
     ]
    },
    {
     "data": {
      "text/plain": "  0%|          | 0/10 [00:00<?, ?it/s]",
      "application/vnd.jupyter.widget-view+json": {
       "version_major": 2,
       "version_minor": 0,
       "model_id": "4bae4ce0d87a49b98240d0c91b1f639a"
      }
     },
     "metadata": {},
     "output_type": "display_data"
    },
    {
     "name": "stdout",
     "output_type": "stream",
     "text": [
      "Learning completed!\n",
      "\n",
      "[CTR] Evaluation started!\n"
     ]
    },
    {
     "data": {
      "text/plain": "Rating:   0%|          | 0/1336 [00:00<?, ?it/s]",
      "application/vnd.jupyter.widget-view+json": {
       "version_major": 2,
       "version_minor": 0,
       "model_id": "5953816b109b40559bd235758453c789"
      }
     },
     "metadata": {},
     "output_type": "display_data"
    },
    {
     "data": {
      "text/plain": "Ranking:   0%|          | 0/234 [00:00<?, ?it/s]",
      "application/vnd.jupyter.widget-view+json": {
       "version_major": 2,
       "version_minor": 0,
       "model_id": "dd513a4bafde4efd87c8079fcdcf8386"
      }
     },
     "metadata": {},
     "output_type": "display_data"
    },
    {
     "name": "stdout",
     "output_type": "stream",
     "text": [
      "\n",
      "TEST:\n",
      "...\n",
      "    |    MAE |    MSE |   RMSE |    AUC |  F1@50 |    MAP |    MRR | NCRR@50 | NDCG@50 | Precision@50 | Recall@50 | Train (s) | Test (s)\n",
      "--- + ------ + ------ + ------ + ------ + ------ + ------ + ------ + ------- + ------- + ------------ + --------- + --------- + --------\n",
      "CTR | 0.0000 | 0.0000 | 0.0000 | 0.5936 | 0.0077 | 0.0112 | 0.0300 |  0.0131 |  0.0217 |       0.0045 |    0.0462 |   86.0962 |   0.5169\n",
      "\n"
     ]
    }
   ],
   "source": [
    "# Instantiate HFT model\n",
    "ctr_k300 = cornac.models.CTR(\n",
    "    k=300,\n",
    "    lambda_u=0.01,\n",
    "    lambda_v=0.01,\n",
    "    eta=0.01,\n",
    "    a=1,\n",
    "    b=0.01,\n",
    "    max_iter=10,\n",
    "    trainable=True,\n",
    "    verbose=True,\n",
    "    init_params=None,\n",
    "    seed=123,\n",
    ")\n",
    "\n",
    "# Instantiate MSE for evaluation\n",
    "metrics = [MAE(), RMSE(), MSE(),FMeasure(k=50),Precision(k=50),\n",
    "           Recall(k=50), NDCG(k=50), NCRR(k=50),\n",
    "           MRR(),AUC(), MAP()]\n",
    "\n",
    "# Put everything together into an experiment and run it\n",
    "cornac.Experiment(\n",
    "    eval_method=mind_ratio_split, models=[ctr_k300], metrics=metrics, user_based=False\n",
    ").run()"
   ],
   "metadata": {
    "collapsed": false
   }
  },
  {
   "cell_type": "code",
   "execution_count": 16,
   "outputs": [
    {
     "name": "stdout",
     "output_type": "stream",
     "text": [
      "0.2621068314886044\n",
      "1.4222101643963663\n"
     ]
    }
   ],
   "source": [
    "data5 = {\"model\":\"CTR\",\n",
    "        \"data\":\"mind\",\n",
    "        \"k\":300,\n",
    "        \"lambda_u\":0.01,\n",
    "        \"lambda_v\":0.01,\n",
    "        \"eta\":0.01,\n",
    "        \"a\":1,\n",
    "        \"b\":0.01,\n",
    "        \"max_iter\":10,\n",
    "        \"MAE\":0.0000,\"MSE\":0.0000,\"RMSE\":0.0000,\"AUC\":0.5936,\"F1\":0.0077,\"MAP\":0.0112,\"MRR\":0.0300,\"NCRR\":0.0131,\"NDCG\":0.0217,\"Precision\":0.0045,\"Recall\":0.0462,\n",
    "        \"category diversity\":compute_avg_diversity(ctr_k300, mind_, \"category\"),\n",
    "         \"story diversity\":compute_avg_diversity(ctr_k300, mind_, \"story\")}\n",
    "print(data5[\"category diversity\"])\n",
    "print(data5[\"story diversity\"])"
   ],
   "metadata": {
    "collapsed": false
   }
  },
  {
   "cell_type": "markdown",
   "source": [
    "### k=400"
   ],
   "metadata": {
    "collapsed": false
   }
  },
  {
   "cell_type": "code",
   "execution_count": 17,
   "outputs": [
    {
     "name": "stdout",
     "output_type": "stream",
     "text": [
      "\n",
      "[CTR] Training started!\n"
     ]
    },
    {
     "data": {
      "text/plain": "  0%|          | 0/10 [00:00<?, ?it/s]",
      "application/vnd.jupyter.widget-view+json": {
       "version_major": 2,
       "version_minor": 0,
       "model_id": "299f0d7e3bb742208f956b8e4fd04e16"
      }
     },
     "metadata": {},
     "output_type": "display_data"
    },
    {
     "name": "stdout",
     "output_type": "stream",
     "text": [
      "Learning completed!\n",
      "\n",
      "[CTR] Evaluation started!\n"
     ]
    },
    {
     "data": {
      "text/plain": "Rating:   0%|          | 0/1336 [00:00<?, ?it/s]",
      "application/vnd.jupyter.widget-view+json": {
       "version_major": 2,
       "version_minor": 0,
       "model_id": "048dc3c54c07403ba9d4a37748b20df3"
      }
     },
     "metadata": {},
     "output_type": "display_data"
    },
    {
     "data": {
      "text/plain": "Ranking:   0%|          | 0/234 [00:00<?, ?it/s]",
      "application/vnd.jupyter.widget-view+json": {
       "version_major": 2,
       "version_minor": 0,
       "model_id": "9f6dfde0613e45d98dd47bb1109250dd"
      }
     },
     "metadata": {},
     "output_type": "display_data"
    },
    {
     "name": "stdout",
     "output_type": "stream",
     "text": [
      "\n",
      "TEST:\n",
      "...\n",
      "    |    MAE |    MSE |   RMSE |    AUC |  F1@50 |    MAP |    MRR | NCRR@50 | NDCG@50 | Precision@50 | Recall@50 | Train (s) | Test (s)\n",
      "--- + ------ + ------ + ------ + ------ + ------ + ------ + ------ + ------- + ------- + ------------ + --------- + --------- + --------\n",
      "CTR | 0.0000 | 0.0000 | 0.0000 | 0.5883 | 0.0073 | 0.0112 | 0.0291 |  0.0130 |  0.0217 |       0.0043 |    0.0469 |  159.0961 |   0.5312\n",
      "\n"
     ]
    }
   ],
   "source": [
    "# Instantiate HFT model\n",
    "ctr_k400 = cornac.models.CTR(\n",
    "    k=400,\n",
    "    lambda_u=0.01,\n",
    "    lambda_v=0.01,\n",
    "    eta=0.01,\n",
    "    a=1,\n",
    "    b=0.01,\n",
    "    max_iter=10,\n",
    "    trainable=True,\n",
    "    verbose=True,\n",
    "    init_params=None,\n",
    "    seed=123,\n",
    ")\n",
    "\n",
    "# Instantiate MSE for evaluation\n",
    "metrics = [MAE(), RMSE(), MSE(),FMeasure(k=50),Precision(k=50),\n",
    "           Recall(k=50), NDCG(k=50), NCRR(k=50),\n",
    "           MRR(),AUC(), MAP()]\n",
    "\n",
    "# Put everything together into an experiment and run it\n",
    "cornac.Experiment(\n",
    "    eval_method=mind_ratio_split, models=[ctr_k400], metrics=metrics, user_based=False\n",
    ").run()"
   ],
   "metadata": {
    "collapsed": false
   }
  },
  {
   "cell_type": "code",
   "execution_count": 18,
   "outputs": [
    {
     "name": "stdout",
     "output_type": "stream",
     "text": [
      "0.2581333917951102\n",
      "1.2088983183944608\n"
     ]
    }
   ],
   "source": [
    "data6 = {\"model\":\"CTR\",\n",
    "        \"data\":\"mind\",\n",
    "        \"k\":400,\n",
    "        \"lambda_u\":0.01,\n",
    "        \"lambda_v\":0.01,\n",
    "        \"eta\":0.01,\n",
    "        \"a\":1,\n",
    "        \"b\":0.01,\n",
    "        \"max_iter\":10,\n",
    "        \"MAE\":0.0000,\"MSE\":0.0000,\"RMSE\":0.0000,\"AUC\":0.5883,\"F1\":0.0073,\"MAP\":0.0112,\"MRR\":0.0291,\"NCRR\":0.0130,\"NDCG\":0.0217,\"Precision\":0.0043,\"Recall\":0.0469,\n",
    "        \"category diversity\":compute_avg_diversity(ctr_k400, mind_, \"category\"),\n",
    "         \"story diversity\":compute_avg_diversity(ctr_k400, mind_, \"story\")}\n",
    "print(data6[\"category diversity\"])\n",
    "print(data6[\"story diversity\"])"
   ],
   "metadata": {
    "collapsed": false
   }
  },
  {
   "cell_type": "markdown",
   "source": [
    "### k=500"
   ],
   "metadata": {
    "collapsed": false
   }
  },
  {
   "cell_type": "code",
   "execution_count": 19,
   "outputs": [
    {
     "name": "stdout",
     "output_type": "stream",
     "text": [
      "\n",
      "[CTR] Training started!\n"
     ]
    },
    {
     "data": {
      "text/plain": "  0%|          | 0/10 [00:00<?, ?it/s]",
      "application/vnd.jupyter.widget-view+json": {
       "version_major": 2,
       "version_minor": 0,
       "model_id": "0dbb8c38e3584f52a5ce210c7681126d"
      }
     },
     "metadata": {},
     "output_type": "display_data"
    },
    {
     "name": "stdout",
     "output_type": "stream",
     "text": [
      "Learning completed!\n",
      "\n",
      "[CTR] Evaluation started!\n"
     ]
    },
    {
     "data": {
      "text/plain": "Rating:   0%|          | 0/1336 [00:00<?, ?it/s]",
      "application/vnd.jupyter.widget-view+json": {
       "version_major": 2,
       "version_minor": 0,
       "model_id": "498774bcb7544691b4eb69444dac6de9"
      }
     },
     "metadata": {},
     "output_type": "display_data"
    },
    {
     "data": {
      "text/plain": "Ranking:   0%|          | 0/234 [00:00<?, ?it/s]",
      "application/vnd.jupyter.widget-view+json": {
       "version_major": 2,
       "version_minor": 0,
       "model_id": "40012c4f4e944dccb1ecc04fbe9397f9"
      }
     },
     "metadata": {},
     "output_type": "display_data"
    },
    {
     "name": "stdout",
     "output_type": "stream",
     "text": [
      "\n",
      "TEST:\n",
      "...\n",
      "    |    MAE |    MSE |   RMSE |    AUC |  F1@50 |    MAP |    MRR | NCRR@50 | NDCG@50 | Precision@50 | Recall@50 | Train (s) | Test (s)\n",
      "--- + ------ + ------ + ------ + ------ + ------ + ------ + ------ + ------- + ------- + ------------ + --------- + --------- + --------\n",
      "CTR | 0.0000 | 0.0000 | 0.0000 | 0.5965 | 0.0075 | 0.0106 | 0.0287 |  0.0122 |  0.0211 |       0.0044 |    0.0468 |  297.7980 |   0.6581\n",
      "\n"
     ]
    }
   ],
   "source": [
    "# Instantiate HFT model\n",
    "ctr_k500 = cornac.models.CTR(\n",
    "    k=500,\n",
    "    lambda_u=0.01,\n",
    "    lambda_v=0.01,\n",
    "    eta=0.01,\n",
    "    a=1,\n",
    "    b=0.01,\n",
    "    max_iter=10,\n",
    "    trainable=True,\n",
    "    verbose=True,\n",
    "    init_params=None,\n",
    "    seed=123,\n",
    ")\n",
    "\n",
    "# Instantiate MSE for evaluation\n",
    "metrics = [MAE(), RMSE(), MSE(),FMeasure(k=50),Precision(k=50),\n",
    "           Recall(k=50), NDCG(k=50), NCRR(k=50),\n",
    "           MRR(),AUC(), MAP()]\n",
    "\n",
    "# Put everything together into an experiment and run it\n",
    "cornac.Experiment(\n",
    "    eval_method=mind_ratio_split, models=[ctr_k500], metrics=metrics, user_based=False\n",
    ").run()"
   ],
   "metadata": {
    "collapsed": false
   }
  },
  {
   "cell_type": "code",
   "execution_count": 20,
   "outputs": [
    {
     "name": "stdout",
     "output_type": "stream",
     "text": [
      "0.2602979292103075\n",
      "1.36410335185139\n"
     ]
    }
   ],
   "source": [
    "data7 = {\"model\":\"CTR\",\n",
    "        \"data\":\"mind\",\n",
    "        \"k\":500,\n",
    "        \"lambda_u\":0.01,\n",
    "        \"lambda_v\":0.01,\n",
    "        \"eta\":0.01,\n",
    "        \"a\":1,\n",
    "        \"b\":0.01,\n",
    "        \"max_iter\":10,\n",
    "        \"MAE\":0.0000,\"MSE\":0.0000,\"RMSE\":0.0000,\"AUC\":0.5965,\"F1\":0.0075,\"MAP\":0.0106,\"MRR\":0.0287,\"NCRR\":0.0122,\"NDCG\":0.0211,\"Precision\":0.0044,\"Recall\":0.0468,\n",
    "        \"category diversity\":compute_avg_diversity(ctr_k500, mind_, \"category\"),\n",
    "         \"story diversity\":compute_avg_diversity(ctr_k500, mind_, \"story\")}\n",
    "print(data7[\"category diversity\"])\n",
    "print(data7[\"story diversity\"])"
   ],
   "metadata": {
    "collapsed": false
   }
  },
  {
   "cell_type": "markdown",
   "source": [
    "### k=400, lambda_v=0.1"
   ],
   "metadata": {
    "collapsed": false
   }
  },
  {
   "cell_type": "code",
   "execution_count": 21,
   "outputs": [
    {
     "name": "stdout",
     "output_type": "stream",
     "text": [
      "\n",
      "[CTR] Training started!\n"
     ]
    },
    {
     "data": {
      "text/plain": "  0%|          | 0/10 [00:00<?, ?it/s]",
      "application/vnd.jupyter.widget-view+json": {
       "version_major": 2,
       "version_minor": 0,
       "model_id": "b307cedbd2b74c48b68fab5b28853883"
      }
     },
     "metadata": {},
     "output_type": "display_data"
    },
    {
     "name": "stdout",
     "output_type": "stream",
     "text": [
      "Learning completed!\n",
      "\n",
      "[CTR] Evaluation started!\n"
     ]
    },
    {
     "data": {
      "text/plain": "Rating:   0%|          | 0/1336 [00:00<?, ?it/s]",
      "application/vnd.jupyter.widget-view+json": {
       "version_major": 2,
       "version_minor": 0,
       "model_id": "0938b0ff1a6048f39fad30bfead3d1f1"
      }
     },
     "metadata": {},
     "output_type": "display_data"
    },
    {
     "data": {
      "text/plain": "Ranking:   0%|          | 0/234 [00:00<?, ?it/s]",
      "application/vnd.jupyter.widget-view+json": {
       "version_major": 2,
       "version_minor": 0,
       "model_id": "6668451ad7b647dcb9cc87d3f4035932"
      }
     },
     "metadata": {},
     "output_type": "display_data"
    },
    {
     "name": "stdout",
     "output_type": "stream",
     "text": [
      "\n",
      "TEST:\n",
      "...\n",
      "    |    MAE |    MSE |   RMSE |    AUC |  F1@50 |    MAP |    MRR | NCRR@50 | NDCG@50 | Precision@50 | Recall@50 | Train (s) | Test (s)\n",
      "--- + ------ + ------ + ------ + ------ + ------ + ------ + ------ + ------- + ------- + ------------ + --------- + --------- + --------\n",
      "CTR | 0.0000 | 0.0000 | 0.0000 | 0.5984 | 0.0072 | 0.0109 | 0.0271 |  0.0118 |  0.0207 |       0.0042 |    0.0452 |  192.7012 |   0.8505\n",
      "\n"
     ]
    }
   ],
   "source": [
    "# Instantiate HFT model\n",
    "ctr_v01_k400 = cornac.models.CTR(\n",
    "    k=400,\n",
    "    lambda_u=0.01,\n",
    "    lambda_v=0.1,\n",
    "    eta=0.01,\n",
    "    a=1,\n",
    "    b=0.01,\n",
    "    max_iter=10,\n",
    "    trainable=True,\n",
    "    verbose=True,\n",
    "    init_params=None,\n",
    "    seed=123,\n",
    ")\n",
    "\n",
    "# Instantiate MSE for evaluation\n",
    "metrics = [MAE(), RMSE(), MSE(),FMeasure(k=50),Precision(k=50),\n",
    "           Recall(k=50), NDCG(k=50), NCRR(k=50),\n",
    "           MRR(),AUC(), MAP()]\n",
    "\n",
    "# Put everything together into an experiment and run it\n",
    "cornac.Experiment(\n",
    "    eval_method=mind_ratio_split, models=[ctr_v01_k400], metrics=metrics, user_based=False\n",
    ").run()"
   ],
   "metadata": {
    "collapsed": false
   }
  },
  {
   "cell_type": "code",
   "execution_count": 22,
   "outputs": [
    {
     "name": "stdout",
     "output_type": "stream",
     "text": [
      "0.2602979292103075\n",
      "1.36410335185139\n"
     ]
    }
   ],
   "source": [
    "data8 = {\"model\":\"CTR\",\n",
    "        \"data\":\"mind\",\n",
    "        \"k\":400,\n",
    "        \"lambda_u\":0.01,\n",
    "        \"lambda_v\":0.1,\n",
    "        \"eta\":0.01,\n",
    "        \"a\":1,\n",
    "        \"b\":0.01,\n",
    "        \"max_iter\":10,\n",
    "        \"MAE\":0.0000,\"MSE\":0.0000,\"RMSE\":0.0000,\"AUC\":0.5984,\"F1\":0.0072,\"MAP\":0.0109,\"MRR\":0.0271,\"NCRR\":0.0118,\"NDCG\":0.0207,\"Precision\":0.0042,\"Recall\":0.0452,\n",
    "        \"category diversity\":compute_avg_diversity(ctr_v01_k400, mind_, \"category\"),\n",
    "         \"story diversity\":compute_avg_diversity(ctr_v01_k400, mind_, \"story\")}\n",
    "print(data7[\"category diversity\"])\n",
    "print(data7[\"story diversity\"])"
   ],
   "metadata": {
    "collapsed": false
   }
  },
  {
   "cell_type": "markdown",
   "source": [
    "### k=400, lambda_v=1"
   ],
   "metadata": {
    "collapsed": false
   }
  },
  {
   "cell_type": "code",
   "execution_count": 23,
   "outputs": [
    {
     "name": "stdout",
     "output_type": "stream",
     "text": [
      "\n",
      "[CTR] Training started!\n"
     ]
    },
    {
     "data": {
      "text/plain": "  0%|          | 0/10 [00:00<?, ?it/s]",
      "application/vnd.jupyter.widget-view+json": {
       "version_major": 2,
       "version_minor": 0,
       "model_id": "aa49df6b431e416eb5246f648b31ab92"
      }
     },
     "metadata": {},
     "output_type": "display_data"
    },
    {
     "name": "stdout",
     "output_type": "stream",
     "text": [
      "Learning completed!\n",
      "\n",
      "[CTR] Evaluation started!\n"
     ]
    },
    {
     "data": {
      "text/plain": "Rating:   0%|          | 0/1336 [00:00<?, ?it/s]",
      "application/vnd.jupyter.widget-view+json": {
       "version_major": 2,
       "version_minor": 0,
       "model_id": "1b5b125fdeeb4b81857a17e6d96e5bfb"
      }
     },
     "metadata": {},
     "output_type": "display_data"
    },
    {
     "data": {
      "text/plain": "Ranking:   0%|          | 0/234 [00:00<?, ?it/s]",
      "application/vnd.jupyter.widget-view+json": {
       "version_major": 2,
       "version_minor": 0,
       "model_id": "6b12bc553e3d4ad88f51c378d6438d04"
      }
     },
     "metadata": {},
     "output_type": "display_data"
    },
    {
     "name": "stdout",
     "output_type": "stream",
     "text": [
      "\n",
      "TEST:\n",
      "...\n",
      "    |    MAE |    MSE |   RMSE |    AUC |  F1@50 |    MAP |    MRR | NCRR@50 | NDCG@50 | Precision@50 | Recall@50 | Train (s) | Test (s)\n",
      "--- + ------ + ------ + ------ + ------ + ------ + ------ + ------ + ------- + ------- + ------------ + --------- + --------- + --------\n",
      "CTR | 0.0000 | 0.0000 | 0.0000 | 0.6200 | 0.0076 | 0.0111 | 0.0261 |  0.0114 |  0.0210 |       0.0044 |    0.0471 |  161.8261 |   0.7221\n",
      "\n"
     ]
    }
   ],
   "source": [
    "# Instantiate HFT model\n",
    "ctr_v1_k400 = cornac.models.CTR(\n",
    "    k=400,\n",
    "    lambda_u=0.01,\n",
    "    lambda_v=1,\n",
    "    eta=0.01,\n",
    "    a=1,\n",
    "    b=0.01,\n",
    "    max_iter=10,\n",
    "    trainable=True,\n",
    "    verbose=True,\n",
    "    init_params=None,\n",
    "    seed=123,\n",
    ")\n",
    "\n",
    "# Instantiate MSE for evaluation\n",
    "metrics = [MAE(), RMSE(), MSE(),FMeasure(k=50),Precision(k=50),\n",
    "           Recall(k=50), NDCG(k=50), NCRR(k=50),\n",
    "           MRR(),AUC(), MAP()]\n",
    "\n",
    "# Put everything together into an experiment and run it\n",
    "cornac.Experiment(\n",
    "    eval_method=mind_ratio_split, models=[ctr_v1_k400], metrics=metrics, user_based=False\n",
    ").run()"
   ],
   "metadata": {
    "collapsed": false
   }
  },
  {
   "cell_type": "code",
   "execution_count": 24,
   "outputs": [
    {
     "name": "stdout",
     "output_type": "stream",
     "text": [
      "0.24794737816218898\n",
      "1.5081829190932745\n"
     ]
    }
   ],
   "source": [
    "data9 = {\"model\":\"CTR\",\n",
    "        \"data\":\"mind\",\n",
    "        \"k\":400,\n",
    "        \"lambda_u\":0.01,\n",
    "        \"lambda_v\":1,\n",
    "        \"eta\":0.01,\n",
    "        \"a\":1,\n",
    "        \"b\":0.01,\n",
    "        \"max_iter\":10,\n",
    "        \"MAE\":0.0000,\"MSE\":0.0000,\"RMSE\":0.0000,\"AUC\":0.6200,\"F1\":0.0076,\"MAP\":0.0111,\"MRR\":0.0261,\"NCRR\":0.0114,\"NDCG\":0.0210,\"Precision\":0.0044,\"Recall\":0.0471,\n",
    "        \"category diversity\":compute_avg_diversity(ctr_v1_k400, mind_, \"category\"),\n",
    "         \"story diversity\":compute_avg_diversity(ctr_v1_k400, mind_, \"story\")}\n",
    "print(data9[\"category diversity\"])\n",
    "print(data9[\"story diversity\"])"
   ],
   "metadata": {
    "collapsed": false
   }
  },
  {
   "cell_type": "markdown",
   "source": [
    "### k=400, lambda_v=10"
   ],
   "metadata": {
    "collapsed": false
   }
  },
  {
   "cell_type": "code",
   "execution_count": 25,
   "outputs": [
    {
     "name": "stdout",
     "output_type": "stream",
     "text": [
      "\n",
      "[CTR] Training started!\n"
     ]
    },
    {
     "data": {
      "text/plain": "  0%|          | 0/10 [00:00<?, ?it/s]",
      "application/vnd.jupyter.widget-view+json": {
       "version_major": 2,
       "version_minor": 0,
       "model_id": "6eaf95daf6ae417b8870479aede87438"
      }
     },
     "metadata": {},
     "output_type": "display_data"
    },
    {
     "name": "stdout",
     "output_type": "stream",
     "text": [
      "Learning completed!\n",
      "\n",
      "[CTR] Evaluation started!\n"
     ]
    },
    {
     "data": {
      "text/plain": "Rating:   0%|          | 0/1336 [00:00<?, ?it/s]",
      "application/vnd.jupyter.widget-view+json": {
       "version_major": 2,
       "version_minor": 0,
       "model_id": "7fe1f735290848ccbf8f257ece9a0f41"
      }
     },
     "metadata": {},
     "output_type": "display_data"
    },
    {
     "data": {
      "text/plain": "Ranking:   0%|          | 0/234 [00:00<?, ?it/s]",
      "application/vnd.jupyter.widget-view+json": {
       "version_major": 2,
       "version_minor": 0,
       "model_id": "3774db342b444e32964fdbb93334872d"
      }
     },
     "metadata": {},
     "output_type": "display_data"
    },
    {
     "name": "stdout",
     "output_type": "stream",
     "text": [
      "\n",
      "TEST:\n",
      "...\n",
      "    |    MAE |    MSE |   RMSE |    AUC |  F1@50 |    MAP |    MRR | NCRR@50 | NDCG@50 | Precision@50 | Recall@50 | Train (s) | Test (s)\n",
      "--- + ------ + ------ + ------ + ------ + ------ + ------ + ------ + ------- + ------- + ------------ + --------- + --------- + --------\n",
      "CTR | 0.0000 | 0.0000 | 0.0000 | 0.6308 | 0.0075 | 0.0102 | 0.0246 |  0.0101 |  0.0205 |       0.0044 |    0.0488 |  166.4190 |   0.6877\n",
      "\n"
     ]
    }
   ],
   "source": [
    "# Instantiate HFT model\n",
    "ctr_v10_k400 = cornac.models.CTR(\n",
    "    k=400,\n",
    "    lambda_u=0.01,\n",
    "    lambda_v=10,\n",
    "    eta=0.01,\n",
    "    a=1,\n",
    "    b=0.01,\n",
    "    max_iter=10,\n",
    "    trainable=True,\n",
    "    verbose=True,\n",
    "    init_params=None,\n",
    "    seed=123,\n",
    ")\n",
    "\n",
    "# Instantiate MSE for evaluation\n",
    "metrics = [MAE(), RMSE(), MSE(),FMeasure(k=50),Precision(k=50),\n",
    "           Recall(k=50), NDCG(k=50), NCRR(k=50),\n",
    "           MRR(),AUC(), MAP()]\n",
    "\n",
    "# Put everything together into an experiment and run it\n",
    "cornac.Experiment(\n",
    "    eval_method=mind_ratio_split, models=[ctr_v10_k400], metrics=metrics, user_based=False\n",
    ").run()"
   ],
   "metadata": {
    "collapsed": false
   }
  },
  {
   "cell_type": "code",
   "execution_count": 26,
   "outputs": [
    {
     "name": "stdout",
     "output_type": "stream",
     "text": [
      "0.25429152535441835\n",
      "1.5649867403745632\n"
     ]
    }
   ],
   "source": [
    "data10 = {\"model\":\"CTR\",\n",
    "        \"data\":\"mind\",\n",
    "        \"k\":400,\n",
    "        \"lambda_u\":0.01,\n",
    "        \"lambda_v\":10,\n",
    "        \"eta\":0.01,\n",
    "        \"a\":1,\n",
    "        \"b\":0.01,\n",
    "        \"max_iter\":10,\n",
    "        \"MAE\":0.0000,\"MSE\":0.0000,\"RMSE\":0.0000,\"AUC\":0.6308,\"F1\":0.0075,\"MAP\":0.0102,\"MRR\":0.0246,\"NCRR\":0.0101,\"NDCG\":0.0205,\"Precision\":0.0044,\"Recall\":0.0488,\n",
    "        \"category diversity\":compute_avg_diversity(ctr_v10_k400, mind_, \"category\"),\n",
    "         \"story diversity\":compute_avg_diversity(ctr_v10_k400, mind_, \"story\")}\n",
    "print(data10[\"category diversity\"])\n",
    "print(data10[\"story diversity\"])"
   ],
   "metadata": {
    "collapsed": false
   }
  },
  {
   "cell_type": "markdown",
   "source": [
    "### k=400, lambda_v=100"
   ],
   "metadata": {
    "collapsed": false
   }
  },
  {
   "cell_type": "code",
   "execution_count": 27,
   "outputs": [
    {
     "name": "stdout",
     "output_type": "stream",
     "text": [
      "\n",
      "[CTR] Training started!\n"
     ]
    },
    {
     "data": {
      "text/plain": "  0%|          | 0/10 [00:00<?, ?it/s]",
      "application/vnd.jupyter.widget-view+json": {
       "version_major": 2,
       "version_minor": 0,
       "model_id": "436a763a875541869e1d7e0ba46f1edb"
      }
     },
     "metadata": {},
     "output_type": "display_data"
    },
    {
     "name": "stdout",
     "output_type": "stream",
     "text": [
      "Learning completed!\n",
      "\n",
      "[CTR] Evaluation started!\n"
     ]
    },
    {
     "data": {
      "text/plain": "Rating:   0%|          | 0/1336 [00:00<?, ?it/s]",
      "application/vnd.jupyter.widget-view+json": {
       "version_major": 2,
       "version_minor": 0,
       "model_id": "22a52d1cd930435d9e7243027f62c35c"
      }
     },
     "metadata": {},
     "output_type": "display_data"
    },
    {
     "data": {
      "text/plain": "Ranking:   0%|          | 0/234 [00:00<?, ?it/s]",
      "application/vnd.jupyter.widget-view+json": {
       "version_major": 2,
       "version_minor": 0,
       "model_id": "efbbd18e2cb3455bb9b695911ecd4d6d"
      }
     },
     "metadata": {},
     "output_type": "display_data"
    },
    {
     "name": "stdout",
     "output_type": "stream",
     "text": [
      "\n",
      "TEST:\n",
      "...\n",
      "    |    MAE |    MSE |   RMSE |    AUC |  F1@50 |    MAP |    MRR | NCRR@50 | NDCG@50 | Precision@50 | Recall@50 | Train (s) | Test (s)\n",
      "--- + ------ + ------ + ------ + ------ + ------ + ------ + ------ + ------- + ------- + ------------ + --------- + --------- + --------\n",
      "CTR | 0.0000 | 0.0000 | 0.0000 | 0.6748 | 0.0108 | 0.0153 | 0.0432 |  0.0188 |  0.0341 |       0.0062 |    0.0865 |  150.0576 |   0.5578\n",
      "\n"
     ]
    }
   ],
   "source": [
    "# Instantiate HFT model\n",
    "ctr_v100_k400 = cornac.models.CTR(\n",
    "    k=400,\n",
    "    lambda_u=0.01,\n",
    "    lambda_v=100,\n",
    "    eta=0.01,\n",
    "    a=1,\n",
    "    b=0.01,\n",
    "    max_iter=10,\n",
    "    trainable=True,\n",
    "    verbose=True,\n",
    "    init_params=None,\n",
    "    seed=123,\n",
    ")\n",
    "\n",
    "# Instantiate MSE for evaluation\n",
    "metrics = [MAE(), RMSE(), MSE(),FMeasure(k=50),Precision(k=50),\n",
    "           Recall(k=50), NDCG(k=50), NCRR(k=50),\n",
    "           MRR(),AUC(), MAP()]\n",
    "\n",
    "# Put everything together into an experiment and run it\n",
    "cornac.Experiment(\n",
    "    eval_method=mind_ratio_split, models=[ctr_v100_k400], metrics=metrics, user_based=False\n",
    ").run()"
   ],
   "metadata": {
    "collapsed": false
   }
  },
  {
   "cell_type": "code",
   "execution_count": 28,
   "outputs": [
    {
     "name": "stdout",
     "output_type": "stream",
     "text": [
      "2.6298190706243045\n",
      "1.5265278051802473\n"
     ]
    }
   ],
   "source": [
    "data11 = {\"model\":\"CTR\",\n",
    "        \"data\":\"mind\",\n",
    "        \"k\":400,\n",
    "        \"lambda_u\":0.01,\n",
    "        \"lambda_v\":100,\n",
    "        \"eta\":0.01,\n",
    "        \"a\":1,\n",
    "        \"b\":0.01,\n",
    "        \"max_iter\":10,\n",
    "        \"MAE\":0.0000,\"MSE\":0.0000,\"RMSE\":0.0000,\"AUC\":0.6748,\"F1\":0.0108,\"MAP\":0.0153,\"MRR\":0.0432,\"NCRR\":0.0188,\"NDCG\":0.0341,\"Precision\":0.0062,\"Recall\":0.0865,\n",
    "        \"category diversity\":compute_avg_diversity(ctr_v100_k400, mind_, \"category\"),\n",
    "         \"story diversity\":compute_avg_diversity(ctr_v100_k400, mind_, \"story\")}\n",
    "print(data11[\"category diversity\"])\n",
    "print(data11[\"story diversity\"])"
   ],
   "metadata": {
    "collapsed": false
   }
  },
  {
   "cell_type": "markdown",
   "source": [
    "### k=400,lambda_v=0.1,lambda_u=0.1"
   ],
   "metadata": {
    "collapsed": false
   }
  },
  {
   "cell_type": "code",
   "execution_count": 29,
   "outputs": [
    {
     "name": "stdout",
     "output_type": "stream",
     "text": [
      "\n",
      "[CTR] Training started!\n"
     ]
    },
    {
     "data": {
      "text/plain": "  0%|          | 0/10 [00:00<?, ?it/s]",
      "application/vnd.jupyter.widget-view+json": {
       "version_major": 2,
       "version_minor": 0,
       "model_id": "ff0c6456370241f38fd55862030be432"
      }
     },
     "metadata": {},
     "output_type": "display_data"
    },
    {
     "name": "stdout",
     "output_type": "stream",
     "text": [
      "Learning completed!\n",
      "\n",
      "[CTR] Evaluation started!\n"
     ]
    },
    {
     "data": {
      "text/plain": "Rating:   0%|          | 0/1336 [00:00<?, ?it/s]",
      "application/vnd.jupyter.widget-view+json": {
       "version_major": 2,
       "version_minor": 0,
       "model_id": "66b2ae01c097495b9ce7fce55d802176"
      }
     },
     "metadata": {},
     "output_type": "display_data"
    },
    {
     "data": {
      "text/plain": "Ranking:   0%|          | 0/234 [00:00<?, ?it/s]",
      "application/vnd.jupyter.widget-view+json": {
       "version_major": 2,
       "version_minor": 0,
       "model_id": "f0d03e001a304bd493aab04775e3ee8e"
      }
     },
     "metadata": {},
     "output_type": "display_data"
    },
    {
     "name": "stdout",
     "output_type": "stream",
     "text": [
      "\n",
      "TEST:\n",
      "...\n",
      "    |    MAE |    MSE |   RMSE |    AUC |  F1@50 |    MAP |    MRR | NCRR@50 | NDCG@50 | Precision@50 | Recall@50 | Train (s) | Test (s)\n",
      "--- + ------ + ------ + ------ + ------ + ------ + ------ + ------ + ------- + ------- + ------------ + --------- + --------- + --------\n",
      "CTR | 0.0000 | 0.0000 | 0.0000 | 0.6026 | 0.0070 | 0.0111 | 0.0289 |  0.0122 |  0.0206 |       0.0041 |    0.0447 |  165.9264 |   0.5777\n",
      "\n"
     ]
    }
   ],
   "source": [
    "# Instantiate HFT model\n",
    "ctr_u01_v01_k400 = cornac.models.CTR(\n",
    "    k=400,\n",
    "    lambda_u=0.1,\n",
    "    lambda_v=0.1,\n",
    "    eta=0.01,\n",
    "    a=1,\n",
    "    b=0.01,\n",
    "    max_iter=10,\n",
    "    trainable=True,\n",
    "    verbose=True,\n",
    "    init_params=None,\n",
    "    seed=123,\n",
    ")\n",
    "\n",
    "# Instantiate MSE for evaluation\n",
    "metrics = [MAE(), RMSE(), MSE(),FMeasure(k=50),Precision(k=50),\n",
    "           Recall(k=50), NDCG(k=50), NCRR(k=50),\n",
    "           MRR(),AUC(), MAP()]\n",
    "\n",
    "# Put everything together into an experiment and run it\n",
    "cornac.Experiment(\n",
    "    eval_method=mind_ratio_split, models=[ctr_u01_v01_k400], metrics=metrics, user_based=False\n",
    ").run()"
   ],
   "metadata": {
    "collapsed": false
   }
  },
  {
   "cell_type": "code",
   "execution_count": 30,
   "outputs": [
    {
     "name": "stdout",
     "output_type": "stream",
     "text": [
      "0.2499707066368308\n",
      "1.4429969587201958\n"
     ]
    }
   ],
   "source": [
    "data12 = {\"model\":\"CTR\",\n",
    "        \"data\":\"mind\",\n",
    "        \"k\":400,\n",
    "        \"lambda_u\":0.1,\n",
    "        \"lambda_v\":0.1,\n",
    "        \"eta\":0.01,\n",
    "        \"a\":1,\n",
    "        \"b\":0.01,\n",
    "        \"max_iter\":10,\n",
    "        \"MAE\":0.0000,\"MSE\":0.0000,\"RMSE\":0.0000,\"AUC\":0.6026,\"F1\":0.0070,\"MAP\":0.0111,\"MRR\":0.0289,\"NCRR\":0.0122,\"NDCG\":0.0206,\"Precision\":0.0041,\"Recall\":0.0447,\n",
    "        \"category diversity\":compute_avg_diversity(ctr_u01_v01_k400, mind_, \"category\"),\n",
    "         \"story diversity\":compute_avg_diversity(ctr_u01_v01_k400, mind_, \"story\")}\n",
    "print(data12[\"category diversity\"])\n",
    "print(data12[\"story diversity\"])"
   ],
   "metadata": {
    "collapsed": false
   }
  },
  {
   "cell_type": "markdown",
   "source": [
    "\n",
    "### k=400, lambda_v=0.1, lambda_u=1"
   ],
   "metadata": {
    "collapsed": false
   }
  },
  {
   "cell_type": "code",
   "execution_count": 31,
   "outputs": [
    {
     "name": "stdout",
     "output_type": "stream",
     "text": [
      "\n",
      "[CTR] Training started!\n"
     ]
    },
    {
     "data": {
      "text/plain": "  0%|          | 0/10 [00:00<?, ?it/s]",
      "application/vnd.jupyter.widget-view+json": {
       "version_major": 2,
       "version_minor": 0,
       "model_id": "8f03f379f87440f0beabc5242a437e7e"
      }
     },
     "metadata": {},
     "output_type": "display_data"
    },
    {
     "name": "stdout",
     "output_type": "stream",
     "text": [
      "Learning completed!\n",
      "\n",
      "[CTR] Evaluation started!\n"
     ]
    },
    {
     "data": {
      "text/plain": "Rating:   0%|          | 0/1336 [00:00<?, ?it/s]",
      "application/vnd.jupyter.widget-view+json": {
       "version_major": 2,
       "version_minor": 0,
       "model_id": "bf5327345df14dd0bdd5bac7a68aa2ff"
      }
     },
     "metadata": {},
     "output_type": "display_data"
    },
    {
     "data": {
      "text/plain": "Ranking:   0%|          | 0/234 [00:00<?, ?it/s]",
      "application/vnd.jupyter.widget-view+json": {
       "version_major": 2,
       "version_minor": 0,
       "model_id": "ef473d88591e4276b7ab2ea56a693f45"
      }
     },
     "metadata": {},
     "output_type": "display_data"
    },
    {
     "name": "stdout",
     "output_type": "stream",
     "text": [
      "\n",
      "TEST:\n",
      "...\n",
      "    |    MAE |    MSE |   RMSE |    AUC |  F1@50 |    MAP |    MRR | NCRR@50 | NDCG@50 | Precision@50 | Recall@50 | Train (s) | Test (s)\n",
      "--- + ------ + ------ + ------ + ------ + ------ + ------ + ------ + ------- + ------- + ------------ + --------- + --------- + --------\n",
      "CTR | 0.0000 | 0.0000 | 0.0000 | 0.6282 | 0.0081 | 0.0108 | 0.0234 |  0.0102 |  0.0215 |       0.0047 |    0.0516 |  161.6932 |   0.5923\n",
      "\n"
     ]
    }
   ],
   "source": [
    "# Instantiate HFT model\n",
    "ctr_u1_v01_k400 = cornac.models.CTR(\n",
    "    k=400,\n",
    "    lambda_u=1,\n",
    "    lambda_v=0.1,\n",
    "    eta=0.01,\n",
    "    a=1,\n",
    "    b=0.01,\n",
    "    max_iter=10,\n",
    "    trainable=True,\n",
    "    verbose=True,\n",
    "    init_params=None,\n",
    "    seed=123,\n",
    ")\n",
    "\n",
    "# Instantiate MSE for evaluation\n",
    "metrics = [MAE(), RMSE(), MSE(),FMeasure(k=50),Precision(k=50),\n",
    "           Recall(k=50), NDCG(k=50), NCRR(k=50),\n",
    "           MRR(),AUC(), MAP()]\n",
    "\n",
    "# Put everything together into an experiment and run it\n",
    "cornac.Experiment(\n",
    "    eval_method=mind_ratio_split, models=[ctr_u1_v01_k400], metrics=metrics, user_based=False\n",
    ").run()"
   ],
   "metadata": {
    "collapsed": false
   }
  },
  {
   "cell_type": "code",
   "execution_count": 32,
   "outputs": [
    {
     "name": "stdout",
     "output_type": "stream",
     "text": [
      "0.2390969237581832\n",
      "1.3395862535621295\n"
     ]
    }
   ],
   "source": [
    "data13 = {\"model\":\"CTR\",\n",
    "        \"data\":\"mind\",\n",
    "        \"k\":400,\n",
    "        \"lambda_u\":1,\n",
    "        \"lambda_v\":0.1,\n",
    "        \"eta\":0.01,\n",
    "        \"a\":1,\n",
    "        \"b\":0.01,\n",
    "        \"max_iter\":10,\n",
    "        \"MAE\":0.0000,\"MSE\":0.0000,\"RMSE\":0.0000,\"AUC\":0.6282,\"F1\":0.0081,\"MAP\":0.0108,\"MRR\":0.0234,\"NCRR\":0.0102,\"NDCG\":0.0215,\"Precision\":0.0047,\"Recall\":0.0516,\n",
    "        \"category diversity\":compute_avg_diversity(ctr_u1_v01_k400, mind_, \"category\"),\n",
    "         \"story diversity\":compute_avg_diversity(ctr_u1_v01_k400, mind_, \"story\")}\n",
    "print(data13[\"category diversity\"])\n",
    "print(data13[\"story diversity\"])"
   ],
   "metadata": {
    "collapsed": false
   }
  },
  {
   "cell_type": "markdown",
   "source": [
    "### k=400, lambda_v=0.1, lambda_u=10"
   ],
   "metadata": {
    "collapsed": false
   }
  },
  {
   "cell_type": "code",
   "execution_count": 33,
   "outputs": [
    {
     "name": "stdout",
     "output_type": "stream",
     "text": [
      "\n",
      "[CTR] Training started!\n"
     ]
    },
    {
     "data": {
      "text/plain": "  0%|          | 0/10 [00:00<?, ?it/s]",
      "application/vnd.jupyter.widget-view+json": {
       "version_major": 2,
       "version_minor": 0,
       "model_id": "e298af6c15f14db5b8c0a4646c65a881"
      }
     },
     "metadata": {},
     "output_type": "display_data"
    },
    {
     "name": "stdout",
     "output_type": "stream",
     "text": [
      "Learning completed!\n",
      "\n",
      "[CTR] Evaluation started!\n"
     ]
    },
    {
     "data": {
      "text/plain": "Rating:   0%|          | 0/1336 [00:00<?, ?it/s]",
      "application/vnd.jupyter.widget-view+json": {
       "version_major": 2,
       "version_minor": 0,
       "model_id": "4ae63241fbe54b899ae04a0024ba38b0"
      }
     },
     "metadata": {},
     "output_type": "display_data"
    },
    {
     "data": {
      "text/plain": "Ranking:   0%|          | 0/234 [00:00<?, ?it/s]",
      "application/vnd.jupyter.widget-view+json": {
       "version_major": 2,
       "version_minor": 0,
       "model_id": "4c4e0ca353814ae68fcb00326bc920ed"
      }
     },
     "metadata": {},
     "output_type": "display_data"
    },
    {
     "name": "stdout",
     "output_type": "stream",
     "text": [
      "\n",
      "TEST:\n",
      "...\n",
      "    |    MAE |    MSE |   RMSE |    AUC |  F1@50 |    MAP |    MRR | NCRR@50 | NDCG@50 | Precision@50 | Recall@50 | Train (s) | Test (s)\n",
      "--- + ------ + ------ + ------ + ------ + ------ + ------ + ------ + ------- + ------- + ------------ + --------- + --------- + --------\n",
      "CTR | 0.0000 | 0.0000 | 0.0000 | 0.6890 | 0.0106 | 0.0132 | 0.0341 |  0.0146 |  0.0298 |       0.0061 |    0.0765 |  188.8644 |   0.9451\n",
      "\n"
     ]
    }
   ],
   "source": [
    "# Instantiate HFT model\n",
    "ctr_u10_v01_k400 = cornac.models.CTR(\n",
    "    k=400,\n",
    "    lambda_u=10,\n",
    "    lambda_v=0.1,\n",
    "    eta=0.01,\n",
    "    a=1,\n",
    "    b=0.01,\n",
    "    max_iter=10,\n",
    "    trainable=True,\n",
    "    verbose=True,\n",
    "    init_params=None,\n",
    "    seed=123,\n",
    ")\n",
    "\n",
    "# Instantiate MSE for evaluation\n",
    "metrics = [MAE(), RMSE(), MSE(),FMeasure(k=50),Precision(k=50),\n",
    "           Recall(k=50), NDCG(k=50), NCRR(k=50),\n",
    "           MRR(),AUC(), MAP()]\n",
    "\n",
    "# Put everything together into an experiment and run it\n",
    "cornac.Experiment(\n",
    "    eval_method=mind_ratio_split, models=[ctr_u10_v01_k400], metrics=metrics, user_based=False\n",
    ").run()"
   ],
   "metadata": {
    "collapsed": false
   }
  },
  {
   "cell_type": "code",
   "execution_count": 34,
   "outputs": [
    {
     "name": "stdout",
     "output_type": "stream",
     "text": [
      "2.2994837219088935\n",
      "1.309685001382068\n"
     ]
    }
   ],
   "source": [
    "data14 = {\"model\":\"CTR\",\n",
    "        \"data\":\"mind\",\n",
    "        \"k\":400,\n",
    "        \"lambda_u\":10,\n",
    "        \"lambda_v\":0.1,\n",
    "        \"eta\":0.01,\n",
    "        \"a\":1,\n",
    "        \"b\":0.01,\n",
    "        \"max_iter\":10,\n",
    "        \"MAE\":0.0000,\"MSE\":0.0000,\"RMSE\":0.0000,\"AUC\":0.6890,\"F1\":0.0106,\"MAP\":0.0132,\"MRR\":0.0341,\"NCRR\":0.0146,\"NDCG\":0.0298,\"Precision\":0.0061,\"Recall\":0.0765,\n",
    "        \"category diversity\":compute_avg_diversity(ctr_u10_v01_k400, mind_, \"category\"),\n",
    "         \"story diversity\":compute_avg_diversity(ctr_u10_v01_k400, mind_, \"story\")}\n",
    "print(data14[\"category diversity\"])\n",
    "print(data14[\"story diversity\"])"
   ],
   "metadata": {
    "collapsed": false
   }
  },
  {
   "cell_type": "markdown",
   "source": [
    "### k=400, lambda_v=0.1, lambda_u=100"
   ],
   "metadata": {
    "collapsed": false
   }
  },
  {
   "cell_type": "code",
   "execution_count": 35,
   "outputs": [
    {
     "name": "stdout",
     "output_type": "stream",
     "text": [
      "\n",
      "[CTR] Training started!\n"
     ]
    },
    {
     "data": {
      "text/plain": "  0%|          | 0/10 [00:00<?, ?it/s]",
      "application/vnd.jupyter.widget-view+json": {
       "version_major": 2,
       "version_minor": 0,
       "model_id": "2a7494ad84e44b72838702bc8757382f"
      }
     },
     "metadata": {},
     "output_type": "display_data"
    },
    {
     "name": "stdout",
     "output_type": "stream",
     "text": [
      "Learning completed!\n",
      "\n",
      "[CTR] Evaluation started!\n"
     ]
    },
    {
     "data": {
      "text/plain": "Rating:   0%|          | 0/1336 [00:00<?, ?it/s]",
      "application/vnd.jupyter.widget-view+json": {
       "version_major": 2,
       "version_minor": 0,
       "model_id": "174057c6242c43109c7aef2862d18db1"
      }
     },
     "metadata": {},
     "output_type": "display_data"
    },
    {
     "data": {
      "text/plain": "Ranking:   0%|          | 0/234 [00:00<?, ?it/s]",
      "application/vnd.jupyter.widget-view+json": {
       "version_major": 2,
       "version_minor": 0,
       "model_id": "58cc9418b6714f77b66bb3ffb8bcb4cf"
      }
     },
     "metadata": {},
     "output_type": "display_data"
    },
    {
     "name": "stdout",
     "output_type": "stream",
     "text": [
      "\n",
      "TEST:\n",
      "...\n",
      "    |    MAE |    MSE |   RMSE |    AUC |  F1@50 |    MAP |    MRR | NCRR@50 | NDCG@50 | Precision@50 | Recall@50 | Train (s) | Test (s)\n",
      "--- + ------ + ------ + ------ + ------ + ------ + ------ + ------ + ------- + ------- + ------------ + --------- + --------- + --------\n",
      "CTR | 0.0000 | 0.0000 | 0.0000 | 0.7570 | 0.0210 | 0.0206 | 0.0557 |  0.0263 |  0.0536 |       0.0123 |    0.1268 |  161.9034 |   0.5364\n",
      "\n"
     ]
    }
   ],
   "source": [
    "# Instantiate HFT model\n",
    "ctr_u100_v01_k400 = cornac.models.CTR(\n",
    "    k=400,\n",
    "    lambda_u=100,\n",
    "    lambda_v=0.1,\n",
    "    eta=0.01,\n",
    "    a=1,\n",
    "    b=0.01,\n",
    "    max_iter=10,\n",
    "    trainable=True,\n",
    "    verbose=True,\n",
    "    init_params=None,\n",
    "    seed=123,\n",
    ")\n",
    "\n",
    "# Instantiate MSE for evaluation\n",
    "metrics = [MAE(), RMSE(), MSE(),FMeasure(k=50),Precision(k=50),\n",
    "           Recall(k=50), NDCG(k=50), NCRR(k=50),\n",
    "           MRR(),AUC(), MAP()]\n",
    "\n",
    "# Put everything together into an experiment and run it\n",
    "cornac.Experiment(\n",
    "    eval_method=mind_ratio_split, models=[ctr_u100_v01_k400], metrics=metrics, user_based=False\n",
    ").run()"
   ],
   "metadata": {
    "collapsed": false
   }
  },
  {
   "cell_type": "code",
   "execution_count": 36,
   "outputs": [
    {
     "name": "stdout",
     "output_type": "stream",
     "text": [
      "0.2692351375066459\n",
      "0.9376505594864659\n"
     ]
    }
   ],
   "source": [
    "data15 = {\"model\":\"CTR\",\n",
    "        \"data\":\"mind\",\n",
    "        \"k\":400,\n",
    "        \"lambda_u\":10,\n",
    "        \"lambda_v\":0.1,\n",
    "        \"eta\":0.01,\n",
    "        \"a\":1,\n",
    "        \"b\":0.01,\n",
    "        \"max_iter\":10,\n",
    "        \"MAE\":0.0000,\"MSE\":0.0000,\"RMSE\":0.0000,\"AUC\":0.7570,\"F1\":0.0210,\"MAP\":0.0206,\"MRR\":0.0557,\"NCRR\":0.0263,\"NDCG\":0.0536,\"Precision\":0.0123,\"Recall\":0.1268,\n",
    "        \"category diversity\":compute_avg_diversity(ctr_u100_v01_k400, mind_, \"category\"),\n",
    "         \"story diversity\":compute_avg_diversity(ctr_u100_v01_k400, mind_, \"story\")}\n",
    "print(data15[\"category diversity\"])\n",
    "print(data15[\"story diversity\"])"
   ],
   "metadata": {
    "collapsed": false
   }
  },
  {
   "cell_type": "code",
   "execution_count": 37,
   "outputs": [],
   "source": [
    "data = [data1,data2,data3,data4,data5,data6,data7,data8,data9,data10,data11,data12,data13,data14,data15]\n",
    "df = pd.DataFrame(columns = data1.keys())\n",
    "i=0\n",
    "for d in data:\n",
    "    df = pd.concat([df, pd.DataFrame(d,columns = list(d.keys()),index=[i])], ignore_index=False)\n",
    "    i += 1"
   ],
   "metadata": {
    "collapsed": false
   }
  },
  {
   "cell_type": "code",
   "execution_count": 38,
   "outputs": [
    {
     "data": {
      "text/plain": "   model  data    k  lambda_u  lambda_v   eta  a     b max_iter  MAE  ...  \\\n0    CTR  mind   10      0.01      0.01  0.01  1  0.01       10  0.0  ...   \n1    CTR  mind   50      0.01      0.01  0.01  1  0.01       10  0.0  ...   \n2    CTR  mind  100      0.01      0.01  0.01  1  0.01       10  0.0  ...   \n3    CTR  mind  200      0.01      0.01  0.01  1  0.01       10  0.0  ...   \n4    CTR  mind  300      0.01      0.01  0.01  1  0.01       10  0.0  ...   \n5    CTR  mind  400      0.01      0.01  0.01  1  0.01       10  0.0  ...   \n6    CTR  mind  500      0.01      0.01  0.01  1  0.01       10  0.0  ...   \n7    CTR  mind  400      0.01      0.10  0.01  1  0.01       10  0.0  ...   \n8    CTR  mind  400      0.01      1.00  0.01  1  0.01       10  0.0  ...   \n9    CTR  mind  400      0.01     10.00  0.01  1  0.01       10  0.0  ...   \n10   CTR  mind  400      0.01    100.00  0.01  1  0.01       10  0.0  ...   \n11   CTR  mind  400      0.10      0.10  0.01  1  0.01       10  0.0  ...   \n12   CTR  mind  400      1.00      0.10  0.01  1  0.01       10  0.0  ...   \n13   CTR  mind  400     10.00      0.10  0.01  1  0.01       10  0.0  ...   \n14   CTR  mind  400     10.00      0.10  0.01  1  0.01       10  0.0  ...   \n\n       AUC      F1     MAP     MRR    NCRR    NDCG  Precision  Recall  \\\n0   0.6023  0.0116  0.0121  0.0455  0.0180  0.0293     0.0069  0.0600   \n1   0.5831  0.0088  0.0111  0.0330  0.0139  0.0249     0.0050  0.0567   \n2   0.5372  0.0062  0.0079  0.0215  0.0087  0.0167     0.0036  0.0372   \n3   0.5449  0.0060  0.0089  0.0207  0.0089  0.0168     0.0035  0.0374   \n4   0.5936  0.0077  0.0112  0.0300  0.0131  0.0217     0.0045  0.0462   \n5   0.5883  0.0073  0.0112  0.0291  0.0130  0.0217     0.0043  0.0469   \n6   0.5965  0.0075  0.0106  0.0287  0.0122  0.0211     0.0044  0.0468   \n7   0.5984  0.0072  0.0109  0.0271  0.0118  0.0207     0.0042  0.0452   \n8   0.6200  0.0076  0.0111  0.0261  0.0114  0.0210     0.0044  0.0471   \n9   0.6308  0.0075  0.0102  0.0246  0.0101  0.0205     0.0044  0.0488   \n10  0.6748  0.0108  0.0153  0.0432  0.0188  0.0341     0.0062  0.0865   \n11  0.6026  0.0070  0.0111  0.0289  0.0122  0.0206     0.0041  0.0447   \n12  0.6282  0.0081  0.0108  0.0234  0.0102  0.0215     0.0047  0.0516   \n13  0.6890  0.0106  0.0132  0.0341  0.0146  0.0298     0.0061  0.0765   \n14  0.7570  0.0210  0.0206  0.0557  0.0263  0.0536     0.0123  0.1268   \n\n    category diversity  story diversity  \n0             1.113298         1.468959  \n1             0.239912         1.466283  \n2             0.226467         1.227420  \n3             0.219760         1.362421  \n4             0.262107         1.422210  \n5             0.258133         1.208898  \n6             0.260298         1.364103  \n7             0.253321         1.471805  \n8             0.247947         1.508183  \n9             0.254292         1.564987  \n10            2.629819         1.526528  \n11            0.249971         1.442997  \n12            0.239097         1.339586  \n13            2.299484         1.309685  \n14            0.269235         0.937651  \n\n[15 rows x 22 columns]",
      "text/html": "<div>\n<style scoped>\n    .dataframe tbody tr th:only-of-type {\n        vertical-align: middle;\n    }\n\n    .dataframe tbody tr th {\n        vertical-align: top;\n    }\n\n    .dataframe thead th {\n        text-align: right;\n    }\n</style>\n<table border=\"1\" class=\"dataframe\">\n  <thead>\n    <tr style=\"text-align: right;\">\n      <th></th>\n      <th>model</th>\n      <th>data</th>\n      <th>k</th>\n      <th>lambda_u</th>\n      <th>lambda_v</th>\n      <th>eta</th>\n      <th>a</th>\n      <th>b</th>\n      <th>max_iter</th>\n      <th>MAE</th>\n      <th>...</th>\n      <th>AUC</th>\n      <th>F1</th>\n      <th>MAP</th>\n      <th>MRR</th>\n      <th>NCRR</th>\n      <th>NDCG</th>\n      <th>Precision</th>\n      <th>Recall</th>\n      <th>category diversity</th>\n      <th>story diversity</th>\n    </tr>\n  </thead>\n  <tbody>\n    <tr>\n      <th>0</th>\n      <td>CTR</td>\n      <td>mind</td>\n      <td>10</td>\n      <td>0.01</td>\n      <td>0.01</td>\n      <td>0.01</td>\n      <td>1</td>\n      <td>0.01</td>\n      <td>10</td>\n      <td>0.0</td>\n      <td>...</td>\n      <td>0.6023</td>\n      <td>0.0116</td>\n      <td>0.0121</td>\n      <td>0.0455</td>\n      <td>0.0180</td>\n      <td>0.0293</td>\n      <td>0.0069</td>\n      <td>0.0600</td>\n      <td>1.113298</td>\n      <td>1.468959</td>\n    </tr>\n    <tr>\n      <th>1</th>\n      <td>CTR</td>\n      <td>mind</td>\n      <td>50</td>\n      <td>0.01</td>\n      <td>0.01</td>\n      <td>0.01</td>\n      <td>1</td>\n      <td>0.01</td>\n      <td>10</td>\n      <td>0.0</td>\n      <td>...</td>\n      <td>0.5831</td>\n      <td>0.0088</td>\n      <td>0.0111</td>\n      <td>0.0330</td>\n      <td>0.0139</td>\n      <td>0.0249</td>\n      <td>0.0050</td>\n      <td>0.0567</td>\n      <td>0.239912</td>\n      <td>1.466283</td>\n    </tr>\n    <tr>\n      <th>2</th>\n      <td>CTR</td>\n      <td>mind</td>\n      <td>100</td>\n      <td>0.01</td>\n      <td>0.01</td>\n      <td>0.01</td>\n      <td>1</td>\n      <td>0.01</td>\n      <td>10</td>\n      <td>0.0</td>\n      <td>...</td>\n      <td>0.5372</td>\n      <td>0.0062</td>\n      <td>0.0079</td>\n      <td>0.0215</td>\n      <td>0.0087</td>\n      <td>0.0167</td>\n      <td>0.0036</td>\n      <td>0.0372</td>\n      <td>0.226467</td>\n      <td>1.227420</td>\n    </tr>\n    <tr>\n      <th>3</th>\n      <td>CTR</td>\n      <td>mind</td>\n      <td>200</td>\n      <td>0.01</td>\n      <td>0.01</td>\n      <td>0.01</td>\n      <td>1</td>\n      <td>0.01</td>\n      <td>10</td>\n      <td>0.0</td>\n      <td>...</td>\n      <td>0.5449</td>\n      <td>0.0060</td>\n      <td>0.0089</td>\n      <td>0.0207</td>\n      <td>0.0089</td>\n      <td>0.0168</td>\n      <td>0.0035</td>\n      <td>0.0374</td>\n      <td>0.219760</td>\n      <td>1.362421</td>\n    </tr>\n    <tr>\n      <th>4</th>\n      <td>CTR</td>\n      <td>mind</td>\n      <td>300</td>\n      <td>0.01</td>\n      <td>0.01</td>\n      <td>0.01</td>\n      <td>1</td>\n      <td>0.01</td>\n      <td>10</td>\n      <td>0.0</td>\n      <td>...</td>\n      <td>0.5936</td>\n      <td>0.0077</td>\n      <td>0.0112</td>\n      <td>0.0300</td>\n      <td>0.0131</td>\n      <td>0.0217</td>\n      <td>0.0045</td>\n      <td>0.0462</td>\n      <td>0.262107</td>\n      <td>1.422210</td>\n    </tr>\n    <tr>\n      <th>5</th>\n      <td>CTR</td>\n      <td>mind</td>\n      <td>400</td>\n      <td>0.01</td>\n      <td>0.01</td>\n      <td>0.01</td>\n      <td>1</td>\n      <td>0.01</td>\n      <td>10</td>\n      <td>0.0</td>\n      <td>...</td>\n      <td>0.5883</td>\n      <td>0.0073</td>\n      <td>0.0112</td>\n      <td>0.0291</td>\n      <td>0.0130</td>\n      <td>0.0217</td>\n      <td>0.0043</td>\n      <td>0.0469</td>\n      <td>0.258133</td>\n      <td>1.208898</td>\n    </tr>\n    <tr>\n      <th>6</th>\n      <td>CTR</td>\n      <td>mind</td>\n      <td>500</td>\n      <td>0.01</td>\n      <td>0.01</td>\n      <td>0.01</td>\n      <td>1</td>\n      <td>0.01</td>\n      <td>10</td>\n      <td>0.0</td>\n      <td>...</td>\n      <td>0.5965</td>\n      <td>0.0075</td>\n      <td>0.0106</td>\n      <td>0.0287</td>\n      <td>0.0122</td>\n      <td>0.0211</td>\n      <td>0.0044</td>\n      <td>0.0468</td>\n      <td>0.260298</td>\n      <td>1.364103</td>\n    </tr>\n    <tr>\n      <th>7</th>\n      <td>CTR</td>\n      <td>mind</td>\n      <td>400</td>\n      <td>0.01</td>\n      <td>0.10</td>\n      <td>0.01</td>\n      <td>1</td>\n      <td>0.01</td>\n      <td>10</td>\n      <td>0.0</td>\n      <td>...</td>\n      <td>0.5984</td>\n      <td>0.0072</td>\n      <td>0.0109</td>\n      <td>0.0271</td>\n      <td>0.0118</td>\n      <td>0.0207</td>\n      <td>0.0042</td>\n      <td>0.0452</td>\n      <td>0.253321</td>\n      <td>1.471805</td>\n    </tr>\n    <tr>\n      <th>8</th>\n      <td>CTR</td>\n      <td>mind</td>\n      <td>400</td>\n      <td>0.01</td>\n      <td>1.00</td>\n      <td>0.01</td>\n      <td>1</td>\n      <td>0.01</td>\n      <td>10</td>\n      <td>0.0</td>\n      <td>...</td>\n      <td>0.6200</td>\n      <td>0.0076</td>\n      <td>0.0111</td>\n      <td>0.0261</td>\n      <td>0.0114</td>\n      <td>0.0210</td>\n      <td>0.0044</td>\n      <td>0.0471</td>\n      <td>0.247947</td>\n      <td>1.508183</td>\n    </tr>\n    <tr>\n      <th>9</th>\n      <td>CTR</td>\n      <td>mind</td>\n      <td>400</td>\n      <td>0.01</td>\n      <td>10.00</td>\n      <td>0.01</td>\n      <td>1</td>\n      <td>0.01</td>\n      <td>10</td>\n      <td>0.0</td>\n      <td>...</td>\n      <td>0.6308</td>\n      <td>0.0075</td>\n      <td>0.0102</td>\n      <td>0.0246</td>\n      <td>0.0101</td>\n      <td>0.0205</td>\n      <td>0.0044</td>\n      <td>0.0488</td>\n      <td>0.254292</td>\n      <td>1.564987</td>\n    </tr>\n    <tr>\n      <th>10</th>\n      <td>CTR</td>\n      <td>mind</td>\n      <td>400</td>\n      <td>0.01</td>\n      <td>100.00</td>\n      <td>0.01</td>\n      <td>1</td>\n      <td>0.01</td>\n      <td>10</td>\n      <td>0.0</td>\n      <td>...</td>\n      <td>0.6748</td>\n      <td>0.0108</td>\n      <td>0.0153</td>\n      <td>0.0432</td>\n      <td>0.0188</td>\n      <td>0.0341</td>\n      <td>0.0062</td>\n      <td>0.0865</td>\n      <td>2.629819</td>\n      <td>1.526528</td>\n    </tr>\n    <tr>\n      <th>11</th>\n      <td>CTR</td>\n      <td>mind</td>\n      <td>400</td>\n      <td>0.10</td>\n      <td>0.10</td>\n      <td>0.01</td>\n      <td>1</td>\n      <td>0.01</td>\n      <td>10</td>\n      <td>0.0</td>\n      <td>...</td>\n      <td>0.6026</td>\n      <td>0.0070</td>\n      <td>0.0111</td>\n      <td>0.0289</td>\n      <td>0.0122</td>\n      <td>0.0206</td>\n      <td>0.0041</td>\n      <td>0.0447</td>\n      <td>0.249971</td>\n      <td>1.442997</td>\n    </tr>\n    <tr>\n      <th>12</th>\n      <td>CTR</td>\n      <td>mind</td>\n      <td>400</td>\n      <td>1.00</td>\n      <td>0.10</td>\n      <td>0.01</td>\n      <td>1</td>\n      <td>0.01</td>\n      <td>10</td>\n      <td>0.0</td>\n      <td>...</td>\n      <td>0.6282</td>\n      <td>0.0081</td>\n      <td>0.0108</td>\n      <td>0.0234</td>\n      <td>0.0102</td>\n      <td>0.0215</td>\n      <td>0.0047</td>\n      <td>0.0516</td>\n      <td>0.239097</td>\n      <td>1.339586</td>\n    </tr>\n    <tr>\n      <th>13</th>\n      <td>CTR</td>\n      <td>mind</td>\n      <td>400</td>\n      <td>10.00</td>\n      <td>0.10</td>\n      <td>0.01</td>\n      <td>1</td>\n      <td>0.01</td>\n      <td>10</td>\n      <td>0.0</td>\n      <td>...</td>\n      <td>0.6890</td>\n      <td>0.0106</td>\n      <td>0.0132</td>\n      <td>0.0341</td>\n      <td>0.0146</td>\n      <td>0.0298</td>\n      <td>0.0061</td>\n      <td>0.0765</td>\n      <td>2.299484</td>\n      <td>1.309685</td>\n    </tr>\n    <tr>\n      <th>14</th>\n      <td>CTR</td>\n      <td>mind</td>\n      <td>400</td>\n      <td>10.00</td>\n      <td>0.10</td>\n      <td>0.01</td>\n      <td>1</td>\n      <td>0.01</td>\n      <td>10</td>\n      <td>0.0</td>\n      <td>...</td>\n      <td>0.7570</td>\n      <td>0.0210</td>\n      <td>0.0206</td>\n      <td>0.0557</td>\n      <td>0.0263</td>\n      <td>0.0536</td>\n      <td>0.0123</td>\n      <td>0.1268</td>\n      <td>0.269235</td>\n      <td>0.937651</td>\n    </tr>\n  </tbody>\n</table>\n<p>15 rows × 22 columns</p>\n</div>"
     },
     "execution_count": 38,
     "metadata": {},
     "output_type": "execute_result"
    }
   ],
   "source": [
    "df"
   ],
   "metadata": {
    "collapsed": false
   }
  },
  {
   "cell_type": "code",
   "execution_count": 39,
   "outputs": [],
   "source": [
    "df.to_csv('/Users/pigr/Desktop/cornac/cornac/dataset/ctr_mind.csv',header=-1,index=0)"
   ],
   "metadata": {
    "collapsed": false
   }
  },
  {
   "cell_type": "code",
   "execution_count": null,
   "outputs": [],
   "source": [],
   "metadata": {
    "collapsed": false
   }
  }
 ],
 "metadata": {
  "kernelspec": {
   "name": "python3",
   "language": "python",
   "display_name": "Python 3 (ipykernel)"
  },
  "language_info": {
   "codemirror_mode": {
    "name": "ipython",
    "version": 2
   },
   "file_extension": ".py",
   "mimetype": "text/x-python",
   "name": "python",
   "nbconvert_exporter": "python",
   "pygments_lexer": "ipython2",
   "version": "2.7.6"
  }
 },
 "nbformat": 4,
 "nbformat_minor": 0
}
